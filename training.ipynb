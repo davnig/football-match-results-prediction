{
 "cells": [
  {
   "cell_type": "code",
   "execution_count": 1387,
   "outputs": [],
   "source": [
    "import re\n",
    "\n",
    "import pandas as pd\n",
    "import torch\n",
    "import torch.nn as nn\n",
    "from sklearn.preprocessing import LabelBinarizer\n",
    "from _MatchNotFoundException import MatchNotFoundException\n",
    "from torch import optim\n",
    "from torch.utils.data import DataLoader\n",
    "from torch.utils.data import Dataset\n",
    "\n",
    "from train_utils import AverageMeter"
   ],
   "metadata": {
    "collapsed": false,
    "pycharm": {
     "name": "#%%\n"
    }
   }
  },
  {
   "cell_type": "code",
   "execution_count": 1388,
   "outputs": [],
   "source": [
    "match_cols = ['season', 'round'] + \\\n",
    "['date', 'time', 'referee', 'home_team', 'away_team', 'hom_score', 'away_score'] + \\\n",
    "['home_team_coach'] + \\\n",
    "['home_player_' + str(i) for i in range(1, 12)] + \\\n",
    "['home_substitute_' + str(i) for i in range(1, 8)] + \\\n",
    "['away_team_coach'] + \\\n",
    "['away_player_' + str(i) for i in range(1, 12)] + \\\n",
    "['away_substitute_' + str(i) for i in range(1, 8)]"
   ],
   "metadata": {
    "collapsed": false,
    "pycharm": {
     "name": "#%%\n"
    }
   }
  },
  {
   "cell_type": "code",
   "execution_count": 1389,
   "outputs": [],
   "source": [
    "train = pd.read_csv('train.csv')"
   ],
   "metadata": {
    "collapsed": false,
    "pycharm": {
     "name": "#%%\n"
    }
   }
  },
  {
   "cell_type": "code",
   "execution_count": 1390,
   "outputs": [
    {
     "data": {
      "text/plain": "      season  round  year  month  day  hour  home_score  away_score  \\\n0          0      1  2005      8   27    20           2           1   \n1          0      1  2005      8   27    18           2           1   \n2          0      1  2005      8   28    15           1           1   \n3          0      1  2005      8   28    15           1           1   \n4          0      1  2005      8   28    15           3           0   \n...      ...    ...   ...    ...  ...   ...         ...         ...   \n1307       3     22  2009      2    1    15           1           2   \n1308       3     22  2009      2    1    15           1           0   \n1309       3     22  2009      2    1    15           1           1   \n1310       3     22  2009      2    1    15           1           0   \n1311       3     22  2009      2    2    15           1           3   \n\n      home_player_Sebastien Frey  home_player_Marco Amelia  ...  \\\n0                              1                         0  ...   \n1                              0                         1  ...   \n2                              0                         0  ...   \n3                              0                         0  ...   \n4                              0                         0  ...   \n...                          ...                       ...  ...   \n1307                           0                         0  ...   \n1308                           0                         0  ...   \n1309                           0                         0  ...   \n1310                           0                         0  ...   \n1311                           0                         0  ...   \n\n      away_coach_Roberto Mancini  away_coach_Rosario Pergolizzi  \\\n0                              0                              0   \n1                              0                              0   \n2                              0                              0   \n3                              0                              0   \n4                              0                              0   \n...                          ...                            ...   \n1307                           0                              0   \n1308                           0                              0   \n1309                           0                              0   \n1310                           0                              0   \n1311                           0                              0   \n\n      away_coach_Serse Cosmi  away_coach_Silvio Baldini  \\\n0                          0                          0   \n1                          0                          0   \n2                          0                          0   \n3                          0                          0   \n4                          0                          0   \n...                      ...                        ...   \n1307                       0                          0   \n1308                       0                          0   \n1309                       0                          0   \n1310                       0                          0   \n1311                       0                          0   \n\n      away_coach_Sinisa Mihajlovic  away_coach_Stefano Colantuono  \\\n0                                0                              0   \n1                                0                              0   \n2                                0                              0   \n3                                0                              0   \n4                                0                              0   \n...                            ...                            ...   \n1307                             0                              0   \n1308                             0                              0   \n1309                             0                              0   \n1310                             0                              0   \n1311                             0                              0   \n\n      away_coach_Stefano Pioli  away_coach_Walter Alfredo Novellino  \\\n0                            0                                    1   \n1                            0                                    0   \n2                            0                                    0   \n3                            0                                    0   \n4                            0                                    0   \n...                        ...                                  ...   \n1307                         0                                    0   \n1308                         0                                    0   \n1309                         0                                    0   \n1310                         0                                    0   \n1311                         0                                    0   \n\n      away_coach_Walter Mazzarri  away_coach_Walter Zenga  \n0                              0                        0  \n1                              0                        0  \n2                              0                        0  \n3                              0                        0  \n4                              0                        0  \n...                          ...                      ...  \n1307                           0                        0  \n1308                           0                        1  \n1309                           1                        0  \n1310                           0                        0  \n1311                           0                        0  \n\n[1312 rows x 2590 columns]",
      "text/html": "<div>\n<style scoped>\n    .dataframe tbody tr th:only-of-type {\n        vertical-align: middle;\n    }\n\n    .dataframe tbody tr th {\n        vertical-align: top;\n    }\n\n    .dataframe thead th {\n        text-align: right;\n    }\n</style>\n<table border=\"1\" class=\"dataframe\">\n  <thead>\n    <tr style=\"text-align: right;\">\n      <th></th>\n      <th>season</th>\n      <th>round</th>\n      <th>year</th>\n      <th>month</th>\n      <th>day</th>\n      <th>hour</th>\n      <th>home_score</th>\n      <th>away_score</th>\n      <th>home_player_Sebastien Frey</th>\n      <th>home_player_Marco Amelia</th>\n      <th>...</th>\n      <th>away_coach_Roberto Mancini</th>\n      <th>away_coach_Rosario Pergolizzi</th>\n      <th>away_coach_Serse Cosmi</th>\n      <th>away_coach_Silvio Baldini</th>\n      <th>away_coach_Sinisa Mihajlovic</th>\n      <th>away_coach_Stefano Colantuono</th>\n      <th>away_coach_Stefano Pioli</th>\n      <th>away_coach_Walter Alfredo Novellino</th>\n      <th>away_coach_Walter Mazzarri</th>\n      <th>away_coach_Walter Zenga</th>\n    </tr>\n  </thead>\n  <tbody>\n    <tr>\n      <th>0</th>\n      <td>0</td>\n      <td>1</td>\n      <td>2005</td>\n      <td>8</td>\n      <td>27</td>\n      <td>20</td>\n      <td>2</td>\n      <td>1</td>\n      <td>1</td>\n      <td>0</td>\n      <td>...</td>\n      <td>0</td>\n      <td>0</td>\n      <td>0</td>\n      <td>0</td>\n      <td>0</td>\n      <td>0</td>\n      <td>0</td>\n      <td>1</td>\n      <td>0</td>\n      <td>0</td>\n    </tr>\n    <tr>\n      <th>1</th>\n      <td>0</td>\n      <td>1</td>\n      <td>2005</td>\n      <td>8</td>\n      <td>27</td>\n      <td>18</td>\n      <td>2</td>\n      <td>1</td>\n      <td>0</td>\n      <td>1</td>\n      <td>...</td>\n      <td>0</td>\n      <td>0</td>\n      <td>0</td>\n      <td>0</td>\n      <td>0</td>\n      <td>0</td>\n      <td>0</td>\n      <td>0</td>\n      <td>0</td>\n      <td>0</td>\n    </tr>\n    <tr>\n      <th>2</th>\n      <td>0</td>\n      <td>1</td>\n      <td>2005</td>\n      <td>8</td>\n      <td>28</td>\n      <td>15</td>\n      <td>1</td>\n      <td>1</td>\n      <td>0</td>\n      <td>0</td>\n      <td>...</td>\n      <td>0</td>\n      <td>0</td>\n      <td>0</td>\n      <td>0</td>\n      <td>0</td>\n      <td>0</td>\n      <td>0</td>\n      <td>0</td>\n      <td>0</td>\n      <td>0</td>\n    </tr>\n    <tr>\n      <th>3</th>\n      <td>0</td>\n      <td>1</td>\n      <td>2005</td>\n      <td>8</td>\n      <td>28</td>\n      <td>15</td>\n      <td>1</td>\n      <td>1</td>\n      <td>0</td>\n      <td>0</td>\n      <td>...</td>\n      <td>0</td>\n      <td>0</td>\n      <td>0</td>\n      <td>0</td>\n      <td>0</td>\n      <td>0</td>\n      <td>0</td>\n      <td>0</td>\n      <td>0</td>\n      <td>0</td>\n    </tr>\n    <tr>\n      <th>4</th>\n      <td>0</td>\n      <td>1</td>\n      <td>2005</td>\n      <td>8</td>\n      <td>28</td>\n      <td>15</td>\n      <td>3</td>\n      <td>0</td>\n      <td>0</td>\n      <td>0</td>\n      <td>...</td>\n      <td>0</td>\n      <td>0</td>\n      <td>0</td>\n      <td>0</td>\n      <td>0</td>\n      <td>0</td>\n      <td>0</td>\n      <td>0</td>\n      <td>0</td>\n      <td>0</td>\n    </tr>\n    <tr>\n      <th>...</th>\n      <td>...</td>\n      <td>...</td>\n      <td>...</td>\n      <td>...</td>\n      <td>...</td>\n      <td>...</td>\n      <td>...</td>\n      <td>...</td>\n      <td>...</td>\n      <td>...</td>\n      <td>...</td>\n      <td>...</td>\n      <td>...</td>\n      <td>...</td>\n      <td>...</td>\n      <td>...</td>\n      <td>...</td>\n      <td>...</td>\n      <td>...</td>\n      <td>...</td>\n      <td>...</td>\n    </tr>\n    <tr>\n      <th>1307</th>\n      <td>3</td>\n      <td>22</td>\n      <td>2009</td>\n      <td>2</td>\n      <td>1</td>\n      <td>15</td>\n      <td>1</td>\n      <td>2</td>\n      <td>0</td>\n      <td>0</td>\n      <td>...</td>\n      <td>0</td>\n      <td>0</td>\n      <td>0</td>\n      <td>0</td>\n      <td>0</td>\n      <td>0</td>\n      <td>0</td>\n      <td>0</td>\n      <td>0</td>\n      <td>0</td>\n    </tr>\n    <tr>\n      <th>1308</th>\n      <td>3</td>\n      <td>22</td>\n      <td>2009</td>\n      <td>2</td>\n      <td>1</td>\n      <td>15</td>\n      <td>1</td>\n      <td>0</td>\n      <td>0</td>\n      <td>0</td>\n      <td>...</td>\n      <td>0</td>\n      <td>0</td>\n      <td>0</td>\n      <td>0</td>\n      <td>0</td>\n      <td>0</td>\n      <td>0</td>\n      <td>0</td>\n      <td>0</td>\n      <td>1</td>\n    </tr>\n    <tr>\n      <th>1309</th>\n      <td>3</td>\n      <td>22</td>\n      <td>2009</td>\n      <td>2</td>\n      <td>1</td>\n      <td>15</td>\n      <td>1</td>\n      <td>1</td>\n      <td>0</td>\n      <td>0</td>\n      <td>...</td>\n      <td>0</td>\n      <td>0</td>\n      <td>0</td>\n      <td>0</td>\n      <td>0</td>\n      <td>0</td>\n      <td>0</td>\n      <td>0</td>\n      <td>1</td>\n      <td>0</td>\n    </tr>\n    <tr>\n      <th>1310</th>\n      <td>3</td>\n      <td>22</td>\n      <td>2009</td>\n      <td>2</td>\n      <td>1</td>\n      <td>15</td>\n      <td>1</td>\n      <td>0</td>\n      <td>0</td>\n      <td>0</td>\n      <td>...</td>\n      <td>0</td>\n      <td>0</td>\n      <td>0</td>\n      <td>0</td>\n      <td>0</td>\n      <td>0</td>\n      <td>0</td>\n      <td>0</td>\n      <td>0</td>\n      <td>0</td>\n    </tr>\n    <tr>\n      <th>1311</th>\n      <td>3</td>\n      <td>22</td>\n      <td>2009</td>\n      <td>2</td>\n      <td>2</td>\n      <td>15</td>\n      <td>1</td>\n      <td>3</td>\n      <td>0</td>\n      <td>0</td>\n      <td>...</td>\n      <td>0</td>\n      <td>0</td>\n      <td>0</td>\n      <td>0</td>\n      <td>0</td>\n      <td>0</td>\n      <td>0</td>\n      <td>0</td>\n      <td>0</td>\n      <td>0</td>\n    </tr>\n  </tbody>\n</table>\n<p>1312 rows × 2590 columns</p>\n</div>"
     },
     "execution_count": 1390,
     "metadata": {},
     "output_type": "execute_result"
    }
   ],
   "source": [
    "train"
   ],
   "metadata": {
    "collapsed": false,
    "pycharm": {
     "name": "#%%\n"
    }
   }
  },
  {
   "cell_type": "code",
   "execution_count": 1391,
   "outputs": [],
   "source": [
    "# utility methods\n",
    "def get_column_names_containing_str(df: pd.DataFrame, substring: str) -> list[str]:\n",
    "    return df.loc[:, df.columns.str.contains(substring)].columns.values.tolist()\n",
    "\n",
    "\n",
    "def get_team_and_historical_index_from_match_team_id(match_team_id: str) -> (str, str):\n",
    "    match_team_name = re.findall(\"\\s+\", match_team_id)[0]\n",
    "    match_team_index = re.findall(\"\\d+\", match_team_id)[0]\n",
    "    return match_team_name, match_team_index\n",
    "\n",
    "\n",
    "def decrement_round_in_season(round: int, season: int) -> (int, int):\n",
    "    if (season == 0) & (round - 1 <= 0):\n",
    "        raise Exception\n",
    "    if round - 1 > 0:\n",
    "        round -= 1\n",
    "        return round, season\n",
    "    season -= 1\n",
    "    round = 38\n",
    "    return round, season\n",
    "\n",
    "\n",
    "def get_match_by_team_season_round(df: pd.DataFrame, team: str, season: int, round: int) -> pd.DataFrame:\n",
    "    return df[((df[f'home_team_{team}'] == 1) | (df[f'away_team_{team}'] == 1)) & (df['round'] == round) & (df['season'] == season)]\n",
    "\n",
    "\n",
    "'''\n",
    "For historical retrieval we have to take into consideration several special cases:\n",
    "- query for historical matches played before a round 1 game\n",
    "SOLUTION: take data from previous season. NOTE: the scaling of the index avoids the case where historical data is queried for matches played before round < 5 in season 0 (2005-06)\n",
    "- query for historical matches played before round 1 in season 0 (2005-06)\n",
    "SOLUTION: index scaling in the definition of the torch Dataset so that the first available game comes from round 2 in season 0 thus allowing for at least 1 historical game retrieval that will be then padded\n",
    "- query for historical matches played before a round 1 game by a team that has not played the previous season\n",
    "SOLUTION:\n",
    "'''\n",
    "def get_last_n_matches_played_by_team_before_round_in_season(df: pd.DataFrame, team: str, season: int, round: int, n: int) -> pd.DataFrame:\n",
    "    \"\"\"Look in df for the last n matches played by the given team before the given round in the given season. If there aren't at least n rounds before\n",
    "    the given one, the previous season will be considered starting from round 38. If no historical data is present in the previous season for the given team\n",
    "    (for example when the team has not played in Serie A during that season), the older ones are iteratively considered. If no data is found yet, an\n",
    "    exception is thrown.\"\"\"\n",
    "    last_n_matches = pd.DataFrame()\n",
    "    current_round = round\n",
    "    current_season = season\n",
    "    for i in range(n):\n",
    "        current_round, current_season = decrement_round_in_season(current_round, current_season)\n",
    "        # print(current_round)\n",
    "        # print(current_season)\n",
    "        while True:\n",
    "            historical_match_at_current_round = get_match_by_team_season_round(df, team, current_season, current_round)\n",
    "            if len(historical_match_at_current_round) > 0:\n",
    "                break\n",
    "            else:\n",
    "                try:\n",
    "                    current_round, current_season = decrement_round_in_season(current_round, current_season)\n",
    "                except Exception:\n",
    "                    print(f'Historical match not found for team {team} in round {current_round} season {current_season}')\n",
    "                    raise MatchNotFoundException()\n",
    "        # print(historical_match_at_current_round)\n",
    "        last_n_matches = pd.concat([last_n_matches, historical_match_at_current_round])\n",
    "    return last_n_matches\n",
    "\n",
    "\n",
    "def fill_with_padding(source: pd.DataFrame):\n",
    "    if len(source) < 5:\n",
    "        initial_len = len(source)\n",
    "        padding = source.tail(1)\n",
    "        for i in range(5 - len(source)):\n",
    "            source = pd.concat([source, padding], ignore_index=True)\n",
    "        # print(f'padding applied. Initial len: {initial_len} new_len: {len(source)}')\n",
    "    return source\n",
    "\n",
    "\n",
    "def get_playing_home_team_name(row: pd.DataFrame) -> str:\n",
    "    team_columns = row.loc[:, [col for col in row.columns if col.startswith('home_team_')]]\n",
    "    team_name = team_columns.where(team_columns == 1).dropna(axis=1).columns[0].replace('home_team_', '')\n",
    "    return team_name\n",
    "\n",
    "\n",
    "def get_playing_away_team_name(row: pd.DataFrame) -> str:\n",
    "    team_columns = row.loc[:, [col for col in row.columns if col.startswith('away_team_')]]\n",
    "    team_name = team_columns.where(team_columns == 1).dropna(axis=1).columns[0].replace('away_team_', '')\n",
    "    return team_name"
   ],
   "metadata": {
    "collapsed": false,
    "pycharm": {
     "name": "#%%\n"
    }
   }
  },
  {
   "cell_type": "code",
   "execution_count": 1392,
   "outputs": [
    {
     "name": "stdout",
     "output_type": "stream",
     "text": [
      "Total number of encoded features: 2590\n"
     ]
    }
   ],
   "source": [
    "tot_num_of_feats = len(train.columns)\n",
    "print(f'Total number of encoded features: {tot_num_of_feats}')"
   ],
   "metadata": {
    "collapsed": false,
    "pycharm": {
     "name": "#%%\n"
    }
   }
  },
  {
   "cell_type": "code",
   "execution_count": 1393,
   "outputs": [
    {
     "name": "stdout",
     "output_type": "stream",
     "text": [
      "Empty DataFrame\n",
      "Columns: [season, round, year, month, day, hour, home_score, away_score, home_player_Sebastien Frey, home_player_Marco Amelia, home_player_Ferdinando Coppola, home_player_Cristiano Lupatelli, home_player_Julio Cesar, home_player_Christian Abbiati, home_player_Antonio Mirante, home_player_Morgan De Sanctis, home_player_Ivan Pelizzoli, home_player_Angelo Peruzzi, home_player_Nelson Dida, home_player_Nicola Santoni, home_player_Francesco Antonioli, home_player_Samir Handanovic, home_player_Gianluca Curci, home_player_Marco Storari, home_player_Alberto Fontana, home_player_Fabian Carini, home_player_Gianluca Berti, home_player_Vincenzo Sicignano, home_player_Luca Bucci, home_player_Andrea Campagnolo, home_player_Adriano Zancope, home_player_Nicola Pavarini, home_player_Francesco Toldo, home_player_Doni, home_player_Lorenzo Squizzi, home_player_Marco Ballotta, home_player_Mariano Andujar, home_player_Antonio Chimenti, home_player_Matteo Guardalben, home_player_Francesco Benussi, home_player_Christian Cejas, home_player_Gianluigi Buffon, home_player_Daniele Balli, home_player_Gabriele Paoletti, home_player_Marco Fortin, home_player_Bogdan Lobont, home_player_Paolo Acerbis, home_player_Matteo Sereni, home_player_Luca Castellazzi, home_player_Nicholas Caglioni, home_player_Zeljko Kalac, home_player_Federico Agliardi, home_player_Alfonso De Lucia, home_player_Alex Calderoni, home_player_Gianluca Pagliuca, home_player_Alexander Manninger, home_player_Armando Pantanelli, home_player_Ciro Polito, home_player_Emanuele Manitta, home_player_Dimitris Eleftheropoulos, home_player_Christian Puggioni, home_player_Davide Bassi, home_player_Tommaso Berni, home_player_Gennaro Iezzo, home_player_Rubinho, home_player_Albano Bizzarri, home_player_Matteo Gianello, home_player_Paolo Orlandoni, home_player_Vincenzo Marruocco, home_player_Nenad Novakovic, home_player_Emanuele Belardi, home_player_Alessio Scarpi, home_player_Fernando Muslera, home_player_Nicolas Navarro, home_player_Federico Marchetti, home_player_Juan Carrizo, home_player_Stefano Sorrentino, home_player_Artur, home_player_Mattia Cassani, home_player_Juan, home_player_Andrea Consigli, home_player_Tomas Ujfalusi, home_player_Alessandro Grandoni, home_player_Francesco Carbone, home_player_Daniele Bonera, home_player_Javier Zanetti, home_player_Jonathan Zebina, home_player_Paolo Negro, home_player_Valerio Bertotto, home_player_Alessandro Zoppetti, home_player_Massimo Oddo, home_player_Jaap Stam, home_player_Cristian Zaccardo, home_player_Cristian Zenoni, home_player_Francesco Galeoto, home_player_Christian Panucci, home_player_Marc Andre Zoro, home_player_Fabio Moro, home_player_Diego Lopez, home_player_Antonio Busce, ...]\n",
      "Index: []\n",
      "\n",
      "[0 rows x 2590 columns]\n"
     ]
    }
   ],
   "source": [
    "# test historical retrieval\n",
    "idx = 751\n",
    "x = train.iloc[[idx]]\n",
    "team = get_playing_home_team_name(x)\n",
    "juventus = get_match_by_team_season_round(train, team, 1, 38)\n",
    "print(juventus)\n",
    "last_n_games_home = get_last_n_matches_played_by_team_before_round_in_season(train, team, x['season'].values[0], x['round'].values[0], 5)\n",
    "last_n_games_away = get_last_n_matches_played_by_team_before_round_in_season(train, team, x['season'].values[0], x['round'].values[0], 5)\n",
    "# print(last_n_games_home.shape)\n",
    "# print(last_n_games_away.shape)"
   ],
   "metadata": {
    "collapsed": false,
    "pycharm": {
     "name": "#%%\n"
    }
   }
  },
  {
   "cell_type": "code",
   "execution_count": 1394,
   "outputs": [],
   "source": [
    "del train\n",
    "# del lb"
   ],
   "metadata": {
    "collapsed": false,
    "pycharm": {
     "name": "#%%\n"
    }
   }
  },
  {
   "cell_type": "markdown",
   "source": [
    "### Dataset construction\n",
    "\n",
    "We need to define a torch Dataset and torch Dataloader that will be used during training."
   ],
   "metadata": {
    "collapsed": false,
    "pycharm": {
     "name": "#%% md\n"
    }
   }
  },
  {
   "cell_type": "code",
   "execution_count": 1395,
   "outputs": [],
   "source": [
    "class SerieAFootballMatchesDataset(Dataset):\n",
    "    history_len = 5\n",
    "\n",
    "    def __init__(self, csv_file):\n",
    "        self.dataframe = pd.read_csv(csv_file)\n",
    "\n",
    "    def __len__(self) -> int:\n",
    "        return len(self.dataframe)\n",
    "\n",
    "    def __getitem__(self, idx):\n",
    "        idx = self.scale_min_idx(idx)\n",
    "        x = self.dataframe.iloc[[idx]]  # df\n",
    "        y = self.dataframe[['result_home', 'result_draw', 'result_away']].iloc[0].values\n",
    "        last_n_games_home, last_n_games_away = self.retrieve_historical_data(x)\n",
    "        last_n_games_home = fill_with_padding(last_n_games_home)\n",
    "        last_n_games_away = fill_with_padding(last_n_games_away)\n",
    "        x, x_historical_home, x_historical_away, y = self.to_tensor(x, last_n_games_home, last_n_games_away, y)\n",
    "        exp_num_of_features = len(self.dataframe.columns)\n",
    "        if x.shape[0] != exp_num_of_features:\n",
    "            self.showError(idx, x, x_historical_home, x_historical_away, y)\n",
    "        if (x_historical_home.shape[0] != 5) | (x_historical_home.shape[1] != exp_num_of_features):\n",
    "            self.showError(idx, x, x_historical_home, x_historical_away, y)\n",
    "        if (x_historical_away.shape[0] != 5) | (x_historical_away.shape[1] != exp_num_of_features):\n",
    "            self.showError(idx, x, x_historical_home, x_historical_away, y)\n",
    "        if y.shape[0] != 3:\n",
    "            self.showError(idx, x, x_historical_home, x_historical_away, y)\n",
    "        return x, x_historical_home, x_historical_away, y\n",
    "\n",
    "    def showError(self, index, x, x_historical_home, x_historical_away, y):\n",
    "        print(f'error at index (scaled): {index} (unscaled): {self.unscale_min_idx(index)}')\n",
    "        print(f'x: {x}')\n",
    "        print(f'x.shape: {x.shape}')\n",
    "        print(f'x_historical_home: {x_historical_home}')\n",
    "        print(f'x_historical_home.shape: {x_historical_home.shape}')\n",
    "        print(f'x_historical_away: {x_historical_away}')\n",
    "        print(f'x_historical_away.shape: {x_historical_away.shape}')\n",
    "        print(f'y: {y}')\n",
    "        print(f'y.shape: {y.shape}')\n",
    "\n",
    "    def scale_min_idx(self, idx: int) -> int:\n",
    "        \"\"\"Scale the given index to a range with a new minimum that allows for historical data retrieval\"\"\"\n",
    "        old_min = 0\n",
    "        old_max = len(self.dataframe)\n",
    "        '''\n",
    "        idx = 10 corresponds to the first match of the second round.\n",
    "        This ensure the retrieval of at least 1 historical match.\n",
    "        In the worst case scenario, padding will fill the other 4 historical slots.\n",
    "        '''\n",
    "        new_min = 10\n",
    "        new_max = old_max\n",
    "        return self.scale_idx(idx, old_min, old_max, new_min, new_max)\n",
    "\n",
    "    def unscale_min_idx(self, idx: int) -> int:\n",
    "        \"\"\"Apply the inverse transformation of scale_min_idx\"\"\"\n",
    "        old_min = 10\n",
    "        old_max = len(self.dataframe)\n",
    "        new_min = 0\n",
    "        new_max = old_max\n",
    "        return self.scale_idx(idx, old_min, old_max, new_min, new_max)\n",
    "\n",
    "    def scale_idx(self, idx, old_min, old_max, new_min, new_max):\n",
    "        \"\"\"Scale the given index to a new range\"\"\"\n",
    "        old_range = old_max - old_min\n",
    "        new_range = new_max - new_min\n",
    "        normalized_idx = (idx - old_min) / old_range\n",
    "        return int(round(normalized_idx * new_range + new_min))\n",
    "\n",
    "    def retrieve_historical_data(self, source: pd.DataFrame):\n",
    "        \"\"\"Retrieve historical data for home and away teams from source\"\"\"\n",
    "        last_n_games_home = get_last_n_matches_played_by_team_before_round_in_season(\n",
    "            self.dataframe, get_playing_home_team_name(source), source['season'].values[0], source['round'].values[0], self.history_len)\n",
    "        last_n_games_away = get_last_n_matches_played_by_team_before_round_in_season(\n",
    "            self.dataframe, get_playing_away_team_name(source), source['season'].values[0], source['round'].values[0], self.history_len)\n",
    "        return last_n_games_home, last_n_games_away\n",
    "\n",
    "    def to_tensor(self, x: pd.DataFrame, x_historical_home: pd.DataFrame, x_historical_away: pd.DataFrame,\n",
    "               y: list[int]):\n",
    "        x_tensor = torch.flatten(torch.tensor(x.values))\n",
    "        x_historical_home_tensor = torch.tensor(x_historical_home.values)\n",
    "        x_historical_away_tensor = torch.tensor(x_historical_away.values)\n",
    "        y_tensor = torch.tensor(y)\n",
    "        return x_tensor, x_historical_home_tensor, x_historical_away_tensor, y_tensor\n"
   ],
   "metadata": {
    "collapsed": false,
    "pycharm": {
     "name": "#%%\n"
    }
   }
  },
  {
   "cell_type": "markdown",
   "source": [
    "## Training"
   ],
   "metadata": {
    "collapsed": false,
    "pycharm": {
     "name": "#%% md\n"
    }
   }
  },
  {
   "cell_type": "code",
   "execution_count": 1396,
   "outputs": [],
   "source": [
    "class RNN(nn.Module):\n",
    "    def __init__(self, input_size, hidden_size):\n",
    "        super(RNN, self).__init__()\n",
    "        self.hidden_size = hidden_size\n",
    "        self.linear = nn.Linear(input_size + hidden_size, hidden_size)\n",
    "        self.tanh = nn.Tanh()\n",
    "\n",
    "    def forward(self, input, hidden):\n",
    "        combined = torch.cat([input, hidden], dim=0)\n",
    "        pre_hidden = self.linear(combined)\n",
    "        hidden = self.tanh(pre_hidden)\n",
    "        return hidden\n",
    "\n",
    "    def init_hidden(self, minibatch_size):\n",
    "        return torch.zeros(minibatch_size, self.hidden_size)\n",
    "\n",
    "\n",
    "class NeuralNetwork(nn.Module):\n",
    "    def __init__(self, input_size):\n",
    "        super(NeuralNetwork, self).__init__()\n",
    "        self.input_size = input_size\n",
    "        self.flatten = nn.Flatten()\n",
    "        self.layers = nn.Sequential(\n",
    "            nn.Linear(input_size, 512),\n",
    "            nn.ReLU(),\n",
    "            nn.Linear(512, 512),\n",
    "            nn.ReLU(),\n",
    "            nn.Linear(512, 3),\n",
    "            # nn.Softmax(dim=1) softmax is applied implicitly by CrossEntropyLoss\n",
    "        )\n",
    "\n",
    "    def forward(self, x):\n",
    "        # 'x' is the combination of: 'x', 'x_historical_home', 'x_historical_away'\n",
    "        # they all have size: minibatch_size x num_of_feats\n",
    "        x = self.flatten(x) # just in case x was not flattened\n",
    "        output = self.layers(x)\n",
    "        return output\n",
    "\n",
    "\n",
    "class HybridNetwork(nn.Module):\n",
    "    def __init__(self, rnn_home_model: RNN, rnn_away_model: RNN, mlp_model: NeuralNetwork):\n",
    "        super(HybridNetwork, self).__init__()\n",
    "        self.rnn_home = rnn_home_model\n",
    "        self.rnn_away = rnn_away_model\n",
    "        self.mlp = mlp_model\n",
    "\n",
    "    def forward(self, x, x_historical_home, x_historical_away):\n",
    "        # 'x' comes in as:                minibatch_size x 1 x num_of_feats\n",
    "        # 'x_historical_*' comes in as:   minibatch_size x 5 x num_of_feats\n",
    "        # 'rnn_*_hidden' will be:         minibatch_size x num_of_feats\n",
    "        batch_size = x.size(0)\n",
    "        time_seq_len = x_historical_home.size(1)\n",
    "        # RNN HOME FORWARD\n",
    "        rnn_home_hidden = self.rnn_home.init_hidden(batch_size)\n",
    "        # print(rnn_home_hidden)\n",
    "        for batch_idx in range(batch_size):\n",
    "            for history_idx in range(time_seq_len):\n",
    "                rnn_home_hidden[batch_idx] = self.rnn_home(\n",
    "                    torch.flatten(x_historical_home[batch_idx, history_idx]),\n",
    "                    rnn_home_hidden[batch_idx])\n",
    "        # RNN AWAY FORWARD\n",
    "        rnn_away_hidden = self.rnn_away.init_hidden(batch_size)\n",
    "        for batch_idx in range(batch_size):\n",
    "            for history_idx in range(time_seq_len):\n",
    "                rnn_away_hidden[batch_idx] = self.rnn_away(\n",
    "                    torch.flatten(x_historical_away[batch_idx, history_idx]),\n",
    "                    rnn_away_hidden[batch_idx])\n",
    "        # MLP FORWARD\n",
    "        # concat on the features dimension\n",
    "        x_train = torch.cat([x, rnn_home_hidden, rnn_away_hidden], dim=1)\n",
    "        y_hat = self.mlp(x_train)\n",
    "        return y_hat"
   ],
   "metadata": {
    "collapsed": false,
    "pycharm": {
     "name": "#%%\n"
    }
   }
  },
  {
   "cell_type": "code",
   "execution_count": 1397,
   "outputs": [],
   "source": [
    "def train_epoch(model: HybridNetwork, dataloader: DataLoader, optimizer: optim.Optimizer, loss_fn, loss_meter):\n",
    "    for x, x_historical_home, x_historical_away, y in dataloader:\n",
    "        optimizer.zero_grad()\n",
    "        y_hat = model(x, x_historical_home, x_historical_away)\n",
    "        loss = loss_fn(y.to(dtype=torch.float), y_hat)\n",
    "        print(f'loss: {loss}')\n",
    "        loss.backward()\n",
    "        optimizer.step()\n",
    "        loss_meter.update(val=loss.item(), n=x.shape[0])\n",
    "\n",
    "\n",
    "def train_model(model: HybridNetwork, dataloader: DataLoader, optimizer: optim.Optimizer, loss_fn, num_epochs: int):\n",
    "    model.train()\n",
    "    for epoch in range(num_epochs):\n",
    "        loss_meter = AverageMeter()\n",
    "        train_epoch(model=model, dataloader=dataloader, optimizer=optimizer, loss_fn=loss_fn, loss_meter=loss_meter)\n",
    "        print(f\"Epoch {epoch + 1} completed. Training loss: {loss_meter.avg}\")"
   ],
   "metadata": {
    "collapsed": false,
    "pycharm": {
     "name": "#%%\n"
    }
   }
  },
  {
   "cell_type": "code",
   "execution_count": 1398,
   "outputs": [],
   "source": [
    "train_dataset = SerieAFootballMatchesDataset(csv_file='train.csv')"
   ],
   "metadata": {
    "collapsed": false,
    "pycharm": {
     "name": "#%%\n"
    }
   }
  },
  {
   "cell_type": "code",
   "execution_count": 1399,
   "outputs": [],
   "source": [
    "train_dataloader = DataLoader(train_dataset, batch_size=32, shuffle=True)\n",
    "# test_dataloader = DataLoader(test_data, batch_size=64, shuffle=True)"
   ],
   "metadata": {
    "collapsed": false,
    "pycharm": {
     "name": "#%%\n"
    }
   }
  },
  {
   "cell_type": "code",
   "execution_count": 1400,
   "outputs": [],
   "source": [
    "learning_rate = 0.001\n",
    "num_epochs = 3\n",
    "hidden_size = 128\n",
    "rnn_home = RNN(input_size=tot_num_of_feats, hidden_size=hidden_size)\n",
    "rnn_away = RNN(input_size=tot_num_of_feats, hidden_size=hidden_size)\n",
    "# we have two hidden states (for home and away team) plus all training features\n",
    "nnInputSize = hidden_size * 2 + tot_num_of_feats\n",
    "mlp = NeuralNetwork(nnInputSize)\n",
    "model = HybridNetwork(rnn_home_model=rnn_home, rnn_away_model=rnn_away, mlp_model=mlp)\n",
    "cross_entropy_loss_fn = nn.CrossEntropyLoss()\n",
    "optimizer = optim.SGD(model.parameters(), lr=learning_rate)"
   ],
   "metadata": {
    "collapsed": false,
    "pycharm": {
     "name": "#%%\n"
    }
   }
  },
  {
   "cell_type": "code",
   "execution_count": 1401,
   "outputs": [
    {
     "ename": "Exception",
     "evalue": "",
     "output_type": "error",
     "traceback": [
      "\u001B[1;31m---------------------------------------------------------------------------\u001B[0m",
      "\u001B[1;31mException\u001B[0m                                 Traceback (most recent call last)",
      "Input \u001B[1;32mIn [1401]\u001B[0m, in \u001B[0;36m<cell line: 1>\u001B[1;34m()\u001B[0m\n\u001B[1;32m----> 1\u001B[0m \u001B[43mtrain_model\u001B[49m\u001B[43m(\u001B[49m\u001B[43mmodel\u001B[49m\u001B[38;5;241;43m=\u001B[39;49m\u001B[43mmodel\u001B[49m\u001B[43m,\u001B[49m\u001B[43m \u001B[49m\u001B[43mdataloader\u001B[49m\u001B[38;5;241;43m=\u001B[39;49m\u001B[43mtrain_dataloader\u001B[49m\u001B[43m,\u001B[49m\u001B[43m \u001B[49m\u001B[43moptimizer\u001B[49m\u001B[38;5;241;43m=\u001B[39;49m\u001B[43moptimizer\u001B[49m\u001B[43m,\u001B[49m\u001B[43m \u001B[49m\u001B[43mloss_fn\u001B[49m\u001B[38;5;241;43m=\u001B[39;49m\u001B[43mcross_entropy_loss_fn\u001B[49m\u001B[43m,\u001B[49m\u001B[43m \u001B[49m\u001B[43mnum_epochs\u001B[49m\u001B[38;5;241;43m=\u001B[39;49m\u001B[43mnum_epochs\u001B[49m\u001B[43m)\u001B[49m\n",
      "Input \u001B[1;32mIn [1397]\u001B[0m, in \u001B[0;36mtrain_model\u001B[1;34m(model, dataloader, optimizer, loss_fn, num_epochs)\u001B[0m\n\u001B[0;32m     14\u001B[0m \u001B[38;5;28;01mfor\u001B[39;00m epoch \u001B[38;5;129;01min\u001B[39;00m \u001B[38;5;28mrange\u001B[39m(num_epochs):\n\u001B[0;32m     15\u001B[0m     loss_meter \u001B[38;5;241m=\u001B[39m AverageMeter()\n\u001B[1;32m---> 16\u001B[0m     \u001B[43mtrain_epoch\u001B[49m\u001B[43m(\u001B[49m\u001B[43mmodel\u001B[49m\u001B[38;5;241;43m=\u001B[39;49m\u001B[43mmodel\u001B[49m\u001B[43m,\u001B[49m\u001B[43m \u001B[49m\u001B[43mdataloader\u001B[49m\u001B[38;5;241;43m=\u001B[39;49m\u001B[43mdataloader\u001B[49m\u001B[43m,\u001B[49m\u001B[43m \u001B[49m\u001B[43moptimizer\u001B[49m\u001B[38;5;241;43m=\u001B[39;49m\u001B[43moptimizer\u001B[49m\u001B[43m,\u001B[49m\u001B[43m \u001B[49m\u001B[43mloss_fn\u001B[49m\u001B[38;5;241;43m=\u001B[39;49m\u001B[43mloss_fn\u001B[49m\u001B[43m,\u001B[49m\u001B[43m \u001B[49m\u001B[43mloss_meter\u001B[49m\u001B[38;5;241;43m=\u001B[39;49m\u001B[43mloss_meter\u001B[49m\u001B[43m)\u001B[49m\n\u001B[0;32m     17\u001B[0m     \u001B[38;5;28mprint\u001B[39m(\u001B[38;5;124mf\u001B[39m\u001B[38;5;124m\"\u001B[39m\u001B[38;5;124mEpoch \u001B[39m\u001B[38;5;132;01m{\u001B[39;00mepoch \u001B[38;5;241m+\u001B[39m \u001B[38;5;241m1\u001B[39m\u001B[38;5;132;01m}\u001B[39;00m\u001B[38;5;124m completed. Training loss: \u001B[39m\u001B[38;5;132;01m{\u001B[39;00mloss_meter\u001B[38;5;241m.\u001B[39mavg\u001B[38;5;132;01m}\u001B[39;00m\u001B[38;5;124m\"\u001B[39m)\n",
      "Input \u001B[1;32mIn [1397]\u001B[0m, in \u001B[0;36mtrain_epoch\u001B[1;34m(model, dataloader, optimizer, loss_fn, loss_meter)\u001B[0m\n\u001B[0;32m      1\u001B[0m \u001B[38;5;28;01mdef\u001B[39;00m \u001B[38;5;21mtrain_epoch\u001B[39m(model: HybridNetwork, dataloader: DataLoader, optimizer: optim\u001B[38;5;241m.\u001B[39mOptimizer, loss_fn, loss_meter):\n\u001B[1;32m----> 2\u001B[0m     \u001B[38;5;28;01mfor\u001B[39;00m x, x_historical_home, x_historical_away, y \u001B[38;5;129;01min\u001B[39;00m dataloader:\n\u001B[0;32m      3\u001B[0m         optimizer\u001B[38;5;241m.\u001B[39mzero_grad()\n\u001B[0;32m      4\u001B[0m         y_hat \u001B[38;5;241m=\u001B[39m model(x, x_historical_home, x_historical_away)\n",
      "File \u001B[1;32mD:\\Windows\\Programmi\\miniconda3\\envs\\footballprediction\\lib\\site-packages\\torch\\utils\\data\\dataloader.py:530\u001B[0m, in \u001B[0;36m_BaseDataLoaderIter.__next__\u001B[1;34m(self)\u001B[0m\n\u001B[0;32m    528\u001B[0m \u001B[38;5;28;01mif\u001B[39;00m \u001B[38;5;28mself\u001B[39m\u001B[38;5;241m.\u001B[39m_sampler_iter \u001B[38;5;129;01mis\u001B[39;00m \u001B[38;5;28;01mNone\u001B[39;00m:\n\u001B[0;32m    529\u001B[0m     \u001B[38;5;28mself\u001B[39m\u001B[38;5;241m.\u001B[39m_reset()\n\u001B[1;32m--> 530\u001B[0m data \u001B[38;5;241m=\u001B[39m \u001B[38;5;28;43mself\u001B[39;49m\u001B[38;5;241;43m.\u001B[39;49m\u001B[43m_next_data\u001B[49m\u001B[43m(\u001B[49m\u001B[43m)\u001B[49m\n\u001B[0;32m    531\u001B[0m \u001B[38;5;28mself\u001B[39m\u001B[38;5;241m.\u001B[39m_num_yielded \u001B[38;5;241m+\u001B[39m\u001B[38;5;241m=\u001B[39m \u001B[38;5;241m1\u001B[39m\n\u001B[0;32m    532\u001B[0m \u001B[38;5;28;01mif\u001B[39;00m \u001B[38;5;28mself\u001B[39m\u001B[38;5;241m.\u001B[39m_dataset_kind \u001B[38;5;241m==\u001B[39m _DatasetKind\u001B[38;5;241m.\u001B[39mIterable \u001B[38;5;129;01mand\u001B[39;00m \\\n\u001B[0;32m    533\u001B[0m         \u001B[38;5;28mself\u001B[39m\u001B[38;5;241m.\u001B[39m_IterableDataset_len_called \u001B[38;5;129;01mis\u001B[39;00m \u001B[38;5;129;01mnot\u001B[39;00m \u001B[38;5;28;01mNone\u001B[39;00m \u001B[38;5;129;01mand\u001B[39;00m \\\n\u001B[0;32m    534\u001B[0m         \u001B[38;5;28mself\u001B[39m\u001B[38;5;241m.\u001B[39m_num_yielded \u001B[38;5;241m>\u001B[39m \u001B[38;5;28mself\u001B[39m\u001B[38;5;241m.\u001B[39m_IterableDataset_len_called:\n",
      "File \u001B[1;32mD:\\Windows\\Programmi\\miniconda3\\envs\\footballprediction\\lib\\site-packages\\torch\\utils\\data\\dataloader.py:570\u001B[0m, in \u001B[0;36m_SingleProcessDataLoaderIter._next_data\u001B[1;34m(self)\u001B[0m\n\u001B[0;32m    568\u001B[0m \u001B[38;5;28;01mdef\u001B[39;00m \u001B[38;5;21m_next_data\u001B[39m(\u001B[38;5;28mself\u001B[39m):\n\u001B[0;32m    569\u001B[0m     index \u001B[38;5;241m=\u001B[39m \u001B[38;5;28mself\u001B[39m\u001B[38;5;241m.\u001B[39m_next_index()  \u001B[38;5;66;03m# may raise StopIteration\u001B[39;00m\n\u001B[1;32m--> 570\u001B[0m     data \u001B[38;5;241m=\u001B[39m \u001B[38;5;28;43mself\u001B[39;49m\u001B[38;5;241;43m.\u001B[39;49m\u001B[43m_dataset_fetcher\u001B[49m\u001B[38;5;241;43m.\u001B[39;49m\u001B[43mfetch\u001B[49m\u001B[43m(\u001B[49m\u001B[43mindex\u001B[49m\u001B[43m)\u001B[49m  \u001B[38;5;66;03m# may raise StopIteration\u001B[39;00m\n\u001B[0;32m    571\u001B[0m     \u001B[38;5;28;01mif\u001B[39;00m \u001B[38;5;28mself\u001B[39m\u001B[38;5;241m.\u001B[39m_pin_memory:\n\u001B[0;32m    572\u001B[0m         data \u001B[38;5;241m=\u001B[39m _utils\u001B[38;5;241m.\u001B[39mpin_memory\u001B[38;5;241m.\u001B[39mpin_memory(data)\n",
      "File \u001B[1;32mD:\\Windows\\Programmi\\miniconda3\\envs\\footballprediction\\lib\\site-packages\\torch\\utils\\data\\_utils\\fetch.py:49\u001B[0m, in \u001B[0;36m_MapDatasetFetcher.fetch\u001B[1;34m(self, possibly_batched_index)\u001B[0m\n\u001B[0;32m     47\u001B[0m \u001B[38;5;28;01mdef\u001B[39;00m \u001B[38;5;21mfetch\u001B[39m(\u001B[38;5;28mself\u001B[39m, possibly_batched_index):\n\u001B[0;32m     48\u001B[0m     \u001B[38;5;28;01mif\u001B[39;00m \u001B[38;5;28mself\u001B[39m\u001B[38;5;241m.\u001B[39mauto_collation:\n\u001B[1;32m---> 49\u001B[0m         data \u001B[38;5;241m=\u001B[39m [\u001B[38;5;28mself\u001B[39m\u001B[38;5;241m.\u001B[39mdataset[idx] \u001B[38;5;28;01mfor\u001B[39;00m idx \u001B[38;5;129;01min\u001B[39;00m possibly_batched_index]\n\u001B[0;32m     50\u001B[0m     \u001B[38;5;28;01melse\u001B[39;00m:\n\u001B[0;32m     51\u001B[0m         data \u001B[38;5;241m=\u001B[39m \u001B[38;5;28mself\u001B[39m\u001B[38;5;241m.\u001B[39mdataset[possibly_batched_index]\n",
      "File \u001B[1;32mD:\\Windows\\Programmi\\miniconda3\\envs\\footballprediction\\lib\\site-packages\\torch\\utils\\data\\_utils\\fetch.py:49\u001B[0m, in \u001B[0;36m<listcomp>\u001B[1;34m(.0)\u001B[0m\n\u001B[0;32m     47\u001B[0m \u001B[38;5;28;01mdef\u001B[39;00m \u001B[38;5;21mfetch\u001B[39m(\u001B[38;5;28mself\u001B[39m, possibly_batched_index):\n\u001B[0;32m     48\u001B[0m     \u001B[38;5;28;01mif\u001B[39;00m \u001B[38;5;28mself\u001B[39m\u001B[38;5;241m.\u001B[39mauto_collation:\n\u001B[1;32m---> 49\u001B[0m         data \u001B[38;5;241m=\u001B[39m [\u001B[38;5;28;43mself\u001B[39;49m\u001B[38;5;241;43m.\u001B[39;49m\u001B[43mdataset\u001B[49m\u001B[43m[\u001B[49m\u001B[43midx\u001B[49m\u001B[43m]\u001B[49m \u001B[38;5;28;01mfor\u001B[39;00m idx \u001B[38;5;129;01min\u001B[39;00m possibly_batched_index]\n\u001B[0;32m     50\u001B[0m     \u001B[38;5;28;01melse\u001B[39;00m:\n\u001B[0;32m     51\u001B[0m         data \u001B[38;5;241m=\u001B[39m \u001B[38;5;28mself\u001B[39m\u001B[38;5;241m.\u001B[39mdataset[possibly_batched_index]\n",
      "Input \u001B[1;32mIn [1395]\u001B[0m, in \u001B[0;36mSerieAFootballMatchesDataset.__getitem__\u001B[1;34m(self, idx)\u001B[0m\n\u001B[0;32m     12\u001B[0m x \u001B[38;5;241m=\u001B[39m \u001B[38;5;28mself\u001B[39m\u001B[38;5;241m.\u001B[39mdataframe\u001B[38;5;241m.\u001B[39miloc[[idx]]  \u001B[38;5;66;03m# df\u001B[39;00m\n\u001B[0;32m     13\u001B[0m y \u001B[38;5;241m=\u001B[39m \u001B[38;5;28mself\u001B[39m\u001B[38;5;241m.\u001B[39mdataframe[[\u001B[38;5;124m'\u001B[39m\u001B[38;5;124mresult_home\u001B[39m\u001B[38;5;124m'\u001B[39m, \u001B[38;5;124m'\u001B[39m\u001B[38;5;124mresult_draw\u001B[39m\u001B[38;5;124m'\u001B[39m, \u001B[38;5;124m'\u001B[39m\u001B[38;5;124mresult_away\u001B[39m\u001B[38;5;124m'\u001B[39m]]\u001B[38;5;241m.\u001B[39miloc[\u001B[38;5;241m0\u001B[39m]\u001B[38;5;241m.\u001B[39mvalues\n\u001B[1;32m---> 14\u001B[0m last_n_games_home, last_n_games_away \u001B[38;5;241m=\u001B[39m \u001B[38;5;28;43mself\u001B[39;49m\u001B[38;5;241;43m.\u001B[39;49m\u001B[43mretrieve_historical_data\u001B[49m\u001B[43m(\u001B[49m\u001B[43mx\u001B[49m\u001B[43m)\u001B[49m\n\u001B[0;32m     15\u001B[0m last_n_games_home \u001B[38;5;241m=\u001B[39m fill_with_padding(last_n_games_home)\n\u001B[0;32m     16\u001B[0m last_n_games_away \u001B[38;5;241m=\u001B[39m fill_with_padding(last_n_games_away)\n",
      "Input \u001B[1;32mIn [1395]\u001B[0m, in \u001B[0;36mSerieAFootballMatchesDataset.retrieve_historical_data\u001B[1;34m(self, source)\u001B[0m\n\u001B[0;32m     68\u001B[0m \u001B[38;5;28;01mdef\u001B[39;00m \u001B[38;5;21mretrieve_historical_data\u001B[39m(\u001B[38;5;28mself\u001B[39m, source: pd\u001B[38;5;241m.\u001B[39mDataFrame):\n\u001B[0;32m     69\u001B[0m     \u001B[38;5;124;03m\"\"\"Retrieve historical data for home and away teams from source\"\"\"\u001B[39;00m\n\u001B[1;32m---> 70\u001B[0m     last_n_games_home \u001B[38;5;241m=\u001B[39m \u001B[43mget_last_n_matches_played_by_team_before_round_in_season\u001B[49m\u001B[43m(\u001B[49m\n\u001B[0;32m     71\u001B[0m \u001B[43m        \u001B[49m\u001B[38;5;28;43mself\u001B[39;49m\u001B[38;5;241;43m.\u001B[39;49m\u001B[43mdataframe\u001B[49m\u001B[43m,\u001B[49m\u001B[43m \u001B[49m\u001B[43mget_playing_home_team_name\u001B[49m\u001B[43m(\u001B[49m\u001B[43msource\u001B[49m\u001B[43m)\u001B[49m\u001B[43m,\u001B[49m\u001B[43m \u001B[49m\u001B[43msource\u001B[49m\u001B[43m[\u001B[49m\u001B[38;5;124;43m'\u001B[39;49m\u001B[38;5;124;43mseason\u001B[39;49m\u001B[38;5;124;43m'\u001B[39;49m\u001B[43m]\u001B[49m\u001B[38;5;241;43m.\u001B[39;49m\u001B[43mvalues\u001B[49m\u001B[43m[\u001B[49m\u001B[38;5;241;43m0\u001B[39;49m\u001B[43m]\u001B[49m\u001B[43m,\u001B[49m\u001B[43m \u001B[49m\u001B[43msource\u001B[49m\u001B[43m[\u001B[49m\u001B[38;5;124;43m'\u001B[39;49m\u001B[38;5;124;43mround\u001B[39;49m\u001B[38;5;124;43m'\u001B[39;49m\u001B[43m]\u001B[49m\u001B[38;5;241;43m.\u001B[39;49m\u001B[43mvalues\u001B[49m\u001B[43m[\u001B[49m\u001B[38;5;241;43m0\u001B[39;49m\u001B[43m]\u001B[49m\u001B[43m,\u001B[49m\u001B[43m \u001B[49m\u001B[38;5;28;43mself\u001B[39;49m\u001B[38;5;241;43m.\u001B[39;49m\u001B[43mhistory_len\u001B[49m\u001B[43m)\u001B[49m\n\u001B[0;32m     72\u001B[0m     last_n_games_away \u001B[38;5;241m=\u001B[39m get_last_n_matches_played_by_team_before_round_in_season(\n\u001B[0;32m     73\u001B[0m         \u001B[38;5;28mself\u001B[39m\u001B[38;5;241m.\u001B[39mdataframe, get_playing_away_team_name(source), source[\u001B[38;5;124m'\u001B[39m\u001B[38;5;124mseason\u001B[39m\u001B[38;5;124m'\u001B[39m]\u001B[38;5;241m.\u001B[39mvalues[\u001B[38;5;241m0\u001B[39m], source[\u001B[38;5;124m'\u001B[39m\u001B[38;5;124mround\u001B[39m\u001B[38;5;124m'\u001B[39m]\u001B[38;5;241m.\u001B[39mvalues[\u001B[38;5;241m0\u001B[39m], \u001B[38;5;28mself\u001B[39m\u001B[38;5;241m.\u001B[39mhistory_len)\n\u001B[0;32m     74\u001B[0m     \u001B[38;5;28;01mreturn\u001B[39;00m last_n_games_home, last_n_games_away\n",
      "Input \u001B[1;32mIn [1391]\u001B[0m, in \u001B[0;36mget_last_n_matches_played_by_team_before_round_in_season\u001B[1;34m(df, team, season, round, n)\u001B[0m\n\u001B[0;32m     43\u001B[0m current_season \u001B[38;5;241m=\u001B[39m season\n\u001B[0;32m     44\u001B[0m \u001B[38;5;28;01mfor\u001B[39;00m i \u001B[38;5;129;01min\u001B[39;00m \u001B[38;5;28mrange\u001B[39m(n):\n\u001B[1;32m---> 45\u001B[0m     current_round, current_season \u001B[38;5;241m=\u001B[39m \u001B[43mdecrement_round_in_season\u001B[49m\u001B[43m(\u001B[49m\u001B[43mcurrent_round\u001B[49m\u001B[43m,\u001B[49m\u001B[43m \u001B[49m\u001B[43mcurrent_season\u001B[49m\u001B[43m)\u001B[49m\n\u001B[0;32m     46\u001B[0m     \u001B[38;5;66;03m# print(current_round)\u001B[39;00m\n\u001B[0;32m     47\u001B[0m     \u001B[38;5;66;03m# print(current_season)\u001B[39;00m\n\u001B[0;32m     48\u001B[0m     \u001B[38;5;28;01mwhile\u001B[39;00m \u001B[38;5;28;01mTrue\u001B[39;00m:\n",
      "Input \u001B[1;32mIn [1391]\u001B[0m, in \u001B[0;36mdecrement_round_in_season\u001B[1;34m(round, season)\u001B[0m\n\u001B[0;32m     12\u001B[0m \u001B[38;5;28;01mdef\u001B[39;00m \u001B[38;5;21mdecrement_round_in_season\u001B[39m(\u001B[38;5;28mround\u001B[39m: \u001B[38;5;28mint\u001B[39m, season: \u001B[38;5;28mint\u001B[39m) \u001B[38;5;241m-\u001B[39m\u001B[38;5;241m>\u001B[39m (\u001B[38;5;28mint\u001B[39m, \u001B[38;5;28mint\u001B[39m):\n\u001B[0;32m     13\u001B[0m     \u001B[38;5;28;01mif\u001B[39;00m (season \u001B[38;5;241m==\u001B[39m \u001B[38;5;241m0\u001B[39m) \u001B[38;5;241m&\u001B[39m (\u001B[38;5;28mround\u001B[39m \u001B[38;5;241m-\u001B[39m \u001B[38;5;241m1\u001B[39m \u001B[38;5;241m<\u001B[39m\u001B[38;5;241m=\u001B[39m \u001B[38;5;241m0\u001B[39m):\n\u001B[1;32m---> 14\u001B[0m         \u001B[38;5;28;01mraise\u001B[39;00m \u001B[38;5;167;01mException\u001B[39;00m\n\u001B[0;32m     15\u001B[0m     \u001B[38;5;28;01mif\u001B[39;00m \u001B[38;5;28mround\u001B[39m \u001B[38;5;241m-\u001B[39m \u001B[38;5;241m1\u001B[39m \u001B[38;5;241m>\u001B[39m \u001B[38;5;241m0\u001B[39m:\n\u001B[0;32m     16\u001B[0m         \u001B[38;5;28mround\u001B[39m \u001B[38;5;241m-\u001B[39m\u001B[38;5;241m=\u001B[39m \u001B[38;5;241m1\u001B[39m\n",
      "\u001B[1;31mException\u001B[0m: "
     ]
    }
   ],
   "source": [
    "train_model(model=model, dataloader=train_dataloader, optimizer=optimizer, loss_fn=cross_entropy_loss_fn, num_epochs=num_epochs)"
   ],
   "metadata": {
    "collapsed": false,
    "pycharm": {
     "name": "#%%\n"
    }
   }
  },
  {
   "cell_type": "markdown",
   "source": [
    "# Missing data\n",
    "- We don't have data about new players that come to play in _Serie A_ during the course of the seasons. The model has to learn from zero context how important their contribution is for the outcome of the matches. If we were to considered multiple leagues, we could keep track of player transfers and maintain the history.\n",
    "- We don't have data about cup matches played during the course of the seasons, like _Champions League_, _Europa League_ and _Coppa Italia_. Since they are very prestigious competitions and matches are usually very competitive, teams put a lot of effort in them and therefore can then perform worse in the championship.\n",
    "- We don't have any type of player performance metric like who scored a goal, who was the assist man, red or yellow cards, goalkeeper's saves etc. so the model could face some difficulties in learning which player is important for the team."
   ],
   "metadata": {
    "collapsed": false,
    "pycharm": {
     "name": "#%% md\n"
    }
   }
  },
  {
   "cell_type": "markdown",
   "source": [],
   "metadata": {
    "collapsed": false,
    "pycharm": {
     "name": "#%% md\n"
    }
   }
  }
 ],
 "metadata": {
  "kernelspec": {
   "display_name": "Python 3",
   "language": "python",
   "name": "python3"
  },
  "language_info": {
   "codemirror_mode": {
    "name": "ipython",
    "version": 2
   },
   "file_extension": ".py",
   "mimetype": "text/x-python",
   "name": "python",
   "nbconvert_exporter": "python",
   "pygments_lexer": "ipython2",
   "version": "2.7.6"
  }
 },
 "nbformat": 4,
 "nbformat_minor": 0
}