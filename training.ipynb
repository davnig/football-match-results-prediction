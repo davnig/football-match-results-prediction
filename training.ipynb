{
 "cells": [
  {
   "cell_type": "code",
   "execution_count": 76,
   "outputs": [],
   "source": [
    "import re\n",
    "\n",
    "import pandas as pd\n",
    "import torch\n",
    "import torch.nn as nn\n",
    "from random import randrange\n",
    "from sklearn.preprocessing import LabelBinarizer\n",
    "from _MatchNotFoundException import MatchNotFoundException\n",
    "from torch import optim\n",
    "from torch.utils.data import DataLoader\n",
    "from torch.utils.data import Dataset\n",
    "\n",
    "from train_utils import AverageMeter"
   ],
   "metadata": {
    "collapsed": false,
    "pycharm": {
     "name": "#%%\n"
    }
   }
  },
  {
   "cell_type": "code",
   "execution_count": 77,
   "outputs": [],
   "source": [
    "match_cols = ['season', 'round'] + \\\n",
    "['date', 'time', 'referee', 'home_team', 'away_team', 'hom_score', 'away_score'] + \\\n",
    "['home_team_coach'] + \\\n",
    "['home_player_' + str(i) for i in range(1, 12)] + \\\n",
    "['home_substitute_' + str(i) for i in range(1, 8)] + \\\n",
    "['away_team_coach'] + \\\n",
    "['away_player_' + str(i) for i in range(1, 12)] + \\\n",
    "['away_substitute_' + str(i) for i in range(1, 8)]"
   ],
   "metadata": {
    "collapsed": false,
    "pycharm": {
     "name": "#%%\n"
    }
   }
  },
  {
   "cell_type": "code",
   "execution_count": 78,
   "outputs": [],
   "source": [
    "train = pd.read_csv('train.csv')"
   ],
   "metadata": {
    "collapsed": false,
    "pycharm": {
     "name": "#%%\n"
    }
   }
  },
  {
   "cell_type": "code",
   "execution_count": 79,
   "outputs": [
    {
     "data": {
      "text/plain": "      season  round  year  month  day  hour  home_score  away_score  \\\n0          0      1  2005      8   27    20           2           1   \n1          0      1  2005      8   27    18           2           1   \n2          0      1  2005      8   28    15           1           1   \n3          0      1  2005      8   28    15           1           1   \n4          0      1  2005      8   28    15           3           0   \n...      ...    ...   ...    ...  ...   ...         ...         ...   \n1307       3     22  2009      2    1    15           1           2   \n1308       3     22  2009      2    1    15           1           0   \n1309       3     22  2009      2    1    15           1           1   \n1310       3     22  2009      2    1    15           1           0   \n1311       3     22  2009      2    2    15           1           3   \n\n      home_player_Sebastien Frey  home_player_Marco Amelia  ...  \\\n0                              1                         0  ...   \n1                              0                         1  ...   \n2                              0                         0  ...   \n3                              0                         0  ...   \n4                              0                         0  ...   \n...                          ...                       ...  ...   \n1307                           0                         0  ...   \n1308                           0                         0  ...   \n1309                           0                         0  ...   \n1310                           0                         0  ...   \n1311                           0                         0  ...   \n\n      away_coach_Roberto Mancini  away_coach_Rosario Pergolizzi  \\\n0                              0                              0   \n1                              0                              0   \n2                              0                              0   \n3                              0                              0   \n4                              0                              0   \n...                          ...                            ...   \n1307                           0                              0   \n1308                           0                              0   \n1309                           0                              0   \n1310                           0                              0   \n1311                           0                              0   \n\n      away_coach_Serse Cosmi  away_coach_Silvio Baldini  \\\n0                          0                          0   \n1                          0                          0   \n2                          0                          0   \n3                          0                          0   \n4                          0                          0   \n...                      ...                        ...   \n1307                       0                          0   \n1308                       0                          0   \n1309                       0                          0   \n1310                       0                          0   \n1311                       0                          0   \n\n      away_coach_Sinisa Mihajlovic  away_coach_Stefano Colantuono  \\\n0                                0                              0   \n1                                0                              0   \n2                                0                              0   \n3                                0                              0   \n4                                0                              0   \n...                            ...                            ...   \n1307                             0                              0   \n1308                             0                              0   \n1309                             0                              0   \n1310                             0                              0   \n1311                             0                              0   \n\n      away_coach_Stefano Pioli  away_coach_Walter Alfredo Novellino  \\\n0                            0                                    1   \n1                            0                                    0   \n2                            0                                    0   \n3                            0                                    0   \n4                            0                                    0   \n...                        ...                                  ...   \n1307                         0                                    0   \n1308                         0                                    0   \n1309                         0                                    0   \n1310                         0                                    0   \n1311                         0                                    0   \n\n      away_coach_Walter Mazzarri  away_coach_Walter Zenga  \n0                              0                        0  \n1                              0                        0  \n2                              0                        0  \n3                              0                        0  \n4                              0                        0  \n...                          ...                      ...  \n1307                           0                        0  \n1308                           0                        1  \n1309                           1                        0  \n1310                           0                        0  \n1311                           0                        0  \n\n[1312 rows x 2590 columns]",
      "text/html": "<div>\n<style scoped>\n    .dataframe tbody tr th:only-of-type {\n        vertical-align: middle;\n    }\n\n    .dataframe tbody tr th {\n        vertical-align: top;\n    }\n\n    .dataframe thead th {\n        text-align: right;\n    }\n</style>\n<table border=\"1\" class=\"dataframe\">\n  <thead>\n    <tr style=\"text-align: right;\">\n      <th></th>\n      <th>season</th>\n      <th>round</th>\n      <th>year</th>\n      <th>month</th>\n      <th>day</th>\n      <th>hour</th>\n      <th>home_score</th>\n      <th>away_score</th>\n      <th>home_player_Sebastien Frey</th>\n      <th>home_player_Marco Amelia</th>\n      <th>...</th>\n      <th>away_coach_Roberto Mancini</th>\n      <th>away_coach_Rosario Pergolizzi</th>\n      <th>away_coach_Serse Cosmi</th>\n      <th>away_coach_Silvio Baldini</th>\n      <th>away_coach_Sinisa Mihajlovic</th>\n      <th>away_coach_Stefano Colantuono</th>\n      <th>away_coach_Stefano Pioli</th>\n      <th>away_coach_Walter Alfredo Novellino</th>\n      <th>away_coach_Walter Mazzarri</th>\n      <th>away_coach_Walter Zenga</th>\n    </tr>\n  </thead>\n  <tbody>\n    <tr>\n      <th>0</th>\n      <td>0</td>\n      <td>1</td>\n      <td>2005</td>\n      <td>8</td>\n      <td>27</td>\n      <td>20</td>\n      <td>2</td>\n      <td>1</td>\n      <td>1</td>\n      <td>0</td>\n      <td>...</td>\n      <td>0</td>\n      <td>0</td>\n      <td>0</td>\n      <td>0</td>\n      <td>0</td>\n      <td>0</td>\n      <td>0</td>\n      <td>1</td>\n      <td>0</td>\n      <td>0</td>\n    </tr>\n    <tr>\n      <th>1</th>\n      <td>0</td>\n      <td>1</td>\n      <td>2005</td>\n      <td>8</td>\n      <td>27</td>\n      <td>18</td>\n      <td>2</td>\n      <td>1</td>\n      <td>0</td>\n      <td>1</td>\n      <td>...</td>\n      <td>0</td>\n      <td>0</td>\n      <td>0</td>\n      <td>0</td>\n      <td>0</td>\n      <td>0</td>\n      <td>0</td>\n      <td>0</td>\n      <td>0</td>\n      <td>0</td>\n    </tr>\n    <tr>\n      <th>2</th>\n      <td>0</td>\n      <td>1</td>\n      <td>2005</td>\n      <td>8</td>\n      <td>28</td>\n      <td>15</td>\n      <td>1</td>\n      <td>1</td>\n      <td>0</td>\n      <td>0</td>\n      <td>...</td>\n      <td>0</td>\n      <td>0</td>\n      <td>0</td>\n      <td>0</td>\n      <td>0</td>\n      <td>0</td>\n      <td>0</td>\n      <td>0</td>\n      <td>0</td>\n      <td>0</td>\n    </tr>\n    <tr>\n      <th>3</th>\n      <td>0</td>\n      <td>1</td>\n      <td>2005</td>\n      <td>8</td>\n      <td>28</td>\n      <td>15</td>\n      <td>1</td>\n      <td>1</td>\n      <td>0</td>\n      <td>0</td>\n      <td>...</td>\n      <td>0</td>\n      <td>0</td>\n      <td>0</td>\n      <td>0</td>\n      <td>0</td>\n      <td>0</td>\n      <td>0</td>\n      <td>0</td>\n      <td>0</td>\n      <td>0</td>\n    </tr>\n    <tr>\n      <th>4</th>\n      <td>0</td>\n      <td>1</td>\n      <td>2005</td>\n      <td>8</td>\n      <td>28</td>\n      <td>15</td>\n      <td>3</td>\n      <td>0</td>\n      <td>0</td>\n      <td>0</td>\n      <td>...</td>\n      <td>0</td>\n      <td>0</td>\n      <td>0</td>\n      <td>0</td>\n      <td>0</td>\n      <td>0</td>\n      <td>0</td>\n      <td>0</td>\n      <td>0</td>\n      <td>0</td>\n    </tr>\n    <tr>\n      <th>...</th>\n      <td>...</td>\n      <td>...</td>\n      <td>...</td>\n      <td>...</td>\n      <td>...</td>\n      <td>...</td>\n      <td>...</td>\n      <td>...</td>\n      <td>...</td>\n      <td>...</td>\n      <td>...</td>\n      <td>...</td>\n      <td>...</td>\n      <td>...</td>\n      <td>...</td>\n      <td>...</td>\n      <td>...</td>\n      <td>...</td>\n      <td>...</td>\n      <td>...</td>\n      <td>...</td>\n    </tr>\n    <tr>\n      <th>1307</th>\n      <td>3</td>\n      <td>22</td>\n      <td>2009</td>\n      <td>2</td>\n      <td>1</td>\n      <td>15</td>\n      <td>1</td>\n      <td>2</td>\n      <td>0</td>\n      <td>0</td>\n      <td>...</td>\n      <td>0</td>\n      <td>0</td>\n      <td>0</td>\n      <td>0</td>\n      <td>0</td>\n      <td>0</td>\n      <td>0</td>\n      <td>0</td>\n      <td>0</td>\n      <td>0</td>\n    </tr>\n    <tr>\n      <th>1308</th>\n      <td>3</td>\n      <td>22</td>\n      <td>2009</td>\n      <td>2</td>\n      <td>1</td>\n      <td>15</td>\n      <td>1</td>\n      <td>0</td>\n      <td>0</td>\n      <td>0</td>\n      <td>...</td>\n      <td>0</td>\n      <td>0</td>\n      <td>0</td>\n      <td>0</td>\n      <td>0</td>\n      <td>0</td>\n      <td>0</td>\n      <td>0</td>\n      <td>0</td>\n      <td>1</td>\n    </tr>\n    <tr>\n      <th>1309</th>\n      <td>3</td>\n      <td>22</td>\n      <td>2009</td>\n      <td>2</td>\n      <td>1</td>\n      <td>15</td>\n      <td>1</td>\n      <td>1</td>\n      <td>0</td>\n      <td>0</td>\n      <td>...</td>\n      <td>0</td>\n      <td>0</td>\n      <td>0</td>\n      <td>0</td>\n      <td>0</td>\n      <td>0</td>\n      <td>0</td>\n      <td>0</td>\n      <td>1</td>\n      <td>0</td>\n    </tr>\n    <tr>\n      <th>1310</th>\n      <td>3</td>\n      <td>22</td>\n      <td>2009</td>\n      <td>2</td>\n      <td>1</td>\n      <td>15</td>\n      <td>1</td>\n      <td>0</td>\n      <td>0</td>\n      <td>0</td>\n      <td>...</td>\n      <td>0</td>\n      <td>0</td>\n      <td>0</td>\n      <td>0</td>\n      <td>0</td>\n      <td>0</td>\n      <td>0</td>\n      <td>0</td>\n      <td>0</td>\n      <td>0</td>\n    </tr>\n    <tr>\n      <th>1311</th>\n      <td>3</td>\n      <td>22</td>\n      <td>2009</td>\n      <td>2</td>\n      <td>2</td>\n      <td>15</td>\n      <td>1</td>\n      <td>3</td>\n      <td>0</td>\n      <td>0</td>\n      <td>...</td>\n      <td>0</td>\n      <td>0</td>\n      <td>0</td>\n      <td>0</td>\n      <td>0</td>\n      <td>0</td>\n      <td>0</td>\n      <td>0</td>\n      <td>0</td>\n      <td>0</td>\n    </tr>\n  </tbody>\n</table>\n<p>1312 rows × 2590 columns</p>\n</div>"
     },
     "execution_count": 79,
     "metadata": {},
     "output_type": "execute_result"
    }
   ],
   "source": [
    "train"
   ],
   "metadata": {
    "collapsed": false,
    "pycharm": {
     "name": "#%%\n"
    }
   }
  },
  {
   "cell_type": "code",
   "execution_count": 80,
   "outputs": [],
   "source": [
    "# utility methods\n",
    "def get_column_names_containing_str(df: pd.DataFrame, substring: str) -> list[str]:\n",
    "    return df.loc[:, df.columns.str.contains(substring)].columns.values.tolist()\n",
    "\n",
    "\n",
    "def get_team_and_historical_index_from_match_team_id(match_team_id: str) -> (str, str):\n",
    "    match_team_name = re.findall(\"\\s+\", match_team_id)[0]\n",
    "    match_team_index = re.findall(\"\\d+\", match_team_id)[0]\n",
    "    return match_team_name, match_team_index\n",
    "\n",
    "\n",
    "def get_match_by_team_season_round(df: pd.DataFrame, team: str, season: int, round: int) -> pd.DataFrame:\n",
    "    \"\"\"Get the match played by the given team in the given season and round. If the team has not played any match in that round, an empty dataframe is returned.\"\"\"\n",
    "    return df[((df[f'home_team_{team}'] == 1) | (df[f'away_team_{team}'] == 1)) & (df['round'] == round) & (df['season'] == season)]\n",
    "\n",
    "\n",
    "def get_last_n_matches_played_by_team_before_round_in_season(df: pd.DataFrame, team: str, season: int, round: int, n: int) -> pd.DataFrame:\n",
    "    \"\"\"Look in df for the last n matches played by the given team before the given round and season. A dataframe with exactly n element is returned.\n",
    "    If n matches can't be found from the current season, the previous ones are iteratively considered, until n matches are found or the end\n",
    "    of the dataframe is reached, in which case padding is applied to ensure a result size of n.\"\"\"\n",
    "\n",
    "    def exists_historical_matches_before_round_and_season(q_round: int, q_season: int) -> bool:\n",
    "        if (q_season == 0) & (q_round <= 1):\n",
    "            return False\n",
    "        return True\n",
    "\n",
    "    def decrement_round_in_season(c_round: int, c_season: int) -> (int, int):\n",
    "        if c_round - 1 > 0:\n",
    "            c_round -= 1\n",
    "            return c_round, c_season\n",
    "        c_season -= 1\n",
    "        c_round = 38\n",
    "        return c_round, c_season\n",
    "\n",
    "    # print(f'fetching historical matches for team={team} before round={round} in season={season}')\n",
    "    current_round, current_season = round, season\n",
    "    result = pd.DataFrame()\n",
    "    while True:\n",
    "        if not exists_historical_matches_before_round_and_season(current_round, current_season):\n",
    "            if result.empty:\n",
    "                raise MatchNotFoundException\n",
    "            return fill_with_padding(result)\n",
    "        current_round, current_season = decrement_round_in_season(current_round, current_season)\n",
    "        historical_match_at_current_round = get_match_by_team_season_round(df, team, current_season, current_round)\n",
    "        if not historical_match_at_current_round.empty:\n",
    "            result = pd.concat([result, historical_match_at_current_round])\n",
    "            if len(result) == n:\n",
    "                return result\n",
    "\n",
    "\n",
    "def fill_with_padding(source: pd.DataFrame):\n",
    "    if len(source) < 5:\n",
    "        initial_len = len(source)\n",
    "        padding = source.tail(1)\n",
    "        for i in range(5 - len(source)):\n",
    "            source = pd.concat([source, padding], ignore_index=True)\n",
    "        # print(f'padding applied. Initial len: {initial_len} new_len: {len(source)}')\n",
    "    return source\n",
    "\n",
    "\n",
    "def get_playing_home_team_name(row: pd.DataFrame) -> str:\n",
    "    team_columns = row.loc[:, [col for col in row.columns if col.startswith('home_team_')]]\n",
    "    team_name = team_columns.where(team_columns == 1).dropna(axis=1).columns[0].replace('home_team_', '')\n",
    "    return team_name\n",
    "\n",
    "\n",
    "def get_playing_away_team_name(row: pd.DataFrame) -> str:\n",
    "    team_columns = row.loc[:, [col for col in row.columns if col.startswith('away_team_')]]\n",
    "    team_name = team_columns.where(team_columns == 1).dropna(axis=1).columns[0].replace('away_team_', '')\n",
    "    return team_name"
   ],
   "metadata": {
    "collapsed": false,
    "pycharm": {
     "name": "#%%\n"
    }
   }
  },
  {
   "cell_type": "code",
   "execution_count": 81,
   "outputs": [
    {
     "name": "stdout",
     "output_type": "stream",
     "text": [
      "Total number of encoded features: 2590\n"
     ]
    }
   ],
   "source": [
    "tot_num_of_feats = len(train.columns)\n",
    "print(f'Total number of encoded features: {tot_num_of_feats}')"
   ],
   "metadata": {
    "collapsed": false,
    "pycharm": {
     "name": "#%%\n"
    }
   }
  },
  {
   "cell_type": "code",
   "execution_count": 82,
   "outputs": [],
   "source": [
    "# test historical retrieval\n",
    "# idx = 751\n",
    "# x = train.iloc[[idx]]\n",
    "# team = get_playing_home_team_name(x)\n",
    "# juventus = get_match_by_team_season_round(train, team, 1, 38)\n",
    "# print(juventus)\n",
    "# last_n_games_home = get_last_n_matches_played_by_team_before_round_in_season(train, team, x['season'].values[0], x['round'].values[0], 5)\n",
    "# last_n_games_away = get_last_n_matches_played_by_team_before_round_in_season(train, team, x['season'].values[0], x['round'].values[0], 5)\n",
    "# print(last_n_games_home.shape)\n",
    "# print(last_n_games_away.shape)"
   ],
   "metadata": {
    "collapsed": false,
    "pycharm": {
     "name": "#%%\n"
    }
   }
  },
  {
   "cell_type": "code",
   "execution_count": 83,
   "outputs": [],
   "source": [
    "del train\n",
    "# del lb"
   ],
   "metadata": {
    "collapsed": false,
    "pycharm": {
     "name": "#%%\n"
    }
   }
  },
  {
   "cell_type": "markdown",
   "source": [
    "### Dataset construction\n",
    "\n",
    "We need to define a torch Dataset and torch Dataloader that will be used during training."
   ],
   "metadata": {
    "collapsed": false,
    "pycharm": {
     "name": "#%% md\n"
    }
   }
  },
  {
   "cell_type": "code",
   "execution_count": 84,
   "outputs": [],
   "source": [
    "class SerieAFootballMatchesDataset(Dataset):\n",
    "    history_len = 5\n",
    "\n",
    "    def __init__(self, csv_file):\n",
    "        self.dataframe = pd.read_csv(csv_file)\n",
    "\n",
    "    def __len__(self) -> int:\n",
    "        return len(self.dataframe)\n",
    "\n",
    "    def __getitem__(self, idx):\n",
    "        idx = self.scale_min_idx(idx)\n",
    "        x = self.dataframe.iloc[[idx]]  # df\n",
    "        y = self.dataframe[['result_home', 'result_draw', 'result_away']].iloc[0].values\n",
    "        try: # if we are not able to fetch at least one historical match, then we switch to another index\n",
    "            last_n_games_home, last_n_games_away = self.retrieve_historical_data(x)\n",
    "            x, x_historical_home, x_historical_away, y = self.to_tensor(x, last_n_games_home, last_n_games_away, y)\n",
    "            exp_num_of_features = len(self.dataframe.columns)\n",
    "            if x.shape[0] != exp_num_of_features:\n",
    "                self.showError(idx, x, x_historical_home, x_historical_away, y)\n",
    "            if (x_historical_home.shape[0] != 5) | (x_historical_home.shape[1] != exp_num_of_features):\n",
    "                self.showError(idx, x, x_historical_home, x_historical_away, y)\n",
    "            if (x_historical_away.shape[0] != 5) | (x_historical_away.shape[1] != exp_num_of_features):\n",
    "                self.showError(idx, x, x_historical_home, x_historical_away, y)\n",
    "            if y.shape[0] != 3:\n",
    "                self.showError(idx, x, x_historical_home, x_historical_away, y)\n",
    "            return x, x_historical_home, x_historical_away, y\n",
    "        except MatchNotFoundException:\n",
    "            new_idx = randrange(0, len(self.dataframe))\n",
    "            print(f'MatchNotFoundException for idx={idx}, switching to idx={new_idx}')\n",
    "            return self.__getitem__(new_idx)\n",
    "\n",
    "    def showError(self, index, x, x_historical_home, x_historical_away, y):\n",
    "        print(f'error at index (scaled): {index} (unscaled): {self.unscale_min_idx(index)}')\n",
    "        print(f'x: {x}')\n",
    "        print(f'x.shape: {x.shape}')\n",
    "        print(f'x_historical_home: {x_historical_home}')\n",
    "        print(f'x_historical_home.shape: {x_historical_home.shape}')\n",
    "        print(f'x_historical_away: {x_historical_away}')\n",
    "        print(f'x_historical_away.shape: {x_historical_away.shape}')\n",
    "        print(f'y: {y}')\n",
    "        print(f'y.shape: {y.shape}')\n",
    "\n",
    "    def scale_min_idx(self, idx: int) -> int:\n",
    "        \"\"\"Scale the given index to a range with a new minimum that allows for historical data retrieval\"\"\"\n",
    "        old_min = 0\n",
    "        old_max = len(self.dataframe)\n",
    "        '''\n",
    "        idx = 10 corresponds to the first match of the second round.\n",
    "        This ensure the retrieval of at least 1 historical match.\n",
    "        In the worst case scenario, padding will fill the other 4 historical slots.\n",
    "        '''\n",
    "        new_min = 10\n",
    "        new_max = old_max\n",
    "        return self.scale_idx(idx, old_min, old_max, new_min, new_max)\n",
    "\n",
    "    def unscale_min_idx(self, idx: int) -> int:\n",
    "        \"\"\"Apply the inverse transformation of scale_min_idx\"\"\"\n",
    "        old_min = 10\n",
    "        old_max = len(self.dataframe)\n",
    "        new_min = 0\n",
    "        new_max = old_max\n",
    "        return self.scale_idx(idx, old_min, old_max, new_min, new_max)\n",
    "\n",
    "    def scale_idx(self, idx, old_min, old_max, new_min, new_max):\n",
    "        \"\"\"Scale the given index to a new range\"\"\"\n",
    "        old_range = old_max - old_min\n",
    "        new_range = new_max - new_min\n",
    "        normalized_idx = (idx - old_min) / old_range\n",
    "        return int(round(normalized_idx * new_range + new_min))\n",
    "\n",
    "    def retrieve_historical_data(self, source: pd.DataFrame):\n",
    "        \"\"\"Retrieve historical data for home and away teams from source\"\"\"\n",
    "        last_n_games_home = get_last_n_matches_played_by_team_before_round_in_season(\n",
    "            self.dataframe, get_playing_home_team_name(source), source['season'].values[0], source['round'].values[0], self.history_len)\n",
    "        last_n_games_away = get_last_n_matches_played_by_team_before_round_in_season(\n",
    "            self.dataframe, get_playing_away_team_name(source), source['season'].values[0], source['round'].values[0], self.history_len)\n",
    "        return last_n_games_home, last_n_games_away\n",
    "\n",
    "    def to_tensor(self, x: pd.DataFrame, x_historical_home: pd.DataFrame, x_historical_away: pd.DataFrame,\n",
    "               y: list[int]):\n",
    "        x_tensor = torch.flatten(torch.tensor(x.values))\n",
    "        x_historical_home_tensor = torch.tensor(x_historical_home.values)\n",
    "        x_historical_away_tensor = torch.tensor(x_historical_away.values)\n",
    "        y_tensor = torch.tensor(y)\n",
    "        return x_tensor, x_historical_home_tensor, x_historical_away_tensor, y_tensor\n"
   ],
   "metadata": {
    "collapsed": false,
    "pycharm": {
     "name": "#%%\n"
    }
   }
  },
  {
   "cell_type": "markdown",
   "source": [
    "## Training"
   ],
   "metadata": {
    "collapsed": false,
    "pycharm": {
     "name": "#%% md\n"
    }
   }
  },
  {
   "cell_type": "code",
   "execution_count": 85,
   "outputs": [],
   "source": [
    "class RNN(nn.Module):\n",
    "    def __init__(self, input_size, hidden_size):\n",
    "        super(RNN, self).__init__()\n",
    "        self.hidden_size = hidden_size\n",
    "        self.linear = nn.Linear(input_size + hidden_size, hidden_size)\n",
    "        self.tanh = nn.Tanh()\n",
    "\n",
    "    def forward(self, input, hidden):\n",
    "        combined = torch.cat([input, hidden], dim=0)\n",
    "        pre_hidden = self.linear(combined)\n",
    "        hidden = self.tanh(pre_hidden)\n",
    "        return hidden\n",
    "\n",
    "    def init_hidden(self, minibatch_size):\n",
    "        return torch.zeros(minibatch_size, self.hidden_size)\n",
    "\n",
    "\n",
    "class NeuralNetwork(nn.Module):\n",
    "    def __init__(self, input_size):\n",
    "        super(NeuralNetwork, self).__init__()\n",
    "        self.input_size = input_size\n",
    "        self.flatten = nn.Flatten()\n",
    "        self.layers = nn.Sequential(\n",
    "            nn.Linear(input_size, 512),\n",
    "            nn.ReLU(),\n",
    "            nn.Linear(512, 512),\n",
    "            nn.ReLU(),\n",
    "            nn.Linear(512, 3),\n",
    "            # nn.Softmax(dim=1) softmax is applied implicitly by CrossEntropyLoss\n",
    "        )\n",
    "\n",
    "    def forward(self, x):\n",
    "        # 'x' is the combination of: 'x', 'x_historical_home', 'x_historical_away'\n",
    "        # they all have size: minibatch_size x num_of_feats\n",
    "        x = self.flatten(x) # just in case x was not flattened\n",
    "        output = self.layers(x)\n",
    "        return output\n",
    "\n",
    "\n",
    "class HybridNetwork(nn.Module):\n",
    "    def __init__(self, rnn_home_model: RNN, rnn_away_model: RNN, mlp_model: NeuralNetwork):\n",
    "        super(HybridNetwork, self).__init__()\n",
    "        self.rnn_home = rnn_home_model\n",
    "        self.rnn_away = rnn_away_model\n",
    "        self.mlp = mlp_model\n",
    "\n",
    "    def forward(self, x, x_historical_home, x_historical_away):\n",
    "        # 'x' comes in as:                minibatch_size x 1 x num_of_feats\n",
    "        # 'x_historical_*' comes in as:   minibatch_size x 5 x num_of_feats\n",
    "        # 'rnn_*_hidden' will be:         minibatch_size x num_of_feats\n",
    "        batch_size = x.size(0)\n",
    "        time_seq_len = x_historical_home.size(1)\n",
    "        # RNN HOME FORWARD\n",
    "        rnn_home_hidden = self.rnn_home.init_hidden(batch_size)\n",
    "        # print(rnn_home_hidden)\n",
    "        for batch_idx in range(batch_size):\n",
    "            for history_idx in range(time_seq_len):\n",
    "                rnn_home_hidden[batch_idx] = self.rnn_home(\n",
    "                    torch.flatten(x_historical_home[batch_idx, history_idx]),\n",
    "                    rnn_home_hidden[batch_idx])\n",
    "        # RNN AWAY FORWARD\n",
    "        rnn_away_hidden = self.rnn_away.init_hidden(batch_size)\n",
    "        for batch_idx in range(batch_size):\n",
    "            for history_idx in range(time_seq_len):\n",
    "                rnn_away_hidden[batch_idx] = self.rnn_away(\n",
    "                    torch.flatten(x_historical_away[batch_idx, history_idx]),\n",
    "                    rnn_away_hidden[batch_idx])\n",
    "        # MLP FORWARD\n",
    "        # concat on the features dimension\n",
    "        x_train = torch.cat([x, rnn_home_hidden, rnn_away_hidden], dim=1)\n",
    "        y_hat = self.mlp(x_train)\n",
    "        return y_hat"
   ],
   "metadata": {
    "collapsed": false,
    "pycharm": {
     "name": "#%%\n"
    }
   }
  },
  {
   "cell_type": "code",
   "execution_count": 86,
   "outputs": [],
   "source": [
    "def train_epoch(model: HybridNetwork, dataloader: DataLoader, optimizer: optim.Optimizer, loss_fn, loss_meter):\n",
    "    for x, x_historical_home, x_historical_away, y in dataloader:\n",
    "        optimizer.zero_grad()\n",
    "        y_hat = model(x, x_historical_home, x_historical_away)\n",
    "        loss = loss_fn(y.to(dtype=torch.float), y_hat)\n",
    "        print(f'loss: {loss}')\n",
    "        loss.backward()\n",
    "        optimizer.step()\n",
    "        loss_meter.update(val=loss.item(), n=x.shape[0])\n",
    "\n",
    "\n",
    "def train_model(model: HybridNetwork, dataloader: DataLoader, optimizer: optim.Optimizer, loss_fn, num_epochs: int):\n",
    "    model.train()\n",
    "    for epoch in range(num_epochs):\n",
    "        loss_meter = AverageMeter()\n",
    "        train_epoch(model=model, dataloader=dataloader, optimizer=optimizer, loss_fn=loss_fn, loss_meter=loss_meter)\n",
    "        print(f\"Epoch {epoch + 1} completed. Training loss: {loss_meter.avg}\")"
   ],
   "metadata": {
    "collapsed": false,
    "pycharm": {
     "name": "#%%\n"
    }
   }
  },
  {
   "cell_type": "code",
   "execution_count": 87,
   "outputs": [],
   "source": [
    "train_dataset = SerieAFootballMatchesDataset(csv_file='train.csv')"
   ],
   "metadata": {
    "collapsed": false,
    "pycharm": {
     "name": "#%%\n"
    }
   }
  },
  {
   "cell_type": "code",
   "execution_count": 88,
   "outputs": [],
   "source": [
    "train_dataloader = DataLoader(train_dataset, batch_size=32, shuffle=True)\n",
    "# test_dataloader = DataLoader(test_data, batch_size=64, shuffle=True)"
   ],
   "metadata": {
    "collapsed": false,
    "pycharm": {
     "name": "#%%\n"
    }
   }
  },
  {
   "cell_type": "code",
   "execution_count": 89,
   "outputs": [],
   "source": [
    "learning_rate = 0.001\n",
    "num_epochs = 3\n",
    "hidden_size = 128\n",
    "rnn_home = RNN(input_size=tot_num_of_feats, hidden_size=hidden_size)\n",
    "rnn_away = RNN(input_size=tot_num_of_feats, hidden_size=hidden_size)\n",
    "# we have two hidden states (for home and away team) plus all training features\n",
    "nnInputSize = hidden_size * 2 + tot_num_of_feats\n",
    "mlp = NeuralNetwork(nnInputSize)\n",
    "model = HybridNetwork(rnn_home_model=rnn_home, rnn_away_model=rnn_away, mlp_model=mlp)\n",
    "cross_entropy_loss_fn = nn.CrossEntropyLoss()\n",
    "optimizer = optim.SGD(model.parameters(), lr=learning_rate)"
   ],
   "metadata": {
    "collapsed": false,
    "pycharm": {
     "name": "#%%\n"
    }
   }
  },
  {
   "cell_type": "code",
   "execution_count": null,
   "outputs": [],
   "source": [
    "train_model(model=model, dataloader=train_dataloader, optimizer=optimizer, loss_fn=cross_entropy_loss_fn, num_epochs=num_epochs)"
   ],
   "metadata": {
    "collapsed": false,
    "pycharm": {
     "name": "#%%\n",
     "is_executing": true
    }
   }
  },
  {
   "cell_type": "markdown",
   "source": [
    "# Missing data\n",
    "- We don't have data about new players that come to play in _Serie A_ during the course of the seasons. The model has to learn from zero context how important their contribution is for the outcome of the matches. If we were to considered multiple leagues, we could keep track of player transfers and maintain the history.\n",
    "- We don't have data about cup matches played during the course of the seasons, like _Champions League_, _Europa League_ and _Coppa Italia_. Since they are very prestigious competitions and matches are usually very competitive, teams put a lot of effort in them and therefore can then perform worse in the championship.\n",
    "- We don't have any type of player performance metric like who scored a goal, who was the assist man, red or yellow cards, goalkeeper's saves etc. so the model could face some difficulties in learning which player is important for the team."
   ],
   "metadata": {
    "collapsed": false,
    "pycharm": {
     "name": "#%% md\n"
    }
   }
  },
  {
   "cell_type": "markdown",
   "source": [],
   "metadata": {
    "collapsed": false,
    "pycharm": {
     "name": "#%% md\n"
    }
   }
  }
 ],
 "metadata": {
  "kernelspec": {
   "display_name": "Python 3",
   "language": "python",
   "name": "python3"
  },
  "language_info": {
   "codemirror_mode": {
    "name": "ipython",
    "version": 2
   },
   "file_extension": ".py",
   "mimetype": "text/x-python",
   "name": "python",
   "nbconvert_exporter": "python",
   "pygments_lexer": "ipython2",
   "version": "2.7.6"
  }
 },
 "nbformat": 4,
 "nbformat_minor": 0
}