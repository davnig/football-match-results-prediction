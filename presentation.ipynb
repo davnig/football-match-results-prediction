{
 "cells": [
  {
   "cell_type": "markdown",
   "source": [
    "# Football match results prediction\n",
    "\n",
    "The aim of this project is to develop and compare simple Deep Learning models with the ultimate goal of trying to predict the outcome of *Seria A* football matches, i.e. **home win**, **away win** or **draw**.\n",
    "In total, three models were designed:\n",
    "- A **baseline**\n",
    "- A **hybrid** model\n",
    "- A **RNN**\n",
    "\n",
    "Raw data was processed differently based on the target model. Moreover, additional experiments were made trying to reduce the number of features and thus the complexity of the models, in an effort to improve the performances. In the end, five trained models were compared.\n",
    "\n",
    "The following sections will first describe the raw data, then the models and finally the results."
   ],
   "metadata": {
    "collapsed": false,
    "pycharm": {
     "name": "#%% md\n"
    }
   }
  },
  {
   "cell_type": "markdown",
   "source": [
    "## The raw data\n",
    "The raw dataset was gathered from the official [Serie A archive](https://www.legaseriea.it/it/serie-a/archivio), where seasons ranging from 2005-06 to 2021-22 were considered. In total, 6460 matches were collected, each one described by the following features."
   ],
   "metadata": {
    "collapsed": false,
    "pycharm": {
     "name": "#%% md\n"
    }
   }
  },
  {
   "cell_type": "code",
   "execution_count": 1,
   "outputs": [
    {
     "data": {
      "text/plain": "(6460, 95)"
     },
     "execution_count": 1,
     "metadata": {},
     "output_type": "execute_result"
    }
   ],
   "source": [
    "import pandas as pd\n",
    "\n",
    "df = pd.read_csv('raw.csv')\n",
    "df.shape"
   ],
   "metadata": {
    "collapsed": false,
    "pycharm": {
     "name": "#%%\n"
    }
   }
  },
  {
   "cell_type": "code",
   "execution_count": 2,
   "outputs": [
    {
     "data": {
      "text/plain": "Index(['season', 'round', 'date', 'time', 'referee', 'home_team', 'away_team',\n       'home_score', 'away_score', 'home_gk_saves', 'away_gk_saves',\n       'home_penalties', 'away_penalties', 'home_shots', 'away_shots',\n       'home_shots_on_target', 'away_shots_on_target', 'home_shots_off_target',\n       'away_shots_off_target', 'home_shots_on_target_from_penalty_area',\n       'away_shots_on_target_from_penalty_area', 'home_fouls', 'away_fouls',\n       'home_woodwork_hits', 'away_woodwork_hits', 'home_goal_chances',\n       'away_goal_chances', 'home_assists', 'away_assists', 'home_offsides',\n       'away_offsides', 'home_corner_kicks', 'away_corner_kicks',\n       'home_yel_cards', 'away_yel_cards', 'home_red_cards', 'away_red_cards',\n       'home_crosses', 'away_crosses', 'home_long_throws', 'away_long_throws',\n       'home_attacks_from_center', 'away_attacks_from_center',\n       'home_attacks_from_right', 'away_attacks_from_right',\n       'home_attacks_from_left', 'away_attacks_from_left', 'home_coach',\n       'home_player1', 'home_player2', 'home_player3', 'home_player4',\n       'home_player5', 'home_player6', 'home_player7', 'home_player8',\n       'home_player9', 'home_player10', 'home_player11', 'home_substitute1',\n       'home_substitute2', 'home_substitute3', 'home_substitute4',\n       'home_substitute5', 'home_substitute6', 'home_substitute7',\n       'home_substitute8', 'home_substitute9', 'home_substitute10',\n       'home_substitute11', 'home_substitute12', 'away_coach', 'away_player1',\n       'away_player2', 'away_player3', 'away_player4', 'away_player5',\n       'away_player6', 'away_player7', 'away_player8', 'away_player9',\n       'away_player10', 'away_player11', 'away_substitute1',\n       'away_substitute2', 'away_substitute3', 'away_substitute4',\n       'away_substitute5', 'away_substitute6', 'away_substitute7',\n       'away_substitute8', 'away_substitute9', 'away_substitute10',\n       'away_substitute11', 'away_substitute12'],\n      dtype='object')"
     },
     "execution_count": 2,
     "metadata": {},
     "output_type": "execute_result"
    }
   ],
   "source": [
    "df.columns"
   ],
   "metadata": {
    "collapsed": false,
    "pycharm": {
     "name": "#%%\n"
    }
   }
  },
  {
   "cell_type": "code",
   "execution_count": 3,
   "outputs": [
    {
     "data": {
      "text/plain": "    season  round        date   time            referee home_team  \\\n0  2005-06      1  28/08/2005  20:30      MATTEO SIMONE  JUVENTUS   \n1  2005-06      1  28/08/2005  15:00    ROBERTO ROSETTI   REGGINA   \n2  2005-06      1  28/08/2005  15:00          ANDREA DE   UDINESE   \n3  2005-06      1  28/08/2005  15:00    PAOLO DONDARINI     LAZIO   \n4  2005-06      1  28/08/2005  15:00  PAOLO TAGLIAVENTO     INTER   \n\n      away_team home_score away_score home_gk_saves  ... away_substitute3  \\\n0  CHIEVOVERONA          1          0             0  ...           Amauri   \n1          ROMA          0          3             0  ...    Shabani Nonda   \n2        EMPOLI          1          0             4  ...    Daniele Balli   \n3       MESSINA          1          0             7  ...      Ivica Iliev   \n4       TREVISO          3          0             3  ...  Jehad Muntasser   \n\n  away_substitute4       away_substitute5 away_substitute6  \\\n0      John Mensah      Filippo Antonelli    Victor Obinna   \n1    Pietro Pipolo            Cesare Bovo  Houssine Kharja   \n2      Davide Moro          Paolo Zanetti     Andrea Raggi   \n3    Marco Storari      Filippo Cristante       Luca Fusco   \n4  Adriano Zancope  Francesco Parravicini         Anderson   \n\n     away_substitute7 away_substitute8 away_substitute9 away_substitute10  \\\n0   Giovanni Marchese                -                -                 -   \n1     Antonio Cassano                -                -                 -   \n2   Francesco Pratali                -                -                 -   \n3  Atsushi Yanagisawa                -                -                 -   \n4   Alberto Giuliatto                -                -                 -   \n\n  away_substitute11 away_substitute12  \n0                 -                 -  \n1                 -                 -  \n2                 -                 -  \n3                 -                 -  \n4                 -                 -  \n\n[5 rows x 95 columns]",
      "text/html": "<div>\n<style scoped>\n    .dataframe tbody tr th:only-of-type {\n        vertical-align: middle;\n    }\n\n    .dataframe tbody tr th {\n        vertical-align: top;\n    }\n\n    .dataframe thead th {\n        text-align: right;\n    }\n</style>\n<table border=\"1\" class=\"dataframe\">\n  <thead>\n    <tr style=\"text-align: right;\">\n      <th></th>\n      <th>season</th>\n      <th>round</th>\n      <th>date</th>\n      <th>time</th>\n      <th>referee</th>\n      <th>home_team</th>\n      <th>away_team</th>\n      <th>home_score</th>\n      <th>away_score</th>\n      <th>home_gk_saves</th>\n      <th>...</th>\n      <th>away_substitute3</th>\n      <th>away_substitute4</th>\n      <th>away_substitute5</th>\n      <th>away_substitute6</th>\n      <th>away_substitute7</th>\n      <th>away_substitute8</th>\n      <th>away_substitute9</th>\n      <th>away_substitute10</th>\n      <th>away_substitute11</th>\n      <th>away_substitute12</th>\n    </tr>\n  </thead>\n  <tbody>\n    <tr>\n      <th>0</th>\n      <td>2005-06</td>\n      <td>1</td>\n      <td>28/08/2005</td>\n      <td>20:30</td>\n      <td>MATTEO SIMONE</td>\n      <td>JUVENTUS</td>\n      <td>CHIEVOVERONA</td>\n      <td>1</td>\n      <td>0</td>\n      <td>0</td>\n      <td>...</td>\n      <td>Amauri</td>\n      <td>John Mensah</td>\n      <td>Filippo Antonelli</td>\n      <td>Victor Obinna</td>\n      <td>Giovanni Marchese</td>\n      <td>-</td>\n      <td>-</td>\n      <td>-</td>\n      <td>-</td>\n      <td>-</td>\n    </tr>\n    <tr>\n      <th>1</th>\n      <td>2005-06</td>\n      <td>1</td>\n      <td>28/08/2005</td>\n      <td>15:00</td>\n      <td>ROBERTO ROSETTI</td>\n      <td>REGGINA</td>\n      <td>ROMA</td>\n      <td>0</td>\n      <td>3</td>\n      <td>0</td>\n      <td>...</td>\n      <td>Shabani Nonda</td>\n      <td>Pietro Pipolo</td>\n      <td>Cesare Bovo</td>\n      <td>Houssine Kharja</td>\n      <td>Antonio Cassano</td>\n      <td>-</td>\n      <td>-</td>\n      <td>-</td>\n      <td>-</td>\n      <td>-</td>\n    </tr>\n    <tr>\n      <th>2</th>\n      <td>2005-06</td>\n      <td>1</td>\n      <td>28/08/2005</td>\n      <td>15:00</td>\n      <td>ANDREA DE</td>\n      <td>UDINESE</td>\n      <td>EMPOLI</td>\n      <td>1</td>\n      <td>0</td>\n      <td>4</td>\n      <td>...</td>\n      <td>Daniele Balli</td>\n      <td>Davide Moro</td>\n      <td>Paolo Zanetti</td>\n      <td>Andrea Raggi</td>\n      <td>Francesco Pratali</td>\n      <td>-</td>\n      <td>-</td>\n      <td>-</td>\n      <td>-</td>\n      <td>-</td>\n    </tr>\n    <tr>\n      <th>3</th>\n      <td>2005-06</td>\n      <td>1</td>\n      <td>28/08/2005</td>\n      <td>15:00</td>\n      <td>PAOLO DONDARINI</td>\n      <td>LAZIO</td>\n      <td>MESSINA</td>\n      <td>1</td>\n      <td>0</td>\n      <td>7</td>\n      <td>...</td>\n      <td>Ivica Iliev</td>\n      <td>Marco Storari</td>\n      <td>Filippo Cristante</td>\n      <td>Luca Fusco</td>\n      <td>Atsushi Yanagisawa</td>\n      <td>-</td>\n      <td>-</td>\n      <td>-</td>\n      <td>-</td>\n      <td>-</td>\n    </tr>\n    <tr>\n      <th>4</th>\n      <td>2005-06</td>\n      <td>1</td>\n      <td>28/08/2005</td>\n      <td>15:00</td>\n      <td>PAOLO TAGLIAVENTO</td>\n      <td>INTER</td>\n      <td>TREVISO</td>\n      <td>3</td>\n      <td>0</td>\n      <td>3</td>\n      <td>...</td>\n      <td>Jehad Muntasser</td>\n      <td>Adriano Zancope</td>\n      <td>Francesco Parravicini</td>\n      <td>Anderson</td>\n      <td>Alberto Giuliatto</td>\n      <td>-</td>\n      <td>-</td>\n      <td>-</td>\n      <td>-</td>\n      <td>-</td>\n    </tr>\n  </tbody>\n</table>\n<p>5 rows × 95 columns</p>\n</div>"
     },
     "execution_count": 3,
     "metadata": {},
     "output_type": "execute_result"
    }
   ],
   "source": [
    "df.head()"
   ],
   "metadata": {
    "collapsed": false,
    "pycharm": {
     "name": "#%%\n"
    }
   }
  },
  {
   "cell_type": "markdown",
   "source": [
    "From the dataframe head we can see that, for each match, we have data about:\n",
    "- The report (season, round, date, time, referee, teams and scores)\n",
    "- The statistics (i.e. penalties, shots, shots on target, shots off target, fouls etc.)\n",
    "- The lineups (coaches, players and substitutes)\n",
    "\n",
    "Note that we could distinguish between:\n",
    "- Pre-match data (season, round, date, time, referee, teams and lineups)\n",
    "- Post-match data (scores and statistics)\n",
    "\n",
    "As mentioned above, the raw data was processed differently based on the target model, so let's inspect them."
   ],
   "metadata": {
    "collapsed": false,
    "pycharm": {
     "name": "#%% md\n"
    }
   }
  },
  {
   "cell_type": "markdown",
   "source": [
    "## The models\n",
    "### The baseline model\n",
    "The baseline model is a simple Multi-Layer Perceptron that was built with the idea of predicting the outcome of a game just from its pre-match data. Therefore, scores and statistics features were not included in the final dataset as they are unknown at pre-match time.\n",
    "\n",
    "<br>\n",
    "<div style=\"text-align: center;\">\n",
    "    <img\n",
    "        style=\"display: block;\n",
    "               margin-left: auto;\n",
    "               margin-right: auto;\n",
    "               width: 50%;\"\n",
    "        src=\"baseline/images/baseline-architecture.png\"\n",
    "        alt=\"Baseline Architecture\">\n",
    "    </img>\n",
    "</div>\n",
    "<br>"
   ],
   "metadata": {
    "collapsed": false,
    "pycharm": {
     "name": "#%% md\n"
    }
   }
  },
  {
   "cell_type": "markdown",
   "source": [
    "#### Processing of the raw dataset\n",
    "##### Phase 1: data fixing\n",
    "Several matches with some type of issues or inconsistent data were detected and fixed in the raw dataset.\n",
    "\n",
    "*Example #1*: in several matches played by Lazio during the season 2007-08, the goalkeeper Marco Ballotta is missing in\n",
    "    the lineup, resulting in a data shift and `NULL` values in the column `away_substitute_12`.\n",
    "\n",
    "*Example #2*: in round 37, season 2005-06, MESSINA-EMPOLI was suspended at 89’ with score 1-2.\n",
    "    Then winner of the game was decided to be EMPOLI with a ‘by forfeit’ victory, i.e. 0-3 for EMPOLI.\n",
    "    Since the game was about to end when it was suspended, the on-pitch score was kept in the dataset.\n",
    "\n",
    "##### Phase 2: data manipulation\n",
    "This phase includes few important steps:\n",
    "- Substitution of `date` and `time` features with `year`, `month`, `day` and `hour`;\n",
    "- Creation of the target column named `result` based on `home_score` and `away_score`. This column contains the categorical values `home`, `away` or `draw` the model will try to predict;\n",
    "- Dropping of `home_score`, `away_score` and all the statistics features;\n",
    "- Type casting\n",
    "\n",
    "##### Phase 3: data encoding\n",
    "This phase includes the following steps:\n",
    " - Label encoding of `season` and `year` features\n",
    " - One-hot encoding of all categorical features"
   ],
   "metadata": {
    "collapsed": false,
    "pycharm": {
     "name": "#%% md\n"
    }
   }
  },
  {
   "cell_type": "code",
   "execution_count": null,
   "outputs": [],
   "source": [
    "baseline_df = pd.read_csv('baseline/data_baseline.csv')\n",
    "print(f'Final dataset shape: {baseline_df.shape}')"
   ],
   "metadata": {
    "collapsed": false,
    "pycharm": {
     "name": "#%%\n"
    }
   }
  },
  {
   "cell_type": "markdown",
   "source": [
    "### The hybrid model\n",
    "The hybrid model consists of a RNN chained with a MLP. The goal is still to predict the outcome of a game starting from its pre-match data. The idea behind this architecture is based on the assumption that the outcome of a match between two teams depends significantly on their current form. The form of a team can be viewed as its recent sequence of results versus other teams. So if the same model that was designed as a baseline (i.e. the MLP) is given an extra context about the form of the two teams facing each other, we could hopefully improve the baseline. The task of encoding the form of both teams is taken care by the RNN.\n",
    "\n",
    "More in detail, the network is fed with the data of the match whose outcome we want to predict, plus the sequence of the last 5 games played by both teams. From the two historical sequences, the 2-layers RNN should encode the form of both teams. The result is then combined with the pre-match data and fed to the MLP which outputs a result.\n",
    "\n",
    "Note that, since a historical sequence is made up of already finished matches, the data that is fed to the RNN includes all the available features, while the MLP just looks at the pre-match data and the form of both teams.\n",
    "\n",
    "<br>\n",
    "<div style=\"text-align: center;\">\n",
    "    <img\n",
    "        style=\"display: block;\n",
    "               margin-left: auto;\n",
    "               margin-right: auto;\n",
    "               width: 50%;\"\n",
    "        src=\"hybrid/images/hybrid-architecture.png\"\n",
    "        alt=\"Hybrid Architecture\">\n",
    "    </img>\n",
    "</div>\n",
    "<br>"
   ],
   "metadata": {
    "collapsed": false,
    "pycharm": {
     "name": "#%% md\n"
    }
   }
  },
  {
   "cell_type": "markdown",
   "source": [
    "#### Processing of the raw dataset\n",
    "##### Phase 1: data fixing\n",
    "See data fixing from baseline model.\n",
    "\n",
    "##### Phase 2: data manipulation\n",
    "This phase includes the following steps:\n",
    "- Substitution of `date` and `time` features with `year`, `month`, `day` and `hour`;\n",
    "- Creation of the target column `result`;\n",
    "- Creation of historic features including the data of the last 5 matches for both the home and away team;\n",
    "- Conversion from wide to long format resulting in sequences of 6 matches, 5 of which are historic;\n",
    "- Type casting;\n",
    "\n",
    "This final dataset in long format will be converted to a nested array prior to training, so that, given an observation, we not only have the data of the match whose result will be predicted but also its historic sequence.\n",
    "\n",
    "##### Phase 3: data encoding\n",
    "See data encoding from baseline model."
   ],
   "metadata": {
    "collapsed": false,
    "pycharm": {
     "name": "#%% md\n"
    }
   }
  },
  {
   "cell_type": "code",
   "execution_count": null,
   "outputs": [],
   "source": [
    "hybrid_df = pd.read_csv('hybrid/data_hybrid.csv')\n",
    "print(f'Final dataset shape: {hybrid_df.shape}')"
   ],
   "metadata": {
    "collapsed": false,
    "pycharm": {
     "name": "#%%\n"
    }
   }
  },
  {
   "cell_type": "markdown",
   "source": [
    "### The RNN model\n",
    "For the last model, a simpler approach was taken compared to the hybrid architecture. The MLP part of the network was completely removed, and the RNN was updated so that it outputs directly an outcome prediction for the current match given just the historical sequence of the last 5 games played by both teams (i.e. no pre-match data is included).\n",
    "\n",
    "\n",
    "<br>\n",
    "<div style=\"text-align: center;\">\n",
    "    <img\n",
    "        style=\"display: block;\n",
    "               margin-left: auto;\n",
    "               margin-right: auto;\n",
    "               width: 50%;\"\n",
    "        src=\"rnn/images/rnn-architecture.png\"\n",
    "        alt=\"RNN Architecture\">\n",
    "    </img>\n",
    "</div>\n",
    "<br>"
   ],
   "metadata": {
    "collapsed": false,
    "pycharm": {
     "name": "#%% md\n"
    }
   }
  },
  {
   "cell_type": "markdown",
   "source": [
    "#### Processing of the raw dataset\n",
    "##### Phase 1: data fixing\n",
    "See data fixing from baseline model.\n",
    "\n",
    "##### Phase 2: data manipulation\n",
    "In this phase, the same steps of the hybrid model data manipulation were taken, except for just one difference: prior to the wide-to-long conversion, the non-historical features were discarded, hence sequences of 5 matches were generated at the end.\n",
    "\n",
    "##### Phase 3: data encoding\n",
    "See data encoding from baseline model."
   ],
   "metadata": {
    "collapsed": false,
    "pycharm": {
     "name": "#%% md\n"
    }
   }
  },
  {
   "cell_type": "code",
   "execution_count": null,
   "outputs": [],
   "source": [
    "rnn_df = pd.read_csv('rnn/data_rnn.csv')\n",
    "print(f'Final dataset shape: {rnn_df.shape}')"
   ],
   "metadata": {
    "collapsed": false,
    "pycharm": {
     "name": "#%%\n"
    }
   }
  },
  {
   "cell_type": "markdown",
   "source": [],
   "metadata": {
    "collapsed": false,
    "pycharm": {
     "name": "#%% md\n"
    }
   }
  },
  {
   "cell_type": "markdown",
   "source": [
    "## Training\n",
    "\n",
    "The 3 models were trained with the following configuration and hyperparameters:\n",
    "- Typical 80/20/20 ratio to split the dataset into train/validation/test;\n",
    "- SGD as optimization method;\n",
    "- Early stopping with a maximum of 200 epochs to avoid overfitting;\n",
    "- A learning rate of 0.001 and a batch size of 32;\n",
    "\n",
    "Moreover, as mentioned at the beginning, experiments with feature selection were made in an effort to improve the performances of the hybrid and rnn models. Note that the high dimensionality of the dataset is mostly due to the one-hot encoding of players, coaches, referees and teams. Therefore, two additional models were trained without those features. This was done based on the assumption that knowing for example the name of the two teams facing each other does not make a greater contribution to the prediction of the outcome if the network already knows that the home team is in much better form with respect to the away team. On the contrary, some players are game changers and knowing they are going to participate in a match is important. Also, when a team is assigned a new coach, it usually does not perform well in the following matches. Despite this, the aforementioned features were still discarded to see if they mostly bring noise.\n",
    "\n",
    "The following table sums up all the trained models:\n",
    "\n",
    "| Model    | Training features                       | # of features |\n",
    "|----------|-----------------------------------------|---------------|\n",
    "| Baseline | all                                     | 8440          |\n",
    "| Hybrid A | all                                     | 9009          |\n",
    "| RNN A    | all                                     | 8826          |\n",
    "| Hybrid B | no players, coaches, referees and teams | 95            |\n",
    "| RNN B    | no players, coaches, referees and teams | 95            |"
   ],
   "metadata": {
    "collapsed": false,
    "pycharm": {
     "name": "#%% md\n"
    }
   }
  },
  {
   "cell_type": "markdown",
   "source": [
    "## Results\n",
    "\n",
    "Ten training runs were performed with each model. The below graphs show the results. Different colors were used to discriminate different training runs."
   ],
   "metadata": {
    "collapsed": false,
    "pycharm": {
     "name": "#%% md\n"
    }
   }
  },
  {
   "cell_type": "markdown",
   "source": [
    "### Baseline\n",
    "\n",
    "Hyperparameters:\n",
    "- Learning rate: 0.001\n",
    "- Batch size: 32\n",
    "- Early stopping with 200 epochs limit\n",
    "\n",
    "<img src=\"baseline/images/results/results.png\">"
   ],
   "metadata": {
    "collapsed": false,
    "pycharm": {
     "name": "#%% md\n"
    }
   }
  },
  {
   "cell_type": "markdown",
   "source": [
    "### Hybrid model A\n",
    "\n",
    "Hyperparameters:\n",
    "- Learning rate: 0.001\n",
    "- Batch size: 32\n",
    "- Early stopping with 200 epochs limit\n",
    "\n",
    "<br>\n",
    "<img src=\"hybrid/images/results/results_A.png\">"
   ],
   "metadata": {
    "collapsed": false,
    "pycharm": {
     "name": "#%% md\n"
    }
   }
  },
  {
   "cell_type": "markdown",
   "source": [
    "### Hybrid model B\n",
    "\n",
    "Hyperparameters:\n",
    "- Learning rate: 0.001\n",
    "- Batch size: 32\n",
    "- Early stopping with 200 epochs limit\n",
    "\n",
    "<img src=\"hybrid/images/results/results_B.png\">"
   ],
   "metadata": {
    "collapsed": false,
    "pycharm": {
     "name": "#%% md\n"
    }
   }
  },
  {
   "cell_type": "markdown",
   "source": [
    "### RNN model A\n",
    "\n",
    "Hyperparameters:\n",
    "- Learning rate: 0.001\n",
    "- Batch size: 16\n",
    "- Early stopping with 200 epochs limit\n",
    "\n",
    "<br>\n",
    "<img src=\"rnn/images/results/results_A.png\">"
   ],
   "metadata": {
    "collapsed": false,
    "pycharm": {
     "name": "#%% md\n"
    }
   }
  },
  {
   "cell_type": "markdown",
   "source": [
    "### RNN model B\n",
    "\n",
    "Hyperparameters:\n",
    "- Learning rate: 0.001\n",
    "- Batch size: 32\n",
    "- Early stopping with 200 epochs limit\n",
    "\n",
    "<br>\n",
    "<img src=\"rnn/images/results/results_B.png\">"
   ],
   "metadata": {
    "collapsed": false,
    "pycharm": {
     "name": "#%% md\n"
    }
   }
  },
  {
   "cell_type": "markdown",
   "source": [
    "### Comparison\n",
    "The following graphs compare the performances of all five models. Different colors were used for different models."
   ],
   "metadata": {
    "collapsed": false,
    "pycharm": {
     "name": "#%% md\n"
    }
   }
  },
  {
   "cell_type": "markdown",
   "source": [
    "#### Accuracy on validation set of all models\n",
    "| Model    | Color                                 |\n",
    "|----------|---------------------------------------|\n",
    "| Baseline | <font color=#6d6d6d>Gray</font>       |\n",
    "| Hybrid A | <font color=#ed0602>Red</font>        |\n",
    "| RNN A    | <font color=#0fb503>Green</font>      |\n",
    "| Hybrid B | <font color=#1ed9ff>Light Blue</font> |\n",
    "| RNN B    | <font color=#ac1eff>Violet</font>     |\n",
    "<img src=\"images/results/val_acc.png\">"
   ],
   "metadata": {
    "collapsed": false,
    "pycharm": {
     "name": "#%% md\n"
    }
   }
  },
  {
   "cell_type": "markdown",
   "source": [
    "#### Loss on validation set of all models\n",
    "| Model    | Color                                 |\n",
    "|----------|---------------------------------------|\n",
    "| Baseline | <font color=#6d6d6d>Gray</font>       |\n",
    "| Hybrid A | <font color=#ed0602>Red</font>        |\n",
    "| RNN A    | <font color=#0fb503>Green</font>      |\n",
    "| Hybrid B | <font color=#1ed9ff>Light Blue</font> |\n",
    "| RNN B    | <font color=#ac1eff>Violet</font>     |\n",
    "<img src=\"images/results/val_loss.png\">"
   ],
   "metadata": {
    "collapsed": false,
    "pycharm": {
     "name": "#%% md\n"
    }
   }
  },
  {
   "cell_type": "markdown",
   "source": [
    "#### Loss on training set of all models\n",
    "\n",
    "| Model    | Color                                 |\n",
    "|----------|---------------------------------------|\n",
    "| Baseline | <font color=#6d6d6d>Gray</font>       |\n",
    "| Hybrid A | <font color=#ed0602>Red</font>        |\n",
    "| RNN A    | <font color=#0fb503>Green</font>      |\n",
    "| Hybrid B | <font color=#1ed9ff>Light Blue</font> |\n",
    "| RNN B    | <font color=#ac1eff>Violet</font>     |\n",
    "\n",
    "<br>\n",
    "<img src=\"images/results/train_loss.png\">"
   ],
   "metadata": {
    "collapsed": false,
    "pycharm": {
     "name": "#%% md\n"
    }
   }
  },
  {
   "cell_type": "markdown",
   "source": [
    "#### Accuracy and loss on test set of all models\n",
    "\n",
    "| Model    | Color                                 |\n",
    "|----------|---------------------------------------|\n",
    "| Baseline | <font color=#6d6d6d>Gray</font>       |\n",
    "| Hybrid A | <font color=#ed0602>Red</font>        |\n",
    "| RNN A    | <font color=#0fb503>Green</font>      |\n",
    "| Hybrid B | <font color=#1ed9ff>Light Blue</font> |\n",
    "| RNN B    | <font color=#ac1eff>Violet</font>     |\n",
    "\n",
    "<br>\n",
    "<img src=\"images/results/test_acc_loss.png\">\n",
    "<br>\n",
    "<br>\n",
    "\n",
    "| Model    | Avg. test accuracy | Avg. test loss (C.E.) |\n",
    "|----------|--------------------|-----------------------|\n",
    "| Baseline | 67.42 %            | 0.8900                |\n",
    "| Hybrid A | 71.12 %            | 0.8594                |\n",
    "| RNN A    | 56.14 %            | 0.9745                |\n",
    "| Hybrid B | 59.36 %            | 0.9675                |\n",
    "| RNN B    | 53.35 %            | 1.0034                |"
   ],
   "metadata": {
    "collapsed": false,
    "pycharm": {
     "name": "#%% md\n"
    }
   }
  },
  {
   "cell_type": "markdown",
   "source": [
    "## Conclusion\n",
    "\n",
    "...\n",
    "\n",
    "The models have large room for improvements. These are some suggestions:\n",
    "- Deep embedding could be used when working with players, coaches, teams and referees. This would let the network learn a more compact representation for those entities, hopefully with a proper similarity measure\n",
    "- Additional RNN layers could be introduced also in the HYBRID models in order to\n",
    "- LSTM or GNU could be used instead of simple RNN units\n",
    "- More data, in particular: data from Champions League or other important competitions with mid-week matches, etc.\n",
    "- More features, in particular: more data about the performance of each player, counting rest days between matches, etc."
   ],
   "metadata": {
    "collapsed": false,
    "pycharm": {
     "name": "#%% md\n"
    }
   }
  },
  {
   "cell_type": "markdown",
   "source": [
    "### Baseline\n",
    "\n",
    "Hyperparameters:\n",
    "- Learning rate: 0.001\n",
    "- Batch size: 32\n",
    "- Early stopping with 200 epochs limit\n",
    "\n",
    "<img src=\"baseline/images/results/results.png\">"
   ],
   "metadata": {
    "collapsed": false,
    "pycharm": {
     "name": "#%% md\n"
    }
   }
  },
  {
   "cell_type": "markdown",
   "source": [
    "### Hybrid model A\n",
    "\n",
    "Hyperparameters:\n",
    "- Learning rate: 0.001\n",
    "- Batch size: 32\n",
    "- Early stopping with 200 epochs limit\n",
    "\n",
    "<br>\n",
    "<img src=\"hybrid/images/results/results_A.png\">"
   ],
   "metadata": {
    "collapsed": false,
    "pycharm": {
     "name": "#%% md\n"
    }
   }
  },
  {
   "cell_type": "markdown",
   "source": [
    "### Hybrid model B\n",
    "\n",
    "Hyperparameters:\n",
    "- Learning rate: 0.001\n",
    "- Batch size: 32\n",
    "- Early stopping with 200 epochs limit\n",
    "\n",
    "<img src=\"hybrid/images/results/results_B.png\">"
   ],
   "metadata": {
    "collapsed": false,
    "pycharm": {
     "name": "#%% md\n"
    }
   }
  },
  {
   "cell_type": "markdown",
   "source": [
    "### RNN model A\n",
    "\n",
    "Hyperparameters:\n",
    "- Learning rate: 0.001\n",
    "- Batch size: 16\n",
    "- Early stopping with 200 epochs limit\n",
    "\n",
    "<br>\n",
    "<img src=\"rnn/images/results/results_A.png\">"
   ],
   "metadata": {
    "collapsed": false,
    "pycharm": {
     "name": "#%% md\n"
    }
   }
  },
  {
   "cell_type": "markdown",
   "source": [
    "### RNN model B\n",
    "\n",
    "Hyperparameters:\n",
    "- Learning rate: 0.001\n",
    "- Batch size: 32\n",
    "- Early stopping with 200 epochs limit\n",
    "\n",
    "<br>\n",
    "<img src=\"rnn/images/results/results_B.png\">"
   ],
   "metadata": {
    "collapsed": false,
    "pycharm": {
     "name": "#%% md\n"
    }
   }
  },
  {
   "cell_type": "markdown",
   "source": [
    "### Comparison\n",
    "The following graphs compare the performances of all five models. Different colors were used for different models."
   ],
   "metadata": {
    "collapsed": false,
    "pycharm": {
     "name": "#%% md\n"
    }
   }
  },
  {
   "cell_type": "markdown",
   "source": [
    "#### Accuracy on validation set of all models\n",
    "| Model    | Color                                 |\n",
    "|----------|---------------------------------------|\n",
    "| Baseline | <font color=#6d6d6d>Gray</font>       |\n",
    "| Hybrid A | <font color=#ed0602>Red</font>        |\n",
    "| RNN A    | <font color=#0fb503>Green</font>      |\n",
    "| Hybrid B | <font color=#1ed9ff>Light Blue</font> |\n",
    "| RNN B    | <font color=#ac1eff>Violet</font>     |\n",
    "<img src=\"images/results/val_acc.png\">"
   ],
   "metadata": {
    "collapsed": false,
    "pycharm": {
     "name": "#%% md\n"
    }
   }
  },
  {
   "cell_type": "markdown",
   "source": [
    "#### Loss on validation set of all models\n",
    "| Model    | Color                                 |\n",
    "|----------|---------------------------------------|\n",
    "| Baseline | <font color=#6d6d6d>Gray</font>       |\n",
    "| Hybrid A | <font color=#ed0602>Red</font>        |\n",
    "| RNN A    | <font color=#0fb503>Green</font>      |\n",
    "| Hybrid B | <font color=#1ed9ff>Light Blue</font> |\n",
    "| RNN B    | <font color=#ac1eff>Violet</font>     |\n",
    "<img src=\"images/results/val_loss.png\">"
   ],
   "metadata": {
    "collapsed": false,
    "pycharm": {
     "name": "#%% md\n"
    }
   }
  },
  {
   "cell_type": "markdown",
   "source": [
    "#### Loss on training set of all models\n",
    "\n",
    "| Model    | Color                                 |\n",
    "|----------|---------------------------------------|\n",
    "| Baseline | <font color=#6d6d6d>Gray</font>       |\n",
    "| Hybrid A | <font color=#ed0602>Red</font>        |\n",
    "| RNN A    | <font color=#0fb503>Green</font>      |\n",
    "| Hybrid B | <font color=#1ed9ff>Light Blue</font> |\n",
    "| RNN B    | <font color=#ac1eff>Violet</font>     |\n",
    "\n",
    "<br>\n",
    "<img src=\"images/results/train_loss.png\">"
   ],
   "metadata": {
    "collapsed": false,
    "pycharm": {
     "name": "#%% md\n"
    }
   }
  },
  {
   "cell_type": "markdown",
   "source": [
    "#### Accuracy and loss on test set of all models\n",
    "\n",
    "| Model    | Color                                 |\n",
    "|----------|---------------------------------------|\n",
    "| Baseline | <font color=#6d6d6d>Gray</font>       |\n",
    "| Hybrid A | <font color=#ed0602>Red</font>        |\n",
    "| RNN A    | <font color=#0fb503>Green</font>      |\n",
    "| Hybrid B | <font color=#1ed9ff>Light Blue</font> |\n",
    "| RNN B    | <font color=#ac1eff>Violet</font>     |\n",
    "\n",
    "<br>\n",
    "<img src=\"images/results/test_acc_loss.png\">\n",
    "<br>\n",
    "<br>\n",
    "\n",
    "| Model    | Avg. test accuracy | Avg. test loss (C.E.) |\n",
    "|----------|--------------------|-----------------------|\n",
    "| Baseline | 67.42 %            | 0.8900                |\n",
    "| Hybrid A | 71.12 %            | 0.8594                |\n",
    "| RNN A    | 56.14 %            | 0.9745                |\n",
    "| Hybrid B | 59.36 %            | 0.9675                |\n",
    "| RNN B    | 53.35 %            | 1.0034                |"
   ],
   "metadata": {
    "collapsed": false,
    "pycharm": {
     "name": "#%% md\n"
    }
   }
  },
  {
   "cell_type": "markdown",
   "source": [
    "## Conclusion\n",
    "\n",
    "...\n",
    "\n",
    "The models have large room for improvements. These are some suggestions:\n",
    "- Deep embedding could be used when working with players, coaches, teams and referees. This would let the network learn a more compact representation for those entities, hopefully with a proper similarity measure\n",
    "- Additional RNN layers could be introduced also in the HYBRID models in order to\n",
    "- LSTM or GNU could be used instead of simple RNN units\n",
    "- More data, in particular: data from Champions League or other important competitions with mid-week matches, etc.\n",
    "- More features, in particular: more data about the performance of each player, counting rest days between matches, etc."
   ],
   "metadata": {
    "collapsed": false,
    "pycharm": {
     "name": "#%% md\n"
    }
   }
  }
 ],
 "metadata": {
  "kernelspec": {
   "display_name": "Python 3",
   "language": "python",
   "name": "python3"
  },
  "language_info": {
   "codemirror_mode": {
    "name": "ipython",
    "version": 2
   },
   "file_extension": ".py",
   "mimetype": "text/x-python",
   "name": "python",
   "nbconvert_exporter": "python",
   "pygments_lexer": "ipython2",
   "version": "2.7.6"
  }
 },
 "nbformat": 4,
 "nbformat_minor": 0
}