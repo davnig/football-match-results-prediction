{
 "cells": [
  {
   "cell_type": "markdown",
   "source": [
    "# Football match results prediction\n",
    "\n",
    "The aim of this project is to develop and compare simple Deep Learning models with the ultimate goal of trying to predict the outcomes of *Seria A* football matches, i.e. **home win**, **away win** or **draw**.\n",
    "In total, three models were designed:\n",
    "- A **baseline**\n",
    "- A **hybrid** model\n",
    "- A **RNN**\n",
    "\n",
    "Raw data was processed differently based on the target model. Moreover, for each model, two version of processed dataset were generated: the first one including all the available features, the second one just few of them. Each model was trained on both versions of the processed dataset resulting in a total of six trained models.\n",
    "\n",
    "The following sections will first describe the raw data, then the models and how the raw data was processed for their training."
   ],
   "metadata": {
    "collapsed": false,
    "pycharm": {
     "name": "#%% md\n"
    }
   }
  },
  {
   "cell_type": "markdown",
   "source": [
    "## The raw data\n",
    "The raw dataset was gathered from the official [Serie A archive](https://www.legaseriea.it/it/serie-a/archivio). Matches from season 2005-06 to the last one, 2021-22, were considered, each one described by the following features:"
   ],
   "metadata": {
    "collapsed": false,
    "pycharm": {
     "name": "#%% md\n"
    }
   }
  },
  {
   "cell_type": "code",
   "execution_count": 43,
   "outputs": [
    {
     "data": {
      "text/plain": "(6460, 95)"
     },
     "execution_count": 43,
     "metadata": {},
     "output_type": "execute_result"
    }
   ],
   "source": [
    "import pandas as pd\n",
    "\n",
    "df = pd.read_csv('raw.csv')\n",
    "df.shape"
   ],
   "metadata": {
    "collapsed": false,
    "pycharm": {
     "name": "#%%\n"
    }
   }
  },
  {
   "cell_type": "code",
   "execution_count": 44,
   "outputs": [
    {
     "data": {
      "text/plain": "Index(['season', 'round', 'date', 'time', 'referee', 'home_team', 'away_team',\n       'home_score', 'away_score', 'home_gk_saves', 'away_gk_saves',\n       'home_penalties', 'away_penalties', 'home_shots', 'away_shots',\n       'home_shots_on_target', 'away_shots_on_target', 'home_shots_off_target',\n       'away_shots_off_target', 'home_shots_on_target_from_penalty_area',\n       'away_shots_on_target_from_penalty_area', 'home_fouls', 'away_fouls',\n       'home_woodwork_hits', 'away_woodwork_hits', 'home_goal_chances',\n       'away_goal_chances', 'home_assists', 'away_assists', 'home_offsides',\n       'away_offsides', 'home_corner_kicks', 'away_corner_kicks',\n       'home_yel_cards', 'away_yel_cards', 'home_red_cards', 'away_red_cards',\n       'home_crosses', 'away_crosses', 'home_long_throws', 'away_long_throws',\n       'home_attacks_from_center', 'away_attacks_from_center',\n       'home_attacks_from_right', 'away_attacks_from_right',\n       'home_attacks_from_left', 'away_attacks_from_left', 'home_coach',\n       'home_player1', 'home_player2', 'home_player3', 'home_player4',\n       'home_player5', 'home_player6', 'home_player7', 'home_player8',\n       'home_player9', 'home_player10', 'home_player11', 'home_substitute1',\n       'home_substitute2', 'home_substitute3', 'home_substitute4',\n       'home_substitute5', 'home_substitute6', 'home_substitute7',\n       'home_substitute8', 'home_substitute9', 'home_substitute10',\n       'home_substitute11', 'home_substitute12', 'away_coach', 'away_player1',\n       'away_player2', 'away_player3', 'away_player4', 'away_player5',\n       'away_player6', 'away_player7', 'away_player8', 'away_player9',\n       'away_player10', 'away_player11', 'away_substitute1',\n       'away_substitute2', 'away_substitute3', 'away_substitute4',\n       'away_substitute5', 'away_substitute6', 'away_substitute7',\n       'away_substitute8', 'away_substitute9', 'away_substitute10',\n       'away_substitute11', 'away_substitute12'],\n      dtype='object')"
     },
     "execution_count": 44,
     "metadata": {},
     "output_type": "execute_result"
    }
   ],
   "source": [
    "df.columns"
   ],
   "metadata": {
    "collapsed": false,
    "pycharm": {
     "name": "#%%\n"
    }
   }
  },
  {
   "cell_type": "code",
   "execution_count": 45,
   "outputs": [
    {
     "data": {
      "text/plain": "    season  round        date   time            referee home_team  \\\n0  2005-06      1  28/08/2005  20:30      MATTEO SIMONE  JUVENTUS   \n1  2005-06      1  28/08/2005  15:00    ROBERTO ROSETTI   REGGINA   \n2  2005-06      1  28/08/2005  15:00          ANDREA DE   UDINESE   \n3  2005-06      1  28/08/2005  15:00    PAOLO DONDARINI     LAZIO   \n4  2005-06      1  28/08/2005  15:00  PAOLO TAGLIAVENTO     INTER   \n\n      away_team home_score away_score home_gk_saves  ... away_substitute3  \\\n0  CHIEVOVERONA          1          0             0  ...           Amauri   \n1          ROMA          0          3             0  ...    Shabani Nonda   \n2        EMPOLI          1          0             4  ...    Daniele Balli   \n3       MESSINA          1          0             7  ...      Ivica Iliev   \n4       TREVISO          3          0             3  ...  Jehad Muntasser   \n\n  away_substitute4       away_substitute5 away_substitute6  \\\n0      John Mensah      Filippo Antonelli    Victor Obinna   \n1    Pietro Pipolo            Cesare Bovo  Houssine Kharja   \n2      Davide Moro          Paolo Zanetti     Andrea Raggi   \n3    Marco Storari      Filippo Cristante       Luca Fusco   \n4  Adriano Zancope  Francesco Parravicini         Anderson   \n\n     away_substitute7 away_substitute8 away_substitute9 away_substitute10  \\\n0   Giovanni Marchese                -                -                 -   \n1     Antonio Cassano                -                -                 -   \n2   Francesco Pratali                -                -                 -   \n3  Atsushi Yanagisawa                -                -                 -   \n4   Alberto Giuliatto                -                -                 -   \n\n  away_substitute11 away_substitute12  \n0                 -                 -  \n1                 -                 -  \n2                 -                 -  \n3                 -                 -  \n4                 -                 -  \n\n[5 rows x 95 columns]",
      "text/html": "<div>\n<style scoped>\n    .dataframe tbody tr th:only-of-type {\n        vertical-align: middle;\n    }\n\n    .dataframe tbody tr th {\n        vertical-align: top;\n    }\n\n    .dataframe thead th {\n        text-align: right;\n    }\n</style>\n<table border=\"1\" class=\"dataframe\">\n  <thead>\n    <tr style=\"text-align: right;\">\n      <th></th>\n      <th>season</th>\n      <th>round</th>\n      <th>date</th>\n      <th>time</th>\n      <th>referee</th>\n      <th>home_team</th>\n      <th>away_team</th>\n      <th>home_score</th>\n      <th>away_score</th>\n      <th>home_gk_saves</th>\n      <th>...</th>\n      <th>away_substitute3</th>\n      <th>away_substitute4</th>\n      <th>away_substitute5</th>\n      <th>away_substitute6</th>\n      <th>away_substitute7</th>\n      <th>away_substitute8</th>\n      <th>away_substitute9</th>\n      <th>away_substitute10</th>\n      <th>away_substitute11</th>\n      <th>away_substitute12</th>\n    </tr>\n  </thead>\n  <tbody>\n    <tr>\n      <th>0</th>\n      <td>2005-06</td>\n      <td>1</td>\n      <td>28/08/2005</td>\n      <td>20:30</td>\n      <td>MATTEO SIMONE</td>\n      <td>JUVENTUS</td>\n      <td>CHIEVOVERONA</td>\n      <td>1</td>\n      <td>0</td>\n      <td>0</td>\n      <td>...</td>\n      <td>Amauri</td>\n      <td>John Mensah</td>\n      <td>Filippo Antonelli</td>\n      <td>Victor Obinna</td>\n      <td>Giovanni Marchese</td>\n      <td>-</td>\n      <td>-</td>\n      <td>-</td>\n      <td>-</td>\n      <td>-</td>\n    </tr>\n    <tr>\n      <th>1</th>\n      <td>2005-06</td>\n      <td>1</td>\n      <td>28/08/2005</td>\n      <td>15:00</td>\n      <td>ROBERTO ROSETTI</td>\n      <td>REGGINA</td>\n      <td>ROMA</td>\n      <td>0</td>\n      <td>3</td>\n      <td>0</td>\n      <td>...</td>\n      <td>Shabani Nonda</td>\n      <td>Pietro Pipolo</td>\n      <td>Cesare Bovo</td>\n      <td>Houssine Kharja</td>\n      <td>Antonio Cassano</td>\n      <td>-</td>\n      <td>-</td>\n      <td>-</td>\n      <td>-</td>\n      <td>-</td>\n    </tr>\n    <tr>\n      <th>2</th>\n      <td>2005-06</td>\n      <td>1</td>\n      <td>28/08/2005</td>\n      <td>15:00</td>\n      <td>ANDREA DE</td>\n      <td>UDINESE</td>\n      <td>EMPOLI</td>\n      <td>1</td>\n      <td>0</td>\n      <td>4</td>\n      <td>...</td>\n      <td>Daniele Balli</td>\n      <td>Davide Moro</td>\n      <td>Paolo Zanetti</td>\n      <td>Andrea Raggi</td>\n      <td>Francesco Pratali</td>\n      <td>-</td>\n      <td>-</td>\n      <td>-</td>\n      <td>-</td>\n      <td>-</td>\n    </tr>\n    <tr>\n      <th>3</th>\n      <td>2005-06</td>\n      <td>1</td>\n      <td>28/08/2005</td>\n      <td>15:00</td>\n      <td>PAOLO DONDARINI</td>\n      <td>LAZIO</td>\n      <td>MESSINA</td>\n      <td>1</td>\n      <td>0</td>\n      <td>7</td>\n      <td>...</td>\n      <td>Ivica Iliev</td>\n      <td>Marco Storari</td>\n      <td>Filippo Cristante</td>\n      <td>Luca Fusco</td>\n      <td>Atsushi Yanagisawa</td>\n      <td>-</td>\n      <td>-</td>\n      <td>-</td>\n      <td>-</td>\n      <td>-</td>\n    </tr>\n    <tr>\n      <th>4</th>\n      <td>2005-06</td>\n      <td>1</td>\n      <td>28/08/2005</td>\n      <td>15:00</td>\n      <td>PAOLO TAGLIAVENTO</td>\n      <td>INTER</td>\n      <td>TREVISO</td>\n      <td>3</td>\n      <td>0</td>\n      <td>3</td>\n      <td>...</td>\n      <td>Jehad Muntasser</td>\n      <td>Adriano Zancope</td>\n      <td>Francesco Parravicini</td>\n      <td>Anderson</td>\n      <td>Alberto Giuliatto</td>\n      <td>-</td>\n      <td>-</td>\n      <td>-</td>\n      <td>-</td>\n      <td>-</td>\n    </tr>\n  </tbody>\n</table>\n<p>5 rows × 95 columns</p>\n</div>"
     },
     "execution_count": 45,
     "metadata": {},
     "output_type": "execute_result"
    }
   ],
   "source": [
    "df.head()"
   ],
   "metadata": {
    "collapsed": false,
    "pycharm": {
     "name": "#%%\n"
    }
   }
  },
  {
   "cell_type": "markdown",
   "source": [
    "So for each match, we have data about:\n",
    "- The report (season, round, date, time, referee, teams and scores)\n",
    "- The statistics (i.e. penalties, shots, shots on target, shots off target, fouls etc.)\n",
    "- The lineups (coaches, players and substitutes)\n",
    "\n",
    "Note that we could distinguish between:\n",
    "- Pre-match data (season, round, date, time, referee, teams and lineups)\n",
    "- Post-match data (scores and statistics)\n",
    "\n",
    "As mentioned above, the raw data was processed differently based on the target model, so let's inspect them."
   ],
   "metadata": {
    "collapsed": false,
    "pycharm": {
     "name": "#%% md\n"
    }
   }
  },
  {
   "cell_type": "markdown",
   "source": [
    "## The models\n",
    "### The baseline model\n",
    "The baseline model is a simple Multi-Layer Perceptron that was built with the idea of predicting the outcome of a game just from its pre-match data. Therefore, scores and statistics were not included in the two final datasets as they are unknown at pre-match time.\n",
    "\n",
    "#### Processing of the raw dataset\n",
    "##### Phase 1: data fixing\n",
    "Several matches with some type of issues or inconsistent data were detected and fixed in the raw dataset.\n",
    "\n",
    "*Example #1*: in several matches played by Lazio during the season 2007-08, the goalkeeper Marco Ballotta is missing in\n",
    "    the lineup, resulting in a data shift and `NULL` values in the column `away_substitute_12`.\n",
    "\n",
    "*Example #2*: in round 37, season 2005-06, MESSINA-EMPOLI was suspended at 89’ with score 1-2.\n",
    "    Then winner of the game was decided to be EMPOLI with a ‘by forfeit’ victory, i.e. 0-3 for EMPOLI.\n",
    "    Since the game was about to end when it was suspended, the on-pitch score was kept in the dataset.\n",
    "\n",
    "#### Phase 2: data manipulation\n",
    "This phase includes few important steps:\n",
    "- Substitution of `date` and `time` features with `year`, `month`, `day` and `hour`;\n",
    "- Creation of the target column named `result` based on `home_score` and `away_score`. This column contains the categorical values `home`, `away` or `draw` the model will try to predict;\n",
    "- Dropping of `home_score`, `away_score` and all the statistics features;\n",
    "- Type casting\n",
    "\n",
    "#### Phase 3: data encoding\n",
    "This phase includes the following steps:\n",
    " - Label encoding of `season` and `year` features\n",
    " - One-hot encoding of all categorical features\n",
    "\n",
    "A \"simpler\" version of this dataset was generated by discarding all the categorical features except for the target column. That is: players, coaches, teams and referees."
   ],
   "metadata": {
    "collapsed": false,
    "pycharm": {
     "name": "#%% md\n"
    }
   }
  },
  {
   "cell_type": "markdown",
   "source": [
    "### The hybrid model"
   ],
   "metadata": {
    "collapsed": false,
    "pycharm": {
     "name": "#%% md\n"
    }
   }
  },
  {
   "cell_type": "markdown",
   "source": [
    "### The RNN model"
   ],
   "metadata": {
    "collapsed": false,
    "pycharm": {
     "name": "#%% md\n"
    }
   }
  },
  {
   "cell_type": "code",
   "execution_count": 42,
   "outputs": [
    {
     "data": {
      "text/plain": "<Figure size 432x288 with 0 Axes>"
     },
     "metadata": {},
     "output_type": "display_data"
    },
    {
     "data": {
      "text/plain": "<Figure size 360x360 with 1 Axes>",
      "image/png": "[encoded data removed]"
     },
     "metadata": {
      "needs_background": "light"
     },
     "output_type": "display_data"
    }
   ],
   "source": [
    "from matplotlib import pyplot as plt\n",
    "import seaborn as sns\n",
    "\n",
    "plt.figure()\n",
    "sns.catplot(x='season', y='n_matches', kind=\"bar\", data=df.groupby('season').size().rename('n_matches').reset_index())\n",
    "plt.show()"
   ],
   "metadata": {
    "collapsed": false,
    "pycharm": {
     "name": "#%%\n"
    }
   }
  }
 ],
 "metadata": {
  "kernelspec": {
   "display_name": "Python 3",
   "language": "python",
   "name": "python3"
  },
  "language_info": {
   "codemirror_mode": {
    "name": "ipython",
    "version": 2
   },
   "file_extension": ".py",
   "mimetype": "text/x-python",
   "name": "python",
   "nbconvert_exporter": "python",
   "pygments_lexer": "ipython2",
   "version": "2.7.6"
  }
 },
 "nbformat": 4,
 "nbformat_minor": 0
}