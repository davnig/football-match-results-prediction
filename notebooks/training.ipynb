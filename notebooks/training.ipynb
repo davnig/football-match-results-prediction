{
 "cells": [
  {
   "cell_type": "markdown",
   "source": [
    "# Training"
   ],
   "metadata": {
    "collapsed": false,
    "pycharm": {
     "name": "#%% md\n"
    }
   }
  },
  {
   "cell_type": "markdown",
   "source": [
    "## Step 1: import"
   ],
   "metadata": {
    "collapsed": false,
    "pycharm": {
     "name": "#%% md\n"
    }
   }
  },
  {
   "cell_type": "code",
   "execution_count": 188,
   "outputs": [],
   "source": [
    "from random import randrange\n",
    "\n",
    "import pandas as pd\n",
    "import pytorch_lightning as pl\n",
    "from pytorch_lightning import Trainer\n",
    "import torch\n",
    "import torch.nn as nn\n",
    "import torch.nn.functional as F\n",
    "from torch import optim\n",
    "from torch.utils.data import DataLoader\n",
    "from torch.utils.data import Dataset\n",
    "from pytorch_lightning.loggers import TensorBoardLogger\n",
    "from pytorch_lightning.callbacks import EarlyStopping\n",
    "from torch.utils.data import random_split\n",
    "\n",
    "from _MatchNotFoundException import MatchNotFoundException"
   ],
   "metadata": {
    "collapsed": false,
    "pycharm": {
     "name": "#%%\n"
    }
   }
  },
  {
   "cell_type": "code",
   "execution_count": 189,
   "outputs": [],
   "source": [
    "match_cols = ['season', 'round'] + \\\n",
    "['date', 'time', 'referee', 'home_team', 'away_team', 'home_score', 'away_score'] + \\\n",
    "['home_coach'] + \\\n",
    "['home_player_' + str(i) for i in range(1, 12)] + \\\n",
    "['home_substitute_' + str(i) for i in range(1, 13)] + \\\n",
    "['away_coach'] + \\\n",
    "['away_player_' + str(i) for i in range(1, 12)] + \\\n",
    "['away_substitute_' + str(i) for i in range(1, 13)]"
   ],
   "metadata": {
    "collapsed": false,
    "pycharm": {
     "name": "#%%\n"
    }
   }
  },
  {
   "cell_type": "code",
   "execution_count": 190,
   "outputs": [],
   "source": [
    "df = pd.read_csv('data.csv')\n",
    "tot_num_of_feats = len(df.columns)\n",
    "del df"
   ],
   "metadata": {
    "collapsed": false,
    "pycharm": {
     "name": "#%%\n"
    }
   }
  },
  {
   "cell_type": "code",
   "execution_count": 191,
   "outputs": [
    {
     "name": "stdout",
     "output_type": "stream",
     "text": [
      "0\n",
      "NVIDIA GeForce GTX 750 Ti\n",
      "70347264\n",
      "352321536\n"
     ]
    }
   ],
   "source": [
    "if torch.cuda.is_available():\n",
    "    print(torch.cuda.current_device())\n",
    "    print(torch.cuda.get_device_name(0))\n",
    "    print(torch.cuda.memory_allocated(0))\n",
    "    print(torch.cuda.memory_reserved(0))\n",
    "    torch.cuda.set_device(0)"
   ],
   "metadata": {
    "collapsed": false,
    "pycharm": {
     "name": "#%%\n"
    }
   }
  },
  {
   "cell_type": "markdown",
   "source": [
    "## Step 2: dataset definition"
   ],
   "metadata": {
    "collapsed": false,
    "pycharm": {
     "name": "#%% md\n"
    }
   }
  },
  {
   "cell_type": "code",
   "execution_count": 192,
   "outputs": [],
   "source": [
    "# utility methods\n",
    "def get_match_by_team_season_round(df: pd.DataFrame, team: str, season: int, round: int) -> pd.DataFrame:\n",
    "    \"\"\"Get the match played by the given team in the given season and round. If the team has not played any match in that round, an empty dataframe is returned.\"\"\"\n",
    "    return df[((df[f'home_team_{team}'] == 1) | (df[f'away_team_{team}'] == 1)) & (df['round'] == round) & (df['season'] == season)]\n",
    "\n",
    "\n",
    "def get_last_n_matches_played_by_team_before_round_in_season(df: pd.DataFrame, team: str, season: int, round: int, n: int) -> pd.DataFrame:\n",
    "    \"\"\"Look in df for the last n matches played by the given team before the given round and season. A dataframe with exactly n element is returned.\n",
    "    If n matches can't be found from the current season, the previous ones are iteratively considered, until n matches are found or the end\n",
    "    of the dataframe is reached, in which case padding is applied to ensure a result size of n.\"\"\"\n",
    "\n",
    "    def exists_historical_matches_before_round_and_season(q_round: int, q_season: int) -> bool:\n",
    "        if (q_season == 0) & (q_round <= 1):\n",
    "            return False\n",
    "        return True\n",
    "\n",
    "    def decrement_round_in_season(c_round: int, c_season: int) -> (int, int):\n",
    "        if c_round - 1 > 0:\n",
    "            c_round -= 1\n",
    "            return c_round, c_season\n",
    "        c_season -= 1\n",
    "        c_round = 38\n",
    "        return c_round, c_season\n",
    "\n",
    "    current_round, current_season = round, season\n",
    "    result = pd.DataFrame()\n",
    "    while True:\n",
    "        if not exists_historical_matches_before_round_and_season(current_round, current_season):\n",
    "            if result.empty:\n",
    "                raise MatchNotFoundException\n",
    "            return fill_with_padding(result)\n",
    "        current_round, current_season = decrement_round_in_season(current_round, current_season)\n",
    "        historical_match_at_current_round = get_match_by_team_season_round(df, team, current_season, current_round)\n",
    "        if not historical_match_at_current_round.empty:\n",
    "            result = pd.concat([result, historical_match_at_current_round])\n",
    "            if len(result) == n:\n",
    "                return result\n",
    "\n",
    "\n",
    "def fill_with_padding(source: pd.DataFrame):\n",
    "    if len(source) < 5:\n",
    "        padding = source.tail(1)\n",
    "        for i in range(5 - len(source)):\n",
    "            source = pd.concat([source, padding], ignore_index=True)\n",
    "    return source\n",
    "\n",
    "\n",
    "def get_playing_home_team_name(row: pd.DataFrame) -> str:\n",
    "    team_columns = row.loc[:, [col for col in row.columns if col.startswith('home_team_')]]\n",
    "    team_name = team_columns.where(team_columns == 1).dropna(axis=1).columns[0].replace('home_team_', '')\n",
    "    return team_name\n",
    "\n",
    "\n",
    "def get_playing_away_team_name(row: pd.DataFrame) -> str:\n",
    "    team_columns = row.loc[:, [col for col in row.columns if col.startswith('away_team_')]]\n",
    "    team_name = team_columns.where(team_columns == 1).dropna(axis=1).columns[0].replace('away_team_', '')\n",
    "    return team_name"
   ],
   "metadata": {
    "collapsed": false,
    "pycharm": {
     "name": "#%%\n"
    }
   }
  },
  {
   "cell_type": "code",
   "execution_count": 193,
   "outputs": [],
   "source": [
    "class SerieAFootballMatchesDataset(Dataset):\n",
    "    def __init__(self, csv_file, history_len = 5):\n",
    "        self.dataframe = pd.read_csv(csv_file)\n",
    "        self.history_len = history_len\n",
    "\n",
    "    def __len__(self) -> int:\n",
    "        return len(self.dataframe)\n",
    "\n",
    "    def __getitem__(self, idx):\n",
    "        def show_error(index, error_x, error_x_historical_home, error_x_historical_away, error_y):\n",
    "            print(f'error at index (scaled): {index} (unscaled): {self.unscale_min_idx(index)}')\n",
    "            print(f'x: {error_x}')\n",
    "            print(f'x.shape: {error_x.shape}')\n",
    "            print(f'x_historical_home: {error_x_historical_home}')\n",
    "            print(f'x_historical_home.shape: {error_x_historical_home.shape}')\n",
    "            print(f'x_historical_away: {error_x_historical_away}')\n",
    "            print(f'x_historical_away.shape: {error_x_historical_away.shape}')\n",
    "            print(f'y: {error_y}')\n",
    "            print(f'y.shape: {error_y.shape}')\n",
    "\n",
    "        idx = self.scale_min_idx(idx)\n",
    "        x = self.dataframe.iloc[[idx]]  # df\n",
    "        y = self.dataframe[['result_home', 'result_draw', 'result_away']].iloc[0].values\n",
    "        try: # if we are not able to fetch at least one historical match, then we switch to another index\n",
    "            last_n_games_home, last_n_games_away = self.retrieve_historical_data(x)\n",
    "            x, x_historical_home, x_historical_away, y = self.to_tensor(x, last_n_games_home, last_n_games_away, y)\n",
    "            exp_num_of_features = len(self.dataframe.columns)\n",
    "            if x.shape[0] != exp_num_of_features:\n",
    "                show_error(idx, x, x_historical_home, x_historical_away, y)\n",
    "            if (x_historical_home.shape[0] != 5) | (x_historical_home.shape[1] != exp_num_of_features):\n",
    "                show_error(idx, x, x_historical_home, x_historical_away, y)\n",
    "            if (x_historical_away.shape[0] != 5) | (x_historical_away.shape[1] != exp_num_of_features):\n",
    "                show_error(idx, x, x_historical_home, x_historical_away, y)\n",
    "            if y.shape[0] != 3:\n",
    "                show_error(idx, x, x_historical_home, x_historical_away, y)\n",
    "            return x, x_historical_home, x_historical_away, y\n",
    "        except MatchNotFoundException:\n",
    "            new_idx = randrange(0, len(self.dataframe))\n",
    "            # print(f'MatchNotFoundException for idx={idx}, switching to idx={new_idx}')\n",
    "            return self.__getitem__(new_idx)\n",
    "\n",
    "    def scale_min_idx(self, idx: int) -> int:\n",
    "        \"\"\"Scale the given index to a range with a new minimum that allows for historical data retrieval\"\"\"\n",
    "        old_min = 0\n",
    "        old_max = len(self.dataframe)\n",
    "        # idx = 10 corresponds to the first match of the second round.\n",
    "        # This ensure the retrieval of at least 1 historical match.\n",
    "        # In the worst case scenario, padding will fill the other 4 historical slots.\n",
    "        new_min = 10\n",
    "        new_max = old_max\n",
    "        return self.scale_idx(idx, old_min, old_max, new_min, new_max)\n",
    "\n",
    "    def unscale_min_idx(self, idx: int) -> int:\n",
    "        \"\"\"Apply the inverse transformation of scale_min_idx\"\"\"\n",
    "        old_min = 10\n",
    "        old_max = len(self.dataframe)\n",
    "        new_min = 0\n",
    "        new_max = old_max\n",
    "        return self.scale_idx(idx, old_min, old_max, new_min, new_max)\n",
    "\n",
    "    def scale_idx(self, idx, old_min, old_max, new_min, new_max):\n",
    "        \"\"\"Scale the given index to a new range\"\"\"\n",
    "        old_range = old_max - old_min\n",
    "        new_range = new_max - new_min\n",
    "        normalized_idx = (idx - old_min) / old_range\n",
    "        return int(round(normalized_idx * new_range + new_min))\n",
    "\n",
    "    def retrieve_historical_data(self, source: pd.DataFrame):\n",
    "        \"\"\"Retrieve historical data for home and away teams from source\"\"\"\n",
    "        last_n_games_home = get_last_n_matches_played_by_team_before_round_in_season(\n",
    "            self.dataframe, get_playing_home_team_name(source), source['season'].values[0], source['round'].values[0], self.history_len)\n",
    "        last_n_games_away = get_last_n_matches_played_by_team_before_round_in_season(\n",
    "            self.dataframe, get_playing_away_team_name(source), source['season'].values[0], source['round'].values[0], self.history_len)\n",
    "        return last_n_games_home, last_n_games_away\n",
    "\n",
    "    def to_tensor(self, x: pd.DataFrame, x_historical_home: pd.DataFrame, x_historical_away: pd.DataFrame, y: list[int]):\n",
    "        x_tensor = torch.flatten(torch.tensor(x.values))\n",
    "        x_historical_home_tensor = torch.tensor(x_historical_home.values)\n",
    "        x_historical_away_tensor = torch.tensor(x_historical_away.values)\n",
    "        y_tensor = torch.tensor(y)\n",
    "        return x_tensor, x_historical_home_tensor, x_historical_away_tensor, y_tensor"
   ],
   "metadata": {
    "collapsed": false,
    "pycharm": {
     "name": "#%%\n"
    }
   }
  },
  {
   "cell_type": "code",
   "execution_count": 194,
   "outputs": [],
   "source": [
    "dataset = SerieAFootballMatchesDataset(csv_file='data.csv')"
   ],
   "metadata": {
    "collapsed": false,
    "pycharm": {
     "name": "#%%\n"
    }
   }
  },
  {
   "cell_type": "markdown",
   "source": [
    "## Step 3: training"
   ],
   "metadata": {
    "collapsed": false,
    "pycharm": {
     "name": "#%% md\n"
    }
   }
  },
  {
   "cell_type": "markdown",
   "source": [
    "### Parameters"
   ],
   "metadata": {
    "collapsed": false,
    "pycharm": {
     "name": "#%% md\n"
    }
   }
  },
  {
   "cell_type": "code",
   "execution_count": 195,
   "outputs": [],
   "source": [
    "learning_rate = 0.00001\n",
    "num_epochs = 3\n",
    "hidden_size = 256"
   ],
   "metadata": {
    "collapsed": false,
    "pycharm": {
     "name": "#%%\n"
    }
   }
  },
  {
   "cell_type": "markdown",
   "source": [
    "### Model definition"
   ],
   "metadata": {
    "collapsed": false,
    "pycharm": {
     "name": "#%% md\n"
    }
   }
  },
  {
   "cell_type": "code",
   "execution_count": 196,
   "outputs": [],
   "source": [
    "class RNN(nn.Module):\n",
    "    def __init__(self, input_size, hidden_size):\n",
    "        super(RNN, self).__init__()\n",
    "        self.hidden_size = hidden_size\n",
    "        self.linear = nn.Linear(input_size + hidden_size, hidden_size)\n",
    "        self.tanh = nn.Tanh()\n",
    "\n",
    "    def forward(self, input, hidden):\n",
    "        combined = torch.cat([input, hidden], dim=0)\n",
    "        pre_hidden = self.linear(combined)\n",
    "        hidden = self.tanh(pre_hidden)\n",
    "        return hidden\n",
    "\n",
    "    def init_hidden(self, minibatch_size):\n",
    "        return torch.zeros(minibatch_size, self.hidden_size)\n",
    "\n",
    "\n",
    "class NeuralNetwork(nn.Module):\n",
    "    def __init__(self, input_size):\n",
    "        super(NeuralNetwork, self).__init__()\n",
    "        self.input_size = input_size\n",
    "        self.flatten = nn.Flatten()\n",
    "        self.layers = nn.Sequential(\n",
    "            nn.Linear(input_size, 512),\n",
    "            nn.ReLU(),\n",
    "            nn.Linear(512, 512),\n",
    "            nn.ReLU(),\n",
    "            nn.Linear(512, 3),\n",
    "            # nn.Softmax(dim=1) softmax is applied implicitly by CrossEntropyLoss\n",
    "        )\n",
    "\n",
    "    def forward(self, x):\n",
    "        # 'x' is the combination of: 'x', 'x_historical_home', 'x_historical_away'\n",
    "        # they all have size: minibatch_size x num_of_feats\n",
    "        x = self.flatten(x) # just in case x was not flattened\n",
    "        output = self.layers(x)\n",
    "        return output\n",
    "\n",
    "\n",
    "class HybridNetwork(pl.LightningModule):\n",
    "    def __init__(self, dataset, rnn_home_model: RNN, rnn_away_model: RNN, mlp_model: NeuralNetwork, learning_rate: float = 0.001, batch_size: int = 32):\n",
    "        super(HybridNetwork, self).__init__()\n",
    "        self.dataset = dataset\n",
    "        self.rnn_home = rnn_home_model\n",
    "        self.rnn_away = rnn_away_model\n",
    "        self.mlp = mlp_model\n",
    "        self.learning_rate = learning_rate\n",
    "        self.batch_size = batch_size\n",
    "        self.train_set = Dataset()\n",
    "        self.val_set = Dataset()\n",
    "        self.test_set = Dataset()\n",
    "\n",
    "    def setup(self, stage):\n",
    "        test_size = int(0.2 * len(dataset))\n",
    "        val_size = int(0.2 * (len(dataset) - test_size))\n",
    "        train_size = int(len(dataset) - test_size - val_size)\n",
    "        self.train_set, self.val_set, self.test_set = random_split(self.dataset, (train_size, val_size, test_size))\n",
    "\n",
    "    def train_dataloader(self):\n",
    "        return DataLoader(self.train_set, batch_size=self.batch_size)\n",
    "\n",
    "    def val_dataloader(self):\n",
    "        return DataLoader(self.val_set, batch_size=self.batch_size)\n",
    "\n",
    "    def test_dataloader(self):\n",
    "        return DataLoader(self.test_set, batch_size=self.batch_size)\n",
    "\n",
    "    def forward(self, x, x_historical_home, x_historical_away):\n",
    "        \"\"\"Compute y_hat from dataloader input\"\"\"\n",
    "        # 'x' comes in as:                minibatch_size x 1 x num_of_feats\n",
    "        # 'x_historical_*' comes in as:   minibatch_size x 5 x num_of_feats\n",
    "        # 'rnn_*_hidden' will be:         minibatch_size x num_of_feats\n",
    "        batch_size = x.size(0)\n",
    "        time_seq_len = x_historical_home.size(1)\n",
    "        cuda_0 = torch.device('cuda:0')\n",
    "        ''' === RNN HOME FORWARD === '''\n",
    "        rnn_home_hidden = self.rnn_home.init_hidden(batch_size)\n",
    "        rnn_home_hidden = rnn_home_hidden.to(cuda_0)\n",
    "        for batch_idx in range(batch_size):\n",
    "            for history_idx in range(time_seq_len):\n",
    "                rnn_home_hidden[batch_idx] = self.rnn_home(\n",
    "                    torch.flatten(x_historical_home[batch_idx, history_idx]),\n",
    "                    rnn_home_hidden[batch_idx])\n",
    "        ''' === RNN AWAY FORWARD === '''\n",
    "        rnn_away_hidden = self.rnn_away.init_hidden(batch_size)\n",
    "        rnn_away_hidden = rnn_away_hidden.to(cuda_0)\n",
    "        for batch_idx in range(batch_size):\n",
    "            for history_idx in range(time_seq_len):\n",
    "                rnn_away_hidden[batch_idx] = self.rnn_away(\n",
    "                    torch.flatten(x_historical_away[batch_idx, history_idx]),\n",
    "                    rnn_away_hidden[batch_idx])\n",
    "        ''' === MLP FORWARD === '''\n",
    "        x_train = torch.cat([x, rnn_home_hidden, rnn_away_hidden], dim=1)\n",
    "        y_hat = self.mlp(x_train)\n",
    "        return y_hat\n",
    "\n",
    "    def training_step(self, batch, batch_idx):\n",
    "        x, x_historical_home, x_historical_away, y = batch\n",
    "        y_hat = self(x, x_historical_home, x_historical_away)\n",
    "        loss = F.cross_entropy(y_hat, y.to(dtype=torch.float))\n",
    "        tensorboard_logs = {\"train_loss\": loss}\n",
    "        print(x[0])\n",
    "        print(f'y: {y[0]}')\n",
    "        print(f'y_hat: {y_hat[0]}')\n",
    "        return {\"loss\": loss, \"log\": tensorboard_logs}\n",
    "\n",
    "    def validation_step(self, batch, batch_idx):\n",
    "        x, x_historical_home, x_historical_away, y = batch\n",
    "        y_hat = self(x, x_historical_home, x_historical_away)\n",
    "        val_loss = F.cross_entropy(y_hat, y.to(dtype=torch.float))\n",
    "        val_accuracy = self.accuracy(y, y_hat)\n",
    "        # print(f'y: {y} y_hat: {y_hat} accuracy: {val_accuracy}')\n",
    "        return {\"val_loss\": val_loss, \"val_accuracy\": val_accuracy}\n",
    "\n",
    "    def validation_epoch_end(self, outputs):\n",
    "        avg_loss = torch.stack([el[\"val_loss\"] for el in outputs]).mean()\n",
    "        avg_accuracy = torch.tensor([el[\"val_accuracy\"] for el in outputs]).mean()\n",
    "        tensorboard_logs = {\"val_loss\": avg_loss, \"val_accuracy\": avg_accuracy}\n",
    "        return {\"val_loss\": avg_loss, \"log\": tensorboard_logs}\n",
    "\n",
    "    def test_step(self, batch, batch_idx):\n",
    "        x, x_historical_home, x_historical_away, y = batch\n",
    "        y_hat = self(x, x_historical_home, x_historical_away)\n",
    "        test_loss = F.cross_entropy(y_hat, y.to(dtype=torch.float))\n",
    "        test_accuracy = self.accuracy(y, y_hat)\n",
    "        return {\"test_loss\": test_loss, \"test_accuracy\": test_accuracy}\n",
    "\n",
    "    def test_epoch_end(self, outputs):\n",
    "        avg_loss = torch.stack([el[\"test_loss\"] for el in outputs]).mean()\n",
    "        avg_accuracy = torch.tensor([el[\"test_accuracy\"] for el in outputs]).mean()\n",
    "        tensorboard_logs = {\"test_loss\": avg_loss, \"avg_accuracy\": avg_accuracy}\n",
    "        return {\"test_loss\": avg_loss, \"log\": tensorboard_logs, \"progress_bar\": tensorboard_logs}\n",
    "\n",
    "    def predict_step(self, batch):\n",
    "        x, x_historical_home, x_historical_away, y = batch\n",
    "        return self(x, x_historical_home, x_historical_away)\n",
    "\n",
    "    def configure_optimizers(self):\n",
    "        return optim.SGD(model.parameters(), lr=self.learning_rate)\n",
    "\n",
    "    def accuracy(self, y, y_hat):\n",
    "        # Assign each y_hat to its predicted class\n",
    "        pred_classes = torch.where(y_hat < .5, 0, 1).squeeze().long()\n",
    "        correct = (pred_classes == y).sum()\n",
    "        return (correct / y.shape[0]).item()"
   ],
   "metadata": {
    "collapsed": false,
    "pycharm": {
     "name": "#%%\n"
    }
   }
  },
  {
   "cell_type": "code",
   "execution_count": 197,
   "outputs": [],
   "source": [
    "rnn_home = RNN(input_size=tot_num_of_feats, hidden_size=hidden_size)\n",
    "rnn_away = RNN(input_size=tot_num_of_feats, hidden_size=hidden_size)\n",
    "mlp = NeuralNetwork(hidden_size * 2 + tot_num_of_feats)\n",
    "model = HybridNetwork(dataset=dataset, rnn_home_model=rnn_home, rnn_away_model=rnn_away, mlp_model=mlp, learning_rate=learning_rate)"
   ],
   "metadata": {
    "collapsed": false,
    "pycharm": {
     "name": "#%%\n"
    }
   }
  },
  {
   "cell_type": "markdown",
   "source": [
    "### Model fitting"
   ],
   "metadata": {
    "collapsed": false,
    "pycharm": {
     "name": "#%% md\n"
    }
   }
  },
  {
   "cell_type": "code",
   "execution_count": null,
   "outputs": [],
   "source": [
    "%reload_ext tensorboard\n",
    "%tensorboard --logdir=lightning_logs/"
   ],
   "metadata": {
    "collapsed": false,
    "pycharm": {
     "name": "#%%\n",
     "is_executing": true
    }
   }
  },
  {
   "cell_type": "code",
   "execution_count": 199,
   "outputs": [
    {
     "name": "stderr",
     "output_type": "stream",
     "text": [
      "GPU available: True, used: True\n",
      "TPU available: False, using: 0 TPU cores\n",
      "CUDA_VISIBLE_DEVICES: [0]\n",
      "\n",
      "  | Name     | Type          | Params\n",
      "-------------------------------------------\n",
      "0 | rnn_home | RNN           | 2 M   \n",
      "1 | rnn_away | RNN           | 2 M   \n",
      "2 | mlp      | NeuralNetwork | 4 M   \n"
     ]
    },
    {
     "data": {
      "text/plain": "Validation sanity check: 0it [00:00, ?it/s]",
      "application/vnd.jupyter.widget-view+json": {
       "version_major": 2,
       "version_minor": 0,
       "model_id": "9f1148a2f7484da68f1ad09780120bb9"
      }
     },
     "metadata": {},
     "output_type": "display_data"
    },
    {
     "data": {
      "text/plain": "Training: 0it [00:00, ?it/s]",
      "application/vnd.jupyter.widget-view+json": {
       "version_major": 2,
       "version_minor": 0,
       "model_id": "e6099dce4ef9495fab7a24f47c85e90e"
      }
     },
     "metadata": {},
     "output_type": "display_data"
    },
    {
     "name": "stdout",
     "output_type": "stream",
     "text": [
      "tensor([   3,    8, 2008,  ...,    0,    0,    0], device='cuda:0')\n",
      "y: tensor([1, 0, 0], device='cuda:0')\n",
      "y_hat: tensor([-1.5810,  1.7552,  2.0277], device='cuda:0', grad_fn=<SelectBackward0>)\n",
      "tensor([  11,   24, 2017,  ...,    0,    0,    0], device='cuda:0')\n",
      "y: tensor([1, 0, 0], device='cuda:0')\n",
      "y_hat: tensor([-0.3177,  1.4723,  1.3415], device='cuda:0', grad_fn=<SelectBackward0>)\n",
      "tensor([   5,    4, 2010,  ...,    0,    0,    0], device='cuda:0')\n",
      "y: tensor([1, 0, 0], device='cuda:0')\n",
      "y_hat: tensor([0.7794, 1.0964, 0.8147], device='cuda:0', grad_fn=<SelectBackward0>)\n",
      "tensor([   1,   11, 2006,  ...,    0,    0,    0], device='cuda:0')\n",
      "y: tensor([1, 0, 0], device='cuda:0')\n",
      "y_hat: tensor([1.5454, 0.7933, 0.4136], device='cuda:0', grad_fn=<SelectBackward0>)\n",
      "tensor([   7,   18, 2012,  ...,    0,    0,    0], device='cuda:0')\n",
      "y: tensor([1, 0, 0], device='cuda:0')\n",
      "y_hat: tensor([2.0074, 0.6144, 0.1681], device='cuda:0', grad_fn=<SelectBackward0>)\n",
      "tensor([   3,   17, 2008,  ...,    0,    0,    0], device='cuda:0')\n",
      "y: tensor([1, 0, 0], device='cuda:0')\n",
      "y_hat: tensor([2.2861, 0.4968, 0.0486], device='cuda:0', grad_fn=<SelectBackward0>)\n",
      "tensor([   6,   14, 2011,  ...,    0,    0,    0], device='cuda:0')\n",
      "y: tensor([1, 0, 0], device='cuda:0')\n",
      "y_hat: tensor([ 2.4948,  0.4031, -0.0561], device='cuda:0', grad_fn=<SelectBackward0>)\n",
      "tensor([  15,    2, 2020,  ...,    0,    0,    0], device='cuda:0')\n",
      "y: tensor([1, 0, 0], device='cuda:0')\n",
      "y_hat: tensor([ 2.6532,  0.2980, -0.1256], device='cuda:0', grad_fn=<SelectBackward0>)\n",
      "tensor([  11,   32, 2017,  ...,    0,    0,    0], device='cuda:0')\n",
      "y: tensor([1, 0, 0], device='cuda:0')\n",
      "y_hat: tensor([ 2.7939,  0.2679, -0.1967], device='cuda:0', grad_fn=<SelectBackward0>)\n",
      "tensor([   7,   31, 2013,  ...,    0,    0,    0], device='cuda:0')\n",
      "y: tensor([1, 0, 0], device='cuda:0')\n",
      "y_hat: tensor([ 2.9050,  0.2225, -0.2600], device='cuda:0', grad_fn=<SelectBackward0>)\n",
      "tensor([   0,   19, 2006,  ...,    0,    0,    0], device='cuda:0')\n",
      "y: tensor([1, 0, 0], device='cuda:0')\n",
      "y_hat: tensor([ 2.9784,  0.1540, -0.2926], device='cuda:0', grad_fn=<SelectBackward0>)\n",
      "tensor([  12,    7, 2017,  ...,    0,    0,    0], device='cuda:0')\n",
      "y: tensor([1, 0, 0], device='cuda:0')\n",
      "y_hat: tensor([ 3.0632,  0.1209, -0.3164], device='cuda:0', grad_fn=<SelectBackward0>)\n",
      "tensor([   5,    7, 2010,  ...,    0,    0,    0], device='cuda:0')\n",
      "y: tensor([1, 0, 0], device='cuda:0')\n",
      "y_hat: tensor([ 3.1313,  0.0581, -0.3576], device='cuda:0', grad_fn=<SelectBackward0>)\n",
      "tensor([   0,   34, 2006,  ...,    0,    0,    0], device='cuda:0')\n",
      "y: tensor([1, 0, 0], device='cuda:0')\n",
      "y_hat: tensor([ 3.2059,  0.0444, -0.3980], device='cuda:0', grad_fn=<SelectBackward0>)\n",
      "tensor([  11,   16, 2016,  ...,    0,    0,    0], device='cuda:0')\n",
      "y: tensor([1, 0, 0], device='cuda:0')\n",
      "y_hat: tensor([ 3.2729, -0.0088, -0.4175], device='cuda:0', grad_fn=<SelectBackward0>)\n",
      "tensor([  15,   25, 2021,  ...,    0,    0,    0], device='cuda:0')\n",
      "y: tensor([1, 0, 0], device='cuda:0')\n",
      "y_hat: tensor([ 3.3280e+00,  1.4233e-03, -4.5315e-01], device='cuda:0',\n",
      "       grad_fn=<SelectBackward0>)\n",
      "tensor([   5,   23, 2011,  ...,    0,    0,    0], device='cuda:0')\n",
      "y: tensor([1, 0, 0], device='cuda:0')\n",
      "y_hat: tensor([ 3.3675, -0.0401, -0.4587], device='cuda:0', grad_fn=<SelectBackward0>)\n",
      "tensor([   8,   15, 2013,  ...,    0,    0,    0], device='cuda:0')\n",
      "y: tensor([1, 0, 0], device='cuda:0')\n",
      "y_hat: tensor([ 3.4100, -0.0801, -0.4938], device='cuda:0', grad_fn=<SelectBackward0>)\n",
      "tensor([   0,   12, 2005,  ...,    0,    0,    0], device='cuda:0')\n",
      "y: tensor([1, 0, 0], device='cuda:0')\n",
      "y_hat: tensor([ 3.4458, -0.1012, -0.5003], device='cuda:0', grad_fn=<SelectBackward0>)\n",
      "tensor([   1,   14, 2006,  ...,    0,    0,    0], device='cuda:0')\n",
      "y: tensor([1, 0, 0], device='cuda:0')\n",
      "y_hat: tensor([ 3.4829, -0.1150, -0.5173], device='cuda:0', grad_fn=<SelectBackward0>)\n",
      "tensor([   7,   30, 2013,  ...,    0,    0,    0], device='cuda:0')\n",
      "y: tensor([1, 0, 0], device='cuda:0')\n",
      "y_hat: tensor([ 3.5377, -0.1449, -0.5457], device='cuda:0', grad_fn=<SelectBackward0>)\n",
      "tensor([  11,   13, 2016,  ...,    0,    0,    0], device='cuda:0')\n",
      "y: tensor([1, 0, 0], device='cuda:0')\n",
      "y_hat: tensor([ 3.5717, -0.1790, -0.5530], device='cuda:0', grad_fn=<SelectBackward0>)\n",
      "tensor([   0,   22, 2006,  ...,    0,    0,    0], device='cuda:0')\n",
      "y: tensor([1, 0, 0], device='cuda:0')\n",
      "y_hat: tensor([ 3.5987, -0.1963, -0.5698], device='cuda:0', grad_fn=<SelectBackward0>)\n",
      "tensor([   1,   34, 2007,  ...,    0,    0,    0], device='cuda:0')\n",
      "y: tensor([1, 0, 0], device='cuda:0')\n",
      "y_hat: tensor([ 3.6365, -0.2078, -0.5971], device='cuda:0', grad_fn=<SelectBackward0>)\n",
      "tensor([  14,   31, 2020,  ...,    0,    0,    0], device='cuda:0')\n",
      "y: tensor([1, 0, 0], device='cuda:0')\n",
      "y_hat: tensor([ 3.6927, -0.1871, -0.6221], device='cuda:0', grad_fn=<SelectBackward0>)\n",
      "tensor([   0,   18, 2006,  ...,    0,    0,    0], device='cuda:0')\n",
      "y: tensor([1, 0, 0], device='cuda:0')\n",
      "y_hat: tensor([ 3.6863, -0.2262, -0.6088], device='cuda:0', grad_fn=<SelectBackward0>)\n",
      "tensor([   8,   22, 2014,  ...,    0,    0,    0], device='cuda:0')\n",
      "y: tensor([1, 0, 0], device='cuda:0')\n",
      "y_hat: tensor([ 3.7321, -0.2362, -0.6321], device='cuda:0', grad_fn=<SelectBackward0>)\n",
      "tensor([   2,   13, 2007,  ...,    1,    0,    0], device='cuda:0')\n",
      "y: tensor([1, 0, 0], device='cuda:0')\n",
      "y_hat: tensor([ 3.7490, -0.2753, -0.6334], device='cuda:0', grad_fn=<SelectBackward0>)\n",
      "tensor([   0,   33, 2006,  ...,    1,    0,    0], device='cuda:0')\n",
      "y: tensor([1, 0, 0], device='cuda:0')\n",
      "y_hat: tensor([ 3.7825, -0.2656, -0.6518], device='cuda:0', grad_fn=<SelectBackward0>)\n"
     ]
    },
    {
     "name": "stderr",
     "output_type": "stream",
     "text": [
      "D:\\Windows\\Programmi\\miniconda3\\envs\\footballprediction\\lib\\site-packages\\pytorch_lightning\\utilities\\distributed.py:25: UserWarning: Detected KeyboardInterrupt, attempting graceful shutdown...\n",
      "  warnings.warn(*args, **kwargs)\n"
     ]
    },
    {
     "data": {
      "text/plain": "1"
     },
     "execution_count": 199,
     "metadata": {},
     "output_type": "execute_result"
    }
   ],
   "source": [
    "logger = TensorBoardLogger(\"lightning_logs\", name=\"football_results\")\n",
    "trainer = Trainer(gpus=1, max_epochs=num_epochs, logger=logger)\n",
    "trainer.fit(model)"
   ],
   "metadata": {
    "collapsed": false,
    "pycharm": {
     "name": "#%%\n"
    }
   }
  },
  {
   "cell_type": "code",
   "execution_count": 200,
   "outputs": [
    {
     "data": {
      "text/plain": "Testing: 0it [00:00, ?it/s]",
      "application/vnd.jupyter.widget-view+json": {
       "version_major": 2,
       "version_minor": 0,
       "model_id": "c8d8e99c35c04a7f8fdc83827fb98a96"
      }
     },
     "metadata": {},
     "output_type": "display_data"
    },
    {
     "ename": "KeyboardInterrupt",
     "evalue": "",
     "output_type": "error",
     "traceback": [
      "\u001B[1;31m---------------------------------------------------------------------------\u001B[0m",
      "\u001B[1;31mKeyboardInterrupt\u001B[0m                         Traceback (most recent call last)",
      "Input \u001B[1;32mIn [200]\u001B[0m, in \u001B[0;36m<cell line: 1>\u001B[1;34m()\u001B[0m\n\u001B[1;32m----> 1\u001B[0m \u001B[43mtrainer\u001B[49m\u001B[38;5;241;43m.\u001B[39;49m\u001B[43mtest\u001B[49m\u001B[43m(\u001B[49m\u001B[43mmodel\u001B[49m\u001B[43m)\u001B[49m\n",
      "File \u001B[1;32mD:\\Windows\\Programmi\\miniconda3\\envs\\footballprediction\\lib\\site-packages\\pytorch_lightning\\trainer\\trainer.py:1279\u001B[0m, in \u001B[0;36mTrainer.test\u001B[1;34m(self, model, test_dataloaders, ckpt_path)\u001B[0m\n\u001B[0;32m   1276\u001B[0m \u001B[38;5;28mself\u001B[39m\u001B[38;5;241m.\u001B[39msetup(\u001B[38;5;124m'\u001B[39m\u001B[38;5;124mtest\u001B[39m\u001B[38;5;124m'\u001B[39m)\n\u001B[0;32m   1278\u001B[0m \u001B[38;5;28;01mif\u001B[39;00m model \u001B[38;5;129;01mis\u001B[39;00m \u001B[38;5;129;01mnot\u001B[39;00m \u001B[38;5;28;01mNone\u001B[39;00m:\n\u001B[1;32m-> 1279\u001B[0m     results \u001B[38;5;241m=\u001B[39m \u001B[38;5;28;43mself\u001B[39;49m\u001B[38;5;241;43m.\u001B[39;49m\u001B[43m__test_given_model\u001B[49m\u001B[43m(\u001B[49m\u001B[43mmodel\u001B[49m\u001B[43m,\u001B[49m\u001B[43m \u001B[49m\u001B[43mtest_dataloaders\u001B[49m\u001B[43m)\u001B[49m\n\u001B[0;32m   1280\u001B[0m \u001B[38;5;28;01melse\u001B[39;00m:\n\u001B[0;32m   1281\u001B[0m     results \u001B[38;5;241m=\u001B[39m \u001B[38;5;28mself\u001B[39m\u001B[38;5;241m.\u001B[39m__test_using_best_weights(ckpt_path, test_dataloaders)\n",
      "File \u001B[1;32mD:\\Windows\\Programmi\\miniconda3\\envs\\footballprediction\\lib\\site-packages\\pytorch_lightning\\trainer\\trainer.py:1346\u001B[0m, in \u001B[0;36mTrainer.__test_given_model\u001B[1;34m(self, model, test_dataloaders)\u001B[0m\n\u001B[0;32m   1344\u001B[0m \u001B[38;5;28mself\u001B[39m\u001B[38;5;241m.\u001B[39mtesting \u001B[38;5;241m=\u001B[39m \u001B[38;5;28;01mTrue\u001B[39;00m\n\u001B[0;32m   1345\u001B[0m \u001B[38;5;28mself\u001B[39m\u001B[38;5;241m.\u001B[39mmodel \u001B[38;5;241m=\u001B[39m model\n\u001B[1;32m-> 1346\u001B[0m results \u001B[38;5;241m=\u001B[39m \u001B[38;5;28;43mself\u001B[39;49m\u001B[38;5;241;43m.\u001B[39;49m\u001B[43mfit\u001B[49m\u001B[43m(\u001B[49m\u001B[43mmodel\u001B[49m\u001B[43m)\u001B[49m\n\u001B[0;32m   1347\u001B[0m \u001B[38;5;28mself\u001B[39m\u001B[38;5;241m.\u001B[39mtesting \u001B[38;5;241m=\u001B[39m \u001B[38;5;28;01mFalse\u001B[39;00m\n\u001B[0;32m   1349\u001B[0m \u001B[38;5;66;03m# teardown\u001B[39;00m\n",
      "File \u001B[1;32mD:\\Windows\\Programmi\\miniconda3\\envs\\footballprediction\\lib\\site-packages\\pytorch_lightning\\trainer\\trainer.py:1003\u001B[0m, in \u001B[0;36mTrainer.fit\u001B[1;34m(self, model, train_dataloader, val_dataloaders)\u001B[0m\n\u001B[0;32m   1000\u001B[0m     results \u001B[38;5;241m=\u001B[39m \u001B[38;5;28mself\u001B[39m\u001B[38;5;241m.\u001B[39mhorovod_train(model)\n\u001B[0;32m   1002\u001B[0m \u001B[38;5;28;01melif\u001B[39;00m \u001B[38;5;28mself\u001B[39m\u001B[38;5;241m.\u001B[39msingle_gpu:\n\u001B[1;32m-> 1003\u001B[0m     results \u001B[38;5;241m=\u001B[39m \u001B[38;5;28;43mself\u001B[39;49m\u001B[38;5;241;43m.\u001B[39;49m\u001B[43msingle_gpu_train\u001B[49m\u001B[43m(\u001B[49m\u001B[43mmodel\u001B[49m\u001B[43m)\u001B[49m\n\u001B[0;32m   1005\u001B[0m \u001B[38;5;28;01melif\u001B[39;00m \u001B[38;5;28mself\u001B[39m\u001B[38;5;241m.\u001B[39muse_tpu:  \u001B[38;5;66;03m# pragma: no-cover\u001B[39;00m\n\u001B[0;32m   1006\u001B[0m     rank_zero_info(\u001B[38;5;124mf\u001B[39m\u001B[38;5;124m'\u001B[39m\u001B[38;5;124mtraining on \u001B[39m\u001B[38;5;132;01m{\u001B[39;00m\u001B[38;5;28mself\u001B[39m\u001B[38;5;241m.\u001B[39mtpu_cores\u001B[38;5;132;01m}\u001B[39;00m\u001B[38;5;124m TPU cores\u001B[39m\u001B[38;5;124m'\u001B[39m)\n",
      "File \u001B[1;32mD:\\Windows\\Programmi\\miniconda3\\envs\\footballprediction\\lib\\site-packages\\pytorch_lightning\\trainer\\distrib_parts.py:186\u001B[0m, in \u001B[0;36mTrainerDPMixin.single_gpu_train\u001B[1;34m(self, model)\u001B[0m\n\u001B[0;32m    183\u001B[0m     \u001B[38;5;28mself\u001B[39m\u001B[38;5;241m.\u001B[39moptimizers \u001B[38;5;241m=\u001B[39m optimizers\n\u001B[0;32m    184\u001B[0m     \u001B[38;5;28mself\u001B[39m\u001B[38;5;241m.\u001B[39mreinit_scheduler_properties(\u001B[38;5;28mself\u001B[39m\u001B[38;5;241m.\u001B[39moptimizers, \u001B[38;5;28mself\u001B[39m\u001B[38;5;241m.\u001B[39mlr_schedulers)\n\u001B[1;32m--> 186\u001B[0m results \u001B[38;5;241m=\u001B[39m \u001B[38;5;28;43mself\u001B[39;49m\u001B[38;5;241;43m.\u001B[39;49m\u001B[43mrun_pretrain_routine\u001B[49m\u001B[43m(\u001B[49m\u001B[43mmodel\u001B[49m\u001B[43m)\u001B[49m\n\u001B[0;32m    187\u001B[0m \u001B[38;5;28;01mreturn\u001B[39;00m results\n",
      "File \u001B[1;32mD:\\Windows\\Programmi\\miniconda3\\envs\\footballprediction\\lib\\site-packages\\pytorch_lightning\\trainer\\trainer.py:1166\u001B[0m, in \u001B[0;36mTrainer.run_pretrain_routine\u001B[1;34m(self, model)\u001B[0m\n\u001B[0;32m   1162\u001B[0m \u001B[38;5;66;03m# when testing requested only run test and return\u001B[39;00m\n\u001B[0;32m   1163\u001B[0m \u001B[38;5;28;01mif\u001B[39;00m \u001B[38;5;28mself\u001B[39m\u001B[38;5;241m.\u001B[39mtesting:\n\u001B[0;32m   1164\u001B[0m     \u001B[38;5;66;03m# only load test dataloader for testing\u001B[39;00m\n\u001B[0;32m   1165\u001B[0m     \u001B[38;5;66;03m# self.reset_test_dataloader(ref_model)\u001B[39;00m\n\u001B[1;32m-> 1166\u001B[0m     results \u001B[38;5;241m=\u001B[39m \u001B[38;5;28;43mself\u001B[39;49m\u001B[38;5;241;43m.\u001B[39;49m\u001B[43mrun_evaluation\u001B[49m\u001B[43m(\u001B[49m\u001B[43mtest_mode\u001B[49m\u001B[38;5;241;43m=\u001B[39;49m\u001B[38;5;28;43;01mTrue\u001B[39;49;00m\u001B[43m)\u001B[49m\n\u001B[0;32m   1168\u001B[0m     \u001B[38;5;66;03m# remove all cuda tensors\u001B[39;00m\n\u001B[0;32m   1169\u001B[0m     \u001B[38;5;28;01mif\u001B[39;00m results \u001B[38;5;129;01mis\u001B[39;00m \u001B[38;5;129;01mnot\u001B[39;00m \u001B[38;5;28;01mNone\u001B[39;00m \u001B[38;5;129;01mand\u001B[39;00m \u001B[38;5;28misinstance\u001B[39m(results, \u001B[38;5;28mdict\u001B[39m) \u001B[38;5;129;01mand\u001B[39;00m \u001B[38;5;28mlen\u001B[39m(results) \u001B[38;5;241m>\u001B[39m \u001B[38;5;241m0\u001B[39m:\n",
      "File \u001B[1;32mD:\\Windows\\Programmi\\miniconda3\\envs\\footballprediction\\lib\\site-packages\\pytorch_lightning\\trainer\\evaluation_loop.py:391\u001B[0m, in \u001B[0;36mTrainerEvaluationLoopMixin.run_evaluation\u001B[1;34m(self, test_mode)\u001B[0m\n\u001B[0;32m    388\u001B[0m     \u001B[38;5;28;01mreturn\u001B[39;00m\n\u001B[0;32m    390\u001B[0m \u001B[38;5;66;03m# run evaluation\u001B[39;00m\n\u001B[1;32m--> 391\u001B[0m eval_results \u001B[38;5;241m=\u001B[39m \u001B[38;5;28;43mself\u001B[39;49m\u001B[38;5;241;43m.\u001B[39;49m\u001B[43m_evaluate\u001B[49m\u001B[43m(\u001B[49m\u001B[38;5;28;43mself\u001B[39;49m\u001B[38;5;241;43m.\u001B[39;49m\u001B[43mmodel\u001B[49m\u001B[43m,\u001B[49m\u001B[43m \u001B[49m\u001B[43mdataloaders\u001B[49m\u001B[43m,\u001B[49m\u001B[43m \u001B[49m\u001B[43mmax_batches\u001B[49m\u001B[43m,\u001B[49m\u001B[43m \u001B[49m\u001B[43mtest_mode\u001B[49m\u001B[43m)\u001B[49m\n\u001B[0;32m    393\u001B[0m \u001B[38;5;66;03m# enable no returns\u001B[39;00m\n\u001B[0;32m    394\u001B[0m callback_metrics \u001B[38;5;241m=\u001B[39m {}\n",
      "File \u001B[1;32mD:\\Windows\\Programmi\\miniconda3\\envs\\footballprediction\\lib\\site-packages\\pytorch_lightning\\trainer\\evaluation_loop.py:272\u001B[0m, in \u001B[0;36mTrainerEvaluationLoopMixin._evaluate\u001B[1;34m(self, model, dataloaders, max_batches, test_mode)\u001B[0m\n\u001B[0;32m    269\u001B[0m \u001B[38;5;66;03m# each dataloader has a max num batches\u001B[39;00m\n\u001B[0;32m    270\u001B[0m dl_max_batches \u001B[38;5;241m=\u001B[39m max_batches[dataloader_idx]\n\u001B[1;32m--> 272\u001B[0m \u001B[38;5;28;01mfor\u001B[39;00m batch_idx, batch \u001B[38;5;129;01min\u001B[39;00m \u001B[38;5;28menumerate\u001B[39m(dataloader):\n\u001B[0;32m    273\u001B[0m     \u001B[38;5;28;01mif\u001B[39;00m batch \u001B[38;5;129;01mis\u001B[39;00m \u001B[38;5;28;01mNone\u001B[39;00m:\n\u001B[0;32m    274\u001B[0m         \u001B[38;5;28;01mcontinue\u001B[39;00m\n",
      "File \u001B[1;32mD:\\Windows\\Programmi\\miniconda3\\envs\\footballprediction\\lib\\site-packages\\torch\\utils\\data\\dataloader.py:530\u001B[0m, in \u001B[0;36m_BaseDataLoaderIter.__next__\u001B[1;34m(self)\u001B[0m\n\u001B[0;32m    528\u001B[0m \u001B[38;5;28;01mif\u001B[39;00m \u001B[38;5;28mself\u001B[39m\u001B[38;5;241m.\u001B[39m_sampler_iter \u001B[38;5;129;01mis\u001B[39;00m \u001B[38;5;28;01mNone\u001B[39;00m:\n\u001B[0;32m    529\u001B[0m     \u001B[38;5;28mself\u001B[39m\u001B[38;5;241m.\u001B[39m_reset()\n\u001B[1;32m--> 530\u001B[0m data \u001B[38;5;241m=\u001B[39m \u001B[38;5;28;43mself\u001B[39;49m\u001B[38;5;241;43m.\u001B[39;49m\u001B[43m_next_data\u001B[49m\u001B[43m(\u001B[49m\u001B[43m)\u001B[49m\n\u001B[0;32m    531\u001B[0m \u001B[38;5;28mself\u001B[39m\u001B[38;5;241m.\u001B[39m_num_yielded \u001B[38;5;241m+\u001B[39m\u001B[38;5;241m=\u001B[39m \u001B[38;5;241m1\u001B[39m\n\u001B[0;32m    532\u001B[0m \u001B[38;5;28;01mif\u001B[39;00m \u001B[38;5;28mself\u001B[39m\u001B[38;5;241m.\u001B[39m_dataset_kind \u001B[38;5;241m==\u001B[39m _DatasetKind\u001B[38;5;241m.\u001B[39mIterable \u001B[38;5;129;01mand\u001B[39;00m \\\n\u001B[0;32m    533\u001B[0m         \u001B[38;5;28mself\u001B[39m\u001B[38;5;241m.\u001B[39m_IterableDataset_len_called \u001B[38;5;129;01mis\u001B[39;00m \u001B[38;5;129;01mnot\u001B[39;00m \u001B[38;5;28;01mNone\u001B[39;00m \u001B[38;5;129;01mand\u001B[39;00m \\\n\u001B[0;32m    534\u001B[0m         \u001B[38;5;28mself\u001B[39m\u001B[38;5;241m.\u001B[39m_num_yielded \u001B[38;5;241m>\u001B[39m \u001B[38;5;28mself\u001B[39m\u001B[38;5;241m.\u001B[39m_IterableDataset_len_called:\n",
      "File \u001B[1;32mD:\\Windows\\Programmi\\miniconda3\\envs\\footballprediction\\lib\\site-packages\\torch\\utils\\data\\dataloader.py:570\u001B[0m, in \u001B[0;36m_SingleProcessDataLoaderIter._next_data\u001B[1;34m(self)\u001B[0m\n\u001B[0;32m    568\u001B[0m \u001B[38;5;28;01mdef\u001B[39;00m \u001B[38;5;21m_next_data\u001B[39m(\u001B[38;5;28mself\u001B[39m):\n\u001B[0;32m    569\u001B[0m     index \u001B[38;5;241m=\u001B[39m \u001B[38;5;28mself\u001B[39m\u001B[38;5;241m.\u001B[39m_next_index()  \u001B[38;5;66;03m# may raise StopIteration\u001B[39;00m\n\u001B[1;32m--> 570\u001B[0m     data \u001B[38;5;241m=\u001B[39m \u001B[38;5;28;43mself\u001B[39;49m\u001B[38;5;241;43m.\u001B[39;49m\u001B[43m_dataset_fetcher\u001B[49m\u001B[38;5;241;43m.\u001B[39;49m\u001B[43mfetch\u001B[49m\u001B[43m(\u001B[49m\u001B[43mindex\u001B[49m\u001B[43m)\u001B[49m  \u001B[38;5;66;03m# may raise StopIteration\u001B[39;00m\n\u001B[0;32m    571\u001B[0m     \u001B[38;5;28;01mif\u001B[39;00m \u001B[38;5;28mself\u001B[39m\u001B[38;5;241m.\u001B[39m_pin_memory:\n\u001B[0;32m    572\u001B[0m         data \u001B[38;5;241m=\u001B[39m _utils\u001B[38;5;241m.\u001B[39mpin_memory\u001B[38;5;241m.\u001B[39mpin_memory(data)\n",
      "File \u001B[1;32mD:\\Windows\\Programmi\\miniconda3\\envs\\footballprediction\\lib\\site-packages\\torch\\utils\\data\\_utils\\fetch.py:49\u001B[0m, in \u001B[0;36m_MapDatasetFetcher.fetch\u001B[1;34m(self, possibly_batched_index)\u001B[0m\n\u001B[0;32m     47\u001B[0m \u001B[38;5;28;01mdef\u001B[39;00m \u001B[38;5;21mfetch\u001B[39m(\u001B[38;5;28mself\u001B[39m, possibly_batched_index):\n\u001B[0;32m     48\u001B[0m     \u001B[38;5;28;01mif\u001B[39;00m \u001B[38;5;28mself\u001B[39m\u001B[38;5;241m.\u001B[39mauto_collation:\n\u001B[1;32m---> 49\u001B[0m         data \u001B[38;5;241m=\u001B[39m [\u001B[38;5;28mself\u001B[39m\u001B[38;5;241m.\u001B[39mdataset[idx] \u001B[38;5;28;01mfor\u001B[39;00m idx \u001B[38;5;129;01min\u001B[39;00m possibly_batched_index]\n\u001B[0;32m     50\u001B[0m     \u001B[38;5;28;01melse\u001B[39;00m:\n\u001B[0;32m     51\u001B[0m         data \u001B[38;5;241m=\u001B[39m \u001B[38;5;28mself\u001B[39m\u001B[38;5;241m.\u001B[39mdataset[possibly_batched_index]\n",
      "File \u001B[1;32mD:\\Windows\\Programmi\\miniconda3\\envs\\footballprediction\\lib\\site-packages\\torch\\utils\\data\\_utils\\fetch.py:49\u001B[0m, in \u001B[0;36m<listcomp>\u001B[1;34m(.0)\u001B[0m\n\u001B[0;32m     47\u001B[0m \u001B[38;5;28;01mdef\u001B[39;00m \u001B[38;5;21mfetch\u001B[39m(\u001B[38;5;28mself\u001B[39m, possibly_batched_index):\n\u001B[0;32m     48\u001B[0m     \u001B[38;5;28;01mif\u001B[39;00m \u001B[38;5;28mself\u001B[39m\u001B[38;5;241m.\u001B[39mauto_collation:\n\u001B[1;32m---> 49\u001B[0m         data \u001B[38;5;241m=\u001B[39m [\u001B[38;5;28;43mself\u001B[39;49m\u001B[38;5;241;43m.\u001B[39;49m\u001B[43mdataset\u001B[49m\u001B[43m[\u001B[49m\u001B[43midx\u001B[49m\u001B[43m]\u001B[49m \u001B[38;5;28;01mfor\u001B[39;00m idx \u001B[38;5;129;01min\u001B[39;00m possibly_batched_index]\n\u001B[0;32m     50\u001B[0m     \u001B[38;5;28;01melse\u001B[39;00m:\n\u001B[0;32m     51\u001B[0m         data \u001B[38;5;241m=\u001B[39m \u001B[38;5;28mself\u001B[39m\u001B[38;5;241m.\u001B[39mdataset[possibly_batched_index]\n",
      "File \u001B[1;32mD:\\Windows\\Programmi\\miniconda3\\envs\\footballprediction\\lib\\site-packages\\torch\\utils\\data\\dataset.py:471\u001B[0m, in \u001B[0;36mSubset.__getitem__\u001B[1;34m(self, idx)\u001B[0m\n\u001B[0;32m    469\u001B[0m \u001B[38;5;28;01mif\u001B[39;00m \u001B[38;5;28misinstance\u001B[39m(idx, \u001B[38;5;28mlist\u001B[39m):\n\u001B[0;32m    470\u001B[0m     \u001B[38;5;28;01mreturn\u001B[39;00m \u001B[38;5;28mself\u001B[39m\u001B[38;5;241m.\u001B[39mdataset[[\u001B[38;5;28mself\u001B[39m\u001B[38;5;241m.\u001B[39mindices[i] \u001B[38;5;28;01mfor\u001B[39;00m i \u001B[38;5;129;01min\u001B[39;00m idx]]\n\u001B[1;32m--> 471\u001B[0m \u001B[38;5;28;01mreturn\u001B[39;00m \u001B[38;5;28;43mself\u001B[39;49m\u001B[38;5;241;43m.\u001B[39;49m\u001B[43mdataset\u001B[49m\u001B[43m[\u001B[49m\u001B[38;5;28;43mself\u001B[39;49m\u001B[38;5;241;43m.\u001B[39;49m\u001B[43mindices\u001B[49m\u001B[43m[\u001B[49m\u001B[43midx\u001B[49m\u001B[43m]\u001B[49m\u001B[43m]\u001B[49m\n",
      "Input \u001B[1;32mIn [193]\u001B[0m, in \u001B[0;36mSerieAFootballMatchesDataset.__getitem__\u001B[1;34m(self, idx)\u001B[0m\n\u001B[0;32m     23\u001B[0m y \u001B[38;5;241m=\u001B[39m \u001B[38;5;28mself\u001B[39m\u001B[38;5;241m.\u001B[39mdataframe[[\u001B[38;5;124m'\u001B[39m\u001B[38;5;124mresult_home\u001B[39m\u001B[38;5;124m'\u001B[39m, \u001B[38;5;124m'\u001B[39m\u001B[38;5;124mresult_draw\u001B[39m\u001B[38;5;124m'\u001B[39m, \u001B[38;5;124m'\u001B[39m\u001B[38;5;124mresult_away\u001B[39m\u001B[38;5;124m'\u001B[39m]]\u001B[38;5;241m.\u001B[39miloc[\u001B[38;5;241m0\u001B[39m]\u001B[38;5;241m.\u001B[39mvalues\n\u001B[0;32m     24\u001B[0m \u001B[38;5;28;01mtry\u001B[39;00m: \u001B[38;5;66;03m# if we are not able to fetch at least one historical match, then we switch to another index\u001B[39;00m\n\u001B[1;32m---> 25\u001B[0m     last_n_games_home, last_n_games_away \u001B[38;5;241m=\u001B[39m \u001B[38;5;28;43mself\u001B[39;49m\u001B[38;5;241;43m.\u001B[39;49m\u001B[43mretrieve_historical_data\u001B[49m\u001B[43m(\u001B[49m\u001B[43mx\u001B[49m\u001B[43m)\u001B[49m\n\u001B[0;32m     26\u001B[0m     x, x_historical_home, x_historical_away, y \u001B[38;5;241m=\u001B[39m \u001B[38;5;28mself\u001B[39m\u001B[38;5;241m.\u001B[39mto_tensor(x, last_n_games_home, last_n_games_away, y)\n\u001B[0;32m     27\u001B[0m     exp_num_of_features \u001B[38;5;241m=\u001B[39m \u001B[38;5;28mlen\u001B[39m(\u001B[38;5;28mself\u001B[39m\u001B[38;5;241m.\u001B[39mdataframe\u001B[38;5;241m.\u001B[39mcolumns)\n",
      "Input \u001B[1;32mIn [193]\u001B[0m, in \u001B[0;36mSerieAFootballMatchesDataset.retrieve_historical_data\u001B[1;34m(self, source)\u001B[0m\n\u001B[0;32m     68\u001B[0m \u001B[38;5;28;01mdef\u001B[39;00m \u001B[38;5;21mretrieve_historical_data\u001B[39m(\u001B[38;5;28mself\u001B[39m, source: pd\u001B[38;5;241m.\u001B[39mDataFrame):\n\u001B[0;32m     69\u001B[0m     \u001B[38;5;124;03m\"\"\"Retrieve historical data for home and away teams from source\"\"\"\u001B[39;00m\n\u001B[1;32m---> 70\u001B[0m     last_n_games_home \u001B[38;5;241m=\u001B[39m \u001B[43mget_last_n_matches_played_by_team_before_round_in_season\u001B[49m\u001B[43m(\u001B[49m\n\u001B[0;32m     71\u001B[0m \u001B[43m        \u001B[49m\u001B[38;5;28;43mself\u001B[39;49m\u001B[38;5;241;43m.\u001B[39;49m\u001B[43mdataframe\u001B[49m\u001B[43m,\u001B[49m\u001B[43m \u001B[49m\u001B[43mget_playing_home_team_name\u001B[49m\u001B[43m(\u001B[49m\u001B[43msource\u001B[49m\u001B[43m)\u001B[49m\u001B[43m,\u001B[49m\u001B[43m \u001B[49m\u001B[43msource\u001B[49m\u001B[43m[\u001B[49m\u001B[38;5;124;43m'\u001B[39;49m\u001B[38;5;124;43mseason\u001B[39;49m\u001B[38;5;124;43m'\u001B[39;49m\u001B[43m]\u001B[49m\u001B[38;5;241;43m.\u001B[39;49m\u001B[43mvalues\u001B[49m\u001B[43m[\u001B[49m\u001B[38;5;241;43m0\u001B[39;49m\u001B[43m]\u001B[49m\u001B[43m,\u001B[49m\u001B[43m \u001B[49m\u001B[43msource\u001B[49m\u001B[43m[\u001B[49m\u001B[38;5;124;43m'\u001B[39;49m\u001B[38;5;124;43mround\u001B[39;49m\u001B[38;5;124;43m'\u001B[39;49m\u001B[43m]\u001B[49m\u001B[38;5;241;43m.\u001B[39;49m\u001B[43mvalues\u001B[49m\u001B[43m[\u001B[49m\u001B[38;5;241;43m0\u001B[39;49m\u001B[43m]\u001B[49m\u001B[43m,\u001B[49m\u001B[43m \u001B[49m\u001B[38;5;28;43mself\u001B[39;49m\u001B[38;5;241;43m.\u001B[39;49m\u001B[43mhistory_len\u001B[49m\u001B[43m)\u001B[49m\n\u001B[0;32m     72\u001B[0m     last_n_games_away \u001B[38;5;241m=\u001B[39m get_last_n_matches_played_by_team_before_round_in_season(\n\u001B[0;32m     73\u001B[0m         \u001B[38;5;28mself\u001B[39m\u001B[38;5;241m.\u001B[39mdataframe, get_playing_away_team_name(source), source[\u001B[38;5;124m'\u001B[39m\u001B[38;5;124mseason\u001B[39m\u001B[38;5;124m'\u001B[39m]\u001B[38;5;241m.\u001B[39mvalues[\u001B[38;5;241m0\u001B[39m], source[\u001B[38;5;124m'\u001B[39m\u001B[38;5;124mround\u001B[39m\u001B[38;5;124m'\u001B[39m]\u001B[38;5;241m.\u001B[39mvalues[\u001B[38;5;241m0\u001B[39m], \u001B[38;5;28mself\u001B[39m\u001B[38;5;241m.\u001B[39mhistory_len)\n\u001B[0;32m     74\u001B[0m     \u001B[38;5;28;01mreturn\u001B[39;00m last_n_games_home, last_n_games_away\n",
      "Input \u001B[1;32mIn [192]\u001B[0m, in \u001B[0;36mget_last_n_matches_played_by_team_before_round_in_season\u001B[1;34m(df, team, season, round, n)\u001B[0m\n\u001B[0;32m     31\u001B[0m     \u001B[38;5;28;01mreturn\u001B[39;00m fill_with_padding(result)\n\u001B[0;32m     32\u001B[0m current_round, current_season \u001B[38;5;241m=\u001B[39m decrement_round_in_season(current_round, current_season)\n\u001B[1;32m---> 33\u001B[0m historical_match_at_current_round \u001B[38;5;241m=\u001B[39m \u001B[43mget_match_by_team_season_round\u001B[49m\u001B[43m(\u001B[49m\u001B[43mdf\u001B[49m\u001B[43m,\u001B[49m\u001B[43m \u001B[49m\u001B[43mteam\u001B[49m\u001B[43m,\u001B[49m\u001B[43m \u001B[49m\u001B[43mcurrent_season\u001B[49m\u001B[43m,\u001B[49m\u001B[43m \u001B[49m\u001B[43mcurrent_round\u001B[49m\u001B[43m)\u001B[49m\n\u001B[0;32m     34\u001B[0m \u001B[38;5;28;01mif\u001B[39;00m \u001B[38;5;129;01mnot\u001B[39;00m historical_match_at_current_round\u001B[38;5;241m.\u001B[39mempty:\n\u001B[0;32m     35\u001B[0m     result \u001B[38;5;241m=\u001B[39m pd\u001B[38;5;241m.\u001B[39mconcat([result, historical_match_at_current_round])\n",
      "Input \u001B[1;32mIn [192]\u001B[0m, in \u001B[0;36mget_match_by_team_season_round\u001B[1;34m(df, team, season, round)\u001B[0m\n\u001B[0;32m      2\u001B[0m \u001B[38;5;28;01mdef\u001B[39;00m \u001B[38;5;21mget_match_by_team_season_round\u001B[39m(df: pd\u001B[38;5;241m.\u001B[39mDataFrame, team: \u001B[38;5;28mstr\u001B[39m, season: \u001B[38;5;28mint\u001B[39m, \u001B[38;5;28mround\u001B[39m: \u001B[38;5;28mint\u001B[39m) \u001B[38;5;241m-\u001B[39m\u001B[38;5;241m>\u001B[39m pd\u001B[38;5;241m.\u001B[39mDataFrame:\n\u001B[0;32m      3\u001B[0m     \u001B[38;5;124;03m\"\"\"Get the match played by the given team in the given season and round. If the team has not played any match in that round, an empty dataframe is returned.\"\"\"\u001B[39;00m\n\u001B[1;32m----> 4\u001B[0m     \u001B[38;5;28;01mreturn\u001B[39;00m df[\u001B[43m(\u001B[49m\u001B[43m(\u001B[49m\u001B[43mdf\u001B[49m\u001B[43m[\u001B[49m\u001B[38;5;124;43mf\u001B[39;49m\u001B[38;5;124;43m'\u001B[39;49m\u001B[38;5;124;43mhome_team_\u001B[39;49m\u001B[38;5;132;43;01m{\u001B[39;49;00m\u001B[43mteam\u001B[49m\u001B[38;5;132;43;01m}\u001B[39;49;00m\u001B[38;5;124;43m'\u001B[39;49m\u001B[43m]\u001B[49m\u001B[43m \u001B[49m\u001B[38;5;241;43m==\u001B[39;49m\u001B[43m \u001B[49m\u001B[38;5;241;43m1\u001B[39;49m\u001B[43m)\u001B[49m\u001B[43m \u001B[49m\u001B[38;5;241;43m|\u001B[39;49m\u001B[43m \u001B[49m\u001B[43m(\u001B[49m\u001B[43mdf\u001B[49m\u001B[43m[\u001B[49m\u001B[38;5;124;43mf\u001B[39;49m\u001B[38;5;124;43m'\u001B[39;49m\u001B[38;5;124;43maway_team_\u001B[39;49m\u001B[38;5;132;43;01m{\u001B[39;49;00m\u001B[43mteam\u001B[49m\u001B[38;5;132;43;01m}\u001B[39;49;00m\u001B[38;5;124;43m'\u001B[39;49m\u001B[43m]\u001B[49m\u001B[43m \u001B[49m\u001B[38;5;241;43m==\u001B[39;49m\u001B[43m \u001B[49m\u001B[38;5;241;43m1\u001B[39;49m\u001B[43m)\u001B[49m\u001B[43m)\u001B[49m\u001B[43m \u001B[49m\u001B[38;5;241;43m&\u001B[39;49m\u001B[43m \u001B[49m\u001B[43m(\u001B[49m\u001B[43mdf\u001B[49m\u001B[43m[\u001B[49m\u001B[38;5;124;43m'\u001B[39;49m\u001B[38;5;124;43mround\u001B[39;49m\u001B[38;5;124;43m'\u001B[39;49m\u001B[43m]\u001B[49m\u001B[43m \u001B[49m\u001B[38;5;241;43m==\u001B[39;49m\u001B[43m \u001B[49m\u001B[38;5;28;43mround\u001B[39;49m\u001B[43m)\u001B[49m \u001B[38;5;241m&\u001B[39m (df[\u001B[38;5;124m'\u001B[39m\u001B[38;5;124mseason\u001B[39m\u001B[38;5;124m'\u001B[39m] \u001B[38;5;241m==\u001B[39m season)]\n",
      "File \u001B[1;32mD:\\Windows\\Programmi\\miniconda3\\envs\\footballprediction\\lib\\site-packages\\pandas\\core\\ops\\common.py:70\u001B[0m, in \u001B[0;36m_unpack_zerodim_and_defer.<locals>.new_method\u001B[1;34m(self, other)\u001B[0m\n\u001B[0;32m     66\u001B[0m             \u001B[38;5;28;01mreturn\u001B[39;00m \u001B[38;5;28mNotImplemented\u001B[39m\n\u001B[0;32m     68\u001B[0m other \u001B[38;5;241m=\u001B[39m item_from_zerodim(other)\n\u001B[1;32m---> 70\u001B[0m \u001B[38;5;28;01mreturn\u001B[39;00m \u001B[43mmethod\u001B[49m\u001B[43m(\u001B[49m\u001B[38;5;28;43mself\u001B[39;49m\u001B[43m,\u001B[49m\u001B[43m \u001B[49m\u001B[43mother\u001B[49m\u001B[43m)\u001B[49m\n",
      "File \u001B[1;32mD:\\Windows\\Programmi\\miniconda3\\envs\\footballprediction\\lib\\site-packages\\pandas\\core\\arraylike.py:70\u001B[0m, in \u001B[0;36mOpsMixin.__and__\u001B[1;34m(self, other)\u001B[0m\n\u001B[0;32m     68\u001B[0m \u001B[38;5;129m@unpack_zerodim_and_defer\u001B[39m(\u001B[38;5;124m\"\u001B[39m\u001B[38;5;124m__and__\u001B[39m\u001B[38;5;124m\"\u001B[39m)\n\u001B[0;32m     69\u001B[0m \u001B[38;5;28;01mdef\u001B[39;00m \u001B[38;5;21m__and__\u001B[39m(\u001B[38;5;28mself\u001B[39m, other):\n\u001B[1;32m---> 70\u001B[0m     \u001B[38;5;28;01mreturn\u001B[39;00m \u001B[38;5;28;43mself\u001B[39;49m\u001B[38;5;241;43m.\u001B[39;49m\u001B[43m_logical_method\u001B[49m\u001B[43m(\u001B[49m\u001B[43mother\u001B[49m\u001B[43m,\u001B[49m\u001B[43m \u001B[49m\u001B[43moperator\u001B[49m\u001B[38;5;241;43m.\u001B[39;49m\u001B[43mand_\u001B[49m\u001B[43m)\u001B[49m\n",
      "File \u001B[1;32mD:\\Windows\\Programmi\\miniconda3\\envs\\footballprediction\\lib\\site-packages\\pandas\\core\\series.py:5634\u001B[0m, in \u001B[0;36mSeries._logical_method\u001B[1;34m(self, other, op)\u001B[0m\n\u001B[0;32m   5631\u001B[0m lvalues \u001B[38;5;241m=\u001B[39m \u001B[38;5;28mself\u001B[39m\u001B[38;5;241m.\u001B[39m_values\n\u001B[0;32m   5632\u001B[0m rvalues \u001B[38;5;241m=\u001B[39m extract_array(other, extract_numpy\u001B[38;5;241m=\u001B[39m\u001B[38;5;28;01mTrue\u001B[39;00m, extract_range\u001B[38;5;241m=\u001B[39m\u001B[38;5;28;01mTrue\u001B[39;00m)\n\u001B[1;32m-> 5634\u001B[0m res_values \u001B[38;5;241m=\u001B[39m \u001B[43mops\u001B[49m\u001B[38;5;241;43m.\u001B[39;49m\u001B[43mlogical_op\u001B[49m\u001B[43m(\u001B[49m\u001B[43mlvalues\u001B[49m\u001B[43m,\u001B[49m\u001B[43m \u001B[49m\u001B[43mrvalues\u001B[49m\u001B[43m,\u001B[49m\u001B[43m \u001B[49m\u001B[43mop\u001B[49m\u001B[43m)\u001B[49m\n\u001B[0;32m   5635\u001B[0m \u001B[38;5;28;01mreturn\u001B[39;00m \u001B[38;5;28mself\u001B[39m\u001B[38;5;241m.\u001B[39m_construct_result(res_values, name\u001B[38;5;241m=\u001B[39mres_name)\n",
      "File \u001B[1;32mD:\\Windows\\Programmi\\miniconda3\\envs\\footballprediction\\lib\\site-packages\\pandas\\core\\ops\\array_ops.py:393\u001B[0m, in \u001B[0;36mlogical_op\u001B[1;34m(left, right, op)\u001B[0m\n\u001B[0;32m    391\u001B[0m     res_values \u001B[38;5;241m=\u001B[39m na_logical_op(lvalues, rvalues, op)\n\u001B[0;32m    392\u001B[0m     \u001B[38;5;66;03m# error: Cannot call function of unknown type\u001B[39;00m\n\u001B[1;32m--> 393\u001B[0m     res_values \u001B[38;5;241m=\u001B[39m \u001B[43mfiller\u001B[49m\u001B[43m(\u001B[49m\u001B[43mres_values\u001B[49m\u001B[43m)\u001B[49m  \u001B[38;5;66;03m# type: ignore[operator]\u001B[39;00m\n\u001B[0;32m    395\u001B[0m \u001B[38;5;28;01mreturn\u001B[39;00m res_values\n",
      "File \u001B[1;32mD:\\Windows\\Programmi\\miniconda3\\envs\\footballprediction\\lib\\site-packages\\pandas\\core\\ops\\array_ops.py:360\u001B[0m, in \u001B[0;36mlogical_op.<locals>.fill_bool\u001B[1;34m(x, left)\u001B[0m\n\u001B[0;32m    357\u001B[0m         x[mask] \u001B[38;5;241m=\u001B[39m \u001B[38;5;28;01mFalse\u001B[39;00m\n\u001B[0;32m    359\u001B[0m \u001B[38;5;28;01mif\u001B[39;00m left \u001B[38;5;129;01mis\u001B[39;00m \u001B[38;5;28;01mNone\u001B[39;00m \u001B[38;5;129;01mor\u001B[39;00m is_bool_dtype(left\u001B[38;5;241m.\u001B[39mdtype):\n\u001B[1;32m--> 360\u001B[0m     x \u001B[38;5;241m=\u001B[39m \u001B[43mx\u001B[49m\u001B[38;5;241;43m.\u001B[39;49m\u001B[43mastype\u001B[49m\u001B[43m(\u001B[49m\u001B[38;5;28;43mbool\u001B[39;49m\u001B[43m)\u001B[49m\n\u001B[0;32m    361\u001B[0m \u001B[38;5;28;01mreturn\u001B[39;00m x\n",
      "\u001B[1;31mKeyboardInterrupt\u001B[0m: "
     ]
    }
   ],
   "source": [
    "trainer.test(model)"
   ],
   "metadata": {
    "collapsed": false,
    "pycharm": {
     "name": "#%%\n"
    }
   }
  },
  {
   "cell_type": "code",
   "execution_count": null,
   "outputs": [],
   "source": [
    "predict_dataset = SerieAFootballMatchesDataset(csv_file='data.csv')\n",
    "predict_loader = DataLoader(predict_dataset, batch_size=1)\n",
    "model.eval()\n",
    "# model.to('cuda')\n",
    "batch = next(iter(predict_loader))\n",
    "with torch.no_grad():\n",
    "    x, x_historical_home, x_historical_away, y = batch\n",
    "    # x.to('cuda')\n",
    "    # x_historical_home.to('cuda')\n",
    "    # x_historical_away.to('cuda')\n",
    "    # y.to('cuda')\n",
    "    prediction = model(x, x_historical_home, x_historical_away)\n",
    "prediction"
   ],
   "metadata": {
    "collapsed": false,
    "pycharm": {
     "name": "#%%\n"
    }
   }
  },
  {
   "cell_type": "code",
   "execution_count": null,
   "outputs": [],
   "source": [
    "predict_loader = DataLoader(SerieAFootballMatchesDataset(csv_file='data.csv'), batch_size=1)\n",
    "trainer = pl.Trainer()\n",
    "prediction = trainer.predict(model, predict_loader)"
   ],
   "metadata": {
    "collapsed": false,
    "pycharm": {
     "name": "#%%\n"
    }
   }
  },
  {
   "cell_type": "code",
   "execution_count": null,
   "outputs": [],
   "source": [
    "# trained_model = HybridNetwork.load_from_checkpoint(\"football_results/version_2/checkpoints/epoch=2.ckpt\")\n",
    "# trained_model.eval()\n",
    "# x, x_historical_home, x_historical_away, y = dataset.__getitem__(6000)\n",
    "# with torch.no_grad():\n",
    "#     y_hat = trained_model(x, x_historical_home, x_historical_away)\n",
    "#     print(y_hat)"
   ],
   "metadata": {
    "collapsed": false,
    "pycharm": {
     "name": "#%%\n"
    }
   }
  },
  {
   "cell_type": "code",
   "execution_count": null,
   "outputs": [],
   "source": [
    "# model.eval()\n",
    "# x, x_historical_home, x_historical_away, y = dataset.__getitem__(6000)\n",
    "# print(x.shape)\n",
    "# print(x_historical_home.shape)\n",
    "# print(x_historical_away.shape)\n",
    "# print(y)\n",
    "# y_pred = model(x, x_historical_home, x_historical_away)\n",
    "# y_pred"
   ],
   "metadata": {
    "collapsed": false,
    "pycharm": {
     "name": "#%%\n"
    }
   }
  },
  {
   "cell_type": "markdown",
   "source": [
    "# Limitations\n",
    "- We don't have data about new players that come to play in _Serie A_ during the course of the seasons. The model has to learn from zero context how important their contribution is for the outcome of the matches. If we were to considered multiple leagues, we could keep track of player transfers and maintain the history.\n",
    "- We don't have data about cup matches played during the course of the seasons, like _Champions League_, _Europa League_ and _Coppa Italia_. Since they are very prestigious competitions and matches are usually very competitive, teams put a lot of effort in them and therefore can then perform worse in the championship.\n",
    "- We don't have any type of player performance metric like who scored a goal, who was the assist man, red or yellow cards, goalkeeper's saves etc. so the model could face some difficulties in learning which player is important for the team."
   ],
   "metadata": {
    "collapsed": false,
    "pycharm": {
     "name": "#%% md\n"
    }
   }
  }
 ],
 "metadata": {
  "kernelspec": {
   "display_name": "Python 3",
   "language": "python",
   "name": "python3"
  },
  "language_info": {
   "codemirror_mode": {
    "name": "ipython",
    "version": 2
   },
   "file_extension": ".py",
   "mimetype": "text/x-python",
   "name": "python",
   "nbconvert_exporter": "python",
   "pygments_lexer": "ipython2",
   "version": "2.7.6"
  }
 },
 "nbformat": 4,
 "nbformat_minor": 0
}