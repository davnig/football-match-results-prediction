{
 "cells": [
  {
   "cell_type": "code",
   "execution_count": 53,
   "outputs": [],
   "source": [
    "import re\n",
    "\n",
    "import pandas as pd\n",
    "import torch\n",
    "import torch.nn as nn\n",
    "from sklearn.preprocessing import LabelBinarizer\n",
    "from torch import optim\n",
    "from torch.utils.data import DataLoader\n",
    "from torch.utils.data import Dataset\n",
    "\n",
    "from train_utils import AverageMeter"
   ],
   "metadata": {
    "collapsed": false,
    "pycharm": {
     "name": "#%%\n"
    }
   }
  },
  {
   "cell_type": "code",
   "execution_count": 54,
   "outputs": [],
   "source": [
    "match_cols = ['season', 'round'] + \\\n",
    "['date', 'time', 'referee', 'home_team', 'away_team', 'hom_score', 'away_score'] + \\\n",
    "['home_team_coach'] + \\\n",
    "['home_player_' + str(i) for i in range(1, 12)] + \\\n",
    "['home_substitute_' + str(i) for i in range(1, 8)] + \\\n",
    "['away_team_coach'] + \\\n",
    "['away_player_' + str(i) for i in range(1, 12)] + \\\n",
    "['away_substitute_' + str(i) for i in range(1, 8)]"
   ],
   "metadata": {
    "collapsed": false,
    "pycharm": {
     "name": "#%%\n"
    }
   }
  },
  {
   "cell_type": "code",
   "execution_count": 55,
   "outputs": [],
   "source": [
    "train = pd.read_csv('train.csv')"
   ],
   "metadata": {
    "collapsed": false,
    "pycharm": {
     "name": "#%%\n"
    }
   }
  },
  {
   "cell_type": "code",
   "execution_count": 56,
   "outputs": [
    {
     "data": {
      "text/plain": "   season  round  year  month  day  hour  home_score  away_score  \\\n0       0      1  2005      8   27    20           2           1   \n1       0      1  2005      8   27    18           2           1   \n2       0      1  2005      8   28    15           1           1   \n3       0      1  2005      8   28    15           1           1   \n4       0      1  2005      8   28    15           3           0   \n\n   home_player_Sebastien Frey  home_player_Marco Amelia  ...  \\\n0                           1                         0  ...   \n1                           0                         1  ...   \n2                           0                         0  ...   \n3                           0                         0  ...   \n4                           0                         0  ...   \n\n   away_coach_Roberto Mancini  away_coach_Rosario Pergolizzi  \\\n0                           0                              0   \n1                           0                              0   \n2                           0                              0   \n3                           0                              0   \n4                           0                              0   \n\n   away_coach_Serse Cosmi  away_coach_Silvio Baldini  \\\n0                       0                          0   \n1                       0                          0   \n2                       0                          0   \n3                       0                          0   \n4                       0                          0   \n\n   away_coach_Sinisa Mihajlovic  away_coach_Stefano Colantuono  \\\n0                             0                              0   \n1                             0                              0   \n2                             0                              0   \n3                             0                              0   \n4                             0                              0   \n\n   away_coach_Stefano Pioli  away_coach_Walter Alfredo Novellino  \\\n0                         0                                    1   \n1                         0                                    0   \n2                         0                                    0   \n3                         0                                    0   \n4                         0                                    0   \n\n   away_coach_Walter Mazzarri  away_coach_Walter Zenga  \n0                           0                        0  \n1                           0                        0  \n2                           0                        0  \n3                           0                        0  \n4                           0                        0  \n\n[5 rows x 2590 columns]",
      "text/html": "<div>\n<style scoped>\n    .dataframe tbody tr th:only-of-type {\n        vertical-align: middle;\n    }\n\n    .dataframe tbody tr th {\n        vertical-align: top;\n    }\n\n    .dataframe thead th {\n        text-align: right;\n    }\n</style>\n<table border=\"1\" class=\"dataframe\">\n  <thead>\n    <tr style=\"text-align: right;\">\n      <th></th>\n      <th>season</th>\n      <th>round</th>\n      <th>year</th>\n      <th>month</th>\n      <th>day</th>\n      <th>hour</th>\n      <th>home_score</th>\n      <th>away_score</th>\n      <th>home_player_Sebastien Frey</th>\n      <th>home_player_Marco Amelia</th>\n      <th>...</th>\n      <th>away_coach_Roberto Mancini</th>\n      <th>away_coach_Rosario Pergolizzi</th>\n      <th>away_coach_Serse Cosmi</th>\n      <th>away_coach_Silvio Baldini</th>\n      <th>away_coach_Sinisa Mihajlovic</th>\n      <th>away_coach_Stefano Colantuono</th>\n      <th>away_coach_Stefano Pioli</th>\n      <th>away_coach_Walter Alfredo Novellino</th>\n      <th>away_coach_Walter Mazzarri</th>\n      <th>away_coach_Walter Zenga</th>\n    </tr>\n  </thead>\n  <tbody>\n    <tr>\n      <th>0</th>\n      <td>0</td>\n      <td>1</td>\n      <td>2005</td>\n      <td>8</td>\n      <td>27</td>\n      <td>20</td>\n      <td>2</td>\n      <td>1</td>\n      <td>1</td>\n      <td>0</td>\n      <td>...</td>\n      <td>0</td>\n      <td>0</td>\n      <td>0</td>\n      <td>0</td>\n      <td>0</td>\n      <td>0</td>\n      <td>0</td>\n      <td>1</td>\n      <td>0</td>\n      <td>0</td>\n    </tr>\n    <tr>\n      <th>1</th>\n      <td>0</td>\n      <td>1</td>\n      <td>2005</td>\n      <td>8</td>\n      <td>27</td>\n      <td>18</td>\n      <td>2</td>\n      <td>1</td>\n      <td>0</td>\n      <td>1</td>\n      <td>...</td>\n      <td>0</td>\n      <td>0</td>\n      <td>0</td>\n      <td>0</td>\n      <td>0</td>\n      <td>0</td>\n      <td>0</td>\n      <td>0</td>\n      <td>0</td>\n      <td>0</td>\n    </tr>\n    <tr>\n      <th>2</th>\n      <td>0</td>\n      <td>1</td>\n      <td>2005</td>\n      <td>8</td>\n      <td>28</td>\n      <td>15</td>\n      <td>1</td>\n      <td>1</td>\n      <td>0</td>\n      <td>0</td>\n      <td>...</td>\n      <td>0</td>\n      <td>0</td>\n      <td>0</td>\n      <td>0</td>\n      <td>0</td>\n      <td>0</td>\n      <td>0</td>\n      <td>0</td>\n      <td>0</td>\n      <td>0</td>\n    </tr>\n    <tr>\n      <th>3</th>\n      <td>0</td>\n      <td>1</td>\n      <td>2005</td>\n      <td>8</td>\n      <td>28</td>\n      <td>15</td>\n      <td>1</td>\n      <td>1</td>\n      <td>0</td>\n      <td>0</td>\n      <td>...</td>\n      <td>0</td>\n      <td>0</td>\n      <td>0</td>\n      <td>0</td>\n      <td>0</td>\n      <td>0</td>\n      <td>0</td>\n      <td>0</td>\n      <td>0</td>\n      <td>0</td>\n    </tr>\n    <tr>\n      <th>4</th>\n      <td>0</td>\n      <td>1</td>\n      <td>2005</td>\n      <td>8</td>\n      <td>28</td>\n      <td>15</td>\n      <td>3</td>\n      <td>0</td>\n      <td>0</td>\n      <td>0</td>\n      <td>...</td>\n      <td>0</td>\n      <td>0</td>\n      <td>0</td>\n      <td>0</td>\n      <td>0</td>\n      <td>0</td>\n      <td>0</td>\n      <td>0</td>\n      <td>0</td>\n      <td>0</td>\n    </tr>\n  </tbody>\n</table>\n<p>5 rows × 2590 columns</p>\n</div>"
     },
     "execution_count": 56,
     "metadata": {},
     "output_type": "execute_result"
    }
   ],
   "source": [
    "train.head()"
   ],
   "metadata": {
    "collapsed": false,
    "pycharm": {
     "name": "#%%\n"
    }
   }
  },
  {
   "cell_type": "code",
   "execution_count": 57,
   "outputs": [],
   "source": [
    "# utility methods\n",
    "def get_column_names_containing_str(df: pd.DataFrame, substring: str) -> list[str]:\n",
    "    return df.loc[:, df.columns.str.contains(substring)].columns.values.tolist()\n",
    "\n",
    "\n",
    "def get_team_and_historical_index_from_match_team_id(match_team_id: str) -> (str, str):\n",
    "    match_team_name = re.findall(\"\\s+\", match_team_id)[0]\n",
    "    match_team_index = re.findall(\"\\d+\", match_team_id)[0]\n",
    "    return match_team_name, match_team_index\n",
    "\n",
    "\n",
    "def get_match_by_team_season_round(df: pd.DataFrame, team: str, season: int, round: int) -> pd.DataFrame:\n",
    "    return df[((df[f'home_team_{team}'] == 1) | (df[f'away_team_{team}'] == 1)) & (df['round'] == round) & (df['season'] == season)]\n",
    "\n",
    "\n",
    "def get_last_n_matches_played_by_team_before_round_in_season(df: pd.DataFrame, team: str, season: int, round: int, n: int) -> pd.DataFrame:\n",
    "    last_n_matches = pd.DataFrame()\n",
    "    for i in range(1, n + 1):\n",
    "        if round - i > 0:\n",
    "            last_n_matches = pd.concat([last_n_matches, get_match_by_team_season_round(df, team, season, round - i)])\n",
    "    return last_n_matches\n",
    "\n",
    "\n",
    "def fill_with_padding(source: pd.DataFrame):\n",
    "    if len(source) < 5:\n",
    "        initial_len = len(source)\n",
    "        padding = source.tail(1)\n",
    "        for i in range(5 - len(source)):\n",
    "            source = pd.concat([source, padding], ignore_index=True)\n",
    "        # print(f'padding applied. Initial len: {initial_len} new_len: {len(source)}')\n",
    "    return source\n",
    "\n",
    "\n",
    "def get_home_team_name(row: pd.DataFrame) -> str:\n",
    "    result = row.loc[:, [col for col in row.columns if col.startswith('home_team_')]]\n",
    "    print(result)"
   ],
   "metadata": {
    "collapsed": false,
    "pycharm": {
     "name": "#%%\n"
    }
   }
  },
  {
   "cell_type": "code",
   "execution_count": 58,
   "outputs": [
    {
     "name": "stdout",
     "output_type": "stream",
     "text": [
      "      home_team_ASCOLI  home_team_ATALANTA  home_team_BOLOGNA  \\\n",
      "0                    0                   0                  0   \n",
      "1                    0                   0                  0   \n",
      "2                    1                   0                  0   \n",
      "3                    0                   0                  0   \n",
      "4                    0                   0                  0   \n",
      "...                ...                 ...                ...   \n",
      "1307                 0                   0                  0   \n",
      "1308                 0                   1                  0   \n",
      "1309                 0                   0                  0   \n",
      "1310                 0                   0                  0   \n",
      "1311                 0                   0                  1   \n",
      "\n",
      "      home_team_CAGLIARI  home_team_CATANIA  home_team_CHIEVOVERONA  \\\n",
      "0                      0                  0                       0   \n",
      "1                      0                  0                       0   \n",
      "2                      0                  0                       0   \n",
      "3                      0                  0                       0   \n",
      "4                      0                  0                       0   \n",
      "...                  ...                ...                     ...   \n",
      "1307                   0                  0                       0   \n",
      "1308                   0                  0                       0   \n",
      "1309                   0                  0                       1   \n",
      "1310                   0                  0                       0   \n",
      "1311                   0                  0                       0   \n",
      "\n",
      "      home_team_EMPOLI  home_team_FIORENTINA  home_team_GENOA  \\\n",
      "0                    0                     1                0   \n",
      "1                    0                     0                0   \n",
      "2                    0                     0                0   \n",
      "3                    0                     0                0   \n",
      "4                    0                     0                0   \n",
      "...                ...                   ...              ...   \n",
      "1307                 0                     0                0   \n",
      "1308                 0                     0                0   \n",
      "1309                 0                     0                0   \n",
      "1310                 0                     0                1   \n",
      "1311                 0                     0                0   \n",
      "\n",
      "      home_team_INTER  ...  home_team_NAPOLI  home_team_PALERMO  \\\n",
      "0                   0  ...                 0                  0   \n",
      "1                   0  ...                 0                  0   \n",
      "2                   0  ...                 0                  0   \n",
      "3                   0  ...                 0                  0   \n",
      "4                   1  ...                 0                  0   \n",
      "...               ...  ...               ...                ...   \n",
      "1307                0  ...                 0                  0   \n",
      "1308                0  ...                 0                  0   \n",
      "1309                0  ...                 0                  0   \n",
      "1310                0  ...                 0                  0   \n",
      "1311                0  ...                 0                  0   \n",
      "\n",
      "      home_team_PARMA  home_team_REGGINA  home_team_ROBUR SIENA  \\\n",
      "0                   0                  0                      0   \n",
      "1                   0                  0                      0   \n",
      "2                   0                  0                      0   \n",
      "3                   1                  0                      0   \n",
      "4                   0                  0                      0   \n",
      "...               ...                ...                    ...   \n",
      "1307                0                  0                      1   \n",
      "1308                0                  0                      0   \n",
      "1309                0                  0                      0   \n",
      "1310                0                  0                      0   \n",
      "1311                0                  0                      0   \n",
      "\n",
      "      home_team_ROMA  home_team_SAMPDORIA  home_team_TORINO  \\\n",
      "0                  0                    0                 0   \n",
      "1                  0                    0                 0   \n",
      "2                  0                    0                 0   \n",
      "3                  0                    0                 0   \n",
      "4                  0                    0                 0   \n",
      "...              ...                  ...               ...   \n",
      "1307               0                    0                 0   \n",
      "1308               0                    0                 0   \n",
      "1309               0                    0                 0   \n",
      "1310               0                    0                 0   \n",
      "1311               0                    0                 0   \n",
      "\n",
      "      home_team_TREVISO  home_team_UDINESE  \n",
      "0                     0                  0  \n",
      "1                     0                  0  \n",
      "2                     0                  0  \n",
      "3                     0                  0  \n",
      "4                     0                  0  \n",
      "...                 ...                ...  \n",
      "1307                  0                  0  \n",
      "1308                  0                  0  \n",
      "1309                  0                  0  \n",
      "1310                  0                  0  \n",
      "1311                  0                  0  \n",
      "\n",
      "[1312 rows x 26 columns]\n"
     ]
    }
   ],
   "source": [
    "get_home_team_name(train)"
   ],
   "metadata": {
    "collapsed": false,
    "pycharm": {
     "name": "#%%\n"
    }
   }
  },
  {
   "cell_type": "code",
   "execution_count": 59,
   "outputs": [
    {
     "name": "stdout",
     "output_type": "stream",
     "text": [
      "Total number of encoded features: 2590\n"
     ]
    }
   ],
   "source": [
    "tot_num_of_feats = len(train.columns)\n",
    "print(f'Total number of encoded features: {tot_num_of_feats}')"
   ],
   "metadata": {
    "collapsed": false,
    "pycharm": {
     "name": "#%%\n"
    }
   }
  },
  {
   "cell_type": "code",
   "execution_count": 60,
   "outputs": [],
   "source": [
    "del train\n",
    "# del lb"
   ],
   "metadata": {
    "collapsed": false,
    "pycharm": {
     "name": "#%%\n"
    }
   }
  },
  {
   "cell_type": "markdown",
   "source": [
    "### Dataset construction\n",
    "\n",
    "We need to define a torch Dataset and torch Dataloader that will be used during training."
   ],
   "metadata": {
    "collapsed": false,
    "pycharm": {
     "name": "#%% md\n"
    }
   }
  },
  {
   "cell_type": "code",
   "execution_count": 61,
   "outputs": [],
   "source": [
    "class SerieAFootballMatchesDataset(Dataset):\n",
    "    history_len = 5\n",
    "\n",
    "    def __init__(self, csv_file):\n",
    "        self.dataframe = pd.read_csv(csv_file)\n",
    "\n",
    "    def __len__(self) -> int:\n",
    "        return len(self.dataframe)\n",
    "\n",
    "    def __getitem__(self, idx):\n",
    "        # print(f'picked index {idx}')\n",
    "        idx = self.scale_idx(idx)\n",
    "        x_as_df = self.dataframe.iloc[[idx]]  # df\n",
    "        x = self.dataframe.loc[idx]  # series\n",
    "        # encoder expects a dataframe with a 'result' column\n",
    "        y = self.dataframe[['result_home', 'result_draw', 'result_home']]\n",
    "        last_n_games_home, last_n_games_away = self.retrieve_historical_data(x)\n",
    "        last_n_games_home = fill_with_padding(last_n_games_home)\n",
    "        last_n_games_away = fill_with_padding(last_n_games_away)\n",
    "        x, x_historical_home, x_historical_away, y = self.to_tensor(x_as_df, last_n_games_home, last_n_games_away, y)\n",
    "        return x, x_historical_home, x_historical_away, y\n",
    "\n",
    "    def scale_idx(self, idx: int) -> int:\n",
    "        \"\"\"Scale the given index to a range that allows for historical data retrieval\"\"\"\n",
    "        old_min = 0\n",
    "        old_max = len(self.dataframe)\n",
    "        '''\n",
    "        idx = 10 corresponds to the first match of the second round.\n",
    "        This ensure the retrieval of at least 1 historical match.\n",
    "        In the worst case scenario, padding will fill the other 4 historical slots.\n",
    "        '''\n",
    "        new_min = 10\n",
    "        new_max = old_max\n",
    "        old_range = old_max - old_min\n",
    "        new_range = new_max - new_min\n",
    "        normalized_idx = (idx - old_min) / old_range\n",
    "        return int(round(normalized_idx * new_range + new_min))\n",
    "\n",
    "    def retrieve_historical_data(self, source: pd.DataFrame):\n",
    "        \"\"\"Retrieve historical data for home and away teams from source\"\"\"\n",
    "        last_n_games_home = get_last_n_matches_played_by_team_before_round_in_season(\n",
    "            self.dataframe, source['home_team'], source['season'], source['round'], self.history_len)\n",
    "        last_n_games_away = get_last_n_matches_played_by_team_before_round_in_season(\n",
    "            self.dataframe, source['away_team'], source['season'], source['round'], self.history_len)\n",
    "        return last_n_games_home, last_n_games_away\n",
    "\n",
    "    def to_tensor(self, x: pd.DataFrame, x_historical_home: pd.DataFrame, x_historical_away: pd.DataFrame,\n",
    "               y: pd.DataFrame):\n",
    "        x_tensor = torch.tensor(x.values)\n",
    "        x_historical_home_tensor = torch.tensor(x_historical_home)\n",
    "        x_historical_away_tensor = torch.tensor(x_historical_away)\n",
    "        y_tensor = torch.tensor(y)\n",
    "        return x_tensor, x_historical_home_tensor, x_historical_away_tensor, y_tensor\n"
   ],
   "metadata": {
    "collapsed": false,
    "pycharm": {
     "name": "#%%\n"
    }
   }
  },
  {
   "cell_type": "markdown",
   "source": [
    "## Training"
   ],
   "metadata": {
    "collapsed": false,
    "pycharm": {
     "name": "#%% md\n"
    }
   }
  },
  {
   "cell_type": "code",
   "execution_count": 62,
   "outputs": [],
   "source": [
    "class RNN(nn.Module):\n",
    "    def __init__(self, input_size, hidden_size):\n",
    "        super(RNN, self).__init__()\n",
    "        self.hidden_size = hidden_size\n",
    "        self.linear = nn.Linear(input_size + hidden_size, hidden_size)\n",
    "        self.tanh = nn.Tanh()\n",
    "\n",
    "    def forward(self, input, hidden):\n",
    "        combined = torch.cat([input, hidden], dim=0)\n",
    "        pre_hidden = self.linear(combined)\n",
    "        hidden = self.tanh(pre_hidden)\n",
    "        return hidden\n",
    "\n",
    "    def init_hidden(self, minibatch_size):\n",
    "        return torch.zeros(minibatch_size, self.hidden_size)\n",
    "\n",
    "\n",
    "class NeuralNetwork(nn.Module):\n",
    "    def __init__(self, input_size):\n",
    "        super(NeuralNetwork, self).__init__()\n",
    "        self.input_size = input_size\n",
    "        self.flatten = nn.Flatten()\n",
    "        self.layers = nn.Sequential(\n",
    "            nn.Linear(input_size, 512),\n",
    "            nn.ReLU(),\n",
    "            nn.Linear(512, 512),\n",
    "            nn.ReLU(),\n",
    "            nn.Linear(512, 3),\n",
    "            # nn.Softmax(dim=1) softmax is applied implicitly by CrossEntropyLoss\n",
    "        )\n",
    "\n",
    "    def forward(self, x):\n",
    "        # 'x' is the combination of: 'x', 'x_historical_home', 'x_historical_away'\n",
    "        # they all have size: minibatch_size x num_of_feats\n",
    "        x = self.flatten(x) # just in case x was not flattened\n",
    "        output = self.layers(x)\n",
    "        return output\n",
    "\n",
    "\n",
    "class HybridNetwork(nn.Module):\n",
    "    def __init__(self, rnn_home_model: RNN, rnn_away_model: RNN, mlp_model: NeuralNetwork):\n",
    "        super(HybridNetwork, self).__init__()\n",
    "        self.rnn_home = rnn_home_model\n",
    "        self.rnn_away = rnn_away_model\n",
    "        self.mlp = mlp_model\n",
    "\n",
    "    def forward(self, x, x_historical_home, x_historical_away):\n",
    "        # 'x' comes in as:                minibatch_size x 1 x num_of_feats\n",
    "        # 'x_historical_*' comes in as:   minibatch_size x 5 x num_of_feats\n",
    "        # 'rnn_*_hidden' will be:         minibatch_size x num_of_feats\n",
    "        batch_size = x.size(0)\n",
    "        time_seq_len = x_historical_home.size(1)\n",
    "        # RNN HOME FORWARD\n",
    "        rnn_home_hidden = self.rnn_home.init_hidden(batch_size)\n",
    "        # print(rnn_home_hidden)\n",
    "        for batch_idx in range(batch_size):\n",
    "            for history_idx in range(time_seq_len):\n",
    "                rnn_home_hidden[batch_idx] = self.rnn_home(\n",
    "                    torch.flatten(x_historical_home[batch_idx, history_idx]),\n",
    "                    rnn_home_hidden[batch_idx])\n",
    "        # RNN AWAY FORWARD\n",
    "        rnn_away_hidden = self.rnn_away.init_hidden(batch_size)\n",
    "        for batch_idx in range(batch_size):\n",
    "            for history_idx in range(time_seq_len):\n",
    "                rnn_away_hidden[batch_idx] = self.rnn_away(\n",
    "                    torch.flatten(x_historical_away[batch_idx, history_idx]),\n",
    "                    rnn_away_hidden[batch_idx])\n",
    "        # print(rnn_home_hidden)\n",
    "        # MLP FORWARD\n",
    "        # concat on the features dimension\n",
    "        x_train = torch.cat([x, rnn_home_hidden, rnn_away_hidden], dim=1)\n",
    "        print(f'x_train shape: {x_train.shape}')\n",
    "        y_hat = self.mlp(x_train)\n",
    "        return y_hat"
   ],
   "metadata": {
    "collapsed": false,
    "pycharm": {
     "name": "#%%\n"
    }
   }
  },
  {
   "cell_type": "code",
   "execution_count": 63,
   "outputs": [],
   "source": [
    "def train_epoch(model: HybridNetwork, dataloader: DataLoader, optimizer: optim.Optimizer, loss_fn, loss_meter):\n",
    "    for x, x_historical_home, x_historical_away, y in dataloader:\n",
    "        optimizer.zero_grad()\n",
    "        y_hat = model(x, x_historical_home, x_historical_away)\n",
    "        # print(f'y: {y}')\n",
    "        # print(f'y_hat: {y_hat}')\n",
    "        loss = loss_fn(y.to(dtype=torch.float), y_hat)\n",
    "        print(f'loss: {loss}')\n",
    "        loss.backward()\n",
    "        optimizer.step()\n",
    "        loss_meter.update(val=loss.item(), n=x.shape[0])\n",
    "\n",
    "\n",
    "def train_model(model: HybridNetwork, dataloader: DataLoader, optimizer: optim.Optimizer, loss_fn, num_epochs: int):\n",
    "    model.train()\n",
    "    for epoch in range(num_epochs):\n",
    "        loss_meter = AverageMeter()\n",
    "        train_epoch(model=model, dataloader=dataloader, optimizer=optimizer, loss_fn=loss_fn, loss_meter=loss_meter)\n",
    "        print(f\"Epoch {epoch + 1} completed. Training loss: {loss_meter.avg}\")"
   ],
   "metadata": {
    "collapsed": false,
    "pycharm": {
     "name": "#%%\n"
    }
   }
  },
  {
   "cell_type": "code",
   "execution_count": 64,
   "outputs": [],
   "source": [
    "train_dataset = SerieAFootballMatchesDataset(csv_file='train.csv')"
   ],
   "metadata": {
    "collapsed": false,
    "pycharm": {
     "name": "#%%\n"
    }
   }
  },
  {
   "cell_type": "code",
   "execution_count": 65,
   "outputs": [],
   "source": [
    "train_dataloader = DataLoader(train_dataset, batch_size=32, shuffle=True)\n",
    "# test_dataloader = DataLoader(test_data, batch_size=64, shuffle=True)"
   ],
   "metadata": {
    "collapsed": false,
    "pycharm": {
     "name": "#%%\n"
    }
   }
  },
  {
   "cell_type": "code",
   "execution_count": 66,
   "outputs": [],
   "source": [
    "learning_rate = 0.001\n",
    "num_epochs = 3\n",
    "hidden_size = 128\n",
    "rnn_home = RNN(input_size=tot_num_of_feats, hidden_size=hidden_size)\n",
    "rnn_away = RNN(input_size=tot_num_of_feats, hidden_size=hidden_size)\n",
    "# we have two hidden states (for home and away team) plus all features except for 'home_score', 'away_score', 'result_home', 'result_draw' and 'result_away'\n",
    "mlp = NeuralNetwork(hidden_size * 2 + tot_num_of_feats - 5)\n",
    "model = HybridNetwork(rnn_home_model=rnn_home, rnn_away_model=rnn_away, mlp_model=mlp)\n",
    "cross_entropy_loss_fn = nn.CrossEntropyLoss()\n",
    "optimizer = optim.SGD(model.parameters(), lr=learning_rate)"
   ],
   "metadata": {
    "collapsed": false,
    "pycharm": {
     "name": "#%%\n"
    }
   }
  },
  {
   "cell_type": "code",
   "execution_count": 67,
   "outputs": [
    {
     "ename": "KeyError",
     "evalue": "'home_team'",
     "output_type": "error",
     "traceback": [
      "\u001B[1;31m---------------------------------------------------------------------------\u001B[0m",
      "\u001B[1;31mKeyError\u001B[0m                                  Traceback (most recent call last)",
      "File \u001B[1;32mD:\\Windows\\Programmi\\miniconda3\\envs\\footballprediction\\lib\\site-packages\\pandas\\core\\indexes\\base.py:3621\u001B[0m, in \u001B[0;36mIndex.get_loc\u001B[1;34m(self, key, method, tolerance)\u001B[0m\n\u001B[0;32m   3620\u001B[0m \u001B[38;5;28;01mtry\u001B[39;00m:\n\u001B[1;32m-> 3621\u001B[0m     \u001B[38;5;28;01mreturn\u001B[39;00m \u001B[38;5;28;43mself\u001B[39;49m\u001B[38;5;241;43m.\u001B[39;49m\u001B[43m_engine\u001B[49m\u001B[38;5;241;43m.\u001B[39;49m\u001B[43mget_loc\u001B[49m\u001B[43m(\u001B[49m\u001B[43mcasted_key\u001B[49m\u001B[43m)\u001B[49m\n\u001B[0;32m   3622\u001B[0m \u001B[38;5;28;01mexcept\u001B[39;00m \u001B[38;5;167;01mKeyError\u001B[39;00m \u001B[38;5;28;01mas\u001B[39;00m err:\n",
      "File \u001B[1;32mD:\\Windows\\Programmi\\miniconda3\\envs\\footballprediction\\lib\\site-packages\\pandas\\_libs\\index.pyx:136\u001B[0m, in \u001B[0;36mpandas._libs.index.IndexEngine.get_loc\u001B[1;34m()\u001B[0m\n",
      "File \u001B[1;32mD:\\Windows\\Programmi\\miniconda3\\envs\\footballprediction\\lib\\site-packages\\pandas\\_libs\\index.pyx:163\u001B[0m, in \u001B[0;36mpandas._libs.index.IndexEngine.get_loc\u001B[1;34m()\u001B[0m\n",
      "File \u001B[1;32mpandas\\_libs\\hashtable_class_helper.pxi:5198\u001B[0m, in \u001B[0;36mpandas._libs.hashtable.PyObjectHashTable.get_item\u001B[1;34m()\u001B[0m\n",
      "File \u001B[1;32mpandas\\_libs\\hashtable_class_helper.pxi:5206\u001B[0m, in \u001B[0;36mpandas._libs.hashtable.PyObjectHashTable.get_item\u001B[1;34m()\u001B[0m\n",
      "\u001B[1;31mKeyError\u001B[0m: 'home_team'",
      "\nThe above exception was the direct cause of the following exception:\n",
      "\u001B[1;31mKeyError\u001B[0m                                  Traceback (most recent call last)",
      "Input \u001B[1;32mIn [67]\u001B[0m, in \u001B[0;36m<cell line: 1>\u001B[1;34m()\u001B[0m\n\u001B[1;32m----> 1\u001B[0m \u001B[43mtrain_model\u001B[49m\u001B[43m(\u001B[49m\u001B[43mmodel\u001B[49m\u001B[38;5;241;43m=\u001B[39;49m\u001B[43mmodel\u001B[49m\u001B[43m,\u001B[49m\u001B[43m \u001B[49m\u001B[43mdataloader\u001B[49m\u001B[38;5;241;43m=\u001B[39;49m\u001B[43mtrain_dataloader\u001B[49m\u001B[43m,\u001B[49m\u001B[43m \u001B[49m\u001B[43moptimizer\u001B[49m\u001B[38;5;241;43m=\u001B[39;49m\u001B[43moptimizer\u001B[49m\u001B[43m,\u001B[49m\u001B[43m \u001B[49m\u001B[43mloss_fn\u001B[49m\u001B[38;5;241;43m=\u001B[39;49m\u001B[43mcross_entropy_loss_fn\u001B[49m\u001B[43m,\u001B[49m\u001B[43m \u001B[49m\u001B[43mnum_epochs\u001B[49m\u001B[38;5;241;43m=\u001B[39;49m\u001B[43mnum_epochs\u001B[49m\u001B[43m)\u001B[49m\n",
      "Input \u001B[1;32mIn [63]\u001B[0m, in \u001B[0;36mtrain_model\u001B[1;34m(model, dataloader, optimizer, loss_fn, num_epochs)\u001B[0m\n\u001B[0;32m     16\u001B[0m \u001B[38;5;28;01mfor\u001B[39;00m epoch \u001B[38;5;129;01min\u001B[39;00m \u001B[38;5;28mrange\u001B[39m(num_epochs):\n\u001B[0;32m     17\u001B[0m     loss_meter \u001B[38;5;241m=\u001B[39m AverageMeter()\n\u001B[1;32m---> 18\u001B[0m     \u001B[43mtrain_epoch\u001B[49m\u001B[43m(\u001B[49m\u001B[43mmodel\u001B[49m\u001B[38;5;241;43m=\u001B[39;49m\u001B[43mmodel\u001B[49m\u001B[43m,\u001B[49m\u001B[43m \u001B[49m\u001B[43mdataloader\u001B[49m\u001B[38;5;241;43m=\u001B[39;49m\u001B[43mdataloader\u001B[49m\u001B[43m,\u001B[49m\u001B[43m \u001B[49m\u001B[43moptimizer\u001B[49m\u001B[38;5;241;43m=\u001B[39;49m\u001B[43moptimizer\u001B[49m\u001B[43m,\u001B[49m\u001B[43m \u001B[49m\u001B[43mloss_fn\u001B[49m\u001B[38;5;241;43m=\u001B[39;49m\u001B[43mloss_fn\u001B[49m\u001B[43m,\u001B[49m\u001B[43m \u001B[49m\u001B[43mloss_meter\u001B[49m\u001B[38;5;241;43m=\u001B[39;49m\u001B[43mloss_meter\u001B[49m\u001B[43m)\u001B[49m\n\u001B[0;32m     19\u001B[0m     \u001B[38;5;28mprint\u001B[39m(\u001B[38;5;124mf\u001B[39m\u001B[38;5;124m\"\u001B[39m\u001B[38;5;124mEpoch \u001B[39m\u001B[38;5;132;01m{\u001B[39;00mepoch \u001B[38;5;241m+\u001B[39m \u001B[38;5;241m1\u001B[39m\u001B[38;5;132;01m}\u001B[39;00m\u001B[38;5;124m completed. Training loss: \u001B[39m\u001B[38;5;132;01m{\u001B[39;00mloss_meter\u001B[38;5;241m.\u001B[39mavg\u001B[38;5;132;01m}\u001B[39;00m\u001B[38;5;124m\"\u001B[39m)\n",
      "Input \u001B[1;32mIn [63]\u001B[0m, in \u001B[0;36mtrain_epoch\u001B[1;34m(model, dataloader, optimizer, loss_fn, loss_meter)\u001B[0m\n\u001B[0;32m      1\u001B[0m \u001B[38;5;28;01mdef\u001B[39;00m \u001B[38;5;21mtrain_epoch\u001B[39m(model: HybridNetwork, dataloader: DataLoader, optimizer: optim\u001B[38;5;241m.\u001B[39mOptimizer, loss_fn, loss_meter):\n\u001B[1;32m----> 2\u001B[0m     \u001B[38;5;28;01mfor\u001B[39;00m x, x_historical_home, x_historical_away, y \u001B[38;5;129;01min\u001B[39;00m dataloader:\n\u001B[0;32m      3\u001B[0m         optimizer\u001B[38;5;241m.\u001B[39mzero_grad()\n\u001B[0;32m      4\u001B[0m         y_hat \u001B[38;5;241m=\u001B[39m model(x, x_historical_home, x_historical_away)\n",
      "File \u001B[1;32mD:\\Windows\\Programmi\\miniconda3\\envs\\footballprediction\\lib\\site-packages\\torch\\utils\\data\\dataloader.py:530\u001B[0m, in \u001B[0;36m_BaseDataLoaderIter.__next__\u001B[1;34m(self)\u001B[0m\n\u001B[0;32m    528\u001B[0m \u001B[38;5;28;01mif\u001B[39;00m \u001B[38;5;28mself\u001B[39m\u001B[38;5;241m.\u001B[39m_sampler_iter \u001B[38;5;129;01mis\u001B[39;00m \u001B[38;5;28;01mNone\u001B[39;00m:\n\u001B[0;32m    529\u001B[0m     \u001B[38;5;28mself\u001B[39m\u001B[38;5;241m.\u001B[39m_reset()\n\u001B[1;32m--> 530\u001B[0m data \u001B[38;5;241m=\u001B[39m \u001B[38;5;28;43mself\u001B[39;49m\u001B[38;5;241;43m.\u001B[39;49m\u001B[43m_next_data\u001B[49m\u001B[43m(\u001B[49m\u001B[43m)\u001B[49m\n\u001B[0;32m    531\u001B[0m \u001B[38;5;28mself\u001B[39m\u001B[38;5;241m.\u001B[39m_num_yielded \u001B[38;5;241m+\u001B[39m\u001B[38;5;241m=\u001B[39m \u001B[38;5;241m1\u001B[39m\n\u001B[0;32m    532\u001B[0m \u001B[38;5;28;01mif\u001B[39;00m \u001B[38;5;28mself\u001B[39m\u001B[38;5;241m.\u001B[39m_dataset_kind \u001B[38;5;241m==\u001B[39m _DatasetKind\u001B[38;5;241m.\u001B[39mIterable \u001B[38;5;129;01mand\u001B[39;00m \\\n\u001B[0;32m    533\u001B[0m         \u001B[38;5;28mself\u001B[39m\u001B[38;5;241m.\u001B[39m_IterableDataset_len_called \u001B[38;5;129;01mis\u001B[39;00m \u001B[38;5;129;01mnot\u001B[39;00m \u001B[38;5;28;01mNone\u001B[39;00m \u001B[38;5;129;01mand\u001B[39;00m \\\n\u001B[0;32m    534\u001B[0m         \u001B[38;5;28mself\u001B[39m\u001B[38;5;241m.\u001B[39m_num_yielded \u001B[38;5;241m>\u001B[39m \u001B[38;5;28mself\u001B[39m\u001B[38;5;241m.\u001B[39m_IterableDataset_len_called:\n",
      "File \u001B[1;32mD:\\Windows\\Programmi\\miniconda3\\envs\\footballprediction\\lib\\site-packages\\torch\\utils\\data\\dataloader.py:570\u001B[0m, in \u001B[0;36m_SingleProcessDataLoaderIter._next_data\u001B[1;34m(self)\u001B[0m\n\u001B[0;32m    568\u001B[0m \u001B[38;5;28;01mdef\u001B[39;00m \u001B[38;5;21m_next_data\u001B[39m(\u001B[38;5;28mself\u001B[39m):\n\u001B[0;32m    569\u001B[0m     index \u001B[38;5;241m=\u001B[39m \u001B[38;5;28mself\u001B[39m\u001B[38;5;241m.\u001B[39m_next_index()  \u001B[38;5;66;03m# may raise StopIteration\u001B[39;00m\n\u001B[1;32m--> 570\u001B[0m     data \u001B[38;5;241m=\u001B[39m \u001B[38;5;28;43mself\u001B[39;49m\u001B[38;5;241;43m.\u001B[39;49m\u001B[43m_dataset_fetcher\u001B[49m\u001B[38;5;241;43m.\u001B[39;49m\u001B[43mfetch\u001B[49m\u001B[43m(\u001B[49m\u001B[43mindex\u001B[49m\u001B[43m)\u001B[49m  \u001B[38;5;66;03m# may raise StopIteration\u001B[39;00m\n\u001B[0;32m    571\u001B[0m     \u001B[38;5;28;01mif\u001B[39;00m \u001B[38;5;28mself\u001B[39m\u001B[38;5;241m.\u001B[39m_pin_memory:\n\u001B[0;32m    572\u001B[0m         data \u001B[38;5;241m=\u001B[39m _utils\u001B[38;5;241m.\u001B[39mpin_memory\u001B[38;5;241m.\u001B[39mpin_memory(data)\n",
      "File \u001B[1;32mD:\\Windows\\Programmi\\miniconda3\\envs\\footballprediction\\lib\\site-packages\\torch\\utils\\data\\_utils\\fetch.py:49\u001B[0m, in \u001B[0;36m_MapDatasetFetcher.fetch\u001B[1;34m(self, possibly_batched_index)\u001B[0m\n\u001B[0;32m     47\u001B[0m \u001B[38;5;28;01mdef\u001B[39;00m \u001B[38;5;21mfetch\u001B[39m(\u001B[38;5;28mself\u001B[39m, possibly_batched_index):\n\u001B[0;32m     48\u001B[0m     \u001B[38;5;28;01mif\u001B[39;00m \u001B[38;5;28mself\u001B[39m\u001B[38;5;241m.\u001B[39mauto_collation:\n\u001B[1;32m---> 49\u001B[0m         data \u001B[38;5;241m=\u001B[39m [\u001B[38;5;28mself\u001B[39m\u001B[38;5;241m.\u001B[39mdataset[idx] \u001B[38;5;28;01mfor\u001B[39;00m idx \u001B[38;5;129;01min\u001B[39;00m possibly_batched_index]\n\u001B[0;32m     50\u001B[0m     \u001B[38;5;28;01melse\u001B[39;00m:\n\u001B[0;32m     51\u001B[0m         data \u001B[38;5;241m=\u001B[39m \u001B[38;5;28mself\u001B[39m\u001B[38;5;241m.\u001B[39mdataset[possibly_batched_index]\n",
      "File \u001B[1;32mD:\\Windows\\Programmi\\miniconda3\\envs\\footballprediction\\lib\\site-packages\\torch\\utils\\data\\_utils\\fetch.py:49\u001B[0m, in \u001B[0;36m<listcomp>\u001B[1;34m(.0)\u001B[0m\n\u001B[0;32m     47\u001B[0m \u001B[38;5;28;01mdef\u001B[39;00m \u001B[38;5;21mfetch\u001B[39m(\u001B[38;5;28mself\u001B[39m, possibly_batched_index):\n\u001B[0;32m     48\u001B[0m     \u001B[38;5;28;01mif\u001B[39;00m \u001B[38;5;28mself\u001B[39m\u001B[38;5;241m.\u001B[39mauto_collation:\n\u001B[1;32m---> 49\u001B[0m         data \u001B[38;5;241m=\u001B[39m [\u001B[38;5;28;43mself\u001B[39;49m\u001B[38;5;241;43m.\u001B[39;49m\u001B[43mdataset\u001B[49m\u001B[43m[\u001B[49m\u001B[43midx\u001B[49m\u001B[43m]\u001B[49m \u001B[38;5;28;01mfor\u001B[39;00m idx \u001B[38;5;129;01min\u001B[39;00m possibly_batched_index]\n\u001B[0;32m     50\u001B[0m     \u001B[38;5;28;01melse\u001B[39;00m:\n\u001B[0;32m     51\u001B[0m         data \u001B[38;5;241m=\u001B[39m \u001B[38;5;28mself\u001B[39m\u001B[38;5;241m.\u001B[39mdataset[possibly_batched_index]\n",
      "Input \u001B[1;32mIn [61]\u001B[0m, in \u001B[0;36mSerieAFootballMatchesDataset.__getitem__\u001B[1;34m(self, idx)\u001B[0m\n\u001B[0;32m     15\u001B[0m \u001B[38;5;66;03m# encoder expects a dataframe with a 'result' column\u001B[39;00m\n\u001B[0;32m     16\u001B[0m y \u001B[38;5;241m=\u001B[39m \u001B[38;5;28mself\u001B[39m\u001B[38;5;241m.\u001B[39mdataframe[[\u001B[38;5;124m'\u001B[39m\u001B[38;5;124mresult_home\u001B[39m\u001B[38;5;124m'\u001B[39m, \u001B[38;5;124m'\u001B[39m\u001B[38;5;124mresult_draw\u001B[39m\u001B[38;5;124m'\u001B[39m, \u001B[38;5;124m'\u001B[39m\u001B[38;5;124mresult_home\u001B[39m\u001B[38;5;124m'\u001B[39m]]\n\u001B[1;32m---> 17\u001B[0m last_n_games_home, last_n_games_away \u001B[38;5;241m=\u001B[39m \u001B[38;5;28;43mself\u001B[39;49m\u001B[38;5;241;43m.\u001B[39;49m\u001B[43mretrieve_historical_data\u001B[49m\u001B[43m(\u001B[49m\u001B[43mx\u001B[49m\u001B[43m)\u001B[49m\n\u001B[0;32m     18\u001B[0m last_n_games_home \u001B[38;5;241m=\u001B[39m fill_with_padding(last_n_games_home)\n\u001B[0;32m     19\u001B[0m last_n_games_away \u001B[38;5;241m=\u001B[39m fill_with_padding(last_n_games_away)\n",
      "Input \u001B[1;32mIn [61]\u001B[0m, in \u001B[0;36mSerieAFootballMatchesDataset.retrieve_historical_data\u001B[1;34m(self, source)\u001B[0m\n\u001B[0;32m     39\u001B[0m \u001B[38;5;28;01mdef\u001B[39;00m \u001B[38;5;21mretrieve_historical_data\u001B[39m(\u001B[38;5;28mself\u001B[39m, source: pd\u001B[38;5;241m.\u001B[39mDataFrame):\n\u001B[0;32m     40\u001B[0m     \u001B[38;5;124;03m\"\"\"Retrieve historical data for home and away teams from source\"\"\"\u001B[39;00m\n\u001B[0;32m     41\u001B[0m     last_n_games_home \u001B[38;5;241m=\u001B[39m get_last_n_matches_played_by_team_before_round_in_season(\n\u001B[1;32m---> 42\u001B[0m         \u001B[38;5;28mself\u001B[39m\u001B[38;5;241m.\u001B[39mdataframe, \u001B[43msource\u001B[49m\u001B[43m[\u001B[49m\u001B[38;5;124;43m'\u001B[39;49m\u001B[38;5;124;43mhome_team\u001B[39;49m\u001B[38;5;124;43m'\u001B[39;49m\u001B[43m]\u001B[49m, source[\u001B[38;5;124m'\u001B[39m\u001B[38;5;124mseason\u001B[39m\u001B[38;5;124m'\u001B[39m], source[\u001B[38;5;124m'\u001B[39m\u001B[38;5;124mround\u001B[39m\u001B[38;5;124m'\u001B[39m], \u001B[38;5;28mself\u001B[39m\u001B[38;5;241m.\u001B[39mhistory_len)\n\u001B[0;32m     43\u001B[0m     last_n_games_away \u001B[38;5;241m=\u001B[39m get_last_n_matches_played_by_team_before_round_in_season(\n\u001B[0;32m     44\u001B[0m         \u001B[38;5;28mself\u001B[39m\u001B[38;5;241m.\u001B[39mdataframe, source[\u001B[38;5;124m'\u001B[39m\u001B[38;5;124maway_team\u001B[39m\u001B[38;5;124m'\u001B[39m], source[\u001B[38;5;124m'\u001B[39m\u001B[38;5;124mseason\u001B[39m\u001B[38;5;124m'\u001B[39m], source[\u001B[38;5;124m'\u001B[39m\u001B[38;5;124mround\u001B[39m\u001B[38;5;124m'\u001B[39m], \u001B[38;5;28mself\u001B[39m\u001B[38;5;241m.\u001B[39mhistory_len)\n\u001B[0;32m     45\u001B[0m     \u001B[38;5;28;01mreturn\u001B[39;00m last_n_games_home, last_n_games_away\n",
      "File \u001B[1;32mD:\\Windows\\Programmi\\miniconda3\\envs\\footballprediction\\lib\\site-packages\\pandas\\core\\series.py:958\u001B[0m, in \u001B[0;36mSeries.__getitem__\u001B[1;34m(self, key)\u001B[0m\n\u001B[0;32m    955\u001B[0m     \u001B[38;5;28;01mreturn\u001B[39;00m \u001B[38;5;28mself\u001B[39m\u001B[38;5;241m.\u001B[39m_values[key]\n\u001B[0;32m    957\u001B[0m \u001B[38;5;28;01melif\u001B[39;00m key_is_scalar:\n\u001B[1;32m--> 958\u001B[0m     \u001B[38;5;28;01mreturn\u001B[39;00m \u001B[38;5;28;43mself\u001B[39;49m\u001B[38;5;241;43m.\u001B[39;49m\u001B[43m_get_value\u001B[49m\u001B[43m(\u001B[49m\u001B[43mkey\u001B[49m\u001B[43m)\u001B[49m\n\u001B[0;32m    960\u001B[0m \u001B[38;5;28;01mif\u001B[39;00m is_hashable(key):\n\u001B[0;32m    961\u001B[0m     \u001B[38;5;66;03m# Otherwise index.get_value will raise InvalidIndexError\u001B[39;00m\n\u001B[0;32m    962\u001B[0m     \u001B[38;5;28;01mtry\u001B[39;00m:\n\u001B[0;32m    963\u001B[0m         \u001B[38;5;66;03m# For labels that don't resolve as scalars like tuples and frozensets\u001B[39;00m\n",
      "File \u001B[1;32mD:\\Windows\\Programmi\\miniconda3\\envs\\footballprediction\\lib\\site-packages\\pandas\\core\\series.py:1069\u001B[0m, in \u001B[0;36mSeries._get_value\u001B[1;34m(self, label, takeable)\u001B[0m\n\u001B[0;32m   1066\u001B[0m     \u001B[38;5;28;01mreturn\u001B[39;00m \u001B[38;5;28mself\u001B[39m\u001B[38;5;241m.\u001B[39m_values[label]\n\u001B[0;32m   1068\u001B[0m \u001B[38;5;66;03m# Similar to Index.get_value, but we do not fall back to positional\u001B[39;00m\n\u001B[1;32m-> 1069\u001B[0m loc \u001B[38;5;241m=\u001B[39m \u001B[38;5;28;43mself\u001B[39;49m\u001B[38;5;241;43m.\u001B[39;49m\u001B[43mindex\u001B[49m\u001B[38;5;241;43m.\u001B[39;49m\u001B[43mget_loc\u001B[49m\u001B[43m(\u001B[49m\u001B[43mlabel\u001B[49m\u001B[43m)\u001B[49m\n\u001B[0;32m   1070\u001B[0m \u001B[38;5;28;01mreturn\u001B[39;00m \u001B[38;5;28mself\u001B[39m\u001B[38;5;241m.\u001B[39mindex\u001B[38;5;241m.\u001B[39m_get_values_for_loc(\u001B[38;5;28mself\u001B[39m, loc, label)\n",
      "File \u001B[1;32mD:\\Windows\\Programmi\\miniconda3\\envs\\footballprediction\\lib\\site-packages\\pandas\\core\\indexes\\base.py:3623\u001B[0m, in \u001B[0;36mIndex.get_loc\u001B[1;34m(self, key, method, tolerance)\u001B[0m\n\u001B[0;32m   3621\u001B[0m     \u001B[38;5;28;01mreturn\u001B[39;00m \u001B[38;5;28mself\u001B[39m\u001B[38;5;241m.\u001B[39m_engine\u001B[38;5;241m.\u001B[39mget_loc(casted_key)\n\u001B[0;32m   3622\u001B[0m \u001B[38;5;28;01mexcept\u001B[39;00m \u001B[38;5;167;01mKeyError\u001B[39;00m \u001B[38;5;28;01mas\u001B[39;00m err:\n\u001B[1;32m-> 3623\u001B[0m     \u001B[38;5;28;01mraise\u001B[39;00m \u001B[38;5;167;01mKeyError\u001B[39;00m(key) \u001B[38;5;28;01mfrom\u001B[39;00m \u001B[38;5;21;01merr\u001B[39;00m\n\u001B[0;32m   3624\u001B[0m \u001B[38;5;28;01mexcept\u001B[39;00m \u001B[38;5;167;01mTypeError\u001B[39;00m:\n\u001B[0;32m   3625\u001B[0m     \u001B[38;5;66;03m# If we have a listlike key, _check_indexing_error will raise\u001B[39;00m\n\u001B[0;32m   3626\u001B[0m     \u001B[38;5;66;03m#  InvalidIndexError. Otherwise we fall through and re-raise\u001B[39;00m\n\u001B[0;32m   3627\u001B[0m     \u001B[38;5;66;03m#  the TypeError.\u001B[39;00m\n\u001B[0;32m   3628\u001B[0m     \u001B[38;5;28mself\u001B[39m\u001B[38;5;241m.\u001B[39m_check_indexing_error(key)\n",
      "\u001B[1;31mKeyError\u001B[0m: 'home_team'"
     ]
    }
   ],
   "source": [
    "train_model(model=model, dataloader=train_dataloader, optimizer=optimizer, loss_fn=cross_entropy_loss_fn, num_epochs=num_epochs)"
   ],
   "metadata": {
    "collapsed": false,
    "pycharm": {
     "name": "#%%\n"
    }
   }
  },
  {
   "cell_type": "markdown",
   "source": [
    "# Missing data\n",
    "- We don't have data about new players that come to play in _Serie A_ during the course of the seasons. The model has to learn from zero context how important their contribution is for the outcome of the matches. If we were to considered multiple leagues, we could keep track of player transfers and maintain the history.\n",
    "- We don't have data about cup matches played during the course of the seasons, like _Champions League_, _Europa League_ and _Coppa Italia_. Since they are very prestigious competitions and matches are usually very competitive, teams put a lot of effort in them and therefore can then perform worse in the championship.\n",
    "- We don't have any type of player performance metric like who scored a goal, who was the assist man, red or yellow cards, goalkeeper's saves etc. so the model could face some difficulties in learning which player is important for the team."
   ],
   "metadata": {
    "collapsed": false,
    "pycharm": {
     "name": "#%% md\n"
    }
   }
  },
  {
   "cell_type": "markdown",
   "source": [],
   "metadata": {
    "collapsed": false,
    "pycharm": {
     "name": "#%% md\n"
    }
   }
  }
 ],
 "metadata": {
  "kernelspec": {
   "display_name": "Python 3",
   "language": "python",
   "name": "python3"
  },
  "language_info": {
   "codemirror_mode": {
    "name": "ipython",
    "version": 2
   },
   "file_extension": ".py",
   "mimetype": "text/x-python",
   "name": "python",
   "nbconvert_exporter": "python",
   "pygments_lexer": "ipython2",
   "version": "2.7.6"
  }
 },
 "nbformat": 4,
 "nbformat_minor": 0
}