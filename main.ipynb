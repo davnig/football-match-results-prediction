{
 "cells": [
  {
   "cell_type": "markdown",
   "source": [
    "# Football matches result prediction\n",
    "\n",
    "Let's try to predict *Serie A* matches result (i.e. home win, away win or draw) with a RNN."
   ],
   "metadata": {
    "collapsed": false,
    "pycharm": {
     "name": "#%% md\n"
    }
   }
  },
  {
   "cell_type": "markdown",
   "source": [
    "## Introduction\n",
    "\n",
    "- The dataset was created by scraping *Serie A* matches data starting from season 2005-06 to season 2020-21\n",
    "- Cup matches (*Champions League*, *Europa League*, *Coppa Italia*) played over the course of each season were not taken into account"
   ],
   "metadata": {
    "collapsed": false,
    "pycharm": {
     "name": "#%% md\n"
    }
   }
  },
  {
   "cell_type": "code",
   "execution_count": 1106,
   "outputs": [],
   "source": [
    "import pandas as pd\n",
    "from _MatchNotFoundException import MatchNotFoundException\n",
    "from HomeOrAway import HomeOrAway\n",
    "from MatchResult import MatchResult\n",
    "from collections import defaultdict\n",
    "import re\n",
    "import torch\n",
    "import torch.nn as nn\n",
    "from torch import optim\n",
    "from sklearn.preprocessing import LabelBinarizer\n",
    "import numpy as np"
   ],
   "metadata": {
    "collapsed": false,
    "pycharm": {
     "name": "#%%\n"
    }
   }
  },
  {
   "cell_type": "code",
   "execution_count": 1107,
   "outputs": [],
   "source": [
    "match_cols = ['season', 'round'] + \\\n",
    "             ['date', 'time', 'referee', 'home_team', 'away_team', 'home_team_score', 'away_team_score'] + \\\n",
    "             ['home_team_coach'] + \\\n",
    "             ['home_player_' + str(i) for i in range(1, 12)] + \\\n",
    "             ['home_substitute_' + str(i) for i in range(1, 8)] + \\\n",
    "             ['away_team_coach'] + \\\n",
    "             ['away_player_' + str(i) for i in range(1, 12)] + \\\n",
    "             ['away_substitute_' + str(i) for i in range(1, 8)]\n",
    "historical_features_enabled = False\n",
    "# historical_features_enabled = True"
   ],
   "metadata": {
    "collapsed": false,
    "pycharm": {
     "name": "#%%\n"
    }
   }
  },
  {
   "cell_type": "code",
   "execution_count": 1108,
   "outputs": [
    {
     "data": {
      "text/plain": "    season  round        date   time             referee   home_team  \\\n0  2005-06      1  28/08/2005  15:00          MASSIMO DE      ASCOLI   \n1  2005-06      1  27/08/2005  20:30  GIANLUCA PAPARESTA  FIORENTINA   \n2  2005-06      1  28/08/2005  15:00       TIZIANO PIERI       PARMA   \n3  2005-06      1  28/08/2005  15:00   PAOLO TAGLIAVENTO       INTER   \n4  2005-06      1  27/08/2005  18:00     GIANLUCA ROCCHI     LIVORNO   \n\n   away_team  home_team_score  away_team_score   home_team_coach  ...  \\\n0      MILAN                1                1     Massimo Silva  ...   \n1  SAMPDORIA                2                1  Cesare Prandelli  ...   \n2    PALERMO                1                1     Mario Beretta  ...   \n3    TREVISO                3                0   Roberto Mancini  ...   \n4      LECCE                2                1  Roberto Donadoni  ...   \n\n     away_player_9     away_player_10      away_player_11  away_substitute_1  \\\n0             Kaka  Andriy Shevchenko   Alberto Gilardino  Marek Jankulovski   \n1   Lamberto Zauli   Francesco Flachi  Emiliano Bonazzoli       Marco Pisano   \n2  Massimo Bonanni  Andrea Caracciolo     Stephen Makinwa     Nicola Santoni   \n3        Reginaldo     Luigi Beghetto               Pinga  Roberto Chiappara   \n4     Alex Pinardi   Aleksei Eremenko      Graziano Pelle   Alfonso Camorani   \n\n  away_substitute_2   away_substitute_3  away_substitute_4  \\\n0  Clarence Seedorf        Zeljko Kalac    Gennaro Gattuso   \n1   Vitaliy Kutuzov     Marco Borriello   Luca Castellazzi   \n2    Franco Brienza   Massimo Mutarelli     Giuseppe Biava   \n3         Dino Fava     Jehad Muntasser    Adriano Zancope   \n4      Jaime Valdes  Giuseppe Cozzolino  Francesco Benussi   \n\n       away_substitute_5   away_substitute_6  away_substitute_7  \n0       Manuel Rui Costa        Johann Vogel        Dario Simic  \n1          Marco Zamboni        Simone Pavan   Gionata Mingozzi  \n2          Michele Ferri    Mariano Gonzalez        Simone Pepe  \n3  Francesco Parravicini            Anderson  Alberto Giuliatto  \n4         Marco Pecorari  Giuseppe Abruzzese    Davide Giorgino  \n\n[5 rows x 47 columns]",
      "text/html": "<div>\n<style scoped>\n    .dataframe tbody tr th:only-of-type {\n        vertical-align: middle;\n    }\n\n    .dataframe tbody tr th {\n        vertical-align: top;\n    }\n\n    .dataframe thead th {\n        text-align: right;\n    }\n</style>\n<table border=\"1\" class=\"dataframe\">\n  <thead>\n    <tr style=\"text-align: right;\">\n      <th></th>\n      <th>season</th>\n      <th>round</th>\n      <th>date</th>\n      <th>time</th>\n      <th>referee</th>\n      <th>home_team</th>\n      <th>away_team</th>\n      <th>home_team_score</th>\n      <th>away_team_score</th>\n      <th>home_team_coach</th>\n      <th>...</th>\n      <th>away_player_9</th>\n      <th>away_player_10</th>\n      <th>away_player_11</th>\n      <th>away_substitute_1</th>\n      <th>away_substitute_2</th>\n      <th>away_substitute_3</th>\n      <th>away_substitute_4</th>\n      <th>away_substitute_5</th>\n      <th>away_substitute_6</th>\n      <th>away_substitute_7</th>\n    </tr>\n  </thead>\n  <tbody>\n    <tr>\n      <th>0</th>\n      <td>2005-06</td>\n      <td>1</td>\n      <td>28/08/2005</td>\n      <td>15:00</td>\n      <td>MASSIMO DE</td>\n      <td>ASCOLI</td>\n      <td>MILAN</td>\n      <td>1</td>\n      <td>1</td>\n      <td>Massimo Silva</td>\n      <td>...</td>\n      <td>Kaka</td>\n      <td>Andriy Shevchenko</td>\n      <td>Alberto Gilardino</td>\n      <td>Marek Jankulovski</td>\n      <td>Clarence Seedorf</td>\n      <td>Zeljko Kalac</td>\n      <td>Gennaro Gattuso</td>\n      <td>Manuel Rui Costa</td>\n      <td>Johann Vogel</td>\n      <td>Dario Simic</td>\n    </tr>\n    <tr>\n      <th>1</th>\n      <td>2005-06</td>\n      <td>1</td>\n      <td>27/08/2005</td>\n      <td>20:30</td>\n      <td>GIANLUCA PAPARESTA</td>\n      <td>FIORENTINA</td>\n      <td>SAMPDORIA</td>\n      <td>2</td>\n      <td>1</td>\n      <td>Cesare Prandelli</td>\n      <td>...</td>\n      <td>Lamberto Zauli</td>\n      <td>Francesco Flachi</td>\n      <td>Emiliano Bonazzoli</td>\n      <td>Marco Pisano</td>\n      <td>Vitaliy Kutuzov</td>\n      <td>Marco Borriello</td>\n      <td>Luca Castellazzi</td>\n      <td>Marco Zamboni</td>\n      <td>Simone Pavan</td>\n      <td>Gionata Mingozzi</td>\n    </tr>\n    <tr>\n      <th>2</th>\n      <td>2005-06</td>\n      <td>1</td>\n      <td>28/08/2005</td>\n      <td>15:00</td>\n      <td>TIZIANO PIERI</td>\n      <td>PARMA</td>\n      <td>PALERMO</td>\n      <td>1</td>\n      <td>1</td>\n      <td>Mario Beretta</td>\n      <td>...</td>\n      <td>Massimo Bonanni</td>\n      <td>Andrea Caracciolo</td>\n      <td>Stephen Makinwa</td>\n      <td>Nicola Santoni</td>\n      <td>Franco Brienza</td>\n      <td>Massimo Mutarelli</td>\n      <td>Giuseppe Biava</td>\n      <td>Michele Ferri</td>\n      <td>Mariano Gonzalez</td>\n      <td>Simone Pepe</td>\n    </tr>\n    <tr>\n      <th>3</th>\n      <td>2005-06</td>\n      <td>1</td>\n      <td>28/08/2005</td>\n      <td>15:00</td>\n      <td>PAOLO TAGLIAVENTO</td>\n      <td>INTER</td>\n      <td>TREVISO</td>\n      <td>3</td>\n      <td>0</td>\n      <td>Roberto Mancini</td>\n      <td>...</td>\n      <td>Reginaldo</td>\n      <td>Luigi Beghetto</td>\n      <td>Pinga</td>\n      <td>Roberto Chiappara</td>\n      <td>Dino Fava</td>\n      <td>Jehad Muntasser</td>\n      <td>Adriano Zancope</td>\n      <td>Francesco Parravicini</td>\n      <td>Anderson</td>\n      <td>Alberto Giuliatto</td>\n    </tr>\n    <tr>\n      <th>4</th>\n      <td>2005-06</td>\n      <td>1</td>\n      <td>27/08/2005</td>\n      <td>18:00</td>\n      <td>GIANLUCA ROCCHI</td>\n      <td>LIVORNO</td>\n      <td>LECCE</td>\n      <td>2</td>\n      <td>1</td>\n      <td>Roberto Donadoni</td>\n      <td>...</td>\n      <td>Alex Pinardi</td>\n      <td>Aleksei Eremenko</td>\n      <td>Graziano Pelle</td>\n      <td>Alfonso Camorani</td>\n      <td>Jaime Valdes</td>\n      <td>Giuseppe Cozzolino</td>\n      <td>Francesco Benussi</td>\n      <td>Marco Pecorari</td>\n      <td>Giuseppe Abruzzese</td>\n      <td>Davide Giorgino</td>\n    </tr>\n  </tbody>\n</table>\n<p>5 rows × 47 columns</p>\n</div>"
     },
     "execution_count": 1108,
     "metadata": {},
     "output_type": "execute_result"
    }
   ],
   "source": [
    "raw_data = pd.read_csv('raw.csv')\n",
    "raw_data.head()"
   ],
   "metadata": {
    "collapsed": false,
    "pycharm": {
     "name": "#%%\n"
    }
   }
  },
  {
   "cell_type": "markdown",
   "source": [
    "## Data visualization\n",
    "\n",
    "Let's inspect our data a little bit more"
   ],
   "metadata": {
    "collapsed": false,
    "pycharm": {
     "name": "#%% md\n"
    }
   }
  },
  {
   "cell_type": "code",
   "execution_count": 1109,
   "outputs": [],
   "source": [
    "# todo"
   ],
   "metadata": {
    "collapsed": false,
    "pycharm": {
     "name": "#%%\n"
    }
   }
  },
  {
   "cell_type": "markdown",
   "source": [
    "## Dataset construction\n",
    "Now let's clean our raw data and construct the dataset. The full process for preparing the data is:\n",
    "- Convert date string values to pandas datetime values and explode them\n",
    "- Construct and add historical features\n",
    "- Add number of rest days between matches\n",
    "- Derive match results from scores\n",
    "- Encode data"
   ],
   "metadata": {
    "collapsed": false,
    "pycharm": {
     "name": "#%% md\n"
    }
   }
  },
  {
   "cell_type": "code",
   "execution_count": 1110,
   "outputs": [],
   "source": [
    "df = pd.DataFrame(raw_data)\n",
    "df = df[:200]"
   ],
   "metadata": {
    "collapsed": false,
    "pycharm": {
     "name": "#%%\n"
    }
   }
  },
  {
   "cell_type": "code",
   "execution_count": 1111,
   "outputs": [],
   "source": [
    "# convert date str to datetime\n",
    "df['date'] = pd.to_datetime(df['date'], infer_datetime_format=True)\n",
    "# sort by date column\n",
    "df = df.sort_values(by='date')\n",
    "df = df.reset_index(drop=True)"
   ],
   "metadata": {
    "collapsed": false,
    "pycharm": {
     "name": "#%%\n"
    }
   }
  },
  {
   "cell_type": "code",
   "execution_count": 1112,
   "outputs": [],
   "source": [
    "# utility methods\n",
    "def get_team_and_historical_index_from_match_team_id(match_team_id: str) -> (str, str):\n",
    "    match_team_name = re.findall(\"\\s+\", match_team_id)[0]\n",
    "    match_team_index = re.findall(\"\\d+\", match_team_id)[0]\n",
    "    return match_team_name, match_team_index\n",
    "\n",
    "\n",
    "def get_match_by_team_and_round(df: pd.DataFrame, team: str, round: int) -> pd.DataFrame:\n",
    "    return df[(df['home_team'].equals(team) | df['away_team'].equals(team)) & df['round'] == round]\n",
    "\n",
    "\n",
    "def get_last_n_matches_played_by_team(df: pd.DataFrame, team: str, round: int, n: int) -> pd.DataFrame:\n",
    "    last_n_matches = pd.DataFrame()\n",
    "    for i in range(1, n+1):\n",
    "        if round - i > 0:\n",
    "            last_n_matches = pd.concat([last_n_matches, get_match_by_team_and_round(df, team, round - i)], axis=1)\n",
    "    return last_n_matches\n"
   ],
   "metadata": {
    "collapsed": false,
    "pycharm": {
     "name": "#%%\n"
    }
   }
  },
  {
   "cell_type": "markdown",
   "source": [
    "### Rest days features\n",
    "Rest days are very important for recovery."
   ],
   "metadata": {
    "collapsed": false,
    "pycharm": {
     "name": "#%% md\n"
    }
   }
  },
  {
   "cell_type": "code",
   "execution_count": 1113,
   "outputs": [],
   "source": [
    "def count_days_between_dates(date1, date2) -> int:\n",
    "    return (date1 - date2).dt.days"
   ],
   "metadata": {
    "collapsed": false,
    "pycharm": {
     "name": "#%%\n"
    }
   }
  },
  {
   "cell_type": "code",
   "execution_count": 1114,
   "outputs": [],
   "source": [
    "# for i in range(5):\n",
    "#     for home_or_away in HomeOrAway:\n",
    "#         if i == 0:\n",
    "#             df[f'{home_or_away.name}_team_rest_days'] = count_days_between_dates(df['date'], df[f'{home_or_away.name}_team_history_{i+1}_date'])\n",
    "#         else:\n",
    "#             df[f'{home_or_away.name}_team_history_{i}_rest_days'] = count_days_between_dates(df[f'{home_or_away.name}_team_history_{i}_date'], df[f'{home_or_away.name}_team_history_{i+1}_date'])\n",
    "\n",
    "# todo: cannot count rest days for historical 5th games because we still miss the data about the 6th historical match"
   ],
   "metadata": {
    "collapsed": false,
    "pycharm": {
     "name": "#%%\n"
    }
   }
  },
  {
   "cell_type": "code",
   "execution_count": 1115,
   "outputs": [],
   "source": [
    "# delete columns referring to the historical 6th matches\n",
    "# df = df.loc[:, ~df.columns.str.contains('history_6')]"
   ],
   "metadata": {
    "collapsed": false,
    "pycharm": {
     "name": "#%%\n"
    }
   }
  },
  {
   "cell_type": "markdown",
   "source": [
    "### Additional features"
   ],
   "metadata": {
    "collapsed": false,
    "pycharm": {
     "name": "#%% md\n"
    }
   }
  },
  {
   "cell_type": "markdown",
   "source": [
    "#### Result column\n",
    "We don't care so much about scores because our model will try to predict match results, i.e. **home win**, **away win** or **draw. We need a result column to be used as our target column, so let's construct it from the scores."
   ],
   "metadata": {
    "collapsed": false,
    "pycharm": {
     "name": "#%% md\n"
    }
   }
  },
  {
   "cell_type": "code",
   "execution_count": 1116,
   "outputs": [],
   "source": [
    "def get_match_result_from_score(home_team_score: int, away_team_score: int) -> MatchResult:\n",
    "    if home_team_score == away_team_score:\n",
    "        return MatchResult.draw\n",
    "    if home_team_score > away_team_score:\n",
    "        return MatchResult.home\n",
    "    return MatchResult.away\n",
    "\n",
    "\n",
    "def add_target_column_for_historical_matches(df: pd.DataFrame) -> pd.DataFrame:\n",
    "    results = {}\n",
    "    # init\n",
    "    for i in range(5):\n",
    "        results[f'home_team_history_{i+1}_result'] = []\n",
    "        results[f'away_team_history_{i+1}_result'] = []\n",
    "    # populate\n",
    "    for index, row in df.iterrows():\n",
    "        for i in range(5):\n",
    "            results[f'home_team_history_{i+1}_result'] += \\\n",
    "                [get_match_result_from_score(row[f'home_team_history_{i+1}_home_team_score'], row[f'home_team_history_{i+1}_away_team_score']).name]\n",
    "            results[f'away_team_history_{i+1}_result'] += \\\n",
    "                [get_match_result_from_score(row[f'away_team_history_{i+1}_home_team_score'], row[f'away_team_history_{i+1}_away_team_score']).name]\n",
    "    # insert in dataset\n",
    "    for i in range(5):\n",
    "        df.insert(loc=df.columns.get_loc(f'home_team_history_{i+1}_home_team_score'), column=f'home_team_history_{i+1}_result', value=results[f'home_team_history_{i+1}_result'])\n",
    "        df.insert(loc=df.columns.get_loc(f'away_team_history_{i+1}_home_team_score'), column=f'away_team_history_{i+1}_result', value=results[f'away_team_history_{i+1}_result'])\n",
    "    return df\n",
    "\n",
    "\n",
    "def add_target_column(df: pd.DataFrame) -> pd.DataFrame:\n",
    "    results = {'result': []}\n",
    "    for index, row in df.iterrows():\n",
    "        results['result'] += [get_match_result_from_score(row['home_team_score'], row['away_team_score']).name]\n",
    "    df.insert(loc=df.columns.get_loc('home_team_score'), column='result', value=results['result'])\n",
    "    return df"
   ],
   "metadata": {
    "collapsed": false,
    "pycharm": {
     "name": "#%%\n"
    }
   }
  },
  {
   "cell_type": "code",
   "execution_count": 1117,
   "outputs": [
    {
     "data": {
      "text/plain": "    season  round       date   time             referee   home_team  \\\n0  2005-06      1 2005-08-27  20:30  GIANLUCA PAPARESTA  FIORENTINA   \n1  2005-06      1 2005-08-27  18:00     GIANLUCA ROCCHI     LIVORNO   \n2  2005-06      1 2005-08-28  15:00          MASSIMO DE      ASCOLI   \n3  2005-06      1 2005-08-28  15:00       TIZIANO PIERI       PARMA   \n4  2005-06      1 2005-08-28  15:00   PAOLO TAGLIAVENTO       INTER   \n\n   away_team result  home_team_score  away_team_score  ...    away_player_9  \\\n0  SAMPDORIA   home                2                1  ...   Lamberto Zauli   \n1      LECCE   home                2                1  ...     Alex Pinardi   \n2      MILAN   draw                1                1  ...             Kaka   \n3    PALERMO   draw                1                1  ...  Massimo Bonanni   \n4    TREVISO   home                3                0  ...        Reginaldo   \n\n      away_player_10      away_player_11  away_substitute_1 away_substitute_2  \\\n0   Francesco Flachi  Emiliano Bonazzoli       Marco Pisano   Vitaliy Kutuzov   \n1   Aleksei Eremenko      Graziano Pelle   Alfonso Camorani      Jaime Valdes   \n2  Andriy Shevchenko   Alberto Gilardino  Marek Jankulovski  Clarence Seedorf   \n3  Andrea Caracciolo     Stephen Makinwa     Nicola Santoni    Franco Brienza   \n4     Luigi Beghetto               Pinga  Roberto Chiappara         Dino Fava   \n\n    away_substitute_3  away_substitute_4      away_substitute_5  \\\n0     Marco Borriello   Luca Castellazzi          Marco Zamboni   \n1  Giuseppe Cozzolino  Francesco Benussi         Marco Pecorari   \n2        Zeljko Kalac    Gennaro Gattuso       Manuel Rui Costa   \n3   Massimo Mutarelli     Giuseppe Biava          Michele Ferri   \n4     Jehad Muntasser    Adriano Zancope  Francesco Parravicini   \n\n    away_substitute_6  away_substitute_7  \n0        Simone Pavan   Gionata Mingozzi  \n1  Giuseppe Abruzzese    Davide Giorgino  \n2        Johann Vogel        Dario Simic  \n3    Mariano Gonzalez        Simone Pepe  \n4            Anderson  Alberto Giuliatto  \n\n[5 rows x 48 columns]",
      "text/html": "<div>\n<style scoped>\n    .dataframe tbody tr th:only-of-type {\n        vertical-align: middle;\n    }\n\n    .dataframe tbody tr th {\n        vertical-align: top;\n    }\n\n    .dataframe thead th {\n        text-align: right;\n    }\n</style>\n<table border=\"1\" class=\"dataframe\">\n  <thead>\n    <tr style=\"text-align: right;\">\n      <th></th>\n      <th>season</th>\n      <th>round</th>\n      <th>date</th>\n      <th>time</th>\n      <th>referee</th>\n      <th>home_team</th>\n      <th>away_team</th>\n      <th>result</th>\n      <th>home_team_score</th>\n      <th>away_team_score</th>\n      <th>...</th>\n      <th>away_player_9</th>\n      <th>away_player_10</th>\n      <th>away_player_11</th>\n      <th>away_substitute_1</th>\n      <th>away_substitute_2</th>\n      <th>away_substitute_3</th>\n      <th>away_substitute_4</th>\n      <th>away_substitute_5</th>\n      <th>away_substitute_6</th>\n      <th>away_substitute_7</th>\n    </tr>\n  </thead>\n  <tbody>\n    <tr>\n      <th>0</th>\n      <td>2005-06</td>\n      <td>1</td>\n      <td>2005-08-27</td>\n      <td>20:30</td>\n      <td>GIANLUCA PAPARESTA</td>\n      <td>FIORENTINA</td>\n      <td>SAMPDORIA</td>\n      <td>home</td>\n      <td>2</td>\n      <td>1</td>\n      <td>...</td>\n      <td>Lamberto Zauli</td>\n      <td>Francesco Flachi</td>\n      <td>Emiliano Bonazzoli</td>\n      <td>Marco Pisano</td>\n      <td>Vitaliy Kutuzov</td>\n      <td>Marco Borriello</td>\n      <td>Luca Castellazzi</td>\n      <td>Marco Zamboni</td>\n      <td>Simone Pavan</td>\n      <td>Gionata Mingozzi</td>\n    </tr>\n    <tr>\n      <th>1</th>\n      <td>2005-06</td>\n      <td>1</td>\n      <td>2005-08-27</td>\n      <td>18:00</td>\n      <td>GIANLUCA ROCCHI</td>\n      <td>LIVORNO</td>\n      <td>LECCE</td>\n      <td>home</td>\n      <td>2</td>\n      <td>1</td>\n      <td>...</td>\n      <td>Alex Pinardi</td>\n      <td>Aleksei Eremenko</td>\n      <td>Graziano Pelle</td>\n      <td>Alfonso Camorani</td>\n      <td>Jaime Valdes</td>\n      <td>Giuseppe Cozzolino</td>\n      <td>Francesco Benussi</td>\n      <td>Marco Pecorari</td>\n      <td>Giuseppe Abruzzese</td>\n      <td>Davide Giorgino</td>\n    </tr>\n    <tr>\n      <th>2</th>\n      <td>2005-06</td>\n      <td>1</td>\n      <td>2005-08-28</td>\n      <td>15:00</td>\n      <td>MASSIMO DE</td>\n      <td>ASCOLI</td>\n      <td>MILAN</td>\n      <td>draw</td>\n      <td>1</td>\n      <td>1</td>\n      <td>...</td>\n      <td>Kaka</td>\n      <td>Andriy Shevchenko</td>\n      <td>Alberto Gilardino</td>\n      <td>Marek Jankulovski</td>\n      <td>Clarence Seedorf</td>\n      <td>Zeljko Kalac</td>\n      <td>Gennaro Gattuso</td>\n      <td>Manuel Rui Costa</td>\n      <td>Johann Vogel</td>\n      <td>Dario Simic</td>\n    </tr>\n    <tr>\n      <th>3</th>\n      <td>2005-06</td>\n      <td>1</td>\n      <td>2005-08-28</td>\n      <td>15:00</td>\n      <td>TIZIANO PIERI</td>\n      <td>PARMA</td>\n      <td>PALERMO</td>\n      <td>draw</td>\n      <td>1</td>\n      <td>1</td>\n      <td>...</td>\n      <td>Massimo Bonanni</td>\n      <td>Andrea Caracciolo</td>\n      <td>Stephen Makinwa</td>\n      <td>Nicola Santoni</td>\n      <td>Franco Brienza</td>\n      <td>Massimo Mutarelli</td>\n      <td>Giuseppe Biava</td>\n      <td>Michele Ferri</td>\n      <td>Mariano Gonzalez</td>\n      <td>Simone Pepe</td>\n    </tr>\n    <tr>\n      <th>4</th>\n      <td>2005-06</td>\n      <td>1</td>\n      <td>2005-08-28</td>\n      <td>15:00</td>\n      <td>PAOLO TAGLIAVENTO</td>\n      <td>INTER</td>\n      <td>TREVISO</td>\n      <td>home</td>\n      <td>3</td>\n      <td>0</td>\n      <td>...</td>\n      <td>Reginaldo</td>\n      <td>Luigi Beghetto</td>\n      <td>Pinga</td>\n      <td>Roberto Chiappara</td>\n      <td>Dino Fava</td>\n      <td>Jehad Muntasser</td>\n      <td>Adriano Zancope</td>\n      <td>Francesco Parravicini</td>\n      <td>Anderson</td>\n      <td>Alberto Giuliatto</td>\n    </tr>\n  </tbody>\n</table>\n<p>5 rows × 48 columns</p>\n</div>"
     },
     "execution_count": 1117,
     "metadata": {},
     "output_type": "execute_result"
    }
   ],
   "source": [
    "# add target column\n",
    "add_target_column(df)\n",
    "if historical_features_enabled:\n",
    "    add_target_column_for_historical_matches(df)\n",
    "df.head()"
   ],
   "metadata": {
    "collapsed": false,
    "pycharm": {
     "name": "#%%\n"
    }
   }
  },
  {
   "cell_type": "code",
   "execution_count": 1118,
   "outputs": [
    {
     "data": {
      "text/plain": "    season  round       date   time             referee   home_team  \\\n0  2005-06      1 2005-08-27  20:30  GIANLUCA PAPARESTA  FIORENTINA   \n1  2005-06      1 2005-08-27  18:00     GIANLUCA ROCCHI     LIVORNO   \n2  2005-06      1 2005-08-28  15:00          MASSIMO DE      ASCOLI   \n3  2005-06      1 2005-08-28  15:00       TIZIANO PIERI       PARMA   \n4  2005-06      1 2005-08-28  15:00   PAOLO TAGLIAVENTO       INTER   \n\n   away_team result   home_team_coach        home_player_1  ...  \\\n0  SAMPDORIA   home  Cesare Prandelli       Sebastien Frey  ...   \n1      LECCE   home  Roberto Donadoni         Marco Amelia  ...   \n2      MILAN   draw     Massimo Silva   Ferdinando Coppola  ...   \n3    PALERMO   draw     Mario Beretta  Cristiano Lupatelli  ...   \n4    TREVISO   home   Roberto Mancini          Julio Cesar  ...   \n\n     away_player_9     away_player_10      away_player_11  away_substitute_1  \\\n0   Lamberto Zauli   Francesco Flachi  Emiliano Bonazzoli       Marco Pisano   \n1     Alex Pinardi   Aleksei Eremenko      Graziano Pelle   Alfonso Camorani   \n2             Kaka  Andriy Shevchenko   Alberto Gilardino  Marek Jankulovski   \n3  Massimo Bonanni  Andrea Caracciolo     Stephen Makinwa     Nicola Santoni   \n4        Reginaldo     Luigi Beghetto               Pinga  Roberto Chiappara   \n\n  away_substitute_2   away_substitute_3  away_substitute_4  \\\n0   Vitaliy Kutuzov     Marco Borriello   Luca Castellazzi   \n1      Jaime Valdes  Giuseppe Cozzolino  Francesco Benussi   \n2  Clarence Seedorf        Zeljko Kalac    Gennaro Gattuso   \n3    Franco Brienza   Massimo Mutarelli     Giuseppe Biava   \n4         Dino Fava     Jehad Muntasser    Adriano Zancope   \n\n       away_substitute_5   away_substitute_6  away_substitute_7  \n0          Marco Zamboni        Simone Pavan   Gionata Mingozzi  \n1         Marco Pecorari  Giuseppe Abruzzese    Davide Giorgino  \n2       Manuel Rui Costa        Johann Vogel        Dario Simic  \n3          Michele Ferri    Mariano Gonzalez        Simone Pepe  \n4  Francesco Parravicini            Anderson  Alberto Giuliatto  \n\n[5 rows x 46 columns]",
      "text/html": "<div>\n<style scoped>\n    .dataframe tbody tr th:only-of-type {\n        vertical-align: middle;\n    }\n\n    .dataframe tbody tr th {\n        vertical-align: top;\n    }\n\n    .dataframe thead th {\n        text-align: right;\n    }\n</style>\n<table border=\"1\" class=\"dataframe\">\n  <thead>\n    <tr style=\"text-align: right;\">\n      <th></th>\n      <th>season</th>\n      <th>round</th>\n      <th>date</th>\n      <th>time</th>\n      <th>referee</th>\n      <th>home_team</th>\n      <th>away_team</th>\n      <th>result</th>\n      <th>home_team_coach</th>\n      <th>home_player_1</th>\n      <th>...</th>\n      <th>away_player_9</th>\n      <th>away_player_10</th>\n      <th>away_player_11</th>\n      <th>away_substitute_1</th>\n      <th>away_substitute_2</th>\n      <th>away_substitute_3</th>\n      <th>away_substitute_4</th>\n      <th>away_substitute_5</th>\n      <th>away_substitute_6</th>\n      <th>away_substitute_7</th>\n    </tr>\n  </thead>\n  <tbody>\n    <tr>\n      <th>0</th>\n      <td>2005-06</td>\n      <td>1</td>\n      <td>2005-08-27</td>\n      <td>20:30</td>\n      <td>GIANLUCA PAPARESTA</td>\n      <td>FIORENTINA</td>\n      <td>SAMPDORIA</td>\n      <td>home</td>\n      <td>Cesare Prandelli</td>\n      <td>Sebastien Frey</td>\n      <td>...</td>\n      <td>Lamberto Zauli</td>\n      <td>Francesco Flachi</td>\n      <td>Emiliano Bonazzoli</td>\n      <td>Marco Pisano</td>\n      <td>Vitaliy Kutuzov</td>\n      <td>Marco Borriello</td>\n      <td>Luca Castellazzi</td>\n      <td>Marco Zamboni</td>\n      <td>Simone Pavan</td>\n      <td>Gionata Mingozzi</td>\n    </tr>\n    <tr>\n      <th>1</th>\n      <td>2005-06</td>\n      <td>1</td>\n      <td>2005-08-27</td>\n      <td>18:00</td>\n      <td>GIANLUCA ROCCHI</td>\n      <td>LIVORNO</td>\n      <td>LECCE</td>\n      <td>home</td>\n      <td>Roberto Donadoni</td>\n      <td>Marco Amelia</td>\n      <td>...</td>\n      <td>Alex Pinardi</td>\n      <td>Aleksei Eremenko</td>\n      <td>Graziano Pelle</td>\n      <td>Alfonso Camorani</td>\n      <td>Jaime Valdes</td>\n      <td>Giuseppe Cozzolino</td>\n      <td>Francesco Benussi</td>\n      <td>Marco Pecorari</td>\n      <td>Giuseppe Abruzzese</td>\n      <td>Davide Giorgino</td>\n    </tr>\n    <tr>\n      <th>2</th>\n      <td>2005-06</td>\n      <td>1</td>\n      <td>2005-08-28</td>\n      <td>15:00</td>\n      <td>MASSIMO DE</td>\n      <td>ASCOLI</td>\n      <td>MILAN</td>\n      <td>draw</td>\n      <td>Massimo Silva</td>\n      <td>Ferdinando Coppola</td>\n      <td>...</td>\n      <td>Kaka</td>\n      <td>Andriy Shevchenko</td>\n      <td>Alberto Gilardino</td>\n      <td>Marek Jankulovski</td>\n      <td>Clarence Seedorf</td>\n      <td>Zeljko Kalac</td>\n      <td>Gennaro Gattuso</td>\n      <td>Manuel Rui Costa</td>\n      <td>Johann Vogel</td>\n      <td>Dario Simic</td>\n    </tr>\n    <tr>\n      <th>3</th>\n      <td>2005-06</td>\n      <td>1</td>\n      <td>2005-08-28</td>\n      <td>15:00</td>\n      <td>TIZIANO PIERI</td>\n      <td>PARMA</td>\n      <td>PALERMO</td>\n      <td>draw</td>\n      <td>Mario Beretta</td>\n      <td>Cristiano Lupatelli</td>\n      <td>...</td>\n      <td>Massimo Bonanni</td>\n      <td>Andrea Caracciolo</td>\n      <td>Stephen Makinwa</td>\n      <td>Nicola Santoni</td>\n      <td>Franco Brienza</td>\n      <td>Massimo Mutarelli</td>\n      <td>Giuseppe Biava</td>\n      <td>Michele Ferri</td>\n      <td>Mariano Gonzalez</td>\n      <td>Simone Pepe</td>\n    </tr>\n    <tr>\n      <th>4</th>\n      <td>2005-06</td>\n      <td>1</td>\n      <td>2005-08-28</td>\n      <td>15:00</td>\n      <td>PAOLO TAGLIAVENTO</td>\n      <td>INTER</td>\n      <td>TREVISO</td>\n      <td>home</td>\n      <td>Roberto Mancini</td>\n      <td>Julio Cesar</td>\n      <td>...</td>\n      <td>Reginaldo</td>\n      <td>Luigi Beghetto</td>\n      <td>Pinga</td>\n      <td>Roberto Chiappara</td>\n      <td>Dino Fava</td>\n      <td>Jehad Muntasser</td>\n      <td>Adriano Zancope</td>\n      <td>Francesco Parravicini</td>\n      <td>Anderson</td>\n      <td>Alberto Giuliatto</td>\n    </tr>\n  </tbody>\n</table>\n<p>5 rows × 46 columns</p>\n</div>"
     },
     "execution_count": 1118,
     "metadata": {},
     "output_type": "execute_result"
    }
   ],
   "source": [
    "# drop score columns\n",
    "df = df.drop(columns=['home_team_score', 'away_team_score'])\n",
    "df.head()"
   ],
   "metadata": {
    "collapsed": false,
    "pycharm": {
     "name": "#%%\n"
    }
   }
  },
  {
   "cell_type": "markdown",
   "source": [
    "#### Exploded datetime features\n",
    "Add **year**, **month** and **day** features for all **date** value"
   ],
   "metadata": {
    "collapsed": false,
    "pycharm": {
     "name": "#%% md\n"
    }
   }
  },
  {
   "cell_type": "code",
   "execution_count": 1119,
   "outputs": [],
   "source": [
    "def get_exploded_datetime_values(df: pd.DataFrame) -> dict:\n",
    "    data = {'year': [], 'month': [], 'day': []}\n",
    "    data['year'] += df['date'].map(lambda val: val.year).tolist()\n",
    "    data['month'] += df['date'].map(lambda val: val.month).tolist()\n",
    "    data['day'] += df['date'].map(lambda val: val.day).tolist()\n",
    "    return data\n",
    "\n",
    "\n",
    "def insert_exploded_datetime_values(df, exploded):\n",
    "    df.insert(loc=df.columns.get_loc('time'), column='year', value=exploded['year'])\n",
    "    df.insert(loc=df.columns.get_loc('time'), column='month', value=exploded['month'])\n",
    "    df.insert(loc=df.columns.get_loc('time'), column='day', value=exploded['day'])\n",
    "    return df\n",
    "\n",
    "\n",
    "def explode_datetime_values(df: pd.DataFrame) -> pd.DataFrame:\n",
    "    exploded = get_exploded_datetime_values(df)\n",
    "    return insert_exploded_datetime_values(df, exploded)\n",
    "\n",
    "\n",
    "def get_column_names_containing_str(df: pd.DataFrame, substring: str) -> list[str]:\n",
    "    return df.loc[:,df.columns.str.contains(substring)].columns.values.tolist()"
   ],
   "metadata": {
    "collapsed": false,
    "pycharm": {
     "name": "#%%\n"
    }
   }
  },
  {
   "cell_type": "code",
   "execution_count": 1120,
   "outputs": [],
   "source": [
    "# explode datetime values\n",
    "df = explode_datetime_values(df)\n",
    "# drop date columns\n",
    "date_cols = get_column_names_containing_str(df, 'date')\n",
    "df.drop(date_cols, axis=1, inplace=True)"
   ],
   "metadata": {
    "collapsed": false,
    "pycharm": {
     "name": "#%%\n"
    }
   }
  },
  {
   "cell_type": "markdown",
   "source": [
    "### Data encoding\n",
    "We need to encode the data before feeding it to the network."
   ],
   "metadata": {
    "collapsed": false,
    "pycharm": {
     "name": "#%% md\n"
    }
   }
  },
  {
   "cell_type": "code",
   "execution_count": 1121,
   "outputs": [],
   "source": [
    "lb = LabelBinarizer()"
   ],
   "metadata": {
    "collapsed": false,
    "pycharm": {
     "name": "#%%\n"
    }
   }
  },
  {
   "cell_type": "markdown",
   "source": [
    "#### Rounds"
   ],
   "metadata": {
    "collapsed": false,
    "pycharm": {
     "name": "#%% md\n"
    }
   }
  },
  {
   "cell_type": "code",
   "execution_count": 1122,
   "outputs": [],
   "source": [
    "# encode rounds\n",
    "df['round'] = df['round'].astype(int)"
   ],
   "metadata": {
    "collapsed": false,
    "pycharm": {
     "name": "#%%\n"
    }
   }
  },
  {
   "cell_type": "markdown",
   "source": [
    "#### Results\n",
    "One-hot encoding"
   ],
   "metadata": {
    "collapsed": false,
    "pycharm": {
     "name": "#%% md\n"
    }
   }
  },
  {
   "cell_type": "code",
   "execution_count": 1123,
   "outputs": [],
   "source": [
    "def encode_results(df: pd.DataFrame) -> torch.tensor:\n",
    "    target2array = {'home': [1, 0, 0], 'draw': [0, 1, 0], 'away': [0, 0, 1]}\n",
    "    return torch.tensor(df['result'].map(target2array))"
   ],
   "metadata": {
    "collapsed": false,
    "pycharm": {
     "name": "#%%\n"
    }
   }
  },
  {
   "cell_type": "code",
   "execution_count": 1124,
   "outputs": [
    {
     "name": "stdout",
     "output_type": "stream",
     "text": [
      "RESULT encoding OK\n"
     ]
    }
   ],
   "source": [
    "# TEST referee encoding\n",
    "tensor = encode_results(df)\n",
    "expected_num_of_features = len(df['result'].unique())\n",
    "if tensor.shape[1] == expected_num_of_features:\n",
    "    print('RESULT encoding OK')\n",
    "else:\n",
    "    print('RESULT encoding NOT OK! :(')\n",
    "    print(f'num of features: {tensor.shape[1]}')\n",
    "    print(f'expected num of features: {expected_num_of_features}')"
   ],
   "metadata": {
    "collapsed": false,
    "pycharm": {
     "name": "#%%\n"
    }
   }
  },
  {
   "cell_type": "markdown",
   "source": [
    "#### Referees\n",
    "One-hot encoding"
   ],
   "metadata": {
    "collapsed": false,
    "pycharm": {
     "name": "#%% md\n"
    }
   }
  },
  {
   "cell_type": "code",
   "execution_count": 1125,
   "outputs": [],
   "source": [
    "def encode_referees(df: pd.DataFrame) -> torch.tensor:\n",
    "    return torch.tensor(lb.fit_transform(df['referee'].tolist()))"
   ],
   "metadata": {
    "collapsed": false,
    "pycharm": {
     "name": "#%%\n"
    }
   }
  },
  {
   "cell_type": "code",
   "execution_count": 1126,
   "outputs": [
    {
     "name": "stdout",
     "output_type": "stream",
     "text": [
      "REFEREE encoding OK\n"
     ]
    }
   ],
   "source": [
    "# TEST referees encoding\n",
    "tensor = encode_referees(df)\n",
    "expected_num_of_features = len(df['referee'].unique())\n",
    "if tensor.shape[1] == expected_num_of_features:\n",
    "    print('REFEREE encoding OK')\n",
    "else:\n",
    "    print('REFEREE encoding NOT OK! :(')\n",
    "    print(f'num of features: {tensor.shape[1]}')\n",
    "    print(f'expected num of features: {expected_num_of_features}')"
   ],
   "metadata": {
    "collapsed": false,
    "pycharm": {
     "name": "#%%\n"
    }
   }
  },
  {
   "cell_type": "markdown",
   "source": [
    "#### Teams\n",
    "One-hot encoding"
   ],
   "metadata": {
    "collapsed": false,
    "pycharm": {
     "name": "#%% md\n"
    }
   }
  },
  {
   "cell_type": "code",
   "execution_count": 1127,
   "outputs": [],
   "source": [
    "def encode_teams(df: pd.DataFrame) -> torch.tensor:\n",
    "    lb.fit(df['home_team'].tolist())\n",
    "    home_encoding = torch.tensor(lb.transform(df['home_team'].tolist()))\n",
    "    away_encoding = torch.tensor(lb.transform(df['away_team'].tolist()))\n",
    "    return torch.cat([home_encoding, away_encoding], 1)"
   ],
   "metadata": {
    "collapsed": false,
    "pycharm": {
     "name": "#%%\n"
    }
   }
  },
  {
   "cell_type": "code",
   "execution_count": 1128,
   "outputs": [
    {
     "name": "stdout",
     "output_type": "stream",
     "text": [
      "TEAMS encoding OK\n"
     ]
    }
   ],
   "source": [
    "# TEST teams encoding\n",
    "tensor = encode_teams(df)\n",
    "expected_num_of_features = len(df['home_team'].unique()) * 2\n",
    "if tensor.shape[1] == expected_num_of_features:\n",
    "    print('TEAMS encoding OK')\n",
    "else:\n",
    "    print('TEAMS encoding NOT OK! :(')\n",
    "    print(f'num of features: {tensor.shape[1]}')\n",
    "    print(f'expected num of features: {expected_num_of_features}')"
   ],
   "metadata": {
    "collapsed": false,
    "pycharm": {
     "name": "#%%\n"
    }
   }
  },
  {
   "cell_type": "markdown",
   "source": [
    "#### Coaches\n",
    "One-hot encoding"
   ],
   "metadata": {
    "collapsed": false,
    "pycharm": {
     "name": "#%% md\n"
    }
   }
  },
  {
   "cell_type": "code",
   "execution_count": 1129,
   "outputs": [],
   "source": [
    "def encode_coaches(df: pd.DataFrame) -> torch.tensor:\n",
    "    lb.fit(df['home_team_coach'].tolist())\n",
    "    home_coach_encoding = torch.tensor(lb.transform(df['home_team_coach'].tolist()))\n",
    "    away_coach_encoding = torch.tensor(lb.transform(df['away_team_coach'].tolist()))\n",
    "    return torch.cat([home_coach_encoding, away_coach_encoding], 1)"
   ],
   "metadata": {
    "collapsed": false,
    "pycharm": {
     "name": "#%%\n"
    }
   }
  },
  {
   "cell_type": "code",
   "execution_count": 1130,
   "outputs": [
    {
     "name": "stdout",
     "output_type": "stream",
     "text": [
      "COACH encoding OK\n"
     ]
    }
   ],
   "source": [
    "# TEST coaches encoding\n",
    "tensor = encode_coaches(df)\n",
    "expected_num_of_features = len(df['home_team_coach'].unique()) * 2\n",
    "if tensor.shape[1] == expected_num_of_features:\n",
    "    print('COACH encoding OK')\n",
    "else:\n",
    "    print('COACH encoding NOT OK! :(')\n",
    "    print(f'num of features: {tensor.shape[1]}')\n",
    "    print(f'expected num of features: {expected_num_of_features}')"
   ],
   "metadata": {
    "collapsed": false,
    "pycharm": {
     "name": "#%%\n"
    }
   }
  },
  {
   "cell_type": "markdown",
   "source": [
    "#### Players\n",
    "One-hot encoding. We treat all players equally, both those that are part of the lineup and the substitutes"
   ],
   "metadata": {
    "collapsed": false,
    "pycharm": {
     "name": "#%% md\n"
    }
   }
  },
  {
   "cell_type": "code",
   "execution_count": 1131,
   "outputs": [],
   "source": [
    "def flatten_list(list_of_lists: list[list[str]]) -> list[str]:\n",
    "    return [item for sublist in list_of_lists for item in sublist]\n",
    "\n",
    "\n",
    "def encode_fit_players(df: pd.DataFrame) -> LabelBinarizer:\n",
    "    player_cols = get_column_names_containing_str(df, 'home_player')\n",
    "    player_cols += get_column_names_containing_str(df, 'home_substitute')\n",
    "    all_players_unflattened = df.loc[:, player_cols].values.tolist()\n",
    "    all_players_flattened = flatten_list(all_players_unflattened)\n",
    "    lb.fit(all_players_flattened)\n",
    "    return lb\n",
    "\n",
    "\n",
    "def encode_transform_players(df: pd.DataFrame, lb: LabelBinarizer) -> torch.tensor:\n",
    "    result = []\n",
    "    for i in range(1, 12):\n",
    "        result += [torch.tensor(lb.transform(df[f'home_player_{i}'].tolist()))]\n",
    "    for i in range(1, 8):\n",
    "        result += [torch.tensor(lb.transform(df[f'home_substitute_{i}'].tolist()))]\n",
    "    for i in range(1, 12):\n",
    "        result += [torch.tensor(lb.transform(df[f'away_player_{i}'].tolist()))]\n",
    "    for i in range(1, 8):\n",
    "        result += [torch.tensor(lb.transform(df[f'away_substitute_{i}'].tolist()))]\n",
    "    return torch.cat(result, 1)\n",
    "\n",
    "\n",
    "def encode_players(df: pd.DataFrame) -> torch.tensor:\n",
    "    lb = encode_fit_players(df)\n",
    "    return encode_transform_players(df, lb)"
   ],
   "metadata": {
    "collapsed": false,
    "pycharm": {
     "name": "#%%\n"
    }
   }
  },
  {
   "cell_type": "code",
   "execution_count": 1132,
   "outputs": [
    {
     "name": "stdout",
     "output_type": "stream",
     "text": [
      "PLAYER encoding OK\n"
     ]
    }
   ],
   "source": [
    "# TEST players encoding\n",
    "player_cols = get_column_names_containing_str(df, 'home_player')\n",
    "player_cols += get_column_names_containing_str(df, 'home_substitute')\n",
    "all_players_unflattened = df.loc[:, player_cols].values.tolist()\n",
    "all_players_flattened = flatten_list(all_players_unflattened)\n",
    "tensor = encode_players(df)\n",
    "expected_num_of_features = len(pd.concat([df[player_cols[i]] for i in range(len(player_cols))], axis=0).unique()) * (11 + 7) * 2\n",
    "if tensor.shape[1] == expected_num_of_features:\n",
    "    print('PLAYER encoding OK')\n",
    "else:\n",
    "    print('PLAYER encoding NOT OK! :(')\n",
    "    print(f'num of features: {tensor.shape[1]}')\n",
    "    print(f'expected num of features: {expected_num_of_features}')"
   ],
   "metadata": {
    "collapsed": false,
    "pycharm": {
     "name": "#%%\n"
    }
   }
  },
  {
   "cell_type": "markdown",
   "source": [
    "#### Seasons"
   ],
   "metadata": {
    "collapsed": false,
    "pycharm": {
     "name": "#%% md\n"
    }
   }
  },
  {
   "cell_type": "code",
   "execution_count": 1133,
   "outputs": [],
   "source": [
    "# reset\n",
    "temp_dict = defaultdict(lambda: len(temp_dict))\n",
    "# encode players\n",
    "season_cols = get_column_names_containing_str(df, 'season')\n",
    "for col in season_cols:\n",
    "    season_ids = [temp_dict[ele] for ele in df[f'{col}'].tolist()]\n",
    "    df[f'{col}'] = season_ids"
   ],
   "metadata": {
    "collapsed": false,
    "pycharm": {
     "name": "#%%\n"
    }
   }
  },
  {
   "cell_type": "markdown",
   "source": [
    "#### Times"
   ],
   "metadata": {
    "collapsed": false,
    "pycharm": {
     "name": "#%% md\n"
    }
   }
  },
  {
   "cell_type": "code",
   "execution_count": 1134,
   "outputs": [],
   "source": [
    "# convert time values to datetime\n",
    "df['time'] = pd.to_datetime(df['time'], format=\"%H:%M\")\n",
    "hours = []\n",
    "for index, row in df.iterrows():\n",
    "    hours.append(row['time'].hour)\n",
    "df.insert(loc=df.columns.get_loc('time'), column='hour', value=hours)\n",
    "df = df.drop(columns='time')"
   ],
   "metadata": {
    "collapsed": false,
    "pycharm": {
     "name": "#%%\n"
    }
   }
  },
  {
   "cell_type": "code",
   "execution_count": 1135,
   "outputs": [
    {
     "data": {
      "text/plain": "     season  round  year  month  day  hour             referee     home_team  \\\n0         0      1  2005      8   27    20  GIANLUCA PAPARESTA    FIORENTINA   \n1         0      1  2005      8   27    18     GIANLUCA ROCCHI       LIVORNO   \n2         0      1  2005      8   28    15          MASSIMO DE        ASCOLI   \n3         0      1  2005      8   28    15       TIZIANO PIERI         PARMA   \n4         0      1  2005      8   28    15   PAOLO TAGLIAVENTO         INTER   \n..      ...    ...   ...    ...  ...   ...                 ...           ...   \n195       0     20  2006      1   18    20   PAOLO TAGLIAVENTO          ROMA   \n196       0     20  2006      1   18    20     GIANLUCA ROCCHI         MILAN   \n197       0     20  2006      1   18    20  PASQUALE RODOMONTI         LECCE   \n198       0     20  2006      1   18    20        ANDREA ROMEO      CAGLIARI   \n199       0     20  2006      1   18    20        LUCA PALANCA  CHIEVOVERONA   \n\n       away_team result  ...         away_player_9      away_player_10  \\\n0      SAMPDORIA   home  ...        Lamberto Zauli    Francesco Flachi   \n1          LECCE   home  ...          Alex Pinardi    Aleksei Eremenko   \n2          MILAN   draw  ...                  Kaka   Andriy Shevchenko   \n3        PALERMO   draw  ...       Massimo Bonanni   Andrea Caracciolo   \n4        TREVISO   home  ...             Reginaldo      Luigi Beghetto   \n..           ...    ...  ...                   ...                 ...   \n195      REGGINA   home  ...     Francesco Modesto     Francesco Cozza   \n196       ASCOLI   home  ...  Cristiano Del Grosso     Sasa Bjelanovic   \n197      LIVORNO   draw  ...        Francesco Coco   Ibrahima Bakayoko   \n198  ROBUR SIENA   home  ...     Cristian Molinaro       Erjon Bogdani   \n199     JUVENTUS   draw  ...           Adrian Mutu  Zlatan Ibrahimovic   \n\n          away_player_11     away_substitute_1  away_substitute_2  \\\n0     Emiliano Bonazzoli          Marco Pisano    Vitaliy Kutuzov   \n1         Graziano Pelle      Alfonso Camorani       Jaime Valdes   \n2      Alberto Gilardino     Marek Jankulovski   Clarence Seedorf   \n3        Stephen Makinwa        Nicola Santoni     Franco Brienza   \n4                  Pinga     Roberto Chiappara          Dino Fava   \n..                   ...                   ...                ...   \n195         Luca Vigiani        Maurizio Lauro     Nicola Amoruso   \n196   Fabio Quagliarella          Massimo Paci       Michele Fini   \n197  Cristiano Lucarelli         Marc Pfertzel       Cesar Prates   \n198        Enrico Chiesa           Rej Volpato        Paolo Negro   \n199      David Trezeguet  Alessandro Del Piero  Christian Abbiati   \n\n       away_substitute_3  away_substitute_4      away_substitute_5  \\\n0        Marco Borriello   Luca Castellazzi          Marco Zamboni   \n1     Giuseppe Cozzolino  Francesco Benussi         Marco Pecorari   \n2           Zeljko Kalac    Gennaro Gattuso       Manuel Rui Costa   \n3      Massimo Mutarelli     Giuseppe Biava          Michele Ferri   \n4        Jehad Muntasser    Adriano Zancope  Francesco Parravicini   \n..                   ...                ...                    ...   \n195     Simone Missiroli     Ivan Pelizzoli        Davide Biondini   \n196      Pasquale Foggia        Carlo Zotti       Riccardo Corallo   \n197   Raffaele Palladino      Paolo Acerbis        Stefano Fanucci   \n198  Nicola Legrottaglie       Marco Fortin    Francesco Colonnese   \n199    Gianluca Pessotto      Manuele Blasi  Giuliano Giannichedda   \n\n      away_substitute_6  away_substitute_7  \n0          Simone Pavan   Gionata Mingozzi  \n1    Giuseppe Abruzzese    Davide Giorgino  \n2          Johann Vogel        Dario Simic  \n3      Mariano Gonzalez        Simone Pepe  \n4              Anderson  Alberto Giuliatto  \n..                  ...                ...  \n195    Filippo Carobbio     Simone Cavalli  \n196       Davide Oresti     Marco Ferrante  \n197    Giuseppe Colucci           Paulinho  \n198       Roberto Nanni                NaN  \n199       Ruben Olivera   Marcelo Zalayeta  \n\n[200 rows x 48 columns]",
      "text/html": "<div>\n<style scoped>\n    .dataframe tbody tr th:only-of-type {\n        vertical-align: middle;\n    }\n\n    .dataframe tbody tr th {\n        vertical-align: top;\n    }\n\n    .dataframe thead th {\n        text-align: right;\n    }\n</style>\n<table border=\"1\" class=\"dataframe\">\n  <thead>\n    <tr style=\"text-align: right;\">\n      <th></th>\n      <th>season</th>\n      <th>round</th>\n      <th>year</th>\n      <th>month</th>\n      <th>day</th>\n      <th>hour</th>\n      <th>referee</th>\n      <th>home_team</th>\n      <th>away_team</th>\n      <th>result</th>\n      <th>...</th>\n      <th>away_player_9</th>\n      <th>away_player_10</th>\n      <th>away_player_11</th>\n      <th>away_substitute_1</th>\n      <th>away_substitute_2</th>\n      <th>away_substitute_3</th>\n      <th>away_substitute_4</th>\n      <th>away_substitute_5</th>\n      <th>away_substitute_6</th>\n      <th>away_substitute_7</th>\n    </tr>\n  </thead>\n  <tbody>\n    <tr>\n      <th>0</th>\n      <td>0</td>\n      <td>1</td>\n      <td>2005</td>\n      <td>8</td>\n      <td>27</td>\n      <td>20</td>\n      <td>GIANLUCA PAPARESTA</td>\n      <td>FIORENTINA</td>\n      <td>SAMPDORIA</td>\n      <td>home</td>\n      <td>...</td>\n      <td>Lamberto Zauli</td>\n      <td>Francesco Flachi</td>\n      <td>Emiliano Bonazzoli</td>\n      <td>Marco Pisano</td>\n      <td>Vitaliy Kutuzov</td>\n      <td>Marco Borriello</td>\n      <td>Luca Castellazzi</td>\n      <td>Marco Zamboni</td>\n      <td>Simone Pavan</td>\n      <td>Gionata Mingozzi</td>\n    </tr>\n    <tr>\n      <th>1</th>\n      <td>0</td>\n      <td>1</td>\n      <td>2005</td>\n      <td>8</td>\n      <td>27</td>\n      <td>18</td>\n      <td>GIANLUCA ROCCHI</td>\n      <td>LIVORNO</td>\n      <td>LECCE</td>\n      <td>home</td>\n      <td>...</td>\n      <td>Alex Pinardi</td>\n      <td>Aleksei Eremenko</td>\n      <td>Graziano Pelle</td>\n      <td>Alfonso Camorani</td>\n      <td>Jaime Valdes</td>\n      <td>Giuseppe Cozzolino</td>\n      <td>Francesco Benussi</td>\n      <td>Marco Pecorari</td>\n      <td>Giuseppe Abruzzese</td>\n      <td>Davide Giorgino</td>\n    </tr>\n    <tr>\n      <th>2</th>\n      <td>0</td>\n      <td>1</td>\n      <td>2005</td>\n      <td>8</td>\n      <td>28</td>\n      <td>15</td>\n      <td>MASSIMO DE</td>\n      <td>ASCOLI</td>\n      <td>MILAN</td>\n      <td>draw</td>\n      <td>...</td>\n      <td>Kaka</td>\n      <td>Andriy Shevchenko</td>\n      <td>Alberto Gilardino</td>\n      <td>Marek Jankulovski</td>\n      <td>Clarence Seedorf</td>\n      <td>Zeljko Kalac</td>\n      <td>Gennaro Gattuso</td>\n      <td>Manuel Rui Costa</td>\n      <td>Johann Vogel</td>\n      <td>Dario Simic</td>\n    </tr>\n    <tr>\n      <th>3</th>\n      <td>0</td>\n      <td>1</td>\n      <td>2005</td>\n      <td>8</td>\n      <td>28</td>\n      <td>15</td>\n      <td>TIZIANO PIERI</td>\n      <td>PARMA</td>\n      <td>PALERMO</td>\n      <td>draw</td>\n      <td>...</td>\n      <td>Massimo Bonanni</td>\n      <td>Andrea Caracciolo</td>\n      <td>Stephen Makinwa</td>\n      <td>Nicola Santoni</td>\n      <td>Franco Brienza</td>\n      <td>Massimo Mutarelli</td>\n      <td>Giuseppe Biava</td>\n      <td>Michele Ferri</td>\n      <td>Mariano Gonzalez</td>\n      <td>Simone Pepe</td>\n    </tr>\n    <tr>\n      <th>4</th>\n      <td>0</td>\n      <td>1</td>\n      <td>2005</td>\n      <td>8</td>\n      <td>28</td>\n      <td>15</td>\n      <td>PAOLO TAGLIAVENTO</td>\n      <td>INTER</td>\n      <td>TREVISO</td>\n      <td>home</td>\n      <td>...</td>\n      <td>Reginaldo</td>\n      <td>Luigi Beghetto</td>\n      <td>Pinga</td>\n      <td>Roberto Chiappara</td>\n      <td>Dino Fava</td>\n      <td>Jehad Muntasser</td>\n      <td>Adriano Zancope</td>\n      <td>Francesco Parravicini</td>\n      <td>Anderson</td>\n      <td>Alberto Giuliatto</td>\n    </tr>\n    <tr>\n      <th>...</th>\n      <td>...</td>\n      <td>...</td>\n      <td>...</td>\n      <td>...</td>\n      <td>...</td>\n      <td>...</td>\n      <td>...</td>\n      <td>...</td>\n      <td>...</td>\n      <td>...</td>\n      <td>...</td>\n      <td>...</td>\n      <td>...</td>\n      <td>...</td>\n      <td>...</td>\n      <td>...</td>\n      <td>...</td>\n      <td>...</td>\n      <td>...</td>\n      <td>...</td>\n      <td>...</td>\n    </tr>\n    <tr>\n      <th>195</th>\n      <td>0</td>\n      <td>20</td>\n      <td>2006</td>\n      <td>1</td>\n      <td>18</td>\n      <td>20</td>\n      <td>PAOLO TAGLIAVENTO</td>\n      <td>ROMA</td>\n      <td>REGGINA</td>\n      <td>home</td>\n      <td>...</td>\n      <td>Francesco Modesto</td>\n      <td>Francesco Cozza</td>\n      <td>Luca Vigiani</td>\n      <td>Maurizio Lauro</td>\n      <td>Nicola Amoruso</td>\n      <td>Simone Missiroli</td>\n      <td>Ivan Pelizzoli</td>\n      <td>Davide Biondini</td>\n      <td>Filippo Carobbio</td>\n      <td>Simone Cavalli</td>\n    </tr>\n    <tr>\n      <th>196</th>\n      <td>0</td>\n      <td>20</td>\n      <td>2006</td>\n      <td>1</td>\n      <td>18</td>\n      <td>20</td>\n      <td>GIANLUCA ROCCHI</td>\n      <td>MILAN</td>\n      <td>ASCOLI</td>\n      <td>home</td>\n      <td>...</td>\n      <td>Cristiano Del Grosso</td>\n      <td>Sasa Bjelanovic</td>\n      <td>Fabio Quagliarella</td>\n      <td>Massimo Paci</td>\n      <td>Michele Fini</td>\n      <td>Pasquale Foggia</td>\n      <td>Carlo Zotti</td>\n      <td>Riccardo Corallo</td>\n      <td>Davide Oresti</td>\n      <td>Marco Ferrante</td>\n    </tr>\n    <tr>\n      <th>197</th>\n      <td>0</td>\n      <td>20</td>\n      <td>2006</td>\n      <td>1</td>\n      <td>18</td>\n      <td>20</td>\n      <td>PASQUALE RODOMONTI</td>\n      <td>LECCE</td>\n      <td>LIVORNO</td>\n      <td>draw</td>\n      <td>...</td>\n      <td>Francesco Coco</td>\n      <td>Ibrahima Bakayoko</td>\n      <td>Cristiano Lucarelli</td>\n      <td>Marc Pfertzel</td>\n      <td>Cesar Prates</td>\n      <td>Raffaele Palladino</td>\n      <td>Paolo Acerbis</td>\n      <td>Stefano Fanucci</td>\n      <td>Giuseppe Colucci</td>\n      <td>Paulinho</td>\n    </tr>\n    <tr>\n      <th>198</th>\n      <td>0</td>\n      <td>20</td>\n      <td>2006</td>\n      <td>1</td>\n      <td>18</td>\n      <td>20</td>\n      <td>ANDREA ROMEO</td>\n      <td>CAGLIARI</td>\n      <td>ROBUR SIENA</td>\n      <td>home</td>\n      <td>...</td>\n      <td>Cristian Molinaro</td>\n      <td>Erjon Bogdani</td>\n      <td>Enrico Chiesa</td>\n      <td>Rej Volpato</td>\n      <td>Paolo Negro</td>\n      <td>Nicola Legrottaglie</td>\n      <td>Marco Fortin</td>\n      <td>Francesco Colonnese</td>\n      <td>Roberto Nanni</td>\n      <td>NaN</td>\n    </tr>\n    <tr>\n      <th>199</th>\n      <td>0</td>\n      <td>20</td>\n      <td>2006</td>\n      <td>1</td>\n      <td>18</td>\n      <td>20</td>\n      <td>LUCA PALANCA</td>\n      <td>CHIEVOVERONA</td>\n      <td>JUVENTUS</td>\n      <td>draw</td>\n      <td>...</td>\n      <td>Adrian Mutu</td>\n      <td>Zlatan Ibrahimovic</td>\n      <td>David Trezeguet</td>\n      <td>Alessandro Del Piero</td>\n      <td>Christian Abbiati</td>\n      <td>Gianluca Pessotto</td>\n      <td>Manuele Blasi</td>\n      <td>Giuliano Giannichedda</td>\n      <td>Ruben Olivera</td>\n      <td>Marcelo Zalayeta</td>\n    </tr>\n  </tbody>\n</table>\n<p>200 rows × 48 columns</p>\n</div>"
     },
     "execution_count": 1135,
     "metadata": {},
     "output_type": "execute_result"
    }
   ],
   "source": [
    "df[:200]"
   ],
   "metadata": {
    "collapsed": false,
    "pycharm": {
     "name": "#%%\n"
    }
   }
  },
  {
   "cell_type": "code",
   "execution_count": 1135,
   "outputs": [],
   "source": [],
   "metadata": {
    "collapsed": false,
    "pycharm": {
     "name": "#%%\n"
    }
   }
  },
  {
   "cell_type": "markdown",
   "source": [
    "### Data normalization"
   ],
   "metadata": {
    "collapsed": false,
    "pycharm": {
     "name": "#%% md\n"
    }
   }
  },
  {
   "cell_type": "code",
   "execution_count": 1136,
   "outputs": [],
   "source": [
    "# todo"
   ],
   "metadata": {
    "collapsed": false,
    "pycharm": {
     "name": "#%%\n"
    }
   }
  },
  {
   "cell_type": "markdown",
   "source": [
    "## Training\n",
    "Now that out dataset is ready, we can configure an RNN model and train it."
   ],
   "metadata": {
    "collapsed": false,
    "pycharm": {
     "name": "#%% md\n"
    }
   }
  },
  {
   "cell_type": "code",
   "execution_count": null,
   "outputs": [],
   "source": [
    "class EncoderRNN(nn.Module):\n",
    "    def __init__(self, input_size, hidden_size):\n",
    "        super(EncoderRNN, self).__init__()\n",
    "        self.hidden_size = hidden_size\n",
    "        self.linear = nn.Linear(input_size + hidden_size, hidden_size)\n",
    "        self.tanh = nn.Tanh()\n",
    "\n",
    "    def forward(self, input, hidden):\n",
    "        combined = torch.cat((input, hidden), 1)\n",
    "        pre_hidden = self.linear(combined)\n",
    "        hidden = self.tanh(pre_hidden)\n",
    "        return hidden\n",
    "\n",
    "    def init_hidden(self):\n",
    "        return torch.zeros(1, self.hidden_size)"
   ],
   "metadata": {
    "collapsed": false,
    "pycharm": {
     "name": "#%%\n"
    }
   }
  },
  {
   "cell_type": "code",
   "execution_count": null,
   "outputs": [],
   "source": [
    "n_historical_features = 17\n",
    "n_hidden = 128\n",
    "encoder = EncoderRNN(input_size=n_historical_features, hidden_size=n_hidden)"
   ],
   "metadata": {
    "collapsed": false,
    "pycharm": {
     "name": "#%%\n"
    }
   }
  },
  {
   "cell_type": "code",
   "execution_count": null,
   "outputs": [],
   "source": [
    "class NeuralNetwork(nn.Module):\n",
    "    def __init__(self, input_size):\n",
    "        super(NeuralNetwork, self).__init__()\n",
    "        self.input_size = input_size\n",
    "        self.flatten = nn.Flatten()\n",
    "        self.layers = nn.Sequential(\n",
    "            nn.Linear(input_size, 512),\n",
    "            nn.ReLU(),\n",
    "            nn.Linear(512, 512),\n",
    "            nn.ReLU(),\n",
    "            nn.Linear(512, 3),\n",
    "            nn.Softmax(dim=1)\n",
    "        )\n",
    "\n",
    "    def forward(self, x):\n",
    "        x = self.flatten(x)\n",
    "        output = self.layers(x)\n",
    "        return output"
   ],
   "metadata": {
    "collapsed": false,
    "pycharm": {
     "name": "#%%\n"
    }
   }
  },
  {
   "cell_type": "code",
   "execution_count": null,
   "outputs": [],
   "source": [
    "n_basic_features = len(match_cols)\n",
    "mlp = NeuralNetwork(n_historical_features * 2 + n_basic_features)"
   ],
   "metadata": {
    "collapsed": false,
    "pycharm": {
     "name": "#%%\n"
    }
   }
  },
  {
   "cell_type": "code",
   "execution_count": null,
   "outputs": [],
   "source": [
    "def train(x, y, encoder: EncoderRNN, nn: NeuralNetwork,\n",
    "          encoder_optimizer: optim.Optimizer, nn_optimizer: optim.Optimizer, loss_fn):\n",
    "    # init\n",
    "    encoder_optimizer.zero_grad()\n",
    "    nn_optimizer.zero_grad()\n",
    "    input_length = x.size(0)\n",
    "    target_length = y.size(0)\n",
    "    loss = 0\n",
    "    # encoder forward\n",
    "    encoder_hidden = encoder.init_hidden()\n",
    "    for history_index in range(input_length):\n",
    "        encoder_hidden = encoder(x[history_index], encoder_hidden)\n",
    "    home_team_form = encoder_hidden\n",
    "    encoder_hidden = encoder.init_hidden()\n",
    "    for history_index in range(input_length):\n",
    "        encoder_hidden = encoder(x[history_index], encoder_hidden)\n",
    "    away_team_form = encoder_hidden\n",
    "    # mlp forward\n",
    "    match = torch.tensor([])  # todo\n",
    "    x_train = torch.cat((match, home_team_form, away_team_form), 1)\n",
    "    y_hat = nn(x_train)\n",
    "    # backward\n",
    "    loss = loss_fn(y, y_hat)\n",
    "    loss.backward()\n",
    "\n",
    "\n",
    "learning_rate = 0.01\n",
    "encoder_optimizer = optim.SGD(encoder.parameters(), lr=learning_rate)\n",
    "mlp_optimizer = optim.SGD(mlp.parameters(), lr=learning_rate)\n",
    "loss_fn = nn.NLLLoss()"
   ],
   "metadata": {
    "collapsed": false,
    "pycharm": {
     "name": "#%%\n"
    }
   }
  },
  {
   "cell_type": "markdown",
   "source": [
    "# Missing data\n",
    "- We don't have data about new players that come to play in _Serie A_ during the course of the seasons. The model has to learn from zero context how important their contribution is for the outcome of the matches. If we were to considered multiple leagues, we could keep track of player transfers and maintain the history.\n",
    "- We don't have data about cup matches played during the course of the seasons, like _Champions League_, _Europa League_ and _Coppa Italia_."
   ],
   "metadata": {
    "collapsed": false,
    "pycharm": {
     "name": "#%% md\n"
    }
   }
  }
 ],
 "metadata": {
  "kernelspec": {
   "display_name": "Python 3",
   "language": "python",
   "name": "python3"
  },
  "language_info": {
   "codemirror_mode": {
    "name": "ipython",
    "version": 2
   },
   "file_extension": ".py",
   "mimetype": "text/x-python",
   "name": "python",
   "nbconvert_exporter": "python",
   "pygments_lexer": "ipython2",
   "version": "2.7.6"
  }
 },
 "nbformat": 4,
 "nbformat_minor": 0
}