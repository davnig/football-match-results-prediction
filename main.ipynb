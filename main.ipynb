{
 "cells": [
  {
   "cell_type": "markdown",
   "source": [
    "# Football matches result prediction\n",
    "\n",
    "Let's try to predict *Serie A* matches result (i.e. home win, away win or draw) with a RNN."
   ],
   "metadata": {
    "collapsed": false,
    "pycharm": {
     "name": "#%% md\n"
    }
   }
  },
  {
   "cell_type": "markdown",
   "source": [
    "## Introduction\n",
    "\n",
    "- The dataset was created by scraping *Serie A* matches data starting from season 2005-06 to season 2020-21\n",
    "- Cup matches (*Champions League*, *Europa League*, *Coppa Italia*) played over the course of each season were not taken into account"
   ],
   "metadata": {
    "collapsed": false,
    "pycharm": {
     "name": "#%% md\n"
    }
   }
  },
  {
   "cell_type": "code",
   "execution_count": 67,
   "outputs": [],
   "source": [
    "import pandas as pd\n",
    "import re\n",
    "from _MatchNotFoundException import MatchNotFoundException\n",
    "from HomeOrAway import HomeOrAway\n",
    "match_cols = ['season', 'round'] + \\\n",
    "             ['date', 'time', 'referee', 'home_team', 'away_team', 'home_team_score', 'away_team_score'] + \\\n",
    "             ['home_team_coach'] + \\\n",
    "             ['home_player_' + str(i) for i in range(1, 12)] + \\\n",
    "             ['home_substitute_' + str(i) for i in range(1, 8)] + \\\n",
    "             ['away_team_coach'] + \\\n",
    "             ['away_player_' + str(i) for i in range(1, 12)] + \\\n",
    "             ['away_substitute_' + str(i) for i in range(1, 8)]"
   ],
   "metadata": {
    "collapsed": false,
    "pycharm": {
     "name": "#%%\n"
    }
   }
  },
  {
   "cell_type": "code",
   "execution_count": 68,
   "outputs": [
    {
     "data": {
      "text/plain": "    season  round        date   time             referee   home_team  \\\n0  2005-06      1  28/08/2005  15:00          MASSIMO DE      ASCOLI   \n1  2005-06      1  27/08/2005  20:30  GIANLUCA PAPARESTA  FIORENTINA   \n2  2005-06      1  28/08/2005  15:00       TIZIANO PIERI       PARMA   \n3  2005-06      1  28/08/2005  15:00   PAOLO TAGLIAVENTO       INTER   \n4  2005-06      1  27/08/2005  18:00     GIANLUCA ROCCHI     LIVORNO   \n\n   away_team  home_team_score  away_team_score   home_team_coach  ...  \\\n0      MILAN                1                1     Massimo Silva  ...   \n1  SAMPDORIA                2                1  Cesare Prandelli  ...   \n2    PALERMO                1                1     Mario Beretta  ...   \n3    TREVISO                3                0   Roberto Mancini  ...   \n4      LECCE                2                1  Roberto Donadoni  ...   \n\n     away_player_9     away_player_10      away_player_11  away_substitute_1  \\\n0             Kaka  Andriy Shevchenko   Alberto Gilardino  Marek Jankulovski   \n1   Lamberto Zauli   Francesco Flachi  Emiliano Bonazzoli       Marco Pisano   \n2  Massimo Bonanni  Andrea Caracciolo     Stephen Makinwa     Nicola Santoni   \n3        Reginaldo     Luigi Beghetto               Pinga  Roberto Chiappara   \n4     Alex Pinardi   Aleksei Eremenko      Graziano Pelle   Alfonso Camorani   \n\n  away_substitute_2   away_substitute_3  away_substitute_4  \\\n0  Clarence Seedorf        Zeljko Kalac    Gennaro Gattuso   \n1   Vitaliy Kutuzov     Marco Borriello   Luca Castellazzi   \n2    Franco Brienza   Massimo Mutarelli     Giuseppe Biava   \n3         Dino Fava     Jehad Muntasser    Adriano Zancope   \n4      Jaime Valdes  Giuseppe Cozzolino  Francesco Benussi   \n\n       away_substitute_5   away_substitute_6  away_substitute_7  \n0       Manuel Rui Costa        Johann Vogel        Dario Simic  \n1          Marco Zamboni        Simone Pavan   Gionata Mingozzi  \n2          Michele Ferri    Mariano Gonzalez        Simone Pepe  \n3  Francesco Parravicini            Anderson  Alberto Giuliatto  \n4         Marco Pecorari  Giuseppe Abruzzese    Davide Giorgino  \n\n[5 rows x 47 columns]",
      "text/html": "<div>\n<style scoped>\n    .dataframe tbody tr th:only-of-type {\n        vertical-align: middle;\n    }\n\n    .dataframe tbody tr th {\n        vertical-align: top;\n    }\n\n    .dataframe thead th {\n        text-align: right;\n    }\n</style>\n<table border=\"1\" class=\"dataframe\">\n  <thead>\n    <tr style=\"text-align: right;\">\n      <th></th>\n      <th>season</th>\n      <th>round</th>\n      <th>date</th>\n      <th>time</th>\n      <th>referee</th>\n      <th>home_team</th>\n      <th>away_team</th>\n      <th>home_team_score</th>\n      <th>away_team_score</th>\n      <th>home_team_coach</th>\n      <th>...</th>\n      <th>away_player_9</th>\n      <th>away_player_10</th>\n      <th>away_player_11</th>\n      <th>away_substitute_1</th>\n      <th>away_substitute_2</th>\n      <th>away_substitute_3</th>\n      <th>away_substitute_4</th>\n      <th>away_substitute_5</th>\n      <th>away_substitute_6</th>\n      <th>away_substitute_7</th>\n    </tr>\n  </thead>\n  <tbody>\n    <tr>\n      <th>0</th>\n      <td>2005-06</td>\n      <td>1</td>\n      <td>28/08/2005</td>\n      <td>15:00</td>\n      <td>MASSIMO DE</td>\n      <td>ASCOLI</td>\n      <td>MILAN</td>\n      <td>1</td>\n      <td>1</td>\n      <td>Massimo Silva</td>\n      <td>...</td>\n      <td>Kaka</td>\n      <td>Andriy Shevchenko</td>\n      <td>Alberto Gilardino</td>\n      <td>Marek Jankulovski</td>\n      <td>Clarence Seedorf</td>\n      <td>Zeljko Kalac</td>\n      <td>Gennaro Gattuso</td>\n      <td>Manuel Rui Costa</td>\n      <td>Johann Vogel</td>\n      <td>Dario Simic</td>\n    </tr>\n    <tr>\n      <th>1</th>\n      <td>2005-06</td>\n      <td>1</td>\n      <td>27/08/2005</td>\n      <td>20:30</td>\n      <td>GIANLUCA PAPARESTA</td>\n      <td>FIORENTINA</td>\n      <td>SAMPDORIA</td>\n      <td>2</td>\n      <td>1</td>\n      <td>Cesare Prandelli</td>\n      <td>...</td>\n      <td>Lamberto Zauli</td>\n      <td>Francesco Flachi</td>\n      <td>Emiliano Bonazzoli</td>\n      <td>Marco Pisano</td>\n      <td>Vitaliy Kutuzov</td>\n      <td>Marco Borriello</td>\n      <td>Luca Castellazzi</td>\n      <td>Marco Zamboni</td>\n      <td>Simone Pavan</td>\n      <td>Gionata Mingozzi</td>\n    </tr>\n    <tr>\n      <th>2</th>\n      <td>2005-06</td>\n      <td>1</td>\n      <td>28/08/2005</td>\n      <td>15:00</td>\n      <td>TIZIANO PIERI</td>\n      <td>PARMA</td>\n      <td>PALERMO</td>\n      <td>1</td>\n      <td>1</td>\n      <td>Mario Beretta</td>\n      <td>...</td>\n      <td>Massimo Bonanni</td>\n      <td>Andrea Caracciolo</td>\n      <td>Stephen Makinwa</td>\n      <td>Nicola Santoni</td>\n      <td>Franco Brienza</td>\n      <td>Massimo Mutarelli</td>\n      <td>Giuseppe Biava</td>\n      <td>Michele Ferri</td>\n      <td>Mariano Gonzalez</td>\n      <td>Simone Pepe</td>\n    </tr>\n    <tr>\n      <th>3</th>\n      <td>2005-06</td>\n      <td>1</td>\n      <td>28/08/2005</td>\n      <td>15:00</td>\n      <td>PAOLO TAGLIAVENTO</td>\n      <td>INTER</td>\n      <td>TREVISO</td>\n      <td>3</td>\n      <td>0</td>\n      <td>Roberto Mancini</td>\n      <td>...</td>\n      <td>Reginaldo</td>\n      <td>Luigi Beghetto</td>\n      <td>Pinga</td>\n      <td>Roberto Chiappara</td>\n      <td>Dino Fava</td>\n      <td>Jehad Muntasser</td>\n      <td>Adriano Zancope</td>\n      <td>Francesco Parravicini</td>\n      <td>Anderson</td>\n      <td>Alberto Giuliatto</td>\n    </tr>\n    <tr>\n      <th>4</th>\n      <td>2005-06</td>\n      <td>1</td>\n      <td>27/08/2005</td>\n      <td>18:00</td>\n      <td>GIANLUCA ROCCHI</td>\n      <td>LIVORNO</td>\n      <td>LECCE</td>\n      <td>2</td>\n      <td>1</td>\n      <td>Roberto Donadoni</td>\n      <td>...</td>\n      <td>Alex Pinardi</td>\n      <td>Aleksei Eremenko</td>\n      <td>Graziano Pelle</td>\n      <td>Alfonso Camorani</td>\n      <td>Jaime Valdes</td>\n      <td>Giuseppe Cozzolino</td>\n      <td>Francesco Benussi</td>\n      <td>Marco Pecorari</td>\n      <td>Giuseppe Abruzzese</td>\n      <td>Davide Giorgino</td>\n    </tr>\n  </tbody>\n</table>\n<p>5 rows × 47 columns</p>\n</div>"
     },
     "execution_count": 68,
     "metadata": {},
     "output_type": "execute_result"
    }
   ],
   "source": [
    "raw_data = pd.read_csv('raw.csv')\n",
    "raw_data.head()"
   ],
   "metadata": {
    "collapsed": false,
    "pycharm": {
     "name": "#%%\n"
    }
   }
  },
  {
   "cell_type": "markdown",
   "source": [
    "## Data visualization\n",
    "\n",
    "Let's inspect our data a little bit more"
   ],
   "metadata": {
    "collapsed": false,
    "pycharm": {
     "name": "#%% md\n"
    }
   }
  },
  {
   "cell_type": "markdown",
   "source": [
    "..."
   ],
   "metadata": {
    "collapsed": false,
    "pycharm": {
     "name": "#%% md\n"
    }
   }
  },
  {
   "cell_type": "markdown",
   "source": [
    "## Dataset construction\n",
    "Now let's clean our raw data and construct the dataset"
   ],
   "metadata": {
    "collapsed": false,
    "pycharm": {
     "name": "#%% md\n"
    }
   }
  },
  {
   "cell_type": "code",
   "execution_count": 69,
   "outputs": [],
   "source": [
    "df = pd.DataFrame(raw_data)\n",
    "df = df[:100]"
   ],
   "metadata": {
    "collapsed": false,
    "pycharm": {
     "name": "#%%\n"
    }
   }
  },
  {
   "cell_type": "code",
   "execution_count": 70,
   "outputs": [],
   "source": [
    "# convert date str to datetime\n",
    "df['date'] = pd.to_datetime(df['date'], infer_datetime_format=True)\n",
    "# sort by date column\n",
    "df = df.sort_values(by='date')\n",
    "df = df.reset_index(drop=True)\n",
    "# convert 'round' values to int\n",
    "df['round'] = df['round'].astype(int)"
   ],
   "metadata": {
    "collapsed": false,
    "pycharm": {
     "name": "#%%\n"
    }
   }
  },
  {
   "cell_type": "code",
   "execution_count": 71,
   "outputs": [
    {
     "data": {
      "text/plain": "     season  round       date   time               referee     home_team  \\\n95  2005-06     10 2005-10-30  15:00      NICOLA STEFANINI  CHIEVOVERONA   \n96  2005-06     10 2005-10-30  15:00  MASSIMILIANO SACCANI       LIVORNO   \n97  2005-06     10 2005-10-30  20:30    PASQUALE RODOMONTI       UDINESE   \n98  2005-06     10 2005-10-30  15:00       GIANLUCA ROCCHI       REGGINA   \n99  2005-06     10 2005-10-30  15:00       MARIO MAZZOLENI         LECCE   \n\n   away_team  home_team_score  away_team_score   home_team_coach  ...  \\\n95    EMPOLI                2                2   Giuseppe Pillon  ...   \n96     PARMA                2                0  Roberto Donadoni  ...   \n97   PALERMO                0                0       Serse Cosmi  ...   \n98     LAZIO                1                0   Walter Mazzarri  ...   \n99   MESSINA                0                2    Silvio Baldini  ...   \n\n   away_team_history_5_away_player_9 away_team_history_5_away_player_10  \\\n95                  Aleksei Eremenko                       Alex Pinardi   \n96                       Adrian Mutu                    David Trezeguet   \n97                   Massimo Bonanni                  Andrea Caracciolo   \n98                   Massimo Bonanni                  Andrea Caracciolo   \n99                       Ivica Iliev                  Zlatan Muslimovic   \n\n   away_team_history_5_away_player_11 away_team_history_5_away_substitute_1  \\\n95                         Axel Konan                       Davide Giorgino   \n96                   Marcelo Zalayeta                               Emerson   \n97                    Stephen Makinwa                     Massimo Mutarelli   \n98                    Stephen Makinwa                     Massimo Mutarelli   \n99                   Arturo Di Napoli                     Filippo Cristante   \n\n   away_team_history_5_away_substitute_2  \\\n95                        Graziano Pelle   \n96                          Pavel Nedved   \n97                        Franco Brienza   \n98                        Franco Brienza   \n99                                Rafael   \n\n   away_team_history_5_away_substitute_3  \\\n95                          Jaime Valdes   \n96                    Zlatan Ibrahimovic   \n97                      Mariano Gonzalez   \n98                      Mariano Gonzalez   \n99                    Atsushi Yanagisawa   \n\n   away_team_history_5_away_substitute_4  \\\n95                     Francesco Benussi   \n96                      Antonio Chimenti   \n97                       Mariano Andujar   \n98                       Mariano Andujar   \n99                     Nicholas Caglioni   \n\n   away_team_history_5_away_substitute_5  \\\n95                        Marco Pecorari   \n96                          Robert Kovac   \n97                         Michele Ferri   \n98                         Michele Ferri   \n99                       Domenico Giampa   \n\n   away_team_history_5_away_substitute_6 away_team_history_5_away_substitute_7  \n95                    Giuseppe Abruzzese                                Angelo  \n96                         Manuele Blasi                  Alessandro Del Piero  \n97                           Paul Codrea                           Simone Pepe  \n98                           Paul Codrea                           Simone Pepe  \n99                     Gaetano DAgostino                       Giuseppe Sculli  \n\n[5 rows x 527 columns]",
      "text/html": "<div>\n<style scoped>\n    .dataframe tbody tr th:only-of-type {\n        vertical-align: middle;\n    }\n\n    .dataframe tbody tr th {\n        vertical-align: top;\n    }\n\n    .dataframe thead th {\n        text-align: right;\n    }\n</style>\n<table border=\"1\" class=\"dataframe\">\n  <thead>\n    <tr style=\"text-align: right;\">\n      <th></th>\n      <th>season</th>\n      <th>round</th>\n      <th>date</th>\n      <th>time</th>\n      <th>referee</th>\n      <th>home_team</th>\n      <th>away_team</th>\n      <th>home_team_score</th>\n      <th>away_team_score</th>\n      <th>home_team_coach</th>\n      <th>...</th>\n      <th>away_team_history_5_away_player_9</th>\n      <th>away_team_history_5_away_player_10</th>\n      <th>away_team_history_5_away_player_11</th>\n      <th>away_team_history_5_away_substitute_1</th>\n      <th>away_team_history_5_away_substitute_2</th>\n      <th>away_team_history_5_away_substitute_3</th>\n      <th>away_team_history_5_away_substitute_4</th>\n      <th>away_team_history_5_away_substitute_5</th>\n      <th>away_team_history_5_away_substitute_6</th>\n      <th>away_team_history_5_away_substitute_7</th>\n    </tr>\n  </thead>\n  <tbody>\n    <tr>\n      <th>95</th>\n      <td>2005-06</td>\n      <td>10</td>\n      <td>2005-10-30</td>\n      <td>15:00</td>\n      <td>NICOLA STEFANINI</td>\n      <td>CHIEVOVERONA</td>\n      <td>EMPOLI</td>\n      <td>2</td>\n      <td>2</td>\n      <td>Giuseppe Pillon</td>\n      <td>...</td>\n      <td>Aleksei Eremenko</td>\n      <td>Alex Pinardi</td>\n      <td>Axel Konan</td>\n      <td>Davide Giorgino</td>\n      <td>Graziano Pelle</td>\n      <td>Jaime Valdes</td>\n      <td>Francesco Benussi</td>\n      <td>Marco Pecorari</td>\n      <td>Giuseppe Abruzzese</td>\n      <td>Angelo</td>\n    </tr>\n    <tr>\n      <th>96</th>\n      <td>2005-06</td>\n      <td>10</td>\n      <td>2005-10-30</td>\n      <td>15:00</td>\n      <td>MASSIMILIANO SACCANI</td>\n      <td>LIVORNO</td>\n      <td>PARMA</td>\n      <td>2</td>\n      <td>0</td>\n      <td>Roberto Donadoni</td>\n      <td>...</td>\n      <td>Adrian Mutu</td>\n      <td>David Trezeguet</td>\n      <td>Marcelo Zalayeta</td>\n      <td>Emerson</td>\n      <td>Pavel Nedved</td>\n      <td>Zlatan Ibrahimovic</td>\n      <td>Antonio Chimenti</td>\n      <td>Robert Kovac</td>\n      <td>Manuele Blasi</td>\n      <td>Alessandro Del Piero</td>\n    </tr>\n    <tr>\n      <th>97</th>\n      <td>2005-06</td>\n      <td>10</td>\n      <td>2005-10-30</td>\n      <td>20:30</td>\n      <td>PASQUALE RODOMONTI</td>\n      <td>UDINESE</td>\n      <td>PALERMO</td>\n      <td>0</td>\n      <td>0</td>\n      <td>Serse Cosmi</td>\n      <td>...</td>\n      <td>Massimo Bonanni</td>\n      <td>Andrea Caracciolo</td>\n      <td>Stephen Makinwa</td>\n      <td>Massimo Mutarelli</td>\n      <td>Franco Brienza</td>\n      <td>Mariano Gonzalez</td>\n      <td>Mariano Andujar</td>\n      <td>Michele Ferri</td>\n      <td>Paul Codrea</td>\n      <td>Simone Pepe</td>\n    </tr>\n    <tr>\n      <th>98</th>\n      <td>2005-06</td>\n      <td>10</td>\n      <td>2005-10-30</td>\n      <td>15:00</td>\n      <td>GIANLUCA ROCCHI</td>\n      <td>REGGINA</td>\n      <td>LAZIO</td>\n      <td>1</td>\n      <td>0</td>\n      <td>Walter Mazzarri</td>\n      <td>...</td>\n      <td>Massimo Bonanni</td>\n      <td>Andrea Caracciolo</td>\n      <td>Stephen Makinwa</td>\n      <td>Massimo Mutarelli</td>\n      <td>Franco Brienza</td>\n      <td>Mariano Gonzalez</td>\n      <td>Mariano Andujar</td>\n      <td>Michele Ferri</td>\n      <td>Paul Codrea</td>\n      <td>Simone Pepe</td>\n    </tr>\n    <tr>\n      <th>99</th>\n      <td>2005-06</td>\n      <td>10</td>\n      <td>2005-10-30</td>\n      <td>15:00</td>\n      <td>MARIO MAZZOLENI</td>\n      <td>LECCE</td>\n      <td>MESSINA</td>\n      <td>0</td>\n      <td>2</td>\n      <td>Silvio Baldini</td>\n      <td>...</td>\n      <td>Ivica Iliev</td>\n      <td>Zlatan Muslimovic</td>\n      <td>Arturo Di Napoli</td>\n      <td>Filippo Cristante</td>\n      <td>Rafael</td>\n      <td>Atsushi Yanagisawa</td>\n      <td>Nicholas Caglioni</td>\n      <td>Domenico Giampa</td>\n      <td>Gaetano DAgostino</td>\n      <td>Giuseppe Sculli</td>\n    </tr>\n  </tbody>\n</table>\n<p>5 rows × 527 columns</p>\n</div>"
     },
     "execution_count": 71,
     "metadata": {},
     "output_type": "execute_result"
    }
   ],
   "source": [
    "def get_match_index_by_match(match: pd.DataFrame) -> int:\n",
    "    return match.index.tolist()[0]\n",
    "\n",
    "def is_team_home_or_away_in_match(team_name: str, match: pd.DataFrame):\n",
    "    home_team = match.squeeze()['home_team']\n",
    "    if home_team == team_name:\n",
    "        return 'home'\n",
    "    else:\n",
    "        return 'away'\n",
    "\n",
    "def get_last_match_played_by_team(df: pd.DataFrame, target_match_index: int, team_name: str) -> pd.DataFrame:\n",
    "    \"\"\"\n",
    "    Find in df the last match played by team_name prior to the game identified by target_match_index\n",
    "    :param df: where to search\n",
    "    :param target_match_index: the index in df of the target match\n",
    "    :param team_name: name of the team that has played the target match\n",
    "    :return:\n",
    "    \"\"\"\n",
    "    for i in reversed(range(target_match_index)):\n",
    "        current_match = df.iloc[[i]] # dataframe\n",
    "        if current_match.at[i, 'home_team'] == team_name or current_match.at[i, 'away_team'] == team_name:\n",
    "            return current_match\n",
    "    raise MatchNotFoundException(f'Previous match for team {team_name} was not found')\n",
    "\n",
    "def get_last_five_matches_played_by_team(df: pd.DataFrame, target_match_index: int, team_name: str) -> list[pd.Series]:\n",
    "    \"\"\"\n",
    "    Find in df the last five matches played by team_name prior to the game identified by match_index\n",
    "    :param df: where to search\n",
    "    :param target_match_index: target match index in df\n",
    "    :param team_name: the name of the team that has played all the last five matches\n",
    "    :return:\n",
    "    \"\"\"\n",
    "    match = df.iloc[[target_match_index]] # dataframe\n",
    "    last_match_found = match\n",
    "    last_five_matches = []\n",
    "    for i in range(1, 6):\n",
    "        try:\n",
    "            last_match_found = get_last_match_played_by_team(df, get_match_index_by_match(last_match_found), team_name)\n",
    "            last_five_matches.append(last_match_found.squeeze())\n",
    "        except MatchNotFoundException:\n",
    "            pass\n",
    "    return last_five_matches\n",
    "\n",
    "def construct_historic_features_of_last_five_matches_for_target_match(target_match_index: int, target_home_or_away: HomeOrAway, last_five_matches: list[pd.Series]) -> pd.DataFrame:\n",
    "    \"\"\"\n",
    "    Build a dataframe containing information about the last five matches played by home or away team of target match as historic features.\n",
    "    :param target_match_index: the index of the target match in df\n",
    "    :param target_home_or_away: tells whether the five matches has been played by the home or away team of target match\n",
    "    :param last_five_matches: a list containing the last five matches\n",
    "    :return:\n",
    "    \"\"\"\n",
    "    # Init columns for 5 historic matches\n",
    "    historic_cols = [f'{target_home_or_away.name}_team_history_{i}_{colName}' for i in range(1, 6) for colName in match_cols]\n",
    "    # Init empty DataFrame with those columns and specific index\n",
    "    result = pd.DataFrame(columns=historic_cols, index=[target_match_index])\n",
    "    # Copy values into DataFrame\n",
    "    for i in range(len(last_five_matches)):\n",
    "        source_match = last_five_matches[i]\n",
    "        for colName, colValue in source_match.iteritems():\n",
    "            result.at[target_match_index, f'{target_home_or_away.name}_team_history_{i+1}_{colName}'] = colValue\n",
    "    return result\n",
    "\n",
    "def add_historic_features_of_last_five_matches_for_all_matches(df: pd.DataFrame) -> pd.DataFrame:\n",
    "    \"\"\"\n",
    "    Construct a new dataframe adding information about the last five matches played by home and away team of all matches in df\n",
    "    :param df: source of data\n",
    "    :return: a new dataframe\n",
    "    \"\"\"\n",
    "    new_df = pd.DataFrame()\n",
    "    # for each row in dataframe\n",
    "    for index, row in df.iterrows():\n",
    "        team = row['home_team']\n",
    "        home_team_historic_df = construct_historic_features_of_last_five_matches_for_target_match(\n",
    "            index, HomeOrAway.home, get_last_five_matches_played_by_team(df, index, team)\n",
    "        )\n",
    "        team = row['away_team']\n",
    "        away_team_historic_df = construct_historic_features_of_last_five_matches_for_target_match(\n",
    "            index, HomeOrAway.away, get_last_five_matches_played_by_team(df, index, team)\n",
    "        )\n",
    "        new_row_as_df = pd.concat([df.iloc[[index]], home_team_historic_df, away_team_historic_df], axis=1)\n",
    "        new_df = pd.concat([new_df, new_row_as_df], axis=0)\n",
    "    return new_df\n",
    "\n",
    "df1 = add_historic_features_of_last_five_matches_for_all_matches(df)\n",
    "df1.tail()"
   ],
   "metadata": {
    "collapsed": false,
    "pycharm": {
     "name": "#%%\n"
    }
   }
  },
  {
   "cell_type": "code",
   "execution_count": 72,
   "outputs": [],
   "source": [
    "# reset datetime values\n",
    "for colName, colValue in df1.iteritems():\n",
    "    if colName.endswith('date'):\n",
    "        df1[colName] = pd.to_datetime(df1[colName], infer_datetime_format=True)"
   ],
   "metadata": {
    "collapsed": false,
    "pycharm": {
     "name": "#%%\n"
    }
   }
  },
  {
   "cell_type": "code",
   "execution_count": 73,
   "outputs": [
    {
     "data": {
      "text/plain": "(100, 527)"
     },
     "execution_count": 73,
     "metadata": {},
     "output_type": "execute_result"
    }
   ],
   "source": [
    "df1.shape"
   ],
   "metadata": {
    "collapsed": false,
    "pycharm": {
     "name": "#%%\n"
    }
   }
  },
  {
   "cell_type": "code",
   "execution_count": 73,
   "outputs": [],
   "source": [],
   "metadata": {
    "collapsed": false,
    "pycharm": {
     "name": "#%%\n"
    }
   }
  }
 ],
 "metadata": {
  "kernelspec": {
   "display_name": "Python 3",
   "language": "python",
   "name": "python3"
  },
  "language_info": {
   "codemirror_mode": {
    "name": "ipython",
    "version": 2
   },
   "file_extension": ".py",
   "mimetype": "text/x-python",
   "name": "python",
   "nbconvert_exporter": "python",
   "pygments_lexer": "ipython2",
   "version": "2.7.6"
  }
 },
 "nbformat": 4,
 "nbformat_minor": 0
}