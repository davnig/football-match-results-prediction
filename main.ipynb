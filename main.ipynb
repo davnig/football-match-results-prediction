{
 "cells": [
  {
   "cell_type": "markdown",
   "source": [
    "# Football matches result prediction\n",
    "\n",
    "Let's try to predict *Serie A* matches result (i.e. home win, away win or draw) with a RNN."
   ],
   "metadata": {
    "collapsed": false,
    "pycharm": {
     "name": "#%% md\n"
    }
   }
  },
  {
   "cell_type": "markdown",
   "source": [
    "## Introduction\n",
    "\n",
    "- The dataset was created by scraping *Serie A* matches data starting from season 2005-06 to season 2020-21\n",
    "- Cup matches (*Champions League*, *Europa League*, *Coppa Italia*) played over the course of each season were not taken into account"
   ],
   "metadata": {
    "collapsed": false,
    "pycharm": {
     "name": "#%% md\n"
    }
   }
  },
  {
   "cell_type": "code",
   "execution_count": 55,
   "outputs": [],
   "source": [
    "import pandas as pd\n",
    "import re\n",
    "from _MatchNotFoundException import MatchNotFoundException\n",
    "from HomeOrAway import HomeOrAway\n",
    "match_cols = ['match_id', 'season', 'round'] + \\\n",
    "             ['date', 'time', 'referee', 'home_team', 'away_team', 'home_team_score', 'away_team_score'] + \\\n",
    "             ['home_team_coach'] + \\\n",
    "             ['home_player_' + str(i) for i in range(1, 12)] + \\\n",
    "             ['home_substitute_' + str(i) for i in range(1, 8)] + \\\n",
    "             ['away_team_coach'] + \\\n",
    "             ['away_player_' + str(i) for i in range(1, 12)] + \\\n",
    "             ['away_substitute_' + str(i) for i in range(1, 8)]"
   ],
   "metadata": {
    "collapsed": false,
    "pycharm": {
     "name": "#%%\n"
    }
   }
  },
  {
   "cell_type": "markdown",
   "source": [
    "## Dataset construction\n",
    "Let's clean our raw data and construct the dataset"
   ],
   "metadata": {
    "collapsed": false,
    "pycharm": {
     "name": "#%% md\n"
    }
   }
  },
  {
   "cell_type": "code",
   "execution_count": 56,
   "outputs": [
    {
     "data": {
      "text/plain": "    season  round        date   time             referee   home_team  \\\n0  2005-06      1  28/08/2005  15:00          MASSIMO DE      ASCOLI   \n1  2005-06      1  27/08/2005  20:30  GIANLUCA PAPARESTA  FIORENTINA   \n2  2005-06      1  28/08/2005  15:00       TIZIANO PIERI       PARMA   \n3  2005-06      1  28/08/2005  15:00   PAOLO TAGLIAVENTO       INTER   \n4  2005-06      1  27/08/2005  18:00     GIANLUCA ROCCHI     LIVORNO   \n\n   away_team  home_team_score  away_team_score   home_team_coach  ...  \\\n0      MILAN                1                1     Massimo Silva  ...   \n1  SAMPDORIA                2                1  Cesare Prandelli  ...   \n2    PALERMO                1                1     Mario Beretta  ...   \n3    TREVISO                3                0   Roberto Mancini  ...   \n4      LECCE                2                1  Roberto Donadoni  ...   \n\n     away_player_9     away_player_10      away_player_11  away_substitute_1  \\\n0             Kaka  Andriy Shevchenko   Alberto Gilardino  Marek Jankulovski   \n1   Lamberto Zauli   Francesco Flachi  Emiliano Bonazzoli       Marco Pisano   \n2  Massimo Bonanni  Andrea Caracciolo     Stephen Makinwa     Nicola Santoni   \n3        Reginaldo     Luigi Beghetto               Pinga  Roberto Chiappara   \n4     Alex Pinardi   Aleksei Eremenko      Graziano Pelle   Alfonso Camorani   \n\n  away_substitute_2   away_substitute_3  away_substitute_4  \\\n0  Clarence Seedorf        Zeljko Kalac    Gennaro Gattuso   \n1   Vitaliy Kutuzov     Marco Borriello   Luca Castellazzi   \n2    Franco Brienza   Massimo Mutarelli     Giuseppe Biava   \n3         Dino Fava     Jehad Muntasser    Adriano Zancope   \n4      Jaime Valdes  Giuseppe Cozzolino  Francesco Benussi   \n\n       away_substitute_5   away_substitute_6  away_substitute_7  \n0       Manuel Rui Costa        Johann Vogel        Dario Simic  \n1          Marco Zamboni        Simone Pavan   Gionata Mingozzi  \n2          Michele Ferri    Mariano Gonzalez        Simone Pepe  \n3  Francesco Parravicini            Anderson  Alberto Giuliatto  \n4         Marco Pecorari  Giuseppe Abruzzese    Davide Giorgino  \n\n[5 rows x 47 columns]",
      "text/html": "<div>\n<style scoped>\n    .dataframe tbody tr th:only-of-type {\n        vertical-align: middle;\n    }\n\n    .dataframe tbody tr th {\n        vertical-align: top;\n    }\n\n    .dataframe thead th {\n        text-align: right;\n    }\n</style>\n<table border=\"1\" class=\"dataframe\">\n  <thead>\n    <tr style=\"text-align: right;\">\n      <th></th>\n      <th>season</th>\n      <th>round</th>\n      <th>date</th>\n      <th>time</th>\n      <th>referee</th>\n      <th>home_team</th>\n      <th>away_team</th>\n      <th>home_team_score</th>\n      <th>away_team_score</th>\n      <th>home_team_coach</th>\n      <th>...</th>\n      <th>away_player_9</th>\n      <th>away_player_10</th>\n      <th>away_player_11</th>\n      <th>away_substitute_1</th>\n      <th>away_substitute_2</th>\n      <th>away_substitute_3</th>\n      <th>away_substitute_4</th>\n      <th>away_substitute_5</th>\n      <th>away_substitute_6</th>\n      <th>away_substitute_7</th>\n    </tr>\n  </thead>\n  <tbody>\n    <tr>\n      <th>0</th>\n      <td>2005-06</td>\n      <td>1</td>\n      <td>28/08/2005</td>\n      <td>15:00</td>\n      <td>MASSIMO DE</td>\n      <td>ASCOLI</td>\n      <td>MILAN</td>\n      <td>1</td>\n      <td>1</td>\n      <td>Massimo Silva</td>\n      <td>...</td>\n      <td>Kaka</td>\n      <td>Andriy Shevchenko</td>\n      <td>Alberto Gilardino</td>\n      <td>Marek Jankulovski</td>\n      <td>Clarence Seedorf</td>\n      <td>Zeljko Kalac</td>\n      <td>Gennaro Gattuso</td>\n      <td>Manuel Rui Costa</td>\n      <td>Johann Vogel</td>\n      <td>Dario Simic</td>\n    </tr>\n    <tr>\n      <th>1</th>\n      <td>2005-06</td>\n      <td>1</td>\n      <td>27/08/2005</td>\n      <td>20:30</td>\n      <td>GIANLUCA PAPARESTA</td>\n      <td>FIORENTINA</td>\n      <td>SAMPDORIA</td>\n      <td>2</td>\n      <td>1</td>\n      <td>Cesare Prandelli</td>\n      <td>...</td>\n      <td>Lamberto Zauli</td>\n      <td>Francesco Flachi</td>\n      <td>Emiliano Bonazzoli</td>\n      <td>Marco Pisano</td>\n      <td>Vitaliy Kutuzov</td>\n      <td>Marco Borriello</td>\n      <td>Luca Castellazzi</td>\n      <td>Marco Zamboni</td>\n      <td>Simone Pavan</td>\n      <td>Gionata Mingozzi</td>\n    </tr>\n    <tr>\n      <th>2</th>\n      <td>2005-06</td>\n      <td>1</td>\n      <td>28/08/2005</td>\n      <td>15:00</td>\n      <td>TIZIANO PIERI</td>\n      <td>PARMA</td>\n      <td>PALERMO</td>\n      <td>1</td>\n      <td>1</td>\n      <td>Mario Beretta</td>\n      <td>...</td>\n      <td>Massimo Bonanni</td>\n      <td>Andrea Caracciolo</td>\n      <td>Stephen Makinwa</td>\n      <td>Nicola Santoni</td>\n      <td>Franco Brienza</td>\n      <td>Massimo Mutarelli</td>\n      <td>Giuseppe Biava</td>\n      <td>Michele Ferri</td>\n      <td>Mariano Gonzalez</td>\n      <td>Simone Pepe</td>\n    </tr>\n    <tr>\n      <th>3</th>\n      <td>2005-06</td>\n      <td>1</td>\n      <td>28/08/2005</td>\n      <td>15:00</td>\n      <td>PAOLO TAGLIAVENTO</td>\n      <td>INTER</td>\n      <td>TREVISO</td>\n      <td>3</td>\n      <td>0</td>\n      <td>Roberto Mancini</td>\n      <td>...</td>\n      <td>Reginaldo</td>\n      <td>Luigi Beghetto</td>\n      <td>Pinga</td>\n      <td>Roberto Chiappara</td>\n      <td>Dino Fava</td>\n      <td>Jehad Muntasser</td>\n      <td>Adriano Zancope</td>\n      <td>Francesco Parravicini</td>\n      <td>Anderson</td>\n      <td>Alberto Giuliatto</td>\n    </tr>\n    <tr>\n      <th>4</th>\n      <td>2005-06</td>\n      <td>1</td>\n      <td>27/08/2005</td>\n      <td>18:00</td>\n      <td>GIANLUCA ROCCHI</td>\n      <td>LIVORNO</td>\n      <td>LECCE</td>\n      <td>2</td>\n      <td>1</td>\n      <td>Roberto Donadoni</td>\n      <td>...</td>\n      <td>Alex Pinardi</td>\n      <td>Aleksei Eremenko</td>\n      <td>Graziano Pelle</td>\n      <td>Alfonso Camorani</td>\n      <td>Jaime Valdes</td>\n      <td>Giuseppe Cozzolino</td>\n      <td>Francesco Benussi</td>\n      <td>Marco Pecorari</td>\n      <td>Giuseppe Abruzzese</td>\n      <td>Davide Giorgino</td>\n    </tr>\n  </tbody>\n</table>\n<p>5 rows × 47 columns</p>\n</div>"
     },
     "execution_count": 56,
     "metadata": {},
     "output_type": "execute_result"
    }
   ],
   "source": [
    "raw_data = pd.read_csv('raw.csv')\n",
    "raw_data.head()"
   ],
   "metadata": {
    "collapsed": false,
    "pycharm": {
     "name": "#%%\n"
    }
   }
  },
  {
   "cell_type": "code",
   "execution_count": 57,
   "outputs": [],
   "source": [
    "# let's work just on the head for now\n",
    "df = pd.DataFrame(raw_data)\n",
    "# df = df.iloc[0:200]"
   ],
   "metadata": {
    "collapsed": false,
    "pycharm": {
     "name": "#%%\n"
    }
   }
  },
  {
   "cell_type": "code",
   "execution_count": 58,
   "outputs": [],
   "source": [
    "# add id str to each match\n",
    "df['match_id'] = [re.sub(r'[^a-zA-Z\\d ]', '', df.loc[i, 'date'] + df.loc[i, 'time'] + df.loc[i, 'home_team'][:3] + df.loc[i, 'away_team'][:3]) for i in range(len(df.index))]\n",
    "# convert date str to datetime\n",
    "df['date'] = pd.to_datetime(df['date'], infer_datetime_format=True)\n",
    "# sort by date column\n",
    "df = df.sort_values(by='date')\n",
    "df = df.reset_index(drop=True)\n",
    "# make 'match_id' to be the first column\n",
    "cols = list(df.columns)\n",
    "cols.remove('match_id')\n",
    "df = df[['match_id'] + cols]\n",
    "# convert 'round' values to int\n",
    "df['round'] = df['round'].astype(int)"
   ],
   "metadata": {
    "collapsed": false,
    "pycharm": {
     "name": "#%%\n"
    }
   }
  },
  {
   "cell_type": "code",
   "execution_count": 60,
   "outputs": [
    {
     "data": {
      "text/plain": "                match_id   season  round       date   time  \\\n0     270820052030FIOSAM  2005-06      1 2005-08-27  20:30   \n1     270820051800LIVLEC  2005-06      1 2005-08-27  18:00   \n2     280820051500ASCMIL  2005-06      1 2005-08-28  15:00   \n3     280820051500PARPAL  2005-06      1 2005-08-28  15:00   \n4     280820051500INTTRE  2005-06      1 2005-08-28  15:00   \n...                  ...      ...    ...        ...    ...   \n1354  010220091500ROBLEC  2008-09     22 2009-02-01  15:00   \n1355  010220091500ATACAT  2008-09     22 2009-02-01  15:00   \n1356  010220091500CHISAM  2008-09     22 2009-02-01  15:00   \n1357  010220091500GENPAL  2008-09     22 2009-02-01  15:00   \n1358  020220091515BOLFIO  2008-09     22 2009-02-02  15:15   \n\n                 referee     home_team   away_team  home_team_score  \\\n0     GIANLUCA PAPARESTA    FIORENTINA   SAMPDORIA                2   \n1        GIANLUCA ROCCHI       LIVORNO       LECCE                2   \n2             MASSIMO DE        ASCOLI       MILAN                1   \n3          TIZIANO PIERI         PARMA     PALERMO                1   \n4      PAOLO TAGLIAVENTO         INTER     TREVISO                3   \n...                  ...           ...         ...              ...   \n1354    CHRISTIAN BRIGHI   ROBUR SIENA       LECCE                1   \n1355     PAOLO DONDARINI      ATALANTA     CATANIA                1   \n1356       GABRIELE GAVA  CHIEVOVERONA   SAMPDORIA                1   \n1357       MATTEO SIMONE         GENOA     PALERMO                1   \n1358      DANIELE ORSATO       BOLOGNA  FIORENTINA                1   \n\n      away_team_score  ... away_team_historic_5_away_player_9  \\\n0                   1  ...                                NaN   \n1                   1  ...                                NaN   \n2                   1  ...                                NaN   \n3                   1  ...                                NaN   \n4                   0  ...                                NaN   \n...               ...  ...                                ...   \n1354                2  ...                  Francesco Valiani   \n1355                0  ...                     Julio Baptista   \n1356                1  ...                     Pietro Accardi   \n1357                0  ...                    Fabio Simplicio   \n1358                3  ...                      Mario Santana   \n\n     away_team_historic_5_away_player_10 away_team_historic_5_away_player_11  \\\n0                                    NaN                                 NaN   \n1                                    NaN                                 NaN   \n2                                    NaN                                 NaN   \n3                                    NaN                                 NaN   \n4                                    NaN                                 NaN   \n...                                  ...                                 ...   \n1354                       Marco Di Vaio                      Marco Bernacci   \n1355                     Francesco Totti                       Mirko Vucinic   \n1356                    Claudio Bellucci                     Antonio Cassano   \n1357                        Davide Succi                    Fabrizio Miccoli   \n1358                   Alberto Gilardino                         Adrian Mutu   \n\n     away_team_historic_5_away_substitute_1  \\\n0                                       NaN   \n1                                       NaN   \n2                                       NaN   \n3                                       NaN   \n4                                       NaN   \n...                                     ...   \n1354                      Christian Amoroso   \n1355                                Cicinho   \n1356                           Reto Ziegler   \n1357                          Roberto Guana   \n1358                         Franco Semioli   \n\n     away_team_historic_5_away_substitute_2  \\\n0                                       NaN   \n1                                       NaN   \n2                                       NaN   \n3                                       NaN   \n4                                       NaN   \n...                                     ...   \n1354                               Adailton   \n1355                          Stefano Okaka   \n1356                    Marius Stankevicius   \n1357                       Levan Mchedlidze   \n1358                          Marco Donadel   \n\n     away_team_historic_5_away_substitute_3  \\\n0                                       NaN   \n1                                       NaN   \n2                                       NaN   \n3                                       NaN   \n4                                       NaN   \n...                                     ...   \n1354                                  Cesar   \n1355                           Jeremy Menez   \n1356                         Angelo Palombo   \n1357                           Samir Ujkani   \n1358                         Stevan Jovetic   \n\n     away_team_historic_5_away_substitute_4  \\\n0                                       NaN   \n1                                       NaN   \n2                                       NaN   \n3                                       NaN   \n4                                       NaN   \n...                                     ...   \n1354                        Roberto Colombo   \n1355                                  Artur   \n1356                        Antonio Mirante   \n1357                Hernan Paolo Dellafiore   \n1358                          Marco Storari   \n\n     away_team_historic_5_away_substitute_5  \\\n0                                       NaN   \n1                                       NaN   \n2                                       NaN   \n3                                       NaN   \n4                                       NaN   \n...                                     ...   \n1354                        Salvatore Lanna   \n1355                           Simone Loria   \n1356                        Daniele Dessena   \n1357                           Andrea Raggi   \n1358                          Luciano Zauri   \n\n     away_team_historic_5_away_substitute_6  \\\n0                                       NaN   \n1                                       NaN   \n2                                       NaN   \n3                                       NaN   \n4                                       NaN   \n...                                     ...   \n1354                    Marcello Castellini   \n1355                          Leandro Greco   \n1356                        Bruno Fornaroli   \n1357                      Giulio Migliaccio   \n1358                         Manuel Pasqual   \n\n     away_team_historic_5_away_substitute_7  \n0                                       NaN  \n1                                       NaN  \n2                                       NaN  \n3                                       NaN  \n4                                       NaN  \n...                                     ...  \n1354                      Nicola Mingazzini  \n1355                          Valerio Virga  \n1356                     Emiliano Bonazzoli  \n1357                   Maurizio Ciaramitaro  \n1358                      Giampaolo Pazzini  \n\n[1359 rows x 528 columns]",
      "text/html": "<div>\n<style scoped>\n    .dataframe tbody tr th:only-of-type {\n        vertical-align: middle;\n    }\n\n    .dataframe tbody tr th {\n        vertical-align: top;\n    }\n\n    .dataframe thead th {\n        text-align: right;\n    }\n</style>\n<table border=\"1\" class=\"dataframe\">\n  <thead>\n    <tr style=\"text-align: right;\">\n      <th></th>\n      <th>match_id</th>\n      <th>season</th>\n      <th>round</th>\n      <th>date</th>\n      <th>time</th>\n      <th>referee</th>\n      <th>home_team</th>\n      <th>away_team</th>\n      <th>home_team_score</th>\n      <th>away_team_score</th>\n      <th>...</th>\n      <th>away_team_historic_5_away_player_9</th>\n      <th>away_team_historic_5_away_player_10</th>\n      <th>away_team_historic_5_away_player_11</th>\n      <th>away_team_historic_5_away_substitute_1</th>\n      <th>away_team_historic_5_away_substitute_2</th>\n      <th>away_team_historic_5_away_substitute_3</th>\n      <th>away_team_historic_5_away_substitute_4</th>\n      <th>away_team_historic_5_away_substitute_5</th>\n      <th>away_team_historic_5_away_substitute_6</th>\n      <th>away_team_historic_5_away_substitute_7</th>\n    </tr>\n  </thead>\n  <tbody>\n    <tr>\n      <th>0</th>\n      <td>270820052030FIOSAM</td>\n      <td>2005-06</td>\n      <td>1</td>\n      <td>2005-08-27</td>\n      <td>20:30</td>\n      <td>GIANLUCA PAPARESTA</td>\n      <td>FIORENTINA</td>\n      <td>SAMPDORIA</td>\n      <td>2</td>\n      <td>1</td>\n      <td>...</td>\n      <td>NaN</td>\n      <td>NaN</td>\n      <td>NaN</td>\n      <td>NaN</td>\n      <td>NaN</td>\n      <td>NaN</td>\n      <td>NaN</td>\n      <td>NaN</td>\n      <td>NaN</td>\n      <td>NaN</td>\n    </tr>\n    <tr>\n      <th>1</th>\n      <td>270820051800LIVLEC</td>\n      <td>2005-06</td>\n      <td>1</td>\n      <td>2005-08-27</td>\n      <td>18:00</td>\n      <td>GIANLUCA ROCCHI</td>\n      <td>LIVORNO</td>\n      <td>LECCE</td>\n      <td>2</td>\n      <td>1</td>\n      <td>...</td>\n      <td>NaN</td>\n      <td>NaN</td>\n      <td>NaN</td>\n      <td>NaN</td>\n      <td>NaN</td>\n      <td>NaN</td>\n      <td>NaN</td>\n      <td>NaN</td>\n      <td>NaN</td>\n      <td>NaN</td>\n    </tr>\n    <tr>\n      <th>2</th>\n      <td>280820051500ASCMIL</td>\n      <td>2005-06</td>\n      <td>1</td>\n      <td>2005-08-28</td>\n      <td>15:00</td>\n      <td>MASSIMO DE</td>\n      <td>ASCOLI</td>\n      <td>MILAN</td>\n      <td>1</td>\n      <td>1</td>\n      <td>...</td>\n      <td>NaN</td>\n      <td>NaN</td>\n      <td>NaN</td>\n      <td>NaN</td>\n      <td>NaN</td>\n      <td>NaN</td>\n      <td>NaN</td>\n      <td>NaN</td>\n      <td>NaN</td>\n      <td>NaN</td>\n    </tr>\n    <tr>\n      <th>3</th>\n      <td>280820051500PARPAL</td>\n      <td>2005-06</td>\n      <td>1</td>\n      <td>2005-08-28</td>\n      <td>15:00</td>\n      <td>TIZIANO PIERI</td>\n      <td>PARMA</td>\n      <td>PALERMO</td>\n      <td>1</td>\n      <td>1</td>\n      <td>...</td>\n      <td>NaN</td>\n      <td>NaN</td>\n      <td>NaN</td>\n      <td>NaN</td>\n      <td>NaN</td>\n      <td>NaN</td>\n      <td>NaN</td>\n      <td>NaN</td>\n      <td>NaN</td>\n      <td>NaN</td>\n    </tr>\n    <tr>\n      <th>4</th>\n      <td>280820051500INTTRE</td>\n      <td>2005-06</td>\n      <td>1</td>\n      <td>2005-08-28</td>\n      <td>15:00</td>\n      <td>PAOLO TAGLIAVENTO</td>\n      <td>INTER</td>\n      <td>TREVISO</td>\n      <td>3</td>\n      <td>0</td>\n      <td>...</td>\n      <td>NaN</td>\n      <td>NaN</td>\n      <td>NaN</td>\n      <td>NaN</td>\n      <td>NaN</td>\n      <td>NaN</td>\n      <td>NaN</td>\n      <td>NaN</td>\n      <td>NaN</td>\n      <td>NaN</td>\n    </tr>\n    <tr>\n      <th>...</th>\n      <td>...</td>\n      <td>...</td>\n      <td>...</td>\n      <td>...</td>\n      <td>...</td>\n      <td>...</td>\n      <td>...</td>\n      <td>...</td>\n      <td>...</td>\n      <td>...</td>\n      <td>...</td>\n      <td>...</td>\n      <td>...</td>\n      <td>...</td>\n      <td>...</td>\n      <td>...</td>\n      <td>...</td>\n      <td>...</td>\n      <td>...</td>\n      <td>...</td>\n      <td>...</td>\n    </tr>\n    <tr>\n      <th>1354</th>\n      <td>010220091500ROBLEC</td>\n      <td>2008-09</td>\n      <td>22</td>\n      <td>2009-02-01</td>\n      <td>15:00</td>\n      <td>CHRISTIAN BRIGHI</td>\n      <td>ROBUR SIENA</td>\n      <td>LECCE</td>\n      <td>1</td>\n      <td>2</td>\n      <td>...</td>\n      <td>Francesco Valiani</td>\n      <td>Marco Di Vaio</td>\n      <td>Marco Bernacci</td>\n      <td>Christian Amoroso</td>\n      <td>Adailton</td>\n      <td>Cesar</td>\n      <td>Roberto Colombo</td>\n      <td>Salvatore Lanna</td>\n      <td>Marcello Castellini</td>\n      <td>Nicola Mingazzini</td>\n    </tr>\n    <tr>\n      <th>1355</th>\n      <td>010220091500ATACAT</td>\n      <td>2008-09</td>\n      <td>22</td>\n      <td>2009-02-01</td>\n      <td>15:00</td>\n      <td>PAOLO DONDARINI</td>\n      <td>ATALANTA</td>\n      <td>CATANIA</td>\n      <td>1</td>\n      <td>0</td>\n      <td>...</td>\n      <td>Julio Baptista</td>\n      <td>Francesco Totti</td>\n      <td>Mirko Vucinic</td>\n      <td>Cicinho</td>\n      <td>Stefano Okaka</td>\n      <td>Jeremy Menez</td>\n      <td>Artur</td>\n      <td>Simone Loria</td>\n      <td>Leandro Greco</td>\n      <td>Valerio Virga</td>\n    </tr>\n    <tr>\n      <th>1356</th>\n      <td>010220091500CHISAM</td>\n      <td>2008-09</td>\n      <td>22</td>\n      <td>2009-02-01</td>\n      <td>15:00</td>\n      <td>GABRIELE GAVA</td>\n      <td>CHIEVOVERONA</td>\n      <td>SAMPDORIA</td>\n      <td>1</td>\n      <td>1</td>\n      <td>...</td>\n      <td>Pietro Accardi</td>\n      <td>Claudio Bellucci</td>\n      <td>Antonio Cassano</td>\n      <td>Reto Ziegler</td>\n      <td>Marius Stankevicius</td>\n      <td>Angelo Palombo</td>\n      <td>Antonio Mirante</td>\n      <td>Daniele Dessena</td>\n      <td>Bruno Fornaroli</td>\n      <td>Emiliano Bonazzoli</td>\n    </tr>\n    <tr>\n      <th>1357</th>\n      <td>010220091500GENPAL</td>\n      <td>2008-09</td>\n      <td>22</td>\n      <td>2009-02-01</td>\n      <td>15:00</td>\n      <td>MATTEO SIMONE</td>\n      <td>GENOA</td>\n      <td>PALERMO</td>\n      <td>1</td>\n      <td>0</td>\n      <td>...</td>\n      <td>Fabio Simplicio</td>\n      <td>Davide Succi</td>\n      <td>Fabrizio Miccoli</td>\n      <td>Roberto Guana</td>\n      <td>Levan Mchedlidze</td>\n      <td>Samir Ujkani</td>\n      <td>Hernan Paolo Dellafiore</td>\n      <td>Andrea Raggi</td>\n      <td>Giulio Migliaccio</td>\n      <td>Maurizio Ciaramitaro</td>\n    </tr>\n    <tr>\n      <th>1358</th>\n      <td>020220091515BOLFIO</td>\n      <td>2008-09</td>\n      <td>22</td>\n      <td>2009-02-02</td>\n      <td>15:15</td>\n      <td>DANIELE ORSATO</td>\n      <td>BOLOGNA</td>\n      <td>FIORENTINA</td>\n      <td>1</td>\n      <td>3</td>\n      <td>...</td>\n      <td>Mario Santana</td>\n      <td>Alberto Gilardino</td>\n      <td>Adrian Mutu</td>\n      <td>Franco Semioli</td>\n      <td>Marco Donadel</td>\n      <td>Stevan Jovetic</td>\n      <td>Marco Storari</td>\n      <td>Luciano Zauri</td>\n      <td>Manuel Pasqual</td>\n      <td>Giampaolo Pazzini</td>\n    </tr>\n  </tbody>\n</table>\n<p>1359 rows × 528 columns</p>\n</div>"
     },
     "execution_count": 60,
     "metadata": {},
     "output_type": "execute_result"
    }
   ],
   "source": [
    "def get_match_by_id(df: pd.DataFrame, match_id: str) -> pd.DataFrame:\n",
    "    return df[df['match_id'] == match_id]\n",
    "\n",
    "def get_match_index_by_id(df: pd.DataFrame, match_id: str) -> int:\n",
    "    return get_match_by_id(df, match_id).index.tolist()[0]\n",
    "\n",
    "def get_match_index_by_match(match: pd.DataFrame) -> int:\n",
    "    return match.index.tolist()[0]\n",
    "\n",
    "def is_team_home_or_away_in_match(team_name: str, match: pd.DataFrame):\n",
    "    home_team = match.squeeze()['home_team']\n",
    "    if home_team == team_name:\n",
    "        return 'home'\n",
    "    else:\n",
    "        return 'away'\n",
    "\n",
    "def get_last_match_played_by_team(df: pd.DataFrame, target_match_index: int, team_name: str) -> pd.DataFrame:\n",
    "    \"\"\"\n",
    "    Find in df the last match played by team_name prior to the game identified by target_match_index\n",
    "    :param df: where to search\n",
    "    :param target_match_index: the index in df of the target match\n",
    "    :param team_name: name of the team that has played the target match\n",
    "    :return:\n",
    "    \"\"\"\n",
    "    for i in reversed(range(target_match_index)):\n",
    "        current_match = df.iloc[[i]] # dataframe\n",
    "        if current_match.at[i, 'home_team'] == team_name or current_match.at[i, 'away_team'] == team_name:\n",
    "            return current_match\n",
    "    raise MatchNotFoundException(f'Previous match for team {team_name} was not found')\n",
    "\n",
    "def get_last_five_matches_played_by_team(df: pd.DataFrame, target_match_index: int, team_name: str) -> list[pd.Series]:\n",
    "    \"\"\"\n",
    "    Find in df the last five matches played by team_name prior to the game identified by match_index\n",
    "    :param df: where to search\n",
    "    :param target_match_index: target match index in df\n",
    "    :param team_name: the name of the team that has played all the last five matches\n",
    "    :return:\n",
    "    \"\"\"\n",
    "    match = df.iloc[[target_match_index]] # dataframe\n",
    "    last_match_found = match\n",
    "    last_five_matches = []\n",
    "    for i in range(1, 6):\n",
    "        try:\n",
    "            last_match_found = get_last_match_played_by_team(df, get_match_index_by_match(last_match_found), team_name)\n",
    "            last_five_matches.append(last_match_found.squeeze())\n",
    "        except MatchNotFoundException:\n",
    "            pass\n",
    "    return last_five_matches\n",
    "\n",
    "def construct_historic_features_of_last_five_matches_for_target_match(target_match_index: int, target_home_or_away: HomeOrAway, last_five_matches: list[pd.Series]) -> pd.DataFrame:\n",
    "    \"\"\"\n",
    "    Build a dataframe containing information about the last five matches played by home or away team of target match as historic features.\n",
    "    :param target_match_index: the index of the target match in df\n",
    "    :param target_home_or_away: tells whether the five matches has been played by the home or away team of target match\n",
    "    :param last_five_matches: a list containing the last five matches\n",
    "    :return:\n",
    "    \"\"\"\n",
    "    # Init columns for 5 historic matches\n",
    "    historic_cols = [f'{target_home_or_away.name}_team_history_{i}_{colName}' for i in range(1, 6) for colName in match_cols]\n",
    "    # Init empty DataFrame with those columns and specific index\n",
    "    result = pd.DataFrame(columns=historic_cols, index=[target_match_index])\n",
    "    # Copy values into DataFrame\n",
    "    for i in range(len(last_five_matches)):\n",
    "        source_match = last_five_matches[i]\n",
    "        for colName, colValue in source_match.iteritems():\n",
    "            result.at[target_match_index, f'{target_home_or_away.name}_team_history_{i+1}_{colName}'] = colValue\n",
    "    return result\n",
    "\n",
    "def add_historic_features_of_last_five_matches_for_all_matches(df: pd.DataFrame) -> pd.DataFrame:\n",
    "    \"\"\"\n",
    "    Construct a new dataframe adding information about the last five matches played by home and away team of all matches in df\n",
    "    :param df: source of data\n",
    "    :return: a new dataframe\n",
    "    \"\"\"\n",
    "    new_df = pd.DataFrame()\n",
    "    # for each row in dataframe\n",
    "    for index, row in df.iterrows():\n",
    "        team = row['home_team']\n",
    "        home_team_historic_df = construct_historic_features_of_last_five_matches_for_target_match(\n",
    "            index, HomeOrAway.home, get_last_five_matches_played_by_team(df, index, team)\n",
    "        )\n",
    "        team = row['away_team']\n",
    "        away_team_historic_df = construct_historic_features_of_last_five_matches_for_target_match(\n",
    "            index, HomeOrAway.away, get_last_five_matches_played_by_team(df, index, team)\n",
    "        )\n",
    "        new_row_as_df = pd.concat([df.iloc[[index]], home_team_historic_df, away_team_historic_df], axis=1)\n",
    "        new_df = pd.concat([new_df, new_row_as_df], axis=0)\n",
    "    return new_df\n",
    "\n",
    "df1 = add_historic_features_of_last_five_matches_for_all_matches(df)\n",
    "df1.tail()"
   ],
   "metadata": {
    "collapsed": false,
    "pycharm": {
     "name": "#%%\n"
    }
   }
  },
  {
   "cell_type": "code",
   "execution_count": 61,
   "outputs": [],
   "source": [
    "# reset datetime values\n",
    "for colName, colValue in df1.iteritems():\n",
    "    if colName.endswith('date'):\n",
    "        df1[colName] = pd.to_datetime(df1[colName], infer_datetime_format=True)"
   ],
   "metadata": {
    "collapsed": false,
    "pycharm": {
     "name": "#%%\n"
    }
   }
  },
  {
   "cell_type": "code",
   "execution_count": null,
   "outputs": [],
   "source": [
    "# Drop id columns, unusefull for training\n",
    "df1.drop(columns=['match_id'])\n",
    "df1.drop(columns=[f'home_team_history_{i}_match_id' for i in range(1, 6)])"
   ],
   "metadata": {
    "collapsed": false,
    "pycharm": {
     "name": "#%%\n",
     "is_executing": true
    }
   }
  },
  {
   "cell_type": "code",
   "execution_count": 66,
   "outputs": [
    {
     "data": {
      "text/plain": "(1359, 528)"
     },
     "execution_count": 66,
     "metadata": {},
     "output_type": "execute_result"
    }
   ],
   "source": [
    "df1.shape"
   ],
   "metadata": {
    "collapsed": false,
    "pycharm": {
     "name": "#%%\n"
    }
   }
  },
  {
   "cell_type": "code",
   "execution_count": null,
   "outputs": [],
   "source": [],
   "metadata": {
    "collapsed": false,
    "pycharm": {
     "name": "#%%\n"
    }
   }
  }
 ],
 "metadata": {
  "kernelspec": {
   "display_name": "Python 3",
   "language": "python",
   "name": "python3"
  },
  "language_info": {
   "codemirror_mode": {
    "name": "ipython",
    "version": 2
   },
   "file_extension": ".py",
   "mimetype": "text/x-python",
   "name": "python",
   "nbconvert_exporter": "python",
   "pygments_lexer": "ipython2",
   "version": "2.7.6"
  }
 },
 "nbformat": 4,
 "nbformat_minor": 0
}