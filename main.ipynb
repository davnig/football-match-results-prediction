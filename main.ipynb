{
 "cells": [
  {
   "cell_type": "markdown",
   "source": [
    "# Football matches result prediction\n",
    "\n",
    "Let's try to predict *Serie A* matches result (i.e. home win, away win or draw) with a RNN."
   ],
   "metadata": {
    "collapsed": false,
    "pycharm": {
     "name": "#%% md\n"
    }
   }
  },
  {
   "cell_type": "markdown",
   "source": [
    "## Introduction\n",
    "\n",
    "- The dataset was created by scraping *Serie A* matches data starting from season 2005-06 to season 2020-21\n",
    "- Cup matches (*Champions League*, *Europa League*, *Coppa Italia*) played over the course of each season were not taken into account"
   ],
   "metadata": {
    "collapsed": false,
    "pycharm": {
     "name": "#%% md\n"
    }
   }
  },
  {
   "cell_type": "code",
   "execution_count": 97,
   "outputs": [],
   "source": [
    "import pandas as pd\n",
    "import re\n",
    "from _MatchNotFoundException import MatchNotFoundException"
   ],
   "metadata": {
    "collapsed": false,
    "pycharm": {
     "name": "#%%\n"
    }
   }
  },
  {
   "cell_type": "markdown",
   "source": [
    "## Dataset construction\n",
    "Let's clean our raw data and construct the dataset"
   ],
   "metadata": {
    "collapsed": false,
    "pycharm": {
     "name": "#%% md\n"
    }
   }
  },
  {
   "cell_type": "code",
   "execution_count": 98,
   "outputs": [
    {
     "data": {
      "text/plain": "    season  round        date   time             referee   home_team  \\\n0  2005-06      1  28/08/2005  15:00          MASSIMO DE      ASCOLI   \n1  2005-06      1  27/08/2005  20:30  GIANLUCA PAPARESTA  FIORENTINA   \n2  2005-06      1  28/08/2005  15:00       TIZIANO PIERI       PARMA   \n3  2005-06      1  28/08/2005  15:00   PAOLO TAGLIAVENTO       INTER   \n4  2005-06      1  27/08/2005  18:00     GIANLUCA ROCCHI     LIVORNO   \n\n   away_team home_team_score away_team_score   home_team_coach  ...  \\\n0      MILAN               1               1     Massimo Silva  ...   \n1  SAMPDORIA               2               1  Cesare Prandelli  ...   \n2    PALERMO               1               1     Mario Beretta  ...   \n3    TREVISO               3               0   Roberto Mancini  ...   \n4      LECCE               2               1  Roberto Donadoni  ...   \n\n     away_player_9     away_player_10      away_player_11  away_substitute_1  \\\n0             Kaka  Andriy Shevchenko   Alberto Gilardino  Marek Jankulovski   \n1   Lamberto Zauli   Francesco Flachi  Emiliano Bonazzoli       Marco Pisano   \n2  Massimo Bonanni  Andrea Caracciolo     Stephen Makinwa     Nicola Santoni   \n3        Reginaldo     Luigi Beghetto               Pinga  Roberto Chiappara   \n4     Alex Pinardi   Aleksei Eremenko      Graziano Pelle   Alfonso Camorani   \n\n  away_substitute_2   away_substitute_3  away_substitute_4  \\\n0  Clarence Seedorf        Zeljko Kalac    Gennaro Gattuso   \n1   Vitaliy Kutuzov     Marco Borriello   Luca Castellazzi   \n2    Franco Brienza   Massimo Mutarelli     Giuseppe Biava   \n3         Dino Fava     Jehad Muntasser    Adriano Zancope   \n4      Jaime Valdes  Giuseppe Cozzolino  Francesco Benussi   \n\n       away_substitute_5   away_substitute_6  away_substitute_7  \n0       Manuel Rui Costa        Johann Vogel        Dario Simic  \n1          Marco Zamboni        Simone Pavan   Gionata Mingozzi  \n2          Michele Ferri    Mariano Gonzalez        Simone Pepe  \n3  Francesco Parravicini            Anderson  Alberto Giuliatto  \n4         Marco Pecorari  Giuseppe Abruzzese    Davide Giorgino  \n\n[5 rows x 47 columns]",
      "text/html": "<div>\n<style scoped>\n    .dataframe tbody tr th:only-of-type {\n        vertical-align: middle;\n    }\n\n    .dataframe tbody tr th {\n        vertical-align: top;\n    }\n\n    .dataframe thead th {\n        text-align: right;\n    }\n</style>\n<table border=\"1\" class=\"dataframe\">\n  <thead>\n    <tr style=\"text-align: right;\">\n      <th></th>\n      <th>season</th>\n      <th>round</th>\n      <th>date</th>\n      <th>time</th>\n      <th>referee</th>\n      <th>home_team</th>\n      <th>away_team</th>\n      <th>home_team_score</th>\n      <th>away_team_score</th>\n      <th>home_team_coach</th>\n      <th>...</th>\n      <th>away_player_9</th>\n      <th>away_player_10</th>\n      <th>away_player_11</th>\n      <th>away_substitute_1</th>\n      <th>away_substitute_2</th>\n      <th>away_substitute_3</th>\n      <th>away_substitute_4</th>\n      <th>away_substitute_5</th>\n      <th>away_substitute_6</th>\n      <th>away_substitute_7</th>\n    </tr>\n  </thead>\n  <tbody>\n    <tr>\n      <th>0</th>\n      <td>2005-06</td>\n      <td>1</td>\n      <td>28/08/2005</td>\n      <td>15:00</td>\n      <td>MASSIMO DE</td>\n      <td>ASCOLI</td>\n      <td>MILAN</td>\n      <td>1</td>\n      <td>1</td>\n      <td>Massimo Silva</td>\n      <td>...</td>\n      <td>Kaka</td>\n      <td>Andriy Shevchenko</td>\n      <td>Alberto Gilardino</td>\n      <td>Marek Jankulovski</td>\n      <td>Clarence Seedorf</td>\n      <td>Zeljko Kalac</td>\n      <td>Gennaro Gattuso</td>\n      <td>Manuel Rui Costa</td>\n      <td>Johann Vogel</td>\n      <td>Dario Simic</td>\n    </tr>\n    <tr>\n      <th>1</th>\n      <td>2005-06</td>\n      <td>1</td>\n      <td>27/08/2005</td>\n      <td>20:30</td>\n      <td>GIANLUCA PAPARESTA</td>\n      <td>FIORENTINA</td>\n      <td>SAMPDORIA</td>\n      <td>2</td>\n      <td>1</td>\n      <td>Cesare Prandelli</td>\n      <td>...</td>\n      <td>Lamberto Zauli</td>\n      <td>Francesco Flachi</td>\n      <td>Emiliano Bonazzoli</td>\n      <td>Marco Pisano</td>\n      <td>Vitaliy Kutuzov</td>\n      <td>Marco Borriello</td>\n      <td>Luca Castellazzi</td>\n      <td>Marco Zamboni</td>\n      <td>Simone Pavan</td>\n      <td>Gionata Mingozzi</td>\n    </tr>\n    <tr>\n      <th>2</th>\n      <td>2005-06</td>\n      <td>1</td>\n      <td>28/08/2005</td>\n      <td>15:00</td>\n      <td>TIZIANO PIERI</td>\n      <td>PARMA</td>\n      <td>PALERMO</td>\n      <td>1</td>\n      <td>1</td>\n      <td>Mario Beretta</td>\n      <td>...</td>\n      <td>Massimo Bonanni</td>\n      <td>Andrea Caracciolo</td>\n      <td>Stephen Makinwa</td>\n      <td>Nicola Santoni</td>\n      <td>Franco Brienza</td>\n      <td>Massimo Mutarelli</td>\n      <td>Giuseppe Biava</td>\n      <td>Michele Ferri</td>\n      <td>Mariano Gonzalez</td>\n      <td>Simone Pepe</td>\n    </tr>\n    <tr>\n      <th>3</th>\n      <td>2005-06</td>\n      <td>1</td>\n      <td>28/08/2005</td>\n      <td>15:00</td>\n      <td>PAOLO TAGLIAVENTO</td>\n      <td>INTER</td>\n      <td>TREVISO</td>\n      <td>3</td>\n      <td>0</td>\n      <td>Roberto Mancini</td>\n      <td>...</td>\n      <td>Reginaldo</td>\n      <td>Luigi Beghetto</td>\n      <td>Pinga</td>\n      <td>Roberto Chiappara</td>\n      <td>Dino Fava</td>\n      <td>Jehad Muntasser</td>\n      <td>Adriano Zancope</td>\n      <td>Francesco Parravicini</td>\n      <td>Anderson</td>\n      <td>Alberto Giuliatto</td>\n    </tr>\n    <tr>\n      <th>4</th>\n      <td>2005-06</td>\n      <td>1</td>\n      <td>27/08/2005</td>\n      <td>18:00</td>\n      <td>GIANLUCA ROCCHI</td>\n      <td>LIVORNO</td>\n      <td>LECCE</td>\n      <td>2</td>\n      <td>1</td>\n      <td>Roberto Donadoni</td>\n      <td>...</td>\n      <td>Alex Pinardi</td>\n      <td>Aleksei Eremenko</td>\n      <td>Graziano Pelle</td>\n      <td>Alfonso Camorani</td>\n      <td>Jaime Valdes</td>\n      <td>Giuseppe Cozzolino</td>\n      <td>Francesco Benussi</td>\n      <td>Marco Pecorari</td>\n      <td>Giuseppe Abruzzese</td>\n      <td>Davide Giorgino</td>\n    </tr>\n  </tbody>\n</table>\n<p>5 rows × 47 columns</p>\n</div>"
     },
     "execution_count": 98,
     "metadata": {},
     "output_type": "execute_result"
    }
   ],
   "source": [
    "raw_data = pd.read_csv('raw.csv')\n",
    "raw_data.head()"
   ],
   "metadata": {
    "collapsed": false,
    "pycharm": {
     "name": "#%%\n"
    }
   }
  },
  {
   "cell_type": "code",
   "execution_count": 99,
   "outputs": [],
   "source": [
    "# let's work just on the head for now\n",
    "df = pd.DataFrame(raw_data.head())"
   ],
   "metadata": {
    "collapsed": false,
    "pycharm": {
     "name": "#%%\n"
    }
   }
  },
  {
   "cell_type": "code",
   "execution_count": 100,
   "outputs": [],
   "source": [
    "# add id str to each match\n",
    "df['match_id'] = [re.sub(r'[^a-zA-Z\\d ]', '', df.loc[i, 'date'] + df.loc[i, 'time'] + df.loc[i, 'home_team'][:3] + df.loc[i, 'away_team'][:3]) for i in range(len(df.index))]\n",
    "# convert date str to datetime\n",
    "df['date'] = pd.to_datetime(df['date'], infer_datetime_format=True)\n",
    "# sort by date column\n",
    "df = df.sort_values(by='date')\n",
    "df = df.reset_index(drop=True)\n",
    "# make 'match_id' to be the first column\n",
    "cols = list(df.columns)\n",
    "cols.remove('match_id')\n",
    "df = df[['match_id'] + cols]\n",
    "# convert 'round' values to int\n",
    "df['round'] = df['round'].astype(int)"
   ],
   "metadata": {
    "collapsed": false,
    "pycharm": {
     "name": "#%%\n"
    }
   }
  },
  {
   "cell_type": "code",
   "execution_count": 101,
   "outputs": [
    {
     "data": {
      "text/plain": "             match_id   season  round       date   time             referee  \\\n0  270820052030FIOSAM  2005-06      1 2005-08-27  20:30  GIANLUCA PAPARESTA   \n1  270820051800LIVLEC  2005-06      1 2005-08-27  18:00     GIANLUCA ROCCHI   \n2  280820051500ASCMIL  2005-06      1 2005-08-28  15:00          MASSIMO DE   \n3  280820051500PARPAL  2005-06      1 2005-08-28  15:00       TIZIANO PIERI   \n4  280820051500INTTRE  2005-06      1 2005-08-28  15:00   PAOLO TAGLIAVENTO   \n\n    home_team  away_team home_team_score away_team_score  ...  \\\n0  FIORENTINA  SAMPDORIA               2               1  ...   \n1     LIVORNO      LECCE               2               1  ...   \n2      ASCOLI      MILAN               1               1  ...   \n3       PARMA    PALERMO               1               1  ...   \n4       INTER    TREVISO               3               0  ...   \n\n     away_player_9     away_player_10      away_player_11  away_substitute_1  \\\n0   Lamberto Zauli   Francesco Flachi  Emiliano Bonazzoli       Marco Pisano   \n1     Alex Pinardi   Aleksei Eremenko      Graziano Pelle   Alfonso Camorani   \n2             Kaka  Andriy Shevchenko   Alberto Gilardino  Marek Jankulovski   \n3  Massimo Bonanni  Andrea Caracciolo     Stephen Makinwa     Nicola Santoni   \n4        Reginaldo     Luigi Beghetto               Pinga  Roberto Chiappara   \n\n  away_substitute_2   away_substitute_3  away_substitute_4  \\\n0   Vitaliy Kutuzov     Marco Borriello   Luca Castellazzi   \n1      Jaime Valdes  Giuseppe Cozzolino  Francesco Benussi   \n2  Clarence Seedorf        Zeljko Kalac    Gennaro Gattuso   \n3    Franco Brienza   Massimo Mutarelli     Giuseppe Biava   \n4         Dino Fava     Jehad Muntasser    Adriano Zancope   \n\n       away_substitute_5   away_substitute_6  away_substitute_7  \n0          Marco Zamboni        Simone Pavan   Gionata Mingozzi  \n1         Marco Pecorari  Giuseppe Abruzzese    Davide Giorgino  \n2       Manuel Rui Costa        Johann Vogel        Dario Simic  \n3          Michele Ferri    Mariano Gonzalez        Simone Pepe  \n4  Francesco Parravicini            Anderson  Alberto Giuliatto  \n\n[5 rows x 48 columns]",
      "text/html": "<div>\n<style scoped>\n    .dataframe tbody tr th:only-of-type {\n        vertical-align: middle;\n    }\n\n    .dataframe tbody tr th {\n        vertical-align: top;\n    }\n\n    .dataframe thead th {\n        text-align: right;\n    }\n</style>\n<table border=\"1\" class=\"dataframe\">\n  <thead>\n    <tr style=\"text-align: right;\">\n      <th></th>\n      <th>match_id</th>\n      <th>season</th>\n      <th>round</th>\n      <th>date</th>\n      <th>time</th>\n      <th>referee</th>\n      <th>home_team</th>\n      <th>away_team</th>\n      <th>home_team_score</th>\n      <th>away_team_score</th>\n      <th>...</th>\n      <th>away_player_9</th>\n      <th>away_player_10</th>\n      <th>away_player_11</th>\n      <th>away_substitute_1</th>\n      <th>away_substitute_2</th>\n      <th>away_substitute_3</th>\n      <th>away_substitute_4</th>\n      <th>away_substitute_5</th>\n      <th>away_substitute_6</th>\n      <th>away_substitute_7</th>\n    </tr>\n  </thead>\n  <tbody>\n    <tr>\n      <th>0</th>\n      <td>270820052030FIOSAM</td>\n      <td>2005-06</td>\n      <td>1</td>\n      <td>2005-08-27</td>\n      <td>20:30</td>\n      <td>GIANLUCA PAPARESTA</td>\n      <td>FIORENTINA</td>\n      <td>SAMPDORIA</td>\n      <td>2</td>\n      <td>1</td>\n      <td>...</td>\n      <td>Lamberto Zauli</td>\n      <td>Francesco Flachi</td>\n      <td>Emiliano Bonazzoli</td>\n      <td>Marco Pisano</td>\n      <td>Vitaliy Kutuzov</td>\n      <td>Marco Borriello</td>\n      <td>Luca Castellazzi</td>\n      <td>Marco Zamboni</td>\n      <td>Simone Pavan</td>\n      <td>Gionata Mingozzi</td>\n    </tr>\n    <tr>\n      <th>1</th>\n      <td>270820051800LIVLEC</td>\n      <td>2005-06</td>\n      <td>1</td>\n      <td>2005-08-27</td>\n      <td>18:00</td>\n      <td>GIANLUCA ROCCHI</td>\n      <td>LIVORNO</td>\n      <td>LECCE</td>\n      <td>2</td>\n      <td>1</td>\n      <td>...</td>\n      <td>Alex Pinardi</td>\n      <td>Aleksei Eremenko</td>\n      <td>Graziano Pelle</td>\n      <td>Alfonso Camorani</td>\n      <td>Jaime Valdes</td>\n      <td>Giuseppe Cozzolino</td>\n      <td>Francesco Benussi</td>\n      <td>Marco Pecorari</td>\n      <td>Giuseppe Abruzzese</td>\n      <td>Davide Giorgino</td>\n    </tr>\n    <tr>\n      <th>2</th>\n      <td>280820051500ASCMIL</td>\n      <td>2005-06</td>\n      <td>1</td>\n      <td>2005-08-28</td>\n      <td>15:00</td>\n      <td>MASSIMO DE</td>\n      <td>ASCOLI</td>\n      <td>MILAN</td>\n      <td>1</td>\n      <td>1</td>\n      <td>...</td>\n      <td>Kaka</td>\n      <td>Andriy Shevchenko</td>\n      <td>Alberto Gilardino</td>\n      <td>Marek Jankulovski</td>\n      <td>Clarence Seedorf</td>\n      <td>Zeljko Kalac</td>\n      <td>Gennaro Gattuso</td>\n      <td>Manuel Rui Costa</td>\n      <td>Johann Vogel</td>\n      <td>Dario Simic</td>\n    </tr>\n    <tr>\n      <th>3</th>\n      <td>280820051500PARPAL</td>\n      <td>2005-06</td>\n      <td>1</td>\n      <td>2005-08-28</td>\n      <td>15:00</td>\n      <td>TIZIANO PIERI</td>\n      <td>PARMA</td>\n      <td>PALERMO</td>\n      <td>1</td>\n      <td>1</td>\n      <td>...</td>\n      <td>Massimo Bonanni</td>\n      <td>Andrea Caracciolo</td>\n      <td>Stephen Makinwa</td>\n      <td>Nicola Santoni</td>\n      <td>Franco Brienza</td>\n      <td>Massimo Mutarelli</td>\n      <td>Giuseppe Biava</td>\n      <td>Michele Ferri</td>\n      <td>Mariano Gonzalez</td>\n      <td>Simone Pepe</td>\n    </tr>\n    <tr>\n      <th>4</th>\n      <td>280820051500INTTRE</td>\n      <td>2005-06</td>\n      <td>1</td>\n      <td>2005-08-28</td>\n      <td>15:00</td>\n      <td>PAOLO TAGLIAVENTO</td>\n      <td>INTER</td>\n      <td>TREVISO</td>\n      <td>3</td>\n      <td>0</td>\n      <td>...</td>\n      <td>Reginaldo</td>\n      <td>Luigi Beghetto</td>\n      <td>Pinga</td>\n      <td>Roberto Chiappara</td>\n      <td>Dino Fava</td>\n      <td>Jehad Muntasser</td>\n      <td>Adriano Zancope</td>\n      <td>Francesco Parravicini</td>\n      <td>Anderson</td>\n      <td>Alberto Giuliatto</td>\n    </tr>\n  </tbody>\n</table>\n<p>5 rows × 48 columns</p>\n</div>"
     },
     "execution_count": 101,
     "metadata": {},
     "output_type": "execute_result"
    }
   ],
   "source": [
    "df.head()"
   ],
   "metadata": {
    "collapsed": false,
    "pycharm": {
     "name": "#%%\n"
    }
   }
  },
  {
   "cell_type": "code",
   "execution_count": 102,
   "outputs": [],
   "source": [
    "def get_match_by_id(df: pd.DataFrame, match_id: str):\n",
    "    return df[df['match_id'] == match_id]\n",
    "\n",
    "def get_match_index_by_id(df: pd.DataFrame, match_id: str):\n",
    "    return get_match_by_id(df, match_id).index.tolist()[0]\n",
    "\n",
    "def get_match_index_by_match(match: pd.Series):\n",
    "    return match.index.tolist()[0]\n",
    "\n",
    "def get_previous_match_by_match_id_for_team(df: pd.DataFrame, match_id: str, team_name: str):\n",
    "    \"\"\"\n",
    "    Find in df the last match played by team_name prior to the game identified by match_id\n",
    "    :param df: where to search\n",
    "    :param match_id: target match id\n",
    "    :param team_name: name of the team that has played all the last five matches as home or away team\n",
    "    :return:\n",
    "    \"\"\"\n",
    "    match = get_match_by_id(df, match_id)\n",
    "    for i in reversed(range(get_match_index_by_match(match))):\n",
    "        current_match = df.iloc[i]\n",
    "        if current_match['home_team'] == team_name or current_match['away_team'] == team_name:\n",
    "            return current_match\n",
    "    raise MatchNotFoundException(\"Previous match for team {} was not found\".format(team_name))\n",
    "\n",
    "def is_team_home_or_away_in_match(team_name: str, match: pd.Series):\n",
    "    if match['home_team'] == team_name:\n",
    "        return 'home'\n",
    "    else:\n",
    "        return 'away'\n",
    "\n",
    "def add_historic_features_to_match(df: pd.DataFrame, target_match_index: int, target_historic_home_or_away: str, target_historic_index: int, source_match: pd.Series):\n",
    "    \"\"\"\n",
    "    Add information about source_match as historic features of target_match, with an historic index given by target_history_index\n",
    "    :param df: the DataFrame from which target_match and source_match are taken from\n",
    "    :param target_match_index: the index of the target_match in the dataframe\n",
    "    :param target_historic_home_or_away: tells whether the historic features belong to the home or away team of target_match\n",
    "    :param target_historic_index: describes the source_match as the target_historic_index-th last match of target_match\n",
    "    :param source_match: the target_historic_index-th last match of target_match from where data is taken\n",
    "    :return:\n",
    "    \"\"\"\n",
    "    print(\"target index: {}, source: {}\".format(target_match_index, source_match))\n",
    "    for colName, colValue in source_match.iteritems():\n",
    "        df.at[target_match_index, \"{}_team_history_{}_{}\".format(target_historic_home_or_away, target_historic_index, colName)] = \\\n",
    "            source_match[colName]\n",
    "\n",
    "def get_last_five_matches_by_match_id_for_team(df: pd.DataFrame, match_id: str, team_name: str):\n",
    "    \"\"\"\n",
    "    Find in df the last five matches played by team_name prior to the game identified by match_id\n",
    "    :param df: where to search\n",
    "    :param match_id: target match id\n",
    "    :param team_name: name of the team that has played all the last five matches as home or away team\n",
    "    :return:\n",
    "    \"\"\"\n",
    "    match = get_match_by_id(df, match_id)\n",
    "    match_index = get_match_index_by_match(match)\n",
    "    home_or_away = is_team_home_or_away_in_match(team_name, match)\n",
    "    last_match_found = match\n",
    "    last_five_matches = []\n",
    "    for i in range(1, 6):\n",
    "        try:\n",
    "            last_match_found = get_previous_match_by_match_id_for_team(df, last_match_found['match_id'], team_name)\n",
    "            last_five_matches.append(last_match_found)\n",
    "        except MatchNotFoundException:\n",
    "            pass\n",
    "        #add_historic_features_to_match(df, match_index, home_or_away, i, last_match_found)\n"
   ],
   "metadata": {
    "collapsed": false,
    "pycharm": {
     "name": "#%%\n"
    }
   }
  },
  {
   "cell_type": "code",
   "execution_count": null,
   "outputs": [],
   "source": [
    "def test():\n",
    "    selected_match = df.iloc[3]\n",
    "    df.at[0, 'home_team'] = 'PARMA'\n",
    "    try:\n",
    "        print(\"Looking for a match played by {} prior to {}\".format(selected_match['home_team'], selected_match['home_team'] + ' vs ' + selected_match['away_team']))\n",
    "        previous = get_previous_match_by_match_id_for_team(df, selected_match['match_id'], selected_match['home_team'])\n",
    "        print(\"FOUND! {}\".format(previous))\n",
    "        print(\"Looking for the last five matches played by {} prior to {}\".format(selected_match['home_team'], selected_match['home_team'] + ' vs ' + selected_match['away_team']))\n",
    "        last_five = get_previous_match_by_match_id_for_team(df, selected_match['match_id'], selected_match['home_team'])\n",
    "        print(\"FOUND!\")\n",
    "        print(last_five)\n",
    "        #print(\"Adding history features\")\n",
    "        #add_historic_features_to_match(df, 3, 'home', 1, previous)\n",
    "    except MatchNotFoundException:\n",
    "        pass\n",
    "    df.at[0, 'home_team'] = 'FIORENTINA'\n",
    "\n",
    "test()"
   ],
   "metadata": {
    "collapsed": false,
    "pycharm": {
     "name": "#%%\n",
     "is_executing": true
    }
   }
  }
 ],
 "metadata": {
  "kernelspec": {
   "display_name": "Python 3",
   "language": "python",
   "name": "python3"
  },
  "language_info": {
   "codemirror_mode": {
    "name": "ipython",
    "version": 2
   },
   "file_extension": ".py",
   "mimetype": "text/x-python",
   "name": "python",
   "nbconvert_exporter": "python",
   "pygments_lexer": "ipython2",
   "version": "2.7.6"
  }
 },
 "nbformat": 4,
 "nbformat_minor": 0
}