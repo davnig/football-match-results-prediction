{
 "cells": [
  {
   "cell_type": "markdown",
   "source": [
    "# Football matches result prediction\n",
    "\n",
    "Let's try to predict *Serie A* matches result (i.e. home win, away win or draw) with a RNN."
   ],
   "metadata": {
    "collapsed": false,
    "pycharm": {
     "name": "#%% md\n"
    }
   }
  },
  {
   "cell_type": "markdown",
   "source": [
    "## Introduction\n",
    "\n",
    "- The dataset was created by scraping *Serie A* matches data starting from season 2005-06 to season 2020-21\n",
    "- Cup matches (*Champions League*, *Europa League*, *Coppa Italia*) played over the course of each season were not taken into account"
   ],
   "metadata": {
    "collapsed": false,
    "pycharm": {
     "name": "#%% md\n"
    }
   }
  },
  {
   "cell_type": "code",
   "execution_count": 1399,
   "outputs": [],
   "source": [
    "import re\n",
    "from collections import defaultdict\n",
    "\n",
    "import pandas as pd\n",
    "import torch\n",
    "import torch.nn as nn\n",
    "from sklearn.preprocessing import LabelBinarizer\n",
    "from torch import optim\n",
    "from torch.utils.data import Dataset\n",
    "\n",
    "from MatchResult import MatchResult"
   ],
   "metadata": {
    "collapsed": false,
    "pycharm": {
     "name": "#%%\n"
    }
   }
  },
  {
   "cell_type": "code",
   "execution_count": 1400,
   "outputs": [],
   "source": [
    "match_cols = ['season', 'round'] + \\\n",
    "             ['date', 'time', 'referee', 'home_team', 'away_team', 'home_team_score', 'away_team_score'] + \\\n",
    "             ['home_team_coach'] + \\\n",
    "             ['home_player_' + str(i) for i in range(1, 12)] + \\\n",
    "             ['home_substitute_' + str(i) for i in range(1, 8)] + \\\n",
    "             ['away_team_coach'] + \\\n",
    "             ['away_player_' + str(i) for i in range(1, 12)] + \\\n",
    "             ['away_substitute_' + str(i) for i in range(1, 8)]"
   ],
   "metadata": {
    "collapsed": false,
    "pycharm": {
     "name": "#%%\n"
    }
   }
  },
  {
   "cell_type": "code",
   "execution_count": 1401,
   "outputs": [
    {
     "data": {
      "text/plain": "    season  round        date   time             referee   home_team  \\\n0  2005-06      1  28/08/2005  15:00          MASSIMO DE      ASCOLI   \n1  2005-06      1  27/08/2005  20:30  GIANLUCA PAPARESTA  FIORENTINA   \n2  2005-06      1  28/08/2005  15:00       TIZIANO PIERI       PARMA   \n3  2005-06      1  28/08/2005  15:00   PAOLO TAGLIAVENTO       INTER   \n4  2005-06      1  27/08/2005  18:00     GIANLUCA ROCCHI     LIVORNO   \n\n   away_team  home_team_score  away_team_score   home_team_coach  ...  \\\n0      MILAN                1                1     Massimo Silva  ...   \n1  SAMPDORIA                2                1  Cesare Prandelli  ...   \n2    PALERMO                1                1     Mario Beretta  ...   \n3    TREVISO                3                0   Roberto Mancini  ...   \n4      LECCE                2                1  Roberto Donadoni  ...   \n\n     away_player_9     away_player_10      away_player_11  away_substitute_1  \\\n0             Kaka  Andriy Shevchenko   Alberto Gilardino  Marek Jankulovski   \n1   Lamberto Zauli   Francesco Flachi  Emiliano Bonazzoli       Marco Pisano   \n2  Massimo Bonanni  Andrea Caracciolo     Stephen Makinwa     Nicola Santoni   \n3        Reginaldo     Luigi Beghetto               Pinga  Roberto Chiappara   \n4     Alex Pinardi   Aleksei Eremenko      Graziano Pelle   Alfonso Camorani   \n\n  away_substitute_2   away_substitute_3  away_substitute_4  \\\n0  Clarence Seedorf        Zeljko Kalac    Gennaro Gattuso   \n1   Vitaliy Kutuzov     Marco Borriello   Luca Castellazzi   \n2    Franco Brienza   Massimo Mutarelli     Giuseppe Biava   \n3         Dino Fava     Jehad Muntasser    Adriano Zancope   \n4      Jaime Valdes  Giuseppe Cozzolino  Francesco Benussi   \n\n       away_substitute_5   away_substitute_6  away_substitute_7  \n0       Manuel Rui Costa        Johann Vogel        Dario Simic  \n1          Marco Zamboni        Simone Pavan   Gionata Mingozzi  \n2          Michele Ferri    Mariano Gonzalez        Simone Pepe  \n3  Francesco Parravicini            Anderson  Alberto Giuliatto  \n4         Marco Pecorari  Giuseppe Abruzzese    Davide Giorgino  \n\n[5 rows x 47 columns]",
      "text/html": "<div>\n<style scoped>\n    .dataframe tbody tr th:only-of-type {\n        vertical-align: middle;\n    }\n\n    .dataframe tbody tr th {\n        vertical-align: top;\n    }\n\n    .dataframe thead th {\n        text-align: right;\n    }\n</style>\n<table border=\"1\" class=\"dataframe\">\n  <thead>\n    <tr style=\"text-align: right;\">\n      <th></th>\n      <th>season</th>\n      <th>round</th>\n      <th>date</th>\n      <th>time</th>\n      <th>referee</th>\n      <th>home_team</th>\n      <th>away_team</th>\n      <th>home_team_score</th>\n      <th>away_team_score</th>\n      <th>home_team_coach</th>\n      <th>...</th>\n      <th>away_player_9</th>\n      <th>away_player_10</th>\n      <th>away_player_11</th>\n      <th>away_substitute_1</th>\n      <th>away_substitute_2</th>\n      <th>away_substitute_3</th>\n      <th>away_substitute_4</th>\n      <th>away_substitute_5</th>\n      <th>away_substitute_6</th>\n      <th>away_substitute_7</th>\n    </tr>\n  </thead>\n  <tbody>\n    <tr>\n      <th>0</th>\n      <td>2005-06</td>\n      <td>1</td>\n      <td>28/08/2005</td>\n      <td>15:00</td>\n      <td>MASSIMO DE</td>\n      <td>ASCOLI</td>\n      <td>MILAN</td>\n      <td>1</td>\n      <td>1</td>\n      <td>Massimo Silva</td>\n      <td>...</td>\n      <td>Kaka</td>\n      <td>Andriy Shevchenko</td>\n      <td>Alberto Gilardino</td>\n      <td>Marek Jankulovski</td>\n      <td>Clarence Seedorf</td>\n      <td>Zeljko Kalac</td>\n      <td>Gennaro Gattuso</td>\n      <td>Manuel Rui Costa</td>\n      <td>Johann Vogel</td>\n      <td>Dario Simic</td>\n    </tr>\n    <tr>\n      <th>1</th>\n      <td>2005-06</td>\n      <td>1</td>\n      <td>27/08/2005</td>\n      <td>20:30</td>\n      <td>GIANLUCA PAPARESTA</td>\n      <td>FIORENTINA</td>\n      <td>SAMPDORIA</td>\n      <td>2</td>\n      <td>1</td>\n      <td>Cesare Prandelli</td>\n      <td>...</td>\n      <td>Lamberto Zauli</td>\n      <td>Francesco Flachi</td>\n      <td>Emiliano Bonazzoli</td>\n      <td>Marco Pisano</td>\n      <td>Vitaliy Kutuzov</td>\n      <td>Marco Borriello</td>\n      <td>Luca Castellazzi</td>\n      <td>Marco Zamboni</td>\n      <td>Simone Pavan</td>\n      <td>Gionata Mingozzi</td>\n    </tr>\n    <tr>\n      <th>2</th>\n      <td>2005-06</td>\n      <td>1</td>\n      <td>28/08/2005</td>\n      <td>15:00</td>\n      <td>TIZIANO PIERI</td>\n      <td>PARMA</td>\n      <td>PALERMO</td>\n      <td>1</td>\n      <td>1</td>\n      <td>Mario Beretta</td>\n      <td>...</td>\n      <td>Massimo Bonanni</td>\n      <td>Andrea Caracciolo</td>\n      <td>Stephen Makinwa</td>\n      <td>Nicola Santoni</td>\n      <td>Franco Brienza</td>\n      <td>Massimo Mutarelli</td>\n      <td>Giuseppe Biava</td>\n      <td>Michele Ferri</td>\n      <td>Mariano Gonzalez</td>\n      <td>Simone Pepe</td>\n    </tr>\n    <tr>\n      <th>3</th>\n      <td>2005-06</td>\n      <td>1</td>\n      <td>28/08/2005</td>\n      <td>15:00</td>\n      <td>PAOLO TAGLIAVENTO</td>\n      <td>INTER</td>\n      <td>TREVISO</td>\n      <td>3</td>\n      <td>0</td>\n      <td>Roberto Mancini</td>\n      <td>...</td>\n      <td>Reginaldo</td>\n      <td>Luigi Beghetto</td>\n      <td>Pinga</td>\n      <td>Roberto Chiappara</td>\n      <td>Dino Fava</td>\n      <td>Jehad Muntasser</td>\n      <td>Adriano Zancope</td>\n      <td>Francesco Parravicini</td>\n      <td>Anderson</td>\n      <td>Alberto Giuliatto</td>\n    </tr>\n    <tr>\n      <th>4</th>\n      <td>2005-06</td>\n      <td>1</td>\n      <td>27/08/2005</td>\n      <td>18:00</td>\n      <td>GIANLUCA ROCCHI</td>\n      <td>LIVORNO</td>\n      <td>LECCE</td>\n      <td>2</td>\n      <td>1</td>\n      <td>Roberto Donadoni</td>\n      <td>...</td>\n      <td>Alex Pinardi</td>\n      <td>Aleksei Eremenko</td>\n      <td>Graziano Pelle</td>\n      <td>Alfonso Camorani</td>\n      <td>Jaime Valdes</td>\n      <td>Giuseppe Cozzolino</td>\n      <td>Francesco Benussi</td>\n      <td>Marco Pecorari</td>\n      <td>Giuseppe Abruzzese</td>\n      <td>Davide Giorgino</td>\n    </tr>\n  </tbody>\n</table>\n<p>5 rows × 47 columns</p>\n</div>"
     },
     "execution_count": 1401,
     "metadata": {},
     "output_type": "execute_result"
    }
   ],
   "source": [
    "raw_data = pd.read_csv('raw.csv')\n",
    "raw_data.head()"
   ],
   "metadata": {
    "collapsed": false,
    "pycharm": {
     "name": "#%%\n"
    }
   }
  },
  {
   "cell_type": "markdown",
   "source": [
    "## Data visualization\n",
    "\n",
    "Let's inspect our data a little bit more"
   ],
   "metadata": {
    "collapsed": false,
    "pycharm": {
     "name": "#%% md\n"
    }
   }
  },
  {
   "cell_type": "code",
   "execution_count": 1402,
   "outputs": [],
   "source": [
    "# todo"
   ],
   "metadata": {
    "collapsed": false,
    "pycharm": {
     "name": "#%%\n"
    }
   }
  },
  {
   "cell_type": "markdown",
   "source": [
    "## Dataset pre-processing\n",
    "Now let's clean our raw data and add some additional features."
   ],
   "metadata": {
    "collapsed": false,
    "pycharm": {
     "name": "#%% md\n"
    }
   }
  },
  {
   "cell_type": "code",
   "execution_count": 1403,
   "outputs": [],
   "source": [
    "df = pd.DataFrame(raw_data)\n",
    "df = df[:200]"
   ],
   "metadata": {
    "collapsed": false,
    "pycharm": {
     "name": "#%%\n"
    }
   }
  },
  {
   "cell_type": "code",
   "execution_count": 1404,
   "outputs": [],
   "source": [
    "# convert date str to datetime\n",
    "df['date'] = pd.to_datetime(df['date'], infer_datetime_format=True)\n",
    "# sort by date column\n",
    "df = df.sort_values(by='date')\n",
    "df = df.reset_index(drop=True)\n",
    "# round values to int\n",
    "df['round'] = df['round'].astype(int)"
   ],
   "metadata": {
    "collapsed": false,
    "pycharm": {
     "name": "#%%\n"
    }
   }
  },
  {
   "cell_type": "code",
   "execution_count": 1405,
   "outputs": [],
   "source": [
    "# utility methods\n",
    "def get_team_and_historical_index_from_match_team_id(match_team_id: str) -> (str, str):\n",
    "    match_team_name = re.findall(\"\\s+\", match_team_id)[0]\n",
    "    match_team_index = re.findall(\"\\d+\", match_team_id)[0]\n",
    "    return match_team_name, match_team_index\n",
    "\n",
    "\n",
    "def get_match_by_team_and_round(df: pd.DataFrame, team: str, round: int) -> pd.DataFrame:\n",
    "    return df[(df['home_team'].equals(team) | df['away_team'].equals(team)) & df['round'] == round]\n",
    "\n",
    "\n",
    "def get_last_n_matches_played_by_team_before_round(df: pd.DataFrame, team: str, round: int, n: int) -> pd.DataFrame:\n",
    "    last_n_matches = pd.DataFrame()\n",
    "    for i in range(1, n+1):\n",
    "        if round - i > 0:\n",
    "            last_n_matches = pd.concat([last_n_matches, get_match_by_team_and_round(df, team, round - i)], axis=1)\n",
    "    return last_n_matches"
   ],
   "metadata": {
    "collapsed": false,
    "pycharm": {
     "name": "#%%\n"
    }
   }
  },
  {
   "cell_type": "markdown",
   "source": [
    "### Additional features"
   ],
   "metadata": {
    "collapsed": false,
    "pycharm": {
     "name": "#%% md\n"
    }
   }
  },
  {
   "cell_type": "markdown",
   "source": [
    "#### Result column\n",
    "Our model will try to predict match results, i.e. **home win**, **away win** or **draw**, so we need a result column to be used as our target."
   ],
   "metadata": {
    "collapsed": false,
    "pycharm": {
     "name": "#%% md\n"
    }
   }
  },
  {
   "cell_type": "code",
   "execution_count": 1406,
   "outputs": [],
   "source": [
    "def get_match_result_from_score(home_team_score: int, away_team_score: int) -> MatchResult:\n",
    "    if home_team_score == away_team_score:\n",
    "        return MatchResult.draw\n",
    "    if home_team_score > away_team_score:\n",
    "        return MatchResult.home\n",
    "    return MatchResult.away\n",
    "\n",
    "\n",
    "def add_target_column(df: pd.DataFrame) -> pd.DataFrame:\n",
    "    results = {'result': []}\n",
    "    for index, row in df.iterrows():\n",
    "        results['result'] += [get_match_result_from_score(row['home_team_score'], row['away_team_score']).name]\n",
    "    df.insert(loc=df.columns.get_loc('home_team_score'), column='result', value=results['result'])\n",
    "    return df"
   ],
   "metadata": {
    "collapsed": false,
    "pycharm": {
     "name": "#%%\n"
    }
   }
  },
  {
   "cell_type": "code",
   "execution_count": 1407,
   "outputs": [
    {
     "data": {
      "text/plain": "      season  round       date   time             referee     home_team  \\\n0    2005-06      1 2005-08-27  20:30  GIANLUCA PAPARESTA    FIORENTINA   \n1    2005-06      1 2005-08-27  18:00     GIANLUCA ROCCHI       LIVORNO   \n2    2005-06      1 2005-08-28  15:00          MASSIMO DE        ASCOLI   \n3    2005-06      1 2005-08-28  15:00       TIZIANO PIERI         PARMA   \n4    2005-06      1 2005-08-28  15:00   PAOLO TAGLIAVENTO         INTER   \n..       ...    ...        ...    ...                 ...           ...   \n195  2005-06     20 2006-01-18  20:30   PAOLO TAGLIAVENTO          ROMA   \n196  2005-06     20 2006-01-18  20:30     GIANLUCA ROCCHI         MILAN   \n197  2005-06     20 2006-01-18  20:30  PASQUALE RODOMONTI         LECCE   \n198  2005-06     20 2006-01-18  20:30        ANDREA ROMEO      CAGLIARI   \n199  2005-06     20 2006-01-18  20:30        LUCA PALANCA  CHIEVOVERONA   \n\n       away_team result  home_team_score  away_team_score  ...  \\\n0      SAMPDORIA   home                2                1  ...   \n1          LECCE   home                2                1  ...   \n2          MILAN   draw                1                1  ...   \n3        PALERMO   draw                1                1  ...   \n4        TREVISO   home                3                0  ...   \n..           ...    ...              ...              ...  ...   \n195      REGGINA   home                3                1  ...   \n196       ASCOLI   home                1                0  ...   \n197      LIVORNO   draw                0                0  ...   \n198  ROBUR SIENA   home                1                0  ...   \n199     JUVENTUS   draw                1                1  ...   \n\n            away_player_9      away_player_10       away_player_11  \\\n0          Lamberto Zauli    Francesco Flachi   Emiliano Bonazzoli   \n1            Alex Pinardi    Aleksei Eremenko       Graziano Pelle   \n2                    Kaka   Andriy Shevchenko    Alberto Gilardino   \n3         Massimo Bonanni   Andrea Caracciolo      Stephen Makinwa   \n4               Reginaldo      Luigi Beghetto                Pinga   \n..                    ...                 ...                  ...   \n195     Francesco Modesto     Francesco Cozza         Luca Vigiani   \n196  Cristiano Del Grosso     Sasa Bjelanovic   Fabio Quagliarella   \n197        Francesco Coco   Ibrahima Bakayoko  Cristiano Lucarelli   \n198     Cristian Molinaro       Erjon Bogdani        Enrico Chiesa   \n199           Adrian Mutu  Zlatan Ibrahimovic      David Trezeguet   \n\n        away_substitute_1  away_substitute_2    away_substitute_3  \\\n0            Marco Pisano    Vitaliy Kutuzov      Marco Borriello   \n1        Alfonso Camorani       Jaime Valdes   Giuseppe Cozzolino   \n2       Marek Jankulovski   Clarence Seedorf         Zeljko Kalac   \n3          Nicola Santoni     Franco Brienza    Massimo Mutarelli   \n4       Roberto Chiappara          Dino Fava      Jehad Muntasser   \n..                    ...                ...                  ...   \n195        Maurizio Lauro     Nicola Amoruso     Simone Missiroli   \n196          Massimo Paci       Michele Fini      Pasquale Foggia   \n197         Marc Pfertzel       Cesar Prates   Raffaele Palladino   \n198           Rej Volpato        Paolo Negro  Nicola Legrottaglie   \n199  Alessandro Del Piero  Christian Abbiati    Gianluca Pessotto   \n\n     away_substitute_4      away_substitute_5   away_substitute_6  \\\n0     Luca Castellazzi          Marco Zamboni        Simone Pavan   \n1    Francesco Benussi         Marco Pecorari  Giuseppe Abruzzese   \n2      Gennaro Gattuso       Manuel Rui Costa        Johann Vogel   \n3       Giuseppe Biava          Michele Ferri    Mariano Gonzalez   \n4      Adriano Zancope  Francesco Parravicini            Anderson   \n..                 ...                    ...                 ...   \n195     Ivan Pelizzoli        Davide Biondini    Filippo Carobbio   \n196        Carlo Zotti       Riccardo Corallo       Davide Oresti   \n197      Paolo Acerbis        Stefano Fanucci    Giuseppe Colucci   \n198       Marco Fortin    Francesco Colonnese       Roberto Nanni   \n199      Manuele Blasi  Giuliano Giannichedda       Ruben Olivera   \n\n     away_substitute_7  \n0     Gionata Mingozzi  \n1      Davide Giorgino  \n2          Dario Simic  \n3          Simone Pepe  \n4    Alberto Giuliatto  \n..                 ...  \n195     Simone Cavalli  \n196     Marco Ferrante  \n197           Paulinho  \n198                NaN  \n199   Marcelo Zalayeta  \n\n[200 rows x 48 columns]",
      "text/html": "<div>\n<style scoped>\n    .dataframe tbody tr th:only-of-type {\n        vertical-align: middle;\n    }\n\n    .dataframe tbody tr th {\n        vertical-align: top;\n    }\n\n    .dataframe thead th {\n        text-align: right;\n    }\n</style>\n<table border=\"1\" class=\"dataframe\">\n  <thead>\n    <tr style=\"text-align: right;\">\n      <th></th>\n      <th>season</th>\n      <th>round</th>\n      <th>date</th>\n      <th>time</th>\n      <th>referee</th>\n      <th>home_team</th>\n      <th>away_team</th>\n      <th>result</th>\n      <th>home_team_score</th>\n      <th>away_team_score</th>\n      <th>...</th>\n      <th>away_player_9</th>\n      <th>away_player_10</th>\n      <th>away_player_11</th>\n      <th>away_substitute_1</th>\n      <th>away_substitute_2</th>\n      <th>away_substitute_3</th>\n      <th>away_substitute_4</th>\n      <th>away_substitute_5</th>\n      <th>away_substitute_6</th>\n      <th>away_substitute_7</th>\n    </tr>\n  </thead>\n  <tbody>\n    <tr>\n      <th>0</th>\n      <td>2005-06</td>\n      <td>1</td>\n      <td>2005-08-27</td>\n      <td>20:30</td>\n      <td>GIANLUCA PAPARESTA</td>\n      <td>FIORENTINA</td>\n      <td>SAMPDORIA</td>\n      <td>home</td>\n      <td>2</td>\n      <td>1</td>\n      <td>...</td>\n      <td>Lamberto Zauli</td>\n      <td>Francesco Flachi</td>\n      <td>Emiliano Bonazzoli</td>\n      <td>Marco Pisano</td>\n      <td>Vitaliy Kutuzov</td>\n      <td>Marco Borriello</td>\n      <td>Luca Castellazzi</td>\n      <td>Marco Zamboni</td>\n      <td>Simone Pavan</td>\n      <td>Gionata Mingozzi</td>\n    </tr>\n    <tr>\n      <th>1</th>\n      <td>2005-06</td>\n      <td>1</td>\n      <td>2005-08-27</td>\n      <td>18:00</td>\n      <td>GIANLUCA ROCCHI</td>\n      <td>LIVORNO</td>\n      <td>LECCE</td>\n      <td>home</td>\n      <td>2</td>\n      <td>1</td>\n      <td>...</td>\n      <td>Alex Pinardi</td>\n      <td>Aleksei Eremenko</td>\n      <td>Graziano Pelle</td>\n      <td>Alfonso Camorani</td>\n      <td>Jaime Valdes</td>\n      <td>Giuseppe Cozzolino</td>\n      <td>Francesco Benussi</td>\n      <td>Marco Pecorari</td>\n      <td>Giuseppe Abruzzese</td>\n      <td>Davide Giorgino</td>\n    </tr>\n    <tr>\n      <th>2</th>\n      <td>2005-06</td>\n      <td>1</td>\n      <td>2005-08-28</td>\n      <td>15:00</td>\n      <td>MASSIMO DE</td>\n      <td>ASCOLI</td>\n      <td>MILAN</td>\n      <td>draw</td>\n      <td>1</td>\n      <td>1</td>\n      <td>...</td>\n      <td>Kaka</td>\n      <td>Andriy Shevchenko</td>\n      <td>Alberto Gilardino</td>\n      <td>Marek Jankulovski</td>\n      <td>Clarence Seedorf</td>\n      <td>Zeljko Kalac</td>\n      <td>Gennaro Gattuso</td>\n      <td>Manuel Rui Costa</td>\n      <td>Johann Vogel</td>\n      <td>Dario Simic</td>\n    </tr>\n    <tr>\n      <th>3</th>\n      <td>2005-06</td>\n      <td>1</td>\n      <td>2005-08-28</td>\n      <td>15:00</td>\n      <td>TIZIANO PIERI</td>\n      <td>PARMA</td>\n      <td>PALERMO</td>\n      <td>draw</td>\n      <td>1</td>\n      <td>1</td>\n      <td>...</td>\n      <td>Massimo Bonanni</td>\n      <td>Andrea Caracciolo</td>\n      <td>Stephen Makinwa</td>\n      <td>Nicola Santoni</td>\n      <td>Franco Brienza</td>\n      <td>Massimo Mutarelli</td>\n      <td>Giuseppe Biava</td>\n      <td>Michele Ferri</td>\n      <td>Mariano Gonzalez</td>\n      <td>Simone Pepe</td>\n    </tr>\n    <tr>\n      <th>4</th>\n      <td>2005-06</td>\n      <td>1</td>\n      <td>2005-08-28</td>\n      <td>15:00</td>\n      <td>PAOLO TAGLIAVENTO</td>\n      <td>INTER</td>\n      <td>TREVISO</td>\n      <td>home</td>\n      <td>3</td>\n      <td>0</td>\n      <td>...</td>\n      <td>Reginaldo</td>\n      <td>Luigi Beghetto</td>\n      <td>Pinga</td>\n      <td>Roberto Chiappara</td>\n      <td>Dino Fava</td>\n      <td>Jehad Muntasser</td>\n      <td>Adriano Zancope</td>\n      <td>Francesco Parravicini</td>\n      <td>Anderson</td>\n      <td>Alberto Giuliatto</td>\n    </tr>\n    <tr>\n      <th>...</th>\n      <td>...</td>\n      <td>...</td>\n      <td>...</td>\n      <td>...</td>\n      <td>...</td>\n      <td>...</td>\n      <td>...</td>\n      <td>...</td>\n      <td>...</td>\n      <td>...</td>\n      <td>...</td>\n      <td>...</td>\n      <td>...</td>\n      <td>...</td>\n      <td>...</td>\n      <td>...</td>\n      <td>...</td>\n      <td>...</td>\n      <td>...</td>\n      <td>...</td>\n      <td>...</td>\n    </tr>\n    <tr>\n      <th>195</th>\n      <td>2005-06</td>\n      <td>20</td>\n      <td>2006-01-18</td>\n      <td>20:30</td>\n      <td>PAOLO TAGLIAVENTO</td>\n      <td>ROMA</td>\n      <td>REGGINA</td>\n      <td>home</td>\n      <td>3</td>\n      <td>1</td>\n      <td>...</td>\n      <td>Francesco Modesto</td>\n      <td>Francesco Cozza</td>\n      <td>Luca Vigiani</td>\n      <td>Maurizio Lauro</td>\n      <td>Nicola Amoruso</td>\n      <td>Simone Missiroli</td>\n      <td>Ivan Pelizzoli</td>\n      <td>Davide Biondini</td>\n      <td>Filippo Carobbio</td>\n      <td>Simone Cavalli</td>\n    </tr>\n    <tr>\n      <th>196</th>\n      <td>2005-06</td>\n      <td>20</td>\n      <td>2006-01-18</td>\n      <td>20:30</td>\n      <td>GIANLUCA ROCCHI</td>\n      <td>MILAN</td>\n      <td>ASCOLI</td>\n      <td>home</td>\n      <td>1</td>\n      <td>0</td>\n      <td>...</td>\n      <td>Cristiano Del Grosso</td>\n      <td>Sasa Bjelanovic</td>\n      <td>Fabio Quagliarella</td>\n      <td>Massimo Paci</td>\n      <td>Michele Fini</td>\n      <td>Pasquale Foggia</td>\n      <td>Carlo Zotti</td>\n      <td>Riccardo Corallo</td>\n      <td>Davide Oresti</td>\n      <td>Marco Ferrante</td>\n    </tr>\n    <tr>\n      <th>197</th>\n      <td>2005-06</td>\n      <td>20</td>\n      <td>2006-01-18</td>\n      <td>20:30</td>\n      <td>PASQUALE RODOMONTI</td>\n      <td>LECCE</td>\n      <td>LIVORNO</td>\n      <td>draw</td>\n      <td>0</td>\n      <td>0</td>\n      <td>...</td>\n      <td>Francesco Coco</td>\n      <td>Ibrahima Bakayoko</td>\n      <td>Cristiano Lucarelli</td>\n      <td>Marc Pfertzel</td>\n      <td>Cesar Prates</td>\n      <td>Raffaele Palladino</td>\n      <td>Paolo Acerbis</td>\n      <td>Stefano Fanucci</td>\n      <td>Giuseppe Colucci</td>\n      <td>Paulinho</td>\n    </tr>\n    <tr>\n      <th>198</th>\n      <td>2005-06</td>\n      <td>20</td>\n      <td>2006-01-18</td>\n      <td>20:30</td>\n      <td>ANDREA ROMEO</td>\n      <td>CAGLIARI</td>\n      <td>ROBUR SIENA</td>\n      <td>home</td>\n      <td>1</td>\n      <td>0</td>\n      <td>...</td>\n      <td>Cristian Molinaro</td>\n      <td>Erjon Bogdani</td>\n      <td>Enrico Chiesa</td>\n      <td>Rej Volpato</td>\n      <td>Paolo Negro</td>\n      <td>Nicola Legrottaglie</td>\n      <td>Marco Fortin</td>\n      <td>Francesco Colonnese</td>\n      <td>Roberto Nanni</td>\n      <td>NaN</td>\n    </tr>\n    <tr>\n      <th>199</th>\n      <td>2005-06</td>\n      <td>20</td>\n      <td>2006-01-18</td>\n      <td>20:30</td>\n      <td>LUCA PALANCA</td>\n      <td>CHIEVOVERONA</td>\n      <td>JUVENTUS</td>\n      <td>draw</td>\n      <td>1</td>\n      <td>1</td>\n      <td>...</td>\n      <td>Adrian Mutu</td>\n      <td>Zlatan Ibrahimovic</td>\n      <td>David Trezeguet</td>\n      <td>Alessandro Del Piero</td>\n      <td>Christian Abbiati</td>\n      <td>Gianluca Pessotto</td>\n      <td>Manuele Blasi</td>\n      <td>Giuliano Giannichedda</td>\n      <td>Ruben Olivera</td>\n      <td>Marcelo Zalayeta</td>\n    </tr>\n  </tbody>\n</table>\n<p>200 rows × 48 columns</p>\n</div>"
     },
     "execution_count": 1407,
     "metadata": {},
     "output_type": "execute_result"
    }
   ],
   "source": [
    "# add target column\n",
    "add_target_column(df)"
   ],
   "metadata": {
    "collapsed": false,
    "pycharm": {
     "name": "#%%\n"
    }
   }
  },
  {
   "cell_type": "markdown",
   "source": [
    "### Rest days features\n",
    "Rest days are very important for recovery."
   ],
   "metadata": {
    "collapsed": false,
    "pycharm": {
     "name": "#%% md\n"
    }
   }
  },
  {
   "cell_type": "code",
   "execution_count": 1408,
   "outputs": [],
   "source": [
    "def count_days_between_dates(date1, date2) -> int:\n",
    "    return (date1 - date2).dt.days"
   ],
   "metadata": {
    "collapsed": false,
    "pycharm": {
     "name": "#%%\n"
    }
   }
  },
  {
   "cell_type": "code",
   "execution_count": 1409,
   "outputs": [],
   "source": [
    "# for i in range(5):\n",
    "#     for home_or_away in HomeOrAway:\n",
    "#         if i == 0:\n",
    "#             df[f'{home_or_away.name}_team_rest_days'] = count_days_between_dates(df['date'], df[f'{home_or_away.name}_team_history_{i+1}_date'])\n",
    "#         else:\n",
    "#             df[f'{home_or_away.name}_team_history_{i}_rest_days'] = count_days_between_dates(df[f'{home_or_away.name}_team_history_{i}_date'], df[f'{home_or_away.name}_team_history_{i+1}_date'])\n",
    "\n",
    "# todo: cannot count rest days for historical 5th games because we still miss the data about the 6th historical match"
   ],
   "metadata": {
    "collapsed": false,
    "pycharm": {
     "name": "#%%\n"
    }
   }
  },
  {
   "cell_type": "code",
   "execution_count": 1410,
   "outputs": [],
   "source": [
    "# delete columns referring to the historical 6th matches\n",
    "# df = df.loc[:, ~df.columns.str.contains('history_6')]"
   ],
   "metadata": {
    "collapsed": false,
    "pycharm": {
     "name": "#%%\n"
    }
   }
  },
  {
   "cell_type": "markdown",
   "source": [
    "#### Datetime features\n",
    "Add **year**, **month** and **day** features for all **date** value"
   ],
   "metadata": {
    "collapsed": false,
    "pycharm": {
     "name": "#%% md\n"
    }
   }
  },
  {
   "cell_type": "code",
   "execution_count": 1411,
   "outputs": [],
   "source": [
    "def get_exploded_datetime_values(df: pd.DataFrame) -> dict:\n",
    "    data = {'year': [], 'month': [], 'day': [], 'hour': []}\n",
    "    df['time'] = pd.to_datetime(df['time'], format=\"%H:%M\")\n",
    "    data['year'] += df['date'].map(lambda val: val.year).tolist()\n",
    "    data['month'] += df['date'].map(lambda val: val.month).tolist()\n",
    "    data['day'] += df['date'].map(lambda val: val.day).tolist()\n",
    "    data['hour'] += df['time'].map(lambda val: val.hour).tolist()\n",
    "    return data\n",
    "\n",
    "\n",
    "def insert_exploded_datetime_values(df, exploded):\n",
    "    df.insert(loc=df.columns.get_loc('time'), column='year', value=exploded['year'])\n",
    "    df.insert(loc=df.columns.get_loc('time'), column='month', value=exploded['month'])\n",
    "    df.insert(loc=df.columns.get_loc('time'), column='day', value=exploded['day'])\n",
    "    df.insert(loc=df.columns.get_loc('time'), column='hour', value=exploded['hour'])\n",
    "    return df\n",
    "\n",
    "\n",
    "def explode_datetime_values(df: pd.DataFrame) -> pd.DataFrame:\n",
    "    exploded = get_exploded_datetime_values(df)\n",
    "    return insert_exploded_datetime_values(df, exploded)\n",
    "\n",
    "\n",
    "def get_column_names_containing_str(df: pd.DataFrame, substring: str) -> list[str]:\n",
    "    return df.loc[:,df.columns.str.contains(substring)].columns.values.tolist()"
   ],
   "metadata": {
    "collapsed": false,
    "pycharm": {
     "name": "#%%\n"
    }
   }
  },
  {
   "cell_type": "code",
   "execution_count": 1412,
   "outputs": [],
   "source": [
    "# explode datetime values\n",
    "df = explode_datetime_values(df)\n",
    "# drop date columns\n",
    "date_cols = get_column_names_containing_str(df, 'date')\n",
    "df.drop(date_cols, axis=1, inplace=True)\n",
    "df.drop(['time'], axis=1, inplace=True)"
   ],
   "metadata": {
    "collapsed": false,
    "pycharm": {
     "name": "#%%\n"
    }
   }
  },
  {
   "cell_type": "markdown",
   "source": [
    "The result of the pre-processing looks like this:"
   ],
   "metadata": {
    "collapsed": false,
    "pycharm": {
     "name": "#%% md\n"
    }
   }
  },
  {
   "cell_type": "code",
   "execution_count": 1413,
   "outputs": [
    {
     "data": {
      "text/plain": "    season  round  year  month  day  hour             referee   home_team  \\\n0  2005-06      1  2005      8   27    20  GIANLUCA PAPARESTA  FIORENTINA   \n1  2005-06      1  2005      8   27    18     GIANLUCA ROCCHI     LIVORNO   \n2  2005-06      1  2005      8   28    15          MASSIMO DE      ASCOLI   \n3  2005-06      1  2005      8   28    15       TIZIANO PIERI       PARMA   \n4  2005-06      1  2005      8   28    15   PAOLO TAGLIAVENTO       INTER   \n\n   away_team result  ...    away_player_9     away_player_10  \\\n0  SAMPDORIA   home  ...   Lamberto Zauli   Francesco Flachi   \n1      LECCE   home  ...     Alex Pinardi   Aleksei Eremenko   \n2      MILAN   draw  ...             Kaka  Andriy Shevchenko   \n3    PALERMO   draw  ...  Massimo Bonanni  Andrea Caracciolo   \n4    TREVISO   home  ...        Reginaldo     Luigi Beghetto   \n\n       away_player_11  away_substitute_1 away_substitute_2  \\\n0  Emiliano Bonazzoli       Marco Pisano   Vitaliy Kutuzov   \n1      Graziano Pelle   Alfonso Camorani      Jaime Valdes   \n2   Alberto Gilardino  Marek Jankulovski  Clarence Seedorf   \n3     Stephen Makinwa     Nicola Santoni    Franco Brienza   \n4               Pinga  Roberto Chiappara         Dino Fava   \n\n    away_substitute_3  away_substitute_4      away_substitute_5  \\\n0     Marco Borriello   Luca Castellazzi          Marco Zamboni   \n1  Giuseppe Cozzolino  Francesco Benussi         Marco Pecorari   \n2        Zeljko Kalac    Gennaro Gattuso       Manuel Rui Costa   \n3   Massimo Mutarelli     Giuseppe Biava          Michele Ferri   \n4     Jehad Muntasser    Adriano Zancope  Francesco Parravicini   \n\n    away_substitute_6  away_substitute_7  \n0        Simone Pavan   Gionata Mingozzi  \n1  Giuseppe Abruzzese    Davide Giorgino  \n2        Johann Vogel        Dario Simic  \n3    Mariano Gonzalez        Simone Pepe  \n4            Anderson  Alberto Giuliatto  \n\n[5 rows x 50 columns]",
      "text/html": "<div>\n<style scoped>\n    .dataframe tbody tr th:only-of-type {\n        vertical-align: middle;\n    }\n\n    .dataframe tbody tr th {\n        vertical-align: top;\n    }\n\n    .dataframe thead th {\n        text-align: right;\n    }\n</style>\n<table border=\"1\" class=\"dataframe\">\n  <thead>\n    <tr style=\"text-align: right;\">\n      <th></th>\n      <th>season</th>\n      <th>round</th>\n      <th>year</th>\n      <th>month</th>\n      <th>day</th>\n      <th>hour</th>\n      <th>referee</th>\n      <th>home_team</th>\n      <th>away_team</th>\n      <th>result</th>\n      <th>...</th>\n      <th>away_player_9</th>\n      <th>away_player_10</th>\n      <th>away_player_11</th>\n      <th>away_substitute_1</th>\n      <th>away_substitute_2</th>\n      <th>away_substitute_3</th>\n      <th>away_substitute_4</th>\n      <th>away_substitute_5</th>\n      <th>away_substitute_6</th>\n      <th>away_substitute_7</th>\n    </tr>\n  </thead>\n  <tbody>\n    <tr>\n      <th>0</th>\n      <td>2005-06</td>\n      <td>1</td>\n      <td>2005</td>\n      <td>8</td>\n      <td>27</td>\n      <td>20</td>\n      <td>GIANLUCA PAPARESTA</td>\n      <td>FIORENTINA</td>\n      <td>SAMPDORIA</td>\n      <td>home</td>\n      <td>...</td>\n      <td>Lamberto Zauli</td>\n      <td>Francesco Flachi</td>\n      <td>Emiliano Bonazzoli</td>\n      <td>Marco Pisano</td>\n      <td>Vitaliy Kutuzov</td>\n      <td>Marco Borriello</td>\n      <td>Luca Castellazzi</td>\n      <td>Marco Zamboni</td>\n      <td>Simone Pavan</td>\n      <td>Gionata Mingozzi</td>\n    </tr>\n    <tr>\n      <th>1</th>\n      <td>2005-06</td>\n      <td>1</td>\n      <td>2005</td>\n      <td>8</td>\n      <td>27</td>\n      <td>18</td>\n      <td>GIANLUCA ROCCHI</td>\n      <td>LIVORNO</td>\n      <td>LECCE</td>\n      <td>home</td>\n      <td>...</td>\n      <td>Alex Pinardi</td>\n      <td>Aleksei Eremenko</td>\n      <td>Graziano Pelle</td>\n      <td>Alfonso Camorani</td>\n      <td>Jaime Valdes</td>\n      <td>Giuseppe Cozzolino</td>\n      <td>Francesco Benussi</td>\n      <td>Marco Pecorari</td>\n      <td>Giuseppe Abruzzese</td>\n      <td>Davide Giorgino</td>\n    </tr>\n    <tr>\n      <th>2</th>\n      <td>2005-06</td>\n      <td>1</td>\n      <td>2005</td>\n      <td>8</td>\n      <td>28</td>\n      <td>15</td>\n      <td>MASSIMO DE</td>\n      <td>ASCOLI</td>\n      <td>MILAN</td>\n      <td>draw</td>\n      <td>...</td>\n      <td>Kaka</td>\n      <td>Andriy Shevchenko</td>\n      <td>Alberto Gilardino</td>\n      <td>Marek Jankulovski</td>\n      <td>Clarence Seedorf</td>\n      <td>Zeljko Kalac</td>\n      <td>Gennaro Gattuso</td>\n      <td>Manuel Rui Costa</td>\n      <td>Johann Vogel</td>\n      <td>Dario Simic</td>\n    </tr>\n    <tr>\n      <th>3</th>\n      <td>2005-06</td>\n      <td>1</td>\n      <td>2005</td>\n      <td>8</td>\n      <td>28</td>\n      <td>15</td>\n      <td>TIZIANO PIERI</td>\n      <td>PARMA</td>\n      <td>PALERMO</td>\n      <td>draw</td>\n      <td>...</td>\n      <td>Massimo Bonanni</td>\n      <td>Andrea Caracciolo</td>\n      <td>Stephen Makinwa</td>\n      <td>Nicola Santoni</td>\n      <td>Franco Brienza</td>\n      <td>Massimo Mutarelli</td>\n      <td>Giuseppe Biava</td>\n      <td>Michele Ferri</td>\n      <td>Mariano Gonzalez</td>\n      <td>Simone Pepe</td>\n    </tr>\n    <tr>\n      <th>4</th>\n      <td>2005-06</td>\n      <td>1</td>\n      <td>2005</td>\n      <td>8</td>\n      <td>28</td>\n      <td>15</td>\n      <td>PAOLO TAGLIAVENTO</td>\n      <td>INTER</td>\n      <td>TREVISO</td>\n      <td>home</td>\n      <td>...</td>\n      <td>Reginaldo</td>\n      <td>Luigi Beghetto</td>\n      <td>Pinga</td>\n      <td>Roberto Chiappara</td>\n      <td>Dino Fava</td>\n      <td>Jehad Muntasser</td>\n      <td>Adriano Zancope</td>\n      <td>Francesco Parravicini</td>\n      <td>Anderson</td>\n      <td>Alberto Giuliatto</td>\n    </tr>\n  </tbody>\n</table>\n<p>5 rows × 50 columns</p>\n</div>"
     },
     "execution_count": 1413,
     "metadata": {},
     "output_type": "execute_result"
    }
   ],
   "source": [
    "df.head()"
   ],
   "metadata": {
    "collapsed": false,
    "pycharm": {
     "name": "#%%\n"
    }
   }
  },
  {
   "cell_type": "code",
   "execution_count": 1414,
   "outputs": [],
   "source": [
    "df.to_csv(\"processed.csv\")"
   ],
   "metadata": {
    "collapsed": false,
    "pycharm": {
     "name": "#%%\n"
    }
   }
  },
  {
   "cell_type": "markdown",
   "source": [
    "### Data encoding\n",
    "We need to encode the data before feeding it to the network. Here we define encoding methods that returns pytorch Tensors."
   ],
   "metadata": {
    "collapsed": false,
    "pycharm": {
     "name": "#%% md\n"
    }
   }
  },
  {
   "cell_type": "markdown",
   "source": [
    "#### Seasons and Rounds"
   ],
   "metadata": {
    "collapsed": false,
    "pycharm": {
     "name": "#%% md\n"
    }
   }
  },
  {
   "cell_type": "code",
   "execution_count": 1448,
   "outputs": [],
   "source": [
    "class SeasonRoundEncoder(object):\n",
    "    \"\"\"Encode the season and round columns of the given pandas DataFrame sample\"\"\"\n",
    "    def __init__(self, season_dict_map: dict):\n",
    "        self.mapping = season_dict_map\n",
    "\n",
    "    def __call__(self, sample: pd.DataFrame) -> torch.tensor:\n",
    "        season_encoding = torch.tensor([[el] for el in sample['season'].map(self.mapping).tolist()], dtype=torch.int32)\n",
    "        round_encoding = torch.tensor([[el] for el in sample['round'].tolist()], dtype=torch.int32)\n",
    "        return torch.cat([season_encoding, round_encoding], 1)"
   ],
   "metadata": {
    "collapsed": false,
    "pycharm": {
     "name": "#%%\n"
    }
   }
  },
  {
   "cell_type": "code",
   "execution_count": 1449,
   "outputs": [],
   "source": [
    "season2index = {'20' + f'{i+5}'.zfill(2) + '-' + f'{i+6}'.zfill(2): i for i in range(16)}\n",
    "season_round_encoder = SeasonRoundEncoder(season2index)"
   ],
   "metadata": {
    "collapsed": false,
    "pycharm": {
     "name": "#%%\n"
    }
   }
  },
  {
   "cell_type": "code",
   "execution_count": 1450,
   "outputs": [
    {
     "name": "stdout",
     "output_type": "stream",
     "text": [
      "SEASONS and ROUNDS encoding OK\n"
     ]
    }
   ],
   "source": [
    "# TEST seasons and rounds encoding\n",
    "tensor = season_round_encoder(df.iloc[0:2])\n",
    "seasons_rounds_expected_num_of_feats = 2\n",
    "if tensor.shape[1] == seasons_rounds_expected_num_of_feats:\n",
    "    print('SEASONS and ROUNDS encoding OK')\n",
    "else:\n",
    "    print(f'num of features: {tensor.shape[1]}')\n",
    "    print(f'expected num of features: {seasons_rounds_expected_num_of_feats}')\n",
    "    raise Exception('SEASONS and ROUNDS encoding NOT OK! :(')"
   ],
   "metadata": {
    "collapsed": false,
    "pycharm": {
     "name": "#%%\n"
    }
   }
  },
  {
   "cell_type": "markdown",
   "source": [
    "#### Datetime values"
   ],
   "metadata": {
    "collapsed": false,
    "pycharm": {
     "name": "#%% md\n"
    }
   }
  },
  {
   "cell_type": "code",
   "execution_count": 1451,
   "outputs": [],
   "source": [
    "class DatetimeEncoder(object):\n",
    "    \"\"\"Encode the year, month, day and hour columns of the given pandas DataFrame sample\"\"\"\n",
    "    def __init__(self):\n",
    "        pass\n",
    "\n",
    "    def __call__(self, sample: pd.DataFrame) -> torch.tensor:\n",
    "        year_encoding = torch.tensor([[el] for el in sample['year'].tolist()], dtype=torch.int32)\n",
    "        month_encoding = torch.tensor([[el] for el in sample['month'].tolist()], dtype=torch.int32)\n",
    "        day_encoding = torch.tensor([[el] for el in sample['day'].tolist()], dtype=torch.int32)\n",
    "        hour_encoding = torch.tensor([[el] for el in sample['hour'].tolist()], dtype=torch.int32)\n",
    "        return torch.cat([year_encoding, month_encoding, day_encoding, hour_encoding], 1)"
   ],
   "metadata": {
    "collapsed": false,
    "pycharm": {
     "name": "#%%\n"
    }
   }
  },
  {
   "cell_type": "code",
   "execution_count": 1452,
   "outputs": [],
   "source": [
    "datetime_encoder = DatetimeEncoder()"
   ],
   "metadata": {
    "collapsed": false,
    "pycharm": {
     "name": "#%%\n"
    }
   }
  },
  {
   "cell_type": "code",
   "execution_count": 1455,
   "outputs": [
    {
     "name": "stdout",
     "output_type": "stream",
     "text": [
      "tensor([[2005,    8,   27,   20],\n",
      "        [2005,    8,   27,   18]], dtype=torch.int32)\n",
      "DATETIME encoding OK\n"
     ]
    }
   ],
   "source": [
    "# TEST datetime values encoding\n",
    "tensor = datetime_encoder(df.iloc[0:2])\n",
    "datetime_expected_num_of_feats = 4\n",
    "if tensor.shape[1] == datetime_expected_num_of_feats:\n",
    "    print('DATETIME encoding OK')\n",
    "else:\n",
    "    print(f'num of features: {tensor.shape[1]}')\n",
    "    print(f'expected num of features: {datetime_expected_num_of_feats}')\n",
    "    raise Exception('DATETIME encoding NOT OK! :(')"
   ],
   "metadata": {
    "collapsed": false,
    "pycharm": {
     "name": "#%%\n"
    }
   }
  },
  {
   "cell_type": "markdown",
   "source": [
    "#### Results\n",
    "One-hot encoding"
   ],
   "metadata": {
    "collapsed": false,
    "pycharm": {
     "name": "#%% md\n"
    }
   }
  },
  {
   "cell_type": "code",
   "execution_count": null,
   "outputs": [],
   "source": [
    "class ResultEncoder(object):\n",
    "    \"\"\"Encode the result column of the given pandas DataFrame sample\"\"\"\n",
    "    def __init__(self, dict_map: dict):\n",
    "        self.mapping = dict_map\n",
    "\n",
    "    def __call__(self, sample: pd.DataFrame) -> torch.tensor:\n",
    "        return torch.tensor(sample['result'].map(self.mapping))"
   ],
   "metadata": {
    "collapsed": false,
    "pycharm": {
     "name": "#%%\n"
    }
   }
  },
  {
   "cell_type": "code",
   "execution_count": null,
   "outputs": [],
   "source": [
    "result2onehot = {'home': [1, 0, 0], 'draw': [0, 1, 0], 'away': [0, 0, 1]}\n",
    "result_encoder = ResultEncoder(result2onehot)"
   ],
   "metadata": {
    "collapsed": false,
    "pycharm": {
     "name": "#%%\n"
    }
   }
  },
  {
   "cell_type": "code",
   "execution_count": null,
   "outputs": [],
   "source": [
    "# TEST results encoding\n",
    "tensor = result_encoder(df.iloc[[0]])\n",
    "results_expected_num_of_feats = len(df['result'].unique())\n",
    "if tensor.shape[1] == results_expected_num_of_feats:\n",
    "    print('RESULT encoding OK')\n",
    "else:\n",
    "    print(f'num of features: {tensor.shape[1]}')\n",
    "    print(f'expected num of features: {results_expected_num_of_feats}')\n",
    "    raise Exception('RESULT encoding NOT OK! :(')"
   ],
   "metadata": {
    "collapsed": false,
    "pycharm": {
     "name": "#%%\n"
    }
   }
  },
  {
   "cell_type": "markdown",
   "source": [
    "#### Referees\n",
    "One-hot encoding"
   ],
   "metadata": {
    "collapsed": false,
    "pycharm": {
     "name": "#%% md\n"
    }
   }
  },
  {
   "cell_type": "code",
   "execution_count": null,
   "outputs": [],
   "source": [
    "class RefereeEncoder(object):\n",
    "    \"\"\"Encode the referee column of the given pandas DataFrame sample\"\"\"\n",
    "    def __init__(self, lb: LabelBinarizer):\n",
    "        self.lb = lb\n",
    "\n",
    "    def __call__(self, sample: pd.DataFrame) -> torch.tensor:\n",
    "        return torch.tensor(self.lb.transform(sample['referee']))"
   ],
   "metadata": {
    "collapsed": false,
    "pycharm": {
     "name": "#%%\n"
    }
   }
  },
  {
   "cell_type": "code",
   "execution_count": null,
   "outputs": [],
   "source": [
    "lb = LabelBinarizer()\n",
    "fitted_lb = lb.fit(df['referee'].tolist())\n",
    "referee_encoder = RefereeEncoder(fitted_lb)"
   ],
   "metadata": {
    "collapsed": false,
    "pycharm": {
     "name": "#%%\n"
    }
   }
  },
  {
   "cell_type": "code",
   "execution_count": null,
   "outputs": [],
   "source": [
    "# TEST referees encoding\n",
    "tensor = referee_encoder(df.iloc[[0]])\n",
    "referees_expected_num_of_feats = len(df['referee'].unique())\n",
    "if tensor.shape[1] == referees_expected_num_of_feats:\n",
    "    print('REFEREE encoding OK')\n",
    "else:\n",
    "    print(f'num of features: {tensor.shape[1]}')\n",
    "    print(f'expected num of features: {referees_expected_num_of_feats}')\n",
    "    raise Exception('REFEREE encoding NOT OK! :(')"
   ],
   "metadata": {
    "collapsed": false,
    "pycharm": {
     "name": "#%%\n"
    }
   }
  },
  {
   "cell_type": "markdown",
   "source": [
    "#### Teams\n",
    "One-hot encoding"
   ],
   "metadata": {
    "collapsed": false,
    "pycharm": {
     "name": "#%% md\n"
    }
   }
  },
  {
   "cell_type": "code",
   "execution_count": null,
   "outputs": [],
   "source": [
    "class TeamsEncoder(object):\n",
    "    \"\"\"Encode the home_team and away_team columns of the given pandas DataFrame sample\"\"\"\n",
    "    def __init__(self, lb: LabelBinarizer):\n",
    "        self.lb = lb\n",
    "\n",
    "    def __call__(self, sample: pd.DataFrame) -> torch.tensor:\n",
    "        home_encoding = torch.tensor(self.lb.transform(sample['home_team']))\n",
    "        away_encoding = torch.tensor(self.lb.transform(sample['away_team']))\n",
    "        return torch.cat([home_encoding, away_encoding], 1)"
   ],
   "metadata": {
    "collapsed": false,
    "pycharm": {
     "name": "#%%\n"
    }
   }
  },
  {
   "cell_type": "code",
   "execution_count": null,
   "outputs": [],
   "source": [
    "lb = LabelBinarizer()\n",
    "# every team has played as home team at least once\n",
    "fitted_lb = lb.fit(df['home_team'].tolist())\n",
    "teams_encoder = TeamsEncoder(fitted_lb)"
   ],
   "metadata": {
    "collapsed": false,
    "pycharm": {
     "name": "#%%\n"
    }
   }
  },
  {
   "cell_type": "code",
   "execution_count": null,
   "outputs": [],
   "source": [
    "# TEST teams encoding\n",
    "tensor = teams_encoder(df.iloc[[0]])\n",
    "teams_expected_num_of_feats = len(df['home_team'].unique()) * 2\n",
    "if tensor.shape[1] == teams_expected_num_of_feats:\n",
    "    print('TEAMS encoding OK')\n",
    "else:\n",
    "    print(f'num of features: {tensor.shape[1]}')\n",
    "    print(f'expected num of features: {teams_expected_num_of_feats}')\n",
    "    raise Exception('TEAMS encoding NOT OK! :(')"
   ],
   "metadata": {
    "collapsed": false,
    "pycharm": {
     "name": "#%%\n"
    }
   }
  },
  {
   "cell_type": "markdown",
   "source": [
    "#### Coaches\n",
    "One-hot encoding"
   ],
   "metadata": {
    "collapsed": false,
    "pycharm": {
     "name": "#%% md\n"
    }
   }
  },
  {
   "cell_type": "code",
   "execution_count": null,
   "outputs": [],
   "source": [
    "class CoachesEncoder(object):\n",
    "    \"\"\"Encode the home_team_coach and away_team_coach columns of the given pandas DataFrame sample\"\"\"\n",
    "    def __init__(self, lb: LabelBinarizer):\n",
    "        self.lb = lb\n",
    "\n",
    "    def __call__(self, sample: pd.DataFrame) -> torch.tensor:\n",
    "        home_coach_encoding = torch.tensor(self.lb.transform(sample['home_team_coach'].tolist()))\n",
    "        away_coach_encoding = torch.tensor(self.lb.transform(sample['away_team_coach'].tolist()))\n",
    "        return torch.cat([home_coach_encoding, away_coach_encoding], 1)"
   ],
   "metadata": {
    "collapsed": false,
    "pycharm": {
     "name": "#%%\n"
    }
   }
  },
  {
   "cell_type": "code",
   "execution_count": null,
   "outputs": [],
   "source": [
    "lb = LabelBinarizer()\n",
    "# every team has played as home team at least once, so home_team_coach already contains all the coaches\n",
    "fitted_lb = lb.fit(df['home_team_coach'].tolist())\n",
    "coaches_encoder = CoachesEncoder(fitted_lb)"
   ],
   "metadata": {
    "collapsed": false,
    "pycharm": {
     "name": "#%%\n"
    }
   }
  },
  {
   "cell_type": "code",
   "execution_count": null,
   "outputs": [],
   "source": [
    "# TEST coaches encoding\n",
    "tensor = coaches_encoder(df.iloc[[0]])\n",
    "coaches_expected_num_of_feats = len(df['home_team_coach'].unique()) * 2\n",
    "if tensor.shape[1] == coaches_expected_num_of_feats:\n",
    "    print('COACH encoding OK')\n",
    "else:\n",
    "    print(f'num of features: {tensor.shape[1]}')\n",
    "    print(f'expected num of features: {coaches_expected_num_of_feats}')\n",
    "    raise Exception('COACH encoding NOT OK! :(')"
   ],
   "metadata": {
    "collapsed": false,
    "pycharm": {
     "name": "#%%\n"
    }
   }
  },
  {
   "cell_type": "markdown",
   "source": [
    "#### Players\n",
    "One-hot encoding. We treat all players equally, both those that are part of the lineup and the substitutes"
   ],
   "metadata": {
    "collapsed": false,
    "pycharm": {
     "name": "#%% md\n"
    }
   }
  },
  {
   "cell_type": "code",
   "execution_count": null,
   "outputs": [],
   "source": [
    "class PlayersEncoder(object):\n",
    "    \"\"\"Encode the home and away team lineup and substitute players of the given pandas DataFrame sample\"\"\"\n",
    "    def __init__(self, lb: LabelBinarizer):\n",
    "        self.lb = lb\n",
    "\n",
    "    def __call__(self, sample: pd.DataFrame) -> torch.tensor:\n",
    "        result = []\n",
    "        for i in range(1, 12):\n",
    "            result += [torch.tensor(self.lb.transform(sample[f'home_player_{i}']))]\n",
    "        for i in range(1, 8):\n",
    "            result += [torch.tensor(self.lb.transform(sample[f'home_substitute_{i}']))]\n",
    "        for i in range(1, 12):\n",
    "            result += [torch.tensor(self.lb.transform(sample[f'away_player_{i}']))]\n",
    "        for i in range(1, 8):\n",
    "            result += [torch.tensor(self.lb.transform(sample[f'away_substitute_{i}']))]\n",
    "        return torch.cat(result, 1)"
   ],
   "metadata": {
    "collapsed": false,
    "pycharm": {
     "name": "#%%\n"
    }
   }
  },
  {
   "cell_type": "code",
   "execution_count": null,
   "outputs": [],
   "source": [
    "def flatten_list(list_of_lists: list[list[str]]) -> list[str]:\n",
    "    return [item for sublist in list_of_lists for item in sublist]\n",
    "\n",
    "\n",
    "def encode_fit_players(source_df: pd.DataFrame) -> LabelBinarizer:\n",
    "    lb = LabelBinarizer()\n",
    "    player_cols = get_column_names_containing_str(source_df, 'home_player')\n",
    "    player_cols += get_column_names_containing_str(source_df, 'home_substitute')\n",
    "    all_players_unflattened = source_df.loc[:, player_cols].values.tolist()\n",
    "    all_players_flattened = flatten_list(all_players_unflattened)\n",
    "    lb.fit(all_players_flattened)\n",
    "    return lb"
   ],
   "metadata": {
    "collapsed": false,
    "pycharm": {
     "name": "#%%\n"
    }
   }
  },
  {
   "cell_type": "code",
   "execution_count": null,
   "outputs": [],
   "source": [
    "lb = LabelBinarizer()\n",
    "fitted_lb = encode_fit_players(df)\n",
    "players_encoder = PlayersEncoder(fitted_lb)"
   ],
   "metadata": {
    "collapsed": false,
    "pycharm": {
     "name": "#%%\n"
    }
   }
  },
  {
   "cell_type": "code",
   "execution_count": null,
   "outputs": [],
   "source": [
    "# TEST players encoding\n",
    "player_cols = get_column_names_containing_str(df, 'home_player')\n",
    "player_cols += get_column_names_containing_str(df, 'home_substitute')\n",
    "tensor = players_encoder(df.iloc[[0]])\n",
    "all_unique_player_names = pd.concat([df[player_cols[i]] for i in range(len(player_cols))], axis=0).unique()\n",
    "players_expected_num_of_feats = len(all_unique_player_names) * (11 + 7) * 2\n",
    "if tensor.shape[1] == players_expected_num_of_feats:\n",
    "    print('PLAYER encoding OK')\n",
    "else:\n",
    "    print(f'num of features: {tensor.shape[1]}')\n",
    "    print(f'expected num of features: {players_expected_num_of_feats}')\n",
    "    raise Exception('PLAYER encoding NOT OK! :(')"
   ],
   "metadata": {
    "collapsed": false,
    "pycharm": {
     "name": "#%%\n"
    }
   }
  },
  {
   "cell_type": "code",
   "execution_count": null,
   "outputs": [],
   "source": [
    "class Encode(object):\n",
    "    \"\"\"Encode the given pandas DataFrame sample and return a pytorch Tensor\"\"\"\n",
    "    def __init__(self, season_round_enc: SeasonRoundEncoder, datetime_enc: DatetimeEncoder, result_enc: ResultEncoder,\n",
    "                 referee_enc: RefereeEncoder, teams_enc: TeamsEncoder, coaches_enc: CoachesEncoder, players_enc: PlayersEncoder,\n",
    "                 keep_scores: bool):\n",
    "        self.season_round_encoder = season_round_enc\n",
    "        self.datetime_encoder = datetime_enc\n",
    "        self.result_encoder = result_enc\n",
    "        self.referee_encoder = referee_enc\n",
    "        self.teams_encoder = teams_enc\n",
    "        self.coaches_encoder = coaches_enc\n",
    "        self.players_encoder = players_enc\n",
    "        self.keep_scores = keep_scores\n",
    "\n",
    "    def __call__(self, sample: pd.DataFrame) -> torch.tensor:\n",
    "        encoded = torch.cat([\n",
    "            self.season_round_encoder(sample),\n",
    "            self.datetime_encoder(sample),\n",
    "            self.result_encoder(sample),\n",
    "            self.referee_encoder(sample),\n",
    "            self.teams_encoder(sample),\n",
    "            self.coaches_encoder(sample),\n",
    "            self.players_encoder(sample)\n",
    "        ], 1)\n",
    "        if self.keep_scores:\n",
    "            home_score = torch.tensor([sample['home_team_score']], dtype=torch.int32)\n",
    "            away_score = torch.tensor([sample['away_team_score']], dtype=torch.int32)\n",
    "            return torch.cat([encoded, home_score, away_score], 1)\n",
    "        return encoded"
   ],
   "metadata": {
    "collapsed": false,
    "pycharm": {
     "name": "#%%\n"
    }
   }
  },
  {
   "cell_type": "code",
   "execution_count": null,
   "outputs": [],
   "source": [
    "# print train tensor example\n",
    "test_sample = df.iloc[[0]]\n",
    "test_encoder = Encode(season_round_encoder, datetime_encoder, result_encoder, referee_encoder, teams_encoder, coaches_encoder, players_encoder, True)\n",
    "test_encoded_sample = test_encoder(test_sample)\n",
    "total_num_of_features = seasons_rounds_expected_num_of_feats \\\n",
    "                        + datetime_expected_num_of_feats \\\n",
    "                        + results_expected_num_of_feats \\\n",
    "                        + referees_expected_num_of_feats \\\n",
    "                        + teams_expected_num_of_feats \\\n",
    "                        + coaches_expected_num_of_feats \\\n",
    "                        + players_expected_num_of_feats \\\n",
    "                        + 2 # we kept the scores\n",
    "if test_encoded_sample.shape[1] == total_num_of_features:\n",
    "    print(\"encoding OK\")\n",
    "else:\n",
    "    print(f'num of features: {test_encoded_sample.shape[1]}')\n",
    "    print(f'expected num of features: {total_num_of_features}')\n",
    "    raise Exception(\"encoding NOT OK\")\n",
    "\n"
   ],
   "metadata": {
    "collapsed": false,
    "pycharm": {
     "name": "#%%\n"
    }
   }
  },
  {
   "cell_type": "code",
   "execution_count": null,
   "outputs": [],
   "source": [
    "print(f'Total number of encoded features: {test_encoded_sample.size(1)}')"
   ],
   "metadata": {
    "collapsed": false,
    "pycharm": {
     "name": "#%%\n"
    }
   }
  },
  {
   "cell_type": "code",
   "execution_count": null,
   "outputs": [],
   "source": [
    "del df\n",
    "del lb"
   ],
   "metadata": {
    "collapsed": false,
    "pycharm": {
     "name": "#%%\n"
    }
   }
  },
  {
   "cell_type": "markdown",
   "source": [
    "### Data normalization"
   ],
   "metadata": {
    "collapsed": false,
    "pycharm": {
     "name": "#%% md\n"
    }
   }
  },
  {
   "cell_type": "code",
   "execution_count": null,
   "outputs": [],
   "source": [
    "# todo"
   ],
   "metadata": {
    "collapsed": false,
    "pycharm": {
     "name": "#%%\n"
    }
   }
  },
  {
   "cell_type": "markdown",
   "source": [
    "### Dataset construction\n",
    "\n",
    "We need to define a torch Dataset and torch Dataloader that will be used during training."
   ],
   "metadata": {
    "collapsed": false,
    "pycharm": {
     "name": "#%% md\n"
    }
   }
  },
  {
   "cell_type": "code",
   "execution_count": null,
   "outputs": [],
   "source": [
    "class SerieAFootballMatchesDataset(Dataset):\n",
    "    def __init__(self, csv_file, transform=None, target_transform=None):\n",
    "        self.dataframe = pd.read_csv(csv_file)\n",
    "        self.transform = transform\n",
    "        self.target_transform = target_transform\n",
    "\n",
    "    def __len__(self) -> int:\n",
    "        return len(self.dataframe)\n",
    "\n",
    "    def __getitem__(self, idx):\n",
    "        sample = self.dataframe.iloc[[idx]]\n",
    "        last_5_games_home = get_last_n_matches_played_by_team_before_round(\n",
    "            self.dataframe, sample['home_team'], sample['round'], 5)\n",
    "        last_5_games_away = get_last_n_matches_played_by_team_before_round(\n",
    "            self.dataframe, sample['away_team'], sample['round'], 5\n",
    "        )\n",
    "        if self.transform:\n",
    "            sample = self.transform(sample)\n",
    "        if self.target_transform:\n",
    "            label = self.target_transform(sample)\n",
    "        return sample"
   ],
   "metadata": {
    "collapsed": false,
    "pycharm": {
     "name": "#%%\n"
    }
   }
  },
  {
   "cell_type": "code",
   "execution_count": null,
   "outputs": [],
   "source": [
    "encoder = Encode()\n",
    "dataset = SerieAFootballMatchesDataset(csv_file='processed.csv', transform=Encode())"
   ],
   "metadata": {
    "collapsed": false,
    "pycharm": {
     "name": "#%%\n"
    }
   }
  },
  {
   "cell_type": "markdown",
   "source": [
    "## Training"
   ],
   "metadata": {
    "collapsed": false,
    "pycharm": {
     "name": "#%% md\n"
    }
   }
  },
  {
   "cell_type": "markdown",
   "source": [
    "### RNN"
   ],
   "metadata": {
    "collapsed": false,
    "pycharm": {
     "name": "#%% md\n"
    }
   }
  },
  {
   "cell_type": "code",
   "execution_count": null,
   "outputs": [],
   "source": [
    "class RNN(nn.Module):\n",
    "    def __init__(self, input_size, hidden_size):\n",
    "        super(RNN, self).__init__()\n",
    "        self.hidden_size = hidden_size\n",
    "        self.linear = nn.Linear(input_size + hidden_size, hidden_size)\n",
    "        self.tanh = nn.Tanh()\n",
    "\n",
    "    def forward(self, input, hidden):\n",
    "        combined = torch.cat((input, hidden), 1)\n",
    "        pre_hidden = self.linear(combined)\n",
    "        hidden = self.tanh(pre_hidden)\n",
    "        return hidden\n",
    "\n",
    "    def init_hidden(self):\n",
    "        return torch.zeros(1, self.hidden_size)"
   ],
   "metadata": {
    "collapsed": false,
    "pycharm": {
     "name": "#%%\n"
    }
   }
  },
  {
   "cell_type": "code",
   "execution_count": null,
   "outputs": [],
   "source": [
    "class NeuralNetwork(nn.Module):\n",
    "    def __init__(self, input_size):\n",
    "        super(NeuralNetwork, self).__init__()\n",
    "        self.input_size = input_size\n",
    "        self.flatten = nn.Flatten()\n",
    "        self.layers = nn.Sequential(\n",
    "            nn.Linear(input_size, 512),\n",
    "            nn.ReLU(),\n",
    "            nn.Linear(512, 512),\n",
    "            nn.ReLU(),\n",
    "            nn.Linear(512, 3),\n",
    "            nn.Softmax(dim=1)\n",
    "        )\n",
    "\n",
    "    def forward(self, x):\n",
    "        x = self.flatten(x)\n",
    "        output = self.layers(x)\n",
    "        return output"
   ],
   "metadata": {
    "collapsed": false,
    "pycharm": {
     "name": "#%%\n"
    }
   }
  },
  {
   "cell_type": "code",
   "execution_count": null,
   "outputs": [],
   "source": [
    "def get_encoded_home_team_historical_performance(df: pd.DataFrame, team: str, round: int) -> torch.tensor:\n",
    "    historical_performance_df = get_last_n_matches_played_by_team_before_round(df, team, round, 5)\n",
    "    return torch.cat([\n",
    "        encode_seasons_rounds(historical_performance_df),\n",
    "        encode_datetime_values(historical_performance_df),\n",
    "        encode_results(historical_performance_df),\n",
    "        encode_referees(df, historical_performance_df),\n",
    "        encode_teams(df, historical_performance_df),\n",
    "        encode_coaches(df, historical_performance_df),\n",
    "        encode_players(df, historical_performance_df)\n",
    "    ], 1)"
   ],
   "metadata": {
    "collapsed": false,
    "pycharm": {
     "name": "#%%\n"
    }
   }
  },
  {
   "cell_type": "code",
   "execution_count": null,
   "outputs": [],
   "source": [
    "def train_epoch(x_historical_home: torch.tensor, x_historical_away: torch.tensor, x_current: torch.tensor, y: torch.tensor,\n",
    "                rnn_home: RNN, rnn_away: RNN, nn: NeuralNetwork,\n",
    "                rnn_home_optimizer: optim.Optimizer, rnn_away_optimizer: optim.Optimizer, nn_optimizer: optim.Optimizer,\n",
    "                loss_fn):\n",
    "    # init\n",
    "    rnn_home_optimizer.zero_grad()\n",
    "    nn_optimizer.zero_grad()\n",
    "    # rnn_home forward\n",
    "    rnn_home_hidden = rnn_home.init_hidden()\n",
    "    for history_index in range(x_historical_home.size(0)):\n",
    "        rnn_home_hidden = rnn_home(x_historical_home[history_index], rnn_home_hidden)\n",
    "    # rnn_away forward\n",
    "    rnn_away_hidden = rnn_away.init_hidden()\n",
    "    for history_index in range(x_historical_away.size(0)):\n",
    "        rnn_away_hidden = rnn_away(x_historical_away[history_index], rnn_away_hidden)\n",
    "    # mlp forward\n",
    "    x_train = torch.cat((x_current, rnn_home_hidden, rnn_away_hidden), 1)\n",
    "    y_hat = nn(x_train)\n",
    "    # backward\n",
    "    loss = loss_fn(y, y_hat)\n",
    "    loss.backward()\n",
    "    rnn_home_optimizer.step()\n",
    "    rnn_away_optimizer.step()\n",
    "    nn_optimizer.step()\n",
    "    return loss.item() / y.size(0)"
   ],
   "metadata": {
    "collapsed": false,
    "pycharm": {
     "name": "#%%\n"
    }
   }
  },
  {
   "cell_type": "code",
   "execution_count": null,
   "outputs": [],
   "source": [
    "hidden_size = 128\n",
    "rnn_home = RNN(input_size=total_num_of_features, hidden_size=hidden_size)\n",
    "rnn_away = RNN(input_size=total_num_of_features, hidden_size=hidden_size)\n",
    "mlp = NeuralNetwork(hidden_size * 2 + total_num_of_features)"
   ],
   "metadata": {
    "collapsed": false,
    "pycharm": {
     "name": "#%%\n"
    }
   }
  },
  {
   "cell_type": "code",
   "execution_count": null,
   "outputs": [],
   "source": [
    "learning_rate = 0.01\n",
    "rnn_home_optimizer = optim.SGD(rnn_home.parameters(), lr=learning_rate)\n",
    "rnn_away_optimizer = optim.SGD(rnn_away.parameters(), lr=learning_rate)\n",
    "mlp_optimizer = optim.SGD(mlp.parameters(), lr=learning_rate)\n",
    "loss_fn = nn.NLLLoss()"
   ],
   "metadata": {
    "collapsed": false,
    "pycharm": {
     "name": "#%%\n"
    }
   }
  },
  {
   "cell_type": "code",
   "execution_count": null,
   "outputs": [],
   "source": [
    "def train_model(rnn_home: RNN, rnn_away: RNN, nn: NeuralNetwork,\n",
    "                rnn_home_optimizer: optim.Optimizer, rnn_away_optimizer: optim.Optimizer, nn_optimizer: optim.Optimizer,\n",
    "                loss_fn,\n",
    "                n_iters, print_every=1000, plot_every=100):\n",
    "    start = time.time()\n",
    "    plot_losses = []\n",
    "    print_loss_total = 0  # Reset every print_every\n",
    "    plot_loss_total = 0  # Reset every plot_every\n",
    "\n",
    "    training_pairs = [tensorsFromPair(random.choice(pairs)) for i in range(n_iters)]\n",
    "    for iter in range(1, n_iters + 1):\n",
    "        training_pair = training_pairs[iter - 1]\n",
    "        input_tensor = training_pair[0]\n",
    "        target_tensor = training_pair[1]\n",
    "        loss = train_epoch(input_tensor, target_tensor, test_encoder,\n",
    "                           decoder, encoder_optimizer, decoder_optimizer, criterion)\n",
    "        print_loss_total += loss\n",
    "        plot_loss_total += loss\n",
    "        if iter % print_every == 0:\n",
    "            print_loss_avg = print_loss_total / print_every\n",
    "            print_loss_total = 0\n",
    "            print('%s (%d %d%%) %.4f' % (timeSince(start, iter / n_iters),\n",
    "                                         iter, iter / n_iters * 100, print_loss_avg))\n",
    "        if iter % plot_every == 0:\n",
    "            plot_loss_avg = plot_loss_total / plot_every\n",
    "            plot_losses.append(plot_loss_avg)\n",
    "            plot_loss_total = 0\n",
    "    showPlot(plot_losses)"
   ],
   "metadata": {
    "collapsed": false,
    "pycharm": {
     "name": "#%%\n"
    }
   }
  },
  {
   "cell_type": "markdown",
   "source": [
    "# Missing data\n",
    "- We don't have data about new players that come to play in _Serie A_ during the course of the seasons. The model has to learn from zero context how important their contribution is for the outcome of the matches. If we were to considered multiple leagues, we could keep track of player transfers and maintain the history.\n",
    "- We don't have data about cup matches played during the course of the seasons, like _Champions League_, _Europa League_ and _Coppa Italia_. Since they are very prestigious competitions and matches are usually very competitive, teams put a lot of effort in them and therefore can then perform worse in the championship.\n",
    "- We don't have any type of player performance metric like who scored a goal, who was the assist man, red or yellow cards, goalkeeper's saves etc. so the model could face some difficulties in learning which player is important for the team."
   ],
   "metadata": {
    "collapsed": false,
    "pycharm": {
     "name": "#%% md\n"
    }
   }
  },
  {
   "cell_type": "markdown",
   "source": [],
   "metadata": {
    "collapsed": false,
    "pycharm": {
     "name": "#%% md\n"
    }
   }
  }
 ],
 "metadata": {
  "kernelspec": {
   "display_name": "Python 3",
   "language": "python",
   "name": "python3"
  },
  "language_info": {
   "codemirror_mode": {
    "name": "ipython",
    "version": 2
   },
   "file_extension": ".py",
   "mimetype": "text/x-python",
   "name": "python",
   "nbconvert_exporter": "python",
   "pygments_lexer": "ipython2",
   "version": "2.7.6"
  }
 },
 "nbformat": 4,
 "nbformat_minor": 0
}