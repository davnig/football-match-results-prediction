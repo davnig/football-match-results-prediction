{
 "cells": [
  {
   "cell_type": "markdown",
   "source": [
    "# Football matches result prediction\n",
    "\n",
    "Let's try to predict *Serie A* matches result (i.e. home win, away win or draw) with a RNN."
   ],
   "metadata": {
    "collapsed": false,
    "pycharm": {
     "name": "#%% md\n"
    }
   }
  },
  {
   "cell_type": "markdown",
   "source": [
    "## Introduction\n",
    "\n",
    "- The dataset was created by scraping *Serie A* matches data starting from season 2005-06 to season 2020-21\n",
    "- Cup matches (*Champions League*, *Europa League*, *Coppa Italia*) played over the course of each season were not taken into account"
   ],
   "metadata": {
    "collapsed": false,
    "pycharm": {
     "name": "#%% md\n"
    }
   }
  },
  {
   "cell_type": "code",
   "execution_count": 2827,
   "outputs": [],
   "source": [
    "import re\n",
    "\n",
    "import pandas as pd\n",
    "import torch\n",
    "import torch.nn as nn\n",
    "import numpy as np\n",
    "from sklearn.preprocessing import LabelBinarizer\n",
    "from torch import optim\n",
    "from torch.utils.data import DataLoader\n",
    "from torch.utils.data import Dataset\n",
    "from train_utils import AverageMeter\n",
    "\n",
    "from MatchResult import MatchResult"
   ],
   "metadata": {
    "collapsed": false,
    "pycharm": {
     "name": "#%%\n"
    }
   }
  },
  {
   "cell_type": "code",
   "execution_count": 2828,
   "outputs": [],
   "source": [
    "match_cols = ['season', 'round'] + \\\n",
    "             ['date', 'time', 'referee', 'home_team', 'away_team', 'home_team_score', 'away_team_score'] + \\\n",
    "             ['home_team_coach'] + \\\n",
    "             ['home_player_' + str(i) for i in range(1, 12)] + \\\n",
    "             ['home_substitute_' + str(i) for i in range(1, 8)] + \\\n",
    "             ['away_team_coach'] + \\\n",
    "             ['away_player_' + str(i) for i in range(1, 12)] + \\\n",
    "             ['away_substitute_' + str(i) for i in range(1, 8)]"
   ],
   "metadata": {
    "collapsed": false,
    "pycharm": {
     "name": "#%%\n"
    }
   }
  },
  {
   "cell_type": "code",
   "execution_count": 2829,
   "outputs": [
    {
     "data": {
      "text/plain": "    season  round        date   time             referee   home_team  \\\n0  2005-06      1  28/08/2005  15:00          MASSIMO DE      ASCOLI   \n1  2005-06      1  27/08/2005  20:30  GIANLUCA PAPARESTA  FIORENTINA   \n2  2005-06      1  28/08/2005  15:00       TIZIANO PIERI       PARMA   \n3  2005-06      1  28/08/2005  15:00   PAOLO TAGLIAVENTO       INTER   \n4  2005-06      1  27/08/2005  18:00     GIANLUCA ROCCHI     LIVORNO   \n\n   away_team  home_team_score  away_team_score   home_team_coach  ...  \\\n0      MILAN                1                1     Massimo Silva  ...   \n1  SAMPDORIA                2                1  Cesare Prandelli  ...   \n2    PALERMO                1                1     Mario Beretta  ...   \n3    TREVISO                3                0   Roberto Mancini  ...   \n4      LECCE                2                1  Roberto Donadoni  ...   \n\n     away_player_9     away_player_10      away_player_11  away_substitute_1  \\\n0             Kaka  Andriy Shevchenko   Alberto Gilardino  Marek Jankulovski   \n1   Lamberto Zauli   Francesco Flachi  Emiliano Bonazzoli       Marco Pisano   \n2  Massimo Bonanni  Andrea Caracciolo     Stephen Makinwa     Nicola Santoni   \n3        Reginaldo     Luigi Beghetto               Pinga  Roberto Chiappara   \n4     Alex Pinardi   Aleksei Eremenko      Graziano Pelle   Alfonso Camorani   \n\n  away_substitute_2   away_substitute_3  away_substitute_4  \\\n0  Clarence Seedorf        Zeljko Kalac    Gennaro Gattuso   \n1   Vitaliy Kutuzov     Marco Borriello   Luca Castellazzi   \n2    Franco Brienza   Massimo Mutarelli     Giuseppe Biava   \n3         Dino Fava     Jehad Muntasser    Adriano Zancope   \n4      Jaime Valdes  Giuseppe Cozzolino  Francesco Benussi   \n\n       away_substitute_5   away_substitute_6  away_substitute_7  \n0       Manuel Rui Costa        Johann Vogel        Dario Simic  \n1          Marco Zamboni        Simone Pavan   Gionata Mingozzi  \n2          Michele Ferri    Mariano Gonzalez        Simone Pepe  \n3  Francesco Parravicini            Anderson  Alberto Giuliatto  \n4         Marco Pecorari  Giuseppe Abruzzese    Davide Giorgino  \n\n[5 rows x 47 columns]",
      "text/html": "<div>\n<style scoped>\n    .dataframe tbody tr th:only-of-type {\n        vertical-align: middle;\n    }\n\n    .dataframe tbody tr th {\n        vertical-align: top;\n    }\n\n    .dataframe thead th {\n        text-align: right;\n    }\n</style>\n<table border=\"1\" class=\"dataframe\">\n  <thead>\n    <tr style=\"text-align: right;\">\n      <th></th>\n      <th>season</th>\n      <th>round</th>\n      <th>date</th>\n      <th>time</th>\n      <th>referee</th>\n      <th>home_team</th>\n      <th>away_team</th>\n      <th>home_team_score</th>\n      <th>away_team_score</th>\n      <th>home_team_coach</th>\n      <th>...</th>\n      <th>away_player_9</th>\n      <th>away_player_10</th>\n      <th>away_player_11</th>\n      <th>away_substitute_1</th>\n      <th>away_substitute_2</th>\n      <th>away_substitute_3</th>\n      <th>away_substitute_4</th>\n      <th>away_substitute_5</th>\n      <th>away_substitute_6</th>\n      <th>away_substitute_7</th>\n    </tr>\n  </thead>\n  <tbody>\n    <tr>\n      <th>0</th>\n      <td>2005-06</td>\n      <td>1</td>\n      <td>28/08/2005</td>\n      <td>15:00</td>\n      <td>MASSIMO DE</td>\n      <td>ASCOLI</td>\n      <td>MILAN</td>\n      <td>1</td>\n      <td>1</td>\n      <td>Massimo Silva</td>\n      <td>...</td>\n      <td>Kaka</td>\n      <td>Andriy Shevchenko</td>\n      <td>Alberto Gilardino</td>\n      <td>Marek Jankulovski</td>\n      <td>Clarence Seedorf</td>\n      <td>Zeljko Kalac</td>\n      <td>Gennaro Gattuso</td>\n      <td>Manuel Rui Costa</td>\n      <td>Johann Vogel</td>\n      <td>Dario Simic</td>\n    </tr>\n    <tr>\n      <th>1</th>\n      <td>2005-06</td>\n      <td>1</td>\n      <td>27/08/2005</td>\n      <td>20:30</td>\n      <td>GIANLUCA PAPARESTA</td>\n      <td>FIORENTINA</td>\n      <td>SAMPDORIA</td>\n      <td>2</td>\n      <td>1</td>\n      <td>Cesare Prandelli</td>\n      <td>...</td>\n      <td>Lamberto Zauli</td>\n      <td>Francesco Flachi</td>\n      <td>Emiliano Bonazzoli</td>\n      <td>Marco Pisano</td>\n      <td>Vitaliy Kutuzov</td>\n      <td>Marco Borriello</td>\n      <td>Luca Castellazzi</td>\n      <td>Marco Zamboni</td>\n      <td>Simone Pavan</td>\n      <td>Gionata Mingozzi</td>\n    </tr>\n    <tr>\n      <th>2</th>\n      <td>2005-06</td>\n      <td>1</td>\n      <td>28/08/2005</td>\n      <td>15:00</td>\n      <td>TIZIANO PIERI</td>\n      <td>PARMA</td>\n      <td>PALERMO</td>\n      <td>1</td>\n      <td>1</td>\n      <td>Mario Beretta</td>\n      <td>...</td>\n      <td>Massimo Bonanni</td>\n      <td>Andrea Caracciolo</td>\n      <td>Stephen Makinwa</td>\n      <td>Nicola Santoni</td>\n      <td>Franco Brienza</td>\n      <td>Massimo Mutarelli</td>\n      <td>Giuseppe Biava</td>\n      <td>Michele Ferri</td>\n      <td>Mariano Gonzalez</td>\n      <td>Simone Pepe</td>\n    </tr>\n    <tr>\n      <th>3</th>\n      <td>2005-06</td>\n      <td>1</td>\n      <td>28/08/2005</td>\n      <td>15:00</td>\n      <td>PAOLO TAGLIAVENTO</td>\n      <td>INTER</td>\n      <td>TREVISO</td>\n      <td>3</td>\n      <td>0</td>\n      <td>Roberto Mancini</td>\n      <td>...</td>\n      <td>Reginaldo</td>\n      <td>Luigi Beghetto</td>\n      <td>Pinga</td>\n      <td>Roberto Chiappara</td>\n      <td>Dino Fava</td>\n      <td>Jehad Muntasser</td>\n      <td>Adriano Zancope</td>\n      <td>Francesco Parravicini</td>\n      <td>Anderson</td>\n      <td>Alberto Giuliatto</td>\n    </tr>\n    <tr>\n      <th>4</th>\n      <td>2005-06</td>\n      <td>1</td>\n      <td>27/08/2005</td>\n      <td>18:00</td>\n      <td>GIANLUCA ROCCHI</td>\n      <td>LIVORNO</td>\n      <td>LECCE</td>\n      <td>2</td>\n      <td>1</td>\n      <td>Roberto Donadoni</td>\n      <td>...</td>\n      <td>Alex Pinardi</td>\n      <td>Aleksei Eremenko</td>\n      <td>Graziano Pelle</td>\n      <td>Alfonso Camorani</td>\n      <td>Jaime Valdes</td>\n      <td>Giuseppe Cozzolino</td>\n      <td>Francesco Benussi</td>\n      <td>Marco Pecorari</td>\n      <td>Giuseppe Abruzzese</td>\n      <td>Davide Giorgino</td>\n    </tr>\n  </tbody>\n</table>\n<p>5 rows × 47 columns</p>\n</div>"
     },
     "execution_count": 2829,
     "metadata": {},
     "output_type": "execute_result"
    }
   ],
   "source": [
    "train_raw = pd.read_csv('train-raw.csv')\n",
    "train_raw.head()"
   ],
   "metadata": {
    "collapsed": false,
    "pycharm": {
     "name": "#%%\n"
    }
   }
  },
  {
   "cell_type": "code",
   "execution_count": 2830,
   "outputs": [],
   "source": [
    "# test_raw = pd.read_csv('test-raw.csv')\n",
    "# test_raw.head()"
   ],
   "metadata": {
    "collapsed": false,
    "pycharm": {
     "name": "#%%\n"
    }
   }
  },
  {
   "cell_type": "markdown",
   "source": [
    "## Data visualization\n",
    "\n",
    "Let's inspect our data a little bit more"
   ],
   "metadata": {
    "collapsed": false,
    "pycharm": {
     "name": "#%% md\n"
    }
   }
  },
  {
   "cell_type": "code",
   "execution_count": 2831,
   "outputs": [],
   "source": [
    "# todo"
   ],
   "metadata": {
    "collapsed": false,
    "pycharm": {
     "name": "#%%\n"
    }
   }
  },
  {
   "cell_type": "markdown",
   "source": [
    "## Dataset pre-processing\n",
    "Now let's clean our raw data and add some additional features."
   ],
   "metadata": {
    "collapsed": false,
    "pycharm": {
     "name": "#%% md\n"
    }
   }
  },
  {
   "cell_type": "code",
   "execution_count": 2832,
   "outputs": [],
   "source": [
    "df = pd.DataFrame(train_raw)\n",
    "df = df[:200]"
   ],
   "metadata": {
    "collapsed": false,
    "pycharm": {
     "name": "#%%\n"
    }
   }
  },
  {
   "cell_type": "code",
   "execution_count": 2833,
   "outputs": [],
   "source": [
    "# convert date str to datetime\n",
    "df['date'] = pd.to_datetime(df['date'], infer_datetime_format=True)\n",
    "# sort by date column\n",
    "df = df.sort_values(by='date')\n",
    "df = df.reset_index(drop=True)\n",
    "# round values to int\n",
    "df['round'] = df['round'].astype(int)"
   ],
   "metadata": {
    "collapsed": false,
    "pycharm": {
     "name": "#%%\n"
    }
   }
  },
  {
   "cell_type": "code",
   "execution_count": 2834,
   "outputs": [],
   "source": [
    "# utility methods\n",
    "def get_team_and_historical_index_from_match_team_id(match_team_id: str) -> (str, str):\n",
    "    match_team_name = re.findall(\"\\s+\", match_team_id)[0]\n",
    "    match_team_index = re.findall(\"\\d+\", match_team_id)[0]\n",
    "    return match_team_name, match_team_index\n",
    "\n",
    "\n",
    "def get_match_by_team_and_round(df: pd.DataFrame, team: str, round: int) -> pd.DataFrame:\n",
    "    return df[((df['home_team'] == team) | (df['away_team'] == team)) & (df['round'] == round)]\n",
    "\n",
    "\n",
    "def get_last_n_matches_played_by_team_before_round(df: pd.DataFrame, team: str, round: int, n: int) -> pd.DataFrame:\n",
    "    last_n_matches = pd.DataFrame()\n",
    "    for i in range(1, n+1):\n",
    "        if round - i > 0:\n",
    "            last_n_matches = pd.concat([last_n_matches, get_match_by_team_and_round(df, team, round - i)])\n",
    "    return last_n_matches"
   ],
   "metadata": {
    "collapsed": false,
    "pycharm": {
     "name": "#%%\n"
    }
   }
  },
  {
   "cell_type": "code",
   "execution_count": 2835,
   "outputs": [
    {
     "data": {
      "text/plain": "     season  round       date   time        referee  home_team    away_team  \\\n77  2005-06      8 2005-10-23  15:00  OSCAR GIRARDI  SAMPDORIA  ROBUR SIENA   \n\n    home_team_score  away_team_score           home_team_coach  ...  \\\n77                3                3  Walter Alfredo Novellino  ...   \n\n    away_player_9    away_player_10 away_player_11 away_substitute_1  \\\n77  Erjon Bogdani  Thomas Locatelli  Enrico Chiesa           Alberto   \n\n   away_substitute_2    away_substitute_3 away_substitute_4  \\\n77  Jonathan Bachini  Francesco Colonnese      Marco Fortin   \n\n      away_substitute_5 away_substitute_6 away_substitute_7  \n77  Daniele Gastaldello       Matteo Paro     Roberto Nanni  \n\n[1 rows x 47 columns]",
      "text/html": "<div>\n<style scoped>\n    .dataframe tbody tr th:only-of-type {\n        vertical-align: middle;\n    }\n\n    .dataframe tbody tr th {\n        vertical-align: top;\n    }\n\n    .dataframe thead th {\n        text-align: right;\n    }\n</style>\n<table border=\"1\" class=\"dataframe\">\n  <thead>\n    <tr style=\"text-align: right;\">\n      <th></th>\n      <th>season</th>\n      <th>round</th>\n      <th>date</th>\n      <th>time</th>\n      <th>referee</th>\n      <th>home_team</th>\n      <th>away_team</th>\n      <th>home_team_score</th>\n      <th>away_team_score</th>\n      <th>home_team_coach</th>\n      <th>...</th>\n      <th>away_player_9</th>\n      <th>away_player_10</th>\n      <th>away_player_11</th>\n      <th>away_substitute_1</th>\n      <th>away_substitute_2</th>\n      <th>away_substitute_3</th>\n      <th>away_substitute_4</th>\n      <th>away_substitute_5</th>\n      <th>away_substitute_6</th>\n      <th>away_substitute_7</th>\n    </tr>\n  </thead>\n  <tbody>\n    <tr>\n      <th>77</th>\n      <td>2005-06</td>\n      <td>8</td>\n      <td>2005-10-23</td>\n      <td>15:00</td>\n      <td>OSCAR GIRARDI</td>\n      <td>SAMPDORIA</td>\n      <td>ROBUR SIENA</td>\n      <td>3</td>\n      <td>3</td>\n      <td>Walter Alfredo Novellino</td>\n      <td>...</td>\n      <td>Erjon Bogdani</td>\n      <td>Thomas Locatelli</td>\n      <td>Enrico Chiesa</td>\n      <td>Alberto</td>\n      <td>Jonathan Bachini</td>\n      <td>Francesco Colonnese</td>\n      <td>Marco Fortin</td>\n      <td>Daniele Gastaldello</td>\n      <td>Matteo Paro</td>\n      <td>Roberto Nanni</td>\n    </tr>\n  </tbody>\n</table>\n<p>1 rows × 47 columns</p>\n</div>"
     },
     "execution_count": 2835,
     "metadata": {},
     "output_type": "execute_result"
    }
   ],
   "source": [
    "a = get_match_by_team_and_round(df, 'ROBUR SIENA', 8)\n",
    "a"
   ],
   "metadata": {
    "collapsed": false,
    "pycharm": {
     "name": "#%%\n"
    }
   }
  },
  {
   "cell_type": "markdown",
   "source": [
    "### Additional features"
   ],
   "metadata": {
    "collapsed": false,
    "pycharm": {
     "name": "#%% md\n"
    }
   }
  },
  {
   "cell_type": "markdown",
   "source": [
    "#### Result column\n",
    "Our model will try to predict match results, i.e. **home win**, **away win** or **draw**, so we need a result column to be used as our target."
   ],
   "metadata": {
    "collapsed": false,
    "pycharm": {
     "name": "#%% md\n"
    }
   }
  },
  {
   "cell_type": "code",
   "execution_count": 2836,
   "outputs": [],
   "source": [
    "def get_match_result_from_score(home_team_score: int, away_team_score: int) -> MatchResult:\n",
    "    if home_team_score == away_team_score:\n",
    "        return MatchResult.draw\n",
    "    if home_team_score > away_team_score:\n",
    "        return MatchResult.home\n",
    "    return MatchResult.away\n",
    "\n",
    "\n",
    "def add_target_column(df: pd.DataFrame) -> pd.DataFrame:\n",
    "    results = {'result': []}\n",
    "    for index, row in df.iterrows():\n",
    "        results['result'] += [get_match_result_from_score(row['home_team_score'], row['away_team_score']).name]\n",
    "    df.insert(loc=df.columns.get_loc('home_team_score'), column='result', value=results['result'])\n",
    "    return df"
   ],
   "metadata": {
    "collapsed": false,
    "pycharm": {
     "name": "#%%\n"
    }
   }
  },
  {
   "cell_type": "code",
   "execution_count": 2837,
   "outputs": [
    {
     "data": {
      "text/plain": "      season  round       date   time             referee     home_team  \\\n0    2005-06      1 2005-08-27  20:30  GIANLUCA PAPARESTA    FIORENTINA   \n1    2005-06      1 2005-08-27  18:00     GIANLUCA ROCCHI       LIVORNO   \n2    2005-06      1 2005-08-28  15:00          MASSIMO DE        ASCOLI   \n3    2005-06      1 2005-08-28  15:00       TIZIANO PIERI         PARMA   \n4    2005-06      1 2005-08-28  15:00   PAOLO TAGLIAVENTO         INTER   \n..       ...    ...        ...    ...                 ...           ...   \n195  2005-06     20 2006-01-18  20:30   PAOLO TAGLIAVENTO          ROMA   \n196  2005-06     20 2006-01-18  20:30     GIANLUCA ROCCHI         MILAN   \n197  2005-06     20 2006-01-18  20:30  PASQUALE RODOMONTI         LECCE   \n198  2005-06     20 2006-01-18  20:30        ANDREA ROMEO      CAGLIARI   \n199  2005-06     20 2006-01-18  20:30        LUCA PALANCA  CHIEVOVERONA   \n\n       away_team result  home_team_score  away_team_score  ...  \\\n0      SAMPDORIA   home                2                1  ...   \n1          LECCE   home                2                1  ...   \n2          MILAN   draw                1                1  ...   \n3        PALERMO   draw                1                1  ...   \n4        TREVISO   home                3                0  ...   \n..           ...    ...              ...              ...  ...   \n195      REGGINA   home                3                1  ...   \n196       ASCOLI   home                1                0  ...   \n197      LIVORNO   draw                0                0  ...   \n198  ROBUR SIENA   home                1                0  ...   \n199     JUVENTUS   draw                1                1  ...   \n\n            away_player_9      away_player_10       away_player_11  \\\n0          Lamberto Zauli    Francesco Flachi   Emiliano Bonazzoli   \n1            Alex Pinardi    Aleksei Eremenko       Graziano Pelle   \n2                    Kaka   Andriy Shevchenko    Alberto Gilardino   \n3         Massimo Bonanni   Andrea Caracciolo      Stephen Makinwa   \n4               Reginaldo      Luigi Beghetto                Pinga   \n..                    ...                 ...                  ...   \n195     Francesco Modesto     Francesco Cozza         Luca Vigiani   \n196  Cristiano Del Grosso     Sasa Bjelanovic   Fabio Quagliarella   \n197        Francesco Coco   Ibrahima Bakayoko  Cristiano Lucarelli   \n198     Cristian Molinaro       Erjon Bogdani        Enrico Chiesa   \n199           Adrian Mutu  Zlatan Ibrahimovic      David Trezeguet   \n\n        away_substitute_1  away_substitute_2    away_substitute_3  \\\n0            Marco Pisano    Vitaliy Kutuzov      Marco Borriello   \n1        Alfonso Camorani       Jaime Valdes   Giuseppe Cozzolino   \n2       Marek Jankulovski   Clarence Seedorf         Zeljko Kalac   \n3          Nicola Santoni     Franco Brienza    Massimo Mutarelli   \n4       Roberto Chiappara          Dino Fava      Jehad Muntasser   \n..                    ...                ...                  ...   \n195        Maurizio Lauro     Nicola Amoruso     Simone Missiroli   \n196          Massimo Paci       Michele Fini      Pasquale Foggia   \n197         Marc Pfertzel       Cesar Prates   Raffaele Palladino   \n198           Rej Volpato        Paolo Negro  Nicola Legrottaglie   \n199  Alessandro Del Piero  Christian Abbiati    Gianluca Pessotto   \n\n     away_substitute_4      away_substitute_5   away_substitute_6  \\\n0     Luca Castellazzi          Marco Zamboni        Simone Pavan   \n1    Francesco Benussi         Marco Pecorari  Giuseppe Abruzzese   \n2      Gennaro Gattuso       Manuel Rui Costa        Johann Vogel   \n3       Giuseppe Biava          Michele Ferri    Mariano Gonzalez   \n4      Adriano Zancope  Francesco Parravicini            Anderson   \n..                 ...                    ...                 ...   \n195     Ivan Pelizzoli        Davide Biondini    Filippo Carobbio   \n196        Carlo Zotti       Riccardo Corallo       Davide Oresti   \n197      Paolo Acerbis        Stefano Fanucci    Giuseppe Colucci   \n198       Marco Fortin    Francesco Colonnese       Roberto Nanni   \n199      Manuele Blasi  Giuliano Giannichedda       Ruben Olivera   \n\n     away_substitute_7  \n0     Gionata Mingozzi  \n1      Davide Giorgino  \n2          Dario Simic  \n3          Simone Pepe  \n4    Alberto Giuliatto  \n..                 ...  \n195     Simone Cavalli  \n196     Marco Ferrante  \n197           Paulinho  \n198                NaN  \n199   Marcelo Zalayeta  \n\n[200 rows x 48 columns]",
      "text/html": "<div>\n<style scoped>\n    .dataframe tbody tr th:only-of-type {\n        vertical-align: middle;\n    }\n\n    .dataframe tbody tr th {\n        vertical-align: top;\n    }\n\n    .dataframe thead th {\n        text-align: right;\n    }\n</style>\n<table border=\"1\" class=\"dataframe\">\n  <thead>\n    <tr style=\"text-align: right;\">\n      <th></th>\n      <th>season</th>\n      <th>round</th>\n      <th>date</th>\n      <th>time</th>\n      <th>referee</th>\n      <th>home_team</th>\n      <th>away_team</th>\n      <th>result</th>\n      <th>home_team_score</th>\n      <th>away_team_score</th>\n      <th>...</th>\n      <th>away_player_9</th>\n      <th>away_player_10</th>\n      <th>away_player_11</th>\n      <th>away_substitute_1</th>\n      <th>away_substitute_2</th>\n      <th>away_substitute_3</th>\n      <th>away_substitute_4</th>\n      <th>away_substitute_5</th>\n      <th>away_substitute_6</th>\n      <th>away_substitute_7</th>\n    </tr>\n  </thead>\n  <tbody>\n    <tr>\n      <th>0</th>\n      <td>2005-06</td>\n      <td>1</td>\n      <td>2005-08-27</td>\n      <td>20:30</td>\n      <td>GIANLUCA PAPARESTA</td>\n      <td>FIORENTINA</td>\n      <td>SAMPDORIA</td>\n      <td>home</td>\n      <td>2</td>\n      <td>1</td>\n      <td>...</td>\n      <td>Lamberto Zauli</td>\n      <td>Francesco Flachi</td>\n      <td>Emiliano Bonazzoli</td>\n      <td>Marco Pisano</td>\n      <td>Vitaliy Kutuzov</td>\n      <td>Marco Borriello</td>\n      <td>Luca Castellazzi</td>\n      <td>Marco Zamboni</td>\n      <td>Simone Pavan</td>\n      <td>Gionata Mingozzi</td>\n    </tr>\n    <tr>\n      <th>1</th>\n      <td>2005-06</td>\n      <td>1</td>\n      <td>2005-08-27</td>\n      <td>18:00</td>\n      <td>GIANLUCA ROCCHI</td>\n      <td>LIVORNO</td>\n      <td>LECCE</td>\n      <td>home</td>\n      <td>2</td>\n      <td>1</td>\n      <td>...</td>\n      <td>Alex Pinardi</td>\n      <td>Aleksei Eremenko</td>\n      <td>Graziano Pelle</td>\n      <td>Alfonso Camorani</td>\n      <td>Jaime Valdes</td>\n      <td>Giuseppe Cozzolino</td>\n      <td>Francesco Benussi</td>\n      <td>Marco Pecorari</td>\n      <td>Giuseppe Abruzzese</td>\n      <td>Davide Giorgino</td>\n    </tr>\n    <tr>\n      <th>2</th>\n      <td>2005-06</td>\n      <td>1</td>\n      <td>2005-08-28</td>\n      <td>15:00</td>\n      <td>MASSIMO DE</td>\n      <td>ASCOLI</td>\n      <td>MILAN</td>\n      <td>draw</td>\n      <td>1</td>\n      <td>1</td>\n      <td>...</td>\n      <td>Kaka</td>\n      <td>Andriy Shevchenko</td>\n      <td>Alberto Gilardino</td>\n      <td>Marek Jankulovski</td>\n      <td>Clarence Seedorf</td>\n      <td>Zeljko Kalac</td>\n      <td>Gennaro Gattuso</td>\n      <td>Manuel Rui Costa</td>\n      <td>Johann Vogel</td>\n      <td>Dario Simic</td>\n    </tr>\n    <tr>\n      <th>3</th>\n      <td>2005-06</td>\n      <td>1</td>\n      <td>2005-08-28</td>\n      <td>15:00</td>\n      <td>TIZIANO PIERI</td>\n      <td>PARMA</td>\n      <td>PALERMO</td>\n      <td>draw</td>\n      <td>1</td>\n      <td>1</td>\n      <td>...</td>\n      <td>Massimo Bonanni</td>\n      <td>Andrea Caracciolo</td>\n      <td>Stephen Makinwa</td>\n      <td>Nicola Santoni</td>\n      <td>Franco Brienza</td>\n      <td>Massimo Mutarelli</td>\n      <td>Giuseppe Biava</td>\n      <td>Michele Ferri</td>\n      <td>Mariano Gonzalez</td>\n      <td>Simone Pepe</td>\n    </tr>\n    <tr>\n      <th>4</th>\n      <td>2005-06</td>\n      <td>1</td>\n      <td>2005-08-28</td>\n      <td>15:00</td>\n      <td>PAOLO TAGLIAVENTO</td>\n      <td>INTER</td>\n      <td>TREVISO</td>\n      <td>home</td>\n      <td>3</td>\n      <td>0</td>\n      <td>...</td>\n      <td>Reginaldo</td>\n      <td>Luigi Beghetto</td>\n      <td>Pinga</td>\n      <td>Roberto Chiappara</td>\n      <td>Dino Fava</td>\n      <td>Jehad Muntasser</td>\n      <td>Adriano Zancope</td>\n      <td>Francesco Parravicini</td>\n      <td>Anderson</td>\n      <td>Alberto Giuliatto</td>\n    </tr>\n    <tr>\n      <th>...</th>\n      <td>...</td>\n      <td>...</td>\n      <td>...</td>\n      <td>...</td>\n      <td>...</td>\n      <td>...</td>\n      <td>...</td>\n      <td>...</td>\n      <td>...</td>\n      <td>...</td>\n      <td>...</td>\n      <td>...</td>\n      <td>...</td>\n      <td>...</td>\n      <td>...</td>\n      <td>...</td>\n      <td>...</td>\n      <td>...</td>\n      <td>...</td>\n      <td>...</td>\n      <td>...</td>\n    </tr>\n    <tr>\n      <th>195</th>\n      <td>2005-06</td>\n      <td>20</td>\n      <td>2006-01-18</td>\n      <td>20:30</td>\n      <td>PAOLO TAGLIAVENTO</td>\n      <td>ROMA</td>\n      <td>REGGINA</td>\n      <td>home</td>\n      <td>3</td>\n      <td>1</td>\n      <td>...</td>\n      <td>Francesco Modesto</td>\n      <td>Francesco Cozza</td>\n      <td>Luca Vigiani</td>\n      <td>Maurizio Lauro</td>\n      <td>Nicola Amoruso</td>\n      <td>Simone Missiroli</td>\n      <td>Ivan Pelizzoli</td>\n      <td>Davide Biondini</td>\n      <td>Filippo Carobbio</td>\n      <td>Simone Cavalli</td>\n    </tr>\n    <tr>\n      <th>196</th>\n      <td>2005-06</td>\n      <td>20</td>\n      <td>2006-01-18</td>\n      <td>20:30</td>\n      <td>GIANLUCA ROCCHI</td>\n      <td>MILAN</td>\n      <td>ASCOLI</td>\n      <td>home</td>\n      <td>1</td>\n      <td>0</td>\n      <td>...</td>\n      <td>Cristiano Del Grosso</td>\n      <td>Sasa Bjelanovic</td>\n      <td>Fabio Quagliarella</td>\n      <td>Massimo Paci</td>\n      <td>Michele Fini</td>\n      <td>Pasquale Foggia</td>\n      <td>Carlo Zotti</td>\n      <td>Riccardo Corallo</td>\n      <td>Davide Oresti</td>\n      <td>Marco Ferrante</td>\n    </tr>\n    <tr>\n      <th>197</th>\n      <td>2005-06</td>\n      <td>20</td>\n      <td>2006-01-18</td>\n      <td>20:30</td>\n      <td>PASQUALE RODOMONTI</td>\n      <td>LECCE</td>\n      <td>LIVORNO</td>\n      <td>draw</td>\n      <td>0</td>\n      <td>0</td>\n      <td>...</td>\n      <td>Francesco Coco</td>\n      <td>Ibrahima Bakayoko</td>\n      <td>Cristiano Lucarelli</td>\n      <td>Marc Pfertzel</td>\n      <td>Cesar Prates</td>\n      <td>Raffaele Palladino</td>\n      <td>Paolo Acerbis</td>\n      <td>Stefano Fanucci</td>\n      <td>Giuseppe Colucci</td>\n      <td>Paulinho</td>\n    </tr>\n    <tr>\n      <th>198</th>\n      <td>2005-06</td>\n      <td>20</td>\n      <td>2006-01-18</td>\n      <td>20:30</td>\n      <td>ANDREA ROMEO</td>\n      <td>CAGLIARI</td>\n      <td>ROBUR SIENA</td>\n      <td>home</td>\n      <td>1</td>\n      <td>0</td>\n      <td>...</td>\n      <td>Cristian Molinaro</td>\n      <td>Erjon Bogdani</td>\n      <td>Enrico Chiesa</td>\n      <td>Rej Volpato</td>\n      <td>Paolo Negro</td>\n      <td>Nicola Legrottaglie</td>\n      <td>Marco Fortin</td>\n      <td>Francesco Colonnese</td>\n      <td>Roberto Nanni</td>\n      <td>NaN</td>\n    </tr>\n    <tr>\n      <th>199</th>\n      <td>2005-06</td>\n      <td>20</td>\n      <td>2006-01-18</td>\n      <td>20:30</td>\n      <td>LUCA PALANCA</td>\n      <td>CHIEVOVERONA</td>\n      <td>JUVENTUS</td>\n      <td>draw</td>\n      <td>1</td>\n      <td>1</td>\n      <td>...</td>\n      <td>Adrian Mutu</td>\n      <td>Zlatan Ibrahimovic</td>\n      <td>David Trezeguet</td>\n      <td>Alessandro Del Piero</td>\n      <td>Christian Abbiati</td>\n      <td>Gianluca Pessotto</td>\n      <td>Manuele Blasi</td>\n      <td>Giuliano Giannichedda</td>\n      <td>Ruben Olivera</td>\n      <td>Marcelo Zalayeta</td>\n    </tr>\n  </tbody>\n</table>\n<p>200 rows × 48 columns</p>\n</div>"
     },
     "execution_count": 2837,
     "metadata": {},
     "output_type": "execute_result"
    }
   ],
   "source": [
    "# add target column\n",
    "add_target_column(df)"
   ],
   "metadata": {
    "collapsed": false,
    "pycharm": {
     "name": "#%%\n"
    }
   }
  },
  {
   "cell_type": "markdown",
   "source": [
    "### Rest days features\n",
    "Rest days are very important for recovery."
   ],
   "metadata": {
    "collapsed": false,
    "pycharm": {
     "name": "#%% md\n"
    }
   }
  },
  {
   "cell_type": "code",
   "execution_count": 2838,
   "outputs": [],
   "source": [
    "def count_days_between_dates(date1, date2) -> int:\n",
    "    return (date1 - date2).dt.days"
   ],
   "metadata": {
    "collapsed": false,
    "pycharm": {
     "name": "#%%\n"
    }
   }
  },
  {
   "cell_type": "code",
   "execution_count": 2839,
   "outputs": [],
   "source": [
    "# for i in range(5):\n",
    "#     for home_or_away in HomeOrAway:\n",
    "#         if i == 0:\n",
    "#             df[f'{home_or_away.name}_team_rest_days'] = count_days_between_dates(df['date'], df[f'{home_or_away.name}_team_history_{i+1}_date'])\n",
    "#         else:\n",
    "#             df[f'{home_or_away.name}_team_history_{i}_rest_days'] = count_days_between_dates(df[f'{home_or_away.name}_team_history_{i}_date'], df[f'{home_or_away.name}_team_history_{i+1}_date'])\n",
    "\n",
    "# todo: cannot count rest days for historical 5th games because we still miss the data about the 6th historical match"
   ],
   "metadata": {
    "collapsed": false,
    "pycharm": {
     "name": "#%%\n"
    }
   }
  },
  {
   "cell_type": "code",
   "execution_count": 2840,
   "outputs": [],
   "source": [
    "# delete columns referring to the historical 6th matches\n",
    "# df = df.loc[:, ~df.columns.str.contains('history_6')]"
   ],
   "metadata": {
    "collapsed": false,
    "pycharm": {
     "name": "#%%\n"
    }
   }
  },
  {
   "cell_type": "markdown",
   "source": [
    "#### Datetime features\n",
    "Add **year**, **month** and **day** features for all **date** value"
   ],
   "metadata": {
    "collapsed": false,
    "pycharm": {
     "name": "#%% md\n"
    }
   }
  },
  {
   "cell_type": "code",
   "execution_count": 2841,
   "outputs": [],
   "source": [
    "def get_exploded_datetime_values(df: pd.DataFrame) -> dict:\n",
    "    data = {'year': [], 'month': [], 'day': [], 'hour': []}\n",
    "    df['time'] = pd.to_datetime(df['time'], format=\"%H:%M\")\n",
    "    data['year'] += df['date'].map(lambda val: val.year).tolist()\n",
    "    data['month'] += df['date'].map(lambda val: val.month).tolist()\n",
    "    data['day'] += df['date'].map(lambda val: val.day).tolist()\n",
    "    data['hour'] += df['time'].map(lambda val: val.hour).tolist()\n",
    "    return data\n",
    "\n",
    "\n",
    "def insert_exploded_datetime_values(df, exploded):\n",
    "    df.insert(loc=df.columns.get_loc('time'), column='year', value=exploded['year'])\n",
    "    df.insert(loc=df.columns.get_loc('time'), column='month', value=exploded['month'])\n",
    "    df.insert(loc=df.columns.get_loc('time'), column='day', value=exploded['day'])\n",
    "    df.insert(loc=df.columns.get_loc('time'), column='hour', value=exploded['hour'])\n",
    "    return df\n",
    "\n",
    "\n",
    "def explode_datetime_values(df: pd.DataFrame) -> pd.DataFrame:\n",
    "    exploded = get_exploded_datetime_values(df)\n",
    "    return insert_exploded_datetime_values(df, exploded)\n",
    "\n",
    "\n",
    "def get_column_names_containing_str(df: pd.DataFrame, substring: str) -> list[str]:\n",
    "    return df.loc[:,df.columns.str.contains(substring)].columns.values.tolist()"
   ],
   "metadata": {
    "collapsed": false,
    "pycharm": {
     "name": "#%%\n"
    }
   }
  },
  {
   "cell_type": "code",
   "execution_count": 2842,
   "outputs": [],
   "source": [
    "# explode datetime values\n",
    "df = explode_datetime_values(df)\n",
    "# drop date columns\n",
    "date_cols = get_column_names_containing_str(df, 'date')\n",
    "df.drop(date_cols, axis=1, inplace=True)\n",
    "df.drop(['time'], axis=1, inplace=True)"
   ],
   "metadata": {
    "collapsed": false,
    "pycharm": {
     "name": "#%%\n"
    }
   }
  },
  {
   "cell_type": "markdown",
   "source": [
    "The result of the pre-processing looks like this:"
   ],
   "metadata": {
    "collapsed": false,
    "pycharm": {
     "name": "#%% md\n"
    }
   }
  },
  {
   "cell_type": "code",
   "execution_count": 2843,
   "outputs": [
    {
     "data": {
      "text/plain": "    season  round  year  month  day  hour             referee   home_team  \\\n0  2005-06      1  2005      8   27    20  GIANLUCA PAPARESTA  FIORENTINA   \n1  2005-06      1  2005      8   27    18     GIANLUCA ROCCHI     LIVORNO   \n2  2005-06      1  2005      8   28    15          MASSIMO DE      ASCOLI   \n3  2005-06      1  2005      8   28    15       TIZIANO PIERI       PARMA   \n4  2005-06      1  2005      8   28    15   PAOLO TAGLIAVENTO       INTER   \n\n   away_team result  ...    away_player_9     away_player_10  \\\n0  SAMPDORIA   home  ...   Lamberto Zauli   Francesco Flachi   \n1      LECCE   home  ...     Alex Pinardi   Aleksei Eremenko   \n2      MILAN   draw  ...             Kaka  Andriy Shevchenko   \n3    PALERMO   draw  ...  Massimo Bonanni  Andrea Caracciolo   \n4    TREVISO   home  ...        Reginaldo     Luigi Beghetto   \n\n       away_player_11  away_substitute_1 away_substitute_2  \\\n0  Emiliano Bonazzoli       Marco Pisano   Vitaliy Kutuzov   \n1      Graziano Pelle   Alfonso Camorani      Jaime Valdes   \n2   Alberto Gilardino  Marek Jankulovski  Clarence Seedorf   \n3     Stephen Makinwa     Nicola Santoni    Franco Brienza   \n4               Pinga  Roberto Chiappara         Dino Fava   \n\n    away_substitute_3  away_substitute_4      away_substitute_5  \\\n0     Marco Borriello   Luca Castellazzi          Marco Zamboni   \n1  Giuseppe Cozzolino  Francesco Benussi         Marco Pecorari   \n2        Zeljko Kalac    Gennaro Gattuso       Manuel Rui Costa   \n3   Massimo Mutarelli     Giuseppe Biava          Michele Ferri   \n4     Jehad Muntasser    Adriano Zancope  Francesco Parravicini   \n\n    away_substitute_6  away_substitute_7  \n0        Simone Pavan   Gionata Mingozzi  \n1  Giuseppe Abruzzese    Davide Giorgino  \n2        Johann Vogel        Dario Simic  \n3    Mariano Gonzalez        Simone Pepe  \n4            Anderson  Alberto Giuliatto  \n\n[5 rows x 50 columns]",
      "text/html": "<div>\n<style scoped>\n    .dataframe tbody tr th:only-of-type {\n        vertical-align: middle;\n    }\n\n    .dataframe tbody tr th {\n        vertical-align: top;\n    }\n\n    .dataframe thead th {\n        text-align: right;\n    }\n</style>\n<table border=\"1\" class=\"dataframe\">\n  <thead>\n    <tr style=\"text-align: right;\">\n      <th></th>\n      <th>season</th>\n      <th>round</th>\n      <th>year</th>\n      <th>month</th>\n      <th>day</th>\n      <th>hour</th>\n      <th>referee</th>\n      <th>home_team</th>\n      <th>away_team</th>\n      <th>result</th>\n      <th>...</th>\n      <th>away_player_9</th>\n      <th>away_player_10</th>\n      <th>away_player_11</th>\n      <th>away_substitute_1</th>\n      <th>away_substitute_2</th>\n      <th>away_substitute_3</th>\n      <th>away_substitute_4</th>\n      <th>away_substitute_5</th>\n      <th>away_substitute_6</th>\n      <th>away_substitute_7</th>\n    </tr>\n  </thead>\n  <tbody>\n    <tr>\n      <th>0</th>\n      <td>2005-06</td>\n      <td>1</td>\n      <td>2005</td>\n      <td>8</td>\n      <td>27</td>\n      <td>20</td>\n      <td>GIANLUCA PAPARESTA</td>\n      <td>FIORENTINA</td>\n      <td>SAMPDORIA</td>\n      <td>home</td>\n      <td>...</td>\n      <td>Lamberto Zauli</td>\n      <td>Francesco Flachi</td>\n      <td>Emiliano Bonazzoli</td>\n      <td>Marco Pisano</td>\n      <td>Vitaliy Kutuzov</td>\n      <td>Marco Borriello</td>\n      <td>Luca Castellazzi</td>\n      <td>Marco Zamboni</td>\n      <td>Simone Pavan</td>\n      <td>Gionata Mingozzi</td>\n    </tr>\n    <tr>\n      <th>1</th>\n      <td>2005-06</td>\n      <td>1</td>\n      <td>2005</td>\n      <td>8</td>\n      <td>27</td>\n      <td>18</td>\n      <td>GIANLUCA ROCCHI</td>\n      <td>LIVORNO</td>\n      <td>LECCE</td>\n      <td>home</td>\n      <td>...</td>\n      <td>Alex Pinardi</td>\n      <td>Aleksei Eremenko</td>\n      <td>Graziano Pelle</td>\n      <td>Alfonso Camorani</td>\n      <td>Jaime Valdes</td>\n      <td>Giuseppe Cozzolino</td>\n      <td>Francesco Benussi</td>\n      <td>Marco Pecorari</td>\n      <td>Giuseppe Abruzzese</td>\n      <td>Davide Giorgino</td>\n    </tr>\n    <tr>\n      <th>2</th>\n      <td>2005-06</td>\n      <td>1</td>\n      <td>2005</td>\n      <td>8</td>\n      <td>28</td>\n      <td>15</td>\n      <td>MASSIMO DE</td>\n      <td>ASCOLI</td>\n      <td>MILAN</td>\n      <td>draw</td>\n      <td>...</td>\n      <td>Kaka</td>\n      <td>Andriy Shevchenko</td>\n      <td>Alberto Gilardino</td>\n      <td>Marek Jankulovski</td>\n      <td>Clarence Seedorf</td>\n      <td>Zeljko Kalac</td>\n      <td>Gennaro Gattuso</td>\n      <td>Manuel Rui Costa</td>\n      <td>Johann Vogel</td>\n      <td>Dario Simic</td>\n    </tr>\n    <tr>\n      <th>3</th>\n      <td>2005-06</td>\n      <td>1</td>\n      <td>2005</td>\n      <td>8</td>\n      <td>28</td>\n      <td>15</td>\n      <td>TIZIANO PIERI</td>\n      <td>PARMA</td>\n      <td>PALERMO</td>\n      <td>draw</td>\n      <td>...</td>\n      <td>Massimo Bonanni</td>\n      <td>Andrea Caracciolo</td>\n      <td>Stephen Makinwa</td>\n      <td>Nicola Santoni</td>\n      <td>Franco Brienza</td>\n      <td>Massimo Mutarelli</td>\n      <td>Giuseppe Biava</td>\n      <td>Michele Ferri</td>\n      <td>Mariano Gonzalez</td>\n      <td>Simone Pepe</td>\n    </tr>\n    <tr>\n      <th>4</th>\n      <td>2005-06</td>\n      <td>1</td>\n      <td>2005</td>\n      <td>8</td>\n      <td>28</td>\n      <td>15</td>\n      <td>PAOLO TAGLIAVENTO</td>\n      <td>INTER</td>\n      <td>TREVISO</td>\n      <td>home</td>\n      <td>...</td>\n      <td>Reginaldo</td>\n      <td>Luigi Beghetto</td>\n      <td>Pinga</td>\n      <td>Roberto Chiappara</td>\n      <td>Dino Fava</td>\n      <td>Jehad Muntasser</td>\n      <td>Adriano Zancope</td>\n      <td>Francesco Parravicini</td>\n      <td>Anderson</td>\n      <td>Alberto Giuliatto</td>\n    </tr>\n  </tbody>\n</table>\n<p>5 rows × 50 columns</p>\n</div>"
     },
     "execution_count": 2843,
     "metadata": {},
     "output_type": "execute_result"
    }
   ],
   "source": [
    "df.head()"
   ],
   "metadata": {
    "collapsed": false,
    "pycharm": {
     "name": "#%%\n"
    }
   }
  },
  {
   "cell_type": "code",
   "execution_count": 2844,
   "outputs": [],
   "source": [
    "df.to_csv(\"train.csv\")"
   ],
   "metadata": {
    "collapsed": false,
    "pycharm": {
     "name": "#%%\n"
    }
   }
  },
  {
   "cell_type": "markdown",
   "source": [
    "### Data encoding\n",
    "We need to encode the data before feeding it to the network. Here we define encoding methods that returns pytorch Tensors."
   ],
   "metadata": {
    "collapsed": false,
    "pycharm": {
     "name": "#%% md\n"
    }
   }
  },
  {
   "cell_type": "markdown",
   "source": [
    "#### Seasons and Rounds"
   ],
   "metadata": {
    "collapsed": false,
    "pycharm": {
     "name": "#%% md\n"
    }
   }
  },
  {
   "cell_type": "code",
   "execution_count": 2845,
   "outputs": [],
   "source": [
    "class SeasonRoundEncoder(object):\n",
    "    \"\"\"Encode the season and round columns of the given pandas DataFrame sample\"\"\"\n",
    "    def __init__(self, season_dict_map: dict):\n",
    "        self.mapping = season_dict_map\n",
    "\n",
    "    def __call__(self, sample: pd.DataFrame) -> torch.tensor:\n",
    "        season_encoding = torch.tensor([[el] for el in sample['season'].map(self.mapping).tolist()], dtype=torch.int32)\n",
    "        round_encoding = torch.tensor([[el] for el in sample['round'].tolist()], dtype=torch.int32)\n",
    "        return torch.cat([season_encoding, round_encoding], 1)"
   ],
   "metadata": {
    "collapsed": false,
    "pycharm": {
     "name": "#%%\n"
    }
   }
  },
  {
   "cell_type": "code",
   "execution_count": 2846,
   "outputs": [],
   "source": [
    "season2index = {'20' + f'{i+5}'.zfill(2) + '-' + f'{i+6}'.zfill(2): i for i in range(16)}\n",
    "season_round_encoder = SeasonRoundEncoder(season2index)"
   ],
   "metadata": {
    "collapsed": false,
    "pycharm": {
     "name": "#%%\n"
    }
   }
  },
  {
   "cell_type": "code",
   "execution_count": 2847,
   "outputs": [
    {
     "name": "stdout",
     "output_type": "stream",
     "text": [
      "SEASONS and ROUNDS encoding OK\n"
     ]
    }
   ],
   "source": [
    "# TEST seasons and rounds encoding\n",
    "tensor = season_round_encoder(df.iloc[0:2])\n",
    "seasons_rounds_expected_num_of_feats = 2\n",
    "if tensor.shape[1] == seasons_rounds_expected_num_of_feats:\n",
    "    print('SEASONS and ROUNDS encoding OK')\n",
    "else:\n",
    "    print(f'num of features: {tensor.shape[1]}')\n",
    "    print(f'expected num of features: {seasons_rounds_expected_num_of_feats}')\n",
    "    raise Exception('SEASONS and ROUNDS encoding NOT OK! :(')"
   ],
   "metadata": {
    "collapsed": false,
    "pycharm": {
     "name": "#%%\n"
    }
   }
  },
  {
   "cell_type": "markdown",
   "source": [
    "#### Datetime values"
   ],
   "metadata": {
    "collapsed": false,
    "pycharm": {
     "name": "#%% md\n"
    }
   }
  },
  {
   "cell_type": "code",
   "execution_count": 2848,
   "outputs": [],
   "source": [
    "class DatetimeEncoder(object):\n",
    "    \"\"\"Encode the year, month, day and hour columns of the given pandas DataFrame sample\"\"\"\n",
    "    def __init__(self):\n",
    "        pass\n",
    "\n",
    "    def __call__(self, sample: pd.DataFrame) -> torch.tensor:\n",
    "        year_encoding = torch.tensor([[el] for el in sample['year'].tolist()], dtype=torch.int32)\n",
    "        month_encoding = torch.tensor([[el] for el in sample['month'].tolist()], dtype=torch.int32)\n",
    "        day_encoding = torch.tensor([[el] for el in sample['day'].tolist()], dtype=torch.int32)\n",
    "        hour_encoding = torch.tensor([[el] for el in sample['hour'].tolist()], dtype=torch.int32)\n",
    "        return torch.cat([year_encoding, month_encoding, day_encoding, hour_encoding], 1)"
   ],
   "metadata": {
    "collapsed": false,
    "pycharm": {
     "name": "#%%\n"
    }
   }
  },
  {
   "cell_type": "code",
   "execution_count": 2849,
   "outputs": [],
   "source": [
    "datetime_encoder = DatetimeEncoder()"
   ],
   "metadata": {
    "collapsed": false,
    "pycharm": {
     "name": "#%%\n"
    }
   }
  },
  {
   "cell_type": "code",
   "execution_count": 2850,
   "outputs": [
    {
     "name": "stdout",
     "output_type": "stream",
     "text": [
      "DATETIME encoding OK\n"
     ]
    }
   ],
   "source": [
    "# TEST datetime values encoding\n",
    "tensor = datetime_encoder(df.iloc[0:2])\n",
    "datetime_expected_num_of_feats = 4\n",
    "if tensor.shape[1] == datetime_expected_num_of_feats:\n",
    "    print('DATETIME encoding OK')\n",
    "else:\n",
    "    print(f'num of features: {tensor.shape[1]}')\n",
    "    print(f'expected num of features: {datetime_expected_num_of_feats}')\n",
    "    raise Exception('DATETIME encoding NOT OK! :(')"
   ],
   "metadata": {
    "collapsed": false,
    "pycharm": {
     "name": "#%%\n"
    }
   }
  },
  {
   "cell_type": "markdown",
   "source": [
    "#### Results\n",
    "One-hot encoding"
   ],
   "metadata": {
    "collapsed": false,
    "pycharm": {
     "name": "#%% md\n"
    }
   }
  },
  {
   "cell_type": "code",
   "execution_count": 2851,
   "outputs": [],
   "source": [
    "class ResultEncoder(object):\n",
    "    \"\"\"Encode the result column of the given pandas DataFrame sample\"\"\"\n",
    "    def __init__(self, dict_map: dict):\n",
    "        self.mapping = dict_map\n",
    "\n",
    "    def __call__(self, sample: pd.DataFrame) -> torch.tensor:\n",
    "        return torch.tensor(sample['result'].map(self.mapping).tolist())"
   ],
   "metadata": {
    "collapsed": false,
    "pycharm": {
     "name": "#%%\n"
    }
   }
  },
  {
   "cell_type": "code",
   "execution_count": 2852,
   "outputs": [],
   "source": [
    "result2onehot = {'home': [1, 0, 0], 'draw': [0, 1, 0], 'away': [0, 0, 1]}\n",
    "result_encoder = ResultEncoder(result2onehot)"
   ],
   "metadata": {
    "collapsed": false,
    "pycharm": {
     "name": "#%%\n"
    }
   }
  },
  {
   "cell_type": "code",
   "execution_count": 2853,
   "outputs": [
    {
     "name": "stdout",
     "output_type": "stream",
     "text": [
      "RESULT encoding OK\n"
     ]
    }
   ],
   "source": [
    "# TEST results encoding\n",
    "tensor = result_encoder(df.iloc[0:2])\n",
    "results_expected_num_of_feats = len(df['result'].unique())\n",
    "if tensor.shape[1] == results_expected_num_of_feats:\n",
    "    print('RESULT encoding OK')\n",
    "else:\n",
    "    print(f'num of features: {tensor.shape[1]}')\n",
    "    print(f'expected num of features: {results_expected_num_of_feats}')\n",
    "    raise Exception('RESULT encoding NOT OK! :(')"
   ],
   "metadata": {
    "collapsed": false,
    "pycharm": {
     "name": "#%%\n"
    }
   }
  },
  {
   "cell_type": "markdown",
   "source": [
    "#### Referees\n",
    "One-hot encoding"
   ],
   "metadata": {
    "collapsed": false,
    "pycharm": {
     "name": "#%% md\n"
    }
   }
  },
  {
   "cell_type": "code",
   "execution_count": 2854,
   "outputs": [],
   "source": [
    "class RefereeEncoder(object):\n",
    "    \"\"\"Encode the referee column of the given pandas DataFrame sample\"\"\"\n",
    "    def __init__(self, lb: LabelBinarizer):\n",
    "        self.lb = lb\n",
    "\n",
    "    def __call__(self, sample: pd.DataFrame) -> torch.tensor:\n",
    "        return torch.tensor(self.lb.transform(sample['referee'].tolist()))"
   ],
   "metadata": {
    "collapsed": false,
    "pycharm": {
     "name": "#%%\n"
    }
   }
  },
  {
   "cell_type": "code",
   "execution_count": 2855,
   "outputs": [],
   "source": [
    "lb = LabelBinarizer()\n",
    "fitted_lb = lb.fit(df['referee'].tolist())\n",
    "referee_encoder = RefereeEncoder(fitted_lb)"
   ],
   "metadata": {
    "collapsed": false,
    "pycharm": {
     "name": "#%%\n"
    }
   }
  },
  {
   "cell_type": "code",
   "execution_count": 2856,
   "outputs": [
    {
     "name": "stdout",
     "output_type": "stream",
     "text": [
      "REFEREE encoding OK\n"
     ]
    }
   ],
   "source": [
    "# TEST referees encoding\n",
    "tensor = referee_encoder(df.iloc[0:2])\n",
    "referees_expected_num_of_feats = len(df['referee'].unique())\n",
    "if tensor.shape[1] == referees_expected_num_of_feats:\n",
    "    print('REFEREE encoding OK')\n",
    "else:\n",
    "    print(f'num of features: {tensor.shape[1]}')\n",
    "    print(f'expected num of features: {referees_expected_num_of_feats}')\n",
    "    raise Exception('REFEREE encoding NOT OK! :(')"
   ],
   "metadata": {
    "collapsed": false,
    "pycharm": {
     "name": "#%%\n"
    }
   }
  },
  {
   "cell_type": "markdown",
   "source": [
    "#### Teams\n",
    "One-hot encoding"
   ],
   "metadata": {
    "collapsed": false,
    "pycharm": {
     "name": "#%% md\n"
    }
   }
  },
  {
   "cell_type": "code",
   "execution_count": 2857,
   "outputs": [],
   "source": [
    "class TeamsEncoder(object):\n",
    "    \"\"\"Encode the home_team and away_team columns of the given pandas DataFrame sample\"\"\"\n",
    "    def __init__(self, lb: LabelBinarizer):\n",
    "        self.lb = lb\n",
    "\n",
    "    def __call__(self, sample: pd.DataFrame) -> torch.tensor:\n",
    "        home_encoding = torch.tensor(self.lb.transform(sample['home_team'].tolist()))\n",
    "        away_encoding = torch.tensor(self.lb.transform(sample['away_team'].tolist()))\n",
    "        return torch.cat([home_encoding, away_encoding], 1)"
   ],
   "metadata": {
    "collapsed": false,
    "pycharm": {
     "name": "#%%\n"
    }
   }
  },
  {
   "cell_type": "code",
   "execution_count": 2858,
   "outputs": [],
   "source": [
    "lb = LabelBinarizer()\n",
    "# every team has played as home team at least once\n",
    "fitted_lb = lb.fit(df['home_team'].tolist())\n",
    "teams_encoder = TeamsEncoder(fitted_lb)"
   ],
   "metadata": {
    "collapsed": false,
    "pycharm": {
     "name": "#%%\n"
    }
   }
  },
  {
   "cell_type": "code",
   "execution_count": 2859,
   "outputs": [
    {
     "name": "stdout",
     "output_type": "stream",
     "text": [
      "TEAMS encoding OK\n"
     ]
    }
   ],
   "source": [
    "# TEST teams encoding\n",
    "tensor = teams_encoder(df.iloc[0:2])\n",
    "teams_expected_num_of_feats = len(df['home_team'].unique()) * 2\n",
    "if tensor.shape[1] == teams_expected_num_of_feats:\n",
    "    print('TEAMS encoding OK')\n",
    "else:\n",
    "    print(f'num of features: {tensor.shape[1]}')\n",
    "    print(f'expected num of features: {teams_expected_num_of_feats}')\n",
    "    raise Exception('TEAMS encoding NOT OK! :(')"
   ],
   "metadata": {
    "collapsed": false,
    "pycharm": {
     "name": "#%%\n"
    }
   }
  },
  {
   "cell_type": "markdown",
   "source": [
    "#### Coaches\n",
    "One-hot encoding"
   ],
   "metadata": {
    "collapsed": false,
    "pycharm": {
     "name": "#%% md\n"
    }
   }
  },
  {
   "cell_type": "code",
   "execution_count": 2860,
   "outputs": [],
   "source": [
    "class CoachesEncoder(object):\n",
    "    \"\"\"Encode the home_team_coach and away_team_coach columns of the given pandas DataFrame sample\"\"\"\n",
    "    def __init__(self, lb: LabelBinarizer):\n",
    "        self.lb = lb\n",
    "\n",
    "    def __call__(self, sample: pd.DataFrame) -> torch.tensor:\n",
    "        home_coach_encoding = torch.tensor(self.lb.transform(sample['home_team_coach'].tolist()))\n",
    "        away_coach_encoding = torch.tensor(self.lb.transform(sample['away_team_coach'].tolist()))\n",
    "        return torch.cat([home_coach_encoding, away_coach_encoding], 1)"
   ],
   "metadata": {
    "collapsed": false,
    "pycharm": {
     "name": "#%%\n"
    }
   }
  },
  {
   "cell_type": "code",
   "execution_count": 2861,
   "outputs": [],
   "source": [
    "lb = LabelBinarizer()\n",
    "# every team has played as home team at least once, so home_team_coach already contains all the coaches\n",
    "fitted_lb = lb.fit(df['home_team_coach'].tolist())\n",
    "coaches_encoder = CoachesEncoder(fitted_lb)"
   ],
   "metadata": {
    "collapsed": false,
    "pycharm": {
     "name": "#%%\n"
    }
   }
  },
  {
   "cell_type": "code",
   "execution_count": 2862,
   "outputs": [
    {
     "name": "stdout",
     "output_type": "stream",
     "text": [
      "COACH encoding OK\n"
     ]
    }
   ],
   "source": [
    "# TEST coaches encoding\n",
    "tensor = coaches_encoder(df.iloc[0:2])\n",
    "coaches_expected_num_of_feats = len(df['home_team_coach'].unique()) * 2\n",
    "if tensor.shape[1] == coaches_expected_num_of_feats:\n",
    "    print('COACH encoding OK')\n",
    "else:\n",
    "    print(f'num of features: {tensor.shape[1]}')\n",
    "    print(f'expected num of features: {coaches_expected_num_of_feats}')\n",
    "    raise Exception('COACH encoding NOT OK! :(')"
   ],
   "metadata": {
    "collapsed": false,
    "pycharm": {
     "name": "#%%\n"
    }
   }
  },
  {
   "cell_type": "markdown",
   "source": [
    "#### Players\n",
    "One-hot encoding. We treat all players equally, both those that are part of the lineup and the substitutes"
   ],
   "metadata": {
    "collapsed": false,
    "pycharm": {
     "name": "#%% md\n"
    }
   }
  },
  {
   "cell_type": "code",
   "execution_count": 2863,
   "outputs": [],
   "source": [
    "class PlayersEncoder(object):\n",
    "    \"\"\"Encode the home and away team lineup and substitute players of the given pandas DataFrame sample\"\"\"\n",
    "    def __init__(self, lb: LabelBinarizer):\n",
    "        self.lb = lb\n",
    "\n",
    "    def __call__(self, sample: pd.DataFrame) -> torch.tensor:\n",
    "        result = []\n",
    "        for i in range(1, 12):\n",
    "            result += [torch.tensor(self.lb.transform(sample[f'home_player_{i}'].tolist()))]\n",
    "        for i in range(1, 8):\n",
    "            result += [torch.tensor(self.lb.transform(sample[f'home_substitute_{i}'].tolist()))]\n",
    "        for i in range(1, 12):\n",
    "            result += [torch.tensor(self.lb.transform(sample[f'away_player_{i}'].tolist()))]\n",
    "        for i in range(1, 8):\n",
    "            result += [torch.tensor(self.lb.transform(sample[f'away_substitute_{i}'].tolist()))]\n",
    "        return torch.cat(result, 1)"
   ],
   "metadata": {
    "collapsed": false,
    "pycharm": {
     "name": "#%%\n"
    }
   }
  },
  {
   "cell_type": "code",
   "execution_count": 2864,
   "outputs": [],
   "source": [
    "def flatten_list(list_of_lists: list[list[str]]) -> list[str]:\n",
    "    return [item for sublist in list_of_lists for item in sublist]\n",
    "\n",
    "\n",
    "def encode_fit_players(source_df: pd.DataFrame) -> LabelBinarizer:\n",
    "    lb = LabelBinarizer()\n",
    "    player_cols = get_column_names_containing_str(source_df, 'home_player')\n",
    "    player_cols += get_column_names_containing_str(source_df, 'home_substitute')\n",
    "    all_players_unflattened = source_df.loc[:, player_cols].values.tolist()\n",
    "    all_players_flattened = flatten_list(all_players_unflattened)\n",
    "    lb.fit(all_players_flattened)\n",
    "    return lb"
   ],
   "metadata": {
    "collapsed": false,
    "pycharm": {
     "name": "#%%\n"
    }
   }
  },
  {
   "cell_type": "code",
   "execution_count": 2865,
   "outputs": [],
   "source": [
    "lb = LabelBinarizer()\n",
    "fitted_lb = encode_fit_players(df)\n",
    "players_encoder = PlayersEncoder(fitted_lb)"
   ],
   "metadata": {
    "collapsed": false,
    "pycharm": {
     "name": "#%%\n"
    }
   }
  },
  {
   "cell_type": "code",
   "execution_count": 2866,
   "outputs": [
    {
     "name": "stdout",
     "output_type": "stream",
     "text": [
      "PLAYER encoding OK\n"
     ]
    }
   ],
   "source": [
    "# TEST players encoding\n",
    "player_cols = get_column_names_containing_str(df, 'home_player')\n",
    "player_cols += get_column_names_containing_str(df, 'home_substitute')\n",
    "tensor = players_encoder(df.iloc[0:2])\n",
    "all_unique_player_names = pd.concat([df[player_cols[i]] for i in range(len(player_cols))], axis=0).unique()\n",
    "players_expected_num_of_feats = len(all_unique_player_names) * (11 + 7) * 2\n",
    "if tensor.shape[1] == players_expected_num_of_feats:\n",
    "    print('PLAYER encoding OK')\n",
    "else:\n",
    "    print(f'num of features: {tensor.shape[1]}')\n",
    "    print(f'expected num of features: {players_expected_num_of_feats}')\n",
    "    raise Exception('PLAYER encoding NOT OK! :(')"
   ],
   "metadata": {
    "collapsed": false,
    "pycharm": {
     "name": "#%%\n"
    }
   }
  },
  {
   "cell_type": "code",
   "execution_count": 2867,
   "outputs": [],
   "source": [
    "class Encode(object):\n",
    "    \"\"\"Encode the given pandas DataFrame sample and return a pytorch Tensor\"\"\"\n",
    "    def __init__(self, season_round_enc: SeasonRoundEncoder, datetime_enc: DatetimeEncoder,\n",
    "                 result_enc: ResultEncoder, referee_enc: RefereeEncoder, teams_enc: TeamsEncoder,\n",
    "                 coaches_enc: CoachesEncoder, players_enc: PlayersEncoder,\n",
    "                 keep_scores: bool, keep_result: bool):\n",
    "        self.season_round_encoder = season_round_enc\n",
    "        self.datetime_encoder = datetime_enc\n",
    "        self.result_encoder = result_enc\n",
    "        self.referee_encoder = referee_enc\n",
    "        self.teams_encoder = teams_enc\n",
    "        self.coaches_encoder = coaches_enc\n",
    "        self.players_encoder = players_enc\n",
    "        self.keep_scores = keep_scores\n",
    "        self.keep_result = keep_result\n",
    "\n",
    "    def __call__(self, sample: pd.DataFrame) -> torch.tensor:\n",
    "        encoded = torch.cat([\n",
    "            self.season_round_encoder(sample),\n",
    "            self.datetime_encoder(sample),\n",
    "            self.referee_encoder(sample),\n",
    "            self.teams_encoder(sample),\n",
    "            self.coaches_encoder(sample),\n",
    "            self.players_encoder(sample)\n",
    "        ], 1)\n",
    "        if self.keep_scores:\n",
    "            encoded = self.add_encoded_scores(encoded, sample)\n",
    "        if self.keep_result:\n",
    "            return self.add_encoded_result(encoded, sample)\n",
    "        return encoded\n",
    "\n",
    "    def add_encoded_scores(self, target: torch.tensor, source: pd.DataFrame):\n",
    "         return torch.cat([\n",
    "                target,\n",
    "                torch.tensor([[el] for el in source['home_team_score'].tolist()], dtype=torch.int32),\n",
    "                torch.tensor([[el] for el in source['away_team_score'].tolist()], dtype=torch.int32)\n",
    "            ], 1)\n",
    "\n",
    "    def add_encoded_result(self, target: torch.tensor, source: pd.DataFrame):\n",
    "        return torch.cat([target, self.result_encoder(source)], 1)"
   ],
   "metadata": {
    "collapsed": false,
    "pycharm": {
     "name": "#%%\n"
    }
   }
  },
  {
   "cell_type": "code",
   "execution_count": 2868,
   "outputs": [],
   "source": [
    "full_encoder = Encode(season_round_encoder, datetime_encoder, result_encoder, referee_encoder, teams_encoder, coaches_encoder, players_encoder, True, True)\n",
    "\n",
    "no_result_encoder = Encode(season_round_encoder, datetime_encoder, result_encoder, referee_encoder, teams_encoder, coaches_encoder, players_encoder, True, False)\n",
    "\n",
    "basic_encoder = Encode(season_round_encoder, datetime_encoder, result_encoder, referee_encoder, teams_encoder, coaches_encoder, players_encoder, False, False)"
   ],
   "metadata": {
    "collapsed": false,
    "pycharm": {
     "name": "#%%\n"
    }
   }
  },
  {
   "cell_type": "code",
   "execution_count": 2869,
   "outputs": [
    {
     "name": "stdout",
     "output_type": "stream",
     "text": [
      "encoding OK\n"
     ]
    }
   ],
   "source": [
    "# print train tensor example\n",
    "test_sample = df.iloc[0:2]\n",
    "test_encoded_sample = full_encoder(test_sample)\n",
    "total_num_of_features = seasons_rounds_expected_num_of_feats \\\n",
    "                        + datetime_expected_num_of_feats \\\n",
    "                        + results_expected_num_of_feats \\\n",
    "                        + referees_expected_num_of_feats \\\n",
    "                        + teams_expected_num_of_feats \\\n",
    "                        + coaches_expected_num_of_feats \\\n",
    "                        + players_expected_num_of_feats \\\n",
    "                        + 2\n",
    "if test_encoded_sample.shape[1] == total_num_of_features:\n",
    "    print(\"encoding OK\")\n",
    "else:\n",
    "    print(f'num of features: {test_encoded_sample.shape[1]}')\n",
    "    print(f'expected num of features: {total_num_of_features}')\n",
    "    raise Exception(\"encoding NOT OK\")\n",
    "\n"
   ],
   "metadata": {
    "collapsed": false,
    "pycharm": {
     "name": "#%%\n"
    }
   }
  },
  {
   "cell_type": "code",
   "execution_count": 2870,
   "outputs": [
    {
     "name": "stdout",
     "output_type": "stream",
     "text": [
      "Total number of encoded features: 18679\n"
     ]
    }
   ],
   "source": [
    "print(f'Total number of encoded features: {test_encoded_sample.size(1)}')"
   ],
   "metadata": {
    "collapsed": false,
    "pycharm": {
     "name": "#%%\n"
    }
   }
  },
  {
   "cell_type": "code",
   "execution_count": 2871,
   "outputs": [],
   "source": [
    "del df\n",
    "del lb"
   ],
   "metadata": {
    "collapsed": false,
    "pycharm": {
     "name": "#%%\n"
    }
   }
  },
  {
   "cell_type": "markdown",
   "source": [
    "### Data normalization"
   ],
   "metadata": {
    "collapsed": false,
    "pycharm": {
     "name": "#%% md\n"
    }
   }
  },
  {
   "cell_type": "code",
   "execution_count": 2872,
   "outputs": [],
   "source": [
    "# todo"
   ],
   "metadata": {
    "collapsed": false,
    "pycharm": {
     "name": "#%%\n"
    }
   }
  },
  {
   "cell_type": "markdown",
   "source": [
    "### Dataset construction\n",
    "\n",
    "We need to define a torch Dataset and torch Dataloader that will be used during training."
   ],
   "metadata": {
    "collapsed": false,
    "pycharm": {
     "name": "#%% md\n"
    }
   }
  },
  {
   "cell_type": "code",
   "execution_count": 2873,
   "outputs": [],
   "source": [
    "def fill_with_padding(source: pd.DataFrame):\n",
    "    if len(source) < 5:\n",
    "        initial_len = len(source)\n",
    "        padding = source.tail(1)\n",
    "        for i in range(5-len(source)):\n",
    "            source = pd.concat([source, padding], ignore_index=True)\n",
    "        print(f'padding applied. Initial len: {initial_len} new_len: {len(source)}')\n",
    "    return source\n",
    "\n",
    "\n",
    "class SerieAFootballMatchesDataset(Dataset):\n",
    "    history_len = 5\n",
    "\n",
    "    def __init__(self, csv_file, x_encoder: Encode, x_historical_encoder: Encode, y_encoder: Encode):\n",
    "        self.dataframe = pd.read_csv(csv_file)\n",
    "        self.x_encoder = x_encoder\n",
    "        self.x_historical_encoder = x_historical_encoder\n",
    "        self.y_encoder = y_encoder\n",
    "\n",
    "    def __len__(self) -> int:\n",
    "        return len(self.dataframe)\n",
    "\n",
    "    def __getitem__(self, idx):\n",
    "        print(f'picked index {idx}')\n",
    "        idx = self.scale_idx(idx)\n",
    "        x_as_df = self.dataframe.iloc[[idx]] # df\n",
    "        x = self.dataframe.loc[idx] # series\n",
    "        # encoder expects a dataframe with a 'result' column\n",
    "        y = pd.DataFrame([x['result']], columns=['result'])\n",
    "        last_n_games_home, last_n_games_away = self.retrieve_historical_data(x)\n",
    "        fill_with_padding(last_n_games_home)\n",
    "        fill_with_padding(last_n_games_away)\n",
    "        x, x_historical_home, x_historical_away, y = self.encode(x_as_df, last_n_games_home, last_n_games_away, y)\n",
    "        return x, x_historical_home, x_historical_away, y\n",
    "\n",
    "    def scale_idx(self, idx: int) -> int:\n",
    "        \"\"\"Scale the given index to a range that allows for historical data retrieval\"\"\"\n",
    "        old_min = 0\n",
    "        old_max = len(self.dataframe)\n",
    "        '''\n",
    "        idx = 10 corresponds to the first match of the second round.\n",
    "        This ensure the retrieval of at least 1 historical match.\n",
    "        In the worst case scenario, padding will fill the other 4 historical slots.\n",
    "        '''\n",
    "        new_min = 10\n",
    "        new_max = old_max\n",
    "        old_range = old_max - old_min\n",
    "        new_range = new_max - new_min\n",
    "        normalized_idx = (idx - old_min) / old_range\n",
    "        return int(round(normalized_idx * new_range + new_min))\n",
    "\n",
    "    def retrieve_historical_data(self, source: pd.DataFrame):\n",
    "        \"\"\"Retrieve historical data for home and away teams from source\"\"\"\n",
    "        last_n_games_home = get_last_n_matches_played_by_team_before_round(\n",
    "            self.dataframe, source['home_team'], source['round'], self.history_len)\n",
    "        last_n_games_away = get_last_n_matches_played_by_team_before_round(\n",
    "            self.dataframe, source['away_team'], source['round'], self.history_len)\n",
    "        return last_n_games_home, last_n_games_away\n",
    "\n",
    "    def encode(self, x: pd.DataFrame, x_historical_home: pd.DataFrame, x_historical_away: pd.DataFrame, y: pd.DataFrame):\n",
    "        \"\"\"Encode the data\"\"\"\n",
    "        x_historical_home_encoded = self.x_historical_encoder(x_historical_home)\n",
    "        x_historical_away_encoded = self.x_historical_encoder(x_historical_away)\n",
    "        x_encoded = self.x_encoder(x)\n",
    "        y_encoded = self.y_encoder(y)\n",
    "        return x_encoded, x_historical_home_encoded, x_historical_away_encoded, y_encoded\n"
   ],
   "metadata": {
    "collapsed": false,
    "pycharm": {
     "name": "#%%\n"
    }
   }
  },
  {
   "cell_type": "code",
   "execution_count": 2874,
   "outputs": [
    {
     "data": {
      "text/plain": "tensor([[0, 0]])"
     },
     "execution_count": 2874,
     "metadata": {},
     "output_type": "execute_result"
    }
   ],
   "source": [
    "# test\n",
    "t = torch.tensor([[[0, 0],\n",
    "               [0, 1],\n",
    "               [0, 2],\n",
    "               [0, 3],\n",
    "               [0, 4]],\n",
    "              [[1, 0],\n",
    "               [1, 1],\n",
    "               [1, 2],\n",
    "               [1, 3],\n",
    "               [1, 4]],\n",
    "              [[2, 2],\n",
    "               [2, 1],\n",
    "               [2, 2],\n",
    "               [2, 3],\n",
    "               [2, 4]]])\n",
    "torch.reshape(t[0,0], (1,2))"
   ],
   "metadata": {
    "collapsed": false,
    "pycharm": {
     "name": "#%%\n"
    }
   }
  },
  {
   "cell_type": "markdown",
   "source": [
    "## Training"
   ],
   "metadata": {
    "collapsed": false,
    "pycharm": {
     "name": "#%% md\n"
    }
   }
  },
  {
   "cell_type": "code",
   "execution_count": 2875,
   "outputs": [],
   "source": [
    "class RNN(nn.Module):\n",
    "    def __init__(self, input_size, hidden_size):\n",
    "        super(RNN, self).__init__()\n",
    "        self.hidden_size = hidden_size\n",
    "        self.linear = nn.Linear(input_size + hidden_size, hidden_size)\n",
    "        self.tanh = nn.Tanh()\n",
    "\n",
    "    def forward(self, input, hidden):\n",
    "        combined = torch.cat([input, hidden], 1)\n",
    "        pre_hidden = self.linear(combined)\n",
    "        hidden = self.tanh(pre_hidden)\n",
    "        return hidden\n",
    "\n",
    "    def init_hidden(self, minibatch_size):\n",
    "        return torch.zeros(minibatch_size, 1, self.hidden_size)\n",
    "\n",
    "\n",
    "class NeuralNetwork(nn.Module):\n",
    "    def __init__(self, input_size):\n",
    "        super(NeuralNetwork, self).__init__()\n",
    "        self.input_size = input_size\n",
    "        self.flatten = nn.Flatten()\n",
    "        self.layers = nn.Sequential(\n",
    "            nn.Linear(input_size, 512),\n",
    "            nn.ReLU(),\n",
    "            nn.Linear(512, 512),\n",
    "            nn.ReLU(),\n",
    "            nn.Linear(512, 3),\n",
    "            nn.Softmax(dim=1)\n",
    "        )\n",
    "\n",
    "    def forward(self, x):\n",
    "        # 'x' comes in as:                minibatch_size x 1 x num_of_feats\n",
    "        # 'rnn_*_hidden' will be:         minibatch_size x 1 x num_of_feats\n",
    "        # --> they both need to be flattened\n",
    "        x = self.flatten(x)\n",
    "        output = self.layers(x)\n",
    "        return output\n",
    "\n",
    "\n",
    "class HybridNetwork(nn.Module):\n",
    "    def __init__(self, rnn_home_model: RNN, rnn_away_model: RNN, mlp_model: NeuralNetwork):\n",
    "        super(HybridNetwork, self).__init__()\n",
    "        self.rnn_home = rnn_home_model\n",
    "        self.rnn_away = rnn_away_model\n",
    "        self.mlp = mlp_model\n",
    "\n",
    "    def forward(self, x, x_historical_home, x_historical_away):\n",
    "        # 'x' comes in as:                minibatch_size x 1 x num_of_feats\n",
    "        # 'x_historical_*' comes in as:   minibatch_size x 5 x num_of_feats\n",
    "        # 'rnn_*_hidden' will be:         minibatch_size x 1 x num_of_feats\n",
    "        batch_size = x.size(0)\n",
    "        time_seq_len = x_historical_home.size(1)\n",
    "        num_of_feats = x_historical_home.size(2)\n",
    "        # RNN HOME FORWARD\n",
    "        rnn_home_hidden = self.rnn_home.init_hidden(batch_size)\n",
    "        for batch_idx in range(batch_size):\n",
    "            for history_idx in range(time_seq_len):\n",
    "                rnn_home_hidden[batch_idx] = self.rnn_home(\n",
    "                    torch.reshape(x_historical_home[batch_idx, history_idx], (1, num_of_feats)),\n",
    "                    rnn_home_hidden[batch_idx])\n",
    "        # RNN AWAY FORWARD\n",
    "        rnn_away_hidden = self.rnn_away.init_hidden(batch_size)\n",
    "        for batch_idx in range(batch_size):\n",
    "            for history_idx in range(time_seq_len):\n",
    "                rnn_away_hidden[batch_idx] = self.rnn_away(\n",
    "                    torch.reshape(x_historical_away[batch_idx, history_idx], (1, num_of_feats)),\n",
    "                    rnn_away_hidden[batch_idx])\n",
    "        # MLP FORWARD\n",
    "        # concat on the features dimension\n",
    "        print(x.shape)\n",
    "        print(rnn_home_hidden.shape)\n",
    "        print(rnn_away_hidden.shape)\n",
    "        x_train = torch.cat([x, rnn_home_hidden, rnn_away_hidden], dim=2)\n",
    "        print(x_train.shape)\n",
    "        y_hat = self.mlp(x_train)\n",
    "        return y_hat"
   ],
   "metadata": {
    "collapsed": false,
    "pycharm": {
     "name": "#%%\n"
    }
   }
  },
  {
   "cell_type": "code",
   "execution_count": 2876,
   "outputs": [],
   "source": [
    "def train_epoch(model: HybridNetwork, dataloader: DataLoader, optimizer: optim.Optimizer, loss_fn, loss_meter):\n",
    "    for x, x_historical_home, x_historical_away, y in dataloader:\n",
    "        # print(x.shape)\n",
    "        # print(f'home_size {x_historical_home.shape}')\n",
    "        # print(f'away_size {x_historical_away.shape}')\n",
    "        if x_historical_home.size(1) == 5 & x_historical_away.size(1) == 5:\n",
    "            optimizer.zero_grad()\n",
    "            y_hat = model(x, x_historical_home, x_historical_away)\n",
    "            print(f'y: {y}')\n",
    "            print(f'y_hat: {y_hat}')\n",
    "            loss = loss_fn(y, y_hat)\n",
    "            loss.backward()\n",
    "            optimizer.step()\n",
    "            loss_meter.update(val=loss.item(), n=x.shape[0])\n",
    "        else:\n",
    "            print(f'skipping...')\n",
    "\n",
    "def train_model(model: HybridNetwork, dataloader: DataLoader, optimizer: optim.Optimizer, loss_fn, num_epochs: int):\n",
    "    model.train()\n",
    "    for epoch in range(num_epochs):\n",
    "        loss_meter = AverageMeter()\n",
    "        train_epoch(model=model, dataloader= dataloader, optimizer=optimizer, loss_fn=loss_fn, loss_meter=loss_meter)\n",
    "        print(f\"Epoch {epoch+1} completed. Training loss: {loss_meter.avg}\")"
   ],
   "metadata": {
    "collapsed": false,
    "pycharm": {
     "name": "#%%\n"
    }
   }
  },
  {
   "cell_type": "code",
   "execution_count": 2877,
   "outputs": [],
   "source": [
    "train_dataset = SerieAFootballMatchesDataset(\n",
    "    csv_file='train.csv', x_encoder=basic_encoder, x_historical_encoder=full_encoder, y_encoder=result_encoder)"
   ],
   "metadata": {
    "collapsed": false,
    "pycharm": {
     "name": "#%%\n"
    }
   }
  },
  {
   "cell_type": "code",
   "execution_count": 2878,
   "outputs": [],
   "source": [
    "train_dataloader = DataLoader(train_dataset, batch_size=3, shuffle=True)\n",
    "# test_dataloader = DataLoader(test_data, batch_size=64, shuffle=True)"
   ],
   "metadata": {
    "collapsed": false,
    "pycharm": {
     "name": "#%%\n"
    }
   }
  },
  {
   "cell_type": "code",
   "execution_count": 2879,
   "outputs": [],
   "source": [
    "learning_rate = 0.01\n",
    "num_epochs = 3\n",
    "hidden_size = 128\n",
    "rnn_home = RNN(input_size=total_num_of_features, hidden_size=hidden_size)\n",
    "rnn_away = RNN(input_size=total_num_of_features, hidden_size=hidden_size)\n",
    "# we have two hidden states (for home and away team) plus all features except for 'home_score', 'away_score' and 'result'\n",
    "mlp = NeuralNetwork(hidden_size * 2 + (total_num_of_features - 3))\n",
    "model = HybridNetwork(rnn_home_model=rnn_home, rnn_away_model=rnn_away, mlp_model=mlp)\n",
    "nll_loss_fn = nn.NLLLoss()\n",
    "optimizer = optim.SGD(model.parameters(), lr=learning_rate)"
   ],
   "metadata": {
    "collapsed": false,
    "pycharm": {
     "name": "#%%\n"
    }
   }
  },
  {
   "cell_type": "code",
   "execution_count": 2880,
   "outputs": [
    {
     "name": "stdout",
     "output_type": "stream",
     "text": [
      "picked index 22\n",
      "padding applied. Initial len: 3 new_len: 5\n",
      "padding applied. Initial len: 3 new_len: 5\n",
      "picked index 170\n",
      "picked index 123\n"
     ]
    },
    {
     "ename": "RuntimeError",
     "evalue": "stack expects each tensor to be equal size, but got [3, 18679] at entry 0 and [5, 18679] at entry 1",
     "output_type": "error",
     "traceback": [
      "\u001B[1;31m---------------------------------------------------------------------------\u001B[0m",
      "\u001B[1;31mRuntimeError\u001B[0m                              Traceback (most recent call last)",
      "Input \u001B[1;32mIn [2880]\u001B[0m, in \u001B[0;36m<cell line: 1>\u001B[1;34m()\u001B[0m\n\u001B[1;32m----> 1\u001B[0m \u001B[43mtrain_model\u001B[49m\u001B[43m(\u001B[49m\u001B[43mmodel\u001B[49m\u001B[38;5;241;43m=\u001B[39;49m\u001B[43mmodel\u001B[49m\u001B[43m,\u001B[49m\u001B[43m \u001B[49m\u001B[43mdataloader\u001B[49m\u001B[38;5;241;43m=\u001B[39;49m\u001B[43mtrain_dataloader\u001B[49m\u001B[43m,\u001B[49m\u001B[43m \u001B[49m\u001B[43moptimizer\u001B[49m\u001B[38;5;241;43m=\u001B[39;49m\u001B[43moptimizer\u001B[49m\u001B[43m,\u001B[49m\u001B[43m \u001B[49m\u001B[43mloss_fn\u001B[49m\u001B[38;5;241;43m=\u001B[39;49m\u001B[43mnll_loss_fn\u001B[49m\u001B[43m,\u001B[49m\u001B[43m \u001B[49m\u001B[43mnum_epochs\u001B[49m\u001B[38;5;241;43m=\u001B[39;49m\u001B[43mnum_epochs\u001B[49m\u001B[43m)\u001B[49m\n",
      "Input \u001B[1;32mIn [2876]\u001B[0m, in \u001B[0;36mtrain_model\u001B[1;34m(model, dataloader, optimizer, loss_fn, num_epochs)\u001B[0m\n\u001B[0;32m     20\u001B[0m \u001B[38;5;28;01mfor\u001B[39;00m epoch \u001B[38;5;129;01min\u001B[39;00m \u001B[38;5;28mrange\u001B[39m(num_epochs):\n\u001B[0;32m     21\u001B[0m     loss_meter \u001B[38;5;241m=\u001B[39m AverageMeter()\n\u001B[1;32m---> 22\u001B[0m     \u001B[43mtrain_epoch\u001B[49m\u001B[43m(\u001B[49m\u001B[43mmodel\u001B[49m\u001B[38;5;241;43m=\u001B[39;49m\u001B[43mmodel\u001B[49m\u001B[43m,\u001B[49m\u001B[43m \u001B[49m\u001B[43mdataloader\u001B[49m\u001B[38;5;241;43m=\u001B[39;49m\u001B[43m \u001B[49m\u001B[43mdataloader\u001B[49m\u001B[43m,\u001B[49m\u001B[43m \u001B[49m\u001B[43moptimizer\u001B[49m\u001B[38;5;241;43m=\u001B[39;49m\u001B[43moptimizer\u001B[49m\u001B[43m,\u001B[49m\u001B[43m \u001B[49m\u001B[43mloss_fn\u001B[49m\u001B[38;5;241;43m=\u001B[39;49m\u001B[43mloss_fn\u001B[49m\u001B[43m,\u001B[49m\u001B[43m \u001B[49m\u001B[43mloss_meter\u001B[49m\u001B[38;5;241;43m=\u001B[39;49m\u001B[43mloss_meter\u001B[49m\u001B[43m)\u001B[49m\n\u001B[0;32m     23\u001B[0m     \u001B[38;5;28mprint\u001B[39m(\u001B[38;5;124mf\u001B[39m\u001B[38;5;124m\"\u001B[39m\u001B[38;5;124mEpoch \u001B[39m\u001B[38;5;132;01m{\u001B[39;00mepoch\u001B[38;5;241m+\u001B[39m\u001B[38;5;241m1\u001B[39m\u001B[38;5;132;01m}\u001B[39;00m\u001B[38;5;124m completed. Training loss: \u001B[39m\u001B[38;5;132;01m{\u001B[39;00mloss_meter\u001B[38;5;241m.\u001B[39mavg\u001B[38;5;132;01m}\u001B[39;00m\u001B[38;5;124m\"\u001B[39m)\n",
      "Input \u001B[1;32mIn [2876]\u001B[0m, in \u001B[0;36mtrain_epoch\u001B[1;34m(model, dataloader, optimizer, loss_fn, loss_meter)\u001B[0m\n\u001B[0;32m      1\u001B[0m \u001B[38;5;28;01mdef\u001B[39;00m \u001B[38;5;21mtrain_epoch\u001B[39m(model: HybridNetwork, dataloader: DataLoader, optimizer: optim\u001B[38;5;241m.\u001B[39mOptimizer, loss_fn, loss_meter):\n\u001B[1;32m----> 2\u001B[0m     \u001B[38;5;28;01mfor\u001B[39;00m x, x_historical_home, x_historical_away, y \u001B[38;5;129;01min\u001B[39;00m dataloader:\n\u001B[0;32m      3\u001B[0m         \u001B[38;5;66;03m# print(x.shape)\u001B[39;00m\n\u001B[0;32m      4\u001B[0m         \u001B[38;5;66;03m# print(f'home_size {x_historical_home.shape}')\u001B[39;00m\n\u001B[0;32m      5\u001B[0m         \u001B[38;5;66;03m# print(f'away_size {x_historical_away.shape}')\u001B[39;00m\n\u001B[0;32m      6\u001B[0m         \u001B[38;5;28;01mif\u001B[39;00m x_historical_home\u001B[38;5;241m.\u001B[39msize(\u001B[38;5;241m1\u001B[39m) \u001B[38;5;241m==\u001B[39m \u001B[38;5;241m5\u001B[39m \u001B[38;5;241m&\u001B[39m x_historical_away\u001B[38;5;241m.\u001B[39msize(\u001B[38;5;241m1\u001B[39m) \u001B[38;5;241m==\u001B[39m \u001B[38;5;241m5\u001B[39m:\n\u001B[0;32m      7\u001B[0m             optimizer\u001B[38;5;241m.\u001B[39mzero_grad()\n",
      "File \u001B[1;32mD:\\Windows\\Programmi\\miniconda3\\envs\\footballprediction\\lib\\site-packages\\torch\\utils\\data\\dataloader.py:530\u001B[0m, in \u001B[0;36m_BaseDataLoaderIter.__next__\u001B[1;34m(self)\u001B[0m\n\u001B[0;32m    528\u001B[0m \u001B[38;5;28;01mif\u001B[39;00m \u001B[38;5;28mself\u001B[39m\u001B[38;5;241m.\u001B[39m_sampler_iter \u001B[38;5;129;01mis\u001B[39;00m \u001B[38;5;28;01mNone\u001B[39;00m:\n\u001B[0;32m    529\u001B[0m     \u001B[38;5;28mself\u001B[39m\u001B[38;5;241m.\u001B[39m_reset()\n\u001B[1;32m--> 530\u001B[0m data \u001B[38;5;241m=\u001B[39m \u001B[38;5;28;43mself\u001B[39;49m\u001B[38;5;241;43m.\u001B[39;49m\u001B[43m_next_data\u001B[49m\u001B[43m(\u001B[49m\u001B[43m)\u001B[49m\n\u001B[0;32m    531\u001B[0m \u001B[38;5;28mself\u001B[39m\u001B[38;5;241m.\u001B[39m_num_yielded \u001B[38;5;241m+\u001B[39m\u001B[38;5;241m=\u001B[39m \u001B[38;5;241m1\u001B[39m\n\u001B[0;32m    532\u001B[0m \u001B[38;5;28;01mif\u001B[39;00m \u001B[38;5;28mself\u001B[39m\u001B[38;5;241m.\u001B[39m_dataset_kind \u001B[38;5;241m==\u001B[39m _DatasetKind\u001B[38;5;241m.\u001B[39mIterable \u001B[38;5;129;01mand\u001B[39;00m \\\n\u001B[0;32m    533\u001B[0m         \u001B[38;5;28mself\u001B[39m\u001B[38;5;241m.\u001B[39m_IterableDataset_len_called \u001B[38;5;129;01mis\u001B[39;00m \u001B[38;5;129;01mnot\u001B[39;00m \u001B[38;5;28;01mNone\u001B[39;00m \u001B[38;5;129;01mand\u001B[39;00m \\\n\u001B[0;32m    534\u001B[0m         \u001B[38;5;28mself\u001B[39m\u001B[38;5;241m.\u001B[39m_num_yielded \u001B[38;5;241m>\u001B[39m \u001B[38;5;28mself\u001B[39m\u001B[38;5;241m.\u001B[39m_IterableDataset_len_called:\n",
      "File \u001B[1;32mD:\\Windows\\Programmi\\miniconda3\\envs\\footballprediction\\lib\\site-packages\\torch\\utils\\data\\dataloader.py:570\u001B[0m, in \u001B[0;36m_SingleProcessDataLoaderIter._next_data\u001B[1;34m(self)\u001B[0m\n\u001B[0;32m    568\u001B[0m \u001B[38;5;28;01mdef\u001B[39;00m \u001B[38;5;21m_next_data\u001B[39m(\u001B[38;5;28mself\u001B[39m):\n\u001B[0;32m    569\u001B[0m     index \u001B[38;5;241m=\u001B[39m \u001B[38;5;28mself\u001B[39m\u001B[38;5;241m.\u001B[39m_next_index()  \u001B[38;5;66;03m# may raise StopIteration\u001B[39;00m\n\u001B[1;32m--> 570\u001B[0m     data \u001B[38;5;241m=\u001B[39m \u001B[38;5;28;43mself\u001B[39;49m\u001B[38;5;241;43m.\u001B[39;49m\u001B[43m_dataset_fetcher\u001B[49m\u001B[38;5;241;43m.\u001B[39;49m\u001B[43mfetch\u001B[49m\u001B[43m(\u001B[49m\u001B[43mindex\u001B[49m\u001B[43m)\u001B[49m  \u001B[38;5;66;03m# may raise StopIteration\u001B[39;00m\n\u001B[0;32m    571\u001B[0m     \u001B[38;5;28;01mif\u001B[39;00m \u001B[38;5;28mself\u001B[39m\u001B[38;5;241m.\u001B[39m_pin_memory:\n\u001B[0;32m    572\u001B[0m         data \u001B[38;5;241m=\u001B[39m _utils\u001B[38;5;241m.\u001B[39mpin_memory\u001B[38;5;241m.\u001B[39mpin_memory(data)\n",
      "File \u001B[1;32mD:\\Windows\\Programmi\\miniconda3\\envs\\footballprediction\\lib\\site-packages\\torch\\utils\\data\\_utils\\fetch.py:52\u001B[0m, in \u001B[0;36m_MapDatasetFetcher.fetch\u001B[1;34m(self, possibly_batched_index)\u001B[0m\n\u001B[0;32m     50\u001B[0m \u001B[38;5;28;01melse\u001B[39;00m:\n\u001B[0;32m     51\u001B[0m     data \u001B[38;5;241m=\u001B[39m \u001B[38;5;28mself\u001B[39m\u001B[38;5;241m.\u001B[39mdataset[possibly_batched_index]\n\u001B[1;32m---> 52\u001B[0m \u001B[38;5;28;01mreturn\u001B[39;00m \u001B[38;5;28;43mself\u001B[39;49m\u001B[38;5;241;43m.\u001B[39;49m\u001B[43mcollate_fn\u001B[49m\u001B[43m(\u001B[49m\u001B[43mdata\u001B[49m\u001B[43m)\u001B[49m\n",
      "File \u001B[1;32mD:\\Windows\\Programmi\\miniconda3\\envs\\footballprediction\\lib\\site-packages\\torch\\utils\\data\\_utils\\collate.py:172\u001B[0m, in \u001B[0;36mdefault_collate\u001B[1;34m(batch)\u001B[0m\n\u001B[0;32m    169\u001B[0m transposed \u001B[38;5;241m=\u001B[39m \u001B[38;5;28mlist\u001B[39m(\u001B[38;5;28mzip\u001B[39m(\u001B[38;5;241m*\u001B[39mbatch))  \u001B[38;5;66;03m# It may be accessed twice, so we use a list.\u001B[39;00m\n\u001B[0;32m    171\u001B[0m \u001B[38;5;28;01mif\u001B[39;00m \u001B[38;5;28misinstance\u001B[39m(elem, \u001B[38;5;28mtuple\u001B[39m):\n\u001B[1;32m--> 172\u001B[0m     \u001B[38;5;28;01mreturn\u001B[39;00m [default_collate(samples) \u001B[38;5;28;01mfor\u001B[39;00m samples \u001B[38;5;129;01min\u001B[39;00m transposed]  \u001B[38;5;66;03m# Backwards compatibility.\u001B[39;00m\n\u001B[0;32m    173\u001B[0m \u001B[38;5;28;01melse\u001B[39;00m:\n\u001B[0;32m    174\u001B[0m     \u001B[38;5;28;01mtry\u001B[39;00m:\n",
      "File \u001B[1;32mD:\\Windows\\Programmi\\miniconda3\\envs\\footballprediction\\lib\\site-packages\\torch\\utils\\data\\_utils\\collate.py:172\u001B[0m, in \u001B[0;36m<listcomp>\u001B[1;34m(.0)\u001B[0m\n\u001B[0;32m    169\u001B[0m transposed \u001B[38;5;241m=\u001B[39m \u001B[38;5;28mlist\u001B[39m(\u001B[38;5;28mzip\u001B[39m(\u001B[38;5;241m*\u001B[39mbatch))  \u001B[38;5;66;03m# It may be accessed twice, so we use a list.\u001B[39;00m\n\u001B[0;32m    171\u001B[0m \u001B[38;5;28;01mif\u001B[39;00m \u001B[38;5;28misinstance\u001B[39m(elem, \u001B[38;5;28mtuple\u001B[39m):\n\u001B[1;32m--> 172\u001B[0m     \u001B[38;5;28;01mreturn\u001B[39;00m [\u001B[43mdefault_collate\u001B[49m\u001B[43m(\u001B[49m\u001B[43msamples\u001B[49m\u001B[43m)\u001B[49m \u001B[38;5;28;01mfor\u001B[39;00m samples \u001B[38;5;129;01min\u001B[39;00m transposed]  \u001B[38;5;66;03m# Backwards compatibility.\u001B[39;00m\n\u001B[0;32m    173\u001B[0m \u001B[38;5;28;01melse\u001B[39;00m:\n\u001B[0;32m    174\u001B[0m     \u001B[38;5;28;01mtry\u001B[39;00m:\n",
      "File \u001B[1;32mD:\\Windows\\Programmi\\miniconda3\\envs\\footballprediction\\lib\\site-packages\\torch\\utils\\data\\_utils\\collate.py:138\u001B[0m, in \u001B[0;36mdefault_collate\u001B[1;34m(batch)\u001B[0m\n\u001B[0;32m    136\u001B[0m         storage \u001B[38;5;241m=\u001B[39m elem\u001B[38;5;241m.\u001B[39mstorage()\u001B[38;5;241m.\u001B[39m_new_shared(numel)\n\u001B[0;32m    137\u001B[0m         out \u001B[38;5;241m=\u001B[39m elem\u001B[38;5;241m.\u001B[39mnew(storage)\u001B[38;5;241m.\u001B[39mresize_(\u001B[38;5;28mlen\u001B[39m(batch), \u001B[38;5;241m*\u001B[39m\u001B[38;5;28mlist\u001B[39m(elem\u001B[38;5;241m.\u001B[39msize()))\n\u001B[1;32m--> 138\u001B[0m     \u001B[38;5;28;01mreturn\u001B[39;00m \u001B[43mtorch\u001B[49m\u001B[38;5;241;43m.\u001B[39;49m\u001B[43mstack\u001B[49m\u001B[43m(\u001B[49m\u001B[43mbatch\u001B[49m\u001B[43m,\u001B[49m\u001B[43m \u001B[49m\u001B[38;5;241;43m0\u001B[39;49m\u001B[43m,\u001B[49m\u001B[43m \u001B[49m\u001B[43mout\u001B[49m\u001B[38;5;241;43m=\u001B[39;49m\u001B[43mout\u001B[49m\u001B[43m)\u001B[49m\n\u001B[0;32m    139\u001B[0m \u001B[38;5;28;01melif\u001B[39;00m elem_type\u001B[38;5;241m.\u001B[39m\u001B[38;5;18m__module__\u001B[39m \u001B[38;5;241m==\u001B[39m \u001B[38;5;124m'\u001B[39m\u001B[38;5;124mnumpy\u001B[39m\u001B[38;5;124m'\u001B[39m \u001B[38;5;129;01mand\u001B[39;00m elem_type\u001B[38;5;241m.\u001B[39m\u001B[38;5;18m__name__\u001B[39m \u001B[38;5;241m!=\u001B[39m \u001B[38;5;124m'\u001B[39m\u001B[38;5;124mstr_\u001B[39m\u001B[38;5;124m'\u001B[39m \\\n\u001B[0;32m    140\u001B[0m         \u001B[38;5;129;01mand\u001B[39;00m elem_type\u001B[38;5;241m.\u001B[39m\u001B[38;5;18m__name__\u001B[39m \u001B[38;5;241m!=\u001B[39m \u001B[38;5;124m'\u001B[39m\u001B[38;5;124mstring_\u001B[39m\u001B[38;5;124m'\u001B[39m:\n\u001B[0;32m    141\u001B[0m     \u001B[38;5;28;01mif\u001B[39;00m elem_type\u001B[38;5;241m.\u001B[39m\u001B[38;5;18m__name__\u001B[39m \u001B[38;5;241m==\u001B[39m \u001B[38;5;124m'\u001B[39m\u001B[38;5;124mndarray\u001B[39m\u001B[38;5;124m'\u001B[39m \u001B[38;5;129;01mor\u001B[39;00m elem_type\u001B[38;5;241m.\u001B[39m\u001B[38;5;18m__name__\u001B[39m \u001B[38;5;241m==\u001B[39m \u001B[38;5;124m'\u001B[39m\u001B[38;5;124mmemmap\u001B[39m\u001B[38;5;124m'\u001B[39m:\n\u001B[0;32m    142\u001B[0m         \u001B[38;5;66;03m# array of string classes and object\u001B[39;00m\n",
      "\u001B[1;31mRuntimeError\u001B[0m: stack expects each tensor to be equal size, but got [3, 18679] at entry 0 and [5, 18679] at entry 1"
     ]
    }
   ],
   "source": [
    "train_model(model=model, dataloader=train_dataloader, optimizer=optimizer, loss_fn=nll_loss_fn, num_epochs=num_epochs)"
   ],
   "metadata": {
    "collapsed": false,
    "pycharm": {
     "name": "#%%\n"
    }
   }
  },
  {
   "cell_type": "markdown",
   "source": [
    "# Missing data\n",
    "- We don't have data about new players that come to play in _Serie A_ during the course of the seasons. The model has to learn from zero context how important their contribution is for the outcome of the matches. If we were to considered multiple leagues, we could keep track of player transfers and maintain the history.\n",
    "- We don't have data about cup matches played during the course of the seasons, like _Champions League_, _Europa League_ and _Coppa Italia_. Since they are very prestigious competitions and matches are usually very competitive, teams put a lot of effort in them and therefore can then perform worse in the championship.\n",
    "- We don't have any type of player performance metric like who scored a goal, who was the assist man, red or yellow cards, goalkeeper's saves etc. so the model could face some difficulties in learning which player is important for the team."
   ],
   "metadata": {
    "collapsed": false,
    "pycharm": {
     "name": "#%% md\n"
    }
   }
  },
  {
   "cell_type": "markdown",
   "source": [],
   "metadata": {
    "collapsed": false,
    "pycharm": {
     "name": "#%% md\n"
    }
   }
  }
 ],
 "metadata": {
  "kernelspec": {
   "display_name": "Python 3",
   "language": "python",
   "name": "python3"
  },
  "language_info": {
   "codemirror_mode": {
    "name": "ipython",
    "version": 2
   },
   "file_extension": ".py",
   "mimetype": "text/x-python",
   "name": "python",
   "nbconvert_exporter": "python",
   "pygments_lexer": "ipython2",
   "version": "2.7.6"
  }
 },
 "nbformat": 4,
 "nbformat_minor": 0
}