{
 "cells": [
  {
   "cell_type": "markdown",
   "source": [
    "# Football matches result prediction\n",
    "\n",
    "Let's try to predict *Serie A* matches result (i.e. home win, away win or draw) with a RNN."
   ],
   "metadata": {
    "collapsed": false,
    "pycharm": {
     "name": "#%% md\n"
    }
   }
  },
  {
   "cell_type": "markdown",
   "source": [
    "## Introduction\n",
    "\n",
    "- The dataset was created by scraping *Serie A* matches data starting from season 2005-06 to season 2020-21\n",
    "- Cup matches (*Champions League*, *Europa League*, *Coppa Italia*) played over the course of each season were not taken into account"
   ],
   "metadata": {
    "collapsed": false,
    "pycharm": {
     "name": "#%% md\n"
    }
   }
  },
  {
   "cell_type": "code",
   "execution_count": 258,
   "outputs": [],
   "source": [
    "import pandas as pd\n",
    "from _MatchNotFoundException import MatchNotFoundException\n",
    "from HomeOrAway import HomeOrAway\n",
    "from MatchResult import MatchResult"
   ],
   "metadata": {
    "collapsed": false,
    "pycharm": {
     "name": "#%%\n"
    }
   }
  },
  {
   "cell_type": "code",
   "execution_count": 259,
   "outputs": [],
   "source": [
    "match_cols = ['season', 'round'] + \\\n",
    "             ['date', 'time', 'referee', 'home_team', 'away_team', 'home_team_score', 'away_team_score'] + \\\n",
    "             ['home_team_coach'] + \\\n",
    "             ['home_player_' + str(i) for i in range(1, 12)] + \\\n",
    "             ['home_substitute_' + str(i) for i in range(1, 8)] + \\\n",
    "             ['away_team_coach'] + \\\n",
    "             ['away_player_' + str(i) for i in range(1, 12)] + \\\n",
    "             ['away_substitute_' + str(i) for i in range(1, 8)]"
   ],
   "metadata": {
    "collapsed": false,
    "pycharm": {
     "name": "#%%\n"
    }
   }
  },
  {
   "cell_type": "code",
   "execution_count": 260,
   "outputs": [
    {
     "data": {
      "text/plain": "    season  round        date   time             referee   home_team  \\\n0  2005-06      1  28/08/2005  15:00          MASSIMO DE      ASCOLI   \n1  2005-06      1  27/08/2005  20:30  GIANLUCA PAPARESTA  FIORENTINA   \n2  2005-06      1  28/08/2005  15:00       TIZIANO PIERI       PARMA   \n3  2005-06      1  28/08/2005  15:00   PAOLO TAGLIAVENTO       INTER   \n4  2005-06      1  27/08/2005  18:00     GIANLUCA ROCCHI     LIVORNO   \n\n   away_team  home_team_score  away_team_score   home_team_coach  ...  \\\n0      MILAN                1                1     Massimo Silva  ...   \n1  SAMPDORIA                2                1  Cesare Prandelli  ...   \n2    PALERMO                1                1     Mario Beretta  ...   \n3    TREVISO                3                0   Roberto Mancini  ...   \n4      LECCE                2                1  Roberto Donadoni  ...   \n\n     away_player_9     away_player_10      away_player_11  away_substitute_1  \\\n0             Kaka  Andriy Shevchenko   Alberto Gilardino  Marek Jankulovski   \n1   Lamberto Zauli   Francesco Flachi  Emiliano Bonazzoli       Marco Pisano   \n2  Massimo Bonanni  Andrea Caracciolo     Stephen Makinwa     Nicola Santoni   \n3        Reginaldo     Luigi Beghetto               Pinga  Roberto Chiappara   \n4     Alex Pinardi   Aleksei Eremenko      Graziano Pelle   Alfonso Camorani   \n\n  away_substitute_2   away_substitute_3  away_substitute_4  \\\n0  Clarence Seedorf        Zeljko Kalac    Gennaro Gattuso   \n1   Vitaliy Kutuzov     Marco Borriello   Luca Castellazzi   \n2    Franco Brienza   Massimo Mutarelli     Giuseppe Biava   \n3         Dino Fava     Jehad Muntasser    Adriano Zancope   \n4      Jaime Valdes  Giuseppe Cozzolino  Francesco Benussi   \n\n       away_substitute_5   away_substitute_6  away_substitute_7  \n0       Manuel Rui Costa        Johann Vogel        Dario Simic  \n1          Marco Zamboni        Simone Pavan   Gionata Mingozzi  \n2          Michele Ferri    Mariano Gonzalez        Simone Pepe  \n3  Francesco Parravicini            Anderson  Alberto Giuliatto  \n4         Marco Pecorari  Giuseppe Abruzzese    Davide Giorgino  \n\n[5 rows x 47 columns]",
      "text/html": "<div>\n<style scoped>\n    .dataframe tbody tr th:only-of-type {\n        vertical-align: middle;\n    }\n\n    .dataframe tbody tr th {\n        vertical-align: top;\n    }\n\n    .dataframe thead th {\n        text-align: right;\n    }\n</style>\n<table border=\"1\" class=\"dataframe\">\n  <thead>\n    <tr style=\"text-align: right;\">\n      <th></th>\n      <th>season</th>\n      <th>round</th>\n      <th>date</th>\n      <th>time</th>\n      <th>referee</th>\n      <th>home_team</th>\n      <th>away_team</th>\n      <th>home_team_score</th>\n      <th>away_team_score</th>\n      <th>home_team_coach</th>\n      <th>...</th>\n      <th>away_player_9</th>\n      <th>away_player_10</th>\n      <th>away_player_11</th>\n      <th>away_substitute_1</th>\n      <th>away_substitute_2</th>\n      <th>away_substitute_3</th>\n      <th>away_substitute_4</th>\n      <th>away_substitute_5</th>\n      <th>away_substitute_6</th>\n      <th>away_substitute_7</th>\n    </tr>\n  </thead>\n  <tbody>\n    <tr>\n      <th>0</th>\n      <td>2005-06</td>\n      <td>1</td>\n      <td>28/08/2005</td>\n      <td>15:00</td>\n      <td>MASSIMO DE</td>\n      <td>ASCOLI</td>\n      <td>MILAN</td>\n      <td>1</td>\n      <td>1</td>\n      <td>Massimo Silva</td>\n      <td>...</td>\n      <td>Kaka</td>\n      <td>Andriy Shevchenko</td>\n      <td>Alberto Gilardino</td>\n      <td>Marek Jankulovski</td>\n      <td>Clarence Seedorf</td>\n      <td>Zeljko Kalac</td>\n      <td>Gennaro Gattuso</td>\n      <td>Manuel Rui Costa</td>\n      <td>Johann Vogel</td>\n      <td>Dario Simic</td>\n    </tr>\n    <tr>\n      <th>1</th>\n      <td>2005-06</td>\n      <td>1</td>\n      <td>27/08/2005</td>\n      <td>20:30</td>\n      <td>GIANLUCA PAPARESTA</td>\n      <td>FIORENTINA</td>\n      <td>SAMPDORIA</td>\n      <td>2</td>\n      <td>1</td>\n      <td>Cesare Prandelli</td>\n      <td>...</td>\n      <td>Lamberto Zauli</td>\n      <td>Francesco Flachi</td>\n      <td>Emiliano Bonazzoli</td>\n      <td>Marco Pisano</td>\n      <td>Vitaliy Kutuzov</td>\n      <td>Marco Borriello</td>\n      <td>Luca Castellazzi</td>\n      <td>Marco Zamboni</td>\n      <td>Simone Pavan</td>\n      <td>Gionata Mingozzi</td>\n    </tr>\n    <tr>\n      <th>2</th>\n      <td>2005-06</td>\n      <td>1</td>\n      <td>28/08/2005</td>\n      <td>15:00</td>\n      <td>TIZIANO PIERI</td>\n      <td>PARMA</td>\n      <td>PALERMO</td>\n      <td>1</td>\n      <td>1</td>\n      <td>Mario Beretta</td>\n      <td>...</td>\n      <td>Massimo Bonanni</td>\n      <td>Andrea Caracciolo</td>\n      <td>Stephen Makinwa</td>\n      <td>Nicola Santoni</td>\n      <td>Franco Brienza</td>\n      <td>Massimo Mutarelli</td>\n      <td>Giuseppe Biava</td>\n      <td>Michele Ferri</td>\n      <td>Mariano Gonzalez</td>\n      <td>Simone Pepe</td>\n    </tr>\n    <tr>\n      <th>3</th>\n      <td>2005-06</td>\n      <td>1</td>\n      <td>28/08/2005</td>\n      <td>15:00</td>\n      <td>PAOLO TAGLIAVENTO</td>\n      <td>INTER</td>\n      <td>TREVISO</td>\n      <td>3</td>\n      <td>0</td>\n      <td>Roberto Mancini</td>\n      <td>...</td>\n      <td>Reginaldo</td>\n      <td>Luigi Beghetto</td>\n      <td>Pinga</td>\n      <td>Roberto Chiappara</td>\n      <td>Dino Fava</td>\n      <td>Jehad Muntasser</td>\n      <td>Adriano Zancope</td>\n      <td>Francesco Parravicini</td>\n      <td>Anderson</td>\n      <td>Alberto Giuliatto</td>\n    </tr>\n    <tr>\n      <th>4</th>\n      <td>2005-06</td>\n      <td>1</td>\n      <td>27/08/2005</td>\n      <td>18:00</td>\n      <td>GIANLUCA ROCCHI</td>\n      <td>LIVORNO</td>\n      <td>LECCE</td>\n      <td>2</td>\n      <td>1</td>\n      <td>Roberto Donadoni</td>\n      <td>...</td>\n      <td>Alex Pinardi</td>\n      <td>Aleksei Eremenko</td>\n      <td>Graziano Pelle</td>\n      <td>Alfonso Camorani</td>\n      <td>Jaime Valdes</td>\n      <td>Giuseppe Cozzolino</td>\n      <td>Francesco Benussi</td>\n      <td>Marco Pecorari</td>\n      <td>Giuseppe Abruzzese</td>\n      <td>Davide Giorgino</td>\n    </tr>\n  </tbody>\n</table>\n<p>5 rows × 47 columns</p>\n</div>"
     },
     "execution_count": 260,
     "metadata": {},
     "output_type": "execute_result"
    }
   ],
   "source": [
    "raw_data = pd.read_csv('raw.csv')\n",
    "raw_data.head()"
   ],
   "metadata": {
    "collapsed": false,
    "pycharm": {
     "name": "#%%\n"
    }
   }
  },
  {
   "cell_type": "markdown",
   "source": [
    "## Data visualization\n",
    "\n",
    "Let's inspect our data a little bit more"
   ],
   "metadata": {
    "collapsed": false,
    "pycharm": {
     "name": "#%% md\n"
    }
   }
  },
  {
   "cell_type": "code",
   "execution_count": 261,
   "outputs": [],
   "source": [
    "# todo"
   ],
   "metadata": {
    "collapsed": false,
    "pycharm": {
     "name": "#%%\n"
    }
   }
  },
  {
   "cell_type": "markdown",
   "source": [
    "## Dataset construction\n",
    "Now let's clean our raw data and construct the dataset. The full process for preparing the data is:\n",
    "- Convert date string values to pandas datetime values\n",
    "- Convert round string values to integers\n",
    "- Construct and add historical features\n",
    "- Derive match results from scores\n",
    "- Encode data"
   ],
   "metadata": {
    "collapsed": false,
    "pycharm": {
     "name": "#%% md\n"
    }
   }
  },
  {
   "cell_type": "code",
   "execution_count": 262,
   "outputs": [],
   "source": [
    "df = pd.DataFrame(raw_data)\n",
    "df = df[:200]"
   ],
   "metadata": {
    "collapsed": false,
    "pycharm": {
     "name": "#%%\n"
    }
   }
  },
  {
   "cell_type": "code",
   "execution_count": 263,
   "outputs": [],
   "source": [
    "# convert date str to datetime\n",
    "df['date'] = pd.to_datetime(df['date'], infer_datetime_format=True)\n",
    "# sort by date column\n",
    "df = df.sort_values(by='date')\n",
    "df = df.reset_index(drop=True)\n",
    "# convert 'round' values to int\n",
    "df['round'] = df['round'].astype(int)"
   ],
   "metadata": {
    "collapsed": false,
    "pycharm": {
     "name": "#%%\n"
    }
   }
  },
  {
   "cell_type": "markdown",
   "source": [
    "### Historical features\n",
    "In order to train an RNN model, we need to have series of football games, so the goal of this section is to add some historical features that will carry information about the last five games played by the home and away team of each match in the dataset."
   ],
   "metadata": {
    "collapsed": false,
    "pycharm": {
     "name": "#%% md\n"
    }
   }
  },
  {
   "cell_type": "code",
   "execution_count": 264,
   "outputs": [],
   "source": [
    "def get_match_index_by_match(match: pd.DataFrame) -> int:\n",
    "    return match.index.tolist()[0]\n",
    "\n",
    "\n",
    "def is_team_home_or_away_in_match(team_name: str, match: pd.DataFrame):\n",
    "    home_team = match.squeeze()['home_team']\n",
    "    if home_team == team_name:\n",
    "        return 'home'\n",
    "    else:\n",
    "        return 'away'\n",
    "\n",
    "\n",
    "def get_last_match_played_by_team(df: pd.DataFrame, target_match_index: int, team_name: str) -> pd.DataFrame:\n",
    "    \"\"\"\n",
    "    Find in df the last match played by team_name prior to the game identified by target_match_index\n",
    "    :param df: where to search\n",
    "    :param target_match_index: the index in df of the target match\n",
    "    :param team_name: name of the team that has played the target match\n",
    "    :return:\n",
    "    \"\"\"\n",
    "    for i in reversed(range(target_match_index)):\n",
    "        current_match = df.iloc[[i]]  # dataframe\n",
    "        if current_match.at[i, 'home_team'] == team_name or current_match.at[i, 'away_team'] == team_name:\n",
    "            return current_match\n",
    "    raise MatchNotFoundException(f'Previous match for team {team_name} was not found')\n",
    "\n",
    "\n",
    "def get_last_five_matches_played_by_team(df: pd.DataFrame, target_match_index: int, team_name: str) -> list[pd.Series]:\n",
    "    \"\"\"\n",
    "    Find in df the last five matches played by team_name prior to the game identified by match_index\n",
    "    :param df: where to search\n",
    "    :param target_match_index: target match index in df\n",
    "    :param team_name: the name of the team that has played all the last five matches\n",
    "    :return:\n",
    "    \"\"\"\n",
    "    match = df.iloc[[target_match_index]]  # dataframe\n",
    "    last_match_found = match\n",
    "    last_five_matches = []\n",
    "    for i in range(1, 6):\n",
    "        try:\n",
    "            last_match_found = get_last_match_played_by_team(df, get_match_index_by_match(last_match_found), team_name)\n",
    "            last_five_matches.append(last_match_found.squeeze())\n",
    "        except MatchNotFoundException:\n",
    "            pass\n",
    "    return last_five_matches\n",
    "\n",
    "\n",
    "def construct_historical_features_of_last_five_matches_for_target_match(target_match_index: int,\n",
    "                                                                        target_home_or_away: HomeOrAway,\n",
    "                                                                        last_five_matches: list[\n",
    "                                                                            pd.Series]) -> pd.DataFrame:\n",
    "    \"\"\"\n",
    "    Build a dataframe containing information about the last five matches played by home or away team of target match as historical features.\n",
    "    :param target_match_index: the index of the target match in df\n",
    "    :param target_home_or_away: tells whether the five matches has been played by the home or away team of target match\n",
    "    :param last_five_matches: a list containing the last five matches\n",
    "    :return:\n",
    "    \"\"\"\n",
    "    # Init columns for 5 historical matches\n",
    "    historical_cols = [f'{target_home_or_away.name}_team_history_{i}_{colName}' for i in range(1, 6) for colName in\n",
    "                       match_cols]\n",
    "    # Init empty DataFrame with those columns and specific index\n",
    "    result = pd.DataFrame(columns=historical_cols, index=[target_match_index])\n",
    "    # Copy values into DataFrame\n",
    "    for i in range(len(last_five_matches)):\n",
    "        source_match = last_five_matches[i]\n",
    "        for colName, colValue in source_match.iteritems():\n",
    "            result.at[target_match_index, f'{target_home_or_away.name}_team_history_{i + 1}_{colName}'] = colValue\n",
    "    return result\n",
    "\n",
    "\n",
    "def add_historical_features_of_last_five_matches_for_all_matches(df: pd.DataFrame) -> pd.DataFrame:\n",
    "    \"\"\"\n",
    "    Construct a new dataframe adding information about the last five matches played by home and away team of all matches in df\n",
    "    :param df: source of data\n",
    "    :return: a new dataframe\n",
    "    \"\"\"\n",
    "    new_df = pd.DataFrame()\n",
    "    # for each row in dataframe\n",
    "    for index, row in df.iterrows():\n",
    "        team = row['home_team']\n",
    "        home_team_historical_df = construct_historical_features_of_last_five_matches_for_target_match(\n",
    "            index, HomeOrAway.home, get_last_five_matches_played_by_team(df, index, team)\n",
    "        )\n",
    "        team = row['away_team']\n",
    "        away_team_historical_df = construct_historical_features_of_last_five_matches_for_target_match(\n",
    "            index, HomeOrAway.away, get_last_five_matches_played_by_team(df, index, team)\n",
    "        )\n",
    "        new_row_as_df = pd.concat([df.iloc[[index]], home_team_historical_df, away_team_historical_df], axis=1)\n",
    "        new_df = pd.concat([new_df, new_row_as_df], axis=0)\n",
    "    return new_df"
   ],
   "metadata": {
    "collapsed": false,
    "pycharm": {
     "name": "#%%\n"
    }
   }
  },
  {
   "cell_type": "code",
   "execution_count": 265,
   "outputs": [],
   "source": [
    "# Construct historical features\n",
    "df1 = add_historical_features_of_last_five_matches_for_all_matches(df)"
   ],
   "metadata": {
    "collapsed": false,
    "pycharm": {
     "name": "#%%\n"
    }
   }
  },
  {
   "cell_type": "code",
   "execution_count": 266,
   "outputs": [],
   "source": [
    "# Remove the matches that do not have values for all historical features\n",
    "df1 = df1.dropna()\n",
    "df1 = df1.reset_index(drop=True)"
   ],
   "metadata": {
    "collapsed": false,
    "pycharm": {
     "name": "#%%\n"
    }
   }
  },
  {
   "cell_type": "code",
   "execution_count": 267,
   "outputs": [
    {
     "data": {
      "text/plain": "    season  round       date   time          referee     home_team  away_team  \\\n0  2005-06      6 2005-10-01  20:30  ROBERTO ROSETTI       UDINESE      LAZIO   \n1  2005-06      6 2005-10-01  18:00  MARIO MAZZOLENI  CHIEVOVERONA    TREVISO   \n2  2005-06      6 2005-10-02  15:00       MASSIMO DE       MESSINA  SAMPDORIA   \n3  2005-06      6 2005-10-02  15:00       LUCA BANTI       PALERMO     EMPOLI   \n4  2005-06      6 2005-10-02  15:00    OSCAR GIRARDI         LECCE   CAGLIARI   \n\n   home_team_score  away_team_score  home_team_coach  ...  \\\n0                3                0      Serse Cosmi  ...   \n1                0                0  Giuseppe Pillon  ...   \n2                1                4    Bortolo Mutti  ...   \n3                2                2    Luigi Delneri  ...   \n4                3                0   Silvio Baldini  ...   \n\n  away_team_history_5_away_player_9 away_team_history_5_away_player_10  \\\n0                 Gaetano DAgostino                    Giuseppe Sculli   \n1                         Reginaldo                     Luigi Beghetto   \n2                    Lamberto Zauli                   Francesco Flachi   \n3                   Matteo Serafini                   Francesco Tavano   \n4                    Mauro Esposito                        David Suazo   \n\n  away_team_history_5_away_player_11 away_team_history_5_away_substitute_1  \\\n0                  Riccardo Zampagna                      Arturo Di Napoli   \n1                              Pinga                     Roberto Chiappara   \n2                 Emiliano Bonazzoli                          Marco Pisano   \n3                    Ighli Vannucchi                        Francesco Lodi   \n4                       Andrea Cossu                         Andrea Capone   \n\n  away_team_history_5_away_substitute_2 away_team_history_5_away_substitute_3  \\\n0                     Zlatan Muslimovic                           Ivica Iliev   \n1                             Dino Fava                       Jehad Muntasser   \n2                       Vitaliy Kutuzov                       Marco Borriello   \n3                          Nicola Pozzi                         Daniele Balli   \n4                      Alessandro Budel                     Claudio Ferrarese   \n\n  away_team_history_5_away_substitute_4 away_team_history_5_away_substitute_5  \\\n0                         Marco Storari                     Filippo Cristante   \n1                       Adriano Zancope                 Francesco Parravicini   \n2                      Luca Castellazzi                         Marco Zamboni   \n3                           Davide Moro                         Paolo Zanetti   \n4                     Andrea Campagnolo                         Fabio Vignati   \n\n  away_team_history_5_away_substitute_6 away_team_history_5_away_substitute_7  \n0                            Luca Fusco                    Atsushi Yanagisawa  \n1                              Anderson                     Alberto Giuliatto  \n2                          Simone Pavan                      Gionata Mingozzi  \n3                          Andrea Raggi                     Francesco Pratali  \n4                      Francesco Pisano                          Claudio Pani  \n\n[5 rows x 517 columns]",
      "text/html": "<div>\n<style scoped>\n    .dataframe tbody tr th:only-of-type {\n        vertical-align: middle;\n    }\n\n    .dataframe tbody tr th {\n        vertical-align: top;\n    }\n\n    .dataframe thead th {\n        text-align: right;\n    }\n</style>\n<table border=\"1\" class=\"dataframe\">\n  <thead>\n    <tr style=\"text-align: right;\">\n      <th></th>\n      <th>season</th>\n      <th>round</th>\n      <th>date</th>\n      <th>time</th>\n      <th>referee</th>\n      <th>home_team</th>\n      <th>away_team</th>\n      <th>home_team_score</th>\n      <th>away_team_score</th>\n      <th>home_team_coach</th>\n      <th>...</th>\n      <th>away_team_history_5_away_player_9</th>\n      <th>away_team_history_5_away_player_10</th>\n      <th>away_team_history_5_away_player_11</th>\n      <th>away_team_history_5_away_substitute_1</th>\n      <th>away_team_history_5_away_substitute_2</th>\n      <th>away_team_history_5_away_substitute_3</th>\n      <th>away_team_history_5_away_substitute_4</th>\n      <th>away_team_history_5_away_substitute_5</th>\n      <th>away_team_history_5_away_substitute_6</th>\n      <th>away_team_history_5_away_substitute_7</th>\n    </tr>\n  </thead>\n  <tbody>\n    <tr>\n      <th>0</th>\n      <td>2005-06</td>\n      <td>6</td>\n      <td>2005-10-01</td>\n      <td>20:30</td>\n      <td>ROBERTO ROSETTI</td>\n      <td>UDINESE</td>\n      <td>LAZIO</td>\n      <td>3</td>\n      <td>0</td>\n      <td>Serse Cosmi</td>\n      <td>...</td>\n      <td>Gaetano DAgostino</td>\n      <td>Giuseppe Sculli</td>\n      <td>Riccardo Zampagna</td>\n      <td>Arturo Di Napoli</td>\n      <td>Zlatan Muslimovic</td>\n      <td>Ivica Iliev</td>\n      <td>Marco Storari</td>\n      <td>Filippo Cristante</td>\n      <td>Luca Fusco</td>\n      <td>Atsushi Yanagisawa</td>\n    </tr>\n    <tr>\n      <th>1</th>\n      <td>2005-06</td>\n      <td>6</td>\n      <td>2005-10-01</td>\n      <td>18:00</td>\n      <td>MARIO MAZZOLENI</td>\n      <td>CHIEVOVERONA</td>\n      <td>TREVISO</td>\n      <td>0</td>\n      <td>0</td>\n      <td>Giuseppe Pillon</td>\n      <td>...</td>\n      <td>Reginaldo</td>\n      <td>Luigi Beghetto</td>\n      <td>Pinga</td>\n      <td>Roberto Chiappara</td>\n      <td>Dino Fava</td>\n      <td>Jehad Muntasser</td>\n      <td>Adriano Zancope</td>\n      <td>Francesco Parravicini</td>\n      <td>Anderson</td>\n      <td>Alberto Giuliatto</td>\n    </tr>\n    <tr>\n      <th>2</th>\n      <td>2005-06</td>\n      <td>6</td>\n      <td>2005-10-02</td>\n      <td>15:00</td>\n      <td>MASSIMO DE</td>\n      <td>MESSINA</td>\n      <td>SAMPDORIA</td>\n      <td>1</td>\n      <td>4</td>\n      <td>Bortolo Mutti</td>\n      <td>...</td>\n      <td>Lamberto Zauli</td>\n      <td>Francesco Flachi</td>\n      <td>Emiliano Bonazzoli</td>\n      <td>Marco Pisano</td>\n      <td>Vitaliy Kutuzov</td>\n      <td>Marco Borriello</td>\n      <td>Luca Castellazzi</td>\n      <td>Marco Zamboni</td>\n      <td>Simone Pavan</td>\n      <td>Gionata Mingozzi</td>\n    </tr>\n    <tr>\n      <th>3</th>\n      <td>2005-06</td>\n      <td>6</td>\n      <td>2005-10-02</td>\n      <td>15:00</td>\n      <td>LUCA BANTI</td>\n      <td>PALERMO</td>\n      <td>EMPOLI</td>\n      <td>2</td>\n      <td>2</td>\n      <td>Luigi Delneri</td>\n      <td>...</td>\n      <td>Matteo Serafini</td>\n      <td>Francesco Tavano</td>\n      <td>Ighli Vannucchi</td>\n      <td>Francesco Lodi</td>\n      <td>Nicola Pozzi</td>\n      <td>Daniele Balli</td>\n      <td>Davide Moro</td>\n      <td>Paolo Zanetti</td>\n      <td>Andrea Raggi</td>\n      <td>Francesco Pratali</td>\n    </tr>\n    <tr>\n      <th>4</th>\n      <td>2005-06</td>\n      <td>6</td>\n      <td>2005-10-02</td>\n      <td>15:00</td>\n      <td>OSCAR GIRARDI</td>\n      <td>LECCE</td>\n      <td>CAGLIARI</td>\n      <td>3</td>\n      <td>0</td>\n      <td>Silvio Baldini</td>\n      <td>...</td>\n      <td>Mauro Esposito</td>\n      <td>David Suazo</td>\n      <td>Andrea Cossu</td>\n      <td>Andrea Capone</td>\n      <td>Alessandro Budel</td>\n      <td>Claudio Ferrarese</td>\n      <td>Andrea Campagnolo</td>\n      <td>Fabio Vignati</td>\n      <td>Francesco Pisano</td>\n      <td>Claudio Pani</td>\n    </tr>\n  </tbody>\n</table>\n<p>5 rows × 517 columns</p>\n</div>"
     },
     "execution_count": 267,
     "metadata": {},
     "output_type": "execute_result"
    }
   ],
   "source": [
    "df1.head()"
   ],
   "metadata": {
    "collapsed": false,
    "pycharm": {
     "name": "#%%\n"
    }
   }
  },
  {
   "cell_type": "markdown",
   "source": [
    "As expected, the first few retained matches comes from round 6, as we have considered 5 games for historical features."
   ],
   "metadata": {
    "collapsed": false,
    "pycharm": {
     "name": "#%% md\n"
    }
   }
  },
  {
   "cell_type": "code",
   "execution_count": 268,
   "outputs": [],
   "source": [
    "# re-convert all date values to datetime\n",
    "for colName, colValue in df1.iteritems():\n",
    "    if colName.endswith('date'):\n",
    "        df1[colName] = pd.to_datetime(df1[colName], infer_datetime_format=True)"
   ],
   "metadata": {
    "collapsed": false,
    "pycharm": {
     "name": "#%%\n"
    }
   }
  },
  {
   "cell_type": "code",
   "execution_count": 269,
   "outputs": [
    {
     "data": {
      "text/plain": "(138, 517)"
     },
     "execution_count": 269,
     "metadata": {},
     "output_type": "execute_result"
    }
   ],
   "source": [
    "df1.shape"
   ],
   "metadata": {
    "collapsed": false,
    "pycharm": {
     "name": "#%%\n"
    }
   }
  },
  {
   "cell_type": "markdown",
   "source": [
    "### Result column\n",
    "We don't care so much about scores because our model will try to predict match results, i.e. home win, away win or draw. We need a result column to be used as our target column, so let's construct it from the scores."
   ],
   "metadata": {
    "collapsed": false,
    "pycharm": {
     "name": "#%% md\n"
    }
   }
  },
  {
   "cell_type": "code",
   "execution_count": 270,
   "outputs": [],
   "source": [
    "def get_match_result_from_score(home_team_score: int, away_team_score: int) -> MatchResult:\n",
    "    if home_team_score == away_team_score:\n",
    "        return MatchResult.draw\n",
    "    if home_team_score > away_team_score:\n",
    "        return MatchResult.home\n",
    "    return MatchResult.away\n",
    "\n",
    "\n",
    "def add_target_column(df: pd.DataFrame) -> pd.DataFrame:\n",
    "    results = {'result': []}\n",
    "    for i in range(5):\n",
    "        results[f'home_team_history_{i+1}_result'] = []\n",
    "        results[f'away_team_history_{i+1}_result'] = []\n",
    "    for index, row in df.iterrows():\n",
    "        results['result'] += [get_match_result_from_score(row['home_team_score'], row['away_team_score']).name]\n",
    "        for i in range(5):\n",
    "            results[f'home_team_history_{i+1}_result'] += \\\n",
    "                [get_match_result_from_score(row[f'home_team_history_{i+1}_home_team_score'], row[f'home_team_history_{i+1}_away_team_score']).name]\n",
    "            results[f'away_team_history_{i+1}_result'] += \\\n",
    "                [get_match_result_from_score(row[f'away_team_history_{i+1}_home_team_score'], row[f'away_team_history_{i+1}_away_team_score']).name]\n",
    "    df.insert(loc=df.columns.get_loc('home_team_score'), column='result', value=results['result'])\n",
    "    for i in range(5):\n",
    "        df.insert(loc=df.columns.get_loc(f'home_team_history_{i+1}_home_team_score'), column=f'home_team_history_{i+1}_result', value=results[f'home_team_history_{i+1}_result'])\n",
    "        df.insert(loc=df.columns.get_loc(f'away_team_history_{i+1}_home_team_score'), column=f'away_team_history_{i+1}_result', value=results[f'away_team_history_{i+1}_result'])\n",
    "    return df"
   ],
   "metadata": {
    "collapsed": false,
    "pycharm": {
     "name": "#%%\n"
    }
   }
  },
  {
   "cell_type": "code",
   "execution_count": 271,
   "outputs": [
    {
     "data": {
      "text/plain": "    season  round       date   time          referee     home_team  away_team  \\\n0  2005-06      6 2005-10-01  20:30  ROBERTO ROSETTI       UDINESE      LAZIO   \n1  2005-06      6 2005-10-01  18:00  MARIO MAZZOLENI  CHIEVOVERONA    TREVISO   \n2  2005-06      6 2005-10-02  15:00       MASSIMO DE       MESSINA  SAMPDORIA   \n3  2005-06      6 2005-10-02  15:00       LUCA BANTI       PALERMO     EMPOLI   \n4  2005-06      6 2005-10-02  15:00    OSCAR GIRARDI         LECCE   CAGLIARI   \n\n  result  home_team_score  away_team_score  ...  \\\n0   home                3                0  ...   \n1   draw                0                0  ...   \n2   away                1                4  ...   \n3   draw                2                2  ...   \n4   home                3                0  ...   \n\n  away_team_history_5_away_player_9 away_team_history_5_away_player_10  \\\n0                 Gaetano DAgostino                    Giuseppe Sculli   \n1                         Reginaldo                     Luigi Beghetto   \n2                    Lamberto Zauli                   Francesco Flachi   \n3                   Matteo Serafini                   Francesco Tavano   \n4                    Mauro Esposito                        David Suazo   \n\n  away_team_history_5_away_player_11 away_team_history_5_away_substitute_1  \\\n0                  Riccardo Zampagna                      Arturo Di Napoli   \n1                              Pinga                     Roberto Chiappara   \n2                 Emiliano Bonazzoli                          Marco Pisano   \n3                    Ighli Vannucchi                        Francesco Lodi   \n4                       Andrea Cossu                         Andrea Capone   \n\n  away_team_history_5_away_substitute_2 away_team_history_5_away_substitute_3  \\\n0                     Zlatan Muslimovic                           Ivica Iliev   \n1                             Dino Fava                       Jehad Muntasser   \n2                       Vitaliy Kutuzov                       Marco Borriello   \n3                          Nicola Pozzi                         Daniele Balli   \n4                      Alessandro Budel                     Claudio Ferrarese   \n\n  away_team_history_5_away_substitute_4 away_team_history_5_away_substitute_5  \\\n0                         Marco Storari                     Filippo Cristante   \n1                       Adriano Zancope                 Francesco Parravicini   \n2                      Luca Castellazzi                         Marco Zamboni   \n3                           Davide Moro                         Paolo Zanetti   \n4                     Andrea Campagnolo                         Fabio Vignati   \n\n  away_team_history_5_away_substitute_6 away_team_history_5_away_substitute_7  \n0                            Luca Fusco                    Atsushi Yanagisawa  \n1                              Anderson                     Alberto Giuliatto  \n2                          Simone Pavan                      Gionata Mingozzi  \n3                          Andrea Raggi                     Francesco Pratali  \n4                      Francesco Pisano                          Claudio Pani  \n\n[5 rows x 528 columns]",
      "text/html": "<div>\n<style scoped>\n    .dataframe tbody tr th:only-of-type {\n        vertical-align: middle;\n    }\n\n    .dataframe tbody tr th {\n        vertical-align: top;\n    }\n\n    .dataframe thead th {\n        text-align: right;\n    }\n</style>\n<table border=\"1\" class=\"dataframe\">\n  <thead>\n    <tr style=\"text-align: right;\">\n      <th></th>\n      <th>season</th>\n      <th>round</th>\n      <th>date</th>\n      <th>time</th>\n      <th>referee</th>\n      <th>home_team</th>\n      <th>away_team</th>\n      <th>result</th>\n      <th>home_team_score</th>\n      <th>away_team_score</th>\n      <th>...</th>\n      <th>away_team_history_5_away_player_9</th>\n      <th>away_team_history_5_away_player_10</th>\n      <th>away_team_history_5_away_player_11</th>\n      <th>away_team_history_5_away_substitute_1</th>\n      <th>away_team_history_5_away_substitute_2</th>\n      <th>away_team_history_5_away_substitute_3</th>\n      <th>away_team_history_5_away_substitute_4</th>\n      <th>away_team_history_5_away_substitute_5</th>\n      <th>away_team_history_5_away_substitute_6</th>\n      <th>away_team_history_5_away_substitute_7</th>\n    </tr>\n  </thead>\n  <tbody>\n    <tr>\n      <th>0</th>\n      <td>2005-06</td>\n      <td>6</td>\n      <td>2005-10-01</td>\n      <td>20:30</td>\n      <td>ROBERTO ROSETTI</td>\n      <td>UDINESE</td>\n      <td>LAZIO</td>\n      <td>home</td>\n      <td>3</td>\n      <td>0</td>\n      <td>...</td>\n      <td>Gaetano DAgostino</td>\n      <td>Giuseppe Sculli</td>\n      <td>Riccardo Zampagna</td>\n      <td>Arturo Di Napoli</td>\n      <td>Zlatan Muslimovic</td>\n      <td>Ivica Iliev</td>\n      <td>Marco Storari</td>\n      <td>Filippo Cristante</td>\n      <td>Luca Fusco</td>\n      <td>Atsushi Yanagisawa</td>\n    </tr>\n    <tr>\n      <th>1</th>\n      <td>2005-06</td>\n      <td>6</td>\n      <td>2005-10-01</td>\n      <td>18:00</td>\n      <td>MARIO MAZZOLENI</td>\n      <td>CHIEVOVERONA</td>\n      <td>TREVISO</td>\n      <td>draw</td>\n      <td>0</td>\n      <td>0</td>\n      <td>...</td>\n      <td>Reginaldo</td>\n      <td>Luigi Beghetto</td>\n      <td>Pinga</td>\n      <td>Roberto Chiappara</td>\n      <td>Dino Fava</td>\n      <td>Jehad Muntasser</td>\n      <td>Adriano Zancope</td>\n      <td>Francesco Parravicini</td>\n      <td>Anderson</td>\n      <td>Alberto Giuliatto</td>\n    </tr>\n    <tr>\n      <th>2</th>\n      <td>2005-06</td>\n      <td>6</td>\n      <td>2005-10-02</td>\n      <td>15:00</td>\n      <td>MASSIMO DE</td>\n      <td>MESSINA</td>\n      <td>SAMPDORIA</td>\n      <td>away</td>\n      <td>1</td>\n      <td>4</td>\n      <td>...</td>\n      <td>Lamberto Zauli</td>\n      <td>Francesco Flachi</td>\n      <td>Emiliano Bonazzoli</td>\n      <td>Marco Pisano</td>\n      <td>Vitaliy Kutuzov</td>\n      <td>Marco Borriello</td>\n      <td>Luca Castellazzi</td>\n      <td>Marco Zamboni</td>\n      <td>Simone Pavan</td>\n      <td>Gionata Mingozzi</td>\n    </tr>\n    <tr>\n      <th>3</th>\n      <td>2005-06</td>\n      <td>6</td>\n      <td>2005-10-02</td>\n      <td>15:00</td>\n      <td>LUCA BANTI</td>\n      <td>PALERMO</td>\n      <td>EMPOLI</td>\n      <td>draw</td>\n      <td>2</td>\n      <td>2</td>\n      <td>...</td>\n      <td>Matteo Serafini</td>\n      <td>Francesco Tavano</td>\n      <td>Ighli Vannucchi</td>\n      <td>Francesco Lodi</td>\n      <td>Nicola Pozzi</td>\n      <td>Daniele Balli</td>\n      <td>Davide Moro</td>\n      <td>Paolo Zanetti</td>\n      <td>Andrea Raggi</td>\n      <td>Francesco Pratali</td>\n    </tr>\n    <tr>\n      <th>4</th>\n      <td>2005-06</td>\n      <td>6</td>\n      <td>2005-10-02</td>\n      <td>15:00</td>\n      <td>OSCAR GIRARDI</td>\n      <td>LECCE</td>\n      <td>CAGLIARI</td>\n      <td>home</td>\n      <td>3</td>\n      <td>0</td>\n      <td>...</td>\n      <td>Mauro Esposito</td>\n      <td>David Suazo</td>\n      <td>Andrea Cossu</td>\n      <td>Andrea Capone</td>\n      <td>Alessandro Budel</td>\n      <td>Claudio Ferrarese</td>\n      <td>Andrea Campagnolo</td>\n      <td>Fabio Vignati</td>\n      <td>Francesco Pisano</td>\n      <td>Claudio Pani</td>\n    </tr>\n  </tbody>\n</table>\n<p>5 rows × 528 columns</p>\n</div>"
     },
     "execution_count": 271,
     "metadata": {},
     "output_type": "execute_result"
    }
   ],
   "source": [
    "# add target column\n",
    "add_target_column(df1)\n",
    "df1.head()"
   ],
   "metadata": {
    "collapsed": false,
    "pycharm": {
     "name": "#%%\n"
    }
   }
  },
  {
   "cell_type": "code",
   "execution_count": 272,
   "outputs": [
    {
     "data": {
      "text/plain": "    season  round       date   time          referee     home_team  away_team  \\\n0  2005-06      6 2005-10-01  20:30  ROBERTO ROSETTI       UDINESE      LAZIO   \n1  2005-06      6 2005-10-01  18:00  MARIO MAZZOLENI  CHIEVOVERONA    TREVISO   \n2  2005-06      6 2005-10-02  15:00       MASSIMO DE       MESSINA  SAMPDORIA   \n3  2005-06      6 2005-10-02  15:00       LUCA BANTI       PALERMO     EMPOLI   \n4  2005-06      6 2005-10-02  15:00    OSCAR GIRARDI         LECCE   CAGLIARI   \n\n  result  home_team_coach       home_player_1  ...  \\\n0   home      Serse Cosmi   Morgan De Sanctis  ...   \n1   draw  Giuseppe Pillon     Alberto Fontana  ...   \n2   away    Bortolo Mutti       Marco Storari  ...   \n3   draw    Luigi Delneri      Nicola Santoni  ...   \n4   home   Silvio Baldini  Vincenzo Sicignano  ...   \n\n  away_team_history_5_away_player_9 away_team_history_5_away_player_10  \\\n0                 Gaetano DAgostino                    Giuseppe Sculli   \n1                         Reginaldo                     Luigi Beghetto   \n2                    Lamberto Zauli                   Francesco Flachi   \n3                   Matteo Serafini                   Francesco Tavano   \n4                    Mauro Esposito                        David Suazo   \n\n  away_team_history_5_away_player_11 away_team_history_5_away_substitute_1  \\\n0                  Riccardo Zampagna                      Arturo Di Napoli   \n1                              Pinga                     Roberto Chiappara   \n2                 Emiliano Bonazzoli                          Marco Pisano   \n3                    Ighli Vannucchi                        Francesco Lodi   \n4                       Andrea Cossu                         Andrea Capone   \n\n  away_team_history_5_away_substitute_2 away_team_history_5_away_substitute_3  \\\n0                     Zlatan Muslimovic                           Ivica Iliev   \n1                             Dino Fava                       Jehad Muntasser   \n2                       Vitaliy Kutuzov                       Marco Borriello   \n3                          Nicola Pozzi                         Daniele Balli   \n4                      Alessandro Budel                     Claudio Ferrarese   \n\n  away_team_history_5_away_substitute_4 away_team_history_5_away_substitute_5  \\\n0                         Marco Storari                     Filippo Cristante   \n1                       Adriano Zancope                 Francesco Parravicini   \n2                      Luca Castellazzi                         Marco Zamboni   \n3                           Davide Moro                         Paolo Zanetti   \n4                     Andrea Campagnolo                         Fabio Vignati   \n\n  away_team_history_5_away_substitute_6 away_team_history_5_away_substitute_7  \n0                            Luca Fusco                    Atsushi Yanagisawa  \n1                              Anderson                     Alberto Giuliatto  \n2                          Simone Pavan                      Gionata Mingozzi  \n3                          Andrea Raggi                     Francesco Pratali  \n4                      Francesco Pisano                          Claudio Pani  \n\n[5 rows x 526 columns]",
      "text/html": "<div>\n<style scoped>\n    .dataframe tbody tr th:only-of-type {\n        vertical-align: middle;\n    }\n\n    .dataframe tbody tr th {\n        vertical-align: top;\n    }\n\n    .dataframe thead th {\n        text-align: right;\n    }\n</style>\n<table border=\"1\" class=\"dataframe\">\n  <thead>\n    <tr style=\"text-align: right;\">\n      <th></th>\n      <th>season</th>\n      <th>round</th>\n      <th>date</th>\n      <th>time</th>\n      <th>referee</th>\n      <th>home_team</th>\n      <th>away_team</th>\n      <th>result</th>\n      <th>home_team_coach</th>\n      <th>home_player_1</th>\n      <th>...</th>\n      <th>away_team_history_5_away_player_9</th>\n      <th>away_team_history_5_away_player_10</th>\n      <th>away_team_history_5_away_player_11</th>\n      <th>away_team_history_5_away_substitute_1</th>\n      <th>away_team_history_5_away_substitute_2</th>\n      <th>away_team_history_5_away_substitute_3</th>\n      <th>away_team_history_5_away_substitute_4</th>\n      <th>away_team_history_5_away_substitute_5</th>\n      <th>away_team_history_5_away_substitute_6</th>\n      <th>away_team_history_5_away_substitute_7</th>\n    </tr>\n  </thead>\n  <tbody>\n    <tr>\n      <th>0</th>\n      <td>2005-06</td>\n      <td>6</td>\n      <td>2005-10-01</td>\n      <td>20:30</td>\n      <td>ROBERTO ROSETTI</td>\n      <td>UDINESE</td>\n      <td>LAZIO</td>\n      <td>home</td>\n      <td>Serse Cosmi</td>\n      <td>Morgan De Sanctis</td>\n      <td>...</td>\n      <td>Gaetano DAgostino</td>\n      <td>Giuseppe Sculli</td>\n      <td>Riccardo Zampagna</td>\n      <td>Arturo Di Napoli</td>\n      <td>Zlatan Muslimovic</td>\n      <td>Ivica Iliev</td>\n      <td>Marco Storari</td>\n      <td>Filippo Cristante</td>\n      <td>Luca Fusco</td>\n      <td>Atsushi Yanagisawa</td>\n    </tr>\n    <tr>\n      <th>1</th>\n      <td>2005-06</td>\n      <td>6</td>\n      <td>2005-10-01</td>\n      <td>18:00</td>\n      <td>MARIO MAZZOLENI</td>\n      <td>CHIEVOVERONA</td>\n      <td>TREVISO</td>\n      <td>draw</td>\n      <td>Giuseppe Pillon</td>\n      <td>Alberto Fontana</td>\n      <td>...</td>\n      <td>Reginaldo</td>\n      <td>Luigi Beghetto</td>\n      <td>Pinga</td>\n      <td>Roberto Chiappara</td>\n      <td>Dino Fava</td>\n      <td>Jehad Muntasser</td>\n      <td>Adriano Zancope</td>\n      <td>Francesco Parravicini</td>\n      <td>Anderson</td>\n      <td>Alberto Giuliatto</td>\n    </tr>\n    <tr>\n      <th>2</th>\n      <td>2005-06</td>\n      <td>6</td>\n      <td>2005-10-02</td>\n      <td>15:00</td>\n      <td>MASSIMO DE</td>\n      <td>MESSINA</td>\n      <td>SAMPDORIA</td>\n      <td>away</td>\n      <td>Bortolo Mutti</td>\n      <td>Marco Storari</td>\n      <td>...</td>\n      <td>Lamberto Zauli</td>\n      <td>Francesco Flachi</td>\n      <td>Emiliano Bonazzoli</td>\n      <td>Marco Pisano</td>\n      <td>Vitaliy Kutuzov</td>\n      <td>Marco Borriello</td>\n      <td>Luca Castellazzi</td>\n      <td>Marco Zamboni</td>\n      <td>Simone Pavan</td>\n      <td>Gionata Mingozzi</td>\n    </tr>\n    <tr>\n      <th>3</th>\n      <td>2005-06</td>\n      <td>6</td>\n      <td>2005-10-02</td>\n      <td>15:00</td>\n      <td>LUCA BANTI</td>\n      <td>PALERMO</td>\n      <td>EMPOLI</td>\n      <td>draw</td>\n      <td>Luigi Delneri</td>\n      <td>Nicola Santoni</td>\n      <td>...</td>\n      <td>Matteo Serafini</td>\n      <td>Francesco Tavano</td>\n      <td>Ighli Vannucchi</td>\n      <td>Francesco Lodi</td>\n      <td>Nicola Pozzi</td>\n      <td>Daniele Balli</td>\n      <td>Davide Moro</td>\n      <td>Paolo Zanetti</td>\n      <td>Andrea Raggi</td>\n      <td>Francesco Pratali</td>\n    </tr>\n    <tr>\n      <th>4</th>\n      <td>2005-06</td>\n      <td>6</td>\n      <td>2005-10-02</td>\n      <td>15:00</td>\n      <td>OSCAR GIRARDI</td>\n      <td>LECCE</td>\n      <td>CAGLIARI</td>\n      <td>home</td>\n      <td>Silvio Baldini</td>\n      <td>Vincenzo Sicignano</td>\n      <td>...</td>\n      <td>Mauro Esposito</td>\n      <td>David Suazo</td>\n      <td>Andrea Cossu</td>\n      <td>Andrea Capone</td>\n      <td>Alessandro Budel</td>\n      <td>Claudio Ferrarese</td>\n      <td>Andrea Campagnolo</td>\n      <td>Fabio Vignati</td>\n      <td>Francesco Pisano</td>\n      <td>Claudio Pani</td>\n    </tr>\n  </tbody>\n</table>\n<p>5 rows × 526 columns</p>\n</div>"
     },
     "execution_count": 272,
     "metadata": {},
     "output_type": "execute_result"
    }
   ],
   "source": [
    "# drop score columns\n",
    "df1 = df1.drop(columns=['home_team_score', 'away_team_score'])\n",
    "df1.head()"
   ],
   "metadata": {
    "collapsed": false,
    "pycharm": {
     "name": "#%%\n"
    }
   }
  },
  {
   "cell_type": "markdown",
   "source": [
    "### Result column balancing"
   ],
   "metadata": {
    "collapsed": false,
    "pycharm": {
     "name": "#%% md\n"
    }
   }
  },
  {
   "cell_type": "markdown",
   "source": [
    "### Data encoding\n",
    "Convert values to integers"
   ],
   "metadata": {
    "collapsed": false,
    "pycharm": {
     "name": "#%% md\n"
    }
   }
  },
  {
   "cell_type": "code",
   "execution_count": 273,
   "outputs": [],
   "source": [
    "from collections import defaultdict"
   ],
   "metadata": {
    "collapsed": false,
    "pycharm": {
     "name": "#%%\n"
    }
   }
  },
  {
   "cell_type": "code",
   "execution_count": 274,
   "outputs": [],
   "source": [
    "def get_column_names_containing_str(df: pd.DataFrame, substring: str) -> list[str]:\n",
    "    return df.loc[:,[substring in i for i in df.columns]].columns.values.tolist()"
   ],
   "metadata": {
    "collapsed": false,
    "pycharm": {
     "name": "#%%\n"
    }
   }
  },
  {
   "cell_type": "markdown",
   "source": [
    "#### Results encoding"
   ],
   "metadata": {
    "collapsed": false,
    "pycharm": {
     "name": "#%% md\n"
    }
   }
  },
  {
   "cell_type": "code",
   "execution_count": 275,
   "outputs": [],
   "source": [
    "# encode results\n",
    "target2int = {'home': 0, 'draw': 1, 'away': 2}\n",
    "result_cols = get_column_names_containing_str(df1, 'result')\n",
    "for col in result_cols:\n",
    "    df1[f'{col}'] = df1[f'{col}'].map(target2int)"
   ],
   "metadata": {
    "collapsed": false,
    "pycharm": {
     "name": "#%%\n"
    }
   }
  },
  {
   "cell_type": "markdown",
   "source": [
    "#### Referees encoding"
   ],
   "metadata": {
    "collapsed": false,
    "pycharm": {
     "name": "#%% md\n"
    }
   }
  },
  {
   "cell_type": "code",
   "execution_count": 276,
   "outputs": [],
   "source": [
    "# reset\n",
    "temp_dict = defaultdict(lambda: len(temp_dict))\n",
    "# encode referees\n",
    "referee_cols = get_column_names_containing_str(df1, 'referee')\n",
    "for col in referee_cols:\n",
    "    referee_ids = [temp_dict[ele] for ele in df1[f'{col}'].tolist()]"
   ],
   "metadata": {
    "collapsed": false,
    "pycharm": {
     "name": "#%%\n"
    }
   }
  },
  {
   "cell_type": "markdown",
   "source": [
    "#### Teams encoding"
   ],
   "metadata": {
    "collapsed": false,
    "pycharm": {
     "name": "#%% md\n"
    }
   }
  },
  {
   "cell_type": "code",
   "execution_count": 277,
   "outputs": [
    {
     "name": "stdout",
     "output_type": "stream",
     "text": [
      "19\n",
      "19\n"
     ]
    }
   ],
   "source": [
    "# reset\n",
    "temp_dict = defaultdict(lambda: len(temp_dict))\n",
    "# encode teams\n",
    "for home_or_away in HomeOrAway:\n",
    "    teams_ids = [temp_dict[ele] for ele in df1[f'{home_or_away.name}_team'].tolist()]\n",
    "    df1[f'{home_or_away.name}_team'] = teams_ids\n",
    "print(df1['home_team'].max())\n",
    "print(df1['away_team'].max())\n",
    "for i in range(5):\n",
    "    for home_or_away in HomeOrAway:\n",
    "        teams_ids = [temp_dict[ele] for ele in df1[f'{home_or_away.name}_team_history_{i+1}_home_team'].tolist()]\n",
    "        df1[f'{home_or_away.name}_team_history_{i+1}_home_team'] =  teams_ids\n",
    "        teams_ids = [temp_dict[ele] for ele in df1[f'{home_or_away.name}_team_history_{i+1}_away_team'].tolist()]\n",
    "        df1[f'{home_or_away.name}_team_history_{i+1}_away_team'] = teams_ids"
   ],
   "metadata": {
    "collapsed": false,
    "pycharm": {
     "name": "#%%\n"
    }
   }
  },
  {
   "cell_type": "markdown",
   "source": [
    "#### Coaches encoding"
   ],
   "metadata": {
    "collapsed": false,
    "pycharm": {
     "name": "#%% md\n"
    }
   }
  },
  {
   "cell_type": "code",
   "execution_count": 278,
   "outputs": [],
   "source": [
    "# reset\n",
    "temp_dict = defaultdict(lambda: len(temp_dict))\n",
    "# encode team coaches\n",
    "coach_cols = get_column_names_containing_str(df1, 'coach')\n",
    "for col in coach_cols:\n",
    "    team_coach_ids = [temp_dict[ele] for ele in df1[f'{col}'].tolist()]\n",
    "    df1[f'{col}'] = team_coach_ids"
   ],
   "metadata": {
    "collapsed": false,
    "pycharm": {
     "name": "#%%\n"
    }
   }
  },
  {
   "cell_type": "markdown",
   "source": [
    "#### Players encoding"
   ],
   "metadata": {
    "collapsed": false,
    "pycharm": {
     "name": "#%% md\n"
    }
   }
  },
  {
   "cell_type": "code",
   "execution_count": 279,
   "outputs": [],
   "source": [
    "# reset\n",
    "temp_dict = defaultdict(lambda: len(temp_dict))\n",
    "# encode players\n",
    "players_cols = get_column_names_containing_str(df1, 'player')\n",
    "players_cols += get_column_names_containing_str(df1, 'substitute')\n",
    "for col in players_cols:\n",
    "    df1[f'{col}'] = [temp_dict[ele] for ele in df1[f'{col}'].tolist()]"
   ],
   "metadata": {
    "collapsed": false,
    "pycharm": {
     "name": "#%%\n"
    }
   }
  },
  {
   "cell_type": "code",
   "execution_count": 280,
   "outputs": [
    {
     "data": {
      "text/plain": "      season  round       date   time             referee  home_team  \\\n0    2005-06      6 2005-10-01  20:30     ROBERTO ROSETTI          0   \n1    2005-06      6 2005-10-01  18:00     MARIO MAZZOLENI          1   \n2    2005-06      6 2005-10-02  15:00          MASSIMO DE          2   \n3    2005-06      6 2005-10-02  15:00          LUCA BANTI          3   \n4    2005-06      6 2005-10-02  15:00       OSCAR GIRARDI          4   \n..       ...    ...        ...    ...                 ...        ...   \n133  2005-06     20 2006-01-18  20:30    DOMENICO MESSINA         17   \n134  2005-06     20 2006-01-18  20:30   PAOLO TAGLIAVENTO          5   \n135  2005-06     20 2006-01-18  20:30     GIANLUCA ROCCHI          7   \n136  2005-06     20 2006-01-18  20:30  PASQUALE RODOMONTI          4   \n137  2005-06     20 2006-01-18  20:30        LUCA PALANCA          1   \n\n     away_team  result  home_team_coach  home_player_1  ...  \\\n0           15       0                0              0  ...   \n1           19       1                1              1  ...   \n2           17       2                2              2  ...   \n3           11       1                3              3  ...   \n4           13       0                4              4  ...   \n..         ...     ...              ...            ...  ...   \n133          6       0               17             19  ...   \n134         14       0                5             16  ...   \n135          9       0                7              7  ...   \n136         16       1                4             29  ...   \n137          8       1                1              1  ...   \n\n     away_team_history_5_away_player_9  away_team_history_5_away_player_10  \\\n0                                  280                                 215   \n1                                  340                                 410   \n2                                  365                                 324   \n3                                  308                                 320   \n4                                  304                                 337   \n..                                 ...                                 ...   \n133                                164                                 397   \n134                                266                                 279   \n135                                266                                 279   \n136                                291                                 369   \n137                                270                                 367   \n\n     away_team_history_5_away_player_11  \\\n0                                   312   \n1                                   256   \n2                                   328   \n3                                   288   \n4                                   402   \n..                                  ...   \n133                                 368   \n134                                 290   \n135                                 290   \n136                                 322   \n137                                 337   \n\n     away_team_history_5_away_substitute_1  \\\n0                                      349   \n1                                      397   \n2                                      156   \n3                                      422   \n4                                      295   \n..                                     ...   \n133                                    443   \n134                                    478   \n135                                    478   \n136                                    385   \n137                                    237   \n\n     away_team_history_5_away_substitute_2  \\\n0                                      353   \n1                                      368   \n2                                      309   \n3                                      296   \n4                                      237   \n..                                     ...   \n133                                    410   \n134                                    134   \n135                                    134   \n136                                    342   \n137                                    295   \n\n     away_team_history_5_away_substitute_3  \\\n0                                      293   \n1                                      421   \n2                                      370   \n3                                       32   \n4                                      485   \n..                                     ...   \n133                                    421   \n134                                    403   \n135                                    403   \n136                                    307   \n137                                    402   \n\n     away_team_history_5_away_substitute_4  \\\n0                                        2   \n1                                       26   \n2                                      467   \n3                                      220   \n4                                       25   \n..                                     ...   \n133                                    423   \n134                                    444   \n135                                    444   \n136                                     22   \n137                                    455   \n\n     away_team_history_5_away_substitute_5  \\\n0                                       78   \n1                                      214   \n2                                      476   \n3                                      254   \n4                                      377   \n..                                     ...   \n133                                    508   \n134                                    507   \n135                                    507   \n136                                     92   \n137                                    374   \n\n     away_team_history_5_away_substitute_6  \\\n0                                      414   \n1                                      435   \n2                                      110   \n3                                       56   \n4                                      374   \n..                                     ...   \n133                                    256   \n134                                    408   \n135                                    408   \n136                                    195   \n137                                    348   \n\n     away_team_history_5_away_substitute_7  \n0                                      432  \n1                                      382  \n2                                      490  \n3                                      124  \n4                                      484  \n..                                     ...  \n133                                    406  \n134                                    390  \n135                                    390  \n136                                    257  \n137                                    484  \n\n[138 rows x 526 columns]",
      "text/html": "<div>\n<style scoped>\n    .dataframe tbody tr th:only-of-type {\n        vertical-align: middle;\n    }\n\n    .dataframe tbody tr th {\n        vertical-align: top;\n    }\n\n    .dataframe thead th {\n        text-align: right;\n    }\n</style>\n<table border=\"1\" class=\"dataframe\">\n  <thead>\n    <tr style=\"text-align: right;\">\n      <th></th>\n      <th>season</th>\n      <th>round</th>\n      <th>date</th>\n      <th>time</th>\n      <th>referee</th>\n      <th>home_team</th>\n      <th>away_team</th>\n      <th>result</th>\n      <th>home_team_coach</th>\n      <th>home_player_1</th>\n      <th>...</th>\n      <th>away_team_history_5_away_player_9</th>\n      <th>away_team_history_5_away_player_10</th>\n      <th>away_team_history_5_away_player_11</th>\n      <th>away_team_history_5_away_substitute_1</th>\n      <th>away_team_history_5_away_substitute_2</th>\n      <th>away_team_history_5_away_substitute_3</th>\n      <th>away_team_history_5_away_substitute_4</th>\n      <th>away_team_history_5_away_substitute_5</th>\n      <th>away_team_history_5_away_substitute_6</th>\n      <th>away_team_history_5_away_substitute_7</th>\n    </tr>\n  </thead>\n  <tbody>\n    <tr>\n      <th>0</th>\n      <td>2005-06</td>\n      <td>6</td>\n      <td>2005-10-01</td>\n      <td>20:30</td>\n      <td>ROBERTO ROSETTI</td>\n      <td>0</td>\n      <td>15</td>\n      <td>0</td>\n      <td>0</td>\n      <td>0</td>\n      <td>...</td>\n      <td>280</td>\n      <td>215</td>\n      <td>312</td>\n      <td>349</td>\n      <td>353</td>\n      <td>293</td>\n      <td>2</td>\n      <td>78</td>\n      <td>414</td>\n      <td>432</td>\n    </tr>\n    <tr>\n      <th>1</th>\n      <td>2005-06</td>\n      <td>6</td>\n      <td>2005-10-01</td>\n      <td>18:00</td>\n      <td>MARIO MAZZOLENI</td>\n      <td>1</td>\n      <td>19</td>\n      <td>1</td>\n      <td>1</td>\n      <td>1</td>\n      <td>...</td>\n      <td>340</td>\n      <td>410</td>\n      <td>256</td>\n      <td>397</td>\n      <td>368</td>\n      <td>421</td>\n      <td>26</td>\n      <td>214</td>\n      <td>435</td>\n      <td>382</td>\n    </tr>\n    <tr>\n      <th>2</th>\n      <td>2005-06</td>\n      <td>6</td>\n      <td>2005-10-02</td>\n      <td>15:00</td>\n      <td>MASSIMO DE</td>\n      <td>2</td>\n      <td>17</td>\n      <td>2</td>\n      <td>2</td>\n      <td>2</td>\n      <td>...</td>\n      <td>365</td>\n      <td>324</td>\n      <td>328</td>\n      <td>156</td>\n      <td>309</td>\n      <td>370</td>\n      <td>467</td>\n      <td>476</td>\n      <td>110</td>\n      <td>490</td>\n    </tr>\n    <tr>\n      <th>3</th>\n      <td>2005-06</td>\n      <td>6</td>\n      <td>2005-10-02</td>\n      <td>15:00</td>\n      <td>LUCA BANTI</td>\n      <td>3</td>\n      <td>11</td>\n      <td>1</td>\n      <td>3</td>\n      <td>3</td>\n      <td>...</td>\n      <td>308</td>\n      <td>320</td>\n      <td>288</td>\n      <td>422</td>\n      <td>296</td>\n      <td>32</td>\n      <td>220</td>\n      <td>254</td>\n      <td>56</td>\n      <td>124</td>\n    </tr>\n    <tr>\n      <th>4</th>\n      <td>2005-06</td>\n      <td>6</td>\n      <td>2005-10-02</td>\n      <td>15:00</td>\n      <td>OSCAR GIRARDI</td>\n      <td>4</td>\n      <td>13</td>\n      <td>0</td>\n      <td>4</td>\n      <td>4</td>\n      <td>...</td>\n      <td>304</td>\n      <td>337</td>\n      <td>402</td>\n      <td>295</td>\n      <td>237</td>\n      <td>485</td>\n      <td>25</td>\n      <td>377</td>\n      <td>374</td>\n      <td>484</td>\n    </tr>\n    <tr>\n      <th>...</th>\n      <td>...</td>\n      <td>...</td>\n      <td>...</td>\n      <td>...</td>\n      <td>...</td>\n      <td>...</td>\n      <td>...</td>\n      <td>...</td>\n      <td>...</td>\n      <td>...</td>\n      <td>...</td>\n      <td>...</td>\n      <td>...</td>\n      <td>...</td>\n      <td>...</td>\n      <td>...</td>\n      <td>...</td>\n      <td>...</td>\n      <td>...</td>\n      <td>...</td>\n      <td>...</td>\n    </tr>\n    <tr>\n      <th>133</th>\n      <td>2005-06</td>\n      <td>20</td>\n      <td>2006-01-18</td>\n      <td>20:30</td>\n      <td>DOMENICO MESSINA</td>\n      <td>17</td>\n      <td>6</td>\n      <td>0</td>\n      <td>17</td>\n      <td>19</td>\n      <td>...</td>\n      <td>164</td>\n      <td>397</td>\n      <td>368</td>\n      <td>443</td>\n      <td>410</td>\n      <td>421</td>\n      <td>423</td>\n      <td>508</td>\n      <td>256</td>\n      <td>406</td>\n    </tr>\n    <tr>\n      <th>134</th>\n      <td>2005-06</td>\n      <td>20</td>\n      <td>2006-01-18</td>\n      <td>20:30</td>\n      <td>PAOLO TAGLIAVENTO</td>\n      <td>5</td>\n      <td>14</td>\n      <td>0</td>\n      <td>5</td>\n      <td>16</td>\n      <td>...</td>\n      <td>266</td>\n      <td>279</td>\n      <td>290</td>\n      <td>478</td>\n      <td>134</td>\n      <td>403</td>\n      <td>444</td>\n      <td>507</td>\n      <td>408</td>\n      <td>390</td>\n    </tr>\n    <tr>\n      <th>135</th>\n      <td>2005-06</td>\n      <td>20</td>\n      <td>2006-01-18</td>\n      <td>20:30</td>\n      <td>GIANLUCA ROCCHI</td>\n      <td>7</td>\n      <td>9</td>\n      <td>0</td>\n      <td>7</td>\n      <td>7</td>\n      <td>...</td>\n      <td>266</td>\n      <td>279</td>\n      <td>290</td>\n      <td>478</td>\n      <td>134</td>\n      <td>403</td>\n      <td>444</td>\n      <td>507</td>\n      <td>408</td>\n      <td>390</td>\n    </tr>\n    <tr>\n      <th>136</th>\n      <td>2005-06</td>\n      <td>20</td>\n      <td>2006-01-18</td>\n      <td>20:30</td>\n      <td>PASQUALE RODOMONTI</td>\n      <td>4</td>\n      <td>16</td>\n      <td>1</td>\n      <td>4</td>\n      <td>29</td>\n      <td>...</td>\n      <td>291</td>\n      <td>369</td>\n      <td>322</td>\n      <td>385</td>\n      <td>342</td>\n      <td>307</td>\n      <td>22</td>\n      <td>92</td>\n      <td>195</td>\n      <td>257</td>\n    </tr>\n    <tr>\n      <th>137</th>\n      <td>2005-06</td>\n      <td>20</td>\n      <td>2006-01-18</td>\n      <td>20:30</td>\n      <td>LUCA PALANCA</td>\n      <td>1</td>\n      <td>8</td>\n      <td>1</td>\n      <td>1</td>\n      <td>1</td>\n      <td>...</td>\n      <td>270</td>\n      <td>367</td>\n      <td>337</td>\n      <td>237</td>\n      <td>295</td>\n      <td>402</td>\n      <td>455</td>\n      <td>374</td>\n      <td>348</td>\n      <td>484</td>\n    </tr>\n  </tbody>\n</table>\n<p>138 rows × 526 columns</p>\n</div>"
     },
     "execution_count": 280,
     "metadata": {},
     "output_type": "execute_result"
    }
   ],
   "source": [
    "df1[:200]"
   ],
   "metadata": {
    "collapsed": false,
    "pycharm": {
     "name": "#%%\n"
    }
   }
  },
  {
   "cell_type": "markdown",
   "source": [
    "## Training\n",
    "Now that out dataset is ready, we can configure an RNN model and train it."
   ],
   "metadata": {
    "collapsed": false,
    "pycharm": {
     "name": "#%% md\n"
    }
   }
  },
  {
   "cell_type": "code",
   "execution_count": 281,
   "outputs": [],
   "source": [
    "import torch\n",
    "import torch.nn as nn\n",
    "from torch import optim"
   ],
   "metadata": {
    "collapsed": false,
    "pycharm": {
     "name": "#%%\n"
    }
   }
  },
  {
   "cell_type": "code",
   "execution_count": 282,
   "outputs": [],
   "source": [
    "class EncoderRNN(nn.Module):\n",
    "    def __init__(self, input_size, hidden_size):\n",
    "        super(EncoderRNN, self).__init__()\n",
    "        self.hidden_size = hidden_size\n",
    "        self.linear = nn.Linear(input_size + hidden_size, hidden_size)\n",
    "        self.tanh = nn.Tanh()\n",
    "\n",
    "    def forward(self, input, hidden):\n",
    "        combined = torch.cat((input, hidden), 1)\n",
    "        pre_hidden = self.linear(combined)\n",
    "        hidden = self.tanh(pre_hidden)\n",
    "        return hidden\n",
    "\n",
    "    def init_hidden(self):\n",
    "        return torch.zeros(1, self.hidden_size)"
   ],
   "metadata": {
    "collapsed": false,
    "pycharm": {
     "name": "#%%\n"
    }
   }
  },
  {
   "cell_type": "code",
   "execution_count": 283,
   "outputs": [],
   "source": [
    "n_historical_features = 17\n",
    "n_hidden = 128\n",
    "encoder = EncoderRNN(input_size=n_historical_features, hidden_size=n_hidden)"
   ],
   "metadata": {
    "collapsed": false,
    "pycharm": {
     "name": "#%%\n"
    }
   }
  },
  {
   "cell_type": "code",
   "execution_count": 284,
   "outputs": [],
   "source": [
    "class NeuralNetwork(nn.Module):\n",
    "    def __init__(self, input_size):\n",
    "        super(NeuralNetwork, self).__init__()\n",
    "        self.input_size = input_size\n",
    "        self.flatten = nn.Flatten()\n",
    "        self.layers = nn.Sequential(\n",
    "            nn.Linear(input_size, 512),\n",
    "            nn.ReLU(),\n",
    "            nn.Linear(512, 512),\n",
    "            nn.ReLU(),\n",
    "            nn.Linear(512, 3),\n",
    "            nn.Softmax(dim=1)\n",
    "        )\n",
    "\n",
    "    def forward(self, x):\n",
    "        x = self.flatten(x)\n",
    "        output = self.layers(x)\n",
    "        return output"
   ],
   "metadata": {
    "collapsed": false,
    "pycharm": {
     "name": "#%%\n"
    }
   }
  },
  {
   "cell_type": "code",
   "execution_count": 285,
   "outputs": [],
   "source": [
    "n_basic_features = len(match_cols)\n",
    "mlp = NeuralNetwork(n_historical_features * 2 + n_basic_features)"
   ],
   "metadata": {
    "collapsed": false,
    "pycharm": {
     "name": "#%%\n"
    }
   }
  },
  {
   "cell_type": "code",
   "execution_count": 286,
   "outputs": [],
   "source": [
    "def train(x, y, encoder: EncoderRNN, nn: NeuralNetwork,\n",
    "          encoder_optimizer: optim.Optimizer, nn_optimizer: optim.Optimizer, loss_fn):\n",
    "    # init\n",
    "    encoder_optimizer.zero_grad()\n",
    "    nn_optimizer.zero_grad()\n",
    "    input_length = x.size(0)\n",
    "    target_length = y.size(0)\n",
    "    loss = 0\n",
    "    # encoder forward\n",
    "    encoder_hidden = encoder.init_hidden()\n",
    "    for history_index in range(input_length):\n",
    "        encoder_hidden = encoder(x[history_index], encoder_hidden)\n",
    "    home_team_form = encoder_hidden\n",
    "    encoder_hidden = encoder.init_hidden()\n",
    "    for history_index in range(input_length):\n",
    "        encoder_hidden = encoder(x[history_index], encoder_hidden)\n",
    "    away_team_form = encoder_hidden\n",
    "    # mlp forward\n",
    "    match = torch.tensor([])  # todo\n",
    "    x_train = torch.cat((match, home_team_form, away_team_form), 1)\n",
    "    y_hat = nn(x_train)\n",
    "    # backward\n",
    "    loss = loss_fn(y, y_hat)\n",
    "    loss.backward()\n",
    "\n",
    "\n",
    "learning_rate = 0.01\n",
    "encoder_optimizer = optim.SGD(encoder.parameters(), lr=learning_rate)\n",
    "mlp_optimizer = optim.SGD(mlp.parameters(), lr=learning_rate)\n",
    "loss_fn = nn.NLLLoss()"
   ],
   "metadata": {
    "collapsed": false,
    "pycharm": {
     "name": "#%%\n"
    }
   }
  }
 ],
 "metadata": {
  "kernelspec": {
   "display_name": "Python 3",
   "language": "python",
   "name": "python3"
  },
  "language_info": {
   "codemirror_mode": {
    "name": "ipython",
    "version": 2
   },
   "file_extension": ".py",
   "mimetype": "text/x-python",
   "name": "python",
   "nbconvert_exporter": "python",
   "pygments_lexer": "ipython2",
   "version": "2.7.6"
  }
 },
 "nbformat": 4,
 "nbformat_minor": 0
}