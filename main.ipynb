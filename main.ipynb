{
 "cells": [
  {
   "cell_type": "markdown",
   "source": [
    "# Football matches result prediction\n",
    "\n",
    "Let's try to predict *Serie A* matches result (i.e. home win, away win or draw) with a RNN."
   ],
   "metadata": {
    "collapsed": false,
    "pycharm": {
     "name": "#%% md\n"
    }
   }
  },
  {
   "cell_type": "markdown",
   "source": [
    "## Introduction\n",
    "\n",
    "- The dataset was created by scraping *Serie A* matches data starting from season 2005-06 to season 2020-21\n",
    "- Cup matches (*Champions League*, *Europa League*, *Coppa Italia*) played over the course of each season were not taken into account"
   ],
   "metadata": {
    "collapsed": false,
    "pycharm": {
     "name": "#%% md\n"
    }
   }
  },
  {
   "cell_type": "code",
   "execution_count": 50,
   "outputs": [],
   "source": [
    "import pandas as pd\n",
    "from _MatchNotFoundException import MatchNotFoundException\n",
    "from HomeOrAway import HomeOrAway\n",
    "from MatchResult import MatchResult"
   ],
   "metadata": {
    "collapsed": false,
    "pycharm": {
     "name": "#%%\n"
    }
   }
  },
  {
   "cell_type": "code",
   "execution_count": 2,
   "outputs": [],
   "source": [
    "match_cols = ['season', 'round'] + \\\n",
    "             ['date', 'time', 'referee', 'home_team', 'away_team', 'home_team_score', 'away_team_score'] + \\\n",
    "             ['home_team_coach'] + \\\n",
    "             ['home_player_' + str(i) for i in range(1, 12)] + \\\n",
    "             ['home_substitute_' + str(i) for i in range(1, 8)] + \\\n",
    "             ['away_team_coach'] + \\\n",
    "             ['away_player_' + str(i) for i in range(1, 12)] + \\\n",
    "             ['away_substitute_' + str(i) for i in range(1, 8)]"
   ],
   "metadata": {
    "collapsed": false,
    "pycharm": {
     "name": "#%%\n"
    }
   }
  },
  {
   "cell_type": "code",
   "execution_count": 51,
   "outputs": [
    {
     "data": {
      "text/plain": "    season  round        date   time             referee   home_team  \\\n0  2005-06      1  28/08/2005  15:00          MASSIMO DE      ASCOLI   \n1  2005-06      1  27/08/2005  20:30  GIANLUCA PAPARESTA  FIORENTINA   \n2  2005-06      1  28/08/2005  15:00       TIZIANO PIERI       PARMA   \n3  2005-06      1  28/08/2005  15:00   PAOLO TAGLIAVENTO       INTER   \n4  2005-06      1  27/08/2005  18:00     GIANLUCA ROCCHI     LIVORNO   \n\n   away_team  home_team_score  away_team_score   home_team_coach  ...  \\\n0      MILAN                1                1     Massimo Silva  ...   \n1  SAMPDORIA                2                1  Cesare Prandelli  ...   \n2    PALERMO                1                1     Mario Beretta  ...   \n3    TREVISO                3                0   Roberto Mancini  ...   \n4      LECCE                2                1  Roberto Donadoni  ...   \n\n     away_player_9     away_player_10      away_player_11  away_substitute_1  \\\n0             Kaka  Andriy Shevchenko   Alberto Gilardino  Marek Jankulovski   \n1   Lamberto Zauli   Francesco Flachi  Emiliano Bonazzoli       Marco Pisano   \n2  Massimo Bonanni  Andrea Caracciolo     Stephen Makinwa     Nicola Santoni   \n3        Reginaldo     Luigi Beghetto               Pinga  Roberto Chiappara   \n4     Alex Pinardi   Aleksei Eremenko      Graziano Pelle   Alfonso Camorani   \n\n  away_substitute_2   away_substitute_3  away_substitute_4  \\\n0  Clarence Seedorf        Zeljko Kalac    Gennaro Gattuso   \n1   Vitaliy Kutuzov     Marco Borriello   Luca Castellazzi   \n2    Franco Brienza   Massimo Mutarelli     Giuseppe Biava   \n3         Dino Fava     Jehad Muntasser    Adriano Zancope   \n4      Jaime Valdes  Giuseppe Cozzolino  Francesco Benussi   \n\n       away_substitute_5   away_substitute_6  away_substitute_7  \n0       Manuel Rui Costa        Johann Vogel        Dario Simic  \n1          Marco Zamboni        Simone Pavan   Gionata Mingozzi  \n2          Michele Ferri    Mariano Gonzalez        Simone Pepe  \n3  Francesco Parravicini            Anderson  Alberto Giuliatto  \n4         Marco Pecorari  Giuseppe Abruzzese    Davide Giorgino  \n\n[5 rows x 47 columns]",
      "text/html": "<div>\n<style scoped>\n    .dataframe tbody tr th:only-of-type {\n        vertical-align: middle;\n    }\n\n    .dataframe tbody tr th {\n        vertical-align: top;\n    }\n\n    .dataframe thead th {\n        text-align: right;\n    }\n</style>\n<table border=\"1\" class=\"dataframe\">\n  <thead>\n    <tr style=\"text-align: right;\">\n      <th></th>\n      <th>season</th>\n      <th>round</th>\n      <th>date</th>\n      <th>time</th>\n      <th>referee</th>\n      <th>home_team</th>\n      <th>away_team</th>\n      <th>home_team_score</th>\n      <th>away_team_score</th>\n      <th>home_team_coach</th>\n      <th>...</th>\n      <th>away_player_9</th>\n      <th>away_player_10</th>\n      <th>away_player_11</th>\n      <th>away_substitute_1</th>\n      <th>away_substitute_2</th>\n      <th>away_substitute_3</th>\n      <th>away_substitute_4</th>\n      <th>away_substitute_5</th>\n      <th>away_substitute_6</th>\n      <th>away_substitute_7</th>\n    </tr>\n  </thead>\n  <tbody>\n    <tr>\n      <th>0</th>\n      <td>2005-06</td>\n      <td>1</td>\n      <td>28/08/2005</td>\n      <td>15:00</td>\n      <td>MASSIMO DE</td>\n      <td>ASCOLI</td>\n      <td>MILAN</td>\n      <td>1</td>\n      <td>1</td>\n      <td>Massimo Silva</td>\n      <td>...</td>\n      <td>Kaka</td>\n      <td>Andriy Shevchenko</td>\n      <td>Alberto Gilardino</td>\n      <td>Marek Jankulovski</td>\n      <td>Clarence Seedorf</td>\n      <td>Zeljko Kalac</td>\n      <td>Gennaro Gattuso</td>\n      <td>Manuel Rui Costa</td>\n      <td>Johann Vogel</td>\n      <td>Dario Simic</td>\n    </tr>\n    <tr>\n      <th>1</th>\n      <td>2005-06</td>\n      <td>1</td>\n      <td>27/08/2005</td>\n      <td>20:30</td>\n      <td>GIANLUCA PAPARESTA</td>\n      <td>FIORENTINA</td>\n      <td>SAMPDORIA</td>\n      <td>2</td>\n      <td>1</td>\n      <td>Cesare Prandelli</td>\n      <td>...</td>\n      <td>Lamberto Zauli</td>\n      <td>Francesco Flachi</td>\n      <td>Emiliano Bonazzoli</td>\n      <td>Marco Pisano</td>\n      <td>Vitaliy Kutuzov</td>\n      <td>Marco Borriello</td>\n      <td>Luca Castellazzi</td>\n      <td>Marco Zamboni</td>\n      <td>Simone Pavan</td>\n      <td>Gionata Mingozzi</td>\n    </tr>\n    <tr>\n      <th>2</th>\n      <td>2005-06</td>\n      <td>1</td>\n      <td>28/08/2005</td>\n      <td>15:00</td>\n      <td>TIZIANO PIERI</td>\n      <td>PARMA</td>\n      <td>PALERMO</td>\n      <td>1</td>\n      <td>1</td>\n      <td>Mario Beretta</td>\n      <td>...</td>\n      <td>Massimo Bonanni</td>\n      <td>Andrea Caracciolo</td>\n      <td>Stephen Makinwa</td>\n      <td>Nicola Santoni</td>\n      <td>Franco Brienza</td>\n      <td>Massimo Mutarelli</td>\n      <td>Giuseppe Biava</td>\n      <td>Michele Ferri</td>\n      <td>Mariano Gonzalez</td>\n      <td>Simone Pepe</td>\n    </tr>\n    <tr>\n      <th>3</th>\n      <td>2005-06</td>\n      <td>1</td>\n      <td>28/08/2005</td>\n      <td>15:00</td>\n      <td>PAOLO TAGLIAVENTO</td>\n      <td>INTER</td>\n      <td>TREVISO</td>\n      <td>3</td>\n      <td>0</td>\n      <td>Roberto Mancini</td>\n      <td>...</td>\n      <td>Reginaldo</td>\n      <td>Luigi Beghetto</td>\n      <td>Pinga</td>\n      <td>Roberto Chiappara</td>\n      <td>Dino Fava</td>\n      <td>Jehad Muntasser</td>\n      <td>Adriano Zancope</td>\n      <td>Francesco Parravicini</td>\n      <td>Anderson</td>\n      <td>Alberto Giuliatto</td>\n    </tr>\n    <tr>\n      <th>4</th>\n      <td>2005-06</td>\n      <td>1</td>\n      <td>27/08/2005</td>\n      <td>18:00</td>\n      <td>GIANLUCA ROCCHI</td>\n      <td>LIVORNO</td>\n      <td>LECCE</td>\n      <td>2</td>\n      <td>1</td>\n      <td>Roberto Donadoni</td>\n      <td>...</td>\n      <td>Alex Pinardi</td>\n      <td>Aleksei Eremenko</td>\n      <td>Graziano Pelle</td>\n      <td>Alfonso Camorani</td>\n      <td>Jaime Valdes</td>\n      <td>Giuseppe Cozzolino</td>\n      <td>Francesco Benussi</td>\n      <td>Marco Pecorari</td>\n      <td>Giuseppe Abruzzese</td>\n      <td>Davide Giorgino</td>\n    </tr>\n  </tbody>\n</table>\n<p>5 rows × 47 columns</p>\n</div>"
     },
     "execution_count": 51,
     "metadata": {},
     "output_type": "execute_result"
    }
   ],
   "source": [
    "raw_data = pd.read_csv('raw.csv')\n",
    "raw_data.head()"
   ],
   "metadata": {
    "collapsed": false,
    "pycharm": {
     "name": "#%%\n"
    }
   }
  },
  {
   "cell_type": "markdown",
   "source": [
    "## Data visualization\n",
    "\n",
    "Let's inspect our data a little bit more"
   ],
   "metadata": {
    "collapsed": false,
    "pycharm": {
     "name": "#%% md\n"
    }
   }
  },
  {
   "cell_type": "markdown",
   "source": [
    "..."
   ],
   "metadata": {
    "collapsed": false,
    "pycharm": {
     "name": "#%% md\n"
    }
   }
  },
  {
   "cell_type": "markdown",
   "source": [
    "## Dataset construction\n",
    "Now let's clean our raw data and construct the dataset. The full process for preparing the data is:\n",
    "- Convert date string values to pandas datetime values\n",
    "- Convert round string values to integers\n",
    "- Construct and add historical features\n",
    "- Derive match results from scores"
   ],
   "metadata": {
    "collapsed": false,
    "pycharm": {
     "name": "#%% md\n"
    }
   }
  },
  {
   "cell_type": "code",
   "execution_count": 52,
   "outputs": [],
   "source": [
    "df = pd.DataFrame(raw_data)\n",
    "df = df[:100]"
   ],
   "metadata": {
    "collapsed": false,
    "pycharm": {
     "name": "#%%\n"
    }
   }
  },
  {
   "cell_type": "code",
   "execution_count": 53,
   "outputs": [],
   "source": [
    "# convert date str to datetime\n",
    "df['date'] = pd.to_datetime(df['date'], infer_datetime_format=True)\n",
    "# sort by date column\n",
    "df = df.sort_values(by='date')\n",
    "df = df.reset_index(drop=True)\n",
    "# convert 'round' values to int\n",
    "df['round'] = df['round'].astype(int)"
   ],
   "metadata": {
    "collapsed": false,
    "pycharm": {
     "name": "#%%\n"
    }
   }
  },
  {
   "cell_type": "markdown",
   "source": [
    "### Historical features\n",
    "In order to train an RNN model, we need to have series of football games, so the goal of this section is to add some historical features that will carry information about the last five games played by the home and away team of each match in the dataset."
   ],
   "metadata": {
    "collapsed": false,
    "pycharm": {
     "name": "#%% md\n"
    }
   }
  },
  {
   "cell_type": "code",
   "execution_count": 54,
   "outputs": [],
   "source": [
    "def get_match_index_by_match(match: pd.DataFrame) -> int:\n",
    "    return match.index.tolist()[0]\n",
    "\n",
    "\n",
    "def is_team_home_or_away_in_match(team_name: str, match: pd.DataFrame):\n",
    "    home_team = match.squeeze()['home_team']\n",
    "    if home_team == team_name:\n",
    "        return 'home'\n",
    "    else:\n",
    "        return 'away'\n",
    "\n",
    "\n",
    "def get_last_match_played_by_team(df: pd.DataFrame, target_match_index: int, team_name: str) -> pd.DataFrame:\n",
    "    \"\"\"\n",
    "    Find in df the last match played by team_name prior to the game identified by target_match_index\n",
    "    :param df: where to search\n",
    "    :param target_match_index: the index in df of the target match\n",
    "    :param team_name: name of the team that has played the target match\n",
    "    :return:\n",
    "    \"\"\"\n",
    "    for i in reversed(range(target_match_index)):\n",
    "        current_match = df.iloc[[i]]  # dataframe\n",
    "        if current_match.at[i, 'home_team'] == team_name or current_match.at[i, 'away_team'] == team_name:\n",
    "            return current_match\n",
    "    raise MatchNotFoundException(f'Previous match for team {team_name} was not found')\n",
    "\n",
    "\n",
    "def get_last_five_matches_played_by_team(df: pd.DataFrame, target_match_index: int, team_name: str) -> list[pd.Series]:\n",
    "    \"\"\"\n",
    "    Find in df the last five matches played by team_name prior to the game identified by match_index\n",
    "    :param df: where to search\n",
    "    :param target_match_index: target match index in df\n",
    "    :param team_name: the name of the team that has played all the last five matches\n",
    "    :return:\n",
    "    \"\"\"\n",
    "    match = df.iloc[[target_match_index]]  # dataframe\n",
    "    last_match_found = match\n",
    "    last_five_matches = []\n",
    "    for i in range(1, 6):\n",
    "        try:\n",
    "            last_match_found = get_last_match_played_by_team(df, get_match_index_by_match(last_match_found), team_name)\n",
    "            last_five_matches.append(last_match_found.squeeze())\n",
    "        except MatchNotFoundException:\n",
    "            pass\n",
    "    return last_five_matches\n",
    "\n",
    "\n",
    "def construct_historical_features_of_last_five_matches_for_target_match(target_match_index: int,\n",
    "                                                                        target_home_or_away: HomeOrAway,\n",
    "                                                                        last_five_matches: list[\n",
    "                                                                            pd.Series]) -> pd.DataFrame:\n",
    "    \"\"\"\n",
    "    Build a dataframe containing information about the last five matches played by home or away team of target match as historical features.\n",
    "    :param target_match_index: the index of the target match in df\n",
    "    :param target_home_or_away: tells whether the five matches has been played by the home or away team of target match\n",
    "    :param last_five_matches: a list containing the last five matches\n",
    "    :return:\n",
    "    \"\"\"\n",
    "    # Init columns for 5 historical matches\n",
    "    historical_cols = [f'{target_home_or_away.name}_team_history_{i}_{colName}' for i in range(1, 6) for colName in\n",
    "                       match_cols]\n",
    "    # Init empty DataFrame with those columns and specific index\n",
    "    result = pd.DataFrame(columns=historical_cols, index=[target_match_index])\n",
    "    # Copy values into DataFrame\n",
    "    for i in range(len(last_five_matches)):\n",
    "        source_match = last_five_matches[i]\n",
    "        for colName, colValue in source_match.iteritems():\n",
    "            result.at[target_match_index, f'{target_home_or_away.name}_team_history_{i + 1}_{colName}'] = colValue\n",
    "    return result\n",
    "\n",
    "\n",
    "def add_historical_features_of_last_five_matches_for_all_matches(df: pd.DataFrame) -> pd.DataFrame:\n",
    "    \"\"\"\n",
    "    Construct a new dataframe adding information about the last five matches played by home and away team of all matches in df\n",
    "    :param df: source of data\n",
    "    :return: a new dataframe\n",
    "    \"\"\"\n",
    "    new_df = pd.DataFrame()\n",
    "    # for each row in dataframe\n",
    "    for index, row in df.iterrows():\n",
    "        team = row['home_team']\n",
    "        home_team_historical_df = construct_historical_features_of_last_five_matches_for_target_match(\n",
    "            index, HomeOrAway.home, get_last_five_matches_played_by_team(df, index, team)\n",
    "        )\n",
    "        team = row['away_team']\n",
    "        away_team_historical_df = construct_historical_features_of_last_five_matches_for_target_match(\n",
    "            index, HomeOrAway.away, get_last_five_matches_played_by_team(df, index, team)\n",
    "        )\n",
    "        new_row_as_df = pd.concat([df.iloc[[index]], home_team_historical_df, away_team_historical_df], axis=1)\n",
    "        new_df = pd.concat([new_df, new_row_as_df], axis=0)\n",
    "    return new_df"
   ],
   "metadata": {
    "collapsed": false,
    "pycharm": {
     "name": "#%%\n"
    }
   }
  },
  {
   "cell_type": "code",
   "execution_count": 55,
   "outputs": [],
   "source": [
    "# Construct historical features\n",
    "df1 = add_historical_features_of_last_five_matches_for_all_matches(df)"
   ],
   "metadata": {
    "collapsed": false,
    "pycharm": {
     "name": "#%%\n"
    }
   }
  },
  {
   "cell_type": "code",
   "execution_count": 56,
   "outputs": [],
   "source": [
    "# Remove the matches that do not have values for all historical features\n",
    "df1 = df1.dropna()\n",
    "df1 = df1.reset_index(drop=True)"
   ],
   "metadata": {
    "collapsed": false,
    "pycharm": {
     "name": "#%%\n"
    }
   }
  },
  {
   "cell_type": "code",
   "execution_count": 57,
   "outputs": [
    {
     "data": {
      "text/plain": "    season  round       date   time          referee     home_team  away_team  \\\n0  2005-06      6 2005-10-01  20:30  ROBERTO ROSETTI       UDINESE      LAZIO   \n1  2005-06      6 2005-10-01  18:00  MARIO MAZZOLENI  CHIEVOVERONA    TREVISO   \n2  2005-06      6 2005-10-02  15:00       MASSIMO DE       MESSINA  SAMPDORIA   \n3  2005-06      6 2005-10-02  15:00       LUCA BANTI       PALERMO     EMPOLI   \n4  2005-06      6 2005-10-02  15:00    OSCAR GIRARDI         LECCE   CAGLIARI   \n\n   home_team_score  away_team_score  home_team_coach  ...  \\\n0                3                0      Serse Cosmi  ...   \n1                0                0  Giuseppe Pillon  ...   \n2                1                4    Bortolo Mutti  ...   \n3                2                2    Luigi Delneri  ...   \n4                3                0   Silvio Baldini  ...   \n\n  away_team_history_5_away_player_9 away_team_history_5_away_player_10  \\\n0                 Gaetano DAgostino                    Giuseppe Sculli   \n1                         Reginaldo                     Luigi Beghetto   \n2                    Lamberto Zauli                   Francesco Flachi   \n3                   Matteo Serafini                   Francesco Tavano   \n4                    Mauro Esposito                        David Suazo   \n\n  away_team_history_5_away_player_11 away_team_history_5_away_substitute_1  \\\n0                  Riccardo Zampagna                      Arturo Di Napoli   \n1                              Pinga                     Roberto Chiappara   \n2                 Emiliano Bonazzoli                          Marco Pisano   \n3                    Ighli Vannucchi                        Francesco Lodi   \n4                       Andrea Cossu                         Andrea Capone   \n\n  away_team_history_5_away_substitute_2 away_team_history_5_away_substitute_3  \\\n0                     Zlatan Muslimovic                           Ivica Iliev   \n1                             Dino Fava                       Jehad Muntasser   \n2                       Vitaliy Kutuzov                       Marco Borriello   \n3                          Nicola Pozzi                         Daniele Balli   \n4                      Alessandro Budel                     Claudio Ferrarese   \n\n  away_team_history_5_away_substitute_4 away_team_history_5_away_substitute_5  \\\n0                         Marco Storari                     Filippo Cristante   \n1                       Adriano Zancope                 Francesco Parravicini   \n2                      Luca Castellazzi                         Marco Zamboni   \n3                           Davide Moro                         Paolo Zanetti   \n4                     Andrea Campagnolo                         Fabio Vignati   \n\n  away_team_history_5_away_substitute_6 away_team_history_5_away_substitute_7  \n0                            Luca Fusco                    Atsushi Yanagisawa  \n1                              Anderson                     Alberto Giuliatto  \n2                          Simone Pavan                      Gionata Mingozzi  \n3                          Andrea Raggi                     Francesco Pratali  \n4                      Francesco Pisano                          Claudio Pani  \n\n[5 rows x 517 columns]",
      "text/html": "<div>\n<style scoped>\n    .dataframe tbody tr th:only-of-type {\n        vertical-align: middle;\n    }\n\n    .dataframe tbody tr th {\n        vertical-align: top;\n    }\n\n    .dataframe thead th {\n        text-align: right;\n    }\n</style>\n<table border=\"1\" class=\"dataframe\">\n  <thead>\n    <tr style=\"text-align: right;\">\n      <th></th>\n      <th>season</th>\n      <th>round</th>\n      <th>date</th>\n      <th>time</th>\n      <th>referee</th>\n      <th>home_team</th>\n      <th>away_team</th>\n      <th>home_team_score</th>\n      <th>away_team_score</th>\n      <th>home_team_coach</th>\n      <th>...</th>\n      <th>away_team_history_5_away_player_9</th>\n      <th>away_team_history_5_away_player_10</th>\n      <th>away_team_history_5_away_player_11</th>\n      <th>away_team_history_5_away_substitute_1</th>\n      <th>away_team_history_5_away_substitute_2</th>\n      <th>away_team_history_5_away_substitute_3</th>\n      <th>away_team_history_5_away_substitute_4</th>\n      <th>away_team_history_5_away_substitute_5</th>\n      <th>away_team_history_5_away_substitute_6</th>\n      <th>away_team_history_5_away_substitute_7</th>\n    </tr>\n  </thead>\n  <tbody>\n    <tr>\n      <th>0</th>\n      <td>2005-06</td>\n      <td>6</td>\n      <td>2005-10-01</td>\n      <td>20:30</td>\n      <td>ROBERTO ROSETTI</td>\n      <td>UDINESE</td>\n      <td>LAZIO</td>\n      <td>3</td>\n      <td>0</td>\n      <td>Serse Cosmi</td>\n      <td>...</td>\n      <td>Gaetano DAgostino</td>\n      <td>Giuseppe Sculli</td>\n      <td>Riccardo Zampagna</td>\n      <td>Arturo Di Napoli</td>\n      <td>Zlatan Muslimovic</td>\n      <td>Ivica Iliev</td>\n      <td>Marco Storari</td>\n      <td>Filippo Cristante</td>\n      <td>Luca Fusco</td>\n      <td>Atsushi Yanagisawa</td>\n    </tr>\n    <tr>\n      <th>1</th>\n      <td>2005-06</td>\n      <td>6</td>\n      <td>2005-10-01</td>\n      <td>18:00</td>\n      <td>MARIO MAZZOLENI</td>\n      <td>CHIEVOVERONA</td>\n      <td>TREVISO</td>\n      <td>0</td>\n      <td>0</td>\n      <td>Giuseppe Pillon</td>\n      <td>...</td>\n      <td>Reginaldo</td>\n      <td>Luigi Beghetto</td>\n      <td>Pinga</td>\n      <td>Roberto Chiappara</td>\n      <td>Dino Fava</td>\n      <td>Jehad Muntasser</td>\n      <td>Adriano Zancope</td>\n      <td>Francesco Parravicini</td>\n      <td>Anderson</td>\n      <td>Alberto Giuliatto</td>\n    </tr>\n    <tr>\n      <th>2</th>\n      <td>2005-06</td>\n      <td>6</td>\n      <td>2005-10-02</td>\n      <td>15:00</td>\n      <td>MASSIMO DE</td>\n      <td>MESSINA</td>\n      <td>SAMPDORIA</td>\n      <td>1</td>\n      <td>4</td>\n      <td>Bortolo Mutti</td>\n      <td>...</td>\n      <td>Lamberto Zauli</td>\n      <td>Francesco Flachi</td>\n      <td>Emiliano Bonazzoli</td>\n      <td>Marco Pisano</td>\n      <td>Vitaliy Kutuzov</td>\n      <td>Marco Borriello</td>\n      <td>Luca Castellazzi</td>\n      <td>Marco Zamboni</td>\n      <td>Simone Pavan</td>\n      <td>Gionata Mingozzi</td>\n    </tr>\n    <tr>\n      <th>3</th>\n      <td>2005-06</td>\n      <td>6</td>\n      <td>2005-10-02</td>\n      <td>15:00</td>\n      <td>LUCA BANTI</td>\n      <td>PALERMO</td>\n      <td>EMPOLI</td>\n      <td>2</td>\n      <td>2</td>\n      <td>Luigi Delneri</td>\n      <td>...</td>\n      <td>Matteo Serafini</td>\n      <td>Francesco Tavano</td>\n      <td>Ighli Vannucchi</td>\n      <td>Francesco Lodi</td>\n      <td>Nicola Pozzi</td>\n      <td>Daniele Balli</td>\n      <td>Davide Moro</td>\n      <td>Paolo Zanetti</td>\n      <td>Andrea Raggi</td>\n      <td>Francesco Pratali</td>\n    </tr>\n    <tr>\n      <th>4</th>\n      <td>2005-06</td>\n      <td>6</td>\n      <td>2005-10-02</td>\n      <td>15:00</td>\n      <td>OSCAR GIRARDI</td>\n      <td>LECCE</td>\n      <td>CAGLIARI</td>\n      <td>3</td>\n      <td>0</td>\n      <td>Silvio Baldini</td>\n      <td>...</td>\n      <td>Mauro Esposito</td>\n      <td>David Suazo</td>\n      <td>Andrea Cossu</td>\n      <td>Andrea Capone</td>\n      <td>Alessandro Budel</td>\n      <td>Claudio Ferrarese</td>\n      <td>Andrea Campagnolo</td>\n      <td>Fabio Vignati</td>\n      <td>Francesco Pisano</td>\n      <td>Claudio Pani</td>\n    </tr>\n  </tbody>\n</table>\n<p>5 rows × 517 columns</p>\n</div>"
     },
     "execution_count": 57,
     "metadata": {},
     "output_type": "execute_result"
    }
   ],
   "source": [
    "df1.head()"
   ],
   "metadata": {
    "collapsed": false,
    "pycharm": {
     "name": "#%%\n"
    }
   }
  },
  {
   "cell_type": "markdown",
   "source": [
    "As expected, the first few retained matches comes from round 6, as we have considered 5 games for historical features."
   ],
   "metadata": {
    "collapsed": false,
    "pycharm": {
     "name": "#%% md\n"
    }
   }
  },
  {
   "cell_type": "code",
   "execution_count": 58,
   "outputs": [],
   "source": [
    "# re-convert all date values to datetime\n",
    "for colName, colValue in df1.iteritems():\n",
    "    if colName.endswith('date'):\n",
    "        df1[colName] = pd.to_datetime(df1[colName], infer_datetime_format=True)"
   ],
   "metadata": {
    "collapsed": false,
    "pycharm": {
     "name": "#%%\n"
    }
   }
  },
  {
   "cell_type": "code",
   "execution_count": 59,
   "outputs": [
    {
     "data": {
      "text/plain": "(43, 517)"
     },
     "execution_count": 59,
     "metadata": {},
     "output_type": "execute_result"
    }
   ],
   "source": [
    "df1.shape"
   ],
   "metadata": {
    "collapsed": false,
    "pycharm": {
     "name": "#%%\n"
    }
   }
  },
  {
   "cell_type": "markdown",
   "source": [
    "### Result column\n",
    "We don't care so much about scores because our model will try to predict match results, i.e. home win, away win or draw. We need a result column to be used as our target column, so let's construct it from the scores."
   ],
   "metadata": {
    "collapsed": false,
    "pycharm": {
     "name": "#%% md\n"
    }
   }
  },
  {
   "cell_type": "code",
   "execution_count": 60,
   "outputs": [],
   "source": [
    "def get_match_result_from_score(home_team_score: int, away_team_score: int) -> MatchResult:\n",
    "    if home_team_score == away_team_score:\n",
    "        return MatchResult.draw\n",
    "    if home_team_score > away_team_score:\n",
    "        return MatchResult.home\n",
    "    return MatchResult.away\n",
    "\n",
    "\n",
    "def add_target_column(df: pd.DataFrame) -> pd.DataFrame:\n",
    "    results = []\n",
    "    history_results = []\n",
    "    for i in range(5):\n",
    "        history_results[i] = []\n",
    "    for index, row in df.iterrows():\n",
    "        results.append(get_match_result_from_score(row['home_team_score'], row['away_team_score']).name)\n",
    "        for i in range(5):\n",
    "            history_results[i].append(get_match_result_from_score(row[f'home_team']))\n",
    "            history_results[f'home_team_history_{i}'] = get_match_result_from_score(\n",
    "                row[f'home_team_history_{i}_home_team_score'], row['home_team_history_{i}_away_team_score'])\n",
    "            history_results[f'away_team_history_{i}'] = get_match_result_from_score(\n",
    "                row[f'away_team_history_{i}_home_team_score'], row['away_team_history_{i}_away_team_score'])\n",
    "    df.insert(loc=df.columns.get_loc('referee'), column='result', value=results)\n",
    "    df.insert(loc=df.columns.get_loc('home_team_history'), column='result', value=results)\n",
    "    df.insert(loc=df.columns.get_loc('col_name'), column='result', value=results)\n",
    "    df.insert(loc=df.columns.get_loc('col_name'), column='result', value=results)\n",
    "    df.insert(loc=df.columns.get_loc('col_name'), column='result', value=results)\n",
    "    df.insert(loc=df.columns.get_loc('col_name'), column='result', value=results)\n",
    "    return df"
   ],
   "metadata": {
    "collapsed": false,
    "pycharm": {
     "name": "#%%\n"
    }
   }
  },
  {
   "cell_type": "code",
   "execution_count": 61,
   "outputs": [
    {
     "data": {
      "text/plain": "    season  round       date   time result          referee     home_team  \\\n0  2005-06      6 2005-10-01  20:30   home  ROBERTO ROSETTI       UDINESE   \n1  2005-06      6 2005-10-01  18:00   draw  MARIO MAZZOLENI  CHIEVOVERONA   \n2  2005-06      6 2005-10-02  15:00   away       MASSIMO DE       MESSINA   \n3  2005-06      6 2005-10-02  15:00   draw       LUCA BANTI       PALERMO   \n4  2005-06      6 2005-10-02  15:00   home    OSCAR GIRARDI         LECCE   \n\n   away_team  home_team_score  away_team_score  ...  \\\n0      LAZIO                3                0  ...   \n1    TREVISO                0                0  ...   \n2  SAMPDORIA                1                4  ...   \n3     EMPOLI                2                2  ...   \n4   CAGLIARI                3                0  ...   \n\n  away_team_history_5_away_player_9 away_team_history_5_away_player_10  \\\n0                 Gaetano DAgostino                    Giuseppe Sculli   \n1                         Reginaldo                     Luigi Beghetto   \n2                    Lamberto Zauli                   Francesco Flachi   \n3                   Matteo Serafini                   Francesco Tavano   \n4                    Mauro Esposito                        David Suazo   \n\n  away_team_history_5_away_player_11 away_team_history_5_away_substitute_1  \\\n0                  Riccardo Zampagna                      Arturo Di Napoli   \n1                              Pinga                     Roberto Chiappara   \n2                 Emiliano Bonazzoli                          Marco Pisano   \n3                    Ighli Vannucchi                        Francesco Lodi   \n4                       Andrea Cossu                         Andrea Capone   \n\n  away_team_history_5_away_substitute_2 away_team_history_5_away_substitute_3  \\\n0                     Zlatan Muslimovic                           Ivica Iliev   \n1                             Dino Fava                       Jehad Muntasser   \n2                       Vitaliy Kutuzov                       Marco Borriello   \n3                          Nicola Pozzi                         Daniele Balli   \n4                      Alessandro Budel                     Claudio Ferrarese   \n\n  away_team_history_5_away_substitute_4 away_team_history_5_away_substitute_5  \\\n0                         Marco Storari                     Filippo Cristante   \n1                       Adriano Zancope                 Francesco Parravicini   \n2                      Luca Castellazzi                         Marco Zamboni   \n3                           Davide Moro                         Paolo Zanetti   \n4                     Andrea Campagnolo                         Fabio Vignati   \n\n  away_team_history_5_away_substitute_6 away_team_history_5_away_substitute_7  \n0                            Luca Fusco                    Atsushi Yanagisawa  \n1                              Anderson                     Alberto Giuliatto  \n2                          Simone Pavan                      Gionata Mingozzi  \n3                          Andrea Raggi                     Francesco Pratali  \n4                      Francesco Pisano                          Claudio Pani  \n\n[5 rows x 518 columns]",
      "text/html": "<div>\n<style scoped>\n    .dataframe tbody tr th:only-of-type {\n        vertical-align: middle;\n    }\n\n    .dataframe tbody tr th {\n        vertical-align: top;\n    }\n\n    .dataframe thead th {\n        text-align: right;\n    }\n</style>\n<table border=\"1\" class=\"dataframe\">\n  <thead>\n    <tr style=\"text-align: right;\">\n      <th></th>\n      <th>season</th>\n      <th>round</th>\n      <th>date</th>\n      <th>time</th>\n      <th>result</th>\n      <th>referee</th>\n      <th>home_team</th>\n      <th>away_team</th>\n      <th>home_team_score</th>\n      <th>away_team_score</th>\n      <th>...</th>\n      <th>away_team_history_5_away_player_9</th>\n      <th>away_team_history_5_away_player_10</th>\n      <th>away_team_history_5_away_player_11</th>\n      <th>away_team_history_5_away_substitute_1</th>\n      <th>away_team_history_5_away_substitute_2</th>\n      <th>away_team_history_5_away_substitute_3</th>\n      <th>away_team_history_5_away_substitute_4</th>\n      <th>away_team_history_5_away_substitute_5</th>\n      <th>away_team_history_5_away_substitute_6</th>\n      <th>away_team_history_5_away_substitute_7</th>\n    </tr>\n  </thead>\n  <tbody>\n    <tr>\n      <th>0</th>\n      <td>2005-06</td>\n      <td>6</td>\n      <td>2005-10-01</td>\n      <td>20:30</td>\n      <td>home</td>\n      <td>ROBERTO ROSETTI</td>\n      <td>UDINESE</td>\n      <td>LAZIO</td>\n      <td>3</td>\n      <td>0</td>\n      <td>...</td>\n      <td>Gaetano DAgostino</td>\n      <td>Giuseppe Sculli</td>\n      <td>Riccardo Zampagna</td>\n      <td>Arturo Di Napoli</td>\n      <td>Zlatan Muslimovic</td>\n      <td>Ivica Iliev</td>\n      <td>Marco Storari</td>\n      <td>Filippo Cristante</td>\n      <td>Luca Fusco</td>\n      <td>Atsushi Yanagisawa</td>\n    </tr>\n    <tr>\n      <th>1</th>\n      <td>2005-06</td>\n      <td>6</td>\n      <td>2005-10-01</td>\n      <td>18:00</td>\n      <td>draw</td>\n      <td>MARIO MAZZOLENI</td>\n      <td>CHIEVOVERONA</td>\n      <td>TREVISO</td>\n      <td>0</td>\n      <td>0</td>\n      <td>...</td>\n      <td>Reginaldo</td>\n      <td>Luigi Beghetto</td>\n      <td>Pinga</td>\n      <td>Roberto Chiappara</td>\n      <td>Dino Fava</td>\n      <td>Jehad Muntasser</td>\n      <td>Adriano Zancope</td>\n      <td>Francesco Parravicini</td>\n      <td>Anderson</td>\n      <td>Alberto Giuliatto</td>\n    </tr>\n    <tr>\n      <th>2</th>\n      <td>2005-06</td>\n      <td>6</td>\n      <td>2005-10-02</td>\n      <td>15:00</td>\n      <td>away</td>\n      <td>MASSIMO DE</td>\n      <td>MESSINA</td>\n      <td>SAMPDORIA</td>\n      <td>1</td>\n      <td>4</td>\n      <td>...</td>\n      <td>Lamberto Zauli</td>\n      <td>Francesco Flachi</td>\n      <td>Emiliano Bonazzoli</td>\n      <td>Marco Pisano</td>\n      <td>Vitaliy Kutuzov</td>\n      <td>Marco Borriello</td>\n      <td>Luca Castellazzi</td>\n      <td>Marco Zamboni</td>\n      <td>Simone Pavan</td>\n      <td>Gionata Mingozzi</td>\n    </tr>\n    <tr>\n      <th>3</th>\n      <td>2005-06</td>\n      <td>6</td>\n      <td>2005-10-02</td>\n      <td>15:00</td>\n      <td>draw</td>\n      <td>LUCA BANTI</td>\n      <td>PALERMO</td>\n      <td>EMPOLI</td>\n      <td>2</td>\n      <td>2</td>\n      <td>...</td>\n      <td>Matteo Serafini</td>\n      <td>Francesco Tavano</td>\n      <td>Ighli Vannucchi</td>\n      <td>Francesco Lodi</td>\n      <td>Nicola Pozzi</td>\n      <td>Daniele Balli</td>\n      <td>Davide Moro</td>\n      <td>Paolo Zanetti</td>\n      <td>Andrea Raggi</td>\n      <td>Francesco Pratali</td>\n    </tr>\n    <tr>\n      <th>4</th>\n      <td>2005-06</td>\n      <td>6</td>\n      <td>2005-10-02</td>\n      <td>15:00</td>\n      <td>home</td>\n      <td>OSCAR GIRARDI</td>\n      <td>LECCE</td>\n      <td>CAGLIARI</td>\n      <td>3</td>\n      <td>0</td>\n      <td>...</td>\n      <td>Mauro Esposito</td>\n      <td>David Suazo</td>\n      <td>Andrea Cossu</td>\n      <td>Andrea Capone</td>\n      <td>Alessandro Budel</td>\n      <td>Claudio Ferrarese</td>\n      <td>Andrea Campagnolo</td>\n      <td>Fabio Vignati</td>\n      <td>Francesco Pisano</td>\n      <td>Claudio Pani</td>\n    </tr>\n  </tbody>\n</table>\n<p>5 rows × 518 columns</p>\n</div>"
     },
     "execution_count": 61,
     "metadata": {},
     "output_type": "execute_result"
    }
   ],
   "source": [
    "# add target column\n",
    "add_target_column(df1)\n",
    "df1.head()"
   ],
   "metadata": {
    "collapsed": false,
    "pycharm": {
     "name": "#%%\n"
    }
   }
  },
  {
   "cell_type": "code",
   "execution_count": 62,
   "outputs": [
    {
     "data": {
      "text/plain": "    season  round       date   time result          referee     home_team  \\\n0  2005-06      6 2005-10-01  20:30   home  ROBERTO ROSETTI       UDINESE   \n1  2005-06      6 2005-10-01  18:00   draw  MARIO MAZZOLENI  CHIEVOVERONA   \n2  2005-06      6 2005-10-02  15:00   away       MASSIMO DE       MESSINA   \n3  2005-06      6 2005-10-02  15:00   draw       LUCA BANTI       PALERMO   \n4  2005-06      6 2005-10-02  15:00   home    OSCAR GIRARDI         LECCE   \n\n   away_team  home_team_coach       home_player_1  ...  \\\n0      LAZIO      Serse Cosmi   Morgan De Sanctis  ...   \n1    TREVISO  Giuseppe Pillon     Alberto Fontana  ...   \n2  SAMPDORIA    Bortolo Mutti       Marco Storari  ...   \n3     EMPOLI    Luigi Delneri      Nicola Santoni  ...   \n4   CAGLIARI   Silvio Baldini  Vincenzo Sicignano  ...   \n\n  away_team_history_5_away_player_9 away_team_history_5_away_player_10  \\\n0                 Gaetano DAgostino                    Giuseppe Sculli   \n1                         Reginaldo                     Luigi Beghetto   \n2                    Lamberto Zauli                   Francesco Flachi   \n3                   Matteo Serafini                   Francesco Tavano   \n4                    Mauro Esposito                        David Suazo   \n\n  away_team_history_5_away_player_11 away_team_history_5_away_substitute_1  \\\n0                  Riccardo Zampagna                      Arturo Di Napoli   \n1                              Pinga                     Roberto Chiappara   \n2                 Emiliano Bonazzoli                          Marco Pisano   \n3                    Ighli Vannucchi                        Francesco Lodi   \n4                       Andrea Cossu                         Andrea Capone   \n\n  away_team_history_5_away_substitute_2 away_team_history_5_away_substitute_3  \\\n0                     Zlatan Muslimovic                           Ivica Iliev   \n1                             Dino Fava                       Jehad Muntasser   \n2                       Vitaliy Kutuzov                       Marco Borriello   \n3                          Nicola Pozzi                         Daniele Balli   \n4                      Alessandro Budel                     Claudio Ferrarese   \n\n  away_team_history_5_away_substitute_4 away_team_history_5_away_substitute_5  \\\n0                         Marco Storari                     Filippo Cristante   \n1                       Adriano Zancope                 Francesco Parravicini   \n2                      Luca Castellazzi                         Marco Zamboni   \n3                           Davide Moro                         Paolo Zanetti   \n4                     Andrea Campagnolo                         Fabio Vignati   \n\n  away_team_history_5_away_substitute_6 away_team_history_5_away_substitute_7  \n0                            Luca Fusco                    Atsushi Yanagisawa  \n1                              Anderson                     Alberto Giuliatto  \n2                          Simone Pavan                      Gionata Mingozzi  \n3                          Andrea Raggi                     Francesco Pratali  \n4                      Francesco Pisano                          Claudio Pani  \n\n[5 rows x 516 columns]",
      "text/html": "<div>\n<style scoped>\n    .dataframe tbody tr th:only-of-type {\n        vertical-align: middle;\n    }\n\n    .dataframe tbody tr th {\n        vertical-align: top;\n    }\n\n    .dataframe thead th {\n        text-align: right;\n    }\n</style>\n<table border=\"1\" class=\"dataframe\">\n  <thead>\n    <tr style=\"text-align: right;\">\n      <th></th>\n      <th>season</th>\n      <th>round</th>\n      <th>date</th>\n      <th>time</th>\n      <th>result</th>\n      <th>referee</th>\n      <th>home_team</th>\n      <th>away_team</th>\n      <th>home_team_coach</th>\n      <th>home_player_1</th>\n      <th>...</th>\n      <th>away_team_history_5_away_player_9</th>\n      <th>away_team_history_5_away_player_10</th>\n      <th>away_team_history_5_away_player_11</th>\n      <th>away_team_history_5_away_substitute_1</th>\n      <th>away_team_history_5_away_substitute_2</th>\n      <th>away_team_history_5_away_substitute_3</th>\n      <th>away_team_history_5_away_substitute_4</th>\n      <th>away_team_history_5_away_substitute_5</th>\n      <th>away_team_history_5_away_substitute_6</th>\n      <th>away_team_history_5_away_substitute_7</th>\n    </tr>\n  </thead>\n  <tbody>\n    <tr>\n      <th>0</th>\n      <td>2005-06</td>\n      <td>6</td>\n      <td>2005-10-01</td>\n      <td>20:30</td>\n      <td>home</td>\n      <td>ROBERTO ROSETTI</td>\n      <td>UDINESE</td>\n      <td>LAZIO</td>\n      <td>Serse Cosmi</td>\n      <td>Morgan De Sanctis</td>\n      <td>...</td>\n      <td>Gaetano DAgostino</td>\n      <td>Giuseppe Sculli</td>\n      <td>Riccardo Zampagna</td>\n      <td>Arturo Di Napoli</td>\n      <td>Zlatan Muslimovic</td>\n      <td>Ivica Iliev</td>\n      <td>Marco Storari</td>\n      <td>Filippo Cristante</td>\n      <td>Luca Fusco</td>\n      <td>Atsushi Yanagisawa</td>\n    </tr>\n    <tr>\n      <th>1</th>\n      <td>2005-06</td>\n      <td>6</td>\n      <td>2005-10-01</td>\n      <td>18:00</td>\n      <td>draw</td>\n      <td>MARIO MAZZOLENI</td>\n      <td>CHIEVOVERONA</td>\n      <td>TREVISO</td>\n      <td>Giuseppe Pillon</td>\n      <td>Alberto Fontana</td>\n      <td>...</td>\n      <td>Reginaldo</td>\n      <td>Luigi Beghetto</td>\n      <td>Pinga</td>\n      <td>Roberto Chiappara</td>\n      <td>Dino Fava</td>\n      <td>Jehad Muntasser</td>\n      <td>Adriano Zancope</td>\n      <td>Francesco Parravicini</td>\n      <td>Anderson</td>\n      <td>Alberto Giuliatto</td>\n    </tr>\n    <tr>\n      <th>2</th>\n      <td>2005-06</td>\n      <td>6</td>\n      <td>2005-10-02</td>\n      <td>15:00</td>\n      <td>away</td>\n      <td>MASSIMO DE</td>\n      <td>MESSINA</td>\n      <td>SAMPDORIA</td>\n      <td>Bortolo Mutti</td>\n      <td>Marco Storari</td>\n      <td>...</td>\n      <td>Lamberto Zauli</td>\n      <td>Francesco Flachi</td>\n      <td>Emiliano Bonazzoli</td>\n      <td>Marco Pisano</td>\n      <td>Vitaliy Kutuzov</td>\n      <td>Marco Borriello</td>\n      <td>Luca Castellazzi</td>\n      <td>Marco Zamboni</td>\n      <td>Simone Pavan</td>\n      <td>Gionata Mingozzi</td>\n    </tr>\n    <tr>\n      <th>3</th>\n      <td>2005-06</td>\n      <td>6</td>\n      <td>2005-10-02</td>\n      <td>15:00</td>\n      <td>draw</td>\n      <td>LUCA BANTI</td>\n      <td>PALERMO</td>\n      <td>EMPOLI</td>\n      <td>Luigi Delneri</td>\n      <td>Nicola Santoni</td>\n      <td>...</td>\n      <td>Matteo Serafini</td>\n      <td>Francesco Tavano</td>\n      <td>Ighli Vannucchi</td>\n      <td>Francesco Lodi</td>\n      <td>Nicola Pozzi</td>\n      <td>Daniele Balli</td>\n      <td>Davide Moro</td>\n      <td>Paolo Zanetti</td>\n      <td>Andrea Raggi</td>\n      <td>Francesco Pratali</td>\n    </tr>\n    <tr>\n      <th>4</th>\n      <td>2005-06</td>\n      <td>6</td>\n      <td>2005-10-02</td>\n      <td>15:00</td>\n      <td>home</td>\n      <td>OSCAR GIRARDI</td>\n      <td>LECCE</td>\n      <td>CAGLIARI</td>\n      <td>Silvio Baldini</td>\n      <td>Vincenzo Sicignano</td>\n      <td>...</td>\n      <td>Mauro Esposito</td>\n      <td>David Suazo</td>\n      <td>Andrea Cossu</td>\n      <td>Andrea Capone</td>\n      <td>Alessandro Budel</td>\n      <td>Claudio Ferrarese</td>\n      <td>Andrea Campagnolo</td>\n      <td>Fabio Vignati</td>\n      <td>Francesco Pisano</td>\n      <td>Claudio Pani</td>\n    </tr>\n  </tbody>\n</table>\n<p>5 rows × 516 columns</p>\n</div>"
     },
     "execution_count": 62,
     "metadata": {},
     "output_type": "execute_result"
    }
   ],
   "source": [
    "# drop score columns\n",
    "df1 = df1.drop(columns=['home_team_score', 'away_team_score'])\n",
    "df1.head()"
   ],
   "metadata": {
    "collapsed": false,
    "pycharm": {
     "name": "#%%\n"
    }
   }
  },
  {
   "cell_type": "markdown",
   "source": [
    "## Training\n",
    "Now that out dataset is ready, we can configure an RNN model and train it."
   ],
   "metadata": {
    "collapsed": false,
    "pycharm": {
     "name": "#%% md\n"
    }
   }
  },
  {
   "cell_type": "code",
   "execution_count": null,
   "outputs": [],
   "source": [
    "import torch\n",
    "import torch.nn as nn\n",
    "from torch import optim"
   ],
   "metadata": {
    "collapsed": false,
    "pycharm": {
     "name": "#%%\n"
    }
   }
  },
  {
   "cell_type": "code",
   "execution_count": null,
   "outputs": [],
   "source": [
    "class EncoderRNN(nn.Module):\n",
    "    def __init__(self, input_size, hidden_size):\n",
    "        super(EncoderRNN, self).__init__()\n",
    "        self.hidden_size = hidden_size\n",
    "        self.linear = nn.Linear(input_size + hidden_size, hidden_size)\n",
    "        self.tanh = nn.Tanh()\n",
    "\n",
    "    def forward(self, input, hidden):\n",
    "        combined = torch.cat((input, hidden), 1)\n",
    "        pre_hidden = self.linear(combined)\n",
    "        hidden = self.tanh(pre_hidden)\n",
    "        return hidden\n",
    "\n",
    "    def init_hidden(self):\n",
    "        return torch.zeros(1, self.hidden_size)"
   ],
   "metadata": {
    "collapsed": false,
    "pycharm": {
     "name": "#%%\n"
    }
   }
  },
  {
   "cell_type": "code",
   "execution_count": null,
   "outputs": [],
   "source": [
    "n_historical_features = 17\n",
    "n_hidden = 128\n",
    "encoder = EncoderRNN(input_size=n_historical_features, hidden_size=n_hidden)"
   ],
   "metadata": {
    "collapsed": false,
    "pycharm": {
     "name": "#%%\n"
    }
   }
  },
  {
   "cell_type": "code",
   "execution_count": null,
   "outputs": [],
   "source": [
    "class NeuralNetwork(nn.Module):\n",
    "    def __init__(self, input_size):\n",
    "        super(NeuralNetwork, self).__init__()\n",
    "        self.input_size = input_size\n",
    "        self.flatten = nn.Flatten()\n",
    "        self.layers = nn.Sequential(\n",
    "            nn.Linear(input_size, 512),\n",
    "            nn.ReLU(),\n",
    "            nn.Linear(512, 512),\n",
    "            nn.ReLU(),\n",
    "            nn.Linear(512, 3),\n",
    "            nn.Softmax(dim=1)\n",
    "        )\n",
    "\n",
    "    def forward(self, x):\n",
    "        x = self.flatten(x)\n",
    "        output = self.layers(x)\n",
    "        return output"
   ],
   "metadata": {
    "collapsed": false,
    "pycharm": {
     "name": "#%%\n"
    }
   }
  },
  {
   "cell_type": "code",
   "execution_count": null,
   "outputs": [],
   "source": [
    "n_basic_features = len(match_cols)\n",
    "mlp = NeuralNetwork(n_historical_features * 2 + n_basic_features)"
   ],
   "metadata": {
    "collapsed": false,
    "pycharm": {
     "name": "#%%\n"
    }
   }
  },
  {
   "cell_type": "code",
   "execution_count": null,
   "outputs": [],
   "source": [
    "def train(x, y, encoder: EncoderRNN, nn: NeuralNetwork,\n",
    "          encoder_optimizer: optim.Optimizer, nn_optimizer: optim.Optimizer, loss_fn):\n",
    "    # init\n",
    "    encoder_optimizer.zero_grad()\n",
    "    nn_optimizer.zero_grad()\n",
    "    input_length = x.size(0)\n",
    "    target_length = y.size(0)\n",
    "    loss = 0\n",
    "    # encoder forward\n",
    "    encoder_hidden = encoder.init_hidden()\n",
    "    for history_index in range(input_length):\n",
    "        encoder_hidden = encoder(x[history_index], encoder_hidden)\n",
    "    home_team_form = encoder_hidden\n",
    "    encoder_hidden = encoder.init_hidden()\n",
    "    for history_index in range(input_length):\n",
    "        encoder_hidden = encoder(x[history_index], encoder_hidden)\n",
    "    away_team_form = encoder_hidden\n",
    "    # mlp forward\n",
    "    match = torch.tensor([])  # todo\n",
    "    x_train = torch.cat((match, home_team_form, away_team_form), 1)\n",
    "    y_hat = nn(x_train)\n",
    "    # backward\n",
    "    loss = loss_fn(y, y_hat)\n",
    "    loss.backward()\n",
    "\n",
    "\n",
    "learning_rate = 0.01\n",
    "encoder_optimizer = optim.SGD(encoder.parameters(), lr=learning_rate)\n",
    "mlp_optimizer = optim.SGD(mlp.parameters(), lr=learning_rate)\n",
    "loss_fn = nn.NLLLoss()"
   ],
   "metadata": {
    "collapsed": false,
    "pycharm": {
     "name": "#%%\n"
    }
   }
  }
 ],
 "metadata": {
  "kernelspec": {
   "display_name": "Python 3",
   "language": "python",
   "name": "python3"
  },
  "language_info": {
   "codemirror_mode": {
    "name": "ipython",
    "version": 2
   },
   "file_extension": ".py",
   "mimetype": "text/x-python",
   "name": "python",
   "nbconvert_exporter": "python",
   "pygments_lexer": "ipython2",
   "version": "2.7.6"
  }
 },
 "nbformat": 4,
 "nbformat_minor": 0
}