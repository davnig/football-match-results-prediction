{
 "cells": [
  {
   "cell_type": "markdown",
   "source": [
    "# Football matches result prediction\n",
    "\n",
    "Let's try to predict *Serie A* matches result (i.e. home win, away win or draw) with a RNN."
   ],
   "metadata": {
    "collapsed": false,
    "pycharm": {
     "name": "#%% md\n"
    }
   }
  },
  {
   "cell_type": "markdown",
   "source": [
    "## Introduction\n",
    "\n",
    "- The dataset was created by scraping *Serie A* matches data starting from season 2005-06 to season 2020-21\n",
    "- Cup matches (*Champions League*, *Europa League*, *Coppa Italia*) played over the course of each season were not taken into account"
   ],
   "metadata": {
    "collapsed": false,
    "pycharm": {
     "name": "#%% md\n"
    }
   }
  },
  {
   "cell_type": "code",
   "execution_count": 163,
   "outputs": [],
   "source": [
    "import pandas as pd\n",
    "import re\n",
    "from _MatchNotFoundException import MatchNotFoundException\n",
    "from HomeOrAway import HomeOrAway\n",
    "match_cols = ['season', 'round'] + \\\n",
    "             ['date', 'time', 'referee', 'home_team', 'away_team', 'home_team_score', 'away_team_score'] + \\\n",
    "             ['home_team_coach'] + \\\n",
    "             ['home_player_' + str(i) for i in range(1, 12)] + \\\n",
    "             ['home_substitute_' + str(i) for i in range(1, 8)] + \\\n",
    "             ['away_team_coach'] + \\\n",
    "             ['away_player_' + str(i) for i in range(1, 12)] + \\\n",
    "             ['away_substitute_' + str(i) for i in range(1, 8)]"
   ],
   "metadata": {
    "collapsed": false,
    "pycharm": {
     "name": "#%%\n"
    }
   }
  },
  {
   "cell_type": "code",
   "execution_count": 164,
   "outputs": [
    {
     "data": {
      "text/plain": "    season  round        date   time             referee   home_team  \\\n0  2005-06      1  28/08/2005  15:00          MASSIMO DE      ASCOLI   \n1  2005-06      1  27/08/2005  20:30  GIANLUCA PAPARESTA  FIORENTINA   \n2  2005-06      1  28/08/2005  15:00       TIZIANO PIERI       PARMA   \n3  2005-06      1  28/08/2005  15:00   PAOLO TAGLIAVENTO       INTER   \n4  2005-06      1  27/08/2005  18:00     GIANLUCA ROCCHI     LIVORNO   \n\n   away_team  home_team_score  away_team_score   home_team_coach  ...  \\\n0      MILAN                1                1     Massimo Silva  ...   \n1  SAMPDORIA                2                1  Cesare Prandelli  ...   \n2    PALERMO                1                1     Mario Beretta  ...   \n3    TREVISO                3                0   Roberto Mancini  ...   \n4      LECCE                2                1  Roberto Donadoni  ...   \n\n     away_player_9     away_player_10      away_player_11  away_substitute_1  \\\n0             Kaka  Andriy Shevchenko   Alberto Gilardino  Marek Jankulovski   \n1   Lamberto Zauli   Francesco Flachi  Emiliano Bonazzoli       Marco Pisano   \n2  Massimo Bonanni  Andrea Caracciolo     Stephen Makinwa     Nicola Santoni   \n3        Reginaldo     Luigi Beghetto               Pinga  Roberto Chiappara   \n4     Alex Pinardi   Aleksei Eremenko      Graziano Pelle   Alfonso Camorani   \n\n  away_substitute_2   away_substitute_3  away_substitute_4  \\\n0  Clarence Seedorf        Zeljko Kalac    Gennaro Gattuso   \n1   Vitaliy Kutuzov     Marco Borriello   Luca Castellazzi   \n2    Franco Brienza   Massimo Mutarelli     Giuseppe Biava   \n3         Dino Fava     Jehad Muntasser    Adriano Zancope   \n4      Jaime Valdes  Giuseppe Cozzolino  Francesco Benussi   \n\n       away_substitute_5   away_substitute_6  away_substitute_7  \n0       Manuel Rui Costa        Johann Vogel        Dario Simic  \n1          Marco Zamboni        Simone Pavan   Gionata Mingozzi  \n2          Michele Ferri    Mariano Gonzalez        Simone Pepe  \n3  Francesco Parravicini            Anderson  Alberto Giuliatto  \n4         Marco Pecorari  Giuseppe Abruzzese    Davide Giorgino  \n\n[5 rows x 47 columns]",
      "text/html": "<div>\n<style scoped>\n    .dataframe tbody tr th:only-of-type {\n        vertical-align: middle;\n    }\n\n    .dataframe tbody tr th {\n        vertical-align: top;\n    }\n\n    .dataframe thead th {\n        text-align: right;\n    }\n</style>\n<table border=\"1\" class=\"dataframe\">\n  <thead>\n    <tr style=\"text-align: right;\">\n      <th></th>\n      <th>season</th>\n      <th>round</th>\n      <th>date</th>\n      <th>time</th>\n      <th>referee</th>\n      <th>home_team</th>\n      <th>away_team</th>\n      <th>home_team_score</th>\n      <th>away_team_score</th>\n      <th>home_team_coach</th>\n      <th>...</th>\n      <th>away_player_9</th>\n      <th>away_player_10</th>\n      <th>away_player_11</th>\n      <th>away_substitute_1</th>\n      <th>away_substitute_2</th>\n      <th>away_substitute_3</th>\n      <th>away_substitute_4</th>\n      <th>away_substitute_5</th>\n      <th>away_substitute_6</th>\n      <th>away_substitute_7</th>\n    </tr>\n  </thead>\n  <tbody>\n    <tr>\n      <th>0</th>\n      <td>2005-06</td>\n      <td>1</td>\n      <td>28/08/2005</td>\n      <td>15:00</td>\n      <td>MASSIMO DE</td>\n      <td>ASCOLI</td>\n      <td>MILAN</td>\n      <td>1</td>\n      <td>1</td>\n      <td>Massimo Silva</td>\n      <td>...</td>\n      <td>Kaka</td>\n      <td>Andriy Shevchenko</td>\n      <td>Alberto Gilardino</td>\n      <td>Marek Jankulovski</td>\n      <td>Clarence Seedorf</td>\n      <td>Zeljko Kalac</td>\n      <td>Gennaro Gattuso</td>\n      <td>Manuel Rui Costa</td>\n      <td>Johann Vogel</td>\n      <td>Dario Simic</td>\n    </tr>\n    <tr>\n      <th>1</th>\n      <td>2005-06</td>\n      <td>1</td>\n      <td>27/08/2005</td>\n      <td>20:30</td>\n      <td>GIANLUCA PAPARESTA</td>\n      <td>FIORENTINA</td>\n      <td>SAMPDORIA</td>\n      <td>2</td>\n      <td>1</td>\n      <td>Cesare Prandelli</td>\n      <td>...</td>\n      <td>Lamberto Zauli</td>\n      <td>Francesco Flachi</td>\n      <td>Emiliano Bonazzoli</td>\n      <td>Marco Pisano</td>\n      <td>Vitaliy Kutuzov</td>\n      <td>Marco Borriello</td>\n      <td>Luca Castellazzi</td>\n      <td>Marco Zamboni</td>\n      <td>Simone Pavan</td>\n      <td>Gionata Mingozzi</td>\n    </tr>\n    <tr>\n      <th>2</th>\n      <td>2005-06</td>\n      <td>1</td>\n      <td>28/08/2005</td>\n      <td>15:00</td>\n      <td>TIZIANO PIERI</td>\n      <td>PARMA</td>\n      <td>PALERMO</td>\n      <td>1</td>\n      <td>1</td>\n      <td>Mario Beretta</td>\n      <td>...</td>\n      <td>Massimo Bonanni</td>\n      <td>Andrea Caracciolo</td>\n      <td>Stephen Makinwa</td>\n      <td>Nicola Santoni</td>\n      <td>Franco Brienza</td>\n      <td>Massimo Mutarelli</td>\n      <td>Giuseppe Biava</td>\n      <td>Michele Ferri</td>\n      <td>Mariano Gonzalez</td>\n      <td>Simone Pepe</td>\n    </tr>\n    <tr>\n      <th>3</th>\n      <td>2005-06</td>\n      <td>1</td>\n      <td>28/08/2005</td>\n      <td>15:00</td>\n      <td>PAOLO TAGLIAVENTO</td>\n      <td>INTER</td>\n      <td>TREVISO</td>\n      <td>3</td>\n      <td>0</td>\n      <td>Roberto Mancini</td>\n      <td>...</td>\n      <td>Reginaldo</td>\n      <td>Luigi Beghetto</td>\n      <td>Pinga</td>\n      <td>Roberto Chiappara</td>\n      <td>Dino Fava</td>\n      <td>Jehad Muntasser</td>\n      <td>Adriano Zancope</td>\n      <td>Francesco Parravicini</td>\n      <td>Anderson</td>\n      <td>Alberto Giuliatto</td>\n    </tr>\n    <tr>\n      <th>4</th>\n      <td>2005-06</td>\n      <td>1</td>\n      <td>27/08/2005</td>\n      <td>18:00</td>\n      <td>GIANLUCA ROCCHI</td>\n      <td>LIVORNO</td>\n      <td>LECCE</td>\n      <td>2</td>\n      <td>1</td>\n      <td>Roberto Donadoni</td>\n      <td>...</td>\n      <td>Alex Pinardi</td>\n      <td>Aleksei Eremenko</td>\n      <td>Graziano Pelle</td>\n      <td>Alfonso Camorani</td>\n      <td>Jaime Valdes</td>\n      <td>Giuseppe Cozzolino</td>\n      <td>Francesco Benussi</td>\n      <td>Marco Pecorari</td>\n      <td>Giuseppe Abruzzese</td>\n      <td>Davide Giorgino</td>\n    </tr>\n  </tbody>\n</table>\n<p>5 rows × 47 columns</p>\n</div>"
     },
     "execution_count": 164,
     "metadata": {},
     "output_type": "execute_result"
    }
   ],
   "source": [
    "raw_data = pd.read_csv('raw.csv')\n",
    "raw_data.head()"
   ],
   "metadata": {
    "collapsed": false,
    "pycharm": {
     "name": "#%%\n"
    }
   }
  },
  {
   "cell_type": "markdown",
   "source": [
    "## Data visualization\n",
    "\n",
    "Let's inspect our data a little bit more"
   ],
   "metadata": {
    "collapsed": false,
    "pycharm": {
     "name": "#%% md\n"
    }
   }
  },
  {
   "cell_type": "markdown",
   "source": [
    "..."
   ],
   "metadata": {
    "collapsed": false,
    "pycharm": {
     "name": "#%% md\n"
    }
   }
  },
  {
   "cell_type": "markdown",
   "source": [
    "## Dataset construction\n",
    "Now let's clean our raw data and construct the dataset"
   ],
   "metadata": {
    "collapsed": false,
    "pycharm": {
     "name": "#%% md\n"
    }
   }
  },
  {
   "cell_type": "code",
   "execution_count": 165,
   "outputs": [],
   "source": [
    "df = pd.DataFrame(raw_data)\n",
    "df = df[:100]"
   ],
   "metadata": {
    "collapsed": false,
    "pycharm": {
     "name": "#%%\n"
    }
   }
  },
  {
   "cell_type": "code",
   "execution_count": 166,
   "outputs": [],
   "source": [
    "# convert date str to datetime\n",
    "df['date'] = pd.to_datetime(df['date'], infer_datetime_format=True)\n",
    "# sort by date column\n",
    "df = df.sort_values(by='date')\n",
    "df = df.reset_index(drop=True)\n",
    "# convert 'round' values to int\n",
    "df['round'] = df['round'].astype(int)"
   ],
   "metadata": {
    "collapsed": false,
    "pycharm": {
     "name": "#%%\n"
    }
   }
  },
  {
   "cell_type": "markdown",
   "source": [
    "### Historic features\n",
    "In order to train an RNN model, we need to have series of football games. So, the goal of this section is to add some historic features that will carry information about the last five games played by the home and away team of each match in the dataset."
   ],
   "metadata": {
    "collapsed": false,
    "pycharm": {
     "name": "#%% md\n"
    }
   }
  },
  {
   "cell_type": "code",
   "execution_count": 167,
   "outputs": [],
   "source": [
    "def get_match_index_by_match(match: pd.DataFrame) -> int:\n",
    "    return match.index.tolist()[0]\n",
    "\n",
    "def is_team_home_or_away_in_match(team_name: str, match: pd.DataFrame):\n",
    "    home_team = match.squeeze()['home_team']\n",
    "    if home_team == team_name:\n",
    "        return 'home'\n",
    "    else:\n",
    "        return 'away'\n",
    "\n",
    "def get_last_match_played_by_team(df: pd.DataFrame, target_match_index: int, team_name: str) -> pd.DataFrame:\n",
    "    \"\"\"\n",
    "    Find in df the last match played by team_name prior to the game identified by target_match_index\n",
    "    :param df: where to search\n",
    "    :param target_match_index: the index in df of the target match\n",
    "    :param team_name: name of the team that has played the target match\n",
    "    :return:\n",
    "    \"\"\"\n",
    "    for i in reversed(range(target_match_index)):\n",
    "        current_match = df.iloc[[i]] # dataframe\n",
    "        if current_match.at[i, 'home_team'] == team_name or current_match.at[i, 'away_team'] == team_name:\n",
    "            return current_match\n",
    "    raise MatchNotFoundException(f'Previous match for team {team_name} was not found')\n",
    "\n",
    "def get_last_five_matches_played_by_team(df: pd.DataFrame, target_match_index: int, team_name: str) -> list[pd.Series]:\n",
    "    \"\"\"\n",
    "    Find in df the last five matches played by team_name prior to the game identified by match_index\n",
    "    :param df: where to search\n",
    "    :param target_match_index: target match index in df\n",
    "    :param team_name: the name of the team that has played all the last five matches\n",
    "    :return:\n",
    "    \"\"\"\n",
    "    match = df.iloc[[target_match_index]] # dataframe\n",
    "    last_match_found = match\n",
    "    last_five_matches = []\n",
    "    for i in range(1, 6):\n",
    "        try:\n",
    "            last_match_found = get_last_match_played_by_team(df, get_match_index_by_match(last_match_found), team_name)\n",
    "            last_five_matches.append(last_match_found.squeeze())\n",
    "        except MatchNotFoundException:\n",
    "            pass\n",
    "    return last_five_matches\n",
    "\n",
    "def construct_historic_features_of_last_five_matches_for_target_match(target_match_index: int, target_home_or_away: HomeOrAway, last_five_matches: list[pd.Series]) -> pd.DataFrame:\n",
    "    \"\"\"\n",
    "    Build a dataframe containing information about the last five matches played by home or away team of target match as historic features.\n",
    "    :param target_match_index: the index of the target match in df\n",
    "    :param target_home_or_away: tells whether the five matches has been played by the home or away team of target match\n",
    "    :param last_five_matches: a list containing the last five matches\n",
    "    :return:\n",
    "    \"\"\"\n",
    "    # Init columns for 5 historic matches\n",
    "    historic_cols = [f'{target_home_or_away.name}_team_history_{i}_{colName}' for i in range(1, 6) for colName in match_cols]\n",
    "    # Init empty DataFrame with those columns and specific index\n",
    "    result = pd.DataFrame(columns=historic_cols, index=[target_match_index])\n",
    "    # Copy values into DataFrame\n",
    "    for i in range(len(last_five_matches)):\n",
    "        source_match = last_five_matches[i]\n",
    "        for colName, colValue in source_match.iteritems():\n",
    "            result.at[target_match_index, f'{target_home_or_away.name}_team_history_{i+1}_{colName}'] = colValue\n",
    "    return result\n",
    "\n",
    "def add_historic_features_of_last_five_matches_for_all_matches(df: pd.DataFrame) -> pd.DataFrame:\n",
    "    \"\"\"\n",
    "    Construct a new dataframe adding information about the last five matches played by home and away team of all matches in df\n",
    "    :param df: source of data\n",
    "    :return: a new dataframe\n",
    "    \"\"\"\n",
    "    new_df = pd.DataFrame()\n",
    "    # for each row in dataframe\n",
    "    for index, row in df.iterrows():\n",
    "        team = row['home_team']\n",
    "        home_team_historic_df = construct_historic_features_of_last_five_matches_for_target_match(\n",
    "            index, HomeOrAway.home, get_last_five_matches_played_by_team(df, index, team)\n",
    "        )\n",
    "        team = row['away_team']\n",
    "        away_team_historic_df = construct_historic_features_of_last_five_matches_for_target_match(\n",
    "            index, HomeOrAway.away, get_last_five_matches_played_by_team(df, index, team)\n",
    "        )\n",
    "        new_row_as_df = pd.concat([df.iloc[[index]], home_team_historic_df, away_team_historic_df], axis=1)\n",
    "        new_df = pd.concat([new_df, new_row_as_df], axis=0)\n",
    "    return new_df"
   ],
   "metadata": {
    "collapsed": false,
    "pycharm": {
     "name": "#%%\n"
    }
   }
  },
  {
   "cell_type": "code",
   "execution_count": 168,
   "outputs": [
    {
     "data": {
      "text/plain": "     season  round       date   time               referee     home_team  \\\n0   2005-06      1 2005-08-27  20:30    GIANLUCA PAPARESTA    FIORENTINA   \n1   2005-06      1 2005-08-27  18:00       GIANLUCA ROCCHI       LIVORNO   \n2   2005-06      1 2005-08-28  15:00            MASSIMO DE        ASCOLI   \n3   2005-06      1 2005-08-28  15:00         TIZIANO PIERI         PARMA   \n4   2005-06      1 2005-08-28  15:00     PAOLO TAGLIAVENTO         INTER   \n..      ...    ...        ...    ...                   ...           ...   \n95  2005-06     10 2005-10-30  15:00      NICOLA STEFANINI  CHIEVOVERONA   \n96  2005-06     10 2005-10-30  15:00  MASSIMILIANO SACCANI       LIVORNO   \n97  2005-06     10 2005-10-30  20:30    PASQUALE RODOMONTI       UDINESE   \n98  2005-06     10 2005-10-30  15:00       GIANLUCA ROCCHI       REGGINA   \n99  2005-06     10 2005-10-30  15:00       MARIO MAZZOLENI         LECCE   \n\n    away_team  home_team_score  away_team_score   home_team_coach  ...  \\\n0   SAMPDORIA                2                1  Cesare Prandelli  ...   \n1       LECCE                2                1  Roberto Donadoni  ...   \n2       MILAN                1                1     Massimo Silva  ...   \n3     PALERMO                1                1     Mario Beretta  ...   \n4     TREVISO                3                0   Roberto Mancini  ...   \n..        ...              ...              ...               ...  ...   \n95     EMPOLI                2                2   Giuseppe Pillon  ...   \n96      PARMA                2                0  Roberto Donadoni  ...   \n97    PALERMO                0                0       Serse Cosmi  ...   \n98      LAZIO                1                0   Walter Mazzarri  ...   \n99    MESSINA                0                2    Silvio Baldini  ...   \n\n   away_team_history_5_away_player_9 away_team_history_5_away_player_10  \\\n0                                NaN                                NaN   \n1                                NaN                                NaN   \n2                                NaN                                NaN   \n3                                NaN                                NaN   \n4                                NaN                                NaN   \n..                               ...                                ...   \n95                  Aleksei Eremenko                       Alex Pinardi   \n96                       Adrian Mutu                    David Trezeguet   \n97                   Massimo Bonanni                  Andrea Caracciolo   \n98                   Massimo Bonanni                  Andrea Caracciolo   \n99                       Ivica Iliev                  Zlatan Muslimovic   \n\n   away_team_history_5_away_player_11 away_team_history_5_away_substitute_1  \\\n0                                 NaN                                   NaN   \n1                                 NaN                                   NaN   \n2                                 NaN                                   NaN   \n3                                 NaN                                   NaN   \n4                                 NaN                                   NaN   \n..                                ...                                   ...   \n95                         Axel Konan                       Davide Giorgino   \n96                   Marcelo Zalayeta                               Emerson   \n97                    Stephen Makinwa                     Massimo Mutarelli   \n98                    Stephen Makinwa                     Massimo Mutarelli   \n99                   Arturo Di Napoli                     Filippo Cristante   \n\n   away_team_history_5_away_substitute_2  \\\n0                                    NaN   \n1                                    NaN   \n2                                    NaN   \n3                                    NaN   \n4                                    NaN   \n..                                   ...   \n95                        Graziano Pelle   \n96                          Pavel Nedved   \n97                        Franco Brienza   \n98                        Franco Brienza   \n99                                Rafael   \n\n   away_team_history_5_away_substitute_3  \\\n0                                    NaN   \n1                                    NaN   \n2                                    NaN   \n3                                    NaN   \n4                                    NaN   \n..                                   ...   \n95                          Jaime Valdes   \n96                    Zlatan Ibrahimovic   \n97                      Mariano Gonzalez   \n98                      Mariano Gonzalez   \n99                    Atsushi Yanagisawa   \n\n   away_team_history_5_away_substitute_4  \\\n0                                    NaN   \n1                                    NaN   \n2                                    NaN   \n3                                    NaN   \n4                                    NaN   \n..                                   ...   \n95                     Francesco Benussi   \n96                      Antonio Chimenti   \n97                       Mariano Andujar   \n98                       Mariano Andujar   \n99                     Nicholas Caglioni   \n\n   away_team_history_5_away_substitute_5  \\\n0                                    NaN   \n1                                    NaN   \n2                                    NaN   \n3                                    NaN   \n4                                    NaN   \n..                                   ...   \n95                        Marco Pecorari   \n96                          Robert Kovac   \n97                         Michele Ferri   \n98                         Michele Ferri   \n99                       Domenico Giampa   \n\n   away_team_history_5_away_substitute_6 away_team_history_5_away_substitute_7  \n0                                    NaN                                   NaN  \n1                                    NaN                                   NaN  \n2                                    NaN                                   NaN  \n3                                    NaN                                   NaN  \n4                                    NaN                                   NaN  \n..                                   ...                                   ...  \n95                    Giuseppe Abruzzese                                Angelo  \n96                         Manuele Blasi                  Alessandro Del Piero  \n97                           Paul Codrea                           Simone Pepe  \n98                           Paul Codrea                           Simone Pepe  \n99                     Gaetano DAgostino                       Giuseppe Sculli  \n\n[100 rows x 517 columns]",
      "text/html": "<div>\n<style scoped>\n    .dataframe tbody tr th:only-of-type {\n        vertical-align: middle;\n    }\n\n    .dataframe tbody tr th {\n        vertical-align: top;\n    }\n\n    .dataframe thead th {\n        text-align: right;\n    }\n</style>\n<table border=\"1\" class=\"dataframe\">\n  <thead>\n    <tr style=\"text-align: right;\">\n      <th></th>\n      <th>season</th>\n      <th>round</th>\n      <th>date</th>\n      <th>time</th>\n      <th>referee</th>\n      <th>home_team</th>\n      <th>away_team</th>\n      <th>home_team_score</th>\n      <th>away_team_score</th>\n      <th>home_team_coach</th>\n      <th>...</th>\n      <th>away_team_history_5_away_player_9</th>\n      <th>away_team_history_5_away_player_10</th>\n      <th>away_team_history_5_away_player_11</th>\n      <th>away_team_history_5_away_substitute_1</th>\n      <th>away_team_history_5_away_substitute_2</th>\n      <th>away_team_history_5_away_substitute_3</th>\n      <th>away_team_history_5_away_substitute_4</th>\n      <th>away_team_history_5_away_substitute_5</th>\n      <th>away_team_history_5_away_substitute_6</th>\n      <th>away_team_history_5_away_substitute_7</th>\n    </tr>\n  </thead>\n  <tbody>\n    <tr>\n      <th>0</th>\n      <td>2005-06</td>\n      <td>1</td>\n      <td>2005-08-27</td>\n      <td>20:30</td>\n      <td>GIANLUCA PAPARESTA</td>\n      <td>FIORENTINA</td>\n      <td>SAMPDORIA</td>\n      <td>2</td>\n      <td>1</td>\n      <td>Cesare Prandelli</td>\n      <td>...</td>\n      <td>NaN</td>\n      <td>NaN</td>\n      <td>NaN</td>\n      <td>NaN</td>\n      <td>NaN</td>\n      <td>NaN</td>\n      <td>NaN</td>\n      <td>NaN</td>\n      <td>NaN</td>\n      <td>NaN</td>\n    </tr>\n    <tr>\n      <th>1</th>\n      <td>2005-06</td>\n      <td>1</td>\n      <td>2005-08-27</td>\n      <td>18:00</td>\n      <td>GIANLUCA ROCCHI</td>\n      <td>LIVORNO</td>\n      <td>LECCE</td>\n      <td>2</td>\n      <td>1</td>\n      <td>Roberto Donadoni</td>\n      <td>...</td>\n      <td>NaN</td>\n      <td>NaN</td>\n      <td>NaN</td>\n      <td>NaN</td>\n      <td>NaN</td>\n      <td>NaN</td>\n      <td>NaN</td>\n      <td>NaN</td>\n      <td>NaN</td>\n      <td>NaN</td>\n    </tr>\n    <tr>\n      <th>2</th>\n      <td>2005-06</td>\n      <td>1</td>\n      <td>2005-08-28</td>\n      <td>15:00</td>\n      <td>MASSIMO DE</td>\n      <td>ASCOLI</td>\n      <td>MILAN</td>\n      <td>1</td>\n      <td>1</td>\n      <td>Massimo Silva</td>\n      <td>...</td>\n      <td>NaN</td>\n      <td>NaN</td>\n      <td>NaN</td>\n      <td>NaN</td>\n      <td>NaN</td>\n      <td>NaN</td>\n      <td>NaN</td>\n      <td>NaN</td>\n      <td>NaN</td>\n      <td>NaN</td>\n    </tr>\n    <tr>\n      <th>3</th>\n      <td>2005-06</td>\n      <td>1</td>\n      <td>2005-08-28</td>\n      <td>15:00</td>\n      <td>TIZIANO PIERI</td>\n      <td>PARMA</td>\n      <td>PALERMO</td>\n      <td>1</td>\n      <td>1</td>\n      <td>Mario Beretta</td>\n      <td>...</td>\n      <td>NaN</td>\n      <td>NaN</td>\n      <td>NaN</td>\n      <td>NaN</td>\n      <td>NaN</td>\n      <td>NaN</td>\n      <td>NaN</td>\n      <td>NaN</td>\n      <td>NaN</td>\n      <td>NaN</td>\n    </tr>\n    <tr>\n      <th>4</th>\n      <td>2005-06</td>\n      <td>1</td>\n      <td>2005-08-28</td>\n      <td>15:00</td>\n      <td>PAOLO TAGLIAVENTO</td>\n      <td>INTER</td>\n      <td>TREVISO</td>\n      <td>3</td>\n      <td>0</td>\n      <td>Roberto Mancini</td>\n      <td>...</td>\n      <td>NaN</td>\n      <td>NaN</td>\n      <td>NaN</td>\n      <td>NaN</td>\n      <td>NaN</td>\n      <td>NaN</td>\n      <td>NaN</td>\n      <td>NaN</td>\n      <td>NaN</td>\n      <td>NaN</td>\n    </tr>\n    <tr>\n      <th>...</th>\n      <td>...</td>\n      <td>...</td>\n      <td>...</td>\n      <td>...</td>\n      <td>...</td>\n      <td>...</td>\n      <td>...</td>\n      <td>...</td>\n      <td>...</td>\n      <td>...</td>\n      <td>...</td>\n      <td>...</td>\n      <td>...</td>\n      <td>...</td>\n      <td>...</td>\n      <td>...</td>\n      <td>...</td>\n      <td>...</td>\n      <td>...</td>\n      <td>...</td>\n      <td>...</td>\n    </tr>\n    <tr>\n      <th>95</th>\n      <td>2005-06</td>\n      <td>10</td>\n      <td>2005-10-30</td>\n      <td>15:00</td>\n      <td>NICOLA STEFANINI</td>\n      <td>CHIEVOVERONA</td>\n      <td>EMPOLI</td>\n      <td>2</td>\n      <td>2</td>\n      <td>Giuseppe Pillon</td>\n      <td>...</td>\n      <td>Aleksei Eremenko</td>\n      <td>Alex Pinardi</td>\n      <td>Axel Konan</td>\n      <td>Davide Giorgino</td>\n      <td>Graziano Pelle</td>\n      <td>Jaime Valdes</td>\n      <td>Francesco Benussi</td>\n      <td>Marco Pecorari</td>\n      <td>Giuseppe Abruzzese</td>\n      <td>Angelo</td>\n    </tr>\n    <tr>\n      <th>96</th>\n      <td>2005-06</td>\n      <td>10</td>\n      <td>2005-10-30</td>\n      <td>15:00</td>\n      <td>MASSIMILIANO SACCANI</td>\n      <td>LIVORNO</td>\n      <td>PARMA</td>\n      <td>2</td>\n      <td>0</td>\n      <td>Roberto Donadoni</td>\n      <td>...</td>\n      <td>Adrian Mutu</td>\n      <td>David Trezeguet</td>\n      <td>Marcelo Zalayeta</td>\n      <td>Emerson</td>\n      <td>Pavel Nedved</td>\n      <td>Zlatan Ibrahimovic</td>\n      <td>Antonio Chimenti</td>\n      <td>Robert Kovac</td>\n      <td>Manuele Blasi</td>\n      <td>Alessandro Del Piero</td>\n    </tr>\n    <tr>\n      <th>97</th>\n      <td>2005-06</td>\n      <td>10</td>\n      <td>2005-10-30</td>\n      <td>20:30</td>\n      <td>PASQUALE RODOMONTI</td>\n      <td>UDINESE</td>\n      <td>PALERMO</td>\n      <td>0</td>\n      <td>0</td>\n      <td>Serse Cosmi</td>\n      <td>...</td>\n      <td>Massimo Bonanni</td>\n      <td>Andrea Caracciolo</td>\n      <td>Stephen Makinwa</td>\n      <td>Massimo Mutarelli</td>\n      <td>Franco Brienza</td>\n      <td>Mariano Gonzalez</td>\n      <td>Mariano Andujar</td>\n      <td>Michele Ferri</td>\n      <td>Paul Codrea</td>\n      <td>Simone Pepe</td>\n    </tr>\n    <tr>\n      <th>98</th>\n      <td>2005-06</td>\n      <td>10</td>\n      <td>2005-10-30</td>\n      <td>15:00</td>\n      <td>GIANLUCA ROCCHI</td>\n      <td>REGGINA</td>\n      <td>LAZIO</td>\n      <td>1</td>\n      <td>0</td>\n      <td>Walter Mazzarri</td>\n      <td>...</td>\n      <td>Massimo Bonanni</td>\n      <td>Andrea Caracciolo</td>\n      <td>Stephen Makinwa</td>\n      <td>Massimo Mutarelli</td>\n      <td>Franco Brienza</td>\n      <td>Mariano Gonzalez</td>\n      <td>Mariano Andujar</td>\n      <td>Michele Ferri</td>\n      <td>Paul Codrea</td>\n      <td>Simone Pepe</td>\n    </tr>\n    <tr>\n      <th>99</th>\n      <td>2005-06</td>\n      <td>10</td>\n      <td>2005-10-30</td>\n      <td>15:00</td>\n      <td>MARIO MAZZOLENI</td>\n      <td>LECCE</td>\n      <td>MESSINA</td>\n      <td>0</td>\n      <td>2</td>\n      <td>Silvio Baldini</td>\n      <td>...</td>\n      <td>Ivica Iliev</td>\n      <td>Zlatan Muslimovic</td>\n      <td>Arturo Di Napoli</td>\n      <td>Filippo Cristante</td>\n      <td>Rafael</td>\n      <td>Atsushi Yanagisawa</td>\n      <td>Nicholas Caglioni</td>\n      <td>Domenico Giampa</td>\n      <td>Gaetano DAgostino</td>\n      <td>Giuseppe Sculli</td>\n    </tr>\n  </tbody>\n</table>\n<p>100 rows × 517 columns</p>\n</div>"
     },
     "execution_count": 168,
     "metadata": {},
     "output_type": "execute_result"
    }
   ],
   "source": [
    "# Construct historic features\n",
    "df1 = add_historic_features_of_last_five_matches_for_all_matches(df)\n",
    "df1"
   ],
   "metadata": {
    "collapsed": false,
    "pycharm": {
     "name": "#%%\n"
    }
   }
  },
  {
   "cell_type": "code",
   "execution_count": 169,
   "outputs": [],
   "source": [
    "# Remove the matches that do not have values for all historic features\n",
    "df1 = df1.dropna()\n",
    "df1 = df1.reset_index(drop=True)"
   ],
   "metadata": {
    "collapsed": false,
    "pycharm": {
     "name": "#%%\n"
    }
   }
  },
  {
   "cell_type": "code",
   "execution_count": 170,
   "outputs": [
    {
     "data": {
      "text/plain": "     season  round       date   time               referee     home_team  \\\n0   2005-06      6 2005-10-01  20:30       ROBERTO ROSETTI       UDINESE   \n1   2005-06      6 2005-10-01  18:00       MARIO MAZZOLENI  CHIEVOVERONA   \n2   2005-06      6 2005-10-02  15:00            MASSIMO DE       MESSINA   \n3   2005-06      6 2005-10-02  15:00            LUCA BANTI       PALERMO   \n4   2005-06      6 2005-10-02  15:00         OSCAR GIRARDI         LECCE   \n5   2005-06      6 2005-10-02  15:00       EMIDIO MORGANTI          ROMA   \n6   2005-06      6 2005-10-02  15:00        NICOLA AYROLDI    FIORENTINA   \n7   2005-06      6 2005-10-02  15:00        NICOLA RIZZOLI         MILAN   \n8   2005-06      6 2005-10-02  20:30    GIANLUCA PAPARESTA      JUVENTUS   \n9   2005-06      6 2005-10-02  15:00       DIEGO PRESCHERN        ASCOLI   \n10  2005-06      7 2005-10-15  18:00     PAOLO TAGLIAVENTO   ROBUR SIENA   \n11  2005-06      7 2005-10-15  20:30        MAURO BERGONZI      JUVENTUS   \n12  2005-06      7 2005-10-16  15:00         TIZIANO PIERI        EMPOLI   \n13  2005-06      7 2005-10-16  20:30      DOMENICO MESSINA      CAGLIARI   \n14  2005-06      7 2005-10-16  15:00    PASQUALE RODOMONTI         INTER   \n15  2005-06      7 2005-10-16  15:00         MATTEO SIMONE       REGGINA   \n16  2005-06      7 2005-10-16  15:00  MASSIMILIANO SACCANI        ASCOLI   \n17  2005-06      7 2005-10-16  15:00        NICOLA RIZZOLI         LAZIO   \n18  2005-06      7 2005-10-16  15:00       GIANLUCA ROCCHI       PALERMO   \n19  2005-06      8 2005-10-22  18:00            LUCA BANTI       MESSINA   \n20  2005-06      8 2005-10-23  20:30    GIANLUCA PAPARESTA          ROMA   \n21  2005-06      8 2005-10-23  15:00          PAOLO SILVIO  CHIEVOVERONA   \n22  2005-06      8 2005-10-23  15:00         PAOLO BERTINI       LIVORNO   \n23  2005-06      8 2005-10-23  15:00         OSCAR GIRARDI     SAMPDORIA   \n24  2005-06      8 2005-10-23  15:00     DANIELE TOMBOLINI       UDINESE   \n25  2005-06      8 2005-10-23  15:00   SALVATORE RACALBUTO         LECCE   \n26  2005-06      8 2005-10-23  15:00        STEFANO FARINA         MILAN   \n27  2005-06      9 2005-10-26  20:30      CHRISTIAN BRIGHI       PALERMO   \n28  2005-06      9 2005-10-26  20:30       ANTONIO DATTILO      JUVENTUS   \n29  2005-06      9 2005-10-26  20:30        NICOLA AYROLDI         LAZIO   \n30  2005-06      9 2005-10-26  20:30            MASSIMO DE   ROBUR SIENA   \n31  2005-06      9 2005-10-26  20:30         MATTEO SIMONE        EMPOLI   \n32  2005-06      9 2005-10-26  20:30       ROBERTO ROSETTI         INTER   \n33  2005-06      9 2005-10-26  20:30             ANDREA DE        ASCOLI   \n34  2005-06      9 2005-10-26  20:30          LUCA PALANCA      CAGLIARI   \n35  2005-06     10 2005-10-29  20:30         PAOLO BERTINI         MILAN   \n36  2005-06     10 2005-10-29  18:00        STEFANO FARINA     SAMPDORIA   \n37  2005-06     10 2005-10-30  15:00        NICOLA RIZZOLI          ROMA   \n38  2005-06     10 2005-10-30  15:00        MARCO GABRIELE    FIORENTINA   \n39  2005-06     10 2005-10-30  15:00      NICOLA STEFANINI  CHIEVOVERONA   \n40  2005-06     10 2005-10-30  20:30    PASQUALE RODOMONTI       UDINESE   \n41  2005-06     10 2005-10-30  15:00       GIANLUCA ROCCHI       REGGINA   \n42  2005-06     10 2005-10-30  15:00       MARIO MAZZOLENI         LECCE   \n\n       away_team  home_team_score  away_team_score           home_team_coach  \\\n0          LAZIO                3                0               Serse Cosmi   \n1        TREVISO                0                0           Giuseppe Pillon   \n2      SAMPDORIA                1                4             Bortolo Mutti   \n3         EMPOLI                2                2             Luigi Delneri   \n4       CAGLIARI                3                0            Silvio Baldini   \n5    ROBUR SIENA                2                3         Luciano Spalletti   \n6        LIVORNO                3                2          Cesare Prandelli   \n7        REGGINA                2                1           Carlo Ancelotti   \n8          INTER                2                0             Fabio Capello   \n9          PARMA                3                1             Massimo Silva   \n10       UDINESE                2                3            Luigi De Canio   \n11       MESSINA                1                0             Fabio Capello   \n12          ROMA                1                0               Mario Somma   \n13         MILAN                0                2         Davide Ballardini   \n14       LIVORNO                5                0           Roberto Mancini   \n15         LECCE                2                0           Walter Mazzarri   \n16     SAMPDORIA                2                1             Massimo Silva   \n17    FIORENTINA                1                0               Delio Rossi   \n18  CHIEVOVERONA                2                2             Luigi Delneri   \n19        ASCOLI                1                1             Bortolo Mutti   \n20         LAZIO                1                1         Luciano Spalletti   \n21      CAGLIARI                2                1           Giuseppe Pillon   \n22       REGGINA                1                0          Roberto Donadoni   \n23   ROBUR SIENA                3                3  Walter Alfredo Novellino   \n24         INTER                0                1               Serse Cosmi   \n25      JUVENTUS                0                3            Silvio Baldini   \n26       PALERMO                2                1           Carlo Ancelotti   \n27         LECCE                3                0             Luigi Delneri   \n28     SAMPDORIA                2                0             Fabio Capello   \n29  CHIEVOVERONA                2                2               Delio Rossi   \n30    FIORENTINA                0                2            Luigi De Canio   \n31         MILAN                1                3               Mario Somma   \n32          ROMA                2                3           Roberto Mancini   \n33       UDINESE                1                1             Massimo Silva   \n34       LIVORNO                1                1         Davide Ballardini   \n35      JUVENTUS                3                1           Carlo Ancelotti   \n36         INTER                2                2  Walter Alfredo Novellino   \n37        ASCOLI                2                1         Luciano Spalletti   \n38      CAGLIARI                2                1          Cesare Prandelli   \n39        EMPOLI                2                2           Giuseppe Pillon   \n40       PALERMO                0                0               Serse Cosmi   \n41         LAZIO                1                0           Walter Mazzarri   \n42       MESSINA                0                2            Silvio Baldini   \n\n    ... away_team_history_5_away_player_9 away_team_history_5_away_player_10  \\\n0   ...                 Gaetano DAgostino                    Giuseppe Sculli   \n1   ...                         Reginaldo                     Luigi Beghetto   \n2   ...                    Lamberto Zauli                   Francesco Flachi   \n3   ...                   Matteo Serafini                   Francesco Tavano   \n4   ...                    Mauro Esposito                        David Suazo   \n5   ...                    Mauro Esposito                        David Suazo   \n6   ...                      Alex Pinardi                   Aleksei Eremenko   \n7   ...                   Francesco Totti                     Rodrigo Taddei   \n8   ...                         Reginaldo                     Luigi Beghetto   \n9   ...                   Massimo Bonanni                  Andrea Caracciolo   \n10  ...                  David Di Michele                  Vincenzo Iaquinta   \n11  ...                  Martin Jorgensen                     Valeri Bojinov   \n12  ...                  David Di Michele                  Vincenzo Iaquinta   \n13  ...                  Thomas Locatelli                      Erjon Bogdani   \n14  ...                    Francesco Coco                 Raffaele Palladino   \n15  ...                      Michele Fini                     Marco Ferrante   \n16  ...                   Francesco Cozza                       Luca Vigiani   \n17  ...                  Martin Jorgensen                     Valeri Bojinov   \n18  ...                   Domenico Morfeo                     Mark Bresciano   \n19  ...                      Michele Fini                 Fabio Quagliarella   \n20  ...                Emanuele Filippini                              Pinga   \n21  ...                 Gaetano DAgostino                        Ivica Iliev   \n22  ...              Daniele Franceschini                  Sergio Pellissier   \n23  ...                   Massimo Bonanni                  Andrea Caracciolo   \n24  ...                      Alex Pinardi                         Axel Konan   \n25  ...                      Michele Fini                 Fabio Quagliarella   \n26  ...                   Massimo Bonanni                  Andrea Caracciolo   \n27  ...                    Manuel Pasqual                     Valeri Bojinov   \n28  ...                       Max Tonetto                 Emiliano Bonazzoli   \n29  ...                   Dejan Stankovic                         Julio Cruz   \n30  ...                    Manuel Pasqual                     Valeri Bojinov   \n31  ...               Andrea Giallombardo                     Paolo Di Canio   \n32  ...                      Jorge Bolano                   Bernardo Corradi   \n33  ...                      Pavel Nedved               Alessandro Del Piero   \n34  ...                      Cesar Prates                  Ibrahima Bakayoko   \n35  ...                       Adrian Mutu                    David Trezeguet   \n36  ...                  Martin Jorgensen                     Valeri Bojinov   \n37  ...                      Michele Fini                 Fabio Quagliarella   \n38  ...                    Rodrigo Taddei                    Francesco Totti   \n39  ...                  Aleksei Eremenko                       Alex Pinardi   \n40  ...                   Massimo Bonanni                  Andrea Caracciolo   \n41  ...                   Massimo Bonanni                  Andrea Caracciolo   \n42  ...                       Ivica Iliev                  Zlatan Muslimovic   \n\n   away_team_history_5_away_player_11 away_team_history_5_away_substitute_1  \\\n0                   Riccardo Zampagna                      Arturo Di Napoli   \n1                               Pinga                     Roberto Chiappara   \n2                  Emiliano Bonazzoli                          Marco Pisano   \n3                     Ighli Vannucchi                        Francesco Lodi   \n4                        Andrea Cossu                         Andrea Capone   \n5                        Andrea Cossu                         Andrea Capone   \n6                      Graziano Pelle                      Alfonso Camorani   \n7                   Vincenzo Montella                      Alberto Aquilani   \n8                               Pinga                     Roberto Chiappara   \n9                     Stephen Makinwa                        Nicola Santoni   \n10                  Antonio Di Natale                         Stefano Mauri   \n11                          Luca Toni                      Michele Pazienza   \n12                  Antonio Di Natale                         Stefano Mauri   \n13                      Enrico Chiesa                     Massimo Marazzina   \n14                Cristiano Lucarelli                          Cesar Prates   \n15                 Fabio Quagliarella                         Roberto Guana   \n16                     Simone Cavalli                      Simone Missiroli   \n17                          Luca Toni                      Michele Pazienza   \n18                   Bernardo Corradi                      Alfonso De Lucia   \n19                    Sasa Bjelanovic                       Pasquale Foggia   \n20                          Reginaldo                     Alberto Giuliatto   \n21                  Riccardo Zampagna                     Zlatan Muslimovic   \n22                             Amauri                        Paolo Sammarco   \n23                    Stephen Makinwa                         Michele Ferri   \n24                      Mirko Vucinic                      Alfonso Camorani   \n25                    Sasa Bjelanovic                       Pasquale Foggia   \n26                    Stephen Makinwa                         Michele Ferri   \n27                          Luca Toni                      Michele Pazienza   \n28                   Francesco Flachi                        Angelo Palombo   \n29                      Alvaro Recoba                     Esteban Cambiasso   \n30                          Luca Toni                      Michele Pazienza   \n31                     Tommaso Rocchi                          Goran Pandev   \n32                   Marco Delvecchio                         Luca Cigarini   \n33                 Zlatan Ibrahimovic                      Mauro Camoranesi   \n34                Cristiano Lucarelli                         Dario Passoni   \n35                   Marcelo Zalayeta                               Emerson   \n36                          Luca Toni                        Manuel Pasqual   \n37                    Sasa Bjelanovic                        Marco Ferrante   \n38                      Shabani Nonda                       Houssine Kharja   \n39                         Axel Konan                       Davide Giorgino   \n40                    Stephen Makinwa                     Massimo Mutarelli   \n41                    Stephen Makinwa                     Massimo Mutarelli   \n42                   Arturo Di Napoli                     Filippo Cristante   \n\n   away_team_history_5_away_substitute_2  \\\n0                      Zlatan Muslimovic   \n1                              Dino Fava   \n2                        Vitaliy Kutuzov   \n3                           Nicola Pozzi   \n4                       Alessandro Budel   \n5                       Alessandro Budel   \n6                           Jaime Valdes   \n7                          Aleandro Rosi   \n8                              Dino Fava   \n9                         Franco Brienza   \n10                          Jose Vidigal   \n11                         Gianni Guigou   \n12                          Jose Vidigal   \n13                          Paolo Foglio   \n14                        Nikola Lazetic   \n15                         Nicola Zanini   \n16                       Nicola Pavarini   \n17                         Gianni Guigou   \n18                       Paolo Cannavaro   \n19                        Marco Ferrante   \n20                     Roberto Chiappara   \n21                    Atsushi Yanagisawa   \n22                         Victor Obinna   \n23                     Massimo Mutarelli   \n24                          Jaime Valdes   \n25                        Marco Ferrante   \n26                     Massimo Mutarelli   \n27                      Martin Jorgensen   \n28                            Aimo Diana   \n29                  Juan Sebastian Veron   \n30                      Martin Jorgensen   \n31                       Roberto Baronio   \n32                          Filippo Savi   \n33                      Marcelo Zalayeta   \n34                      Giuseppe Colucci   \n35                          Pavel Nedved   \n36                    Riccardo Montolivo   \n37                       Nicolas Cordova   \n38                         Edgar Alvarez   \n39                        Graziano Pelle   \n40                        Franco Brienza   \n41                        Franco Brienza   \n42                                Rafael   \n\n   away_team_history_5_away_substitute_3  \\\n0                            Ivica Iliev   \n1                        Jehad Muntasser   \n2                        Marco Borriello   \n3                          Daniele Balli   \n4                      Claudio Ferrarese   \n5                      Claudio Ferrarese   \n6                     Giuseppe Cozzolino   \n7                          Shabani Nonda   \n8                        Jehad Muntasser   \n9                      Massimo Mutarelli   \n10                         Paulo Barreto   \n11                     Giampaolo Pazzini   \n12                         Paulo Barreto   \n13                      Gianluca Falsini   \n14                         Paolo Acerbis   \n15                          Massimo Paci   \n16                        Juriy Cannarsa   \n17                     Giampaolo Pazzini   \n18                        Fernando Couto   \n19                       Corrado Colombo   \n20                             Dino Fava   \n21                           Jose Mamede   \n22                          Marco Malago   \n23                        Franco Brienza   \n24                     Francesco Benussi   \n25                       Corrado Colombo   \n26                        Franco Brienza   \n27                       Christian Cejas   \n28                       Marco Borriello   \n29                               Adriano   \n30                       Christian Cejas   \n31                  Christian Manfredini   \n32                          Zlatko Dedic   \n33                       Landry Bonnefoi   \n34                    Raffaele Palladino   \n35                    Zlatan Ibrahimovic   \n36                     Giampaolo Pazzini   \n37                          Massimo Paci   \n38                       Olivier Dacourt   \n39                          Jaime Valdes   \n40                      Mariano Gonzalez   \n41                      Mariano Gonzalez   \n42                    Atsushi Yanagisawa   \n\n   away_team_history_5_away_substitute_4  \\\n0                          Marco Storari   \n1                        Adriano Zancope   \n2                       Luca Castellazzi   \n3                            Davide Moro   \n4                      Andrea Campagnolo   \n5                      Andrea Campagnolo   \n6                      Francesco Benussi   \n7                          Pietro Pipolo   \n8                        Adriano Zancope   \n9                         Giuseppe Biava   \n10                     Gabriele Paoletti   \n11                         Marco Roccati   \n12                     Gabriele Paoletti   \n13                          Marco Fortin   \n14                     Ibrahima Bakayoko   \n15                           Carlo Zotti   \n16                      Maurizio Lanzaro   \n17                         Marco Roccati   \n18                       Vincenzo Grella   \n19                           Carlo Zotti   \n20                       Adriano Zancope   \n21                     Nicholas Caglioni   \n22                       Lorenzo Squizzi   \n23                       Mariano Andujar   \n24                        Marco Pecorari   \n25                           Carlo Zotti   \n26                       Mariano Andujar   \n27                        Dario Dainelli   \n28                      Luca Castellazzi   \n29                       Francesco Toldo   \n30                        Dario Dainelli   \n31                        Marco Ballotta   \n32                            Luca Bucci   \n33                     Gianluca Pessotto   \n34                         Paolo Acerbis   \n35                      Antonio Chimenti   \n36                       Christian Cejas   \n37                           Carlo Zotti   \n38                                  Doni   \n39                     Francesco Benussi   \n40                       Mariano Andujar   \n41                       Mariano Andujar   \n42                     Nicholas Caglioni   \n\n   away_team_history_5_away_substitute_5  \\\n0                      Filippo Cristante   \n1                  Francesco Parravicini   \n2                          Marco Zamboni   \n3                          Paolo Zanetti   \n4                          Fabio Vignati   \n5                          Fabio Vignati   \n6                         Marco Pecorari   \n7                            Cesare Bovo   \n8                  Francesco Parravicini   \n9                          Michele Ferri   \n10                        Nestor Sensini   \n11                  Alessandro Gamberini   \n12                        Nestor Sensini   \n13                           Rej Volpato   \n14                     Diego De Ascentis   \n15                  Cristiano Del Grosso   \n16                           Luca Rigoni   \n17                  Alessandro Gamberini   \n18                          Zlatko Dedic   \n19                     Francesco Carbone   \n20                       Stefano Lorenzi   \n21                            Luca Fusco   \n22                      Andrea Zanchetta   \n23                       Leandro Rinaudo   \n24                   Francesco Marianini   \n25                     Francesco Carbone   \n26                       Leandro Rinaudo   \n27                         Gianni Guigou   \n28                         Marco Zamboni   \n29                              Ze Maria   \n30                         Gianni Guigou   \n31                        Manuel Belleri   \n32                       Daniele Dessena   \n33                     Giorgio Chiellini   \n34                         Matteo Melara   \n35                          Robert Kovac   \n36                        Dario Dainelli   \n37                      Alfredo Cariello   \n38                        Philippe Mexes   \n39                        Marco Pecorari   \n40                         Michele Ferri   \n41                         Michele Ferri   \n42                       Domenico Giampa   \n\n   away_team_history_5_away_substitute_6 away_team_history_5_away_substitute_7  \n0                             Luca Fusco                    Atsushi Yanagisawa  \n1                               Anderson                     Alberto Giuliatto  \n2                           Simone Pavan                      Gionata Mingozzi  \n3                           Andrea Raggi                     Francesco Pratali  \n4                       Francesco Pisano                          Claudio Pani  \n5                       Francesco Pisano                          Claudio Pani  \n6                     Giuseppe Abruzzese                       Davide Giorgino  \n7                        Houssine Kharja                       Antonio Cassano  \n8                               Anderson                     Alberto Giuliatto  \n9                       Mariano Gonzalez                           Simone Pepe  \n10                           Marco Motta                        Fausto Rossini  \n11                        Manuel Pasqual                    Riccardo Montolivo  \n12                           Marco Motta                        Fausto Rossini  \n13                           Matteo Paro                   Daniele Gastaldello  \n14                         David Balleri                         Matteo Melara  \n15                       Sasa Bjelanovic                       Corrado Colombo  \n16                       Davide Biondini                        Fabio Ceravolo  \n17                        Manuel Pasqual                    Riccardo Montolivo  \n18                         Luca Cigarini                      Marco Delvecchio  \n19                         Roberto Guana                          Massimo Paci  \n20                       Jehad Muntasser                              Anderson  \n21                       Domenico Giampa                      Arturo Di Napoli  \n22                               Luciano                     Simone Tiribocchi  \n23                      Mariano Gonzalez                           Simone Pepe  \n24                      Tiziano Polenghi                    Giuseppe Cozzolino  \n25                         Roberto Guana                          Massimo Paci  \n26                      Mariano Gonzalez                           Simone Pepe  \n27                    Riccardo Montolivo                     Giampaolo Pazzini  \n28                        Lamberto Zauli                       Vitaliy Kutuzov  \n29                       Santiago Solari                       Obafemi Martins  \n30                    Riccardo Montolivo                     Giampaolo Pazzini  \n31                       Emilson Cribari                         Fabio Firmani  \n32                           Marco Rossi                        Fernando Couto  \n33                   Federico Balzaretti                           Adrian Mutu  \n34                        Nikola Lazetic                         David Balleri  \n35                         Manuele Blasi                  Alessandro Del Piero  \n36                      Michele Pazienza                         Gianni Guigou  \n37                      Gianluca Comotto                       Corrado Colombo  \n38                         Aleandro Rosi                         Stefano Okaka  \n39                    Giuseppe Abruzzese                                Angelo  \n40                           Paul Codrea                           Simone Pepe  \n41                           Paul Codrea                           Simone Pepe  \n42                     Gaetano DAgostino                       Giuseppe Sculli  \n\n[43 rows x 517 columns]",
      "text/html": "<div>\n<style scoped>\n    .dataframe tbody tr th:only-of-type {\n        vertical-align: middle;\n    }\n\n    .dataframe tbody tr th {\n        vertical-align: top;\n    }\n\n    .dataframe thead th {\n        text-align: right;\n    }\n</style>\n<table border=\"1\" class=\"dataframe\">\n  <thead>\n    <tr style=\"text-align: right;\">\n      <th></th>\n      <th>season</th>\n      <th>round</th>\n      <th>date</th>\n      <th>time</th>\n      <th>referee</th>\n      <th>home_team</th>\n      <th>away_team</th>\n      <th>home_team_score</th>\n      <th>away_team_score</th>\n      <th>home_team_coach</th>\n      <th>...</th>\n      <th>away_team_history_5_away_player_9</th>\n      <th>away_team_history_5_away_player_10</th>\n      <th>away_team_history_5_away_player_11</th>\n      <th>away_team_history_5_away_substitute_1</th>\n      <th>away_team_history_5_away_substitute_2</th>\n      <th>away_team_history_5_away_substitute_3</th>\n      <th>away_team_history_5_away_substitute_4</th>\n      <th>away_team_history_5_away_substitute_5</th>\n      <th>away_team_history_5_away_substitute_6</th>\n      <th>away_team_history_5_away_substitute_7</th>\n    </tr>\n  </thead>\n  <tbody>\n    <tr>\n      <th>0</th>\n      <td>2005-06</td>\n      <td>6</td>\n      <td>2005-10-01</td>\n      <td>20:30</td>\n      <td>ROBERTO ROSETTI</td>\n      <td>UDINESE</td>\n      <td>LAZIO</td>\n      <td>3</td>\n      <td>0</td>\n      <td>Serse Cosmi</td>\n      <td>...</td>\n      <td>Gaetano DAgostino</td>\n      <td>Giuseppe Sculli</td>\n      <td>Riccardo Zampagna</td>\n      <td>Arturo Di Napoli</td>\n      <td>Zlatan Muslimovic</td>\n      <td>Ivica Iliev</td>\n      <td>Marco Storari</td>\n      <td>Filippo Cristante</td>\n      <td>Luca Fusco</td>\n      <td>Atsushi Yanagisawa</td>\n    </tr>\n    <tr>\n      <th>1</th>\n      <td>2005-06</td>\n      <td>6</td>\n      <td>2005-10-01</td>\n      <td>18:00</td>\n      <td>MARIO MAZZOLENI</td>\n      <td>CHIEVOVERONA</td>\n      <td>TREVISO</td>\n      <td>0</td>\n      <td>0</td>\n      <td>Giuseppe Pillon</td>\n      <td>...</td>\n      <td>Reginaldo</td>\n      <td>Luigi Beghetto</td>\n      <td>Pinga</td>\n      <td>Roberto Chiappara</td>\n      <td>Dino Fava</td>\n      <td>Jehad Muntasser</td>\n      <td>Adriano Zancope</td>\n      <td>Francesco Parravicini</td>\n      <td>Anderson</td>\n      <td>Alberto Giuliatto</td>\n    </tr>\n    <tr>\n      <th>2</th>\n      <td>2005-06</td>\n      <td>6</td>\n      <td>2005-10-02</td>\n      <td>15:00</td>\n      <td>MASSIMO DE</td>\n      <td>MESSINA</td>\n      <td>SAMPDORIA</td>\n      <td>1</td>\n      <td>4</td>\n      <td>Bortolo Mutti</td>\n      <td>...</td>\n      <td>Lamberto Zauli</td>\n      <td>Francesco Flachi</td>\n      <td>Emiliano Bonazzoli</td>\n      <td>Marco Pisano</td>\n      <td>Vitaliy Kutuzov</td>\n      <td>Marco Borriello</td>\n      <td>Luca Castellazzi</td>\n      <td>Marco Zamboni</td>\n      <td>Simone Pavan</td>\n      <td>Gionata Mingozzi</td>\n    </tr>\n    <tr>\n      <th>3</th>\n      <td>2005-06</td>\n      <td>6</td>\n      <td>2005-10-02</td>\n      <td>15:00</td>\n      <td>LUCA BANTI</td>\n      <td>PALERMO</td>\n      <td>EMPOLI</td>\n      <td>2</td>\n      <td>2</td>\n      <td>Luigi Delneri</td>\n      <td>...</td>\n      <td>Matteo Serafini</td>\n      <td>Francesco Tavano</td>\n      <td>Ighli Vannucchi</td>\n      <td>Francesco Lodi</td>\n      <td>Nicola Pozzi</td>\n      <td>Daniele Balli</td>\n      <td>Davide Moro</td>\n      <td>Paolo Zanetti</td>\n      <td>Andrea Raggi</td>\n      <td>Francesco Pratali</td>\n    </tr>\n    <tr>\n      <th>4</th>\n      <td>2005-06</td>\n      <td>6</td>\n      <td>2005-10-02</td>\n      <td>15:00</td>\n      <td>OSCAR GIRARDI</td>\n      <td>LECCE</td>\n      <td>CAGLIARI</td>\n      <td>3</td>\n      <td>0</td>\n      <td>Silvio Baldini</td>\n      <td>...</td>\n      <td>Mauro Esposito</td>\n      <td>David Suazo</td>\n      <td>Andrea Cossu</td>\n      <td>Andrea Capone</td>\n      <td>Alessandro Budel</td>\n      <td>Claudio Ferrarese</td>\n      <td>Andrea Campagnolo</td>\n      <td>Fabio Vignati</td>\n      <td>Francesco Pisano</td>\n      <td>Claudio Pani</td>\n    </tr>\n    <tr>\n      <th>5</th>\n      <td>2005-06</td>\n      <td>6</td>\n      <td>2005-10-02</td>\n      <td>15:00</td>\n      <td>EMIDIO MORGANTI</td>\n      <td>ROMA</td>\n      <td>ROBUR SIENA</td>\n      <td>2</td>\n      <td>3</td>\n      <td>Luciano Spalletti</td>\n      <td>...</td>\n      <td>Mauro Esposito</td>\n      <td>David Suazo</td>\n      <td>Andrea Cossu</td>\n      <td>Andrea Capone</td>\n      <td>Alessandro Budel</td>\n      <td>Claudio Ferrarese</td>\n      <td>Andrea Campagnolo</td>\n      <td>Fabio Vignati</td>\n      <td>Francesco Pisano</td>\n      <td>Claudio Pani</td>\n    </tr>\n    <tr>\n      <th>6</th>\n      <td>2005-06</td>\n      <td>6</td>\n      <td>2005-10-02</td>\n      <td>15:00</td>\n      <td>NICOLA AYROLDI</td>\n      <td>FIORENTINA</td>\n      <td>LIVORNO</td>\n      <td>3</td>\n      <td>2</td>\n      <td>Cesare Prandelli</td>\n      <td>...</td>\n      <td>Alex Pinardi</td>\n      <td>Aleksei Eremenko</td>\n      <td>Graziano Pelle</td>\n      <td>Alfonso Camorani</td>\n      <td>Jaime Valdes</td>\n      <td>Giuseppe Cozzolino</td>\n      <td>Francesco Benussi</td>\n      <td>Marco Pecorari</td>\n      <td>Giuseppe Abruzzese</td>\n      <td>Davide Giorgino</td>\n    </tr>\n    <tr>\n      <th>7</th>\n      <td>2005-06</td>\n      <td>6</td>\n      <td>2005-10-02</td>\n      <td>15:00</td>\n      <td>NICOLA RIZZOLI</td>\n      <td>MILAN</td>\n      <td>REGGINA</td>\n      <td>2</td>\n      <td>1</td>\n      <td>Carlo Ancelotti</td>\n      <td>...</td>\n      <td>Francesco Totti</td>\n      <td>Rodrigo Taddei</td>\n      <td>Vincenzo Montella</td>\n      <td>Alberto Aquilani</td>\n      <td>Aleandro Rosi</td>\n      <td>Shabani Nonda</td>\n      <td>Pietro Pipolo</td>\n      <td>Cesare Bovo</td>\n      <td>Houssine Kharja</td>\n      <td>Antonio Cassano</td>\n    </tr>\n    <tr>\n      <th>8</th>\n      <td>2005-06</td>\n      <td>6</td>\n      <td>2005-10-02</td>\n      <td>20:30</td>\n      <td>GIANLUCA PAPARESTA</td>\n      <td>JUVENTUS</td>\n      <td>INTER</td>\n      <td>2</td>\n      <td>0</td>\n      <td>Fabio Capello</td>\n      <td>...</td>\n      <td>Reginaldo</td>\n      <td>Luigi Beghetto</td>\n      <td>Pinga</td>\n      <td>Roberto Chiappara</td>\n      <td>Dino Fava</td>\n      <td>Jehad Muntasser</td>\n      <td>Adriano Zancope</td>\n      <td>Francesco Parravicini</td>\n      <td>Anderson</td>\n      <td>Alberto Giuliatto</td>\n    </tr>\n    <tr>\n      <th>9</th>\n      <td>2005-06</td>\n      <td>6</td>\n      <td>2005-10-02</td>\n      <td>15:00</td>\n      <td>DIEGO PRESCHERN</td>\n      <td>ASCOLI</td>\n      <td>PARMA</td>\n      <td>3</td>\n      <td>1</td>\n      <td>Massimo Silva</td>\n      <td>...</td>\n      <td>Massimo Bonanni</td>\n      <td>Andrea Caracciolo</td>\n      <td>Stephen Makinwa</td>\n      <td>Nicola Santoni</td>\n      <td>Franco Brienza</td>\n      <td>Massimo Mutarelli</td>\n      <td>Giuseppe Biava</td>\n      <td>Michele Ferri</td>\n      <td>Mariano Gonzalez</td>\n      <td>Simone Pepe</td>\n    </tr>\n    <tr>\n      <th>10</th>\n      <td>2005-06</td>\n      <td>7</td>\n      <td>2005-10-15</td>\n      <td>18:00</td>\n      <td>PAOLO TAGLIAVENTO</td>\n      <td>ROBUR SIENA</td>\n      <td>UDINESE</td>\n      <td>2</td>\n      <td>3</td>\n      <td>Luigi De Canio</td>\n      <td>...</td>\n      <td>David Di Michele</td>\n      <td>Vincenzo Iaquinta</td>\n      <td>Antonio Di Natale</td>\n      <td>Stefano Mauri</td>\n      <td>Jose Vidigal</td>\n      <td>Paulo Barreto</td>\n      <td>Gabriele Paoletti</td>\n      <td>Nestor Sensini</td>\n      <td>Marco Motta</td>\n      <td>Fausto Rossini</td>\n    </tr>\n    <tr>\n      <th>11</th>\n      <td>2005-06</td>\n      <td>7</td>\n      <td>2005-10-15</td>\n      <td>20:30</td>\n      <td>MAURO BERGONZI</td>\n      <td>JUVENTUS</td>\n      <td>MESSINA</td>\n      <td>1</td>\n      <td>0</td>\n      <td>Fabio Capello</td>\n      <td>...</td>\n      <td>Martin Jorgensen</td>\n      <td>Valeri Bojinov</td>\n      <td>Luca Toni</td>\n      <td>Michele Pazienza</td>\n      <td>Gianni Guigou</td>\n      <td>Giampaolo Pazzini</td>\n      <td>Marco Roccati</td>\n      <td>Alessandro Gamberini</td>\n      <td>Manuel Pasqual</td>\n      <td>Riccardo Montolivo</td>\n    </tr>\n    <tr>\n      <th>12</th>\n      <td>2005-06</td>\n      <td>7</td>\n      <td>2005-10-16</td>\n      <td>15:00</td>\n      <td>TIZIANO PIERI</td>\n      <td>EMPOLI</td>\n      <td>ROMA</td>\n      <td>1</td>\n      <td>0</td>\n      <td>Mario Somma</td>\n      <td>...</td>\n      <td>David Di Michele</td>\n      <td>Vincenzo Iaquinta</td>\n      <td>Antonio Di Natale</td>\n      <td>Stefano Mauri</td>\n      <td>Jose Vidigal</td>\n      <td>Paulo Barreto</td>\n      <td>Gabriele Paoletti</td>\n      <td>Nestor Sensini</td>\n      <td>Marco Motta</td>\n      <td>Fausto Rossini</td>\n    </tr>\n    <tr>\n      <th>13</th>\n      <td>2005-06</td>\n      <td>7</td>\n      <td>2005-10-16</td>\n      <td>20:30</td>\n      <td>DOMENICO MESSINA</td>\n      <td>CAGLIARI</td>\n      <td>MILAN</td>\n      <td>0</td>\n      <td>2</td>\n      <td>Davide Ballardini</td>\n      <td>...</td>\n      <td>Thomas Locatelli</td>\n      <td>Erjon Bogdani</td>\n      <td>Enrico Chiesa</td>\n      <td>Massimo Marazzina</td>\n      <td>Paolo Foglio</td>\n      <td>Gianluca Falsini</td>\n      <td>Marco Fortin</td>\n      <td>Rej Volpato</td>\n      <td>Matteo Paro</td>\n      <td>Daniele Gastaldello</td>\n    </tr>\n    <tr>\n      <th>14</th>\n      <td>2005-06</td>\n      <td>7</td>\n      <td>2005-10-16</td>\n      <td>15:00</td>\n      <td>PASQUALE RODOMONTI</td>\n      <td>INTER</td>\n      <td>LIVORNO</td>\n      <td>5</td>\n      <td>0</td>\n      <td>Roberto Mancini</td>\n      <td>...</td>\n      <td>Francesco Coco</td>\n      <td>Raffaele Palladino</td>\n      <td>Cristiano Lucarelli</td>\n      <td>Cesar Prates</td>\n      <td>Nikola Lazetic</td>\n      <td>Paolo Acerbis</td>\n      <td>Ibrahima Bakayoko</td>\n      <td>Diego De Ascentis</td>\n      <td>David Balleri</td>\n      <td>Matteo Melara</td>\n    </tr>\n    <tr>\n      <th>15</th>\n      <td>2005-06</td>\n      <td>7</td>\n      <td>2005-10-16</td>\n      <td>15:00</td>\n      <td>MATTEO SIMONE</td>\n      <td>REGGINA</td>\n      <td>LECCE</td>\n      <td>2</td>\n      <td>0</td>\n      <td>Walter Mazzarri</td>\n      <td>...</td>\n      <td>Michele Fini</td>\n      <td>Marco Ferrante</td>\n      <td>Fabio Quagliarella</td>\n      <td>Roberto Guana</td>\n      <td>Nicola Zanini</td>\n      <td>Massimo Paci</td>\n      <td>Carlo Zotti</td>\n      <td>Cristiano Del Grosso</td>\n      <td>Sasa Bjelanovic</td>\n      <td>Corrado Colombo</td>\n    </tr>\n    <tr>\n      <th>16</th>\n      <td>2005-06</td>\n      <td>7</td>\n      <td>2005-10-16</td>\n      <td>15:00</td>\n      <td>MASSIMILIANO SACCANI</td>\n      <td>ASCOLI</td>\n      <td>SAMPDORIA</td>\n      <td>2</td>\n      <td>1</td>\n      <td>Massimo Silva</td>\n      <td>...</td>\n      <td>Francesco Cozza</td>\n      <td>Luca Vigiani</td>\n      <td>Simone Cavalli</td>\n      <td>Simone Missiroli</td>\n      <td>Nicola Pavarini</td>\n      <td>Juriy Cannarsa</td>\n      <td>Maurizio Lanzaro</td>\n      <td>Luca Rigoni</td>\n      <td>Davide Biondini</td>\n      <td>Fabio Ceravolo</td>\n    </tr>\n    <tr>\n      <th>17</th>\n      <td>2005-06</td>\n      <td>7</td>\n      <td>2005-10-16</td>\n      <td>15:00</td>\n      <td>NICOLA RIZZOLI</td>\n      <td>LAZIO</td>\n      <td>FIORENTINA</td>\n      <td>1</td>\n      <td>0</td>\n      <td>Delio Rossi</td>\n      <td>...</td>\n      <td>Martin Jorgensen</td>\n      <td>Valeri Bojinov</td>\n      <td>Luca Toni</td>\n      <td>Michele Pazienza</td>\n      <td>Gianni Guigou</td>\n      <td>Giampaolo Pazzini</td>\n      <td>Marco Roccati</td>\n      <td>Alessandro Gamberini</td>\n      <td>Manuel Pasqual</td>\n      <td>Riccardo Montolivo</td>\n    </tr>\n    <tr>\n      <th>18</th>\n      <td>2005-06</td>\n      <td>7</td>\n      <td>2005-10-16</td>\n      <td>15:00</td>\n      <td>GIANLUCA ROCCHI</td>\n      <td>PALERMO</td>\n      <td>CHIEVOVERONA</td>\n      <td>2</td>\n      <td>2</td>\n      <td>Luigi Delneri</td>\n      <td>...</td>\n      <td>Domenico Morfeo</td>\n      <td>Mark Bresciano</td>\n      <td>Bernardo Corradi</td>\n      <td>Alfonso De Lucia</td>\n      <td>Paolo Cannavaro</td>\n      <td>Fernando Couto</td>\n      <td>Vincenzo Grella</td>\n      <td>Zlatko Dedic</td>\n      <td>Luca Cigarini</td>\n      <td>Marco Delvecchio</td>\n    </tr>\n    <tr>\n      <th>19</th>\n      <td>2005-06</td>\n      <td>8</td>\n      <td>2005-10-22</td>\n      <td>18:00</td>\n      <td>LUCA BANTI</td>\n      <td>MESSINA</td>\n      <td>ASCOLI</td>\n      <td>1</td>\n      <td>1</td>\n      <td>Bortolo Mutti</td>\n      <td>...</td>\n      <td>Michele Fini</td>\n      <td>Fabio Quagliarella</td>\n      <td>Sasa Bjelanovic</td>\n      <td>Pasquale Foggia</td>\n      <td>Marco Ferrante</td>\n      <td>Corrado Colombo</td>\n      <td>Carlo Zotti</td>\n      <td>Francesco Carbone</td>\n      <td>Roberto Guana</td>\n      <td>Massimo Paci</td>\n    </tr>\n    <tr>\n      <th>20</th>\n      <td>2005-06</td>\n      <td>8</td>\n      <td>2005-10-23</td>\n      <td>20:30</td>\n      <td>GIANLUCA PAPARESTA</td>\n      <td>ROMA</td>\n      <td>LAZIO</td>\n      <td>1</td>\n      <td>1</td>\n      <td>Luciano Spalletti</td>\n      <td>...</td>\n      <td>Emanuele Filippini</td>\n      <td>Pinga</td>\n      <td>Reginaldo</td>\n      <td>Alberto Giuliatto</td>\n      <td>Roberto Chiappara</td>\n      <td>Dino Fava</td>\n      <td>Adriano Zancope</td>\n      <td>Stefano Lorenzi</td>\n      <td>Jehad Muntasser</td>\n      <td>Anderson</td>\n    </tr>\n    <tr>\n      <th>21</th>\n      <td>2005-06</td>\n      <td>8</td>\n      <td>2005-10-23</td>\n      <td>15:00</td>\n      <td>PAOLO SILVIO</td>\n      <td>CHIEVOVERONA</td>\n      <td>CAGLIARI</td>\n      <td>2</td>\n      <td>1</td>\n      <td>Giuseppe Pillon</td>\n      <td>...</td>\n      <td>Gaetano DAgostino</td>\n      <td>Ivica Iliev</td>\n      <td>Riccardo Zampagna</td>\n      <td>Zlatan Muslimovic</td>\n      <td>Atsushi Yanagisawa</td>\n      <td>Jose Mamede</td>\n      <td>Nicholas Caglioni</td>\n      <td>Luca Fusco</td>\n      <td>Domenico Giampa</td>\n      <td>Arturo Di Napoli</td>\n    </tr>\n    <tr>\n      <th>22</th>\n      <td>2005-06</td>\n      <td>8</td>\n      <td>2005-10-23</td>\n      <td>15:00</td>\n      <td>PAOLO BERTINI</td>\n      <td>LIVORNO</td>\n      <td>REGGINA</td>\n      <td>1</td>\n      <td>0</td>\n      <td>Roberto Donadoni</td>\n      <td>...</td>\n      <td>Daniele Franceschini</td>\n      <td>Sergio Pellissier</td>\n      <td>Amauri</td>\n      <td>Paolo Sammarco</td>\n      <td>Victor Obinna</td>\n      <td>Marco Malago</td>\n      <td>Lorenzo Squizzi</td>\n      <td>Andrea Zanchetta</td>\n      <td>Luciano</td>\n      <td>Simone Tiribocchi</td>\n    </tr>\n    <tr>\n      <th>23</th>\n      <td>2005-06</td>\n      <td>8</td>\n      <td>2005-10-23</td>\n      <td>15:00</td>\n      <td>OSCAR GIRARDI</td>\n      <td>SAMPDORIA</td>\n      <td>ROBUR SIENA</td>\n      <td>3</td>\n      <td>3</td>\n      <td>Walter Alfredo Novellino</td>\n      <td>...</td>\n      <td>Massimo Bonanni</td>\n      <td>Andrea Caracciolo</td>\n      <td>Stephen Makinwa</td>\n      <td>Michele Ferri</td>\n      <td>Massimo Mutarelli</td>\n      <td>Franco Brienza</td>\n      <td>Mariano Andujar</td>\n      <td>Leandro Rinaudo</td>\n      <td>Mariano Gonzalez</td>\n      <td>Simone Pepe</td>\n    </tr>\n    <tr>\n      <th>24</th>\n      <td>2005-06</td>\n      <td>8</td>\n      <td>2005-10-23</td>\n      <td>15:00</td>\n      <td>DANIELE TOMBOLINI</td>\n      <td>UDINESE</td>\n      <td>INTER</td>\n      <td>0</td>\n      <td>1</td>\n      <td>Serse Cosmi</td>\n      <td>...</td>\n      <td>Alex Pinardi</td>\n      <td>Axel Konan</td>\n      <td>Mirko Vucinic</td>\n      <td>Alfonso Camorani</td>\n      <td>Jaime Valdes</td>\n      <td>Francesco Benussi</td>\n      <td>Marco Pecorari</td>\n      <td>Francesco Marianini</td>\n      <td>Tiziano Polenghi</td>\n      <td>Giuseppe Cozzolino</td>\n    </tr>\n    <tr>\n      <th>25</th>\n      <td>2005-06</td>\n      <td>8</td>\n      <td>2005-10-23</td>\n      <td>15:00</td>\n      <td>SALVATORE RACALBUTO</td>\n      <td>LECCE</td>\n      <td>JUVENTUS</td>\n      <td>0</td>\n      <td>3</td>\n      <td>Silvio Baldini</td>\n      <td>...</td>\n      <td>Michele Fini</td>\n      <td>Fabio Quagliarella</td>\n      <td>Sasa Bjelanovic</td>\n      <td>Pasquale Foggia</td>\n      <td>Marco Ferrante</td>\n      <td>Corrado Colombo</td>\n      <td>Carlo Zotti</td>\n      <td>Francesco Carbone</td>\n      <td>Roberto Guana</td>\n      <td>Massimo Paci</td>\n    </tr>\n    <tr>\n      <th>26</th>\n      <td>2005-06</td>\n      <td>8</td>\n      <td>2005-10-23</td>\n      <td>15:00</td>\n      <td>STEFANO FARINA</td>\n      <td>MILAN</td>\n      <td>PALERMO</td>\n      <td>2</td>\n      <td>1</td>\n      <td>Carlo Ancelotti</td>\n      <td>...</td>\n      <td>Massimo Bonanni</td>\n      <td>Andrea Caracciolo</td>\n      <td>Stephen Makinwa</td>\n      <td>Michele Ferri</td>\n      <td>Massimo Mutarelli</td>\n      <td>Franco Brienza</td>\n      <td>Mariano Andujar</td>\n      <td>Leandro Rinaudo</td>\n      <td>Mariano Gonzalez</td>\n      <td>Simone Pepe</td>\n    </tr>\n    <tr>\n      <th>27</th>\n      <td>2005-06</td>\n      <td>9</td>\n      <td>2005-10-26</td>\n      <td>20:30</td>\n      <td>CHRISTIAN BRIGHI</td>\n      <td>PALERMO</td>\n      <td>LECCE</td>\n      <td>3</td>\n      <td>0</td>\n      <td>Luigi Delneri</td>\n      <td>...</td>\n      <td>Manuel Pasqual</td>\n      <td>Valeri Bojinov</td>\n      <td>Luca Toni</td>\n      <td>Michele Pazienza</td>\n      <td>Martin Jorgensen</td>\n      <td>Christian Cejas</td>\n      <td>Dario Dainelli</td>\n      <td>Gianni Guigou</td>\n      <td>Riccardo Montolivo</td>\n      <td>Giampaolo Pazzini</td>\n    </tr>\n    <tr>\n      <th>28</th>\n      <td>2005-06</td>\n      <td>9</td>\n      <td>2005-10-26</td>\n      <td>20:30</td>\n      <td>ANTONIO DATTILO</td>\n      <td>JUVENTUS</td>\n      <td>SAMPDORIA</td>\n      <td>2</td>\n      <td>0</td>\n      <td>Fabio Capello</td>\n      <td>...</td>\n      <td>Max Tonetto</td>\n      <td>Emiliano Bonazzoli</td>\n      <td>Francesco Flachi</td>\n      <td>Angelo Palombo</td>\n      <td>Aimo Diana</td>\n      <td>Marco Borriello</td>\n      <td>Luca Castellazzi</td>\n      <td>Marco Zamboni</td>\n      <td>Lamberto Zauli</td>\n      <td>Vitaliy Kutuzov</td>\n    </tr>\n    <tr>\n      <th>29</th>\n      <td>2005-06</td>\n      <td>9</td>\n      <td>2005-10-26</td>\n      <td>20:30</td>\n      <td>NICOLA AYROLDI</td>\n      <td>LAZIO</td>\n      <td>CHIEVOVERONA</td>\n      <td>2</td>\n      <td>2</td>\n      <td>Delio Rossi</td>\n      <td>...</td>\n      <td>Dejan Stankovic</td>\n      <td>Julio Cruz</td>\n      <td>Alvaro Recoba</td>\n      <td>Esteban Cambiasso</td>\n      <td>Juan Sebastian Veron</td>\n      <td>Adriano</td>\n      <td>Francesco Toldo</td>\n      <td>Ze Maria</td>\n      <td>Santiago Solari</td>\n      <td>Obafemi Martins</td>\n    </tr>\n    <tr>\n      <th>30</th>\n      <td>2005-06</td>\n      <td>9</td>\n      <td>2005-10-26</td>\n      <td>20:30</td>\n      <td>MASSIMO DE</td>\n      <td>ROBUR SIENA</td>\n      <td>FIORENTINA</td>\n      <td>0</td>\n      <td>2</td>\n      <td>Luigi De Canio</td>\n      <td>...</td>\n      <td>Manuel Pasqual</td>\n      <td>Valeri Bojinov</td>\n      <td>Luca Toni</td>\n      <td>Michele Pazienza</td>\n      <td>Martin Jorgensen</td>\n      <td>Christian Cejas</td>\n      <td>Dario Dainelli</td>\n      <td>Gianni Guigou</td>\n      <td>Riccardo Montolivo</td>\n      <td>Giampaolo Pazzini</td>\n    </tr>\n    <tr>\n      <th>31</th>\n      <td>2005-06</td>\n      <td>9</td>\n      <td>2005-10-26</td>\n      <td>20:30</td>\n      <td>MATTEO SIMONE</td>\n      <td>EMPOLI</td>\n      <td>MILAN</td>\n      <td>1</td>\n      <td>3</td>\n      <td>Mario Somma</td>\n      <td>...</td>\n      <td>Andrea Giallombardo</td>\n      <td>Paolo Di Canio</td>\n      <td>Tommaso Rocchi</td>\n      <td>Goran Pandev</td>\n      <td>Roberto Baronio</td>\n      <td>Christian Manfredini</td>\n      <td>Marco Ballotta</td>\n      <td>Manuel Belleri</td>\n      <td>Emilson Cribari</td>\n      <td>Fabio Firmani</td>\n    </tr>\n    <tr>\n      <th>32</th>\n      <td>2005-06</td>\n      <td>9</td>\n      <td>2005-10-26</td>\n      <td>20:30</td>\n      <td>ROBERTO ROSETTI</td>\n      <td>INTER</td>\n      <td>ROMA</td>\n      <td>2</td>\n      <td>3</td>\n      <td>Roberto Mancini</td>\n      <td>...</td>\n      <td>Jorge Bolano</td>\n      <td>Bernardo Corradi</td>\n      <td>Marco Delvecchio</td>\n      <td>Luca Cigarini</td>\n      <td>Filippo Savi</td>\n      <td>Zlatko Dedic</td>\n      <td>Luca Bucci</td>\n      <td>Daniele Dessena</td>\n      <td>Marco Rossi</td>\n      <td>Fernando Couto</td>\n    </tr>\n    <tr>\n      <th>33</th>\n      <td>2005-06</td>\n      <td>9</td>\n      <td>2005-10-26</td>\n      <td>20:30</td>\n      <td>ANDREA DE</td>\n      <td>ASCOLI</td>\n      <td>UDINESE</td>\n      <td>1</td>\n      <td>1</td>\n      <td>Massimo Silva</td>\n      <td>...</td>\n      <td>Pavel Nedved</td>\n      <td>Alessandro Del Piero</td>\n      <td>Zlatan Ibrahimovic</td>\n      <td>Mauro Camoranesi</td>\n      <td>Marcelo Zalayeta</td>\n      <td>Landry Bonnefoi</td>\n      <td>Gianluca Pessotto</td>\n      <td>Giorgio Chiellini</td>\n      <td>Federico Balzaretti</td>\n      <td>Adrian Mutu</td>\n    </tr>\n    <tr>\n      <th>34</th>\n      <td>2005-06</td>\n      <td>9</td>\n      <td>2005-10-26</td>\n      <td>20:30</td>\n      <td>LUCA PALANCA</td>\n      <td>CAGLIARI</td>\n      <td>LIVORNO</td>\n      <td>1</td>\n      <td>1</td>\n      <td>Davide Ballardini</td>\n      <td>...</td>\n      <td>Cesar Prates</td>\n      <td>Ibrahima Bakayoko</td>\n      <td>Cristiano Lucarelli</td>\n      <td>Dario Passoni</td>\n      <td>Giuseppe Colucci</td>\n      <td>Raffaele Palladino</td>\n      <td>Paolo Acerbis</td>\n      <td>Matteo Melara</td>\n      <td>Nikola Lazetic</td>\n      <td>David Balleri</td>\n    </tr>\n    <tr>\n      <th>35</th>\n      <td>2005-06</td>\n      <td>10</td>\n      <td>2005-10-29</td>\n      <td>20:30</td>\n      <td>PAOLO BERTINI</td>\n      <td>MILAN</td>\n      <td>JUVENTUS</td>\n      <td>3</td>\n      <td>1</td>\n      <td>Carlo Ancelotti</td>\n      <td>...</td>\n      <td>Adrian Mutu</td>\n      <td>David Trezeguet</td>\n      <td>Marcelo Zalayeta</td>\n      <td>Emerson</td>\n      <td>Pavel Nedved</td>\n      <td>Zlatan Ibrahimovic</td>\n      <td>Antonio Chimenti</td>\n      <td>Robert Kovac</td>\n      <td>Manuele Blasi</td>\n      <td>Alessandro Del Piero</td>\n    </tr>\n    <tr>\n      <th>36</th>\n      <td>2005-06</td>\n      <td>10</td>\n      <td>2005-10-29</td>\n      <td>18:00</td>\n      <td>STEFANO FARINA</td>\n      <td>SAMPDORIA</td>\n      <td>INTER</td>\n      <td>2</td>\n      <td>2</td>\n      <td>Walter Alfredo Novellino</td>\n      <td>...</td>\n      <td>Martin Jorgensen</td>\n      <td>Valeri Bojinov</td>\n      <td>Luca Toni</td>\n      <td>Manuel Pasqual</td>\n      <td>Riccardo Montolivo</td>\n      <td>Giampaolo Pazzini</td>\n      <td>Christian Cejas</td>\n      <td>Dario Dainelli</td>\n      <td>Michele Pazienza</td>\n      <td>Gianni Guigou</td>\n    </tr>\n    <tr>\n      <th>37</th>\n      <td>2005-06</td>\n      <td>10</td>\n      <td>2005-10-30</td>\n      <td>15:00</td>\n      <td>NICOLA RIZZOLI</td>\n      <td>ROMA</td>\n      <td>ASCOLI</td>\n      <td>2</td>\n      <td>1</td>\n      <td>Luciano Spalletti</td>\n      <td>...</td>\n      <td>Michele Fini</td>\n      <td>Fabio Quagliarella</td>\n      <td>Sasa Bjelanovic</td>\n      <td>Marco Ferrante</td>\n      <td>Nicolas Cordova</td>\n      <td>Massimo Paci</td>\n      <td>Carlo Zotti</td>\n      <td>Alfredo Cariello</td>\n      <td>Gianluca Comotto</td>\n      <td>Corrado Colombo</td>\n    </tr>\n    <tr>\n      <th>38</th>\n      <td>2005-06</td>\n      <td>10</td>\n      <td>2005-10-30</td>\n      <td>15:00</td>\n      <td>MARCO GABRIELE</td>\n      <td>FIORENTINA</td>\n      <td>CAGLIARI</td>\n      <td>2</td>\n      <td>1</td>\n      <td>Cesare Prandelli</td>\n      <td>...</td>\n      <td>Rodrigo Taddei</td>\n      <td>Francesco Totti</td>\n      <td>Shabani Nonda</td>\n      <td>Houssine Kharja</td>\n      <td>Edgar Alvarez</td>\n      <td>Olivier Dacourt</td>\n      <td>Doni</td>\n      <td>Philippe Mexes</td>\n      <td>Aleandro Rosi</td>\n      <td>Stefano Okaka</td>\n    </tr>\n    <tr>\n      <th>39</th>\n      <td>2005-06</td>\n      <td>10</td>\n      <td>2005-10-30</td>\n      <td>15:00</td>\n      <td>NICOLA STEFANINI</td>\n      <td>CHIEVOVERONA</td>\n      <td>EMPOLI</td>\n      <td>2</td>\n      <td>2</td>\n      <td>Giuseppe Pillon</td>\n      <td>...</td>\n      <td>Aleksei Eremenko</td>\n      <td>Alex Pinardi</td>\n      <td>Axel Konan</td>\n      <td>Davide Giorgino</td>\n      <td>Graziano Pelle</td>\n      <td>Jaime Valdes</td>\n      <td>Francesco Benussi</td>\n      <td>Marco Pecorari</td>\n      <td>Giuseppe Abruzzese</td>\n      <td>Angelo</td>\n    </tr>\n    <tr>\n      <th>40</th>\n      <td>2005-06</td>\n      <td>10</td>\n      <td>2005-10-30</td>\n      <td>20:30</td>\n      <td>PASQUALE RODOMONTI</td>\n      <td>UDINESE</td>\n      <td>PALERMO</td>\n      <td>0</td>\n      <td>0</td>\n      <td>Serse Cosmi</td>\n      <td>...</td>\n      <td>Massimo Bonanni</td>\n      <td>Andrea Caracciolo</td>\n      <td>Stephen Makinwa</td>\n      <td>Massimo Mutarelli</td>\n      <td>Franco Brienza</td>\n      <td>Mariano Gonzalez</td>\n      <td>Mariano Andujar</td>\n      <td>Michele Ferri</td>\n      <td>Paul Codrea</td>\n      <td>Simone Pepe</td>\n    </tr>\n    <tr>\n      <th>41</th>\n      <td>2005-06</td>\n      <td>10</td>\n      <td>2005-10-30</td>\n      <td>15:00</td>\n      <td>GIANLUCA ROCCHI</td>\n      <td>REGGINA</td>\n      <td>LAZIO</td>\n      <td>1</td>\n      <td>0</td>\n      <td>Walter Mazzarri</td>\n      <td>...</td>\n      <td>Massimo Bonanni</td>\n      <td>Andrea Caracciolo</td>\n      <td>Stephen Makinwa</td>\n      <td>Massimo Mutarelli</td>\n      <td>Franco Brienza</td>\n      <td>Mariano Gonzalez</td>\n      <td>Mariano Andujar</td>\n      <td>Michele Ferri</td>\n      <td>Paul Codrea</td>\n      <td>Simone Pepe</td>\n    </tr>\n    <tr>\n      <th>42</th>\n      <td>2005-06</td>\n      <td>10</td>\n      <td>2005-10-30</td>\n      <td>15:00</td>\n      <td>MARIO MAZZOLENI</td>\n      <td>LECCE</td>\n      <td>MESSINA</td>\n      <td>0</td>\n      <td>2</td>\n      <td>Silvio Baldini</td>\n      <td>...</td>\n      <td>Ivica Iliev</td>\n      <td>Zlatan Muslimovic</td>\n      <td>Arturo Di Napoli</td>\n      <td>Filippo Cristante</td>\n      <td>Rafael</td>\n      <td>Atsushi Yanagisawa</td>\n      <td>Nicholas Caglioni</td>\n      <td>Domenico Giampa</td>\n      <td>Gaetano DAgostino</td>\n      <td>Giuseppe Sculli</td>\n    </tr>\n  </tbody>\n</table>\n<p>43 rows × 517 columns</p>\n</div>"
     },
     "execution_count": 170,
     "metadata": {},
     "output_type": "execute_result"
    }
   ],
   "source": [
    "df1.head()"
   ],
   "metadata": {
    "collapsed": false,
    "pycharm": {
     "name": "#%%\n"
    }
   }
  },
  {
   "cell_type": "markdown",
   "source": [
    "As expected, the first few retained matches comes from round 6, as we have considered 5 games for historic features"
   ],
   "metadata": {
    "collapsed": false,
    "pycharm": {
     "name": "#%% md\n"
    }
   }
  },
  {
   "cell_type": "code",
   "execution_count": 171,
   "outputs": [],
   "source": [
    "# re-convert all date values to datetime\n",
    "for colName, colValue in df1.iteritems():\n",
    "    if colName.endswith('date'):\n",
    "        df1[colName] = pd.to_datetime(df1[colName], infer_datetime_format=True)"
   ],
   "metadata": {
    "collapsed": false,
    "pycharm": {
     "name": "#%%\n"
    }
   }
  },
  {
   "cell_type": "markdown",
   "source": [],
   "metadata": {
    "collapsed": false,
    "pycharm": {
     "name": "#%% md\n"
    }
   }
  },
  {
   "cell_type": "code",
   "execution_count": 172,
   "outputs": [
    {
     "data": {
      "text/plain": "(43, 517)"
     },
     "execution_count": 172,
     "metadata": {},
     "output_type": "execute_result"
    }
   ],
   "source": [
    "df1.shape"
   ],
   "metadata": {
    "collapsed": false,
    "pycharm": {
     "name": "#%%\n"
    }
   }
  },
  {
   "cell_type": "markdown",
   "source": [
    "### Target column\n",
    "We don't care much about scores, because our model will try to predict matches result, i.e. home win, away win or draw. But, at this point, we still don't have this information in the dataset, so let's construct our target column from the scores."
   ],
   "metadata": {
    "collapsed": false,
    "pycharm": {
     "name": "#%% md\n"
    }
   }
  },
  {
   "cell_type": "code",
   "execution_count": null,
   "outputs": [],
   "source": [],
   "metadata": {
    "collapsed": false,
    "pycharm": {
     "name": "#%%\n"
    }
   }
  }
 ],
 "metadata": {
  "kernelspec": {
   "display_name": "Python 3",
   "language": "python",
   "name": "python3"
  },
  "language_info": {
   "codemirror_mode": {
    "name": "ipython",
    "version": 2
   },
   "file_extension": ".py",
   "mimetype": "text/x-python",
   "name": "python",
   "nbconvert_exporter": "python",
   "pygments_lexer": "ipython2",
   "version": "2.7.6"
  }
 },
 "nbformat": 4,
 "nbformat_minor": 0
}