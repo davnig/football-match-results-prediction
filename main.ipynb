{
 "cells": [
  {
   "cell_type": "markdown",
   "source": [
    "# Football matches result prediction\n",
    "\n",
    "Let's try to predict *Serie A* matches result (i.e. home win, away win or draw) with a RNN."
   ],
   "metadata": {
    "collapsed": false,
    "pycharm": {
     "name": "#%% md\n"
    }
   }
  },
  {
   "cell_type": "markdown",
   "source": [
    "## Introduction\n",
    "\n",
    "- The dataset was created by scraping *Serie A* matches data starting from season 2005-06 to season 2020-21\n",
    "- Cup matches (*Champions League*, *Europa League*, *Coppa Italia*) played over the course of each season were not taken into account"
   ],
   "metadata": {
    "collapsed": false,
    "pycharm": {
     "name": "#%% md\n"
    }
   }
  },
  {
   "cell_type": "code",
   "execution_count": 642,
   "outputs": [],
   "source": [
    "import pandas as pd\n",
    "from _MatchNotFoundException import MatchNotFoundException\n",
    "from HomeOrAway import HomeOrAway\n",
    "from MatchResult import MatchResult"
   ],
   "metadata": {
    "collapsed": false,
    "pycharm": {
     "name": "#%%\n"
    }
   }
  },
  {
   "cell_type": "code",
   "execution_count": 643,
   "outputs": [],
   "source": [
    "match_cols = ['season', 'round'] + \\\n",
    "             ['date', 'time', 'referee', 'home_team', 'away_team', 'home_team_score', 'away_team_score'] + \\\n",
    "             ['home_team_coach'] + \\\n",
    "             ['home_player_' + str(i) for i in range(1, 12)] + \\\n",
    "             ['home_substitute_' + str(i) for i in range(1, 8)] + \\\n",
    "             ['away_team_coach'] + \\\n",
    "             ['away_player_' + str(i) for i in range(1, 12)] + \\\n",
    "             ['away_substitute_' + str(i) for i in range(1, 8)]\n",
    "historical_features_enabled = False\n",
    "# historical_features_enabled = True"
   ],
   "metadata": {
    "collapsed": false,
    "pycharm": {
     "name": "#%%\n"
    }
   }
  },
  {
   "cell_type": "code",
   "execution_count": 644,
   "outputs": [
    {
     "data": {
      "text/plain": "    season  round        date   time             referee   home_team  \\\n0  2005-06      1  28/08/2005  15:00          MASSIMO DE      ASCOLI   \n1  2005-06      1  27/08/2005  20:30  GIANLUCA PAPARESTA  FIORENTINA   \n2  2005-06      1  28/08/2005  15:00       TIZIANO PIERI       PARMA   \n3  2005-06      1  28/08/2005  15:00   PAOLO TAGLIAVENTO       INTER   \n4  2005-06      1  27/08/2005  18:00     GIANLUCA ROCCHI     LIVORNO   \n\n   away_team  home_team_score  away_team_score   home_team_coach  ...  \\\n0      MILAN                1                1     Massimo Silva  ...   \n1  SAMPDORIA                2                1  Cesare Prandelli  ...   \n2    PALERMO                1                1     Mario Beretta  ...   \n3    TREVISO                3                0   Roberto Mancini  ...   \n4      LECCE                2                1  Roberto Donadoni  ...   \n\n     away_player_9     away_player_10      away_player_11  away_substitute_1  \\\n0             Kaka  Andriy Shevchenko   Alberto Gilardino  Marek Jankulovski   \n1   Lamberto Zauli   Francesco Flachi  Emiliano Bonazzoli       Marco Pisano   \n2  Massimo Bonanni  Andrea Caracciolo     Stephen Makinwa     Nicola Santoni   \n3        Reginaldo     Luigi Beghetto               Pinga  Roberto Chiappara   \n4     Alex Pinardi   Aleksei Eremenko      Graziano Pelle   Alfonso Camorani   \n\n  away_substitute_2   away_substitute_3  away_substitute_4  \\\n0  Clarence Seedorf        Zeljko Kalac    Gennaro Gattuso   \n1   Vitaliy Kutuzov     Marco Borriello   Luca Castellazzi   \n2    Franco Brienza   Massimo Mutarelli     Giuseppe Biava   \n3         Dino Fava     Jehad Muntasser    Adriano Zancope   \n4      Jaime Valdes  Giuseppe Cozzolino  Francesco Benussi   \n\n       away_substitute_5   away_substitute_6  away_substitute_7  \n0       Manuel Rui Costa        Johann Vogel        Dario Simic  \n1          Marco Zamboni        Simone Pavan   Gionata Mingozzi  \n2          Michele Ferri    Mariano Gonzalez        Simone Pepe  \n3  Francesco Parravicini            Anderson  Alberto Giuliatto  \n4         Marco Pecorari  Giuseppe Abruzzese    Davide Giorgino  \n\n[5 rows x 47 columns]",
      "text/html": "<div>\n<style scoped>\n    .dataframe tbody tr th:only-of-type {\n        vertical-align: middle;\n    }\n\n    .dataframe tbody tr th {\n        vertical-align: top;\n    }\n\n    .dataframe thead th {\n        text-align: right;\n    }\n</style>\n<table border=\"1\" class=\"dataframe\">\n  <thead>\n    <tr style=\"text-align: right;\">\n      <th></th>\n      <th>season</th>\n      <th>round</th>\n      <th>date</th>\n      <th>time</th>\n      <th>referee</th>\n      <th>home_team</th>\n      <th>away_team</th>\n      <th>home_team_score</th>\n      <th>away_team_score</th>\n      <th>home_team_coach</th>\n      <th>...</th>\n      <th>away_player_9</th>\n      <th>away_player_10</th>\n      <th>away_player_11</th>\n      <th>away_substitute_1</th>\n      <th>away_substitute_2</th>\n      <th>away_substitute_3</th>\n      <th>away_substitute_4</th>\n      <th>away_substitute_5</th>\n      <th>away_substitute_6</th>\n      <th>away_substitute_7</th>\n    </tr>\n  </thead>\n  <tbody>\n    <tr>\n      <th>0</th>\n      <td>2005-06</td>\n      <td>1</td>\n      <td>28/08/2005</td>\n      <td>15:00</td>\n      <td>MASSIMO DE</td>\n      <td>ASCOLI</td>\n      <td>MILAN</td>\n      <td>1</td>\n      <td>1</td>\n      <td>Massimo Silva</td>\n      <td>...</td>\n      <td>Kaka</td>\n      <td>Andriy Shevchenko</td>\n      <td>Alberto Gilardino</td>\n      <td>Marek Jankulovski</td>\n      <td>Clarence Seedorf</td>\n      <td>Zeljko Kalac</td>\n      <td>Gennaro Gattuso</td>\n      <td>Manuel Rui Costa</td>\n      <td>Johann Vogel</td>\n      <td>Dario Simic</td>\n    </tr>\n    <tr>\n      <th>1</th>\n      <td>2005-06</td>\n      <td>1</td>\n      <td>27/08/2005</td>\n      <td>20:30</td>\n      <td>GIANLUCA PAPARESTA</td>\n      <td>FIORENTINA</td>\n      <td>SAMPDORIA</td>\n      <td>2</td>\n      <td>1</td>\n      <td>Cesare Prandelli</td>\n      <td>...</td>\n      <td>Lamberto Zauli</td>\n      <td>Francesco Flachi</td>\n      <td>Emiliano Bonazzoli</td>\n      <td>Marco Pisano</td>\n      <td>Vitaliy Kutuzov</td>\n      <td>Marco Borriello</td>\n      <td>Luca Castellazzi</td>\n      <td>Marco Zamboni</td>\n      <td>Simone Pavan</td>\n      <td>Gionata Mingozzi</td>\n    </tr>\n    <tr>\n      <th>2</th>\n      <td>2005-06</td>\n      <td>1</td>\n      <td>28/08/2005</td>\n      <td>15:00</td>\n      <td>TIZIANO PIERI</td>\n      <td>PARMA</td>\n      <td>PALERMO</td>\n      <td>1</td>\n      <td>1</td>\n      <td>Mario Beretta</td>\n      <td>...</td>\n      <td>Massimo Bonanni</td>\n      <td>Andrea Caracciolo</td>\n      <td>Stephen Makinwa</td>\n      <td>Nicola Santoni</td>\n      <td>Franco Brienza</td>\n      <td>Massimo Mutarelli</td>\n      <td>Giuseppe Biava</td>\n      <td>Michele Ferri</td>\n      <td>Mariano Gonzalez</td>\n      <td>Simone Pepe</td>\n    </tr>\n    <tr>\n      <th>3</th>\n      <td>2005-06</td>\n      <td>1</td>\n      <td>28/08/2005</td>\n      <td>15:00</td>\n      <td>PAOLO TAGLIAVENTO</td>\n      <td>INTER</td>\n      <td>TREVISO</td>\n      <td>3</td>\n      <td>0</td>\n      <td>Roberto Mancini</td>\n      <td>...</td>\n      <td>Reginaldo</td>\n      <td>Luigi Beghetto</td>\n      <td>Pinga</td>\n      <td>Roberto Chiappara</td>\n      <td>Dino Fava</td>\n      <td>Jehad Muntasser</td>\n      <td>Adriano Zancope</td>\n      <td>Francesco Parravicini</td>\n      <td>Anderson</td>\n      <td>Alberto Giuliatto</td>\n    </tr>\n    <tr>\n      <th>4</th>\n      <td>2005-06</td>\n      <td>1</td>\n      <td>27/08/2005</td>\n      <td>18:00</td>\n      <td>GIANLUCA ROCCHI</td>\n      <td>LIVORNO</td>\n      <td>LECCE</td>\n      <td>2</td>\n      <td>1</td>\n      <td>Roberto Donadoni</td>\n      <td>...</td>\n      <td>Alex Pinardi</td>\n      <td>Aleksei Eremenko</td>\n      <td>Graziano Pelle</td>\n      <td>Alfonso Camorani</td>\n      <td>Jaime Valdes</td>\n      <td>Giuseppe Cozzolino</td>\n      <td>Francesco Benussi</td>\n      <td>Marco Pecorari</td>\n      <td>Giuseppe Abruzzese</td>\n      <td>Davide Giorgino</td>\n    </tr>\n  </tbody>\n</table>\n<p>5 rows × 47 columns</p>\n</div>"
     },
     "execution_count": 644,
     "metadata": {},
     "output_type": "execute_result"
    }
   ],
   "source": [
    "raw_data = pd.read_csv('raw.csv')\n",
    "raw_data.head()"
   ],
   "metadata": {
    "collapsed": false,
    "pycharm": {
     "name": "#%%\n"
    }
   }
  },
  {
   "cell_type": "markdown",
   "source": [
    "## Data visualization\n",
    "\n",
    "Let's inspect our data a little bit more"
   ],
   "metadata": {
    "collapsed": false,
    "pycharm": {
     "name": "#%% md\n"
    }
   }
  },
  {
   "cell_type": "code",
   "execution_count": 645,
   "outputs": [],
   "source": [
    "# todo"
   ],
   "metadata": {
    "collapsed": false,
    "pycharm": {
     "name": "#%%\n"
    }
   }
  },
  {
   "cell_type": "markdown",
   "source": [
    "## Dataset construction\n",
    "Now let's clean our raw data and construct the dataset. The full process for preparing the data is:\n",
    "- Convert date string values to pandas datetime values and explode them\n",
    "- Construct and add historical features\n",
    "- Add number of rest days between matches\n",
    "- Derive match results from scores\n",
    "- Encode data"
   ],
   "metadata": {
    "collapsed": false,
    "pycharm": {
     "name": "#%% md\n"
    }
   }
  },
  {
   "cell_type": "code",
   "execution_count": 646,
   "outputs": [],
   "source": [
    "df = pd.DataFrame(raw_data)\n",
    "df = df[:200]"
   ],
   "metadata": {
    "collapsed": false,
    "pycharm": {
     "name": "#%%\n"
    }
   }
  },
  {
   "cell_type": "code",
   "execution_count": 647,
   "outputs": [],
   "source": [
    "# convert date str to datetime\n",
    "df['date'] = pd.to_datetime(df['date'], infer_datetime_format=True)\n",
    "# sort by date column\n",
    "df = df.sort_values(by='date')\n",
    "df = df.reset_index(drop=True)"
   ],
   "metadata": {
    "collapsed": false,
    "pycharm": {
     "name": "#%%\n"
    }
   }
  },
  {
   "cell_type": "code",
   "execution_count": 647,
   "outputs": [],
   "source": [],
   "metadata": {
    "collapsed": false,
    "pycharm": {
     "name": "#%%\n"
    }
   }
  },
  {
   "cell_type": "markdown",
   "source": [
    "### Historical features\n",
    "In order to train an RNN model, we need to have series of football games, so the goal of this section is to add some historical features that will carry information about the last five games played by the home and away team of each match in the dataset."
   ],
   "metadata": {
    "collapsed": false,
    "pycharm": {
     "name": "#%% md\n"
    }
   }
  },
  {
   "cell_type": "code",
   "execution_count": 648,
   "outputs": [],
   "source": [
    "def get_match_index_by_match(match: pd.DataFrame) -> int:\n",
    "    return match.index.tolist()[0]\n",
    "\n",
    "\n",
    "def is_team_home_or_away_in_match(team_name: str, match: pd.DataFrame):\n",
    "    home_team = match.squeeze()['home_team']\n",
    "    if home_team == team_name:\n",
    "        return 'home'\n",
    "    else:\n",
    "        return 'away'\n",
    "\n",
    "\n",
    "def get_last_match_played_by_team(df: pd.DataFrame, target_match_index: int, team_name: str) -> pd.DataFrame:\n",
    "    \"\"\"\n",
    "    Find in df the last match played by team_name prior to the game identified by target_match_index\n",
    "    :param df: where to search\n",
    "    :param target_match_index: the index in df of the target match\n",
    "    :param team_name: name of the team that has played the target match\n",
    "    :return:\n",
    "    \"\"\"\n",
    "    for i in reversed(range(target_match_index)):\n",
    "        current_match = df.iloc[[i]]  # dataframe\n",
    "        if current_match.at[i, 'home_team'] == team_name or current_match.at[i, 'away_team'] == team_name:\n",
    "            return current_match\n",
    "    raise MatchNotFoundException(f'Previous match for team {team_name} was not found')\n",
    "\n",
    "\n",
    "def get_last_n_matches_played_by_team(df: pd.DataFrame, target_match_index: int, team_name: str, n: int) -> list[pd.Series]:\n",
    "    \"\"\"\n",
    "    Find in df the last n matches played by team_name prior to the game identified by match_index\n",
    "    :param df: where to search\n",
    "    :param target_match_index: target match index in df\n",
    "    :param team_name: the name of the team that has played all the last n matches\n",
    "    :param n: the number of matches to look for\n",
    "    :return:\n",
    "    \"\"\"\n",
    "    match = df.iloc[[target_match_index]]  # dataframe\n",
    "    last_match_found = match\n",
    "    last_n_matches = []\n",
    "    for i in range(1, n + 1):\n",
    "        try:\n",
    "            last_match_found = get_last_match_played_by_team(df, get_match_index_by_match(last_match_found), team_name)\n",
    "            last_n_matches.append(last_match_found.squeeze())\n",
    "        except MatchNotFoundException:\n",
    "            pass\n",
    "    return last_n_matches\n",
    "\n",
    "\n",
    "def construct_historical_features_of_last_n_matches_for_target_match(target_match_index: int,\n",
    "                                                                     target_home_or_away: HomeOrAway,\n",
    "                                                                     last_n_matches: list[\n",
    "                                                                            pd.Series]) -> pd.DataFrame:\n",
    "    \"\"\"\n",
    "    Build a dataframe containing information about the last n matches played by home or away team of target match as historical features.\n",
    "    :param target_match_index: the index of the target match in df\n",
    "    :param target_home_or_away: tells whether the n matches has been played by the home or away team of target match\n",
    "    :param last_n_matches: a list containing the last n matches\n",
    "    :return:\n",
    "    \"\"\"\n",
    "    # Init columns for 5 historical matches\n",
    "    historical_cols = [f'{target_home_or_away.name}_team_history_{i}_{colName}' for i in range(1, 6) for colName in\n",
    "                       match_cols]\n",
    "    # Init empty DataFrame with those columns and specific index\n",
    "    result = pd.DataFrame(columns=historical_cols, index=[target_match_index])\n",
    "    # Copy values into DataFrame\n",
    "    for i in range(len(last_n_matches)):\n",
    "        source_match = last_n_matches[i]\n",
    "        for colName, colValue in source_match.iteritems():\n",
    "            result.at[target_match_index, f'{target_home_or_away.name}_team_history_{i + 1}_{colName}'] = colValue\n",
    "    return result\n",
    "\n",
    "\n",
    "def add_historical_features_of_last_n_matches_for_all_matches(df: pd.DataFrame, n: int) -> pd.DataFrame:\n",
    "    \"\"\"\n",
    "    Construct a new dataframe adding information about the last five matches played by home and away team of all matches in df\n",
    "    :param df: source of data\n",
    "    :return: a new dataframe\n",
    "    \"\"\"\n",
    "    new_df = pd.DataFrame()\n",
    "    # for each row in dataframe\n",
    "    for index, row in df.iterrows():\n",
    "        team = row['home_team']\n",
    "        home_team_historical_df = construct_historical_features_of_last_n_matches_for_target_match(index,\n",
    "                                                                                                   HomeOrAway.home,\n",
    "                                                                                                   get_last_n_matches_played_by_team(\n",
    "                                                                                                       df, index, team,\n",
    "                                                                                                       n))\n",
    "        team = row['away_team']\n",
    "        away_team_historical_df = construct_historical_features_of_last_n_matches_for_target_match(index,\n",
    "                                                                                                   HomeOrAway.away,\n",
    "                                                                                                   get_last_n_matches_played_by_team(\n",
    "                                                                                                       df, index, team,\n",
    "                                                                                                       n))\n",
    "        new_row_as_df = pd.concat([df.iloc[[index]], home_team_historical_df, away_team_historical_df], axis=1)\n",
    "        new_df = pd.concat([new_df, new_row_as_df], axis=0)\n",
    "    return new_df"
   ],
   "metadata": {
    "collapsed": false,
    "pycharm": {
     "name": "#%%\n"
    }
   }
  },
  {
   "cell_type": "code",
   "execution_count": 649,
   "outputs": [],
   "source": [
    "# Construct historical features\n",
    "if historical_features_enabled:\n",
    "    df = add_historical_features_of_last_n_matches_for_all_matches(df, 5)"
   ],
   "metadata": {
    "collapsed": false,
    "pycharm": {
     "name": "#%%\n"
    }
   }
  },
  {
   "cell_type": "code",
   "execution_count": 650,
   "outputs": [],
   "source": [
    "if historical_features_enabled:\n",
    "    # Remove the matches that do not have values for all historical features\n",
    "    df = df.dropna()\n",
    "    df = df.reset_index(drop=True)"
   ],
   "metadata": {
    "collapsed": false,
    "pycharm": {
     "name": "#%%\n"
    }
   }
  },
  {
   "cell_type": "code",
   "execution_count": 651,
   "outputs": [
    {
     "data": {
      "text/plain": "      season  round       date   time             referee     home_team  \\\n0    2005-06      1 2005-08-27  20:30  GIANLUCA PAPARESTA    FIORENTINA   \n1    2005-06      1 2005-08-27  18:00     GIANLUCA ROCCHI       LIVORNO   \n2    2005-06      1 2005-08-28  15:00          MASSIMO DE        ASCOLI   \n3    2005-06      1 2005-08-28  15:00       TIZIANO PIERI         PARMA   \n4    2005-06      1 2005-08-28  15:00   PAOLO TAGLIAVENTO         INTER   \n..       ...    ...        ...    ...                 ...           ...   \n195  2005-06     20 2006-01-18  20:30   PAOLO TAGLIAVENTO          ROMA   \n196  2005-06     20 2006-01-18  20:30     GIANLUCA ROCCHI         MILAN   \n197  2005-06     20 2006-01-18  20:30  PASQUALE RODOMONTI         LECCE   \n198  2005-06     20 2006-01-18  20:30        ANDREA ROMEO      CAGLIARI   \n199  2005-06     20 2006-01-18  20:30        LUCA PALANCA  CHIEVOVERONA   \n\n       away_team  home_team_score  away_team_score    home_team_coach  ...  \\\n0      SAMPDORIA                2                1   Cesare Prandelli  ...   \n1          LECCE                2                1   Roberto Donadoni  ...   \n2          MILAN                1                1      Massimo Silva  ...   \n3        PALERMO                1                1      Mario Beretta  ...   \n4        TREVISO                3                0    Roberto Mancini  ...   \n..           ...              ...              ...                ...  ...   \n195      REGGINA                3                1  Luciano Spalletti  ...   \n196       ASCOLI                1                0    Carlo Ancelotti  ...   \n197      LIVORNO                0                0     Silvio Baldini  ...   \n198  ROBUR SIENA                1                0       Nedo Sonetti  ...   \n199     JUVENTUS                1                1    Giuseppe Pillon  ...   \n\n            away_player_9      away_player_10       away_player_11  \\\n0          Lamberto Zauli    Francesco Flachi   Emiliano Bonazzoli   \n1            Alex Pinardi    Aleksei Eremenko       Graziano Pelle   \n2                    Kaka   Andriy Shevchenko    Alberto Gilardino   \n3         Massimo Bonanni   Andrea Caracciolo      Stephen Makinwa   \n4               Reginaldo      Luigi Beghetto                Pinga   \n..                    ...                 ...                  ...   \n195     Francesco Modesto     Francesco Cozza         Luca Vigiani   \n196  Cristiano Del Grosso     Sasa Bjelanovic   Fabio Quagliarella   \n197        Francesco Coco   Ibrahima Bakayoko  Cristiano Lucarelli   \n198     Cristian Molinaro       Erjon Bogdani        Enrico Chiesa   \n199           Adrian Mutu  Zlatan Ibrahimovic      David Trezeguet   \n\n        away_substitute_1  away_substitute_2    away_substitute_3  \\\n0            Marco Pisano    Vitaliy Kutuzov      Marco Borriello   \n1        Alfonso Camorani       Jaime Valdes   Giuseppe Cozzolino   \n2       Marek Jankulovski   Clarence Seedorf         Zeljko Kalac   \n3          Nicola Santoni     Franco Brienza    Massimo Mutarelli   \n4       Roberto Chiappara          Dino Fava      Jehad Muntasser   \n..                    ...                ...                  ...   \n195        Maurizio Lauro     Nicola Amoruso     Simone Missiroli   \n196          Massimo Paci       Michele Fini      Pasquale Foggia   \n197         Marc Pfertzel       Cesar Prates   Raffaele Palladino   \n198           Rej Volpato        Paolo Negro  Nicola Legrottaglie   \n199  Alessandro Del Piero  Christian Abbiati    Gianluca Pessotto   \n\n     away_substitute_4      away_substitute_5   away_substitute_6  \\\n0     Luca Castellazzi          Marco Zamboni        Simone Pavan   \n1    Francesco Benussi         Marco Pecorari  Giuseppe Abruzzese   \n2      Gennaro Gattuso       Manuel Rui Costa        Johann Vogel   \n3       Giuseppe Biava          Michele Ferri    Mariano Gonzalez   \n4      Adriano Zancope  Francesco Parravicini            Anderson   \n..                 ...                    ...                 ...   \n195     Ivan Pelizzoli        Davide Biondini    Filippo Carobbio   \n196        Carlo Zotti       Riccardo Corallo       Davide Oresti   \n197      Paolo Acerbis        Stefano Fanucci    Giuseppe Colucci   \n198       Marco Fortin    Francesco Colonnese       Roberto Nanni   \n199      Manuele Blasi  Giuliano Giannichedda       Ruben Olivera   \n\n     away_substitute_7  \n0     Gionata Mingozzi  \n1      Davide Giorgino  \n2          Dario Simic  \n3          Simone Pepe  \n4    Alberto Giuliatto  \n..                 ...  \n195     Simone Cavalli  \n196     Marco Ferrante  \n197           Paulinho  \n198                NaN  \n199   Marcelo Zalayeta  \n\n[200 rows x 47 columns]",
      "text/html": "<div>\n<style scoped>\n    .dataframe tbody tr th:only-of-type {\n        vertical-align: middle;\n    }\n\n    .dataframe tbody tr th {\n        vertical-align: top;\n    }\n\n    .dataframe thead th {\n        text-align: right;\n    }\n</style>\n<table border=\"1\" class=\"dataframe\">\n  <thead>\n    <tr style=\"text-align: right;\">\n      <th></th>\n      <th>season</th>\n      <th>round</th>\n      <th>date</th>\n      <th>time</th>\n      <th>referee</th>\n      <th>home_team</th>\n      <th>away_team</th>\n      <th>home_team_score</th>\n      <th>away_team_score</th>\n      <th>home_team_coach</th>\n      <th>...</th>\n      <th>away_player_9</th>\n      <th>away_player_10</th>\n      <th>away_player_11</th>\n      <th>away_substitute_1</th>\n      <th>away_substitute_2</th>\n      <th>away_substitute_3</th>\n      <th>away_substitute_4</th>\n      <th>away_substitute_5</th>\n      <th>away_substitute_6</th>\n      <th>away_substitute_7</th>\n    </tr>\n  </thead>\n  <tbody>\n    <tr>\n      <th>0</th>\n      <td>2005-06</td>\n      <td>1</td>\n      <td>2005-08-27</td>\n      <td>20:30</td>\n      <td>GIANLUCA PAPARESTA</td>\n      <td>FIORENTINA</td>\n      <td>SAMPDORIA</td>\n      <td>2</td>\n      <td>1</td>\n      <td>Cesare Prandelli</td>\n      <td>...</td>\n      <td>Lamberto Zauli</td>\n      <td>Francesco Flachi</td>\n      <td>Emiliano Bonazzoli</td>\n      <td>Marco Pisano</td>\n      <td>Vitaliy Kutuzov</td>\n      <td>Marco Borriello</td>\n      <td>Luca Castellazzi</td>\n      <td>Marco Zamboni</td>\n      <td>Simone Pavan</td>\n      <td>Gionata Mingozzi</td>\n    </tr>\n    <tr>\n      <th>1</th>\n      <td>2005-06</td>\n      <td>1</td>\n      <td>2005-08-27</td>\n      <td>18:00</td>\n      <td>GIANLUCA ROCCHI</td>\n      <td>LIVORNO</td>\n      <td>LECCE</td>\n      <td>2</td>\n      <td>1</td>\n      <td>Roberto Donadoni</td>\n      <td>...</td>\n      <td>Alex Pinardi</td>\n      <td>Aleksei Eremenko</td>\n      <td>Graziano Pelle</td>\n      <td>Alfonso Camorani</td>\n      <td>Jaime Valdes</td>\n      <td>Giuseppe Cozzolino</td>\n      <td>Francesco Benussi</td>\n      <td>Marco Pecorari</td>\n      <td>Giuseppe Abruzzese</td>\n      <td>Davide Giorgino</td>\n    </tr>\n    <tr>\n      <th>2</th>\n      <td>2005-06</td>\n      <td>1</td>\n      <td>2005-08-28</td>\n      <td>15:00</td>\n      <td>MASSIMO DE</td>\n      <td>ASCOLI</td>\n      <td>MILAN</td>\n      <td>1</td>\n      <td>1</td>\n      <td>Massimo Silva</td>\n      <td>...</td>\n      <td>Kaka</td>\n      <td>Andriy Shevchenko</td>\n      <td>Alberto Gilardino</td>\n      <td>Marek Jankulovski</td>\n      <td>Clarence Seedorf</td>\n      <td>Zeljko Kalac</td>\n      <td>Gennaro Gattuso</td>\n      <td>Manuel Rui Costa</td>\n      <td>Johann Vogel</td>\n      <td>Dario Simic</td>\n    </tr>\n    <tr>\n      <th>3</th>\n      <td>2005-06</td>\n      <td>1</td>\n      <td>2005-08-28</td>\n      <td>15:00</td>\n      <td>TIZIANO PIERI</td>\n      <td>PARMA</td>\n      <td>PALERMO</td>\n      <td>1</td>\n      <td>1</td>\n      <td>Mario Beretta</td>\n      <td>...</td>\n      <td>Massimo Bonanni</td>\n      <td>Andrea Caracciolo</td>\n      <td>Stephen Makinwa</td>\n      <td>Nicola Santoni</td>\n      <td>Franco Brienza</td>\n      <td>Massimo Mutarelli</td>\n      <td>Giuseppe Biava</td>\n      <td>Michele Ferri</td>\n      <td>Mariano Gonzalez</td>\n      <td>Simone Pepe</td>\n    </tr>\n    <tr>\n      <th>4</th>\n      <td>2005-06</td>\n      <td>1</td>\n      <td>2005-08-28</td>\n      <td>15:00</td>\n      <td>PAOLO TAGLIAVENTO</td>\n      <td>INTER</td>\n      <td>TREVISO</td>\n      <td>3</td>\n      <td>0</td>\n      <td>Roberto Mancini</td>\n      <td>...</td>\n      <td>Reginaldo</td>\n      <td>Luigi Beghetto</td>\n      <td>Pinga</td>\n      <td>Roberto Chiappara</td>\n      <td>Dino Fava</td>\n      <td>Jehad Muntasser</td>\n      <td>Adriano Zancope</td>\n      <td>Francesco Parravicini</td>\n      <td>Anderson</td>\n      <td>Alberto Giuliatto</td>\n    </tr>\n    <tr>\n      <th>...</th>\n      <td>...</td>\n      <td>...</td>\n      <td>...</td>\n      <td>...</td>\n      <td>...</td>\n      <td>...</td>\n      <td>...</td>\n      <td>...</td>\n      <td>...</td>\n      <td>...</td>\n      <td>...</td>\n      <td>...</td>\n      <td>...</td>\n      <td>...</td>\n      <td>...</td>\n      <td>...</td>\n      <td>...</td>\n      <td>...</td>\n      <td>...</td>\n      <td>...</td>\n      <td>...</td>\n    </tr>\n    <tr>\n      <th>195</th>\n      <td>2005-06</td>\n      <td>20</td>\n      <td>2006-01-18</td>\n      <td>20:30</td>\n      <td>PAOLO TAGLIAVENTO</td>\n      <td>ROMA</td>\n      <td>REGGINA</td>\n      <td>3</td>\n      <td>1</td>\n      <td>Luciano Spalletti</td>\n      <td>...</td>\n      <td>Francesco Modesto</td>\n      <td>Francesco Cozza</td>\n      <td>Luca Vigiani</td>\n      <td>Maurizio Lauro</td>\n      <td>Nicola Amoruso</td>\n      <td>Simone Missiroli</td>\n      <td>Ivan Pelizzoli</td>\n      <td>Davide Biondini</td>\n      <td>Filippo Carobbio</td>\n      <td>Simone Cavalli</td>\n    </tr>\n    <tr>\n      <th>196</th>\n      <td>2005-06</td>\n      <td>20</td>\n      <td>2006-01-18</td>\n      <td>20:30</td>\n      <td>GIANLUCA ROCCHI</td>\n      <td>MILAN</td>\n      <td>ASCOLI</td>\n      <td>1</td>\n      <td>0</td>\n      <td>Carlo Ancelotti</td>\n      <td>...</td>\n      <td>Cristiano Del Grosso</td>\n      <td>Sasa Bjelanovic</td>\n      <td>Fabio Quagliarella</td>\n      <td>Massimo Paci</td>\n      <td>Michele Fini</td>\n      <td>Pasquale Foggia</td>\n      <td>Carlo Zotti</td>\n      <td>Riccardo Corallo</td>\n      <td>Davide Oresti</td>\n      <td>Marco Ferrante</td>\n    </tr>\n    <tr>\n      <th>197</th>\n      <td>2005-06</td>\n      <td>20</td>\n      <td>2006-01-18</td>\n      <td>20:30</td>\n      <td>PASQUALE RODOMONTI</td>\n      <td>LECCE</td>\n      <td>LIVORNO</td>\n      <td>0</td>\n      <td>0</td>\n      <td>Silvio Baldini</td>\n      <td>...</td>\n      <td>Francesco Coco</td>\n      <td>Ibrahima Bakayoko</td>\n      <td>Cristiano Lucarelli</td>\n      <td>Marc Pfertzel</td>\n      <td>Cesar Prates</td>\n      <td>Raffaele Palladino</td>\n      <td>Paolo Acerbis</td>\n      <td>Stefano Fanucci</td>\n      <td>Giuseppe Colucci</td>\n      <td>Paulinho</td>\n    </tr>\n    <tr>\n      <th>198</th>\n      <td>2005-06</td>\n      <td>20</td>\n      <td>2006-01-18</td>\n      <td>20:30</td>\n      <td>ANDREA ROMEO</td>\n      <td>CAGLIARI</td>\n      <td>ROBUR SIENA</td>\n      <td>1</td>\n      <td>0</td>\n      <td>Nedo Sonetti</td>\n      <td>...</td>\n      <td>Cristian Molinaro</td>\n      <td>Erjon Bogdani</td>\n      <td>Enrico Chiesa</td>\n      <td>Rej Volpato</td>\n      <td>Paolo Negro</td>\n      <td>Nicola Legrottaglie</td>\n      <td>Marco Fortin</td>\n      <td>Francesco Colonnese</td>\n      <td>Roberto Nanni</td>\n      <td>NaN</td>\n    </tr>\n    <tr>\n      <th>199</th>\n      <td>2005-06</td>\n      <td>20</td>\n      <td>2006-01-18</td>\n      <td>20:30</td>\n      <td>LUCA PALANCA</td>\n      <td>CHIEVOVERONA</td>\n      <td>JUVENTUS</td>\n      <td>1</td>\n      <td>1</td>\n      <td>Giuseppe Pillon</td>\n      <td>...</td>\n      <td>Adrian Mutu</td>\n      <td>Zlatan Ibrahimovic</td>\n      <td>David Trezeguet</td>\n      <td>Alessandro Del Piero</td>\n      <td>Christian Abbiati</td>\n      <td>Gianluca Pessotto</td>\n      <td>Manuele Blasi</td>\n      <td>Giuliano Giannichedda</td>\n      <td>Ruben Olivera</td>\n      <td>Marcelo Zalayeta</td>\n    </tr>\n  </tbody>\n</table>\n<p>200 rows × 47 columns</p>\n</div>"
     },
     "execution_count": 651,
     "metadata": {},
     "output_type": "execute_result"
    }
   ],
   "source": [
    "df[0:200]"
   ],
   "metadata": {
    "collapsed": false,
    "pycharm": {
     "name": "#%%\n"
    }
   }
  },
  {
   "cell_type": "markdown",
   "source": [
    "As expected, the first few retained matches comes from round 6, as we have considered 5 games for historical features."
   ],
   "metadata": {
    "collapsed": false,
    "pycharm": {
     "name": "#%% md\n"
    }
   }
  },
  {
   "cell_type": "code",
   "execution_count": 652,
   "outputs": [],
   "source": [
    "# re-convert all date values to datetime\n",
    "for colName, colValue in df.iteritems():\n",
    "    if colName.endswith('date'):\n",
    "        df[colName] = pd.to_datetime(df[colName], infer_datetime_format=True)"
   ],
   "metadata": {
    "collapsed": false,
    "pycharm": {
     "name": "#%%\n"
    }
   }
  },
  {
   "cell_type": "code",
   "execution_count": 653,
   "outputs": [
    {
     "data": {
      "text/plain": "(200, 47)"
     },
     "execution_count": 653,
     "metadata": {},
     "output_type": "execute_result"
    }
   ],
   "source": [
    "df.shape"
   ],
   "metadata": {
    "collapsed": false,
    "pycharm": {
     "name": "#%%\n"
    }
   }
  },
  {
   "cell_type": "markdown",
   "source": [
    "### Rest days features\n",
    "Rest days are very important for recovery."
   ],
   "metadata": {
    "collapsed": false,
    "pycharm": {
     "name": "#%% md\n"
    }
   }
  },
  {
   "cell_type": "code",
   "execution_count": 654,
   "outputs": [],
   "source": [
    "def count_days_between_dates(date1, date2) -> int:\n",
    "    return (date1 - date2).dt.days"
   ],
   "metadata": {
    "collapsed": false,
    "pycharm": {
     "name": "#%%\n"
    }
   }
  },
  {
   "cell_type": "code",
   "execution_count": 655,
   "outputs": [],
   "source": [
    "# for i in range(5):\n",
    "#     for home_or_away in HomeOrAway:\n",
    "#         if i == 0:\n",
    "#             df[f'{home_or_away.name}_team_rest_days'] = count_days_between_dates(df['date'], df[f'{home_or_away.name}_team_history_{i+1}_date'])\n",
    "#         else:\n",
    "#             df[f'{home_or_away.name}_team_history_{i}_rest_days'] = count_days_between_dates(df[f'{home_or_away.name}_team_history_{i}_date'], df[f'{home_or_away.name}_team_history_{i+1}_date'])\n",
    "\n",
    "# todo: cannot count rest days for historical 5th games because we still miss the data about the 6th historical match"
   ],
   "metadata": {
    "collapsed": false,
    "pycharm": {
     "name": "#%%\n"
    }
   }
  },
  {
   "cell_type": "code",
   "execution_count": 656,
   "outputs": [],
   "source": [
    "# delete columns referring to the historical 6th matches\n",
    "# df = df.loc[:, ~df.columns.str.contains('history_6')]"
   ],
   "metadata": {
    "collapsed": false,
    "pycharm": {
     "name": "#%%\n"
    }
   }
  },
  {
   "cell_type": "markdown",
   "source": [
    "### Additional features"
   ],
   "metadata": {
    "collapsed": false,
    "pycharm": {
     "name": "#%% md\n"
    }
   }
  },
  {
   "cell_type": "markdown",
   "source": [
    "#### Result column\n",
    "We don't care so much about scores because our model will try to predict match results, i.e. **home win**, **away win** or **draw. We need a result column to be used as our target column, so let's construct it from the scores."
   ],
   "metadata": {
    "collapsed": false,
    "pycharm": {
     "name": "#%% md\n"
    }
   }
  },
  {
   "cell_type": "code",
   "execution_count": 657,
   "outputs": [],
   "source": [
    "def get_match_result_from_score(home_team_score: int, away_team_score: int) -> MatchResult:\n",
    "    if home_team_score == away_team_score:\n",
    "        return MatchResult.draw\n",
    "    if home_team_score > away_team_score:\n",
    "        return MatchResult.home\n",
    "    return MatchResult.away\n",
    "\n",
    "\n",
    "def add_target_column_for_historical_matches(df: pd.DataFrame) -> pd.DataFrame:\n",
    "    results = {}\n",
    "    # init\n",
    "    for i in range(5):\n",
    "        results[f'home_team_history_{i+1}_result'] = []\n",
    "        results[f'away_team_history_{i+1}_result'] = []\n",
    "    # populate\n",
    "    for index, row in df.iterrows():\n",
    "        for i in range(5):\n",
    "            results[f'home_team_history_{i+1}_result'] += \\\n",
    "                [get_match_result_from_score(row[f'home_team_history_{i+1}_home_team_score'], row[f'home_team_history_{i+1}_away_team_score']).name]\n",
    "            results[f'away_team_history_{i+1}_result'] += \\\n",
    "                [get_match_result_from_score(row[f'away_team_history_{i+1}_home_team_score'], row[f'away_team_history_{i+1}_away_team_score']).name]\n",
    "    # insert in dataset\n",
    "    for i in range(5):\n",
    "        df.insert(loc=df.columns.get_loc(f'home_team_history_{i+1}_home_team_score'), column=f'home_team_history_{i+1}_result', value=results[f'home_team_history_{i+1}_result'])\n",
    "        df.insert(loc=df.columns.get_loc(f'away_team_history_{i+1}_home_team_score'), column=f'away_team_history_{i+1}_result', value=results[f'away_team_history_{i+1}_result'])\n",
    "    return df\n",
    "\n",
    "\n",
    "def add_target_column(df: pd.DataFrame) -> pd.DataFrame:\n",
    "    results = {'result': []}\n",
    "    for index, row in df.iterrows():\n",
    "        results['result'] += [get_match_result_from_score(row['home_team_score'], row['away_team_score']).name]\n",
    "    df.insert(loc=df.columns.get_loc('home_team_score'), column='result', value=results['result'])\n",
    "    return df"
   ],
   "metadata": {
    "collapsed": false,
    "pycharm": {
     "name": "#%%\n"
    }
   }
  },
  {
   "cell_type": "code",
   "execution_count": 658,
   "outputs": [
    {
     "data": {
      "text/plain": "    season  round       date   time             referee   home_team  \\\n0  2005-06      1 2005-08-27  20:30  GIANLUCA PAPARESTA  FIORENTINA   \n1  2005-06      1 2005-08-27  18:00     GIANLUCA ROCCHI     LIVORNO   \n2  2005-06      1 2005-08-28  15:00          MASSIMO DE      ASCOLI   \n3  2005-06      1 2005-08-28  15:00       TIZIANO PIERI       PARMA   \n4  2005-06      1 2005-08-28  15:00   PAOLO TAGLIAVENTO       INTER   \n\n   away_team result  home_team_score  away_team_score  ...    away_player_9  \\\n0  SAMPDORIA   home                2                1  ...   Lamberto Zauli   \n1      LECCE   home                2                1  ...     Alex Pinardi   \n2      MILAN   draw                1                1  ...             Kaka   \n3    PALERMO   draw                1                1  ...  Massimo Bonanni   \n4    TREVISO   home                3                0  ...        Reginaldo   \n\n      away_player_10      away_player_11  away_substitute_1 away_substitute_2  \\\n0   Francesco Flachi  Emiliano Bonazzoli       Marco Pisano   Vitaliy Kutuzov   \n1   Aleksei Eremenko      Graziano Pelle   Alfonso Camorani      Jaime Valdes   \n2  Andriy Shevchenko   Alberto Gilardino  Marek Jankulovski  Clarence Seedorf   \n3  Andrea Caracciolo     Stephen Makinwa     Nicola Santoni    Franco Brienza   \n4     Luigi Beghetto               Pinga  Roberto Chiappara         Dino Fava   \n\n    away_substitute_3  away_substitute_4      away_substitute_5  \\\n0     Marco Borriello   Luca Castellazzi          Marco Zamboni   \n1  Giuseppe Cozzolino  Francesco Benussi         Marco Pecorari   \n2        Zeljko Kalac    Gennaro Gattuso       Manuel Rui Costa   \n3   Massimo Mutarelli     Giuseppe Biava          Michele Ferri   \n4     Jehad Muntasser    Adriano Zancope  Francesco Parravicini   \n\n    away_substitute_6  away_substitute_7  \n0        Simone Pavan   Gionata Mingozzi  \n1  Giuseppe Abruzzese    Davide Giorgino  \n2        Johann Vogel        Dario Simic  \n3    Mariano Gonzalez        Simone Pepe  \n4            Anderson  Alberto Giuliatto  \n\n[5 rows x 48 columns]",
      "text/html": "<div>\n<style scoped>\n    .dataframe tbody tr th:only-of-type {\n        vertical-align: middle;\n    }\n\n    .dataframe tbody tr th {\n        vertical-align: top;\n    }\n\n    .dataframe thead th {\n        text-align: right;\n    }\n</style>\n<table border=\"1\" class=\"dataframe\">\n  <thead>\n    <tr style=\"text-align: right;\">\n      <th></th>\n      <th>season</th>\n      <th>round</th>\n      <th>date</th>\n      <th>time</th>\n      <th>referee</th>\n      <th>home_team</th>\n      <th>away_team</th>\n      <th>result</th>\n      <th>home_team_score</th>\n      <th>away_team_score</th>\n      <th>...</th>\n      <th>away_player_9</th>\n      <th>away_player_10</th>\n      <th>away_player_11</th>\n      <th>away_substitute_1</th>\n      <th>away_substitute_2</th>\n      <th>away_substitute_3</th>\n      <th>away_substitute_4</th>\n      <th>away_substitute_5</th>\n      <th>away_substitute_6</th>\n      <th>away_substitute_7</th>\n    </tr>\n  </thead>\n  <tbody>\n    <tr>\n      <th>0</th>\n      <td>2005-06</td>\n      <td>1</td>\n      <td>2005-08-27</td>\n      <td>20:30</td>\n      <td>GIANLUCA PAPARESTA</td>\n      <td>FIORENTINA</td>\n      <td>SAMPDORIA</td>\n      <td>home</td>\n      <td>2</td>\n      <td>1</td>\n      <td>...</td>\n      <td>Lamberto Zauli</td>\n      <td>Francesco Flachi</td>\n      <td>Emiliano Bonazzoli</td>\n      <td>Marco Pisano</td>\n      <td>Vitaliy Kutuzov</td>\n      <td>Marco Borriello</td>\n      <td>Luca Castellazzi</td>\n      <td>Marco Zamboni</td>\n      <td>Simone Pavan</td>\n      <td>Gionata Mingozzi</td>\n    </tr>\n    <tr>\n      <th>1</th>\n      <td>2005-06</td>\n      <td>1</td>\n      <td>2005-08-27</td>\n      <td>18:00</td>\n      <td>GIANLUCA ROCCHI</td>\n      <td>LIVORNO</td>\n      <td>LECCE</td>\n      <td>home</td>\n      <td>2</td>\n      <td>1</td>\n      <td>...</td>\n      <td>Alex Pinardi</td>\n      <td>Aleksei Eremenko</td>\n      <td>Graziano Pelle</td>\n      <td>Alfonso Camorani</td>\n      <td>Jaime Valdes</td>\n      <td>Giuseppe Cozzolino</td>\n      <td>Francesco Benussi</td>\n      <td>Marco Pecorari</td>\n      <td>Giuseppe Abruzzese</td>\n      <td>Davide Giorgino</td>\n    </tr>\n    <tr>\n      <th>2</th>\n      <td>2005-06</td>\n      <td>1</td>\n      <td>2005-08-28</td>\n      <td>15:00</td>\n      <td>MASSIMO DE</td>\n      <td>ASCOLI</td>\n      <td>MILAN</td>\n      <td>draw</td>\n      <td>1</td>\n      <td>1</td>\n      <td>...</td>\n      <td>Kaka</td>\n      <td>Andriy Shevchenko</td>\n      <td>Alberto Gilardino</td>\n      <td>Marek Jankulovski</td>\n      <td>Clarence Seedorf</td>\n      <td>Zeljko Kalac</td>\n      <td>Gennaro Gattuso</td>\n      <td>Manuel Rui Costa</td>\n      <td>Johann Vogel</td>\n      <td>Dario Simic</td>\n    </tr>\n    <tr>\n      <th>3</th>\n      <td>2005-06</td>\n      <td>1</td>\n      <td>2005-08-28</td>\n      <td>15:00</td>\n      <td>TIZIANO PIERI</td>\n      <td>PARMA</td>\n      <td>PALERMO</td>\n      <td>draw</td>\n      <td>1</td>\n      <td>1</td>\n      <td>...</td>\n      <td>Massimo Bonanni</td>\n      <td>Andrea Caracciolo</td>\n      <td>Stephen Makinwa</td>\n      <td>Nicola Santoni</td>\n      <td>Franco Brienza</td>\n      <td>Massimo Mutarelli</td>\n      <td>Giuseppe Biava</td>\n      <td>Michele Ferri</td>\n      <td>Mariano Gonzalez</td>\n      <td>Simone Pepe</td>\n    </tr>\n    <tr>\n      <th>4</th>\n      <td>2005-06</td>\n      <td>1</td>\n      <td>2005-08-28</td>\n      <td>15:00</td>\n      <td>PAOLO TAGLIAVENTO</td>\n      <td>INTER</td>\n      <td>TREVISO</td>\n      <td>home</td>\n      <td>3</td>\n      <td>0</td>\n      <td>...</td>\n      <td>Reginaldo</td>\n      <td>Luigi Beghetto</td>\n      <td>Pinga</td>\n      <td>Roberto Chiappara</td>\n      <td>Dino Fava</td>\n      <td>Jehad Muntasser</td>\n      <td>Adriano Zancope</td>\n      <td>Francesco Parravicini</td>\n      <td>Anderson</td>\n      <td>Alberto Giuliatto</td>\n    </tr>\n  </tbody>\n</table>\n<p>5 rows × 48 columns</p>\n</div>"
     },
     "execution_count": 658,
     "metadata": {},
     "output_type": "execute_result"
    }
   ],
   "source": [
    "# add target column\n",
    "add_target_column(df)\n",
    "if historical_features_enabled:\n",
    "    add_target_column_for_historical_matches(df)\n",
    "df.head()"
   ],
   "metadata": {
    "collapsed": false,
    "pycharm": {
     "name": "#%%\n"
    }
   }
  },
  {
   "cell_type": "code",
   "execution_count": 659,
   "outputs": [
    {
     "data": {
      "text/plain": "    season  round       date   time             referee   home_team  \\\n0  2005-06      1 2005-08-27  20:30  GIANLUCA PAPARESTA  FIORENTINA   \n1  2005-06      1 2005-08-27  18:00     GIANLUCA ROCCHI     LIVORNO   \n2  2005-06      1 2005-08-28  15:00          MASSIMO DE      ASCOLI   \n3  2005-06      1 2005-08-28  15:00       TIZIANO PIERI       PARMA   \n4  2005-06      1 2005-08-28  15:00   PAOLO TAGLIAVENTO       INTER   \n\n   away_team result   home_team_coach        home_player_1  ...  \\\n0  SAMPDORIA   home  Cesare Prandelli       Sebastien Frey  ...   \n1      LECCE   home  Roberto Donadoni         Marco Amelia  ...   \n2      MILAN   draw     Massimo Silva   Ferdinando Coppola  ...   \n3    PALERMO   draw     Mario Beretta  Cristiano Lupatelli  ...   \n4    TREVISO   home   Roberto Mancini          Julio Cesar  ...   \n\n     away_player_9     away_player_10      away_player_11  away_substitute_1  \\\n0   Lamberto Zauli   Francesco Flachi  Emiliano Bonazzoli       Marco Pisano   \n1     Alex Pinardi   Aleksei Eremenko      Graziano Pelle   Alfonso Camorani   \n2             Kaka  Andriy Shevchenko   Alberto Gilardino  Marek Jankulovski   \n3  Massimo Bonanni  Andrea Caracciolo     Stephen Makinwa     Nicola Santoni   \n4        Reginaldo     Luigi Beghetto               Pinga  Roberto Chiappara   \n\n  away_substitute_2   away_substitute_3  away_substitute_4  \\\n0   Vitaliy Kutuzov     Marco Borriello   Luca Castellazzi   \n1      Jaime Valdes  Giuseppe Cozzolino  Francesco Benussi   \n2  Clarence Seedorf        Zeljko Kalac    Gennaro Gattuso   \n3    Franco Brienza   Massimo Mutarelli     Giuseppe Biava   \n4         Dino Fava     Jehad Muntasser    Adriano Zancope   \n\n       away_substitute_5   away_substitute_6  away_substitute_7  \n0          Marco Zamboni        Simone Pavan   Gionata Mingozzi  \n1         Marco Pecorari  Giuseppe Abruzzese    Davide Giorgino  \n2       Manuel Rui Costa        Johann Vogel        Dario Simic  \n3          Michele Ferri    Mariano Gonzalez        Simone Pepe  \n4  Francesco Parravicini            Anderson  Alberto Giuliatto  \n\n[5 rows x 46 columns]",
      "text/html": "<div>\n<style scoped>\n    .dataframe tbody tr th:only-of-type {\n        vertical-align: middle;\n    }\n\n    .dataframe tbody tr th {\n        vertical-align: top;\n    }\n\n    .dataframe thead th {\n        text-align: right;\n    }\n</style>\n<table border=\"1\" class=\"dataframe\">\n  <thead>\n    <tr style=\"text-align: right;\">\n      <th></th>\n      <th>season</th>\n      <th>round</th>\n      <th>date</th>\n      <th>time</th>\n      <th>referee</th>\n      <th>home_team</th>\n      <th>away_team</th>\n      <th>result</th>\n      <th>home_team_coach</th>\n      <th>home_player_1</th>\n      <th>...</th>\n      <th>away_player_9</th>\n      <th>away_player_10</th>\n      <th>away_player_11</th>\n      <th>away_substitute_1</th>\n      <th>away_substitute_2</th>\n      <th>away_substitute_3</th>\n      <th>away_substitute_4</th>\n      <th>away_substitute_5</th>\n      <th>away_substitute_6</th>\n      <th>away_substitute_7</th>\n    </tr>\n  </thead>\n  <tbody>\n    <tr>\n      <th>0</th>\n      <td>2005-06</td>\n      <td>1</td>\n      <td>2005-08-27</td>\n      <td>20:30</td>\n      <td>GIANLUCA PAPARESTA</td>\n      <td>FIORENTINA</td>\n      <td>SAMPDORIA</td>\n      <td>home</td>\n      <td>Cesare Prandelli</td>\n      <td>Sebastien Frey</td>\n      <td>...</td>\n      <td>Lamberto Zauli</td>\n      <td>Francesco Flachi</td>\n      <td>Emiliano Bonazzoli</td>\n      <td>Marco Pisano</td>\n      <td>Vitaliy Kutuzov</td>\n      <td>Marco Borriello</td>\n      <td>Luca Castellazzi</td>\n      <td>Marco Zamboni</td>\n      <td>Simone Pavan</td>\n      <td>Gionata Mingozzi</td>\n    </tr>\n    <tr>\n      <th>1</th>\n      <td>2005-06</td>\n      <td>1</td>\n      <td>2005-08-27</td>\n      <td>18:00</td>\n      <td>GIANLUCA ROCCHI</td>\n      <td>LIVORNO</td>\n      <td>LECCE</td>\n      <td>home</td>\n      <td>Roberto Donadoni</td>\n      <td>Marco Amelia</td>\n      <td>...</td>\n      <td>Alex Pinardi</td>\n      <td>Aleksei Eremenko</td>\n      <td>Graziano Pelle</td>\n      <td>Alfonso Camorani</td>\n      <td>Jaime Valdes</td>\n      <td>Giuseppe Cozzolino</td>\n      <td>Francesco Benussi</td>\n      <td>Marco Pecorari</td>\n      <td>Giuseppe Abruzzese</td>\n      <td>Davide Giorgino</td>\n    </tr>\n    <tr>\n      <th>2</th>\n      <td>2005-06</td>\n      <td>1</td>\n      <td>2005-08-28</td>\n      <td>15:00</td>\n      <td>MASSIMO DE</td>\n      <td>ASCOLI</td>\n      <td>MILAN</td>\n      <td>draw</td>\n      <td>Massimo Silva</td>\n      <td>Ferdinando Coppola</td>\n      <td>...</td>\n      <td>Kaka</td>\n      <td>Andriy Shevchenko</td>\n      <td>Alberto Gilardino</td>\n      <td>Marek Jankulovski</td>\n      <td>Clarence Seedorf</td>\n      <td>Zeljko Kalac</td>\n      <td>Gennaro Gattuso</td>\n      <td>Manuel Rui Costa</td>\n      <td>Johann Vogel</td>\n      <td>Dario Simic</td>\n    </tr>\n    <tr>\n      <th>3</th>\n      <td>2005-06</td>\n      <td>1</td>\n      <td>2005-08-28</td>\n      <td>15:00</td>\n      <td>TIZIANO PIERI</td>\n      <td>PARMA</td>\n      <td>PALERMO</td>\n      <td>draw</td>\n      <td>Mario Beretta</td>\n      <td>Cristiano Lupatelli</td>\n      <td>...</td>\n      <td>Massimo Bonanni</td>\n      <td>Andrea Caracciolo</td>\n      <td>Stephen Makinwa</td>\n      <td>Nicola Santoni</td>\n      <td>Franco Brienza</td>\n      <td>Massimo Mutarelli</td>\n      <td>Giuseppe Biava</td>\n      <td>Michele Ferri</td>\n      <td>Mariano Gonzalez</td>\n      <td>Simone Pepe</td>\n    </tr>\n    <tr>\n      <th>4</th>\n      <td>2005-06</td>\n      <td>1</td>\n      <td>2005-08-28</td>\n      <td>15:00</td>\n      <td>PAOLO TAGLIAVENTO</td>\n      <td>INTER</td>\n      <td>TREVISO</td>\n      <td>home</td>\n      <td>Roberto Mancini</td>\n      <td>Julio Cesar</td>\n      <td>...</td>\n      <td>Reginaldo</td>\n      <td>Luigi Beghetto</td>\n      <td>Pinga</td>\n      <td>Roberto Chiappara</td>\n      <td>Dino Fava</td>\n      <td>Jehad Muntasser</td>\n      <td>Adriano Zancope</td>\n      <td>Francesco Parravicini</td>\n      <td>Anderson</td>\n      <td>Alberto Giuliatto</td>\n    </tr>\n  </tbody>\n</table>\n<p>5 rows × 46 columns</p>\n</div>"
     },
     "execution_count": 659,
     "metadata": {},
     "output_type": "execute_result"
    }
   ],
   "source": [
    "# drop score columns\n",
    "df = df.drop(columns=['home_team_score', 'away_team_score'])\n",
    "df.head()"
   ],
   "metadata": {
    "collapsed": false,
    "pycharm": {
     "name": "#%%\n"
    }
   }
  },
  {
   "cell_type": "markdown",
   "source": [
    "#### Exploded datetime features\n",
    "Add **year**, **month** and **day** features for all **date** value"
   ],
   "metadata": {
    "collapsed": false,
    "pycharm": {
     "name": "#%% md\n"
    }
   }
  },
  {
   "cell_type": "code",
   "execution_count": 660,
   "outputs": [],
   "source": [
    "def get_exploded_datetime_values(df: pd.DataFrame) -> dict:\n",
    "    data = {'year': [], 'month': [], 'day': []}\n",
    "    data['year'] += df['date'].map(lambda val: val.year).tolist()\n",
    "    data['month'] += df['date'].map(lambda val: val.month).tolist()\n",
    "    data['day'] += df['date'].map(lambda val: val.day).tolist()\n",
    "    return data\n",
    "\n",
    "def get_exploded_datetime_values_for_historical_matches(df: pd.DataFrame) -> dict:\n",
    "    data = {}\n",
    "    for i in range(5):\n",
    "        for home_or_away in HomeOrAway:\n",
    "            data[f'{home_or_away.name}_team_history_{i + 1}_year'] = []\n",
    "            data[f'{home_or_away.name}_team_history_{i + 1}_month'] = []\n",
    "            data[f'{home_or_away.name}_team_history_{i + 1}_day'] = []\n",
    "    for i in range(5):\n",
    "        for home_or_away in HomeOrAway:\n",
    "            data[f'{home_or_away.name}_team_history_{i + 1}_year'] += df[f'{home_or_away.name}_team_history_{i + 1}_date'].map(lambda val: val.year).tolist()\n",
    "            data[f'{home_or_away.name}_team_history_{i + 1}_month'] += df[f'{home_or_away.name}_team_history_{i + 1}_date'].map(lambda val: val.month).tolist()\n",
    "            data[f'{home_or_away.name}_team_history_{i + 1}_day'] += df[f'{home_or_away.name}_team_history_{i + 1}_date'].map(lambda val: val.day).tolist()\n",
    "    return data\n",
    "\n",
    "\n",
    "def insert_exploded_datetime_values(df, exploded):\n",
    "    df.insert(loc=df.columns.get_loc('time'), column='year', value=exploded['year'])\n",
    "    df.insert(loc=df.columns.get_loc('time'), column='month', value=exploded['month'])\n",
    "    df.insert(loc=df.columns.get_loc('time'), column='day', value=exploded['day'])\n",
    "    return df\n",
    "\n",
    "\n",
    "def insert_exploded_datetime_values_for_historical_matches(df, exploded):\n",
    "    for i in range(5):\n",
    "        for home_or_away in HomeOrAway:\n",
    "            df.insert(loc=df.columns.get_loc(f'{home_or_away.name}_team_history_{i + 1}_time'),\n",
    "                      column=f'{home_or_away.name}_team_history_{i + 1}_year',\n",
    "                      value=exploded[f'{home_or_away.name}_team_history_{i + 1}_year'])\n",
    "            df.insert(loc=df.columns.get_loc(f'{home_or_away.name}_team_history_{i + 1}_time'),\n",
    "                      column=f'{home_or_away.name}_team_history_{i + 1}_month',\n",
    "                      value=exploded[f'{home_or_away.name}_team_history_{i + 1}_month'])\n",
    "            df.insert(loc=df.columns.get_loc(f'{home_or_away.name}_team_history_{i + 1}_time'),\n",
    "                      column=f'{home_or_away.name}_team_history_{i + 1}_day',\n",
    "                      value=exploded[f'{home_or_away.name}_team_history_{i + 1}_day'])\n",
    "    return df\n",
    "\n",
    "\n",
    "def explode_datetime_values(df: pd.DataFrame) -> pd.DataFrame:\n",
    "    exploded = get_exploded_datetime_values(df)\n",
    "    return insert_exploded_datetime_values(df, exploded)\n",
    "\n",
    "\n",
    "def explode_datetime_values_for_historical_matches(df: pd.DataFrame) -> pd.DataFrame:\n",
    "    exploded = get_exploded_datetime_values_for_historical_matches(df)\n",
    "    return insert_exploded_datetime_values_for_historical_matches(df, exploded)\n",
    "\n",
    "\n",
    "def get_column_names_containing_str(df: pd.DataFrame, substring: str) -> list[str]:\n",
    "    return df.loc[:,df.columns.str.contains(substring)].columns.values.tolist()"
   ],
   "metadata": {
    "collapsed": false,
    "pycharm": {
     "name": "#%%\n"
    }
   }
  },
  {
   "cell_type": "code",
   "execution_count": 661,
   "outputs": [],
   "source": [
    "# explode datetime values\n",
    "df = explode_datetime_values(df)\n",
    "if historical_features_enabled:\n",
    "    df = explode_datetime_values_for_historical_matches(df)\n",
    "# drop date columns\n",
    "date_cols = get_column_names_containing_str(df, 'date')\n",
    "df.drop(date_cols, axis=1, inplace=True)"
   ],
   "metadata": {
    "collapsed": false,
    "pycharm": {
     "name": "#%%\n"
    }
   }
  },
  {
   "cell_type": "markdown",
   "source": [
    "### Result column balancing"
   ],
   "metadata": {
    "collapsed": false,
    "pycharm": {
     "name": "#%% md\n"
    }
   }
  },
  {
   "cell_type": "markdown",
   "source": [
    "### Data encoding\n",
    "We need to encode the data before feeding it to the network."
   ],
   "metadata": {
    "collapsed": false,
    "pycharm": {
     "name": "#%% md\n"
    }
   }
  },
  {
   "cell_type": "code",
   "execution_count": 662,
   "outputs": [],
   "source": [
    "from collections import defaultdict"
   ],
   "metadata": {
    "collapsed": false,
    "pycharm": {
     "name": "#%%\n"
    }
   }
  },
  {
   "cell_type": "markdown",
   "source": [
    "#### Rounds"
   ],
   "metadata": {
    "collapsed": false,
    "pycharm": {
     "name": "#%% md\n"
    }
   }
  },
  {
   "cell_type": "code",
   "execution_count": 663,
   "outputs": [],
   "source": [
    "# encode rounds\n",
    "df['round'] = df['round'].astype(int)"
   ],
   "metadata": {
    "collapsed": false,
    "pycharm": {
     "name": "#%%\n"
    }
   }
  },
  {
   "cell_type": "markdown",
   "source": [
    "#### Results\n",
    "One-hot encoding"
   ],
   "metadata": {
    "collapsed": false,
    "pycharm": {
     "name": "#%% md\n"
    }
   }
  },
  {
   "cell_type": "code",
   "execution_count": 664,
   "outputs": [],
   "source": [
    "# encode results\n",
    "target2int = {'home': 0, 'draw': 1, 'away': 2}\n",
    "result_cols = get_column_names_containing_str(df, 'result')\n",
    "for col in result_cols:\n",
    "    df[f'{col}'] = df[f'{col}'].map(target2int)"
   ],
   "metadata": {
    "collapsed": false,
    "pycharm": {
     "name": "#%%\n"
    }
   }
  },
  {
   "cell_type": "markdown",
   "source": [
    "#### Referees\n",
    "One-hot encoding"
   ],
   "metadata": {
    "collapsed": false,
    "pycharm": {
     "name": "#%% md\n"
    }
   }
  },
  {
   "cell_type": "code",
   "execution_count": 665,
   "outputs": [],
   "source": [
    "# reset\n",
    "temp_dict = defaultdict(lambda: len(temp_dict))\n",
    "# encode referees\n",
    "referee_cols = get_column_names_containing_str(df, 'referee')\n",
    "for col in referee_cols:\n",
    "    referee_ids = [temp_dict[ele] for ele in df[f'{col}'].tolist()]\n",
    "    df[f'{col}'] = referee_ids"
   ],
   "metadata": {
    "collapsed": false,
    "pycharm": {
     "name": "#%%\n"
    }
   }
  },
  {
   "cell_type": "markdown",
   "source": [
    "#### Teams\n",
    "One-hot encoding"
   ],
   "metadata": {
    "collapsed": false,
    "pycharm": {
     "name": "#%% md\n"
    }
   }
  },
  {
   "cell_type": "code",
   "execution_count": 666,
   "outputs": [
    {
     "name": "stdout",
     "output_type": "stream",
     "text": [
      "19\n",
      "19\n"
     ]
    }
   ],
   "source": [
    "# reset\n",
    "temp_dict = defaultdict(lambda: len(temp_dict))\n",
    "# encode teams\n",
    "for home_or_away in HomeOrAway:\n",
    "    teams_ids = [temp_dict[ele] for ele in df[f'{home_or_away.name}_team'].tolist()]\n",
    "    df[f'{home_or_away.name}_team'] = teams_ids\n",
    "print(df['home_team'].max())\n",
    "print(df['away_team'].max())\n",
    "if historical_features_enabled:\n",
    "    for i in range(5):\n",
    "        for home_or_away in HomeOrAway:\n",
    "            teams_ids = [temp_dict[ele] for ele in df[f'{home_or_away.name}_team_history_{i+1}_home_team'].tolist()]\n",
    "            df[f'{home_or_away.name}_team_history_{i+1}_home_team'] =  teams_ids\n",
    "            teams_ids = [temp_dict[ele] for ele in df[f'{home_or_away.name}_team_history_{i+1}_away_team'].tolist()]\n",
    "            df[f'{home_or_away.name}_team_history_{i+1}_away_team'] = teams_ids"
   ],
   "metadata": {
    "collapsed": false,
    "pycharm": {
     "name": "#%%\n"
    }
   }
  },
  {
   "cell_type": "markdown",
   "source": [
    "#### Coaches\n",
    "One-hot encoding"
   ],
   "metadata": {
    "collapsed": false,
    "pycharm": {
     "name": "#%% md\n"
    }
   }
  },
  {
   "cell_type": "code",
   "execution_count": 667,
   "outputs": [],
   "source": [
    "# reset\n",
    "temp_dict = defaultdict(lambda: len(temp_dict))\n",
    "# encode team coaches\n",
    "coach_cols = get_column_names_containing_str(df, 'coach')\n",
    "for col in coach_cols:\n",
    "    team_coach_ids = [temp_dict[ele] for ele in df[f'{col}'].tolist()]\n",
    "    df[f'{col}'] = team_coach_ids"
   ],
   "metadata": {
    "collapsed": false,
    "pycharm": {
     "name": "#%%\n"
    }
   }
  },
  {
   "cell_type": "markdown",
   "source": [
    "#### Players\n",
    "One-hot encoding"
   ],
   "metadata": {
    "collapsed": false,
    "pycharm": {
     "name": "#%% md\n"
    }
   }
  },
  {
   "cell_type": "code",
   "execution_count": 668,
   "outputs": [],
   "source": [
    "# reset\n",
    "temp_dict = defaultdict(lambda: len(temp_dict))\n",
    "# encode players\n",
    "player_cols = get_column_names_containing_str(df, 'player')\n",
    "player_cols += get_column_names_containing_str(df, 'substitute')\n",
    "for col in player_cols:\n",
    "    player_ids = [temp_dict[ele] for ele in df[f'{col}'].tolist()]\n",
    "    df[f'{col}'] = player_ids"
   ],
   "metadata": {
    "collapsed": false,
    "pycharm": {
     "name": "#%%\n"
    }
   }
  },
  {
   "cell_type": "markdown",
   "source": [
    "#### Seasons"
   ],
   "metadata": {
    "collapsed": false,
    "pycharm": {
     "name": "#%% md\n"
    }
   }
  },
  {
   "cell_type": "code",
   "execution_count": 669,
   "outputs": [],
   "source": [
    "# reset\n",
    "temp_dict = defaultdict(lambda: len(temp_dict))\n",
    "# encode players\n",
    "season_cols = get_column_names_containing_str(df, 'season')\n",
    "for col in season_cols:\n",
    "    season_ids = [temp_dict[ele] for ele in df[f'{col}'].tolist()]\n",
    "    df[f'{col}'] = season_ids"
   ],
   "metadata": {
    "collapsed": false,
    "pycharm": {
     "name": "#%%\n"
    }
   }
  },
  {
   "cell_type": "markdown",
   "source": [
    "#### Times"
   ],
   "metadata": {
    "collapsed": false,
    "pycharm": {
     "name": "#%% md\n"
    }
   }
  },
  {
   "cell_type": "code",
   "execution_count": 670,
   "outputs": [],
   "source": [
    "# convert time values to datetime\n",
    "df['time'] = pd.to_datetime(df['time'], format=\"%H:%M\")\n",
    "hours = []\n",
    "for index, row in df.iterrows():\n",
    "    hours.append(row['time'].hour)\n",
    "df.insert(loc=df.columns.get_loc('time'), column='hour', value=hours)\n",
    "df = df.drop(columns='time')"
   ],
   "metadata": {
    "collapsed": false,
    "pycharm": {
     "name": "#%%\n"
    }
   }
  },
  {
   "cell_type": "code",
   "execution_count": 671,
   "outputs": [
    {
     "data": {
      "text/plain": "     season  round  year  month  day  hour  referee  home_team  away_team  \\\n0         0      1  2005      8   27    20        0          0         12   \n1         0      1  2005      8   27    18        1          1         19   \n2         0      1  2005      8   28    15        2          2         10   \n3         0      1  2005      8   28    15        3          3         11   \n4         0      1  2005      8   28    15        4          4         13   \n..      ...    ...   ...    ...  ...   ...      ...        ...        ...   \n195       0     20  2006      1   18    20        4         14          8   \n196       0     20  2006      1   18    20        1         10          2   \n197       0     20  2006      1   18    20       14         19          1   \n198       0     20  2006      1   18    20       18         17          6   \n199       0     20  2006      1   18    20       11         16          5   \n\n     result  ...  away_player_9  away_player_10  away_player_11  \\\n0         0  ...            356             349             363   \n1         0  ...            247             417             354   \n2         1  ...            246             347             384   \n3         1  ...            318             367             348   \n4         0  ...            328             375             286   \n..      ...  ...            ...             ...             ...   \n195       0  ...            297             314             178   \n196       0  ...            177             369             341   \n197       1  ...            323             387             362   \n198       0  ...            422             344             392   \n199       1  ...            230             371             343   \n\n     away_substitute_1  away_substitute_2  away_substitute_3  \\\n0                  164                338                402   \n1                  213                308                304   \n2                  188                292                444   \n3                   11                423                272   \n4                  426                360                212   \n..                 ...                ...                ...   \n195                135                399                421   \n196                113                313                191   \n197                155                181                340   \n198                432                 41                 67   \n199                374                  5                 70   \n\n     away_substitute_4  away_substitute_5  away_substitute_6  \\\n0                  473                482                127   \n1                   31                117                174   \n2                  221                317                266   \n3                  112                408                219   \n4                   22                243                438   \n..                 ...                ...                ...   \n195                  8                224                262   \n196                460                123                531   \n197                457                476                283   \n198                472                406                382   \n199                 69                274                493   \n\n     away_substitute_7  \n0                  501  \n1                  459  \n2                   85  \n3                  427  \n4                   77  \n..                 ...  \n195                393  \n196                361  \n197                437  \n198                532  \n199                429  \n\n[200 rows x 48 columns]",
      "text/html": "<div>\n<style scoped>\n    .dataframe tbody tr th:only-of-type {\n        vertical-align: middle;\n    }\n\n    .dataframe tbody tr th {\n        vertical-align: top;\n    }\n\n    .dataframe thead th {\n        text-align: right;\n    }\n</style>\n<table border=\"1\" class=\"dataframe\">\n  <thead>\n    <tr style=\"text-align: right;\">\n      <th></th>\n      <th>season</th>\n      <th>round</th>\n      <th>year</th>\n      <th>month</th>\n      <th>day</th>\n      <th>hour</th>\n      <th>referee</th>\n      <th>home_team</th>\n      <th>away_team</th>\n      <th>result</th>\n      <th>...</th>\n      <th>away_player_9</th>\n      <th>away_player_10</th>\n      <th>away_player_11</th>\n      <th>away_substitute_1</th>\n      <th>away_substitute_2</th>\n      <th>away_substitute_3</th>\n      <th>away_substitute_4</th>\n      <th>away_substitute_5</th>\n      <th>away_substitute_6</th>\n      <th>away_substitute_7</th>\n    </tr>\n  </thead>\n  <tbody>\n    <tr>\n      <th>0</th>\n      <td>0</td>\n      <td>1</td>\n      <td>2005</td>\n      <td>8</td>\n      <td>27</td>\n      <td>20</td>\n      <td>0</td>\n      <td>0</td>\n      <td>12</td>\n      <td>0</td>\n      <td>...</td>\n      <td>356</td>\n      <td>349</td>\n      <td>363</td>\n      <td>164</td>\n      <td>338</td>\n      <td>402</td>\n      <td>473</td>\n      <td>482</td>\n      <td>127</td>\n      <td>501</td>\n    </tr>\n    <tr>\n      <th>1</th>\n      <td>0</td>\n      <td>1</td>\n      <td>2005</td>\n      <td>8</td>\n      <td>27</td>\n      <td>18</td>\n      <td>1</td>\n      <td>1</td>\n      <td>19</td>\n      <td>0</td>\n      <td>...</td>\n      <td>247</td>\n      <td>417</td>\n      <td>354</td>\n      <td>213</td>\n      <td>308</td>\n      <td>304</td>\n      <td>31</td>\n      <td>117</td>\n      <td>174</td>\n      <td>459</td>\n    </tr>\n    <tr>\n      <th>2</th>\n      <td>0</td>\n      <td>1</td>\n      <td>2005</td>\n      <td>8</td>\n      <td>28</td>\n      <td>15</td>\n      <td>2</td>\n      <td>2</td>\n      <td>10</td>\n      <td>1</td>\n      <td>...</td>\n      <td>246</td>\n      <td>347</td>\n      <td>384</td>\n      <td>188</td>\n      <td>292</td>\n      <td>444</td>\n      <td>221</td>\n      <td>317</td>\n      <td>266</td>\n      <td>85</td>\n    </tr>\n    <tr>\n      <th>3</th>\n      <td>0</td>\n      <td>1</td>\n      <td>2005</td>\n      <td>8</td>\n      <td>28</td>\n      <td>15</td>\n      <td>3</td>\n      <td>3</td>\n      <td>11</td>\n      <td>1</td>\n      <td>...</td>\n      <td>318</td>\n      <td>367</td>\n      <td>348</td>\n      <td>11</td>\n      <td>423</td>\n      <td>272</td>\n      <td>112</td>\n      <td>408</td>\n      <td>219</td>\n      <td>427</td>\n    </tr>\n    <tr>\n      <th>4</th>\n      <td>0</td>\n      <td>1</td>\n      <td>2005</td>\n      <td>8</td>\n      <td>28</td>\n      <td>15</td>\n      <td>4</td>\n      <td>4</td>\n      <td>13</td>\n      <td>0</td>\n      <td>...</td>\n      <td>328</td>\n      <td>375</td>\n      <td>286</td>\n      <td>426</td>\n      <td>360</td>\n      <td>212</td>\n      <td>22</td>\n      <td>243</td>\n      <td>438</td>\n      <td>77</td>\n    </tr>\n    <tr>\n      <th>...</th>\n      <td>...</td>\n      <td>...</td>\n      <td>...</td>\n      <td>...</td>\n      <td>...</td>\n      <td>...</td>\n      <td>...</td>\n      <td>...</td>\n      <td>...</td>\n      <td>...</td>\n      <td>...</td>\n      <td>...</td>\n      <td>...</td>\n      <td>...</td>\n      <td>...</td>\n      <td>...</td>\n      <td>...</td>\n      <td>...</td>\n      <td>...</td>\n      <td>...</td>\n      <td>...</td>\n    </tr>\n    <tr>\n      <th>195</th>\n      <td>0</td>\n      <td>20</td>\n      <td>2006</td>\n      <td>1</td>\n      <td>18</td>\n      <td>20</td>\n      <td>4</td>\n      <td>14</td>\n      <td>8</td>\n      <td>0</td>\n      <td>...</td>\n      <td>297</td>\n      <td>314</td>\n      <td>178</td>\n      <td>135</td>\n      <td>399</td>\n      <td>421</td>\n      <td>8</td>\n      <td>224</td>\n      <td>262</td>\n      <td>393</td>\n    </tr>\n    <tr>\n      <th>196</th>\n      <td>0</td>\n      <td>20</td>\n      <td>2006</td>\n      <td>1</td>\n      <td>18</td>\n      <td>20</td>\n      <td>1</td>\n      <td>10</td>\n      <td>2</td>\n      <td>0</td>\n      <td>...</td>\n      <td>177</td>\n      <td>369</td>\n      <td>341</td>\n      <td>113</td>\n      <td>313</td>\n      <td>191</td>\n      <td>460</td>\n      <td>123</td>\n      <td>531</td>\n      <td>361</td>\n    </tr>\n    <tr>\n      <th>197</th>\n      <td>0</td>\n      <td>20</td>\n      <td>2006</td>\n      <td>1</td>\n      <td>18</td>\n      <td>20</td>\n      <td>14</td>\n      <td>19</td>\n      <td>1</td>\n      <td>1</td>\n      <td>...</td>\n      <td>323</td>\n      <td>387</td>\n      <td>362</td>\n      <td>155</td>\n      <td>181</td>\n      <td>340</td>\n      <td>457</td>\n      <td>476</td>\n      <td>283</td>\n      <td>437</td>\n    </tr>\n    <tr>\n      <th>198</th>\n      <td>0</td>\n      <td>20</td>\n      <td>2006</td>\n      <td>1</td>\n      <td>18</td>\n      <td>20</td>\n      <td>18</td>\n      <td>17</td>\n      <td>6</td>\n      <td>0</td>\n      <td>...</td>\n      <td>422</td>\n      <td>344</td>\n      <td>392</td>\n      <td>432</td>\n      <td>41</td>\n      <td>67</td>\n      <td>472</td>\n      <td>406</td>\n      <td>382</td>\n      <td>532</td>\n    </tr>\n    <tr>\n      <th>199</th>\n      <td>0</td>\n      <td>20</td>\n      <td>2006</td>\n      <td>1</td>\n      <td>18</td>\n      <td>20</td>\n      <td>11</td>\n      <td>16</td>\n      <td>5</td>\n      <td>1</td>\n      <td>...</td>\n      <td>230</td>\n      <td>371</td>\n      <td>343</td>\n      <td>374</td>\n      <td>5</td>\n      <td>70</td>\n      <td>69</td>\n      <td>274</td>\n      <td>493</td>\n      <td>429</td>\n    </tr>\n  </tbody>\n</table>\n<p>200 rows × 48 columns</p>\n</div>"
     },
     "execution_count": 671,
     "metadata": {},
     "output_type": "execute_result"
    }
   ],
   "source": [
    "df[:200]"
   ],
   "metadata": {
    "collapsed": false,
    "pycharm": {
     "name": "#%%\n"
    }
   }
  },
  {
   "cell_type": "code",
   "execution_count": 671,
   "outputs": [],
   "source": [],
   "metadata": {
    "collapsed": false,
    "pycharm": {
     "name": "#%%\n"
    }
   }
  },
  {
   "cell_type": "markdown",
   "source": [
    "### Data normalization"
   ],
   "metadata": {
    "collapsed": false,
    "pycharm": {
     "name": "#%% md\n"
    }
   }
  },
  {
   "cell_type": "code",
   "execution_count": 672,
   "outputs": [],
   "source": [
    "# todo"
   ],
   "metadata": {
    "collapsed": false,
    "pycharm": {
     "name": "#%%\n"
    }
   }
  },
  {
   "cell_type": "markdown",
   "source": [
    "## Training\n",
    "Now that out dataset is ready, we can configure an RNN model and train it."
   ],
   "metadata": {
    "collapsed": false,
    "pycharm": {
     "name": "#%% md\n"
    }
   }
  },
  {
   "cell_type": "code",
   "execution_count": 673,
   "outputs": [],
   "source": [
    "import torch\n",
    "import torch.nn as nn\n",
    "from torch import optim"
   ],
   "metadata": {
    "collapsed": false,
    "pycharm": {
     "name": "#%%\n"
    }
   }
  },
  {
   "cell_type": "code",
   "execution_count": 674,
   "outputs": [],
   "source": [
    "class EncoderRNN(nn.Module):\n",
    "    def __init__(self, input_size, hidden_size):\n",
    "        super(EncoderRNN, self).__init__()\n",
    "        self.hidden_size = hidden_size\n",
    "        self.linear = nn.Linear(input_size + hidden_size, hidden_size)\n",
    "        self.tanh = nn.Tanh()\n",
    "\n",
    "    def forward(self, input, hidden):\n",
    "        combined = torch.cat((input, hidden), 1)\n",
    "        pre_hidden = self.linear(combined)\n",
    "        hidden = self.tanh(pre_hidden)\n",
    "        return hidden\n",
    "\n",
    "    def init_hidden(self):\n",
    "        return torch.zeros(1, self.hidden_size)"
   ],
   "metadata": {
    "collapsed": false,
    "pycharm": {
     "name": "#%%\n"
    }
   }
  },
  {
   "cell_type": "code",
   "execution_count": 675,
   "outputs": [],
   "source": [
    "n_historical_features = 17\n",
    "n_hidden = 128\n",
    "encoder = EncoderRNN(input_size=n_historical_features, hidden_size=n_hidden)"
   ],
   "metadata": {
    "collapsed": false,
    "pycharm": {
     "name": "#%%\n"
    }
   }
  },
  {
   "cell_type": "code",
   "execution_count": 676,
   "outputs": [],
   "source": [
    "class NeuralNetwork(nn.Module):\n",
    "    def __init__(self, input_size):\n",
    "        super(NeuralNetwork, self).__init__()\n",
    "        self.input_size = input_size\n",
    "        self.flatten = nn.Flatten()\n",
    "        self.layers = nn.Sequential(\n",
    "            nn.Linear(input_size, 512),\n",
    "            nn.ReLU(),\n",
    "            nn.Linear(512, 512),\n",
    "            nn.ReLU(),\n",
    "            nn.Linear(512, 3),\n",
    "            nn.Softmax(dim=1)\n",
    "        )\n",
    "\n",
    "    def forward(self, x):\n",
    "        x = self.flatten(x)\n",
    "        output = self.layers(x)\n",
    "        return output"
   ],
   "metadata": {
    "collapsed": false,
    "pycharm": {
     "name": "#%%\n"
    }
   }
  },
  {
   "cell_type": "code",
   "execution_count": 677,
   "outputs": [],
   "source": [
    "n_basic_features = len(match_cols)\n",
    "mlp = NeuralNetwork(n_historical_features * 2 + n_basic_features)"
   ],
   "metadata": {
    "collapsed": false,
    "pycharm": {
     "name": "#%%\n"
    }
   }
  },
  {
   "cell_type": "code",
   "execution_count": 678,
   "outputs": [],
   "source": [
    "def train(x, y, encoder: EncoderRNN, nn: NeuralNetwork,\n",
    "          encoder_optimizer: optim.Optimizer, nn_optimizer: optim.Optimizer, loss_fn):\n",
    "    # init\n",
    "    encoder_optimizer.zero_grad()\n",
    "    nn_optimizer.zero_grad()\n",
    "    input_length = x.size(0)\n",
    "    target_length = y.size(0)\n",
    "    loss = 0\n",
    "    # encoder forward\n",
    "    encoder_hidden = encoder.init_hidden()\n",
    "    for history_index in range(input_length):\n",
    "        encoder_hidden = encoder(x[history_index], encoder_hidden)\n",
    "    home_team_form = encoder_hidden\n",
    "    encoder_hidden = encoder.init_hidden()\n",
    "    for history_index in range(input_length):\n",
    "        encoder_hidden = encoder(x[history_index], encoder_hidden)\n",
    "    away_team_form = encoder_hidden\n",
    "    # mlp forward\n",
    "    match = torch.tensor([])  # todo\n",
    "    x_train = torch.cat((match, home_team_form, away_team_form), 1)\n",
    "    y_hat = nn(x_train)\n",
    "    # backward\n",
    "    loss = loss_fn(y, y_hat)\n",
    "    loss.backward()\n",
    "\n",
    "\n",
    "learning_rate = 0.01\n",
    "encoder_optimizer = optim.SGD(encoder.parameters(), lr=learning_rate)\n",
    "mlp_optimizer = optim.SGD(mlp.parameters(), lr=learning_rate)\n",
    "loss_fn = nn.NLLLoss()"
   ],
   "metadata": {
    "collapsed": false,
    "pycharm": {
     "name": "#%%\n"
    }
   }
  }
 ],
 "metadata": {
  "kernelspec": {
   "display_name": "Python 3",
   "language": "python",
   "name": "python3"
  },
  "language_info": {
   "codemirror_mode": {
    "name": "ipython",
    "version": 2
   },
   "file_extension": ".py",
   "mimetype": "text/x-python",
   "name": "python",
   "nbconvert_exporter": "python",
   "pygments_lexer": "ipython2",
   "version": "2.7.6"
  }
 },
 "nbformat": 4,
 "nbformat_minor": 0
}