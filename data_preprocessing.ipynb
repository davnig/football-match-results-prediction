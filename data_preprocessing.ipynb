{
 "cells": [
  {
   "cell_type": "markdown",
   "source": [
    "# Data pre-processing"
   ],
   "metadata": {
    "collapsed": false,
    "pycharm": {
     "name": "#%% md\n"
    }
   }
  },
  {
   "cell_type": "code",
   "execution_count": 1354,
   "outputs": [],
   "source": [
    "import pandas as pd\n",
    "\n",
    "from MatchResult import MatchResult\n",
    "from sklearn.preprocessing import OneHotEncoder"
   ],
   "metadata": {
    "collapsed": false,
    "pycharm": {
     "name": "#%%\n"
    }
   }
  },
  {
   "cell_type": "code",
   "execution_count": 1355,
   "outputs": [],
   "source": [
    "match_cols = ['season', 'round'] + \\\n",
    "['date', 'time', 'referee', 'home_team', 'away_team', 'home_score', 'away_score'] + \\\n",
    "['home_coach'] + \\\n",
    "['home_player_' + str(i) for i in range(1, 12)] + \\\n",
    "['home_substitute_' + str(i) for i in range(1, 8)] + \\\n",
    "['away_coach'] + \\\n",
    "['away_player_' + str(i) for i in range(1, 12)] + \\\n",
    "['away_substitute_' + str(i) for i in range(1, 8)]"
   ],
   "metadata": {
    "collapsed": false,
    "pycharm": {
     "name": "#%%\n"
    }
   }
  },
  {
   "cell_type": "code",
   "execution_count": 1356,
   "outputs": [
    {
     "data": {
      "text/plain": "    season  round        date   time             referee   home_team  \\\n0  2005-06      1  28/08/2005  15:00          MASSIMO DE      ASCOLI   \n1  2005-06      1  27/08/2005  20:30  GIANLUCA PAPARESTA  FIORENTINA   \n2  2005-06      1  28/08/2005  15:00       TIZIANO PIERI       PARMA   \n3  2005-06      1  28/08/2005  15:00   PAOLO TAGLIAVENTO       INTER   \n4  2005-06      1  27/08/2005  18:00     GIANLUCA ROCCHI     LIVORNO   \n\n   away_team  home_score  away_score        home_coach  ...    away_player_9  \\\n0      MILAN           1           1     Massimo Silva  ...             Kaka   \n1  SAMPDORIA           2           1  Cesare Prandelli  ...   Lamberto Zauli   \n2    PALERMO           1           1     Mario Beretta  ...  Massimo Bonanni   \n3    TREVISO           3           0   Roberto Mancini  ...        Reginaldo   \n4      LECCE           2           1  Roberto Donadoni  ...     Alex Pinardi   \n\n      away_player_10      away_player_11  away_substitute_1 away_substitute_2  \\\n0  Andriy Shevchenko   Alberto Gilardino  Marek Jankulovski  Clarence Seedorf   \n1   Francesco Flachi  Emiliano Bonazzoli       Marco Pisano   Vitaliy Kutuzov   \n2  Andrea Caracciolo     Stephen Makinwa     Nicola Santoni    Franco Brienza   \n3     Luigi Beghetto               Pinga  Roberto Chiappara         Dino Fava   \n4   Aleksei Eremenko      Graziano Pelle   Alfonso Camorani      Jaime Valdes   \n\n    away_substitute_3  away_substitute_4      away_substitute_5  \\\n0        Zeljko Kalac    Gennaro Gattuso       Manuel Rui Costa   \n1     Marco Borriello   Luca Castellazzi          Marco Zamboni   \n2   Massimo Mutarelli     Giuseppe Biava          Michele Ferri   \n3     Jehad Muntasser    Adriano Zancope  Francesco Parravicini   \n4  Giuseppe Cozzolino  Francesco Benussi         Marco Pecorari   \n\n    away_substitute_6  away_substitute_7  \n0        Johann Vogel        Dario Simic  \n1        Simone Pavan   Gionata Mingozzi  \n2    Mariano Gonzalez        Simone Pepe  \n3            Anderson  Alberto Giuliatto  \n4  Giuseppe Abruzzese    Davide Giorgino  \n\n[5 rows x 47 columns]",
      "text/html": "<div>\n<style scoped>\n    .dataframe tbody tr th:only-of-type {\n        vertical-align: middle;\n    }\n\n    .dataframe tbody tr th {\n        vertical-align: top;\n    }\n\n    .dataframe thead th {\n        text-align: right;\n    }\n</style>\n<table border=\"1\" class=\"dataframe\">\n  <thead>\n    <tr style=\"text-align: right;\">\n      <th></th>\n      <th>season</th>\n      <th>round</th>\n      <th>date</th>\n      <th>time</th>\n      <th>referee</th>\n      <th>home_team</th>\n      <th>away_team</th>\n      <th>home_score</th>\n      <th>away_score</th>\n      <th>home_coach</th>\n      <th>...</th>\n      <th>away_player_9</th>\n      <th>away_player_10</th>\n      <th>away_player_11</th>\n      <th>away_substitute_1</th>\n      <th>away_substitute_2</th>\n      <th>away_substitute_3</th>\n      <th>away_substitute_4</th>\n      <th>away_substitute_5</th>\n      <th>away_substitute_6</th>\n      <th>away_substitute_7</th>\n    </tr>\n  </thead>\n  <tbody>\n    <tr>\n      <th>0</th>\n      <td>2005-06</td>\n      <td>1</td>\n      <td>28/08/2005</td>\n      <td>15:00</td>\n      <td>MASSIMO DE</td>\n      <td>ASCOLI</td>\n      <td>MILAN</td>\n      <td>1</td>\n      <td>1</td>\n      <td>Massimo Silva</td>\n      <td>...</td>\n      <td>Kaka</td>\n      <td>Andriy Shevchenko</td>\n      <td>Alberto Gilardino</td>\n      <td>Marek Jankulovski</td>\n      <td>Clarence Seedorf</td>\n      <td>Zeljko Kalac</td>\n      <td>Gennaro Gattuso</td>\n      <td>Manuel Rui Costa</td>\n      <td>Johann Vogel</td>\n      <td>Dario Simic</td>\n    </tr>\n    <tr>\n      <th>1</th>\n      <td>2005-06</td>\n      <td>1</td>\n      <td>27/08/2005</td>\n      <td>20:30</td>\n      <td>GIANLUCA PAPARESTA</td>\n      <td>FIORENTINA</td>\n      <td>SAMPDORIA</td>\n      <td>2</td>\n      <td>1</td>\n      <td>Cesare Prandelli</td>\n      <td>...</td>\n      <td>Lamberto Zauli</td>\n      <td>Francesco Flachi</td>\n      <td>Emiliano Bonazzoli</td>\n      <td>Marco Pisano</td>\n      <td>Vitaliy Kutuzov</td>\n      <td>Marco Borriello</td>\n      <td>Luca Castellazzi</td>\n      <td>Marco Zamboni</td>\n      <td>Simone Pavan</td>\n      <td>Gionata Mingozzi</td>\n    </tr>\n    <tr>\n      <th>2</th>\n      <td>2005-06</td>\n      <td>1</td>\n      <td>28/08/2005</td>\n      <td>15:00</td>\n      <td>TIZIANO PIERI</td>\n      <td>PARMA</td>\n      <td>PALERMO</td>\n      <td>1</td>\n      <td>1</td>\n      <td>Mario Beretta</td>\n      <td>...</td>\n      <td>Massimo Bonanni</td>\n      <td>Andrea Caracciolo</td>\n      <td>Stephen Makinwa</td>\n      <td>Nicola Santoni</td>\n      <td>Franco Brienza</td>\n      <td>Massimo Mutarelli</td>\n      <td>Giuseppe Biava</td>\n      <td>Michele Ferri</td>\n      <td>Mariano Gonzalez</td>\n      <td>Simone Pepe</td>\n    </tr>\n    <tr>\n      <th>3</th>\n      <td>2005-06</td>\n      <td>1</td>\n      <td>28/08/2005</td>\n      <td>15:00</td>\n      <td>PAOLO TAGLIAVENTO</td>\n      <td>INTER</td>\n      <td>TREVISO</td>\n      <td>3</td>\n      <td>0</td>\n      <td>Roberto Mancini</td>\n      <td>...</td>\n      <td>Reginaldo</td>\n      <td>Luigi Beghetto</td>\n      <td>Pinga</td>\n      <td>Roberto Chiappara</td>\n      <td>Dino Fava</td>\n      <td>Jehad Muntasser</td>\n      <td>Adriano Zancope</td>\n      <td>Francesco Parravicini</td>\n      <td>Anderson</td>\n      <td>Alberto Giuliatto</td>\n    </tr>\n    <tr>\n      <th>4</th>\n      <td>2005-06</td>\n      <td>1</td>\n      <td>27/08/2005</td>\n      <td>18:00</td>\n      <td>GIANLUCA ROCCHI</td>\n      <td>LIVORNO</td>\n      <td>LECCE</td>\n      <td>2</td>\n      <td>1</td>\n      <td>Roberto Donadoni</td>\n      <td>...</td>\n      <td>Alex Pinardi</td>\n      <td>Aleksei Eremenko</td>\n      <td>Graziano Pelle</td>\n      <td>Alfonso Camorani</td>\n      <td>Jaime Valdes</td>\n      <td>Giuseppe Cozzolino</td>\n      <td>Francesco Benussi</td>\n      <td>Marco Pecorari</td>\n      <td>Giuseppe Abruzzese</td>\n      <td>Davide Giorgino</td>\n    </tr>\n  </tbody>\n</table>\n<p>5 rows × 47 columns</p>\n</div>"
     },
     "execution_count": 1356,
     "metadata": {},
     "output_type": "execute_result"
    }
   ],
   "source": [
    "train_raw = pd.read_csv('train-raw.csv')\n",
    "train_raw.head()"
   ],
   "metadata": {
    "collapsed": false,
    "pycharm": {
     "name": "#%%\n"
    }
   }
  },
  {
   "cell_type": "code",
   "execution_count": 1357,
   "outputs": [],
   "source": [
    "# test_raw = pd.read_csv('test-raw.csv')\n",
    "# test_raw.head()"
   ],
   "metadata": {
    "collapsed": false,
    "pycharm": {
     "name": "#%%\n"
    }
   }
  },
  {
   "cell_type": "markdown",
   "source": [
    "## Data visualization\n",
    "\n",
    "Let's inspect our data a little bit more"
   ],
   "metadata": {
    "collapsed": false,
    "pycharm": {
     "name": "#%% md\n"
    }
   }
  },
  {
   "cell_type": "code",
   "execution_count": 1358,
   "outputs": [],
   "source": [
    "# todo"
   ],
   "metadata": {
    "collapsed": false,
    "pycharm": {
     "name": "#%%\n"
    }
   }
  },
  {
   "cell_type": "markdown",
   "source": [
    "## Data manipulation\n",
    "Now let's clean our raw data and add some additional features."
   ],
   "metadata": {
    "collapsed": false,
    "pycharm": {
     "name": "#%% md\n"
    }
   }
  },
  {
   "cell_type": "code",
   "execution_count": 1359,
   "outputs": [],
   "source": [
    "df = pd.DataFrame(train_raw)\n",
    "# df = df[:200]"
   ],
   "metadata": {
    "collapsed": false,
    "pycharm": {
     "name": "#%%\n"
    }
   }
  },
  {
   "cell_type": "code",
   "execution_count": 1360,
   "outputs": [],
   "source": [
    "# convert date str to datetime\n",
    "df['date'] = pd.to_datetime(df['date'], infer_datetime_format=True)\n",
    "# sort by date column\n",
    "df = df.sort_values(by='date')\n",
    "df = df.reset_index(drop=True)\n",
    "# round values to int\n",
    "df['round'] = df['round'].astype(int)"
   ],
   "metadata": {
    "collapsed": false,
    "pycharm": {
     "name": "#%%\n"
    }
   }
  },
  {
   "cell_type": "markdown",
   "source": [
    "### Additional features"
   ],
   "metadata": {
    "collapsed": false,
    "pycharm": {
     "name": "#%% md\n"
    }
   }
  },
  {
   "cell_type": "markdown",
   "source": [
    "#### Result column\n",
    "Our model will try to predict match results, i.e. **home win**, **away win** or **draw**, so we need a result column to be used as our target."
   ],
   "metadata": {
    "collapsed": false,
    "pycharm": {
     "name": "#%% md\n"
    }
   }
  },
  {
   "cell_type": "code",
   "execution_count": 1361,
   "outputs": [],
   "source": [
    "def get_match_result_from_score(home_score: int, away_score: int) -> MatchResult:\n",
    "    if home_score == away_score:\n",
    "        return MatchResult.draw\n",
    "    if home_score > away_score:\n",
    "        return MatchResult.home\n",
    "    return MatchResult.away\n",
    "\n",
    "\n",
    "def add_target_column(df: pd.DataFrame) -> pd.DataFrame:\n",
    "    results = {'result': []}\n",
    "    for index, row in df.iterrows():\n",
    "        results['result'] += [get_match_result_from_score(row['home_score'], row['away_score']).name]\n",
    "    df.insert(loc=df.columns.get_loc('home_score'), column='result', value=results['result'])\n",
    "    return df"
   ],
   "metadata": {
    "collapsed": false,
    "pycharm": {
     "name": "#%%\n"
    }
   }
  },
  {
   "cell_type": "code",
   "execution_count": 1362,
   "outputs": [
    {
     "data": {
      "text/plain": "       season  round       date   time             referee     home_team  \\\n0     2005-06      1 2005-08-27  20:30  GIANLUCA PAPARESTA    FIORENTINA   \n1     2005-06      1 2005-08-27  18:00     GIANLUCA ROCCHI       LIVORNO   \n2     2005-06      1 2005-08-28  15:00          MASSIMO DE        ASCOLI   \n3     2005-06      1 2005-08-28  15:00       TIZIANO PIERI         PARMA   \n4     2005-06      1 2005-08-28  15:00   PAOLO TAGLIAVENTO         INTER   \n...       ...    ...        ...    ...                 ...           ...   \n1354  2008-09     22 2009-02-01  15:00    CHRISTIAN BRIGHI   ROBUR SIENA   \n1355  2008-09     22 2009-02-01  15:00     PAOLO DONDARINI      ATALANTA   \n1356  2008-09     22 2009-02-01  15:00       GABRIELE GAVA  CHIEVOVERONA   \n1357  2008-09     22 2009-02-01  15:00       MATTEO SIMONE         GENOA   \n1358  2008-09     22 2009-02-02  15:15      DANIELE ORSATO       BOLOGNA   \n\n       away_team result  home_score  away_score  ...         away_player_9  \\\n0      SAMPDORIA   home           2           1  ...        Lamberto Zauli   \n1          LECCE   home           2           1  ...          Alex Pinardi   \n2          MILAN   draw           1           1  ...                  Kaka   \n3        PALERMO   draw           1           1  ...       Massimo Bonanni   \n4        TREVISO   home           3           0  ...             Reginaldo   \n...          ...    ...         ...         ...  ...                   ...   \n1354       LECCE   away           1           2  ...  Guillermo Giacomazzi   \n1355     CATANIA   home           1           0  ...        Jorge Martinez   \n1356   SAMPDORIA   draw           1           1  ...           Mirko Pieri   \n1357     PALERMO   home           1           0  ...        Mark Bresciano   \n1358  FIORENTINA   away           1           3  ...         Mario Santana   \n\n         away_player_10      away_player_11  away_substitute_1  \\\n0      Francesco Flachi  Emiliano Bonazzoli       Marco Pisano   \n1      Aleksei Eremenko      Graziano Pelle   Alfonso Camorani   \n2     Andriy Shevchenko   Alberto Gilardino  Marek Jankulovski   \n3     Andrea Caracciolo     Stephen Makinwa     Nicola Santoni   \n4        Luigi Beghetto               Pinga  Roberto Chiappara   \n...                 ...                 ...                ...   \n1354      Jose Castillo   Simone Tiribocchi      Andrea Ardito   \n1355   Giuseppe Mascara    Michele Paolucci       Mariano Izco   \n1356  Giampaolo Pazzini     Antonio Cassano  Mattia Mustacchio   \n1357   Levan Mchedlidze      Edinson Cavani       Mirko Savini   \n1358  Alberto Gilardino         Adrian Mutu      Marco Donadel   \n\n      away_substitute_2   away_substitute_3  away_substitute_4  \\\n0       Vitaliy Kutuzov     Marco Borriello   Luca Castellazzi   \n1          Jaime Valdes  Giuseppe Cozzolino  Francesco Benussi   \n2      Clarence Seedorf        Zeljko Kalac    Gennaro Gattuso   \n3        Franco Brienza   Massimo Mutarelli     Giuseppe Biava   \n4             Dino Fava     Jehad Muntasser    Adriano Zancope   \n...                 ...                 ...                ...   \n1354  Ndiaye Papa Waigo      Antonio Rosati   Raffaele Schiavi   \n1355   Gionatha Spinesi   Takayuki Morimoto      Paolo Acerbis   \n1356   Claudio Bellucci     Antonio Mirante    Guido Marilungo   \n1357  Giulio Migliaccio       Roberto Guana       Samir Ujkani   \n1358      Massimo Gobbi      Franco Semioli      Vlada Avramov   \n\n          away_substitute_5   away_substitute_6   away_substitute_7  \n0             Marco Zamboni        Simone Pavan    Gionata Mingozzi  \n1            Marco Pecorari  Giuseppe Abruzzese     Davide Giorgino  \n2          Manuel Rui Costa        Johann Vogel         Dario Simic  \n3             Michele Ferri    Mariano Gonzalez         Simone Pepe  \n4     Francesco Parravicini            Anderson   Alberto Giuliatto  \n...                     ...                 ...                 ...  \n1354                 Angelo       Daniele Cacia              Edinho  \n1355    Christian Silvestri      Cristian Llama       Pablo Ledesma  \n1356           Pedro Obiang       Michele Ferri     Manuel Da Costa  \n1357     Alberto Cossentino    Giovanni Tedesco        Davide Succi  \n1358  Massimiliano Tagliani      Manuel Pasqual  Emiliano Bonazzoli  \n\n[1359 rows x 48 columns]",
      "text/html": "<div>\n<style scoped>\n    .dataframe tbody tr th:only-of-type {\n        vertical-align: middle;\n    }\n\n    .dataframe tbody tr th {\n        vertical-align: top;\n    }\n\n    .dataframe thead th {\n        text-align: right;\n    }\n</style>\n<table border=\"1\" class=\"dataframe\">\n  <thead>\n    <tr style=\"text-align: right;\">\n      <th></th>\n      <th>season</th>\n      <th>round</th>\n      <th>date</th>\n      <th>time</th>\n      <th>referee</th>\n      <th>home_team</th>\n      <th>away_team</th>\n      <th>result</th>\n      <th>home_score</th>\n      <th>away_score</th>\n      <th>...</th>\n      <th>away_player_9</th>\n      <th>away_player_10</th>\n      <th>away_player_11</th>\n      <th>away_substitute_1</th>\n      <th>away_substitute_2</th>\n      <th>away_substitute_3</th>\n      <th>away_substitute_4</th>\n      <th>away_substitute_5</th>\n      <th>away_substitute_6</th>\n      <th>away_substitute_7</th>\n    </tr>\n  </thead>\n  <tbody>\n    <tr>\n      <th>0</th>\n      <td>2005-06</td>\n      <td>1</td>\n      <td>2005-08-27</td>\n      <td>20:30</td>\n      <td>GIANLUCA PAPARESTA</td>\n      <td>FIORENTINA</td>\n      <td>SAMPDORIA</td>\n      <td>home</td>\n      <td>2</td>\n      <td>1</td>\n      <td>...</td>\n      <td>Lamberto Zauli</td>\n      <td>Francesco Flachi</td>\n      <td>Emiliano Bonazzoli</td>\n      <td>Marco Pisano</td>\n      <td>Vitaliy Kutuzov</td>\n      <td>Marco Borriello</td>\n      <td>Luca Castellazzi</td>\n      <td>Marco Zamboni</td>\n      <td>Simone Pavan</td>\n      <td>Gionata Mingozzi</td>\n    </tr>\n    <tr>\n      <th>1</th>\n      <td>2005-06</td>\n      <td>1</td>\n      <td>2005-08-27</td>\n      <td>18:00</td>\n      <td>GIANLUCA ROCCHI</td>\n      <td>LIVORNO</td>\n      <td>LECCE</td>\n      <td>home</td>\n      <td>2</td>\n      <td>1</td>\n      <td>...</td>\n      <td>Alex Pinardi</td>\n      <td>Aleksei Eremenko</td>\n      <td>Graziano Pelle</td>\n      <td>Alfonso Camorani</td>\n      <td>Jaime Valdes</td>\n      <td>Giuseppe Cozzolino</td>\n      <td>Francesco Benussi</td>\n      <td>Marco Pecorari</td>\n      <td>Giuseppe Abruzzese</td>\n      <td>Davide Giorgino</td>\n    </tr>\n    <tr>\n      <th>2</th>\n      <td>2005-06</td>\n      <td>1</td>\n      <td>2005-08-28</td>\n      <td>15:00</td>\n      <td>MASSIMO DE</td>\n      <td>ASCOLI</td>\n      <td>MILAN</td>\n      <td>draw</td>\n      <td>1</td>\n      <td>1</td>\n      <td>...</td>\n      <td>Kaka</td>\n      <td>Andriy Shevchenko</td>\n      <td>Alberto Gilardino</td>\n      <td>Marek Jankulovski</td>\n      <td>Clarence Seedorf</td>\n      <td>Zeljko Kalac</td>\n      <td>Gennaro Gattuso</td>\n      <td>Manuel Rui Costa</td>\n      <td>Johann Vogel</td>\n      <td>Dario Simic</td>\n    </tr>\n    <tr>\n      <th>3</th>\n      <td>2005-06</td>\n      <td>1</td>\n      <td>2005-08-28</td>\n      <td>15:00</td>\n      <td>TIZIANO PIERI</td>\n      <td>PARMA</td>\n      <td>PALERMO</td>\n      <td>draw</td>\n      <td>1</td>\n      <td>1</td>\n      <td>...</td>\n      <td>Massimo Bonanni</td>\n      <td>Andrea Caracciolo</td>\n      <td>Stephen Makinwa</td>\n      <td>Nicola Santoni</td>\n      <td>Franco Brienza</td>\n      <td>Massimo Mutarelli</td>\n      <td>Giuseppe Biava</td>\n      <td>Michele Ferri</td>\n      <td>Mariano Gonzalez</td>\n      <td>Simone Pepe</td>\n    </tr>\n    <tr>\n      <th>4</th>\n      <td>2005-06</td>\n      <td>1</td>\n      <td>2005-08-28</td>\n      <td>15:00</td>\n      <td>PAOLO TAGLIAVENTO</td>\n      <td>INTER</td>\n      <td>TREVISO</td>\n      <td>home</td>\n      <td>3</td>\n      <td>0</td>\n      <td>...</td>\n      <td>Reginaldo</td>\n      <td>Luigi Beghetto</td>\n      <td>Pinga</td>\n      <td>Roberto Chiappara</td>\n      <td>Dino Fava</td>\n      <td>Jehad Muntasser</td>\n      <td>Adriano Zancope</td>\n      <td>Francesco Parravicini</td>\n      <td>Anderson</td>\n      <td>Alberto Giuliatto</td>\n    </tr>\n    <tr>\n      <th>...</th>\n      <td>...</td>\n      <td>...</td>\n      <td>...</td>\n      <td>...</td>\n      <td>...</td>\n      <td>...</td>\n      <td>...</td>\n      <td>...</td>\n      <td>...</td>\n      <td>...</td>\n      <td>...</td>\n      <td>...</td>\n      <td>...</td>\n      <td>...</td>\n      <td>...</td>\n      <td>...</td>\n      <td>...</td>\n      <td>...</td>\n      <td>...</td>\n      <td>...</td>\n      <td>...</td>\n    </tr>\n    <tr>\n      <th>1354</th>\n      <td>2008-09</td>\n      <td>22</td>\n      <td>2009-02-01</td>\n      <td>15:00</td>\n      <td>CHRISTIAN BRIGHI</td>\n      <td>ROBUR SIENA</td>\n      <td>LECCE</td>\n      <td>away</td>\n      <td>1</td>\n      <td>2</td>\n      <td>...</td>\n      <td>Guillermo Giacomazzi</td>\n      <td>Jose Castillo</td>\n      <td>Simone Tiribocchi</td>\n      <td>Andrea Ardito</td>\n      <td>Ndiaye Papa Waigo</td>\n      <td>Antonio Rosati</td>\n      <td>Raffaele Schiavi</td>\n      <td>Angelo</td>\n      <td>Daniele Cacia</td>\n      <td>Edinho</td>\n    </tr>\n    <tr>\n      <th>1355</th>\n      <td>2008-09</td>\n      <td>22</td>\n      <td>2009-02-01</td>\n      <td>15:00</td>\n      <td>PAOLO DONDARINI</td>\n      <td>ATALANTA</td>\n      <td>CATANIA</td>\n      <td>home</td>\n      <td>1</td>\n      <td>0</td>\n      <td>...</td>\n      <td>Jorge Martinez</td>\n      <td>Giuseppe Mascara</td>\n      <td>Michele Paolucci</td>\n      <td>Mariano Izco</td>\n      <td>Gionatha Spinesi</td>\n      <td>Takayuki Morimoto</td>\n      <td>Paolo Acerbis</td>\n      <td>Christian Silvestri</td>\n      <td>Cristian Llama</td>\n      <td>Pablo Ledesma</td>\n    </tr>\n    <tr>\n      <th>1356</th>\n      <td>2008-09</td>\n      <td>22</td>\n      <td>2009-02-01</td>\n      <td>15:00</td>\n      <td>GABRIELE GAVA</td>\n      <td>CHIEVOVERONA</td>\n      <td>SAMPDORIA</td>\n      <td>draw</td>\n      <td>1</td>\n      <td>1</td>\n      <td>...</td>\n      <td>Mirko Pieri</td>\n      <td>Giampaolo Pazzini</td>\n      <td>Antonio Cassano</td>\n      <td>Mattia Mustacchio</td>\n      <td>Claudio Bellucci</td>\n      <td>Antonio Mirante</td>\n      <td>Guido Marilungo</td>\n      <td>Pedro Obiang</td>\n      <td>Michele Ferri</td>\n      <td>Manuel Da Costa</td>\n    </tr>\n    <tr>\n      <th>1357</th>\n      <td>2008-09</td>\n      <td>22</td>\n      <td>2009-02-01</td>\n      <td>15:00</td>\n      <td>MATTEO SIMONE</td>\n      <td>GENOA</td>\n      <td>PALERMO</td>\n      <td>home</td>\n      <td>1</td>\n      <td>0</td>\n      <td>...</td>\n      <td>Mark Bresciano</td>\n      <td>Levan Mchedlidze</td>\n      <td>Edinson Cavani</td>\n      <td>Mirko Savini</td>\n      <td>Giulio Migliaccio</td>\n      <td>Roberto Guana</td>\n      <td>Samir Ujkani</td>\n      <td>Alberto Cossentino</td>\n      <td>Giovanni Tedesco</td>\n      <td>Davide Succi</td>\n    </tr>\n    <tr>\n      <th>1358</th>\n      <td>2008-09</td>\n      <td>22</td>\n      <td>2009-02-02</td>\n      <td>15:15</td>\n      <td>DANIELE ORSATO</td>\n      <td>BOLOGNA</td>\n      <td>FIORENTINA</td>\n      <td>away</td>\n      <td>1</td>\n      <td>3</td>\n      <td>...</td>\n      <td>Mario Santana</td>\n      <td>Alberto Gilardino</td>\n      <td>Adrian Mutu</td>\n      <td>Marco Donadel</td>\n      <td>Massimo Gobbi</td>\n      <td>Franco Semioli</td>\n      <td>Vlada Avramov</td>\n      <td>Massimiliano Tagliani</td>\n      <td>Manuel Pasqual</td>\n      <td>Emiliano Bonazzoli</td>\n    </tr>\n  </tbody>\n</table>\n<p>1359 rows × 48 columns</p>\n</div>"
     },
     "execution_count": 1362,
     "metadata": {},
     "output_type": "execute_result"
    }
   ],
   "source": [
    "# add target column\n",
    "add_target_column(df)"
   ],
   "metadata": {
    "collapsed": false,
    "pycharm": {
     "name": "#%%\n"
    }
   }
  },
  {
   "cell_type": "markdown",
   "source": [
    "### Rest days features\n",
    "Rest days are very important for recovery."
   ],
   "metadata": {
    "collapsed": false,
    "pycharm": {
     "name": "#%% md\n"
    }
   }
  },
  {
   "cell_type": "code",
   "execution_count": 1363,
   "outputs": [],
   "source": [
    "def count_days_between_dates(date1, date2) -> int:\n",
    "    return (date1 - date2).dt.days"
   ],
   "metadata": {
    "collapsed": false,
    "pycharm": {
     "name": "#%%\n"
    }
   }
  },
  {
   "cell_type": "code",
   "execution_count": 1364,
   "outputs": [],
   "source": [
    "# for i in range(5):\n",
    "#     for home_or_away in HomeOrAway:\n",
    "#         if i == 0:\n",
    "#             df[f'{home_or_away.name}_team_rest_days'] = count_days_between_dates(df['date'], df[f'{home_or_away.name}_team_history_{i+1}_date'])\n",
    "#         else:\n",
    "#             df[f'{home_or_away.name}_team_history_{i}_rest_days'] = count_days_between_dates(df[f'{home_or_away.name}_team_history_{i}_date'], df[f'{home_or_away.name}_team_history_{i+1}_date'])\n",
    "\n",
    "# todo: cannot count rest days for historical 5th games because we still miss the data about the 6th historical match"
   ],
   "metadata": {
    "collapsed": false,
    "pycharm": {
     "name": "#%%\n"
    }
   }
  },
  {
   "cell_type": "code",
   "execution_count": 1365,
   "outputs": [],
   "source": [
    "# delete columns referring to the historical 6th matches\n",
    "# df = df.loc[:, ~df.columns.str.contains('history_6')]"
   ],
   "metadata": {
    "collapsed": false,
    "pycharm": {
     "name": "#%%\n"
    }
   }
  },
  {
   "cell_type": "markdown",
   "source": [
    "#### Datetime features\n",
    "Add **year**, **month** and **day** features for all **date** value"
   ],
   "metadata": {
    "collapsed": false,
    "pycharm": {
     "name": "#%% md\n"
    }
   }
  },
  {
   "cell_type": "code",
   "execution_count": 1366,
   "outputs": [],
   "source": [
    "def get_exploded_datetime_values(df: pd.DataFrame) -> dict:\n",
    "    data = {'year': [], 'month': [], 'day': [], 'hour': []}\n",
    "    df['time'] = pd.to_datetime(df['time'], format=\"%H:%M\")\n",
    "    data['year'] += df['date'].map(lambda val: val.year).tolist()\n",
    "    data['month'] += df['date'].map(lambda val: val.month).tolist()\n",
    "    data['day'] += df['date'].map(lambda val: val.day).tolist()\n",
    "    data['hour'] += df['time'].map(lambda val: val.hour).tolist()\n",
    "    return data\n",
    "\n",
    "\n",
    "def insert_exploded_datetime_values(df, exploded):\n",
    "    df.insert(loc=df.columns.get_loc('time'), column='year', value=exploded['year'])\n",
    "    df.insert(loc=df.columns.get_loc('time'), column='month', value=exploded['month'])\n",
    "    df.insert(loc=df.columns.get_loc('time'), column='day', value=exploded['day'])\n",
    "    df.insert(loc=df.columns.get_loc('time'), column='hour', value=exploded['hour'])\n",
    "    return df\n",
    "\n",
    "\n",
    "def explode_datetime_values(df: pd.DataFrame) -> pd.DataFrame:\n",
    "    exploded = get_exploded_datetime_values(df)\n",
    "    return insert_exploded_datetime_values(df, exploded)"
   ],
   "metadata": {
    "collapsed": false,
    "pycharm": {
     "name": "#%%\n"
    }
   }
  },
  {
   "cell_type": "code",
   "execution_count": 1367,
   "outputs": [],
   "source": [
    "# explode datetime values\n",
    "df = explode_datetime_values(df)\n",
    "# drop date columns\n",
    "df.drop('date', axis=1, inplace=True)\n",
    "df.drop('time', axis=1, inplace=True)"
   ],
   "metadata": {
    "collapsed": false,
    "pycharm": {
     "name": "#%%\n"
    }
   }
  },
  {
   "cell_type": "markdown",
   "source": [
    "The result of the pre-processing looks like this:"
   ],
   "metadata": {
    "collapsed": false,
    "pycharm": {
     "name": "#%% md\n"
    }
   }
  },
  {
   "cell_type": "code",
   "execution_count": 1368,
   "outputs": [
    {
     "data": {
      "text/plain": "    season  round  year  month  day  hour             referee   home_team  \\\n0  2005-06      1  2005      8   27    20  GIANLUCA PAPARESTA  FIORENTINA   \n1  2005-06      1  2005      8   27    18     GIANLUCA ROCCHI     LIVORNO   \n2  2005-06      1  2005      8   28    15          MASSIMO DE      ASCOLI   \n3  2005-06      1  2005      8   28    15       TIZIANO PIERI       PARMA   \n4  2005-06      1  2005      8   28    15   PAOLO TAGLIAVENTO       INTER   \n\n   away_team result  ...    away_player_9     away_player_10  \\\n0  SAMPDORIA   home  ...   Lamberto Zauli   Francesco Flachi   \n1      LECCE   home  ...     Alex Pinardi   Aleksei Eremenko   \n2      MILAN   draw  ...             Kaka  Andriy Shevchenko   \n3    PALERMO   draw  ...  Massimo Bonanni  Andrea Caracciolo   \n4    TREVISO   home  ...        Reginaldo     Luigi Beghetto   \n\n       away_player_11  away_substitute_1 away_substitute_2  \\\n0  Emiliano Bonazzoli       Marco Pisano   Vitaliy Kutuzov   \n1      Graziano Pelle   Alfonso Camorani      Jaime Valdes   \n2   Alberto Gilardino  Marek Jankulovski  Clarence Seedorf   \n3     Stephen Makinwa     Nicola Santoni    Franco Brienza   \n4               Pinga  Roberto Chiappara         Dino Fava   \n\n    away_substitute_3  away_substitute_4      away_substitute_5  \\\n0     Marco Borriello   Luca Castellazzi          Marco Zamboni   \n1  Giuseppe Cozzolino  Francesco Benussi         Marco Pecorari   \n2        Zeljko Kalac    Gennaro Gattuso       Manuel Rui Costa   \n3   Massimo Mutarelli     Giuseppe Biava          Michele Ferri   \n4     Jehad Muntasser    Adriano Zancope  Francesco Parravicini   \n\n    away_substitute_6  away_substitute_7  \n0        Simone Pavan   Gionata Mingozzi  \n1  Giuseppe Abruzzese    Davide Giorgino  \n2        Johann Vogel        Dario Simic  \n3    Mariano Gonzalez        Simone Pepe  \n4            Anderson  Alberto Giuliatto  \n\n[5 rows x 50 columns]",
      "text/html": "<div>\n<style scoped>\n    .dataframe tbody tr th:only-of-type {\n        vertical-align: middle;\n    }\n\n    .dataframe tbody tr th {\n        vertical-align: top;\n    }\n\n    .dataframe thead th {\n        text-align: right;\n    }\n</style>\n<table border=\"1\" class=\"dataframe\">\n  <thead>\n    <tr style=\"text-align: right;\">\n      <th></th>\n      <th>season</th>\n      <th>round</th>\n      <th>year</th>\n      <th>month</th>\n      <th>day</th>\n      <th>hour</th>\n      <th>referee</th>\n      <th>home_team</th>\n      <th>away_team</th>\n      <th>result</th>\n      <th>...</th>\n      <th>away_player_9</th>\n      <th>away_player_10</th>\n      <th>away_player_11</th>\n      <th>away_substitute_1</th>\n      <th>away_substitute_2</th>\n      <th>away_substitute_3</th>\n      <th>away_substitute_4</th>\n      <th>away_substitute_5</th>\n      <th>away_substitute_6</th>\n      <th>away_substitute_7</th>\n    </tr>\n  </thead>\n  <tbody>\n    <tr>\n      <th>0</th>\n      <td>2005-06</td>\n      <td>1</td>\n      <td>2005</td>\n      <td>8</td>\n      <td>27</td>\n      <td>20</td>\n      <td>GIANLUCA PAPARESTA</td>\n      <td>FIORENTINA</td>\n      <td>SAMPDORIA</td>\n      <td>home</td>\n      <td>...</td>\n      <td>Lamberto Zauli</td>\n      <td>Francesco Flachi</td>\n      <td>Emiliano Bonazzoli</td>\n      <td>Marco Pisano</td>\n      <td>Vitaliy Kutuzov</td>\n      <td>Marco Borriello</td>\n      <td>Luca Castellazzi</td>\n      <td>Marco Zamboni</td>\n      <td>Simone Pavan</td>\n      <td>Gionata Mingozzi</td>\n    </tr>\n    <tr>\n      <th>1</th>\n      <td>2005-06</td>\n      <td>1</td>\n      <td>2005</td>\n      <td>8</td>\n      <td>27</td>\n      <td>18</td>\n      <td>GIANLUCA ROCCHI</td>\n      <td>LIVORNO</td>\n      <td>LECCE</td>\n      <td>home</td>\n      <td>...</td>\n      <td>Alex Pinardi</td>\n      <td>Aleksei Eremenko</td>\n      <td>Graziano Pelle</td>\n      <td>Alfonso Camorani</td>\n      <td>Jaime Valdes</td>\n      <td>Giuseppe Cozzolino</td>\n      <td>Francesco Benussi</td>\n      <td>Marco Pecorari</td>\n      <td>Giuseppe Abruzzese</td>\n      <td>Davide Giorgino</td>\n    </tr>\n    <tr>\n      <th>2</th>\n      <td>2005-06</td>\n      <td>1</td>\n      <td>2005</td>\n      <td>8</td>\n      <td>28</td>\n      <td>15</td>\n      <td>MASSIMO DE</td>\n      <td>ASCOLI</td>\n      <td>MILAN</td>\n      <td>draw</td>\n      <td>...</td>\n      <td>Kaka</td>\n      <td>Andriy Shevchenko</td>\n      <td>Alberto Gilardino</td>\n      <td>Marek Jankulovski</td>\n      <td>Clarence Seedorf</td>\n      <td>Zeljko Kalac</td>\n      <td>Gennaro Gattuso</td>\n      <td>Manuel Rui Costa</td>\n      <td>Johann Vogel</td>\n      <td>Dario Simic</td>\n    </tr>\n    <tr>\n      <th>3</th>\n      <td>2005-06</td>\n      <td>1</td>\n      <td>2005</td>\n      <td>8</td>\n      <td>28</td>\n      <td>15</td>\n      <td>TIZIANO PIERI</td>\n      <td>PARMA</td>\n      <td>PALERMO</td>\n      <td>draw</td>\n      <td>...</td>\n      <td>Massimo Bonanni</td>\n      <td>Andrea Caracciolo</td>\n      <td>Stephen Makinwa</td>\n      <td>Nicola Santoni</td>\n      <td>Franco Brienza</td>\n      <td>Massimo Mutarelli</td>\n      <td>Giuseppe Biava</td>\n      <td>Michele Ferri</td>\n      <td>Mariano Gonzalez</td>\n      <td>Simone Pepe</td>\n    </tr>\n    <tr>\n      <th>4</th>\n      <td>2005-06</td>\n      <td>1</td>\n      <td>2005</td>\n      <td>8</td>\n      <td>28</td>\n      <td>15</td>\n      <td>PAOLO TAGLIAVENTO</td>\n      <td>INTER</td>\n      <td>TREVISO</td>\n      <td>home</td>\n      <td>...</td>\n      <td>Reginaldo</td>\n      <td>Luigi Beghetto</td>\n      <td>Pinga</td>\n      <td>Roberto Chiappara</td>\n      <td>Dino Fava</td>\n      <td>Jehad Muntasser</td>\n      <td>Adriano Zancope</td>\n      <td>Francesco Parravicini</td>\n      <td>Anderson</td>\n      <td>Alberto Giuliatto</td>\n    </tr>\n  </tbody>\n</table>\n<p>5 rows × 50 columns</p>\n</div>"
     },
     "execution_count": 1368,
     "metadata": {},
     "output_type": "execute_result"
    }
   ],
   "source": [
    "df.head()"
   ],
   "metadata": {
    "collapsed": false,
    "pycharm": {
     "name": "#%%\n"
    }
   }
  },
  {
   "cell_type": "code",
   "execution_count": 1369,
   "outputs": [],
   "source": [
    "df = df.dropna()"
   ],
   "metadata": {
    "collapsed": false,
    "pycharm": {
     "name": "#%%\n"
    }
   }
  },
  {
   "cell_type": "markdown",
   "source": [
    "# Data encoding"
   ],
   "metadata": {
    "collapsed": false,
    "pycharm": {
     "name": "#%% md\n"
    }
   }
  },
  {
   "cell_type": "markdown",
   "source": [
    "## Seasons"
   ],
   "metadata": {
    "collapsed": false,
    "pycharm": {
     "name": "#%% md\n"
    }
   }
  },
  {
   "cell_type": "code",
   "execution_count": 1370,
   "outputs": [
    {
     "name": "stderr",
     "output_type": "stream",
     "text": [
      "C:\\Users\\david\\AppData\\Local\\Temp\\ipykernel_14796\\1055702406.py:2: SettingWithCopyWarning: \n",
      "A value is trying to be set on a copy of a slice from a DataFrame.\n",
      "Try using .loc[row_indexer,col_indexer] = value instead\n",
      "\n",
      "See the caveats in the documentation: https://pandas.pydata.org/pandas-docs/stable/user_guide/indexing.html#returning-a-view-versus-a-copy\n",
      "  df['season'] = df['season'].map(season2index)\n"
     ]
    }
   ],
   "source": [
    "season2index = {'20' + f'{i + 5}'.zfill(2) + '-' + f'{i + 6}'.zfill(2): i for i in range(16)}\n",
    "df['season'] = df['season'].map(season2index)"
   ],
   "metadata": {
    "collapsed": false,
    "pycharm": {
     "name": "#%%\n"
    }
   }
  },
  {
   "cell_type": "markdown",
   "source": [
    "## Players\n",
    "We need to manually one-hot encode the names of the players because we have to consider all the player columns to construct a list containing all the unique values."
   ],
   "metadata": {
    "collapsed": false,
    "pycharm": {
     "name": "#%% md\n"
    }
   }
  },
  {
   "cell_type": "code",
   "execution_count": 1371,
   "outputs": [],
   "source": [
    "def get_column_names_containing_str(df: pd.DataFrame, substring: str) -> list[str]:\n",
    "    return df.loc[:, df.columns.str.contains(substring)].columns.values.tolist()"
   ],
   "metadata": {
    "collapsed": false,
    "pycharm": {
     "name": "#%%\n"
    }
   }
  },
  {
   "cell_type": "code",
   "execution_count": 1372,
   "outputs": [],
   "source": [
    "# get all columns containing player names\n",
    "player_columns = get_column_names_containing_str(df, 'player')\n",
    "player_columns += get_column_names_containing_str(df, 'substitute')\n",
    "home_player_columns = get_column_names_containing_str(df, 'home_player')\n",
    "home_player_columns += get_column_names_containing_str(df, 'home_substitute')\n",
    "away_player_columns = get_column_names_containing_str(df, 'away_player')\n",
    "away_player_columns += get_column_names_containing_str(df, 'away_substitute')\n",
    "all_unique_players = pd.concat([df[player_columns[i]] for i in range(len(player_columns))], axis=0).unique().tolist()"
   ],
   "metadata": {
    "collapsed": false,
    "pycharm": {
     "name": "#%%\n"
    }
   }
  },
  {
   "cell_type": "code",
   "execution_count": 1373,
   "outputs": [
    {
     "data": {
      "text/plain": "   home_player_Sebastien Frey  home_player_Marco Amelia  \\\n0                           1                         0   \n1                           0                         1   \n2                           0                         0   \n3                           0                         0   \n4                           0                         0   \n\n   home_player_Ferdinando Coppola  home_player_Cristiano Lupatelli  \\\n0                               0                                0   \n1                               0                                0   \n2                               1                                0   \n3                               0                                1   \n4                               0                                0   \n\n   home_player_Julio Cesar  home_player_Christian Abbiati  \\\n0                        0                              0   \n1                        0                              0   \n2                        0                              0   \n3                        0                              0   \n4                        1                              0   \n\n   home_player_Antonio Mirante  home_player_Morgan De Sanctis  \\\n0                            0                              0   \n1                            0                              0   \n2                            0                              0   \n3                            0                              0   \n4                            0                              0   \n\n   home_player_Ivan Pelizzoli  home_player_Angelo Peruzzi  ...  \\\n0                           0                           0  ...   \n1                           0                           0  ...   \n2                           0                           0  ...   \n3                           0                           0  ...   \n4                           0                           0  ...   \n\n   away_player_Mario DUrso  away_player_Federico Laurito  \\\n0                        0                             0   \n1                        0                             0   \n2                        0                             0   \n3                        0                             0   \n4                        0                             0   \n\n   away_player_Ivan Fatic  away_player_Pape Diakhate  \\\n0                       0                          0   \n1                       0                          0   \n2                       0                          0   \n3                       0                          0   \n4                       0                          0   \n\n   away_player_Oscar Torres  away_player_Manuel Mancini  \\\n0                         0                           0   \n1                         0                           0   \n2                         0                           0   \n3                         0                           0   \n4                         0                           0   \n\n   away_player_Iago Falque  away_player_Daniele Ragatzu  \\\n0                        0                            0   \n1                        0                            0   \n2                        0                            0   \n3                        0                            0   \n4                        0                            0   \n\n   away_player_Ciro Immobile  away_player_Edinho  \n0                          0                   0  \n1                          0                   0  \n2                          0                   0  \n3                          0                   0  \n4                          0                   0  \n\n[5 rows x 2350 columns]",
      "text/html": "<div>\n<style scoped>\n    .dataframe tbody tr th:only-of-type {\n        vertical-align: middle;\n    }\n\n    .dataframe tbody tr th {\n        vertical-align: top;\n    }\n\n    .dataframe thead th {\n        text-align: right;\n    }\n</style>\n<table border=\"1\" class=\"dataframe\">\n  <thead>\n    <tr style=\"text-align: right;\">\n      <th></th>\n      <th>home_player_Sebastien Frey</th>\n      <th>home_player_Marco Amelia</th>\n      <th>home_player_Ferdinando Coppola</th>\n      <th>home_player_Cristiano Lupatelli</th>\n      <th>home_player_Julio Cesar</th>\n      <th>home_player_Christian Abbiati</th>\n      <th>home_player_Antonio Mirante</th>\n      <th>home_player_Morgan De Sanctis</th>\n      <th>home_player_Ivan Pelizzoli</th>\n      <th>home_player_Angelo Peruzzi</th>\n      <th>...</th>\n      <th>away_player_Mario DUrso</th>\n      <th>away_player_Federico Laurito</th>\n      <th>away_player_Ivan Fatic</th>\n      <th>away_player_Pape Diakhate</th>\n      <th>away_player_Oscar Torres</th>\n      <th>away_player_Manuel Mancini</th>\n      <th>away_player_Iago Falque</th>\n      <th>away_player_Daniele Ragatzu</th>\n      <th>away_player_Ciro Immobile</th>\n      <th>away_player_Edinho</th>\n    </tr>\n  </thead>\n  <tbody>\n    <tr>\n      <th>0</th>\n      <td>1</td>\n      <td>0</td>\n      <td>0</td>\n      <td>0</td>\n      <td>0</td>\n      <td>0</td>\n      <td>0</td>\n      <td>0</td>\n      <td>0</td>\n      <td>0</td>\n      <td>...</td>\n      <td>0</td>\n      <td>0</td>\n      <td>0</td>\n      <td>0</td>\n      <td>0</td>\n      <td>0</td>\n      <td>0</td>\n      <td>0</td>\n      <td>0</td>\n      <td>0</td>\n    </tr>\n    <tr>\n      <th>1</th>\n      <td>0</td>\n      <td>1</td>\n      <td>0</td>\n      <td>0</td>\n      <td>0</td>\n      <td>0</td>\n      <td>0</td>\n      <td>0</td>\n      <td>0</td>\n      <td>0</td>\n      <td>...</td>\n      <td>0</td>\n      <td>0</td>\n      <td>0</td>\n      <td>0</td>\n      <td>0</td>\n      <td>0</td>\n      <td>0</td>\n      <td>0</td>\n      <td>0</td>\n      <td>0</td>\n    </tr>\n    <tr>\n      <th>2</th>\n      <td>0</td>\n      <td>0</td>\n      <td>1</td>\n      <td>0</td>\n      <td>0</td>\n      <td>0</td>\n      <td>0</td>\n      <td>0</td>\n      <td>0</td>\n      <td>0</td>\n      <td>...</td>\n      <td>0</td>\n      <td>0</td>\n      <td>0</td>\n      <td>0</td>\n      <td>0</td>\n      <td>0</td>\n      <td>0</td>\n      <td>0</td>\n      <td>0</td>\n      <td>0</td>\n    </tr>\n    <tr>\n      <th>3</th>\n      <td>0</td>\n      <td>0</td>\n      <td>0</td>\n      <td>1</td>\n      <td>0</td>\n      <td>0</td>\n      <td>0</td>\n      <td>0</td>\n      <td>0</td>\n      <td>0</td>\n      <td>...</td>\n      <td>0</td>\n      <td>0</td>\n      <td>0</td>\n      <td>0</td>\n      <td>0</td>\n      <td>0</td>\n      <td>0</td>\n      <td>0</td>\n      <td>0</td>\n      <td>0</td>\n    </tr>\n    <tr>\n      <th>4</th>\n      <td>0</td>\n      <td>0</td>\n      <td>0</td>\n      <td>0</td>\n      <td>1</td>\n      <td>0</td>\n      <td>0</td>\n      <td>0</td>\n      <td>0</td>\n      <td>0</td>\n      <td>...</td>\n      <td>0</td>\n      <td>0</td>\n      <td>0</td>\n      <td>0</td>\n      <td>0</td>\n      <td>0</td>\n      <td>0</td>\n      <td>0</td>\n      <td>0</td>\n      <td>0</td>\n    </tr>\n  </tbody>\n</table>\n<p>5 rows × 2350 columns</p>\n</div>"
     },
     "execution_count": 1373,
     "metadata": {},
     "output_type": "execute_result"
    }
   ],
   "source": [
    "result = []\n",
    "for index, row in df.iterrows():\n",
    "    home_encoding = [0] * len(all_unique_players)\n",
    "    away_encoding = [0] * len(all_unique_players)\n",
    "    for idx in range(len(home_player_columns)):\n",
    "        home_player_idx = all_unique_players.index(row[home_player_columns[idx]])\n",
    "        home_encoding[home_player_idx] = 1\n",
    "        away_player_idx = all_unique_players.index(row[away_player_columns[idx]])\n",
    "        away_encoding[away_player_idx] = 1\n",
    "    result += [home_encoding + away_encoding]\n",
    "home_away_player_columns = [f'home_player_{name}' for name in all_unique_players] + [f'away_player_{name}' for name in all_unique_players]\n",
    "players_df = pd.DataFrame(result, columns=home_away_player_columns)\n",
    "players_df.head()"
   ],
   "metadata": {
    "collapsed": false,
    "pycharm": {
     "name": "#%%\n"
    }
   }
  },
  {
   "cell_type": "code",
   "execution_count": 1374,
   "outputs": [
    {
     "data": {
      "text/plain": "(1312, 50)"
     },
     "execution_count": 1374,
     "metadata": {},
     "output_type": "execute_result"
    }
   ],
   "source": [
    "df.shape"
   ],
   "metadata": {
    "collapsed": false,
    "pycharm": {
     "name": "#%%\n"
    }
   }
  },
  {
   "cell_type": "code",
   "execution_count": 1375,
   "outputs": [
    {
     "data": {
      "text/plain": "   season  round  year  month  day  hour             referee   home_team  \\\n0       0      1  2005      8   27    20  GIANLUCA PAPARESTA  FIORENTINA   \n1       0      1  2005      8   27    18     GIANLUCA ROCCHI     LIVORNO   \n2       0      1  2005      8   28    15          MASSIMO DE      ASCOLI   \n3       0      1  2005      8   28    15       TIZIANO PIERI       PARMA   \n4       0      1  2005      8   28    15   PAOLO TAGLIAVENTO       INTER   \n\n   away_team result  ...  away_player_Mario DUrso  \\\n0  SAMPDORIA   home  ...                        0   \n1      LECCE   home  ...                        0   \n2      MILAN   draw  ...                        0   \n3    PALERMO   draw  ...                        0   \n4    TREVISO   home  ...                        0   \n\n   away_player_Federico Laurito away_player_Ivan Fatic  \\\n0                             0                      0   \n1                             0                      0   \n2                             0                      0   \n3                             0                      0   \n4                             0                      0   \n\n  away_player_Pape Diakhate  away_player_Oscar Torres  \\\n0                         0                         0   \n1                         0                         0   \n2                         0                         0   \n3                         0                         0   \n4                         0                         0   \n\n   away_player_Manuel Mancini  away_player_Iago Falque  \\\n0                           0                        0   \n1                           0                        0   \n2                           0                        0   \n3                           0                        0   \n4                           0                        0   \n\n   away_player_Daniele Ragatzu  away_player_Ciro Immobile  away_player_Edinho  \n0                            0                          0                   0  \n1                            0                          0                   0  \n2                            0                          0                   0  \n3                            0                          0                   0  \n4                            0                          0                   0  \n\n[5 rows x 2364 columns]",
      "text/html": "<div>\n<style scoped>\n    .dataframe tbody tr th:only-of-type {\n        vertical-align: middle;\n    }\n\n    .dataframe tbody tr th {\n        vertical-align: top;\n    }\n\n    .dataframe thead th {\n        text-align: right;\n    }\n</style>\n<table border=\"1\" class=\"dataframe\">\n  <thead>\n    <tr style=\"text-align: right;\">\n      <th></th>\n      <th>season</th>\n      <th>round</th>\n      <th>year</th>\n      <th>month</th>\n      <th>day</th>\n      <th>hour</th>\n      <th>referee</th>\n      <th>home_team</th>\n      <th>away_team</th>\n      <th>result</th>\n      <th>...</th>\n      <th>away_player_Mario DUrso</th>\n      <th>away_player_Federico Laurito</th>\n      <th>away_player_Ivan Fatic</th>\n      <th>away_player_Pape Diakhate</th>\n      <th>away_player_Oscar Torres</th>\n      <th>away_player_Manuel Mancini</th>\n      <th>away_player_Iago Falque</th>\n      <th>away_player_Daniele Ragatzu</th>\n      <th>away_player_Ciro Immobile</th>\n      <th>away_player_Edinho</th>\n    </tr>\n  </thead>\n  <tbody>\n    <tr>\n      <th>0</th>\n      <td>0</td>\n      <td>1</td>\n      <td>2005</td>\n      <td>8</td>\n      <td>27</td>\n      <td>20</td>\n      <td>GIANLUCA PAPARESTA</td>\n      <td>FIORENTINA</td>\n      <td>SAMPDORIA</td>\n      <td>home</td>\n      <td>...</td>\n      <td>0</td>\n      <td>0</td>\n      <td>0</td>\n      <td>0</td>\n      <td>0</td>\n      <td>0</td>\n      <td>0</td>\n      <td>0</td>\n      <td>0</td>\n      <td>0</td>\n    </tr>\n    <tr>\n      <th>1</th>\n      <td>0</td>\n      <td>1</td>\n      <td>2005</td>\n      <td>8</td>\n      <td>27</td>\n      <td>18</td>\n      <td>GIANLUCA ROCCHI</td>\n      <td>LIVORNO</td>\n      <td>LECCE</td>\n      <td>home</td>\n      <td>...</td>\n      <td>0</td>\n      <td>0</td>\n      <td>0</td>\n      <td>0</td>\n      <td>0</td>\n      <td>0</td>\n      <td>0</td>\n      <td>0</td>\n      <td>0</td>\n      <td>0</td>\n    </tr>\n    <tr>\n      <th>2</th>\n      <td>0</td>\n      <td>1</td>\n      <td>2005</td>\n      <td>8</td>\n      <td>28</td>\n      <td>15</td>\n      <td>MASSIMO DE</td>\n      <td>ASCOLI</td>\n      <td>MILAN</td>\n      <td>draw</td>\n      <td>...</td>\n      <td>0</td>\n      <td>0</td>\n      <td>0</td>\n      <td>0</td>\n      <td>0</td>\n      <td>0</td>\n      <td>0</td>\n      <td>0</td>\n      <td>0</td>\n      <td>0</td>\n    </tr>\n    <tr>\n      <th>3</th>\n      <td>0</td>\n      <td>1</td>\n      <td>2005</td>\n      <td>8</td>\n      <td>28</td>\n      <td>15</td>\n      <td>TIZIANO PIERI</td>\n      <td>PARMA</td>\n      <td>PALERMO</td>\n      <td>draw</td>\n      <td>...</td>\n      <td>0</td>\n      <td>0</td>\n      <td>0</td>\n      <td>0</td>\n      <td>0</td>\n      <td>0</td>\n      <td>0</td>\n      <td>0</td>\n      <td>0</td>\n      <td>0</td>\n    </tr>\n    <tr>\n      <th>4</th>\n      <td>0</td>\n      <td>1</td>\n      <td>2005</td>\n      <td>8</td>\n      <td>28</td>\n      <td>15</td>\n      <td>PAOLO TAGLIAVENTO</td>\n      <td>INTER</td>\n      <td>TREVISO</td>\n      <td>home</td>\n      <td>...</td>\n      <td>0</td>\n      <td>0</td>\n      <td>0</td>\n      <td>0</td>\n      <td>0</td>\n      <td>0</td>\n      <td>0</td>\n      <td>0</td>\n      <td>0</td>\n      <td>0</td>\n    </tr>\n  </tbody>\n</table>\n<p>5 rows × 2364 columns</p>\n</div>"
     },
     "execution_count": 1375,
     "metadata": {},
     "output_type": "execute_result"
    }
   ],
   "source": [
    "df = df.drop(player_columns, axis=1)\n",
    "df = pd.concat([df, players_df.set_index(df.index)], axis=1)\n",
    "df.head()"
   ],
   "metadata": {
    "collapsed": false,
    "pycharm": {
     "name": "#%%\n"
    }
   }
  },
  {
   "cell_type": "code",
   "execution_count": 1376,
   "outputs": [
    {
     "data": {
      "text/plain": "(1312, 2364)"
     },
     "execution_count": 1376,
     "metadata": {},
     "output_type": "execute_result"
    }
   ],
   "source": [
    "df.shape"
   ],
   "metadata": {
    "collapsed": false,
    "pycharm": {
     "name": "#%%\n"
    }
   }
  },
  {
   "cell_type": "markdown",
   "source": [
    "## Remaining features"
   ],
   "metadata": {
    "collapsed": false,
    "pycharm": {
     "name": "#%% md\n"
    }
   }
  },
  {
   "cell_type": "code",
   "execution_count": 1377,
   "outputs": [],
   "source": [
    "# one-hot encoding for all non-integer columns\n",
    "df = pd.get_dummies(df)"
   ],
   "metadata": {
    "collapsed": false,
    "pycharm": {
     "name": "#%%\n"
    }
   }
  },
  {
   "cell_type": "code",
   "execution_count": 1378,
   "outputs": [
    {
     "data": {
      "text/plain": "      season  round  year  month  day  hour  home_score  away_score  \\\n0          0      1  2005      8   27    20           2           1   \n1          0      1  2005      8   27    18           2           1   \n2          0      1  2005      8   28    15           1           1   \n3          0      1  2005      8   28    15           1           1   \n4          0      1  2005      8   28    15           3           0   \n...      ...    ...   ...    ...  ...   ...         ...         ...   \n1354       3     22  2009      2    1    15           1           2   \n1355       3     22  2009      2    1    15           1           0   \n1356       3     22  2009      2    1    15           1           1   \n1357       3     22  2009      2    1    15           1           0   \n1358       3     22  2009      2    2    15           1           3   \n\n      home_player_Sebastien Frey  home_player_Marco Amelia  ...  \\\n0                              1                         0  ...   \n1                              0                         1  ...   \n2                              0                         0  ...   \n3                              0                         0  ...   \n4                              0                         0  ...   \n...                          ...                       ...  ...   \n1354                           0                         0  ...   \n1355                           0                         0  ...   \n1356                           0                         0  ...   \n1357                           0                         0  ...   \n1358                           0                         0  ...   \n\n      away_coach_Roberto Mancini  away_coach_Rosario Pergolizzi  \\\n0                              0                              0   \n1                              0                              0   \n2                              0                              0   \n3                              0                              0   \n4                              0                              0   \n...                          ...                            ...   \n1354                           0                              0   \n1355                           0                              0   \n1356                           0                              0   \n1357                           0                              0   \n1358                           0                              0   \n\n      away_coach_Serse Cosmi  away_coach_Silvio Baldini  \\\n0                          0                          0   \n1                          0                          0   \n2                          0                          0   \n3                          0                          0   \n4                          0                          0   \n...                      ...                        ...   \n1354                       0                          0   \n1355                       0                          0   \n1356                       0                          0   \n1357                       0                          0   \n1358                       0                          0   \n\n      away_coach_Sinisa Mihajlovic  away_coach_Stefano Colantuono  \\\n0                                0                              0   \n1                                0                              0   \n2                                0                              0   \n3                                0                              0   \n4                                0                              0   \n...                            ...                            ...   \n1354                             0                              0   \n1355                             0                              0   \n1356                             0                              0   \n1357                             0                              0   \n1358                             0                              0   \n\n      away_coach_Stefano Pioli  away_coach_Walter Alfredo Novellino  \\\n0                            0                                    1   \n1                            0                                    0   \n2                            0                                    0   \n3                            0                                    0   \n4                            0                                    0   \n...                        ...                                  ...   \n1354                         0                                    0   \n1355                         0                                    0   \n1356                         0                                    0   \n1357                         0                                    0   \n1358                         0                                    0   \n\n      away_coach_Walter Mazzarri  away_coach_Walter Zenga  \n0                              0                        0  \n1                              0                        0  \n2                              0                        0  \n3                              0                        0  \n4                              0                        0  \n...                          ...                      ...  \n1354                           0                        0  \n1355                           0                        1  \n1356                           1                        0  \n1357                           0                        0  \n1358                           0                        0  \n\n[1312 rows x 2590 columns]",
      "text/html": "<div>\n<style scoped>\n    .dataframe tbody tr th:only-of-type {\n        vertical-align: middle;\n    }\n\n    .dataframe tbody tr th {\n        vertical-align: top;\n    }\n\n    .dataframe thead th {\n        text-align: right;\n    }\n</style>\n<table border=\"1\" class=\"dataframe\">\n  <thead>\n    <tr style=\"text-align: right;\">\n      <th></th>\n      <th>season</th>\n      <th>round</th>\n      <th>year</th>\n      <th>month</th>\n      <th>day</th>\n      <th>hour</th>\n      <th>home_score</th>\n      <th>away_score</th>\n      <th>home_player_Sebastien Frey</th>\n      <th>home_player_Marco Amelia</th>\n      <th>...</th>\n      <th>away_coach_Roberto Mancini</th>\n      <th>away_coach_Rosario Pergolizzi</th>\n      <th>away_coach_Serse Cosmi</th>\n      <th>away_coach_Silvio Baldini</th>\n      <th>away_coach_Sinisa Mihajlovic</th>\n      <th>away_coach_Stefano Colantuono</th>\n      <th>away_coach_Stefano Pioli</th>\n      <th>away_coach_Walter Alfredo Novellino</th>\n      <th>away_coach_Walter Mazzarri</th>\n      <th>away_coach_Walter Zenga</th>\n    </tr>\n  </thead>\n  <tbody>\n    <tr>\n      <th>0</th>\n      <td>0</td>\n      <td>1</td>\n      <td>2005</td>\n      <td>8</td>\n      <td>27</td>\n      <td>20</td>\n      <td>2</td>\n      <td>1</td>\n      <td>1</td>\n      <td>0</td>\n      <td>...</td>\n      <td>0</td>\n      <td>0</td>\n      <td>0</td>\n      <td>0</td>\n      <td>0</td>\n      <td>0</td>\n      <td>0</td>\n      <td>1</td>\n      <td>0</td>\n      <td>0</td>\n    </tr>\n    <tr>\n      <th>1</th>\n      <td>0</td>\n      <td>1</td>\n      <td>2005</td>\n      <td>8</td>\n      <td>27</td>\n      <td>18</td>\n      <td>2</td>\n      <td>1</td>\n      <td>0</td>\n      <td>1</td>\n      <td>...</td>\n      <td>0</td>\n      <td>0</td>\n      <td>0</td>\n      <td>0</td>\n      <td>0</td>\n      <td>0</td>\n      <td>0</td>\n      <td>0</td>\n      <td>0</td>\n      <td>0</td>\n    </tr>\n    <tr>\n      <th>2</th>\n      <td>0</td>\n      <td>1</td>\n      <td>2005</td>\n      <td>8</td>\n      <td>28</td>\n      <td>15</td>\n      <td>1</td>\n      <td>1</td>\n      <td>0</td>\n      <td>0</td>\n      <td>...</td>\n      <td>0</td>\n      <td>0</td>\n      <td>0</td>\n      <td>0</td>\n      <td>0</td>\n      <td>0</td>\n      <td>0</td>\n      <td>0</td>\n      <td>0</td>\n      <td>0</td>\n    </tr>\n    <tr>\n      <th>3</th>\n      <td>0</td>\n      <td>1</td>\n      <td>2005</td>\n      <td>8</td>\n      <td>28</td>\n      <td>15</td>\n      <td>1</td>\n      <td>1</td>\n      <td>0</td>\n      <td>0</td>\n      <td>...</td>\n      <td>0</td>\n      <td>0</td>\n      <td>0</td>\n      <td>0</td>\n      <td>0</td>\n      <td>0</td>\n      <td>0</td>\n      <td>0</td>\n      <td>0</td>\n      <td>0</td>\n    </tr>\n    <tr>\n      <th>4</th>\n      <td>0</td>\n      <td>1</td>\n      <td>2005</td>\n      <td>8</td>\n      <td>28</td>\n      <td>15</td>\n      <td>3</td>\n      <td>0</td>\n      <td>0</td>\n      <td>0</td>\n      <td>...</td>\n      <td>0</td>\n      <td>0</td>\n      <td>0</td>\n      <td>0</td>\n      <td>0</td>\n      <td>0</td>\n      <td>0</td>\n      <td>0</td>\n      <td>0</td>\n      <td>0</td>\n    </tr>\n    <tr>\n      <th>...</th>\n      <td>...</td>\n      <td>...</td>\n      <td>...</td>\n      <td>...</td>\n      <td>...</td>\n      <td>...</td>\n      <td>...</td>\n      <td>...</td>\n      <td>...</td>\n      <td>...</td>\n      <td>...</td>\n      <td>...</td>\n      <td>...</td>\n      <td>...</td>\n      <td>...</td>\n      <td>...</td>\n      <td>...</td>\n      <td>...</td>\n      <td>...</td>\n      <td>...</td>\n      <td>...</td>\n    </tr>\n    <tr>\n      <th>1354</th>\n      <td>3</td>\n      <td>22</td>\n      <td>2009</td>\n      <td>2</td>\n      <td>1</td>\n      <td>15</td>\n      <td>1</td>\n      <td>2</td>\n      <td>0</td>\n      <td>0</td>\n      <td>...</td>\n      <td>0</td>\n      <td>0</td>\n      <td>0</td>\n      <td>0</td>\n      <td>0</td>\n      <td>0</td>\n      <td>0</td>\n      <td>0</td>\n      <td>0</td>\n      <td>0</td>\n    </tr>\n    <tr>\n      <th>1355</th>\n      <td>3</td>\n      <td>22</td>\n      <td>2009</td>\n      <td>2</td>\n      <td>1</td>\n      <td>15</td>\n      <td>1</td>\n      <td>0</td>\n      <td>0</td>\n      <td>0</td>\n      <td>...</td>\n      <td>0</td>\n      <td>0</td>\n      <td>0</td>\n      <td>0</td>\n      <td>0</td>\n      <td>0</td>\n      <td>0</td>\n      <td>0</td>\n      <td>0</td>\n      <td>1</td>\n    </tr>\n    <tr>\n      <th>1356</th>\n      <td>3</td>\n      <td>22</td>\n      <td>2009</td>\n      <td>2</td>\n      <td>1</td>\n      <td>15</td>\n      <td>1</td>\n      <td>1</td>\n      <td>0</td>\n      <td>0</td>\n      <td>...</td>\n      <td>0</td>\n      <td>0</td>\n      <td>0</td>\n      <td>0</td>\n      <td>0</td>\n      <td>0</td>\n      <td>0</td>\n      <td>0</td>\n      <td>1</td>\n      <td>0</td>\n    </tr>\n    <tr>\n      <th>1357</th>\n      <td>3</td>\n      <td>22</td>\n      <td>2009</td>\n      <td>2</td>\n      <td>1</td>\n      <td>15</td>\n      <td>1</td>\n      <td>0</td>\n      <td>0</td>\n      <td>0</td>\n      <td>...</td>\n      <td>0</td>\n      <td>0</td>\n      <td>0</td>\n      <td>0</td>\n      <td>0</td>\n      <td>0</td>\n      <td>0</td>\n      <td>0</td>\n      <td>0</td>\n      <td>0</td>\n    </tr>\n    <tr>\n      <th>1358</th>\n      <td>3</td>\n      <td>22</td>\n      <td>2009</td>\n      <td>2</td>\n      <td>2</td>\n      <td>15</td>\n      <td>1</td>\n      <td>3</td>\n      <td>0</td>\n      <td>0</td>\n      <td>...</td>\n      <td>0</td>\n      <td>0</td>\n      <td>0</td>\n      <td>0</td>\n      <td>0</td>\n      <td>0</td>\n      <td>0</td>\n      <td>0</td>\n      <td>0</td>\n      <td>0</td>\n    </tr>\n  </tbody>\n</table>\n<p>1312 rows × 2590 columns</p>\n</div>"
     },
     "execution_count": 1378,
     "metadata": {},
     "output_type": "execute_result"
    }
   ],
   "source": [
    "df"
   ],
   "metadata": {
    "collapsed": false,
    "pycharm": {
     "name": "#%%\n"
    }
   }
  },
  {
   "cell_type": "markdown",
   "source": [
    "# Data normalization"
   ],
   "metadata": {
    "collapsed": false,
    "pycharm": {
     "name": "#%% md\n"
    }
   }
  },
  {
   "cell_type": "code",
   "execution_count": 1379,
   "outputs": [],
   "source": [
    "# todo"
   ],
   "metadata": {
    "collapsed": false,
    "pycharm": {
     "name": "#%%\n"
    }
   }
  },
  {
   "cell_type": "code",
   "execution_count": 1380,
   "outputs": [],
   "source": [
    "df.to_csv(\"train.csv\", index=False)"
   ],
   "metadata": {
    "collapsed": false,
    "pycharm": {
     "name": "#%%\n"
    }
   }
  }
 ],
 "metadata": {
  "kernelspec": {
   "display_name": "Python 3",
   "language": "python",
   "name": "python3"
  },
  "language_info": {
   "codemirror_mode": {
    "name": "ipython",
    "version": 2
   },
   "file_extension": ".py",
   "mimetype": "text/x-python",
   "name": "python",
   "nbconvert_exporter": "python",
   "pygments_lexer": "ipython2",
   "version": "2.7.6"
  }
 },
 "nbformat": 4,
 "nbformat_minor": 0
}